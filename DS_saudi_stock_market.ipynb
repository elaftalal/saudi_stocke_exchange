{
 "cells": [
  {
   "cell_type": "markdown",
   "id": "b5wfWnPnP8pH",
   "metadata": {
    "id": "b5wfWnPnP8pH"
   },
   "source": [
    "# ***Predicting Stock Prices with Linear Regression ***"
   ]
  },
  {
   "cell_type": "markdown",
   "id": "itgVcWmTQIcK",
   "metadata": {
    "id": "itgVcWmTQIcK"
   },
   "source": [
    "### Stock market forecasting is an attractive application of linear regression. Modern machine learning packages like **scikit**-**learn** make implementing these analyses possible in a few lines of code."
   ]
  },
  {
   "cell_type": "markdown",
   "id": "tL7RuPxdVmmT",
   "metadata": {
    "id": "tL7RuPxdVmmT"
   },
   "source": [
    "# **Step 1: Importing libraries**"
   ]
  },
  {
   "cell_type": "code",
   "execution_count": 162,
   "id": "971f285c",
   "metadata": {
    "id": "971f285c"
   },
   "outputs": [],
   "source": [
    "import numpy as np\n",
    "import pandas as pd\n",
    "import matplotlib.pyplot as plt\n",
    "import seaborn as sns\n",
    "from sklearn.linear_model import LinearRegression\n",
    "from sklearn.tree import DecisionTreeRegressor\n",
    "from sklearn.metrics import mean_squared_error\n",
    "from math import sqrt\n",
    "from datetime import datetime\n",
    "from sklearn.preprocessing import MinMaxScaler\n",
    "from sklearn.model_selection import train_test_split\n",
    "\n",
    "\n",
    "\n",
    "%config InlineBackend.figure_format = 'svg'\n",
    "%matplotlib inline "
   ]
  },
  {
   "cell_type": "markdown",
   "id": "-tEgIJJ3sTqi",
   "metadata": {
    "id": "-tEgIJJ3sTqi"
   },
   "source": [
    "## **Step 2: Read in and Explore the data**"
   ]
  },
  {
   "cell_type": "code",
   "execution_count": null,
   "id": "fa77b814",
   "metadata": {
    "id": "fa77b814"
   },
   "outputs": [],
   "source": [
    "## Read in the Tarin_data set\n",
    "stock_train = pd.read_csv('Tadawul_stcks.csv')\n",
    "stock_train"
   ]
  },
  {
   "cell_type": "code",
   "execution_count": null,
   "id": "0mW1yhscBhro",
   "metadata": {
    "id": "0mW1yhscBhro"
   },
   "outputs": [],
   "source": [
    "## Read in the Test_data set\n",
    "stock_test = pd.read_csv('Tadawul_stcks_23_4.csv')\n",
    "stock_test"
   ]
  },
  {
   "cell_type": "code",
   "execution_count": null,
   "id": "0bfd7999",
   "metadata": {
    "id": "0bfd7999"
   },
   "outputs": [],
   "source": [
    "## Get information of train_Data\n",
    "stock_train.info()"
   ]
  },
  {
   "cell_type": "code",
   "execution_count": null,
   "id": "g9X7S41Vm2DK",
   "metadata": {
    "id": "g9X7S41Vm2DK"
   },
   "outputs": [],
   "source": [
    "## Get information of test_Data\n",
    "stock_test.info()"
   ]
  },
  {
   "cell_type": "code",
   "execution_count": null,
   "id": "XQtflN_7njdN",
   "metadata": {
    "id": "XQtflN_7njdN"
   },
   "outputs": [],
   "source": [
    "stock_train.shape"
   ]
  },
  {
   "cell_type": "code",
   "execution_count": null,
   "id": "jNgOAc53nuCk",
   "metadata": {
    "id": "jNgOAc53nuCk"
   },
   "outputs": [],
   "source": [
    "stock_test.shape"
   ]
  },
  {
   "cell_type": "code",
   "execution_count": 81,
   "id": "DiM-DgP_WB-J",
   "metadata": {
    "colab": {
     "base_uri": "https://localhost:8080/",
     "height": 206
    },
    "id": "DiM-DgP_WB-J",
    "outputId": "9110fe93-f0a5-41e6-89db-96a96a75f362"
   },
   "outputs": [
    {
     "data": {
      "text/html": [
       "<div>\n",
       "<style scoped>\n",
       "    .dataframe tbody tr th:only-of-type {\n",
       "        vertical-align: middle;\n",
       "    }\n",
       "\n",
       "    .dataframe tbody tr th {\n",
       "        vertical-align: top;\n",
       "    }\n",
       "\n",
       "    .dataframe thead th {\n",
       "        text-align: right;\n",
       "    }\n",
       "</style>\n",
       "<table border=\"1\" class=\"dataframe\">\n",
       "  <thead>\n",
       "    <tr style=\"text-align: right;\">\n",
       "      <th></th>\n",
       "      <th>symbol</th>\n",
       "      <th>name</th>\n",
       "      <th>trading_name</th>\n",
       "      <th>sectoer</th>\n",
       "      <th>open</th>\n",
       "      <th>high</th>\n",
       "      <th>low</th>\n",
       "      <th>close</th>\n",
       "      <th>change</th>\n",
       "      <th>perc_Change</th>\n",
       "      <th>volume_traded</th>\n",
       "      <th>value_traded</th>\n",
       "      <th>no_trades</th>\n",
       "      <th>year</th>\n",
       "      <th>year_date</th>\n",
       "    </tr>\n",
       "  </thead>\n",
       "  <tbody>\n",
       "    <tr>\n",
       "      <th>0</th>\n",
       "      <td>2030</td>\n",
       "      <td>Saudi Arabia Refineries Co.</td>\n",
       "      <td>SARCO</td>\n",
       "      <td>Energy</td>\n",
       "      <td>35.55</td>\n",
       "      <td>35.85</td>\n",
       "      <td>34.90</td>\n",
       "      <td>34.90</td>\n",
       "      <td>-0.40</td>\n",
       "      <td>-1.13</td>\n",
       "      <td>436609.0</td>\n",
       "      <td>15399073.50</td>\n",
       "      <td>804.0</td>\n",
       "      <td>2020</td>\n",
       "      <td>2020</td>\n",
       "    </tr>\n",
       "    <tr>\n",
       "      <th>1</th>\n",
       "      <td>2030</td>\n",
       "      <td>Saudi Arabia Refineries Co.</td>\n",
       "      <td>SARCO</td>\n",
       "      <td>Energy</td>\n",
       "      <td>34.70</td>\n",
       "      <td>35.65</td>\n",
       "      <td>34.50</td>\n",
       "      <td>35.30</td>\n",
       "      <td>0.25</td>\n",
       "      <td>0.71</td>\n",
       "      <td>737624.0</td>\n",
       "      <td>25981391.35</td>\n",
       "      <td>1268.0</td>\n",
       "      <td>2020</td>\n",
       "      <td>2020</td>\n",
       "    </tr>\n",
       "    <tr>\n",
       "      <th>2</th>\n",
       "      <td>2030</td>\n",
       "      <td>Saudi Arabia Refineries Co.</td>\n",
       "      <td>SARCO</td>\n",
       "      <td>Energy</td>\n",
       "      <td>34.70</td>\n",
       "      <td>35.15</td>\n",
       "      <td>34.70</td>\n",
       "      <td>35.05</td>\n",
       "      <td>1.05</td>\n",
       "      <td>3.09</td>\n",
       "      <td>489831.0</td>\n",
       "      <td>17116413.40</td>\n",
       "      <td>854.0</td>\n",
       "      <td>2020</td>\n",
       "      <td>2020</td>\n",
       "    </tr>\n",
       "    <tr>\n",
       "      <th>3</th>\n",
       "      <td>2030</td>\n",
       "      <td>Saudi Arabia Refineries Co.</td>\n",
       "      <td>SARCO</td>\n",
       "      <td>Energy</td>\n",
       "      <td>35.20</td>\n",
       "      <td>35.65</td>\n",
       "      <td>34.00</td>\n",
       "      <td>34.00</td>\n",
       "      <td>-0.55</td>\n",
       "      <td>-1.59</td>\n",
       "      <td>736157.0</td>\n",
       "      <td>25858700.60</td>\n",
       "      <td>1242.0</td>\n",
       "      <td>2020</td>\n",
       "      <td>2020</td>\n",
       "    </tr>\n",
       "    <tr>\n",
       "      <th>4</th>\n",
       "      <td>2030</td>\n",
       "      <td>Saudi Arabia Refineries Co.</td>\n",
       "      <td>SARCO</td>\n",
       "      <td>Energy</td>\n",
       "      <td>35.35</td>\n",
       "      <td>35.60</td>\n",
       "      <td>34.25</td>\n",
       "      <td>34.55</td>\n",
       "      <td>-2.05</td>\n",
       "      <td>-5.60</td>\n",
       "      <td>738685.0</td>\n",
       "      <td>25747967.55</td>\n",
       "      <td>383.0</td>\n",
       "      <td>2020</td>\n",
       "      <td>2020</td>\n",
       "    </tr>\n",
       "  </tbody>\n",
       "</table>\n",
       "</div>"
      ],
      "text/plain": [
       "   symbol                         name trading_name  ... no_trades  year  year_date\n",
       "0    2030  Saudi Arabia Refineries Co.        SARCO  ...     804.0  2020       2020\n",
       "1    2030  Saudi Arabia Refineries Co.        SARCO  ...    1268.0  2020       2020\n",
       "2    2030  Saudi Arabia Refineries Co.        SARCO  ...     854.0  2020       2020\n",
       "3    2030  Saudi Arabia Refineries Co.        SARCO  ...    1242.0  2020       2020\n",
       "4    2030  Saudi Arabia Refineries Co.        SARCO  ...     383.0  2020       2020\n",
       "\n",
       "[5 rows x 15 columns]"
      ]
     },
     "execution_count": 81,
     "metadata": {},
     "output_type": "execute_result"
    }
   ],
   "source": [
    "## Represent first Five rows in train_data\n",
    "stock_train.head()"
   ]
  },
  {
   "cell_type": "code",
   "execution_count": null,
   "id": "yuaWQKYrWLFe",
   "metadata": {
    "id": "yuaWQKYrWLFe"
   },
   "outputs": [],
   "source": [
    "## Represent first Five rows in test_data\n",
    "stock_test.head()"
   ]
  },
  {
   "cell_type": "code",
   "execution_count": 50,
   "id": "nx6tZkNiXc4N",
   "metadata": {
    "colab": {
     "base_uri": "https://localhost:8080/"
    },
    "id": "nx6tZkNiXc4N",
    "outputId": "9022a9cf-db78-41ae-89da-c1f97780d5df"
   },
   "outputs": [
    {
     "data": {
      "text/plain": [
       "12"
      ]
     },
     "execution_count": 50,
     "metadata": {},
     "output_type": "execute_result"
    }
   ],
   "source": [
    "#Find the duplicates\n",
    "stock_train.duplicated().sum()"
   ]
  },
  {
   "cell_type": "code",
   "execution_count": null,
   "id": "LDArFSy6YXlH",
   "metadata": {
    "id": "LDArFSy6YXlH"
   },
   "outputs": [],
   "source": [
    "# Extract duplicate rows\n",
    "stock_train.loc[stock_train.duplicated(), :]"
   ]
  },
  {
   "cell_type": "code",
   "execution_count": null,
   "id": "5CPdXMu8clRC",
   "metadata": {
    "id": "5CPdXMu8clRC"
   },
   "outputs": [],
   "source": [
    "# Use keep='last' to keep the last occurrence and drop other duplicates.\n",
    "stock_train.drop_duplicates(keep='last')"
   ]
  },
  {
   "cell_type": "code",
   "execution_count": 60,
   "id": "2Y7HUJo-ZefO",
   "metadata": {
    "id": "2Y7HUJo-ZefO"
   },
   "outputs": [],
   "source": [
    "# Remove duplicate rows\n",
    "stock_train.drop_duplicates(inplace=True)"
   ]
  },
  {
   "cell_type": "markdown",
   "id": "KufG82PhWec0",
   "metadata": {
    "id": "KufG82PhWec0"
   },
   "source": [
    "# **Step 3: Descriptive Statistics**"
   ]
  },
  {
   "cell_type": "code",
   "execution_count": null,
   "id": "180b56be",
   "metadata": {
    "id": "180b56be"
   },
   "outputs": [],
   "source": [
    "# descriptive statistic parameters for the dataset to see the number of null values, datatypes, and memory usage\n",
    "stock_train.describe()"
   ]
  },
  {
   "cell_type": "markdown",
   "id": "I7TYOng1r0rS",
   "metadata": {
    "id": "I7TYOng1r0rS"
   },
   "source": [
    "."
   ]
  },
  {
   "cell_type": "markdown",
   "id": "X9TDzutVuMHC",
   "metadata": {
    "id": "X9TDzutVuMHC"
   },
   "source": [
    "# **Step 4: Prepare the data (Cleaning)**"
   ]
  },
  {
   "cell_type": "markdown",
   "id": "ipT3rICNkBWl",
   "metadata": {
    "id": "ipT3rICNkBWl"
   },
   "source": [
    "### **Missing value imputation**\n",
    "\n",
    "\n",
    "### We will now check for missing values in our dataset. In case there are any missing entries, we will impute them with appropriate values (mode in case of categorical feature, and median or mean in case of numerical feature). We will use the isnull() function for this purpose."
   ]
  },
  {
   "cell_type": "code",
   "execution_count": null,
   "id": "sCb9f8FlXpbI",
   "metadata": {
    "id": "sCb9f8FlXpbI"
   },
   "outputs": [],
   "source": [
    "stock_train.isnull().sum()"
   ]
  },
  {
   "cell_type": "code",
   "execution_count": 45,
   "id": "6af5e082",
   "metadata": {
    "id": "6af5e082"
   },
   "outputs": [],
   "source": [
    "stock_train.dropna(inplace = True)\n",
    "stock_test.dropna(inplace = True)"
   ]
  },
  {
   "cell_type": "code",
   "execution_count": null,
   "id": "7a1c80bc",
   "metadata": {
    "id": "7a1c80bc"
   },
   "outputs": [],
   "source": [
    "stock_train.open[stock_train.open>47.0]= stock_train.open.median()"
   ]
  },
  {
   "cell_type": "code",
   "execution_count": null,
   "id": "eee45063",
   "metadata": {
    "id": "eee45063"
   },
   "outputs": [],
   "source": [
    "stock_train.describe()"
   ]
  },
  {
   "cell_type": "code",
   "execution_count": 17,
   "id": "c2d30605",
   "metadata": {
    "id": "c2d30605"
   },
   "outputs": [],
   "source": [
    "stock_train['date'] =  pd.to_datetime(stock_train['date'])"
   ]
  },
  {
   "cell_type": "code",
   "execution_count": null,
   "id": "ebe12204",
   "metadata": {
    "id": "ebe12204"
   },
   "outputs": [],
   "source": [
    "stock_train.info()"
   ]
  },
  {
   "cell_type": "code",
   "execution_count": 19,
   "id": "e95ecaab",
   "metadata": {
    "id": "e95ecaab"
   },
   "outputs": [],
   "source": [
    "stock_train['year'] = pd. DatetimeIndex(stock_train['date']). year"
   ]
  },
  {
   "cell_type": "code",
   "execution_count": 20,
   "id": "3f44bb36",
   "metadata": {
    "id": "3f44bb36"
   },
   "outputs": [],
   "source": [
    "stock_train['date'] = pd.to_datetime(stock_train['date'])\n",
    "stock_train['year_date'] = stock_train['date'].dt.year\n",
    "\n",
    "stock_test['date'] = pd.to_datetime(stock_test['date'])\n",
    "stock_test['year_date'] = stock_test['date'].dt.year\n",
    "\n",
    "stock_train.drop([ 'date'], axis='columns', inplace=True)\n",
    "stock_test.drop([ 'date'], axis='columns', inplace=True)"
   ]
  },
  {
   "cell_type": "code",
   "execution_count": null,
   "id": "88e1b28d",
   "metadata": {
    "id": "88e1b28d"
   },
   "outputs": [],
   "source": [
    "stock_test.head()"
   ]
  },
  {
   "cell_type": "code",
   "execution_count": null,
   "id": "3c6a84bf",
   "metadata": {
    "id": "3c6a84bf"
   },
   "outputs": [],
   "source": [
    "stock_train.high[stock_train.high>50]= stock_train.high.median()"
   ]
  },
  {
   "cell_type": "code",
   "execution_count": null,
   "id": "236bf0fc",
   "metadata": {
    "id": "236bf0fc"
   },
   "outputs": [],
   "source": [
    "stock_train.low[stock_train.low>47.0]= stock_train.low.median()"
   ]
  },
  {
   "cell_type": "code",
   "execution_count": null,
   "id": "083a37f0",
   "metadata": {
    "id": "083a37f0"
   },
   "outputs": [],
   "source": [
    "stock_train.close[stock_train.close>55]= stock_train.close.median()"
   ]
  },
  {
   "cell_type": "code",
   "execution_count": null,
   "id": "56857cd3",
   "metadata": {
    "id": "56857cd3"
   },
   "outputs": [],
   "source": [
    "stock_train.change[stock_train.change>50]= stock_train.close.median()"
   ]
  },
  {
   "cell_type": "code",
   "execution_count": null,
   "id": "2ad66026",
   "metadata": {
    "id": "2ad66026"
   },
   "outputs": [],
   "source": [
    "stock_train.change[stock_train.change<-50]= stock_train.close.median()"
   ]
  },
  {
   "cell_type": "code",
   "execution_count": null,
   "id": "379d9211",
   "metadata": {
    "id": "379d9211"
   },
   "outputs": [],
   "source": [
    "stock_train.perc_Change[stock_train.perc_Change>99.9]= stock_train.perc_Change.median()\n",
    "stock_train.perc_Change[stock_train.perc_Change<-99.9]= stock_train.perc_Change.median()"
   ]
  },
  {
   "cell_type": "code",
   "execution_count": 28,
   "id": "GE1-3rO_55u1",
   "metadata": {
    "id": "GE1-3rO_55u1"
   },
   "outputs": [],
   "source": [
    "stock_train.columns = stock_train.columns.str.replace(' ', '')"
   ]
  },
  {
   "cell_type": "code",
   "execution_count": null,
   "id": "JPBXPUOf6GI2",
   "metadata": {
    "id": "JPBXPUOf6GI2"
   },
   "outputs": [],
   "source": [
    "stock_train.no_trades[stock_train.no_trades>1500]= stock_train.no_trades.median()"
   ]
  },
  {
   "cell_type": "code",
   "execution_count": null,
   "id": "6197d333",
   "metadata": {
    "id": "6197d333"
   },
   "outputs": [],
   "source": [
    "stock_train.describe()"
   ]
  },
  {
   "cell_type": "code",
   "execution_count": null,
   "id": "f4621c5e",
   "metadata": {
    "id": "f4621c5e"
   },
   "outputs": [],
   "source": [
    "stock_train.hist(edgecolor='red', linewidth=1.2, figsize=(11, 11));"
   ]
  },
  {
   "cell_type": "markdown",
   "id": "c_QZNrh7ruIo",
   "metadata": {
    "id": "c_QZNrh7ruIo"
   },
   "source": [
    "."
   ]
  },
  {
   "cell_type": "markdown",
   "id": "2HQ-N7MLtoPI",
   "metadata": {
    "id": "2HQ-N7MLtoPI"
   },
   "source": [
    "# **Step 5: Data Visualization**"
   ]
  },
  {
   "cell_type": "markdown",
   "id": "JjAz5oYVoOKT",
   "metadata": {
    "id": "JjAz5oYVoOKT"
   },
   "source": [
    "### using Graphical representation to visualize the unique values present in the data. "
   ]
  },
  {
   "cell_type": "code",
   "execution_count": 93,
   "id": "jX9Weqvxu6Qv",
   "metadata": {
    "colab": {
     "base_uri": "https://localhost:8080/",
     "height": 594
    },
    "id": "jX9Weqvxu6Qv",
    "outputId": "0a57390b-4fef-4d5a-86c6-aea1c4924804"
   },
   "outputs": [
    {
     "name": "stderr",
     "output_type": "stream",
     "text": [
      "/usr/local/lib/python3.7/dist-packages/seaborn/_decorators.py:43: FutureWarning: Pass the following variable as a keyword arg: x. From version 0.12, the only valid positional argument will be `data`, and passing other arguments without an explicit keyword will result in an error or misinterpretation.\n",
      "  FutureWarning\n"
     ]
    },
    {
     "data": {
      "image/svg+xml": [
       "<?xml version=\"1.0\" encoding=\"utf-8\" standalone=\"no\"?>\n",
       "<!DOCTYPE svg PUBLIC \"-//W3C//DTD SVG 1.1//EN\"\n",
       "  \"http://www.w3.org/Graphics/SVG/1.1/DTD/svg11.dtd\">\n",
       "<!-- Created with matplotlib (https://matplotlib.org/) -->\n",
       "<svg height=\"386.3125pt\" version=\"1.1\" viewBox=\"0 0 624.890625 386.3125\" width=\"624.890625pt\" xmlns=\"http://www.w3.org/2000/svg\" xmlns:xlink=\"http://www.w3.org/1999/xlink\">\n",
       " <defs>\n",
       "  <style type=\"text/css\">\n",
       "*{stroke-linecap:butt;stroke-linejoin:round;}\n",
       "  </style>\n",
       " </defs>\n",
       " <g id=\"figure_1\">\n",
       "  <g id=\"patch_1\">\n",
       "   <path d=\"M 0 386.3125 \n",
       "L 624.890625 386.3125 \n",
       "L 624.890625 0 \n",
       "L 0 0 \n",
       "z\n",
       "\" style=\"fill:none;\"/>\n",
       "  </g>\n",
       "  <g id=\"axes_1\">\n",
       "   <g id=\"patch_2\">\n",
       "    <path d=\"M 59.690625 348.478125 \n",
       "L 617.690625 348.478125 \n",
       "L 617.690625 22.318125 \n",
       "L 59.690625 22.318125 \n",
       "z\n",
       "\" style=\"fill:#ffffff;\"/>\n",
       "   </g>\n",
       "   <g id=\"patch_3\">\n",
       "    <path clip-path=\"url(#pcbf447d39a)\" d=\"M 62.480625 348.478125 \n",
       "L 84.800625 348.478125 \n",
       "L 84.800625 348.169035 \n",
       "L 62.480625 348.169035 \n",
       "z\n",
       "\" style=\"fill:#ea96a3;\"/>\n",
       "   </g>\n",
       "   <g id=\"patch_4\">\n",
       "    <path clip-path=\"url(#pcbf447d39a)\" d=\"M 90.380625 348.478125 \n",
       "L 112.700625 348.478125 \n",
       "L 112.700625 250.056073 \n",
       "L 90.380625 250.056073 \n",
       "z\n",
       "\" style=\"fill:#e79683;\"/>\n",
       "   </g>\n",
       "   <g id=\"patch_5\">\n",
       "    <path clip-path=\"url(#pcbf447d39a)\" d=\"M 118.280625 348.478125 \n",
       "L 140.600625 348.478125 \n",
       "L 140.600625 234.213582 \n",
       "L 118.280625 234.213582 \n",
       "z\n",
       "\" style=\"fill:#d7944e;\"/>\n",
       "   </g>\n",
       "   <g id=\"patch_6\">\n",
       "    <path clip-path=\"url(#pcbf447d39a)\" d=\"M 146.180625 348.478125 \n",
       "L 168.500625 348.478125 \n",
       "L 168.500625 217.720029 \n",
       "L 146.180625 217.720029 \n",
       "z\n",
       "\" style=\"fill:#bf9a4a;\"/>\n",
       "   </g>\n",
       "   <g id=\"patch_7\">\n",
       "    <path clip-path=\"url(#pcbf447d39a)\" d=\"M 174.080625 348.478125 \n",
       "L 196.400625 348.478125 \n",
       "L 196.400625 210.203231 \n",
       "L 174.080625 210.203231 \n",
       "z\n",
       "\" style=\"fill:#ab9e47;\"/>\n",
       "   </g>\n",
       "   <g id=\"patch_8\">\n",
       "    <path clip-path=\"url(#pcbf447d39a)\" d=\"M 201.980625 348.478125 \n",
       "L 224.300625 348.478125 \n",
       "L 224.300625 216.917711 \n",
       "L 201.980625 216.917711 \n",
       "z\n",
       "\" style=\"fill:#98a246;\"/>\n",
       "   </g>\n",
       "   <g id=\"patch_9\">\n",
       "    <path clip-path=\"url(#pcbf447d39a)\" d=\"M 229.880625 348.478125 \n",
       "L 252.200625 348.478125 \n",
       "L 252.200625 201.811774 \n",
       "L 229.880625 201.811774 \n",
       "z\n",
       "\" style=\"fill:#7fa946;\"/>\n",
       "   </g>\n",
       "   <g id=\"patch_10\">\n",
       "    <path clip-path=\"url(#pcbf447d39a)\" d=\"M 257.780625 348.478125 \n",
       "L 280.100625 348.478125 \n",
       "L 280.100625 162.156224 \n",
       "L 257.780625 162.156224 \n",
       "z\n",
       "\" style=\"fill:#48b052;\"/>\n",
       "   </g>\n",
       "   <g id=\"patch_11\">\n",
       "    <path clip-path=\"url(#pcbf447d39a)\" d=\"M 285.680625 348.478125 \n",
       "L 308.000625 348.478125 \n",
       "L 308.000625 148.424749 \n",
       "L 285.680625 148.424749 \n",
       "z\n",
       "\" style=\"fill:#49ae83;\"/>\n",
       "   </g>\n",
       "   <g id=\"patch_12\">\n",
       "    <path clip-path=\"url(#pcbf447d39a)\" d=\"M 313.580625 348.478125 \n",
       "L 335.900625 348.478125 \n",
       "L 335.900625 129.649194 \n",
       "L 313.580625 129.649194 \n",
       "z\n",
       "\" style=\"fill:#4aad96;\"/>\n",
       "   </g>\n",
       "   <g id=\"patch_13\">\n",
       "    <path clip-path=\"url(#pcbf447d39a)\" d=\"M 341.480625 348.478125 \n",
       "L 363.800625 348.478125 \n",
       "L 363.800625 123.493706 \n",
       "L 341.480625 123.493706 \n",
       "z\n",
       "\" style=\"fill:#4baba4;\"/>\n",
       "   </g>\n",
       "   <g id=\"patch_14\">\n",
       "    <path clip-path=\"url(#pcbf447d39a)\" d=\"M 369.380625 348.478125 \n",
       "L 391.700625 348.478125 \n",
       "L 391.700625 109.70962 \n",
       "L 369.380625 109.70962 \n",
       "z\n",
       "\" style=\"fill:#4dabb2;\"/>\n",
       "   </g>\n",
       "   <g id=\"patch_15\">\n",
       "    <path clip-path=\"url(#pcbf447d39a)\" d=\"M 397.280625 348.478125 \n",
       "L 419.600625 348.478125 \n",
       "L 419.600625 103.199008 \n",
       "L 397.280625 103.199008 \n",
       "z\n",
       "\" style=\"fill:#50acc3;\"/>\n",
       "   </g>\n",
       "   <g id=\"patch_16\">\n",
       "    <path clip-path=\"url(#pcbf447d39a)\" d=\"M 425.180625 348.478125 \n",
       "L 447.500625 348.478125 \n",
       "L 447.500625 94.531343 \n",
       "L 425.180625 94.531343 \n",
       "z\n",
       "\" style=\"fill:#56addb;\"/>\n",
       "   </g>\n",
       "   <g id=\"patch_17\">\n",
       "    <path clip-path=\"url(#pcbf447d39a)\" d=\"M 453.080625 348.478125 \n",
       "L 475.400625 348.478125 \n",
       "L 475.400625 85.396756 \n",
       "L 453.080625 85.396756 \n",
       "z\n",
       "\" style=\"fill:#94aee8;\"/>\n",
       "   </g>\n",
       "   <g id=\"patch_18\">\n",
       "    <path clip-path=\"url(#pcbf447d39a)\" d=\"M 480.980625 348.478125 \n",
       "L 503.300625 348.478125 \n",
       "L 503.300625 80.760411 \n",
       "L 480.980625 80.760411 \n",
       "z\n",
       "\" style=\"fill:#b6a8eb;\"/>\n",
       "   </g>\n",
       "   <g id=\"patch_19\">\n",
       "    <path clip-path=\"url(#pcbf447d39a)\" d=\"M 508.880625 348.478125 \n",
       "L 531.200625 348.478125 \n",
       "L 531.200625 66.239771 \n",
       "L 508.880625 66.239771 \n",
       "z\n",
       "\" style=\"fill:#ce9be9;\"/>\n",
       "   </g>\n",
       "   <g id=\"patch_20\">\n",
       "    <path clip-path=\"url(#pcbf447d39a)\" d=\"M 536.780625 348.478125 \n",
       "L 559.100625 348.478125 \n",
       "L 559.100625 49.989545 \n",
       "L 536.780625 49.989545 \n",
       "z\n",
       "\" style=\"fill:#e689e4;\"/>\n",
       "   </g>\n",
       "   <g id=\"patch_21\">\n",
       "    <path clip-path=\"url(#pcbf447d39a)\" d=\"M 564.680625 348.478125 \n",
       "L 587.000625 348.478125 \n",
       "L 587.000625 37.849554 \n",
       "L 564.680625 37.849554 \n",
       "z\n",
       "\" style=\"fill:#e88fcc;\"/>\n",
       "   </g>\n",
       "   <g id=\"patch_22\">\n",
       "    <path clip-path=\"url(#pcbf447d39a)\" d=\"M 592.580625 348.478125 \n",
       "L 614.900625 348.478125 \n",
       "L 614.900625 288.59364 \n",
       "L 592.580625 288.59364 \n",
       "z\n",
       "\" style=\"fill:#e993b9;\"/>\n",
       "   </g>\n",
       "   <g id=\"matplotlib.axis_1\">\n",
       "    <g id=\"xtick_1\">\n",
       "     <g id=\"line2d_1\">\n",
       "      <defs>\n",
       "       <path d=\"M 0 0 \n",
       "L 0 3.5 \n",
       "\" id=\"m1e6fc6a548\" style=\"stroke:#000000;stroke-width:0.8;\"/>\n",
       "      </defs>\n",
       "      <g>\n",
       "       <use style=\"stroke:#000000;stroke-width:0.8;\" x=\"73.640625\" xlink:href=\"#m1e6fc6a548\" y=\"348.478125\"/>\n",
       "      </g>\n",
       "     </g>\n",
       "     <g id=\"text_1\">\n",
       "      <!-- 2001 -->\n",
       "      <defs>\n",
       "       <path d=\"M 19.1875 8.296875 \n",
       "L 53.609375 8.296875 \n",
       "L 53.609375 0 \n",
       "L 7.328125 0 \n",
       "L 7.328125 8.296875 \n",
       "Q 12.9375 14.109375 22.625 23.890625 \n",
       "Q 32.328125 33.6875 34.8125 36.53125 \n",
       "Q 39.546875 41.84375 41.421875 45.53125 \n",
       "Q 43.3125 49.21875 43.3125 52.78125 \n",
       "Q 43.3125 58.59375 39.234375 62.25 \n",
       "Q 35.15625 65.921875 28.609375 65.921875 \n",
       "Q 23.96875 65.921875 18.8125 64.3125 \n",
       "Q 13.671875 62.703125 7.8125 59.421875 \n",
       "L 7.8125 69.390625 \n",
       "Q 13.765625 71.78125 18.9375 73 \n",
       "Q 24.125 74.21875 28.421875 74.21875 \n",
       "Q 39.75 74.21875 46.484375 68.546875 \n",
       "Q 53.21875 62.890625 53.21875 53.421875 \n",
       "Q 53.21875 48.921875 51.53125 44.890625 \n",
       "Q 49.859375 40.875 45.40625 35.40625 \n",
       "Q 44.1875 33.984375 37.640625 27.21875 \n",
       "Q 31.109375 20.453125 19.1875 8.296875 \n",
       "z\n",
       "\" id=\"DejaVuSans-50\"/>\n",
       "       <path d=\"M 31.78125 66.40625 \n",
       "Q 24.171875 66.40625 20.328125 58.90625 \n",
       "Q 16.5 51.421875 16.5 36.375 \n",
       "Q 16.5 21.390625 20.328125 13.890625 \n",
       "Q 24.171875 6.390625 31.78125 6.390625 \n",
       "Q 39.453125 6.390625 43.28125 13.890625 \n",
       "Q 47.125 21.390625 47.125 36.375 \n",
       "Q 47.125 51.421875 43.28125 58.90625 \n",
       "Q 39.453125 66.40625 31.78125 66.40625 \n",
       "z\n",
       "M 31.78125 74.21875 \n",
       "Q 44.046875 74.21875 50.515625 64.515625 \n",
       "Q 56.984375 54.828125 56.984375 36.375 \n",
       "Q 56.984375 17.96875 50.515625 8.265625 \n",
       "Q 44.046875 -1.421875 31.78125 -1.421875 \n",
       "Q 19.53125 -1.421875 13.0625 8.265625 \n",
       "Q 6.59375 17.96875 6.59375 36.375 \n",
       "Q 6.59375 54.828125 13.0625 64.515625 \n",
       "Q 19.53125 74.21875 31.78125 74.21875 \n",
       "z\n",
       "\" id=\"DejaVuSans-48\"/>\n",
       "       <path d=\"M 12.40625 8.296875 \n",
       "L 28.515625 8.296875 \n",
       "L 28.515625 63.921875 \n",
       "L 10.984375 60.40625 \n",
       "L 10.984375 69.390625 \n",
       "L 28.421875 72.90625 \n",
       "L 38.28125 72.90625 \n",
       "L 38.28125 8.296875 \n",
       "L 54.390625 8.296875 \n",
       "L 54.390625 0 \n",
       "L 12.40625 0 \n",
       "z\n",
       "\" id=\"DejaVuSans-49\"/>\n",
       "      </defs>\n",
       "      <g transform=\"translate(60.915625 363.076562)scale(0.1 -0.1)\">\n",
       "       <use xlink:href=\"#DejaVuSans-50\"/>\n",
       "       <use x=\"63.623047\" xlink:href=\"#DejaVuSans-48\"/>\n",
       "       <use x=\"127.246094\" xlink:href=\"#DejaVuSans-48\"/>\n",
       "       <use x=\"190.869141\" xlink:href=\"#DejaVuSans-49\"/>\n",
       "      </g>\n",
       "     </g>\n",
       "    </g>\n",
       "    <g id=\"xtick_2\">\n",
       "     <g id=\"line2d_2\">\n",
       "      <g>\n",
       "       <use style=\"stroke:#000000;stroke-width:0.8;\" x=\"101.540625\" xlink:href=\"#m1e6fc6a548\" y=\"348.478125\"/>\n",
       "      </g>\n",
       "     </g>\n",
       "     <g id=\"text_2\">\n",
       "      <!-- 2002 -->\n",
       "      <g transform=\"translate(88.815625 363.076562)scale(0.1 -0.1)\">\n",
       "       <use xlink:href=\"#DejaVuSans-50\"/>\n",
       "       <use x=\"63.623047\" xlink:href=\"#DejaVuSans-48\"/>\n",
       "       <use x=\"127.246094\" xlink:href=\"#DejaVuSans-48\"/>\n",
       "       <use x=\"190.869141\" xlink:href=\"#DejaVuSans-50\"/>\n",
       "      </g>\n",
       "     </g>\n",
       "    </g>\n",
       "    <g id=\"xtick_3\">\n",
       "     <g id=\"line2d_3\">\n",
       "      <g>\n",
       "       <use style=\"stroke:#000000;stroke-width:0.8;\" x=\"129.440625\" xlink:href=\"#m1e6fc6a548\" y=\"348.478125\"/>\n",
       "      </g>\n",
       "     </g>\n",
       "     <g id=\"text_3\">\n",
       "      <!-- 2003 -->\n",
       "      <defs>\n",
       "       <path d=\"M 40.578125 39.3125 \n",
       "Q 47.65625 37.796875 51.625 33 \n",
       "Q 55.609375 28.21875 55.609375 21.1875 \n",
       "Q 55.609375 10.40625 48.1875 4.484375 \n",
       "Q 40.765625 -1.421875 27.09375 -1.421875 \n",
       "Q 22.515625 -1.421875 17.65625 -0.515625 \n",
       "Q 12.796875 0.390625 7.625 2.203125 \n",
       "L 7.625 11.71875 \n",
       "Q 11.71875 9.328125 16.59375 8.109375 \n",
       "Q 21.484375 6.890625 26.8125 6.890625 \n",
       "Q 36.078125 6.890625 40.9375 10.546875 \n",
       "Q 45.796875 14.203125 45.796875 21.1875 \n",
       "Q 45.796875 27.640625 41.28125 31.265625 \n",
       "Q 36.765625 34.90625 28.71875 34.90625 \n",
       "L 20.21875 34.90625 \n",
       "L 20.21875 43.015625 \n",
       "L 29.109375 43.015625 \n",
       "Q 36.375 43.015625 40.234375 45.921875 \n",
       "Q 44.09375 48.828125 44.09375 54.296875 \n",
       "Q 44.09375 59.90625 40.109375 62.90625 \n",
       "Q 36.140625 65.921875 28.71875 65.921875 \n",
       "Q 24.65625 65.921875 20.015625 65.03125 \n",
       "Q 15.375 64.15625 9.8125 62.3125 \n",
       "L 9.8125 71.09375 \n",
       "Q 15.4375 72.65625 20.34375 73.4375 \n",
       "Q 25.25 74.21875 29.59375 74.21875 \n",
       "Q 40.828125 74.21875 47.359375 69.109375 \n",
       "Q 53.90625 64.015625 53.90625 55.328125 \n",
       "Q 53.90625 49.265625 50.4375 45.09375 \n",
       "Q 46.96875 40.921875 40.578125 39.3125 \n",
       "z\n",
       "\" id=\"DejaVuSans-51\"/>\n",
       "      </defs>\n",
       "      <g transform=\"translate(116.715625 363.076562)scale(0.1 -0.1)\">\n",
       "       <use xlink:href=\"#DejaVuSans-50\"/>\n",
       "       <use x=\"63.623047\" xlink:href=\"#DejaVuSans-48\"/>\n",
       "       <use x=\"127.246094\" xlink:href=\"#DejaVuSans-48\"/>\n",
       "       <use x=\"190.869141\" xlink:href=\"#DejaVuSans-51\"/>\n",
       "      </g>\n",
       "     </g>\n",
       "    </g>\n",
       "    <g id=\"xtick_4\">\n",
       "     <g id=\"line2d_4\">\n",
       "      <g>\n",
       "       <use style=\"stroke:#000000;stroke-width:0.8;\" x=\"157.340625\" xlink:href=\"#m1e6fc6a548\" y=\"348.478125\"/>\n",
       "      </g>\n",
       "     </g>\n",
       "     <g id=\"text_4\">\n",
       "      <!-- 2004 -->\n",
       "      <defs>\n",
       "       <path d=\"M 37.796875 64.3125 \n",
       "L 12.890625 25.390625 \n",
       "L 37.796875 25.390625 \n",
       "z\n",
       "M 35.203125 72.90625 \n",
       "L 47.609375 72.90625 \n",
       "L 47.609375 25.390625 \n",
       "L 58.015625 25.390625 \n",
       "L 58.015625 17.1875 \n",
       "L 47.609375 17.1875 \n",
       "L 47.609375 0 \n",
       "L 37.796875 0 \n",
       "L 37.796875 17.1875 \n",
       "L 4.890625 17.1875 \n",
       "L 4.890625 26.703125 \n",
       "z\n",
       "\" id=\"DejaVuSans-52\"/>\n",
       "      </defs>\n",
       "      <g transform=\"translate(144.615625 363.076562)scale(0.1 -0.1)\">\n",
       "       <use xlink:href=\"#DejaVuSans-50\"/>\n",
       "       <use x=\"63.623047\" xlink:href=\"#DejaVuSans-48\"/>\n",
       "       <use x=\"127.246094\" xlink:href=\"#DejaVuSans-48\"/>\n",
       "       <use x=\"190.869141\" xlink:href=\"#DejaVuSans-52\"/>\n",
       "      </g>\n",
       "     </g>\n",
       "    </g>\n",
       "    <g id=\"xtick_5\">\n",
       "     <g id=\"line2d_5\">\n",
       "      <g>\n",
       "       <use style=\"stroke:#000000;stroke-width:0.8;\" x=\"185.240625\" xlink:href=\"#m1e6fc6a548\" y=\"348.478125\"/>\n",
       "      </g>\n",
       "     </g>\n",
       "     <g id=\"text_5\">\n",
       "      <!-- 2005 -->\n",
       "      <defs>\n",
       "       <path d=\"M 10.796875 72.90625 \n",
       "L 49.515625 72.90625 \n",
       "L 49.515625 64.59375 \n",
       "L 19.828125 64.59375 \n",
       "L 19.828125 46.734375 \n",
       "Q 21.96875 47.46875 24.109375 47.828125 \n",
       "Q 26.265625 48.1875 28.421875 48.1875 \n",
       "Q 40.625 48.1875 47.75 41.5 \n",
       "Q 54.890625 34.8125 54.890625 23.390625 \n",
       "Q 54.890625 11.625 47.5625 5.09375 \n",
       "Q 40.234375 -1.421875 26.90625 -1.421875 \n",
       "Q 22.3125 -1.421875 17.546875 -0.640625 \n",
       "Q 12.796875 0.140625 7.71875 1.703125 \n",
       "L 7.71875 11.625 \n",
       "Q 12.109375 9.234375 16.796875 8.0625 \n",
       "Q 21.484375 6.890625 26.703125 6.890625 \n",
       "Q 35.15625 6.890625 40.078125 11.328125 \n",
       "Q 45.015625 15.765625 45.015625 23.390625 \n",
       "Q 45.015625 31 40.078125 35.4375 \n",
       "Q 35.15625 39.890625 26.703125 39.890625 \n",
       "Q 22.75 39.890625 18.8125 39.015625 \n",
       "Q 14.890625 38.140625 10.796875 36.28125 \n",
       "z\n",
       "\" id=\"DejaVuSans-53\"/>\n",
       "      </defs>\n",
       "      <g transform=\"translate(172.515625 363.076562)scale(0.1 -0.1)\">\n",
       "       <use xlink:href=\"#DejaVuSans-50\"/>\n",
       "       <use x=\"63.623047\" xlink:href=\"#DejaVuSans-48\"/>\n",
       "       <use x=\"127.246094\" xlink:href=\"#DejaVuSans-48\"/>\n",
       "       <use x=\"190.869141\" xlink:href=\"#DejaVuSans-53\"/>\n",
       "      </g>\n",
       "     </g>\n",
       "    </g>\n",
       "    <g id=\"xtick_6\">\n",
       "     <g id=\"line2d_6\">\n",
       "      <g>\n",
       "       <use style=\"stroke:#000000;stroke-width:0.8;\" x=\"213.140625\" xlink:href=\"#m1e6fc6a548\" y=\"348.478125\"/>\n",
       "      </g>\n",
       "     </g>\n",
       "     <g id=\"text_6\">\n",
       "      <!-- 2006 -->\n",
       "      <defs>\n",
       "       <path d=\"M 33.015625 40.375 \n",
       "Q 26.375 40.375 22.484375 35.828125 \n",
       "Q 18.609375 31.296875 18.609375 23.390625 \n",
       "Q 18.609375 15.53125 22.484375 10.953125 \n",
       "Q 26.375 6.390625 33.015625 6.390625 \n",
       "Q 39.65625 6.390625 43.53125 10.953125 \n",
       "Q 47.40625 15.53125 47.40625 23.390625 \n",
       "Q 47.40625 31.296875 43.53125 35.828125 \n",
       "Q 39.65625 40.375 33.015625 40.375 \n",
       "z\n",
       "M 52.59375 71.296875 \n",
       "L 52.59375 62.3125 \n",
       "Q 48.875 64.0625 45.09375 64.984375 \n",
       "Q 41.3125 65.921875 37.59375 65.921875 \n",
       "Q 27.828125 65.921875 22.671875 59.328125 \n",
       "Q 17.53125 52.734375 16.796875 39.40625 \n",
       "Q 19.671875 43.65625 24.015625 45.921875 \n",
       "Q 28.375 48.1875 33.59375 48.1875 \n",
       "Q 44.578125 48.1875 50.953125 41.515625 \n",
       "Q 57.328125 34.859375 57.328125 23.390625 \n",
       "Q 57.328125 12.15625 50.6875 5.359375 \n",
       "Q 44.046875 -1.421875 33.015625 -1.421875 \n",
       "Q 20.359375 -1.421875 13.671875 8.265625 \n",
       "Q 6.984375 17.96875 6.984375 36.375 \n",
       "Q 6.984375 53.65625 15.1875 63.9375 \n",
       "Q 23.390625 74.21875 37.203125 74.21875 \n",
       "Q 40.921875 74.21875 44.703125 73.484375 \n",
       "Q 48.484375 72.75 52.59375 71.296875 \n",
       "z\n",
       "\" id=\"DejaVuSans-54\"/>\n",
       "      </defs>\n",
       "      <g transform=\"translate(200.415625 363.076562)scale(0.1 -0.1)\">\n",
       "       <use xlink:href=\"#DejaVuSans-50\"/>\n",
       "       <use x=\"63.623047\" xlink:href=\"#DejaVuSans-48\"/>\n",
       "       <use x=\"127.246094\" xlink:href=\"#DejaVuSans-48\"/>\n",
       "       <use x=\"190.869141\" xlink:href=\"#DejaVuSans-54\"/>\n",
       "      </g>\n",
       "     </g>\n",
       "    </g>\n",
       "    <g id=\"xtick_7\">\n",
       "     <g id=\"line2d_7\">\n",
       "      <g>\n",
       "       <use style=\"stroke:#000000;stroke-width:0.8;\" x=\"241.040625\" xlink:href=\"#m1e6fc6a548\" y=\"348.478125\"/>\n",
       "      </g>\n",
       "     </g>\n",
       "     <g id=\"text_7\">\n",
       "      <!-- 2007 -->\n",
       "      <defs>\n",
       "       <path d=\"M 8.203125 72.90625 \n",
       "L 55.078125 72.90625 \n",
       "L 55.078125 68.703125 \n",
       "L 28.609375 0 \n",
       "L 18.3125 0 \n",
       "L 43.21875 64.59375 \n",
       "L 8.203125 64.59375 \n",
       "z\n",
       "\" id=\"DejaVuSans-55\"/>\n",
       "      </defs>\n",
       "      <g transform=\"translate(228.315625 363.076562)scale(0.1 -0.1)\">\n",
       "       <use xlink:href=\"#DejaVuSans-50\"/>\n",
       "       <use x=\"63.623047\" xlink:href=\"#DejaVuSans-48\"/>\n",
       "       <use x=\"127.246094\" xlink:href=\"#DejaVuSans-48\"/>\n",
       "       <use x=\"190.869141\" xlink:href=\"#DejaVuSans-55\"/>\n",
       "      </g>\n",
       "     </g>\n",
       "    </g>\n",
       "    <g id=\"xtick_8\">\n",
       "     <g id=\"line2d_8\">\n",
       "      <g>\n",
       "       <use style=\"stroke:#000000;stroke-width:0.8;\" x=\"268.940625\" xlink:href=\"#m1e6fc6a548\" y=\"348.478125\"/>\n",
       "      </g>\n",
       "     </g>\n",
       "     <g id=\"text_8\">\n",
       "      <!-- 2008 -->\n",
       "      <defs>\n",
       "       <path d=\"M 31.78125 34.625 \n",
       "Q 24.75 34.625 20.71875 30.859375 \n",
       "Q 16.703125 27.09375 16.703125 20.515625 \n",
       "Q 16.703125 13.921875 20.71875 10.15625 \n",
       "Q 24.75 6.390625 31.78125 6.390625 \n",
       "Q 38.8125 6.390625 42.859375 10.171875 \n",
       "Q 46.921875 13.96875 46.921875 20.515625 \n",
       "Q 46.921875 27.09375 42.890625 30.859375 \n",
       "Q 38.875 34.625 31.78125 34.625 \n",
       "z\n",
       "M 21.921875 38.8125 \n",
       "Q 15.578125 40.375 12.03125 44.71875 \n",
       "Q 8.5 49.078125 8.5 55.328125 \n",
       "Q 8.5 64.0625 14.71875 69.140625 \n",
       "Q 20.953125 74.21875 31.78125 74.21875 \n",
       "Q 42.671875 74.21875 48.875 69.140625 \n",
       "Q 55.078125 64.0625 55.078125 55.328125 \n",
       "Q 55.078125 49.078125 51.53125 44.71875 \n",
       "Q 48 40.375 41.703125 38.8125 \n",
       "Q 48.828125 37.15625 52.796875 32.3125 \n",
       "Q 56.78125 27.484375 56.78125 20.515625 \n",
       "Q 56.78125 9.90625 50.3125 4.234375 \n",
       "Q 43.84375 -1.421875 31.78125 -1.421875 \n",
       "Q 19.734375 -1.421875 13.25 4.234375 \n",
       "Q 6.78125 9.90625 6.78125 20.515625 \n",
       "Q 6.78125 27.484375 10.78125 32.3125 \n",
       "Q 14.796875 37.15625 21.921875 38.8125 \n",
       "z\n",
       "M 18.3125 54.390625 \n",
       "Q 18.3125 48.734375 21.84375 45.5625 \n",
       "Q 25.390625 42.390625 31.78125 42.390625 \n",
       "Q 38.140625 42.390625 41.71875 45.5625 \n",
       "Q 45.3125 48.734375 45.3125 54.390625 \n",
       "Q 45.3125 60.0625 41.71875 63.234375 \n",
       "Q 38.140625 66.40625 31.78125 66.40625 \n",
       "Q 25.390625 66.40625 21.84375 63.234375 \n",
       "Q 18.3125 60.0625 18.3125 54.390625 \n",
       "z\n",
       "\" id=\"DejaVuSans-56\"/>\n",
       "      </defs>\n",
       "      <g transform=\"translate(256.215625 363.076562)scale(0.1 -0.1)\">\n",
       "       <use xlink:href=\"#DejaVuSans-50\"/>\n",
       "       <use x=\"63.623047\" xlink:href=\"#DejaVuSans-48\"/>\n",
       "       <use x=\"127.246094\" xlink:href=\"#DejaVuSans-48\"/>\n",
       "       <use x=\"190.869141\" xlink:href=\"#DejaVuSans-56\"/>\n",
       "      </g>\n",
       "     </g>\n",
       "    </g>\n",
       "    <g id=\"xtick_9\">\n",
       "     <g id=\"line2d_9\">\n",
       "      <g>\n",
       "       <use style=\"stroke:#000000;stroke-width:0.8;\" x=\"296.840625\" xlink:href=\"#m1e6fc6a548\" y=\"348.478125\"/>\n",
       "      </g>\n",
       "     </g>\n",
       "     <g id=\"text_9\">\n",
       "      <!-- 2009 -->\n",
       "      <defs>\n",
       "       <path d=\"M 10.984375 1.515625 \n",
       "L 10.984375 10.5 \n",
       "Q 14.703125 8.734375 18.5 7.8125 \n",
       "Q 22.3125 6.890625 25.984375 6.890625 \n",
       "Q 35.75 6.890625 40.890625 13.453125 \n",
       "Q 46.046875 20.015625 46.78125 33.40625 \n",
       "Q 43.953125 29.203125 39.59375 26.953125 \n",
       "Q 35.25 24.703125 29.984375 24.703125 \n",
       "Q 19.046875 24.703125 12.671875 31.3125 \n",
       "Q 6.296875 37.9375 6.296875 49.421875 \n",
       "Q 6.296875 60.640625 12.9375 67.421875 \n",
       "Q 19.578125 74.21875 30.609375 74.21875 \n",
       "Q 43.265625 74.21875 49.921875 64.515625 \n",
       "Q 56.59375 54.828125 56.59375 36.375 \n",
       "Q 56.59375 19.140625 48.40625 8.859375 \n",
       "Q 40.234375 -1.421875 26.421875 -1.421875 \n",
       "Q 22.703125 -1.421875 18.890625 -0.6875 \n",
       "Q 15.09375 0.046875 10.984375 1.515625 \n",
       "z\n",
       "M 30.609375 32.421875 \n",
       "Q 37.25 32.421875 41.125 36.953125 \n",
       "Q 45.015625 41.5 45.015625 49.421875 \n",
       "Q 45.015625 57.28125 41.125 61.84375 \n",
       "Q 37.25 66.40625 30.609375 66.40625 \n",
       "Q 23.96875 66.40625 20.09375 61.84375 \n",
       "Q 16.21875 57.28125 16.21875 49.421875 \n",
       "Q 16.21875 41.5 20.09375 36.953125 \n",
       "Q 23.96875 32.421875 30.609375 32.421875 \n",
       "z\n",
       "\" id=\"DejaVuSans-57\"/>\n",
       "      </defs>\n",
       "      <g transform=\"translate(284.115625 363.076562)scale(0.1 -0.1)\">\n",
       "       <use xlink:href=\"#DejaVuSans-50\"/>\n",
       "       <use x=\"63.623047\" xlink:href=\"#DejaVuSans-48\"/>\n",
       "       <use x=\"127.246094\" xlink:href=\"#DejaVuSans-48\"/>\n",
       "       <use x=\"190.869141\" xlink:href=\"#DejaVuSans-57\"/>\n",
       "      </g>\n",
       "     </g>\n",
       "    </g>\n",
       "    <g id=\"xtick_10\">\n",
       "     <g id=\"line2d_10\">\n",
       "      <g>\n",
       "       <use style=\"stroke:#000000;stroke-width:0.8;\" x=\"324.740625\" xlink:href=\"#m1e6fc6a548\" y=\"348.478125\"/>\n",
       "      </g>\n",
       "     </g>\n",
       "     <g id=\"text_10\">\n",
       "      <!-- 2010 -->\n",
       "      <g transform=\"translate(312.015625 363.076562)scale(0.1 -0.1)\">\n",
       "       <use xlink:href=\"#DejaVuSans-50\"/>\n",
       "       <use x=\"63.623047\" xlink:href=\"#DejaVuSans-48\"/>\n",
       "       <use x=\"127.246094\" xlink:href=\"#DejaVuSans-49\"/>\n",
       "       <use x=\"190.869141\" xlink:href=\"#DejaVuSans-48\"/>\n",
       "      </g>\n",
       "     </g>\n",
       "    </g>\n",
       "    <g id=\"xtick_11\">\n",
       "     <g id=\"line2d_11\">\n",
       "      <g>\n",
       "       <use style=\"stroke:#000000;stroke-width:0.8;\" x=\"352.640625\" xlink:href=\"#m1e6fc6a548\" y=\"348.478125\"/>\n",
       "      </g>\n",
       "     </g>\n",
       "     <g id=\"text_11\">\n",
       "      <!-- 2011 -->\n",
       "      <g transform=\"translate(339.915625 363.076562)scale(0.1 -0.1)\">\n",
       "       <use xlink:href=\"#DejaVuSans-50\"/>\n",
       "       <use x=\"63.623047\" xlink:href=\"#DejaVuSans-48\"/>\n",
       "       <use x=\"127.246094\" xlink:href=\"#DejaVuSans-49\"/>\n",
       "       <use x=\"190.869141\" xlink:href=\"#DejaVuSans-49\"/>\n",
       "      </g>\n",
       "     </g>\n",
       "    </g>\n",
       "    <g id=\"xtick_12\">\n",
       "     <g id=\"line2d_12\">\n",
       "      <g>\n",
       "       <use style=\"stroke:#000000;stroke-width:0.8;\" x=\"380.540625\" xlink:href=\"#m1e6fc6a548\" y=\"348.478125\"/>\n",
       "      </g>\n",
       "     </g>\n",
       "     <g id=\"text_12\">\n",
       "      <!-- 2012 -->\n",
       "      <g transform=\"translate(367.815625 363.076562)scale(0.1 -0.1)\">\n",
       "       <use xlink:href=\"#DejaVuSans-50\"/>\n",
       "       <use x=\"63.623047\" xlink:href=\"#DejaVuSans-48\"/>\n",
       "       <use x=\"127.246094\" xlink:href=\"#DejaVuSans-49\"/>\n",
       "       <use x=\"190.869141\" xlink:href=\"#DejaVuSans-50\"/>\n",
       "      </g>\n",
       "     </g>\n",
       "    </g>\n",
       "    <g id=\"xtick_13\">\n",
       "     <g id=\"line2d_13\">\n",
       "      <g>\n",
       "       <use style=\"stroke:#000000;stroke-width:0.8;\" x=\"408.440625\" xlink:href=\"#m1e6fc6a548\" y=\"348.478125\"/>\n",
       "      </g>\n",
       "     </g>\n",
       "     <g id=\"text_13\">\n",
       "      <!-- 2013 -->\n",
       "      <g transform=\"translate(395.715625 363.076562)scale(0.1 -0.1)\">\n",
       "       <use xlink:href=\"#DejaVuSans-50\"/>\n",
       "       <use x=\"63.623047\" xlink:href=\"#DejaVuSans-48\"/>\n",
       "       <use x=\"127.246094\" xlink:href=\"#DejaVuSans-49\"/>\n",
       "       <use x=\"190.869141\" xlink:href=\"#DejaVuSans-51\"/>\n",
       "      </g>\n",
       "     </g>\n",
       "    </g>\n",
       "    <g id=\"xtick_14\">\n",
       "     <g id=\"line2d_14\">\n",
       "      <g>\n",
       "       <use style=\"stroke:#000000;stroke-width:0.8;\" x=\"436.340625\" xlink:href=\"#m1e6fc6a548\" y=\"348.478125\"/>\n",
       "      </g>\n",
       "     </g>\n",
       "     <g id=\"text_14\">\n",
       "      <!-- 2014 -->\n",
       "      <g transform=\"translate(423.615625 363.076562)scale(0.1 -0.1)\">\n",
       "       <use xlink:href=\"#DejaVuSans-50\"/>\n",
       "       <use x=\"63.623047\" xlink:href=\"#DejaVuSans-48\"/>\n",
       "       <use x=\"127.246094\" xlink:href=\"#DejaVuSans-49\"/>\n",
       "       <use x=\"190.869141\" xlink:href=\"#DejaVuSans-52\"/>\n",
       "      </g>\n",
       "     </g>\n",
       "    </g>\n",
       "    <g id=\"xtick_15\">\n",
       "     <g id=\"line2d_15\">\n",
       "      <g>\n",
       "       <use style=\"stroke:#000000;stroke-width:0.8;\" x=\"464.240625\" xlink:href=\"#m1e6fc6a548\" y=\"348.478125\"/>\n",
       "      </g>\n",
       "     </g>\n",
       "     <g id=\"text_15\">\n",
       "      <!-- 2015 -->\n",
       "      <g transform=\"translate(451.515625 363.076562)scale(0.1 -0.1)\">\n",
       "       <use xlink:href=\"#DejaVuSans-50\"/>\n",
       "       <use x=\"63.623047\" xlink:href=\"#DejaVuSans-48\"/>\n",
       "       <use x=\"127.246094\" xlink:href=\"#DejaVuSans-49\"/>\n",
       "       <use x=\"190.869141\" xlink:href=\"#DejaVuSans-53\"/>\n",
       "      </g>\n",
       "     </g>\n",
       "    </g>\n",
       "    <g id=\"xtick_16\">\n",
       "     <g id=\"line2d_16\">\n",
       "      <g>\n",
       "       <use style=\"stroke:#000000;stroke-width:0.8;\" x=\"492.140625\" xlink:href=\"#m1e6fc6a548\" y=\"348.478125\"/>\n",
       "      </g>\n",
       "     </g>\n",
       "     <g id=\"text_16\">\n",
       "      <!-- 2016 -->\n",
       "      <g transform=\"translate(479.415625 363.076562)scale(0.1 -0.1)\">\n",
       "       <use xlink:href=\"#DejaVuSans-50\"/>\n",
       "       <use x=\"63.623047\" xlink:href=\"#DejaVuSans-48\"/>\n",
       "       <use x=\"127.246094\" xlink:href=\"#DejaVuSans-49\"/>\n",
       "       <use x=\"190.869141\" xlink:href=\"#DejaVuSans-54\"/>\n",
       "      </g>\n",
       "     </g>\n",
       "    </g>\n",
       "    <g id=\"xtick_17\">\n",
       "     <g id=\"line2d_17\">\n",
       "      <g>\n",
       "       <use style=\"stroke:#000000;stroke-width:0.8;\" x=\"520.040625\" xlink:href=\"#m1e6fc6a548\" y=\"348.478125\"/>\n",
       "      </g>\n",
       "     </g>\n",
       "     <g id=\"text_17\">\n",
       "      <!-- 2017 -->\n",
       "      <g transform=\"translate(507.315625 363.076562)scale(0.1 -0.1)\">\n",
       "       <use xlink:href=\"#DejaVuSans-50\"/>\n",
       "       <use x=\"63.623047\" xlink:href=\"#DejaVuSans-48\"/>\n",
       "       <use x=\"127.246094\" xlink:href=\"#DejaVuSans-49\"/>\n",
       "       <use x=\"190.869141\" xlink:href=\"#DejaVuSans-55\"/>\n",
       "      </g>\n",
       "     </g>\n",
       "    </g>\n",
       "    <g id=\"xtick_18\">\n",
       "     <g id=\"line2d_18\">\n",
       "      <g>\n",
       "       <use style=\"stroke:#000000;stroke-width:0.8;\" x=\"547.940625\" xlink:href=\"#m1e6fc6a548\" y=\"348.478125\"/>\n",
       "      </g>\n",
       "     </g>\n",
       "     <g id=\"text_18\">\n",
       "      <!-- 2018 -->\n",
       "      <g transform=\"translate(535.215625 363.076562)scale(0.1 -0.1)\">\n",
       "       <use xlink:href=\"#DejaVuSans-50\"/>\n",
       "       <use x=\"63.623047\" xlink:href=\"#DejaVuSans-48\"/>\n",
       "       <use x=\"127.246094\" xlink:href=\"#DejaVuSans-49\"/>\n",
       "       <use x=\"190.869141\" xlink:href=\"#DejaVuSans-56\"/>\n",
       "      </g>\n",
       "     </g>\n",
       "    </g>\n",
       "    <g id=\"xtick_19\">\n",
       "     <g id=\"line2d_19\">\n",
       "      <g>\n",
       "       <use style=\"stroke:#000000;stroke-width:0.8;\" x=\"575.840625\" xlink:href=\"#m1e6fc6a548\" y=\"348.478125\"/>\n",
       "      </g>\n",
       "     </g>\n",
       "     <g id=\"text_19\">\n",
       "      <!-- 2019 -->\n",
       "      <g transform=\"translate(563.115625 363.076562)scale(0.1 -0.1)\">\n",
       "       <use xlink:href=\"#DejaVuSans-50\"/>\n",
       "       <use x=\"63.623047\" xlink:href=\"#DejaVuSans-48\"/>\n",
       "       <use x=\"127.246094\" xlink:href=\"#DejaVuSans-49\"/>\n",
       "       <use x=\"190.869141\" xlink:href=\"#DejaVuSans-57\"/>\n",
       "      </g>\n",
       "     </g>\n",
       "    </g>\n",
       "    <g id=\"xtick_20\">\n",
       "     <g id=\"line2d_20\">\n",
       "      <g>\n",
       "       <use style=\"stroke:#000000;stroke-width:0.8;\" x=\"603.740625\" xlink:href=\"#m1e6fc6a548\" y=\"348.478125\"/>\n",
       "      </g>\n",
       "     </g>\n",
       "     <g id=\"text_20\">\n",
       "      <!-- 2020 -->\n",
       "      <g transform=\"translate(591.015625 363.076562)scale(0.1 -0.1)\">\n",
       "       <use xlink:href=\"#DejaVuSans-50\"/>\n",
       "       <use x=\"63.623047\" xlink:href=\"#DejaVuSans-48\"/>\n",
       "       <use x=\"127.246094\" xlink:href=\"#DejaVuSans-50\"/>\n",
       "       <use x=\"190.869141\" xlink:href=\"#DejaVuSans-48\"/>\n",
       "      </g>\n",
       "     </g>\n",
       "    </g>\n",
       "    <g id=\"text_21\">\n",
       "     <!-- year_date -->\n",
       "     <defs>\n",
       "      <path d=\"M 32.171875 -5.078125 \n",
       "Q 28.375 -14.84375 24.75 -17.8125 \n",
       "Q 21.140625 -20.796875 15.09375 -20.796875 \n",
       "L 7.90625 -20.796875 \n",
       "L 7.90625 -13.28125 \n",
       "L 13.1875 -13.28125 \n",
       "Q 16.890625 -13.28125 18.9375 -11.515625 \n",
       "Q 21 -9.765625 23.484375 -3.21875 \n",
       "L 25.09375 0.875 \n",
       "L 2.984375 54.6875 \n",
       "L 12.5 54.6875 \n",
       "L 29.59375 11.921875 \n",
       "L 46.6875 54.6875 \n",
       "L 56.203125 54.6875 \n",
       "z\n",
       "\" id=\"DejaVuSans-121\"/>\n",
       "      <path d=\"M 56.203125 29.59375 \n",
       "L 56.203125 25.203125 \n",
       "L 14.890625 25.203125 \n",
       "Q 15.484375 15.921875 20.484375 11.0625 \n",
       "Q 25.484375 6.203125 34.421875 6.203125 \n",
       "Q 39.59375 6.203125 44.453125 7.46875 \n",
       "Q 49.3125 8.734375 54.109375 11.28125 \n",
       "L 54.109375 2.78125 \n",
       "Q 49.265625 0.734375 44.1875 -0.34375 \n",
       "Q 39.109375 -1.421875 33.890625 -1.421875 \n",
       "Q 20.796875 -1.421875 13.15625 6.1875 \n",
       "Q 5.515625 13.8125 5.515625 26.8125 \n",
       "Q 5.515625 40.234375 12.765625 48.109375 \n",
       "Q 20.015625 56 32.328125 56 \n",
       "Q 43.359375 56 49.78125 48.890625 \n",
       "Q 56.203125 41.796875 56.203125 29.59375 \n",
       "z\n",
       "M 47.21875 32.234375 \n",
       "Q 47.125 39.59375 43.09375 43.984375 \n",
       "Q 39.0625 48.390625 32.421875 48.390625 \n",
       "Q 24.90625 48.390625 20.390625 44.140625 \n",
       "Q 15.875 39.890625 15.1875 32.171875 \n",
       "z\n",
       "\" id=\"DejaVuSans-101\"/>\n",
       "      <path d=\"M 34.28125 27.484375 \n",
       "Q 23.390625 27.484375 19.1875 25 \n",
       "Q 14.984375 22.515625 14.984375 16.5 \n",
       "Q 14.984375 11.71875 18.140625 8.90625 \n",
       "Q 21.296875 6.109375 26.703125 6.109375 \n",
       "Q 34.1875 6.109375 38.703125 11.40625 \n",
       "Q 43.21875 16.703125 43.21875 25.484375 \n",
       "L 43.21875 27.484375 \n",
       "z\n",
       "M 52.203125 31.203125 \n",
       "L 52.203125 0 \n",
       "L 43.21875 0 \n",
       "L 43.21875 8.296875 \n",
       "Q 40.140625 3.328125 35.546875 0.953125 \n",
       "Q 30.953125 -1.421875 24.3125 -1.421875 \n",
       "Q 15.921875 -1.421875 10.953125 3.296875 \n",
       "Q 6 8.015625 6 15.921875 \n",
       "Q 6 25.140625 12.171875 29.828125 \n",
       "Q 18.359375 34.515625 30.609375 34.515625 \n",
       "L 43.21875 34.515625 \n",
       "L 43.21875 35.40625 \n",
       "Q 43.21875 41.609375 39.140625 45 \n",
       "Q 35.0625 48.390625 27.6875 48.390625 \n",
       "Q 23 48.390625 18.546875 47.265625 \n",
       "Q 14.109375 46.140625 10.015625 43.890625 \n",
       "L 10.015625 52.203125 \n",
       "Q 14.9375 54.109375 19.578125 55.046875 \n",
       "Q 24.21875 56 28.609375 56 \n",
       "Q 40.484375 56 46.34375 49.84375 \n",
       "Q 52.203125 43.703125 52.203125 31.203125 \n",
       "z\n",
       "\" id=\"DejaVuSans-97\"/>\n",
       "      <path d=\"M 41.109375 46.296875 \n",
       "Q 39.59375 47.171875 37.8125 47.578125 \n",
       "Q 36.03125 48 33.890625 48 \n",
       "Q 26.265625 48 22.1875 43.046875 \n",
       "Q 18.109375 38.09375 18.109375 28.8125 \n",
       "L 18.109375 0 \n",
       "L 9.078125 0 \n",
       "L 9.078125 54.6875 \n",
       "L 18.109375 54.6875 \n",
       "L 18.109375 46.1875 \n",
       "Q 20.953125 51.171875 25.484375 53.578125 \n",
       "Q 30.03125 56 36.53125 56 \n",
       "Q 37.453125 56 38.578125 55.875 \n",
       "Q 39.703125 55.765625 41.0625 55.515625 \n",
       "z\n",
       "\" id=\"DejaVuSans-114\"/>\n",
       "      <path d=\"M 50.984375 -16.609375 \n",
       "L 50.984375 -23.578125 \n",
       "L -0.984375 -23.578125 \n",
       "L -0.984375 -16.609375 \n",
       "z\n",
       "\" id=\"DejaVuSans-95\"/>\n",
       "      <path d=\"M 45.40625 46.390625 \n",
       "L 45.40625 75.984375 \n",
       "L 54.390625 75.984375 \n",
       "L 54.390625 0 \n",
       "L 45.40625 0 \n",
       "L 45.40625 8.203125 \n",
       "Q 42.578125 3.328125 38.25 0.953125 \n",
       "Q 33.9375 -1.421875 27.875 -1.421875 \n",
       "Q 17.96875 -1.421875 11.734375 6.484375 \n",
       "Q 5.515625 14.40625 5.515625 27.296875 \n",
       "Q 5.515625 40.1875 11.734375 48.09375 \n",
       "Q 17.96875 56 27.875 56 \n",
       "Q 33.9375 56 38.25 53.625 \n",
       "Q 42.578125 51.265625 45.40625 46.390625 \n",
       "z\n",
       "M 14.796875 27.296875 \n",
       "Q 14.796875 17.390625 18.875 11.75 \n",
       "Q 22.953125 6.109375 30.078125 6.109375 \n",
       "Q 37.203125 6.109375 41.296875 11.75 \n",
       "Q 45.40625 17.390625 45.40625 27.296875 \n",
       "Q 45.40625 37.203125 41.296875 42.84375 \n",
       "Q 37.203125 48.484375 30.078125 48.484375 \n",
       "Q 22.953125 48.484375 18.875 42.84375 \n",
       "Q 14.796875 37.203125 14.796875 27.296875 \n",
       "z\n",
       "\" id=\"DejaVuSans-100\"/>\n",
       "      <path d=\"M 18.3125 70.21875 \n",
       "L 18.3125 54.6875 \n",
       "L 36.8125 54.6875 \n",
       "L 36.8125 47.703125 \n",
       "L 18.3125 47.703125 \n",
       "L 18.3125 18.015625 \n",
       "Q 18.3125 11.328125 20.140625 9.421875 \n",
       "Q 21.96875 7.515625 27.59375 7.515625 \n",
       "L 36.8125 7.515625 \n",
       "L 36.8125 0 \n",
       "L 27.59375 0 \n",
       "Q 17.1875 0 13.234375 3.875 \n",
       "Q 9.28125 7.765625 9.28125 18.015625 \n",
       "L 9.28125 47.703125 \n",
       "L 2.6875 47.703125 \n",
       "L 2.6875 54.6875 \n",
       "L 9.28125 54.6875 \n",
       "L 9.28125 70.21875 \n",
       "z\n",
       "\" id=\"DejaVuSans-116\"/>\n",
       "     </defs>\n",
       "     <g transform=\"translate(313.760156 376.754687)scale(0.1 -0.1)\">\n",
       "      <use xlink:href=\"#DejaVuSans-121\"/>\n",
       "      <use x=\"59.179688\" xlink:href=\"#DejaVuSans-101\"/>\n",
       "      <use x=\"120.703125\" xlink:href=\"#DejaVuSans-97\"/>\n",
       "      <use x=\"181.982422\" xlink:href=\"#DejaVuSans-114\"/>\n",
       "      <use x=\"223.095703\" xlink:href=\"#DejaVuSans-95\"/>\n",
       "      <use x=\"273.095703\" xlink:href=\"#DejaVuSans-100\"/>\n",
       "      <use x=\"336.572266\" xlink:href=\"#DejaVuSans-97\"/>\n",
       "      <use x=\"397.851562\" xlink:href=\"#DejaVuSans-116\"/>\n",
       "      <use x=\"437.060547\" xlink:href=\"#DejaVuSans-101\"/>\n",
       "     </g>\n",
       "    </g>\n",
       "   </g>\n",
       "   <g id=\"matplotlib.axis_2\">\n",
       "    <g id=\"ytick_1\">\n",
       "     <g id=\"line2d_21\">\n",
       "      <defs>\n",
       "       <path d=\"M 0 0 \n",
       "L -3.5 0 \n",
       "\" id=\"m91e40b49ac\" style=\"stroke:#000000;stroke-width:0.8;\"/>\n",
       "      </defs>\n",
       "      <g>\n",
       "       <use style=\"stroke:#000000;stroke-width:0.8;\" x=\"59.690625\" xlink:href=\"#m91e40b49ac\" y=\"348.478125\"/>\n",
       "      </g>\n",
       "     </g>\n",
       "     <g id=\"text_22\">\n",
       "      <!-- 0 -->\n",
       "      <g transform=\"translate(46.328125 352.277344)scale(0.1 -0.1)\">\n",
       "       <use xlink:href=\"#DejaVuSans-48\"/>\n",
       "      </g>\n",
       "     </g>\n",
       "    </g>\n",
       "    <g id=\"ytick_2\">\n",
       "     <g id=\"line2d_22\">\n",
       "      <g>\n",
       "       <use style=\"stroke:#000000;stroke-width:0.8;\" x=\"59.690625\" xlink:href=\"#m91e40b49ac\" y=\"282.714359\"/>\n",
       "      </g>\n",
       "     </g>\n",
       "     <g id=\"text_23\">\n",
       "      <!-- 10000 -->\n",
       "      <g transform=\"translate(20.878125 286.513578)scale(0.1 -0.1)\">\n",
       "       <use xlink:href=\"#DejaVuSans-49\"/>\n",
       "       <use x=\"63.623047\" xlink:href=\"#DejaVuSans-48\"/>\n",
       "       <use x=\"127.246094\" xlink:href=\"#DejaVuSans-48\"/>\n",
       "       <use x=\"190.869141\" xlink:href=\"#DejaVuSans-48\"/>\n",
       "       <use x=\"254.492188\" xlink:href=\"#DejaVuSans-48\"/>\n",
       "      </g>\n",
       "     </g>\n",
       "    </g>\n",
       "    <g id=\"ytick_3\">\n",
       "     <g id=\"line2d_23\">\n",
       "      <g>\n",
       "       <use style=\"stroke:#000000;stroke-width:0.8;\" x=\"59.690625\" xlink:href=\"#m91e40b49ac\" y=\"216.950593\"/>\n",
       "      </g>\n",
       "     </g>\n",
       "     <g id=\"text_24\">\n",
       "      <!-- 20000 -->\n",
       "      <g transform=\"translate(20.878125 220.749812)scale(0.1 -0.1)\">\n",
       "       <use xlink:href=\"#DejaVuSans-50\"/>\n",
       "       <use x=\"63.623047\" xlink:href=\"#DejaVuSans-48\"/>\n",
       "       <use x=\"127.246094\" xlink:href=\"#DejaVuSans-48\"/>\n",
       "       <use x=\"190.869141\" xlink:href=\"#DejaVuSans-48\"/>\n",
       "       <use x=\"254.492188\" xlink:href=\"#DejaVuSans-48\"/>\n",
       "      </g>\n",
       "     </g>\n",
       "    </g>\n",
       "    <g id=\"ytick_4\">\n",
       "     <g id=\"line2d_24\">\n",
       "      <g>\n",
       "       <use style=\"stroke:#000000;stroke-width:0.8;\" x=\"59.690625\" xlink:href=\"#m91e40b49ac\" y=\"151.186828\"/>\n",
       "      </g>\n",
       "     </g>\n",
       "     <g id=\"text_25\">\n",
       "      <!-- 30000 -->\n",
       "      <g transform=\"translate(20.878125 154.986046)scale(0.1 -0.1)\">\n",
       "       <use xlink:href=\"#DejaVuSans-51\"/>\n",
       "       <use x=\"63.623047\" xlink:href=\"#DejaVuSans-48\"/>\n",
       "       <use x=\"127.246094\" xlink:href=\"#DejaVuSans-48\"/>\n",
       "       <use x=\"190.869141\" xlink:href=\"#DejaVuSans-48\"/>\n",
       "       <use x=\"254.492188\" xlink:href=\"#DejaVuSans-48\"/>\n",
       "      </g>\n",
       "     </g>\n",
       "    </g>\n",
       "    <g id=\"ytick_5\">\n",
       "     <g id=\"line2d_25\">\n",
       "      <g>\n",
       "       <use style=\"stroke:#000000;stroke-width:0.8;\" x=\"59.690625\" xlink:href=\"#m91e40b49ac\" y=\"85.423062\"/>\n",
       "      </g>\n",
       "     </g>\n",
       "     <g id=\"text_26\">\n",
       "      <!-- 40000 -->\n",
       "      <g transform=\"translate(20.878125 89.222281)scale(0.1 -0.1)\">\n",
       "       <use xlink:href=\"#DejaVuSans-52\"/>\n",
       "       <use x=\"63.623047\" xlink:href=\"#DejaVuSans-48\"/>\n",
       "       <use x=\"127.246094\" xlink:href=\"#DejaVuSans-48\"/>\n",
       "       <use x=\"190.869141\" xlink:href=\"#DejaVuSans-48\"/>\n",
       "       <use x=\"254.492188\" xlink:href=\"#DejaVuSans-48\"/>\n",
       "      </g>\n",
       "     </g>\n",
       "    </g>\n",
       "    <g id=\"text_27\">\n",
       "     <!-- count -->\n",
       "     <defs>\n",
       "      <path d=\"M 48.78125 52.59375 \n",
       "L 48.78125 44.1875 \n",
       "Q 44.96875 46.296875 41.140625 47.34375 \n",
       "Q 37.3125 48.390625 33.40625 48.390625 \n",
       "Q 24.65625 48.390625 19.8125 42.84375 \n",
       "Q 14.984375 37.3125 14.984375 27.296875 \n",
       "Q 14.984375 17.28125 19.8125 11.734375 \n",
       "Q 24.65625 6.203125 33.40625 6.203125 \n",
       "Q 37.3125 6.203125 41.140625 7.25 \n",
       "Q 44.96875 8.296875 48.78125 10.40625 \n",
       "L 48.78125 2.09375 \n",
       "Q 45.015625 0.34375 40.984375 -0.53125 \n",
       "Q 36.96875 -1.421875 32.421875 -1.421875 \n",
       "Q 20.0625 -1.421875 12.78125 6.34375 \n",
       "Q 5.515625 14.109375 5.515625 27.296875 \n",
       "Q 5.515625 40.671875 12.859375 48.328125 \n",
       "Q 20.21875 56 33.015625 56 \n",
       "Q 37.15625 56 41.109375 55.140625 \n",
       "Q 45.0625 54.296875 48.78125 52.59375 \n",
       "z\n",
       "\" id=\"DejaVuSans-99\"/>\n",
       "      <path d=\"M 30.609375 48.390625 \n",
       "Q 23.390625 48.390625 19.1875 42.75 \n",
       "Q 14.984375 37.109375 14.984375 27.296875 \n",
       "Q 14.984375 17.484375 19.15625 11.84375 \n",
       "Q 23.34375 6.203125 30.609375 6.203125 \n",
       "Q 37.796875 6.203125 41.984375 11.859375 \n",
       "Q 46.1875 17.53125 46.1875 27.296875 \n",
       "Q 46.1875 37.015625 41.984375 42.703125 \n",
       "Q 37.796875 48.390625 30.609375 48.390625 \n",
       "z\n",
       "M 30.609375 56 \n",
       "Q 42.328125 56 49.015625 48.375 \n",
       "Q 55.71875 40.765625 55.71875 27.296875 \n",
       "Q 55.71875 13.875 49.015625 6.21875 \n",
       "Q 42.328125 -1.421875 30.609375 -1.421875 \n",
       "Q 18.84375 -1.421875 12.171875 6.21875 \n",
       "Q 5.515625 13.875 5.515625 27.296875 \n",
       "Q 5.515625 40.765625 12.171875 48.375 \n",
       "Q 18.84375 56 30.609375 56 \n",
       "z\n",
       "\" id=\"DejaVuSans-111\"/>\n",
       "      <path d=\"M 8.5 21.578125 \n",
       "L 8.5 54.6875 \n",
       "L 17.484375 54.6875 \n",
       "L 17.484375 21.921875 \n",
       "Q 17.484375 14.15625 20.5 10.265625 \n",
       "Q 23.53125 6.390625 29.59375 6.390625 \n",
       "Q 36.859375 6.390625 41.078125 11.03125 \n",
       "Q 45.3125 15.671875 45.3125 23.6875 \n",
       "L 45.3125 54.6875 \n",
       "L 54.296875 54.6875 \n",
       "L 54.296875 0 \n",
       "L 45.3125 0 \n",
       "L 45.3125 8.40625 \n",
       "Q 42.046875 3.421875 37.71875 1 \n",
       "Q 33.40625 -1.421875 27.6875 -1.421875 \n",
       "Q 18.265625 -1.421875 13.375 4.4375 \n",
       "Q 8.5 10.296875 8.5 21.578125 \n",
       "z\n",
       "M 31.109375 56 \n",
       "z\n",
       "\" id=\"DejaVuSans-117\"/>\n",
       "      <path d=\"M 54.890625 33.015625 \n",
       "L 54.890625 0 \n",
       "L 45.90625 0 \n",
       "L 45.90625 32.71875 \n",
       "Q 45.90625 40.484375 42.875 44.328125 \n",
       "Q 39.84375 48.1875 33.796875 48.1875 \n",
       "Q 26.515625 48.1875 22.3125 43.546875 \n",
       "Q 18.109375 38.921875 18.109375 30.90625 \n",
       "L 18.109375 0 \n",
       "L 9.078125 0 \n",
       "L 9.078125 54.6875 \n",
       "L 18.109375 54.6875 \n",
       "L 18.109375 46.1875 \n",
       "Q 21.34375 51.125 25.703125 53.5625 \n",
       "Q 30.078125 56 35.796875 56 \n",
       "Q 45.21875 56 50.046875 50.171875 \n",
       "Q 54.890625 44.34375 54.890625 33.015625 \n",
       "z\n",
       "\" id=\"DejaVuSans-110\"/>\n",
       "     </defs>\n",
       "     <g transform=\"translate(14.798438 199.504375)rotate(-90)scale(0.1 -0.1)\">\n",
       "      <use xlink:href=\"#DejaVuSans-99\"/>\n",
       "      <use x=\"54.980469\" xlink:href=\"#DejaVuSans-111\"/>\n",
       "      <use x=\"116.162109\" xlink:href=\"#DejaVuSans-117\"/>\n",
       "      <use x=\"179.541016\" xlink:href=\"#DejaVuSans-110\"/>\n",
       "      <use x=\"242.919922\" xlink:href=\"#DejaVuSans-116\"/>\n",
       "     </g>\n",
       "    </g>\n",
       "   </g>\n",
       "   <g id=\"patch_23\">\n",
       "    <path d=\"M 59.690625 348.478125 \n",
       "L 59.690625 22.318125 \n",
       "\" style=\"fill:none;stroke:#000000;stroke-linecap:square;stroke-linejoin:miter;stroke-width:0.8;\"/>\n",
       "   </g>\n",
       "   <g id=\"patch_24\">\n",
       "    <path d=\"M 617.690625 348.478125 \n",
       "L 617.690625 22.318125 \n",
       "\" style=\"fill:none;stroke:#000000;stroke-linecap:square;stroke-linejoin:miter;stroke-width:0.8;\"/>\n",
       "   </g>\n",
       "   <g id=\"patch_25\">\n",
       "    <path d=\"M 59.690625 348.478125 \n",
       "L 617.690625 348.478125 \n",
       "\" style=\"fill:none;stroke:#000000;stroke-linecap:square;stroke-linejoin:miter;stroke-width:0.8;\"/>\n",
       "   </g>\n",
       "   <g id=\"patch_26\">\n",
       "    <path d=\"M 59.690625 22.318125 \n",
       "L 617.690625 22.318125 \n",
       "\" style=\"fill:none;stroke:#000000;stroke-linecap:square;stroke-linejoin:miter;stroke-width:0.8;\"/>\n",
       "   </g>\n",
       "   <g id=\"text_28\">\n",
       "    <!-- count of saudi stock exchange per year -->\n",
       "    <defs>\n",
       "     <path id=\"DejaVuSans-32\"/>\n",
       "     <path d=\"M 37.109375 75.984375 \n",
       "L 37.109375 68.5 \n",
       "L 28.515625 68.5 \n",
       "Q 23.6875 68.5 21.796875 66.546875 \n",
       "Q 19.921875 64.59375 19.921875 59.515625 \n",
       "L 19.921875 54.6875 \n",
       "L 34.71875 54.6875 \n",
       "L 34.71875 47.703125 \n",
       "L 19.921875 47.703125 \n",
       "L 19.921875 0 \n",
       "L 10.890625 0 \n",
       "L 10.890625 47.703125 \n",
       "L 2.296875 47.703125 \n",
       "L 2.296875 54.6875 \n",
       "L 10.890625 54.6875 \n",
       "L 10.890625 58.5 \n",
       "Q 10.890625 67.625 15.140625 71.796875 \n",
       "Q 19.390625 75.984375 28.609375 75.984375 \n",
       "z\n",
       "\" id=\"DejaVuSans-102\"/>\n",
       "     <path d=\"M 44.28125 53.078125 \n",
       "L 44.28125 44.578125 \n",
       "Q 40.484375 46.53125 36.375 47.5 \n",
       "Q 32.28125 48.484375 27.875 48.484375 \n",
       "Q 21.1875 48.484375 17.84375 46.4375 \n",
       "Q 14.5 44.390625 14.5 40.28125 \n",
       "Q 14.5 37.15625 16.890625 35.375 \n",
       "Q 19.28125 33.59375 26.515625 31.984375 \n",
       "L 29.59375 31.296875 \n",
       "Q 39.15625 29.25 43.1875 25.515625 \n",
       "Q 47.21875 21.78125 47.21875 15.09375 \n",
       "Q 47.21875 7.46875 41.1875 3.015625 \n",
       "Q 35.15625 -1.421875 24.609375 -1.421875 \n",
       "Q 20.21875 -1.421875 15.453125 -0.5625 \n",
       "Q 10.6875 0.296875 5.421875 2 \n",
       "L 5.421875 11.28125 \n",
       "Q 10.40625 8.6875 15.234375 7.390625 \n",
       "Q 20.0625 6.109375 24.8125 6.109375 \n",
       "Q 31.15625 6.109375 34.5625 8.28125 \n",
       "Q 37.984375 10.453125 37.984375 14.40625 \n",
       "Q 37.984375 18.0625 35.515625 20.015625 \n",
       "Q 33.0625 21.96875 24.703125 23.78125 \n",
       "L 21.578125 24.515625 \n",
       "Q 13.234375 26.265625 9.515625 29.90625 \n",
       "Q 5.8125 33.546875 5.8125 39.890625 \n",
       "Q 5.8125 47.609375 11.28125 51.796875 \n",
       "Q 16.75 56 26.8125 56 \n",
       "Q 31.78125 56 36.171875 55.265625 \n",
       "Q 40.578125 54.546875 44.28125 53.078125 \n",
       "z\n",
       "\" id=\"DejaVuSans-115\"/>\n",
       "     <path d=\"M 9.421875 54.6875 \n",
       "L 18.40625 54.6875 \n",
       "L 18.40625 0 \n",
       "L 9.421875 0 \n",
       "z\n",
       "M 9.421875 75.984375 \n",
       "L 18.40625 75.984375 \n",
       "L 18.40625 64.59375 \n",
       "L 9.421875 64.59375 \n",
       "z\n",
       "\" id=\"DejaVuSans-105\"/>\n",
       "     <path d=\"M 9.078125 75.984375 \n",
       "L 18.109375 75.984375 \n",
       "L 18.109375 31.109375 \n",
       "L 44.921875 54.6875 \n",
       "L 56.390625 54.6875 \n",
       "L 27.390625 29.109375 \n",
       "L 57.625 0 \n",
       "L 45.90625 0 \n",
       "L 18.109375 26.703125 \n",
       "L 18.109375 0 \n",
       "L 9.078125 0 \n",
       "z\n",
       "\" id=\"DejaVuSans-107\"/>\n",
       "     <path d=\"M 54.890625 54.6875 \n",
       "L 35.109375 28.078125 \n",
       "L 55.90625 0 \n",
       "L 45.3125 0 \n",
       "L 29.390625 21.484375 \n",
       "L 13.484375 0 \n",
       "L 2.875 0 \n",
       "L 24.125 28.609375 \n",
       "L 4.6875 54.6875 \n",
       "L 15.28125 54.6875 \n",
       "L 29.78125 35.203125 \n",
       "L 44.28125 54.6875 \n",
       "z\n",
       "\" id=\"DejaVuSans-120\"/>\n",
       "     <path d=\"M 54.890625 33.015625 \n",
       "L 54.890625 0 \n",
       "L 45.90625 0 \n",
       "L 45.90625 32.71875 \n",
       "Q 45.90625 40.484375 42.875 44.328125 \n",
       "Q 39.84375 48.1875 33.796875 48.1875 \n",
       "Q 26.515625 48.1875 22.3125 43.546875 \n",
       "Q 18.109375 38.921875 18.109375 30.90625 \n",
       "L 18.109375 0 \n",
       "L 9.078125 0 \n",
       "L 9.078125 75.984375 \n",
       "L 18.109375 75.984375 \n",
       "L 18.109375 46.1875 \n",
       "Q 21.34375 51.125 25.703125 53.5625 \n",
       "Q 30.078125 56 35.796875 56 \n",
       "Q 45.21875 56 50.046875 50.171875 \n",
       "Q 54.890625 44.34375 54.890625 33.015625 \n",
       "z\n",
       "\" id=\"DejaVuSans-104\"/>\n",
       "     <path d=\"M 45.40625 27.984375 \n",
       "Q 45.40625 37.75 41.375 43.109375 \n",
       "Q 37.359375 48.484375 30.078125 48.484375 \n",
       "Q 22.859375 48.484375 18.828125 43.109375 \n",
       "Q 14.796875 37.75 14.796875 27.984375 \n",
       "Q 14.796875 18.265625 18.828125 12.890625 \n",
       "Q 22.859375 7.515625 30.078125 7.515625 \n",
       "Q 37.359375 7.515625 41.375 12.890625 \n",
       "Q 45.40625 18.265625 45.40625 27.984375 \n",
       "z\n",
       "M 54.390625 6.78125 \n",
       "Q 54.390625 -7.171875 48.1875 -13.984375 \n",
       "Q 42 -20.796875 29.203125 -20.796875 \n",
       "Q 24.46875 -20.796875 20.265625 -20.09375 \n",
       "Q 16.0625 -19.390625 12.109375 -17.921875 \n",
       "L 12.109375 -9.1875 \n",
       "Q 16.0625 -11.328125 19.921875 -12.34375 \n",
       "Q 23.78125 -13.375 27.78125 -13.375 \n",
       "Q 36.625 -13.375 41.015625 -8.765625 \n",
       "Q 45.40625 -4.15625 45.40625 5.171875 \n",
       "L 45.40625 9.625 \n",
       "Q 42.625 4.78125 38.28125 2.390625 \n",
       "Q 33.9375 0 27.875 0 \n",
       "Q 17.828125 0 11.671875 7.65625 \n",
       "Q 5.515625 15.328125 5.515625 27.984375 \n",
       "Q 5.515625 40.671875 11.671875 48.328125 \n",
       "Q 17.828125 56 27.875 56 \n",
       "Q 33.9375 56 38.28125 53.609375 \n",
       "Q 42.625 51.21875 45.40625 46.390625 \n",
       "L 45.40625 54.6875 \n",
       "L 54.390625 54.6875 \n",
       "z\n",
       "\" id=\"DejaVuSans-103\"/>\n",
       "     <path d=\"M 18.109375 8.203125 \n",
       "L 18.109375 -20.796875 \n",
       "L 9.078125 -20.796875 \n",
       "L 9.078125 54.6875 \n",
       "L 18.109375 54.6875 \n",
       "L 18.109375 46.390625 \n",
       "Q 20.953125 51.265625 25.265625 53.625 \n",
       "Q 29.59375 56 35.59375 56 \n",
       "Q 45.5625 56 51.78125 48.09375 \n",
       "Q 58.015625 40.1875 58.015625 27.296875 \n",
       "Q 58.015625 14.40625 51.78125 6.484375 \n",
       "Q 45.5625 -1.421875 35.59375 -1.421875 \n",
       "Q 29.59375 -1.421875 25.265625 0.953125 \n",
       "Q 20.953125 3.328125 18.109375 8.203125 \n",
       "z\n",
       "M 48.6875 27.296875 \n",
       "Q 48.6875 37.203125 44.609375 42.84375 \n",
       "Q 40.53125 48.484375 33.40625 48.484375 \n",
       "Q 26.265625 48.484375 22.1875 42.84375 \n",
       "Q 18.109375 37.203125 18.109375 27.296875 \n",
       "Q 18.109375 17.390625 22.1875 11.75 \n",
       "Q 26.265625 6.109375 33.40625 6.109375 \n",
       "Q 40.53125 6.109375 44.609375 11.75 \n",
       "Q 48.6875 17.390625 48.6875 27.296875 \n",
       "z\n",
       "\" id=\"DejaVuSans-112\"/>\n",
       "    </defs>\n",
       "    <g transform=\"translate(220.065938 16.318125)scale(0.12 -0.12)\">\n",
       "     <use xlink:href=\"#DejaVuSans-99\"/>\n",
       "     <use x=\"54.980469\" xlink:href=\"#DejaVuSans-111\"/>\n",
       "     <use x=\"116.162109\" xlink:href=\"#DejaVuSans-117\"/>\n",
       "     <use x=\"179.541016\" xlink:href=\"#DejaVuSans-110\"/>\n",
       "     <use x=\"242.919922\" xlink:href=\"#DejaVuSans-116\"/>\n",
       "     <use x=\"282.128906\" xlink:href=\"#DejaVuSans-32\"/>\n",
       "     <use x=\"313.916016\" xlink:href=\"#DejaVuSans-111\"/>\n",
       "     <use x=\"375.097656\" xlink:href=\"#DejaVuSans-102\"/>\n",
       "     <use x=\"410.302734\" xlink:href=\"#DejaVuSans-32\"/>\n",
       "     <use x=\"442.089844\" xlink:href=\"#DejaVuSans-115\"/>\n",
       "     <use x=\"494.189453\" xlink:href=\"#DejaVuSans-97\"/>\n",
       "     <use x=\"555.46875\" xlink:href=\"#DejaVuSans-117\"/>\n",
       "     <use x=\"618.847656\" xlink:href=\"#DejaVuSans-100\"/>\n",
       "     <use x=\"682.324219\" xlink:href=\"#DejaVuSans-105\"/>\n",
       "     <use x=\"710.107422\" xlink:href=\"#DejaVuSans-32\"/>\n",
       "     <use x=\"741.894531\" xlink:href=\"#DejaVuSans-115\"/>\n",
       "     <use x=\"793.994141\" xlink:href=\"#DejaVuSans-116\"/>\n",
       "     <use x=\"833.203125\" xlink:href=\"#DejaVuSans-111\"/>\n",
       "     <use x=\"894.384766\" xlink:href=\"#DejaVuSans-99\"/>\n",
       "     <use x=\"949.365234\" xlink:href=\"#DejaVuSans-107\"/>\n",
       "     <use x=\"1007.275391\" xlink:href=\"#DejaVuSans-32\"/>\n",
       "     <use x=\"1039.0625\" xlink:href=\"#DejaVuSans-101\"/>\n",
       "     <use x=\"1098.835938\" xlink:href=\"#DejaVuSans-120\"/>\n",
       "     <use x=\"1156.265625\" xlink:href=\"#DejaVuSans-99\"/>\n",
       "     <use x=\"1211.246094\" xlink:href=\"#DejaVuSans-104\"/>\n",
       "     <use x=\"1274.625\" xlink:href=\"#DejaVuSans-97\"/>\n",
       "     <use x=\"1335.904297\" xlink:href=\"#DejaVuSans-110\"/>\n",
       "     <use x=\"1399.283203\" xlink:href=\"#DejaVuSans-103\"/>\n",
       "     <use x=\"1462.759766\" xlink:href=\"#DejaVuSans-101\"/>\n",
       "     <use x=\"1524.283203\" xlink:href=\"#DejaVuSans-32\"/>\n",
       "     <use x=\"1556.070312\" xlink:href=\"#DejaVuSans-112\"/>\n",
       "     <use x=\"1619.546875\" xlink:href=\"#DejaVuSans-101\"/>\n",
       "     <use x=\"1681.070312\" xlink:href=\"#DejaVuSans-114\"/>\n",
       "     <use x=\"1722.183594\" xlink:href=\"#DejaVuSans-32\"/>\n",
       "     <use x=\"1753.970703\" xlink:href=\"#DejaVuSans-121\"/>\n",
       "     <use x=\"1813.150391\" xlink:href=\"#DejaVuSans-101\"/>\n",
       "     <use x=\"1874.673828\" xlink:href=\"#DejaVuSans-97\"/>\n",
       "     <use x=\"1935.953125\" xlink:href=\"#DejaVuSans-114\"/>\n",
       "    </g>\n",
       "   </g>\n",
       "  </g>\n",
       " </g>\n",
       " <defs>\n",
       "  <clipPath id=\"pcbf447d39a\">\n",
       "   <rect height=\"326.16\" width=\"558\" x=\"59.690625\" y=\"22.318125\"/>\n",
       "  </clipPath>\n",
       " </defs>\n",
       "</svg>\n"
      ],
      "text/plain": [
       "<Figure size 720x432 with 1 Axes>"
      ]
     },
     "metadata": {
      "needs_background": "light"
     },
     "output_type": "display_data"
    }
   ],
   "source": [
    "plt.figure(figsize=(10, 6))\n",
    "plt.title('count of saudi stock exchange per year')\n",
    "sns.countplot(stock_train['year_date']);"
   ]
  },
  {
   "cell_type": "markdown",
   "id": "8516ca90",
   "metadata": {
    "id": "8516ca90"
   },
   "source": [
    "## **1.\tWhich sector is the most profitable?**"
   ]
  },
  {
   "cell_type": "code",
   "execution_count": null,
   "id": "4b7ec575",
   "metadata": {
    "id": "4b7ec575"
   },
   "outputs": [],
   "source": [
    "plt.subplots(figsize=(25,5))\n",
    "plt.title('The most profitable sector', fontsize = 20)\n",
    "sns.barplot(x = 'sectoer',y='close',data=stock_train,palette = sns.color_palette(\"husl\", 11));\n",
    "sns.despine();"
   ]
  },
  {
   "cell_type": "markdown",
   "id": "aaca3fc1",
   "metadata": {
    "id": "aaca3fc1"
   },
   "source": [
    "."
   ]
  },
  {
   "cell_type": "markdown",
   "id": "43c3bbd2",
   "metadata": {
    "id": "43c3bbd2"
   },
   "source": [
    "## **2. What is the most valuable year in the Saudi stock market?**"
   ]
  },
  {
   "cell_type": "code",
   "execution_count": null,
   "id": "2070c407",
   "metadata": {
    "id": "2070c407"
   },
   "outputs": [],
   "source": [
    "a=stock_train.groupby(['year'])[['high']].sum().sort_values('high', ascending=False)\n",
    "a"
   ]
  },
  {
   "cell_type": "code",
   "execution_count": null,
   "id": "0c00dda5",
   "metadata": {
    "id": "0c00dda5"
   },
   "outputs": [],
   "source": [
    "plt.figure(figsize=[12,6]);\n",
    "plt.bar(a.index,a.high);\n",
    "plt.title('the most valuable year in the Saudi stock market',fontsize=30,color='black',family='serif');\n",
    "plt.xlabel('year',fontsize=20,color='black',family='serif');\n",
    "plt.ylabel('high',fontsize=20,color='black',family='serif');"
   ]
  },
  {
   "cell_type": "markdown",
   "id": "0347ae25",
   "metadata": {
    "id": "0347ae25"
   },
   "source": [
    "."
   ]
  },
  {
   "cell_type": "markdown",
   "id": "e9866737",
   "metadata": {
    "id": "e9866737"
   },
   "source": [
    "## **3. What is the lowiest valuable year in the Saudi stock market?**"
   ]
  },
  {
   "cell_type": "code",
   "execution_count": null,
   "id": "ae908838",
   "metadata": {
    "id": "ae908838"
   },
   "outputs": [],
   "source": [
    "b=stock_train.groupby(['year'])[['low']].sum().sort_values('low')\n",
    "b"
   ]
  },
  {
   "cell_type": "code",
   "execution_count": null,
   "id": "2c2182e2",
   "metadata": {
    "id": "2c2182e2"
   },
   "outputs": [],
   "source": [
    "plt.figure(figsize=[12,6]);\n",
    "plt.bar(b.index,b.low);\n",
    "plt.title('the less valuable year in the Saudi stock market',fontsize=30,color='black',family='serif');\n",
    "plt.xlabel('year',fontsize=20,color='black',family='serif');\n",
    "plt.ylabel('low',fontsize=20,color='black',family='serif');"
   ]
  },
  {
   "cell_type": "markdown",
   "id": "ae89513c",
   "metadata": {
    "id": "ae89513c"
   },
   "source": [
    "."
   ]
  },
  {
   "cell_type": "markdown",
   "id": "c8ebc207",
   "metadata": {
    "id": "c8ebc207"
   },
   "source": [
    "## **4. What is the percentage change in the sector,and what is the highest sector?**"
   ]
  },
  {
   "cell_type": "code",
   "execution_count": null,
   "id": "55095840",
   "metadata": {
    "id": "55095840"
   },
   "outputs": [],
   "source": [
    "c=stock_train.groupby(['sectoer'])[['perc_Change']].max().sort_values('perc_Change', ascending=False)\n",
    "c "
   ]
  },
  {
   "cell_type": "code",
   "execution_count": null,
   "id": "1e455864",
   "metadata": {
    "id": "1e455864"
   },
   "outputs": [],
   "source": [
    "plt.figure(figsize=[12,6]);\n",
    "plt.bar(c.index,c.perc_Change);\n",
    "plt.title('percentage change in the sector',fontsize=30,color='black',family='serif');\n",
    "plt.xlabel('sectoer',fontsize=20,color='black',family='serif');\n",
    "plt.ylabel('perc_Change',fontsize=20,color='black',family='serif');\n",
    "plt.xticks(rotation=45)"
   ]
  },
  {
   "cell_type": "markdown",
   "id": "4Eu8fnxeyE-b",
   "metadata": {
    "id": "4Eu8fnxeyE-b"
   },
   "source": [
    "."
   ]
  },
  {
   "cell_type": "markdown",
   "id": "52fq_yP3yGXr",
   "metadata": {
    "id": "52fq_yP3yGXr"
   },
   "source": [
    "."
   ]
  },
  {
   "cell_type": "markdown",
   "id": "tTHDWjTKyPkT",
   "metadata": {
    "id": "tTHDWjTKyPkT"
   },
   "source": [
    "# **Step 6: Correlation Plot**"
   ]
  },
  {
   "cell_type": "code",
   "execution_count": null,
   "id": "FUeduZ6fym0M",
   "metadata": {
    "id": "FUeduZ6fym0M"
   },
   "outputs": [],
   "source": [
    "# Represent the correlation between the features. \n",
    "plt.figure(figsize=(8,8))\n",
    "sns.heatmap(stock_train.corr(), vmax = 1, vmin = -1, cmap = 'twilight', cbar=True, annot=True, square=True, fmt='.2f', annot_kws = {'size': 10});"
   ]
  },
  {
   "cell_type": "markdown",
   "id": "JJOKR_BM0Sc7",
   "metadata": {
    "id": "JJOKR_BM0Sc7"
   },
   "source": [
    "."
   ]
  },
  {
   "cell_type": "markdown",
   "id": "IGLNbMOr0UA0",
   "metadata": {
    "id": "IGLNbMOr0UA0"
   },
   "source": [
    "."
   ]
  },
  {
   "cell_type": "markdown",
   "id": "1-0MPY9e4Rbu",
   "metadata": {
    "id": "1-0MPY9e4Rbu"
   },
   "source": [
    "# **Step 7: Linear Regression**"
   ]
  },
  {
   "cell_type": "markdown",
   "id": "0P9p2K0fjzhl",
   "metadata": {
    "id": "0P9p2K0fjzhl"
   },
   "source": [
    "**7.1 Fit a linear regression model on the train data set**"
   ]
  },
  {
   "cell_type": "code",
   "execution_count": 157,
   "id": "dGyNelUjkTkI",
   "metadata": {
    "id": "dGyNelUjkTkI"
   },
   "outputs": [],
   "source": [
    "#Separate our features from our target\n",
    "\n",
    "x = stock_train.loc[:,['open', 'high', 'low', 'change',]]\n",
    "y = stock_test['close']"
   ]
  },
  {
   "cell_type": "code",
   "execution_count": null,
   "id": "NL2bqTR46z9k",
   "metadata": {
    "id": "NL2bqTR46z9k"
   },
   "outputs": [],
   "source": [
    "x.head()"
   ]
  },
  {
   "cell_type": "code",
   "execution_count": 167,
   "id": "Bj5ioeHtPYJc",
   "metadata": {
    "id": "Bj5ioeHtPYJc"
   },
   "outputs": [],
   "source": [
    "#Create a validation set\n",
    "stock_train, stock_val = train_test_split(stock_train, test_size=0.25, random_state=10)"
   ]
  },
  {
   "cell_type": "code",
   "execution_count": 169,
   "id": "K0_laUyLBZQU",
   "metadata": {
    "colab": {
     "base_uri": "https://localhost:8080/"
    },
    "id": "K0_laUyLBZQU",
    "outputId": "01b36a62-19b8-44e8-9c0d-461b14864278"
   },
   "outputs": [
    {
     "data": {
      "text/plain": [
       "0.8174856906578243"
      ]
     },
     "execution_count": 169,
     "metadata": {},
     "output_type": "execute_result"
    }
   ],
   "source": [
    "# Scor on stock_validation set\n",
    "re.score(stock_val[['open', 'high', 'low', 'change']], stock_val['close'])"
   ]
  },
  {
   "cell_type": "code",
   "execution_count": 127,
   "id": "pPeHIjVwfnS9",
   "metadata": {
    "colab": {
     "base_uri": "https://localhost:8080/"
    },
    "id": "pPeHIjVwfnS9",
    "outputId": "bc32be2c-09c5-4ab1-8175-9e1a2a8eaca4"
   },
   "outputs": [
    {
     "data": {
      "text/plain": [
       "0.9955208715139056"
      ]
     },
     "execution_count": 127,
     "metadata": {},
     "output_type": "execute_result"
    }
   ],
   "source": [
    "# Scor on stock_test set\n",
    "re.score(stock_test[['open','high', 'low', 'change']], stock_test['close'])"
   ]
  },
  {
   "cell_type": "code",
   "execution_count": 168,
   "id": "ijnxIJ1jkhaX",
   "metadata": {
    "colab": {
     "base_uri": "https://localhost:8080/"
    },
    "id": "ijnxIJ1jkhaX",
    "outputId": "c51f241c-06c5-4a4d-ac78-72ac5367ffa4"
   },
   "outputs": [
    {
     "data": {
      "text/plain": [
       "LinearRegression()"
      ]
     },
     "execution_count": 168,
     "metadata": {},
     "output_type": "execute_result"
    }
   ],
   "source": [
    "# Fit a simple linear regression on training set\n",
    "re = LinearRegression()\n",
    "re.fit(stock_train[['open','high', 'low', 'change']], stock_train['close'])"
   ]
  },
  {
   "cell_type": "markdown",
   "id": "ErNcKA9hAl5R",
   "metadata": {
    "id": "ErNcKA9hAl5R"
   },
   "source": [
    "."
   ]
  },
  {
   "cell_type": "markdown",
   "id": "W9mD3d2c8Juw",
   "metadata": {
    "id": "W9mD3d2c8Juw"
   },
   "source": [
    "**7.2 Normalizing the Data**"
   ]
  },
  {
   "cell_type": "code",
   "execution_count": null,
   "id": "aSc3XGhh-K8-",
   "metadata": {
    "id": "aSc3XGhh-K8-"
   },
   "outputs": [],
   "source": [
    "#Scale the data to be between 0 and 1\n",
    "scaler = MinMaxScaler()\n",
    "train_data = train_data.reshape(-1,1)\n",
    "test_data = test_data.reshape(-1,1)"
   ]
  },
  {
   "cell_type": "markdown",
   "id": "Q99HeiijAg2d",
   "metadata": {
    "id": "Q99HeiijAg2d"
   },
   "source": [
    "."
   ]
  },
  {
   "cell_type": "markdown",
   "id": "0a17affc",
   "metadata": {
    "id": "0a17affc"
   },
   "source": [
    "**7.3 Random Forest Model Evaluation**"
   ]
  },
  {
   "cell_type": "code",
   "execution_count": null,
   "id": "1fc01257",
   "metadata": {
    "id": "1fc01257"
   },
   "outputs": [],
   "source": [
    " # Import Decision Tree Classifier\n",
    "dt = DecisionTreeRegressor()\n",
    "dt.fit(stock_train[['open','high', 'low', 'change']], stock_train['close'])"
   ]
  },
  {
   "cell_type": "code",
   "execution_count": null,
   "id": "d98b891e",
   "metadata": {
    "id": "d98b891e"
   },
   "outputs": [],
   "source": [
    "from sklearn.ensemble import RandomForestRegressor\n",
    "rf = RandomForestRegressor()\n",
    "rf.fit(stock_train[['open','high', 'low', 'change']], stock_train['close'])"
   ]
  },
  {
   "cell_type": "code",
   "execution_count": 121,
   "id": "a73a18c6",
   "metadata": {
    "colab": {
     "base_uri": "https://localhost:8080/"
    },
    "id": "a73a18c6",
    "outputId": "d72f18e1-3423-411b-f6dd-e25217c0e59d"
   },
   "outputs": [
    {
     "data": {
      "text/plain": [
       "0.8507894602344145"
      ]
     },
     "execution_count": 121,
     "metadata": {},
     "output_type": "execute_result"
    }
   ],
   "source": [
    "rf.score(stock_train[['open', 'high', 'low', 'change']], stock_train['close'])"
   ]
  },
  {
   "cell_type": "code",
   "execution_count": 124,
   "id": "24a63f56",
   "metadata": {
    "colab": {
     "base_uri": "https://localhost:8080/"
    },
    "id": "24a63f56",
    "outputId": "d4ba2513-4287-471a-a409-646bec1465b9"
   },
   "outputs": [
    {
     "data": {
      "text/plain": [
       "0.8508508818306785"
      ]
     },
     "execution_count": 124,
     "metadata": {},
     "output_type": "execute_result"
    }
   ],
   "source": [
    "dt.score(stock_train[['open', 'high', 'low', 'change']], stock_train['close'])"
   ]
  },
  {
   "cell_type": "code",
   "execution_count": 125,
   "id": "93245968",
   "metadata": {
    "colab": {
     "base_uri": "https://localhost:8080/"
    },
    "id": "93245968",
    "outputId": "3bc22b19-53f2-4227-a5d3-dc70e0ead5ba"
   },
   "outputs": [
    {
     "data": {
      "text/plain": [
       "0.6870672387573805"
      ]
     },
     "execution_count": 125,
     "metadata": {},
     "output_type": "execute_result"
    }
   ],
   "source": [
    "dt.score(stock_test[['open','high', 'low', 'change']], stock_test['close'])"
   ]
  },
  {
   "cell_type": "markdown",
   "id": "-5pqMVjwR0w9",
   "metadata": {
    "id": "-5pqMVjwR0w9"
   },
   "source": [
    "Train and test are close, so no overfitting and no outliers"
   ]
  },
  {
   "cell_type": "markdown",
   "id": "Fe48QcCD61jn",
   "metadata": {
    "id": "Fe48QcCD61jn"
   },
   "source": [
    "**7.4 R-squared**"
   ]
  },
  {
   "cell_type": "code",
   "execution_count": 130,
   "id": "NuwjgEkP1fhx",
   "metadata": {
    "colab": {
     "base_uri": "https://localhost:8080/"
    },
    "id": "NuwjgEkP1fhx",
    "outputId": "6d62205d-2e18-411b-e5e5-59b4413ee8e8"
   },
   "outputs": [
    {
     "data": {
      "text/plain": [
       "(579419,)"
      ]
     },
     "execution_count": 130,
     "metadata": {},
     "output_type": "execute_result"
    }
   ],
   "source": [
    "# Compare the actual y values in the training set with the predicted values\n",
    "actual_train = stock_train['close']\n",
    "predicted_train = re.predict(stock_train[['open','high', 'low', 'change']])\n",
    "predicted_train.shape"
   ]
  },
  {
   "cell_type": "code",
   "execution_count": 131,
   "id": "yab1Ksnf7Eg4",
   "metadata": {
    "colab": {
     "base_uri": "https://localhost:8080/"
    },
    "id": "yab1Ksnf7Eg4",
    "outputId": "55705122-29fb-476a-fd9b-c2c55f037a0d"
   },
   "outputs": [
    {
     "data": {
      "text/plain": [
       "4.752703921760845"
      ]
     },
     "execution_count": 131,
     "metadata": {},
     "output_type": "execute_result"
    }
   ],
   "source": [
    "# Check the RMSE (root mean squared error) on the training data\n",
    "sqrt(mean_squared_error(actual_train, predicted_train))"
   ]
  },
  {
   "cell_type": "code",
   "execution_count": 132,
   "id": "Nyg9vc6B29pT",
   "metadata": {
    "colab": {
     "base_uri": "https://localhost:8080/"
    },
    "id": "Nyg9vc6B29pT",
    "outputId": "489e9cd1-4005-42fc-c3a6-373951cbbebc"
   },
   "outputs": [
    {
     "data": {
      "text/plain": [
       "(6830,)"
      ]
     },
     "execution_count": 132,
     "metadata": {},
     "output_type": "execute_result"
    }
   ],
   "source": [
    "# Compare the actual y values in the test set with the predicted values\n",
    "actual_test = stock_test['close']\n",
    "predicted_test = re.predict(stock_test[['open','high', 'low', 'change']])\n",
    "predicted_test.shape"
   ]
  }
 ],
 "metadata": {
  "colab": {
   "collapsed_sections": [
    "2HQ-N7MLtoPI",
    "1e2b44f3"
   ],
   "name": "Untitled (3) (1.ipynb",
   "provenance": []
  },
  "kernelspec": {
   "display_name": "Python 3",
   "language": "python",
   "name": "python3"
  },
  "language_info": {
   "codemirror_mode": {
    "name": "ipython",
    "version": 3
   },
   "file_extension": ".py",
   "mimetype": "text/x-python",
   "name": "python",
   "nbconvert_exporter": "python",
   "pygments_lexer": "ipython3",
   "version": "3.8.8"
  }
 },
 "nbformat": 4,
 "nbformat_minor": 5
}
