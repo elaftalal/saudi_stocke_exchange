{
 "cells": [
  {
   "cell_type": "markdown",
   "id": "-tEgIJJ3sTqi",
   "metadata": {
    "id": "-tEgIJJ3sTqi"
   },
   "source": [
    "# **Read in and Explore the data**"
   ]
  },
  {
   "cell_type": "code",
   "execution_count": 109,
   "id": "971f285c",
   "metadata": {
    "id": "971f285c"
   },
   "outputs": [],
   "source": [
    "import numpy as np\n",
    "import pandas as pd\n",
    "import matplotlib.pyplot as plt\n",
    "import seaborn as sns\n",
    "from sklearn.linear_model import LinearRegression\n",
    "import patsy\n",
    "from sklearn.metrics import mean_squared_error\n",
    "from math import sqrt\n",
    "from datetime import datetime\n",
    "\n",
    "\n",
    "%config InlineBackend.figure_format = 'svg'\n",
    "%matplotlib inline "
   ]
  },
  {
   "cell_type": "code",
   "execution_count": 110,
   "id": "fa77b814",
   "metadata": {
    "id": "fa77b814"
   },
   "outputs": [
    {
     "data": {
      "text/html": [
       "<div>\n",
       "<style scoped>\n",
       "    .dataframe tbody tr th:only-of-type {\n",
       "        vertical-align: middle;\n",
       "    }\n",
       "\n",
       "    .dataframe tbody tr th {\n",
       "        vertical-align: top;\n",
       "    }\n",
       "\n",
       "    .dataframe thead th {\n",
       "        text-align: right;\n",
       "    }\n",
       "</style>\n",
       "<table border=\"1\" class=\"dataframe\">\n",
       "  <thead>\n",
       "    <tr style=\"text-align: right;\">\n",
       "      <th></th>\n",
       "      <th>symbol</th>\n",
       "      <th>name</th>\n",
       "      <th>trading_name</th>\n",
       "      <th>sectoer</th>\n",
       "      <th>date</th>\n",
       "      <th>open</th>\n",
       "      <th>high</th>\n",
       "      <th>low</th>\n",
       "      <th>close</th>\n",
       "      <th>change</th>\n",
       "      <th>perc_Change</th>\n",
       "      <th>volume_traded</th>\n",
       "      <th>value_traded</th>\n",
       "      <th>no_trades</th>\n",
       "    </tr>\n",
       "  </thead>\n",
       "  <tbody>\n",
       "    <tr>\n",
       "      <th>0</th>\n",
       "      <td>2030</td>\n",
       "      <td>Saudi Arabia Refineries Co.</td>\n",
       "      <td>SARCO</td>\n",
       "      <td>Energy</td>\n",
       "      <td>2020-03-05</td>\n",
       "      <td>35.55</td>\n",
       "      <td>35.85</td>\n",
       "      <td>34.90</td>\n",
       "      <td>34.90</td>\n",
       "      <td>-0.40</td>\n",
       "      <td>-1.13</td>\n",
       "      <td>436609.0</td>\n",
       "      <td>1.539907e+07</td>\n",
       "      <td>804.0</td>\n",
       "    </tr>\n",
       "    <tr>\n",
       "      <th>1</th>\n",
       "      <td>2030</td>\n",
       "      <td>Saudi Arabia Refineries Co.</td>\n",
       "      <td>SARCO</td>\n",
       "      <td>Energy</td>\n",
       "      <td>2020-03-04</td>\n",
       "      <td>34.70</td>\n",
       "      <td>35.65</td>\n",
       "      <td>34.50</td>\n",
       "      <td>35.30</td>\n",
       "      <td>0.25</td>\n",
       "      <td>0.71</td>\n",
       "      <td>737624.0</td>\n",
       "      <td>2.598139e+07</td>\n",
       "      <td>1268.0</td>\n",
       "    </tr>\n",
       "    <tr>\n",
       "      <th>2</th>\n",
       "      <td>2030</td>\n",
       "      <td>Saudi Arabia Refineries Co.</td>\n",
       "      <td>SARCO</td>\n",
       "      <td>Energy</td>\n",
       "      <td>2020-03-03</td>\n",
       "      <td>34.70</td>\n",
       "      <td>35.15</td>\n",
       "      <td>34.70</td>\n",
       "      <td>35.05</td>\n",
       "      <td>1.05</td>\n",
       "      <td>3.09</td>\n",
       "      <td>489831.0</td>\n",
       "      <td>1.711641e+07</td>\n",
       "      <td>854.0</td>\n",
       "    </tr>\n",
       "    <tr>\n",
       "      <th>3</th>\n",
       "      <td>2030</td>\n",
       "      <td>Saudi Arabia Refineries Co.</td>\n",
       "      <td>SARCO</td>\n",
       "      <td>Energy</td>\n",
       "      <td>2020-03-02</td>\n",
       "      <td>35.20</td>\n",
       "      <td>35.65</td>\n",
       "      <td>34.00</td>\n",
       "      <td>34.00</td>\n",
       "      <td>-0.55</td>\n",
       "      <td>-1.59</td>\n",
       "      <td>736157.0</td>\n",
       "      <td>2.585870e+07</td>\n",
       "      <td>1242.0</td>\n",
       "    </tr>\n",
       "    <tr>\n",
       "      <th>4</th>\n",
       "      <td>2030</td>\n",
       "      <td>Saudi Arabia Refineries Co.</td>\n",
       "      <td>SARCO</td>\n",
       "      <td>Energy</td>\n",
       "      <td>2020-03-01</td>\n",
       "      <td>35.35</td>\n",
       "      <td>35.60</td>\n",
       "      <td>34.25</td>\n",
       "      <td>34.55</td>\n",
       "      <td>-2.05</td>\n",
       "      <td>-5.60</td>\n",
       "      <td>738685.0</td>\n",
       "      <td>2.574797e+07</td>\n",
       "      <td>1625.0</td>\n",
       "    </tr>\n",
       "    <tr>\n",
       "      <th>...</th>\n",
       "      <td>...</td>\n",
       "      <td>...</td>\n",
       "      <td>...</td>\n",
       "      <td>...</td>\n",
       "      <td>...</td>\n",
       "      <td>...</td>\n",
       "      <td>...</td>\n",
       "      <td>...</td>\n",
       "      <td>...</td>\n",
       "      <td>...</td>\n",
       "      <td>...</td>\n",
       "      <td>...</td>\n",
       "      <td>...</td>\n",
       "      <td>...</td>\n",
       "    </tr>\n",
       "    <tr>\n",
       "      <th>593814</th>\n",
       "      <td>4321</td>\n",
       "      <td>Arabian Centres Co.</td>\n",
       "      <td>ALMRAKEZ</td>\n",
       "      <td>Real Estate</td>\n",
       "      <td>2019-05-28</td>\n",
       "      <td>22.90</td>\n",
       "      <td>22.90</td>\n",
       "      <td>21.62</td>\n",
       "      <td>22.50</td>\n",
       "      <td>0.00</td>\n",
       "      <td>0.00</td>\n",
       "      <td>1860532.0</td>\n",
       "      <td>4.149566e+07</td>\n",
       "      <td>2023.0</td>\n",
       "    </tr>\n",
       "    <tr>\n",
       "      <th>593815</th>\n",
       "      <td>4321</td>\n",
       "      <td>Arabian Centres Co.</td>\n",
       "      <td>ALMRAKEZ</td>\n",
       "      <td>Real Estate</td>\n",
       "      <td>2019-05-27</td>\n",
       "      <td>23.30</td>\n",
       "      <td>23.32</td>\n",
       "      <td>22.24</td>\n",
       "      <td>22.50</td>\n",
       "      <td>-0.84</td>\n",
       "      <td>-3.60</td>\n",
       "      <td>4905676.0</td>\n",
       "      <td>1.114168e+08</td>\n",
       "      <td>3259.0</td>\n",
       "    </tr>\n",
       "    <tr>\n",
       "      <th>593816</th>\n",
       "      <td>4321</td>\n",
       "      <td>Arabian Centres Co.</td>\n",
       "      <td>ALMRAKEZ</td>\n",
       "      <td>Real Estate</td>\n",
       "      <td>2019-05-26</td>\n",
       "      <td>24.60</td>\n",
       "      <td>24.60</td>\n",
       "      <td>23.30</td>\n",
       "      <td>23.34</td>\n",
       "      <td>-1.16</td>\n",
       "      <td>-4.73</td>\n",
       "      <td>3908215.0</td>\n",
       "      <td>9.269862e+07</td>\n",
       "      <td>2672.0</td>\n",
       "    </tr>\n",
       "    <tr>\n",
       "      <th>593817</th>\n",
       "      <td>4321</td>\n",
       "      <td>Arabian Centres Co.</td>\n",
       "      <td>ALMRAKEZ</td>\n",
       "      <td>Real Estate</td>\n",
       "      <td>2019-05-23</td>\n",
       "      <td>24.80</td>\n",
       "      <td>25.00</td>\n",
       "      <td>24.34</td>\n",
       "      <td>24.50</td>\n",
       "      <td>-0.50</td>\n",
       "      <td>-2.00</td>\n",
       "      <td>4078214.0</td>\n",
       "      <td>1.002221e+08</td>\n",
       "      <td>5571.0</td>\n",
       "    </tr>\n",
       "    <tr>\n",
       "      <th>593818</th>\n",
       "      <td>4321</td>\n",
       "      <td>Arabian Centres Co.</td>\n",
       "      <td>ALMRAKEZ</td>\n",
       "      <td>Real Estate</td>\n",
       "      <td>2019-05-22</td>\n",
       "      <td>26.00</td>\n",
       "      <td>26.10</td>\n",
       "      <td>23.60</td>\n",
       "      <td>25.00</td>\n",
       "      <td>-1.00</td>\n",
       "      <td>-3.85</td>\n",
       "      <td>14220388.0</td>\n",
       "      <td>3.502633e+08</td>\n",
       "      <td>7183.0</td>\n",
       "    </tr>\n",
       "  </tbody>\n",
       "</table>\n",
       "<p>593819 rows × 14 columns</p>\n",
       "</div>"
      ],
      "text/plain": [
       "        symbol                         name trading_name       sectoer  \\\n",
       "0         2030  Saudi Arabia Refineries Co.         SARCO       Energy   \n",
       "1         2030  Saudi Arabia Refineries Co.         SARCO       Energy   \n",
       "2         2030  Saudi Arabia Refineries Co.         SARCO       Energy   \n",
       "3         2030  Saudi Arabia Refineries Co.         SARCO       Energy   \n",
       "4         2030  Saudi Arabia Refineries Co.         SARCO       Energy   \n",
       "...        ...                          ...           ...          ...   \n",
       "593814    4321          Arabian Centres Co.      ALMRAKEZ  Real Estate   \n",
       "593815    4321          Arabian Centres Co.      ALMRAKEZ  Real Estate   \n",
       "593816    4321          Arabian Centres Co.      ALMRAKEZ  Real Estate   \n",
       "593817    4321          Arabian Centres Co.      ALMRAKEZ  Real Estate   \n",
       "593818    4321          Arabian Centres Co.      ALMRAKEZ  Real Estate   \n",
       "\n",
       "              date   open   high    low  close  change  perc_Change  \\\n",
       "0       2020-03-05  35.55  35.85  34.90  34.90   -0.40        -1.13   \n",
       "1       2020-03-04  34.70  35.65  34.50  35.30    0.25         0.71   \n",
       "2       2020-03-03  34.70  35.15  34.70  35.05    1.05         3.09   \n",
       "3       2020-03-02  35.20  35.65  34.00  34.00   -0.55        -1.59   \n",
       "4       2020-03-01  35.35  35.60  34.25  34.55   -2.05        -5.60   \n",
       "...            ...    ...    ...    ...    ...     ...          ...   \n",
       "593814  2019-05-28  22.90  22.90  21.62  22.50    0.00         0.00   \n",
       "593815  2019-05-27  23.30  23.32  22.24  22.50   -0.84        -3.60   \n",
       "593816  2019-05-26  24.60  24.60  23.30  23.34   -1.16        -4.73   \n",
       "593817  2019-05-23  24.80  25.00  24.34  24.50   -0.50        -2.00   \n",
       "593818  2019-05-22  26.00  26.10  23.60  25.00   -1.00        -3.85   \n",
       "\n",
       "        volume_traded   value_traded  no_trades   \n",
       "0             436609.0  1.539907e+07       804.0  \n",
       "1             737624.0  2.598139e+07      1268.0  \n",
       "2             489831.0  1.711641e+07       854.0  \n",
       "3             736157.0  2.585870e+07      1242.0  \n",
       "4             738685.0  2.574797e+07      1625.0  \n",
       "...                ...           ...         ...  \n",
       "593814       1860532.0  4.149566e+07      2023.0  \n",
       "593815       4905676.0  1.114168e+08      3259.0  \n",
       "593816       3908215.0  9.269862e+07      2672.0  \n",
       "593817       4078214.0  1.002221e+08      5571.0  \n",
       "593818      14220388.0  3.502633e+08      7183.0  \n",
       "\n",
       "[593819 rows x 14 columns]"
      ]
     },
     "execution_count": 110,
     "metadata": {},
     "output_type": "execute_result"
    }
   ],
   "source": [
    "## Read in the Tarin_data set\n",
    "stock_train = pd.read_csv('Tadawul_stcks.csv')\n",
    "stock_train"
   ]
  },
  {
   "cell_type": "code",
   "execution_count": 111,
   "id": "0mW1yhscBhro",
   "metadata": {
    "id": "0mW1yhscBhro"
   },
   "outputs": [
    {
     "data": {
      "text/html": [
       "<div>\n",
       "<style scoped>\n",
       "    .dataframe tbody tr th:only-of-type {\n",
       "        vertical-align: middle;\n",
       "    }\n",
       "\n",
       "    .dataframe tbody tr th {\n",
       "        vertical-align: top;\n",
       "    }\n",
       "\n",
       "    .dataframe thead th {\n",
       "        text-align: right;\n",
       "    }\n",
       "</style>\n",
       "<table border=\"1\" class=\"dataframe\">\n",
       "  <thead>\n",
       "    <tr style=\"text-align: right;\">\n",
       "      <th></th>\n",
       "      <th>symbol</th>\n",
       "      <th>name</th>\n",
       "      <th>trading_name</th>\n",
       "      <th>sectoer</th>\n",
       "      <th>date</th>\n",
       "      <th>open</th>\n",
       "      <th>high</th>\n",
       "      <th>low</th>\n",
       "      <th>close</th>\n",
       "      <th>change</th>\n",
       "      <th>perc_Change</th>\n",
       "      <th>volume_traded</th>\n",
       "      <th>value_traded</th>\n",
       "      <th>no_trades</th>\n",
       "    </tr>\n",
       "  </thead>\n",
       "  <tbody>\n",
       "    <tr>\n",
       "      <th>0</th>\n",
       "      <td>2030</td>\n",
       "      <td>Saudi Arabia Refineries Co.</td>\n",
       "      <td>SARCO</td>\n",
       "      <td>Energy</td>\n",
       "      <td>2020-04-23</td>\n",
       "      <td>31.80</td>\n",
       "      <td>31.80</td>\n",
       "      <td>31.45</td>\n",
       "      <td>31.60</td>\n",
       "      <td>0.25</td>\n",
       "      <td>0.80</td>\n",
       "      <td>230790.0</td>\n",
       "      <td>7295880.55</td>\n",
       "      <td>507.0</td>\n",
       "    </tr>\n",
       "    <tr>\n",
       "      <th>1</th>\n",
       "      <td>2030</td>\n",
       "      <td>Saudi Arabia Refineries Co.</td>\n",
       "      <td>SARCO</td>\n",
       "      <td>Energy</td>\n",
       "      <td>2020-04-22</td>\n",
       "      <td>30.50</td>\n",
       "      <td>31.40</td>\n",
       "      <td>30.30</td>\n",
       "      <td>31.35</td>\n",
       "      <td>-0.35</td>\n",
       "      <td>-1.10</td>\n",
       "      <td>422695.0</td>\n",
       "      <td>13113020.10</td>\n",
       "      <td>1015.0</td>\n",
       "    </tr>\n",
       "    <tr>\n",
       "      <th>2</th>\n",
       "      <td>2030</td>\n",
       "      <td>Saudi Arabia Refineries Co.</td>\n",
       "      <td>SARCO</td>\n",
       "      <td>Energy</td>\n",
       "      <td>2020-04-21</td>\n",
       "      <td>31.70</td>\n",
       "      <td>32.30</td>\n",
       "      <td>31.30</td>\n",
       "      <td>31.70</td>\n",
       "      <td>-0.75</td>\n",
       "      <td>-2.31</td>\n",
       "      <td>266845.0</td>\n",
       "      <td>8497563.05</td>\n",
       "      <td>668.0</td>\n",
       "    </tr>\n",
       "    <tr>\n",
       "      <th>3</th>\n",
       "      <td>2030</td>\n",
       "      <td>Saudi Arabia Refineries Co.</td>\n",
       "      <td>SARCO</td>\n",
       "      <td>Energy</td>\n",
       "      <td>2020-04-20</td>\n",
       "      <td>32.70</td>\n",
       "      <td>32.90</td>\n",
       "      <td>32.10</td>\n",
       "      <td>32.45</td>\n",
       "      <td>-0.25</td>\n",
       "      <td>-0.76</td>\n",
       "      <td>254463.0</td>\n",
       "      <td>8271461.45</td>\n",
       "      <td>557.0</td>\n",
       "    </tr>\n",
       "    <tr>\n",
       "      <th>4</th>\n",
       "      <td>2030</td>\n",
       "      <td>Saudi Arabia Refineries Co.</td>\n",
       "      <td>SARCO</td>\n",
       "      <td>Energy</td>\n",
       "      <td>2020-04-19</td>\n",
       "      <td>32.50</td>\n",
       "      <td>32.80</td>\n",
       "      <td>32.45</td>\n",
       "      <td>32.70</td>\n",
       "      <td>0.50</td>\n",
       "      <td>1.55</td>\n",
       "      <td>199425.0</td>\n",
       "      <td>6500652.35</td>\n",
       "      <td>498.0</td>\n",
       "    </tr>\n",
       "    <tr>\n",
       "      <th>...</th>\n",
       "      <td>...</td>\n",
       "      <td>...</td>\n",
       "      <td>...</td>\n",
       "      <td>...</td>\n",
       "      <td>...</td>\n",
       "      <td>...</td>\n",
       "      <td>...</td>\n",
       "      <td>...</td>\n",
       "      <td>...</td>\n",
       "      <td>...</td>\n",
       "      <td>...</td>\n",
       "      <td>...</td>\n",
       "      <td>...</td>\n",
       "      <td>...</td>\n",
       "    </tr>\n",
       "    <tr>\n",
       "      <th>6987</th>\n",
       "      <td>4321</td>\n",
       "      <td>Arabian Centres Co.</td>\n",
       "      <td>ALMRAKEZ</td>\n",
       "      <td>Real Estate</td>\n",
       "      <td>2020-03-12</td>\n",
       "      <td>20.20</td>\n",
       "      <td>21.20</td>\n",
       "      <td>20.16</td>\n",
       "      <td>20.70</td>\n",
       "      <td>-1.70</td>\n",
       "      <td>-7.59</td>\n",
       "      <td>1618746.0</td>\n",
       "      <td>33206311.44</td>\n",
       "      <td>2329.0</td>\n",
       "    </tr>\n",
       "    <tr>\n",
       "      <th>6988</th>\n",
       "      <td>4321</td>\n",
       "      <td>Arabian Centres Co.</td>\n",
       "      <td>ALMRAKEZ</td>\n",
       "      <td>Real Estate</td>\n",
       "      <td>2020-03-11</td>\n",
       "      <td>24.50</td>\n",
       "      <td>24.50</td>\n",
       "      <td>21.60</td>\n",
       "      <td>22.40</td>\n",
       "      <td>-1.60</td>\n",
       "      <td>-6.67</td>\n",
       "      <td>1487872.0</td>\n",
       "      <td>33903289.20</td>\n",
       "      <td>2092.0</td>\n",
       "    </tr>\n",
       "    <tr>\n",
       "      <th>6989</th>\n",
       "      <td>4321</td>\n",
       "      <td>Arabian Centres Co.</td>\n",
       "      <td>ALMRAKEZ</td>\n",
       "      <td>Real Estate</td>\n",
       "      <td>2020-03-10</td>\n",
       "      <td>22.98</td>\n",
       "      <td>24.24</td>\n",
       "      <td>22.68</td>\n",
       "      <td>24.00</td>\n",
       "      <td>1.22</td>\n",
       "      <td>5.36</td>\n",
       "      <td>1877511.0</td>\n",
       "      <td>43740461.26</td>\n",
       "      <td>2359.0</td>\n",
       "    </tr>\n",
       "    <tr>\n",
       "      <th>6990</th>\n",
       "      <td>4321</td>\n",
       "      <td>Arabian Centres Co.</td>\n",
       "      <td>ALMRAKEZ</td>\n",
       "      <td>Real Estate</td>\n",
       "      <td>2020-03-09</td>\n",
       "      <td>22.78</td>\n",
       "      <td>23.18</td>\n",
       "      <td>22.78</td>\n",
       "      <td>22.78</td>\n",
       "      <td>-2.52</td>\n",
       "      <td>-9.96</td>\n",
       "      <td>1041240.0</td>\n",
       "      <td>23747279.76</td>\n",
       "      <td>893.0</td>\n",
       "    </tr>\n",
       "    <tr>\n",
       "      <th>6991</th>\n",
       "      <td>4321</td>\n",
       "      <td>Arabian Centres Co.</td>\n",
       "      <td>ALMRAKEZ</td>\n",
       "      <td>Real Estate</td>\n",
       "      <td>2020-03-08</td>\n",
       "      <td>25.30</td>\n",
       "      <td>25.65</td>\n",
       "      <td>25.30</td>\n",
       "      <td>25.30</td>\n",
       "      <td>-2.80</td>\n",
       "      <td>-9.96</td>\n",
       "      <td>1093053.0</td>\n",
       "      <td>27745024.40</td>\n",
       "      <td>771.0</td>\n",
       "    </tr>\n",
       "  </tbody>\n",
       "</table>\n",
       "<p>6992 rows × 14 columns</p>\n",
       "</div>"
      ],
      "text/plain": [
       "      symbol                         name trading_name       sectoer  \\\n",
       "0       2030  Saudi Arabia Refineries Co.         SARCO       Energy   \n",
       "1       2030  Saudi Arabia Refineries Co.         SARCO       Energy   \n",
       "2       2030  Saudi Arabia Refineries Co.         SARCO       Energy   \n",
       "3       2030  Saudi Arabia Refineries Co.         SARCO       Energy   \n",
       "4       2030  Saudi Arabia Refineries Co.         SARCO       Energy   \n",
       "...      ...                          ...           ...          ...   \n",
       "6987    4321          Arabian Centres Co.      ALMRAKEZ  Real Estate   \n",
       "6988    4321          Arabian Centres Co.      ALMRAKEZ  Real Estate   \n",
       "6989    4321          Arabian Centres Co.      ALMRAKEZ  Real Estate   \n",
       "6990    4321          Arabian Centres Co.      ALMRAKEZ  Real Estate   \n",
       "6991    4321          Arabian Centres Co.      ALMRAKEZ  Real Estate   \n",
       "\n",
       "            date   open   high    low  close  change  perc_Change  \\\n",
       "0     2020-04-23  31.80  31.80  31.45  31.60    0.25         0.80   \n",
       "1     2020-04-22  30.50  31.40  30.30  31.35   -0.35        -1.10   \n",
       "2     2020-04-21  31.70  32.30  31.30  31.70   -0.75        -2.31   \n",
       "3     2020-04-20  32.70  32.90  32.10  32.45   -0.25        -0.76   \n",
       "4     2020-04-19  32.50  32.80  32.45  32.70    0.50         1.55   \n",
       "...          ...    ...    ...    ...    ...     ...          ...   \n",
       "6987  2020-03-12  20.20  21.20  20.16  20.70   -1.70        -7.59   \n",
       "6988  2020-03-11  24.50  24.50  21.60  22.40   -1.60        -6.67   \n",
       "6989  2020-03-10  22.98  24.24  22.68  24.00    1.22         5.36   \n",
       "6990  2020-03-09  22.78  23.18  22.78  22.78   -2.52        -9.96   \n",
       "6991  2020-03-08  25.30  25.65  25.30  25.30   -2.80        -9.96   \n",
       "\n",
       "      volume_traded   value_traded  no_trades   \n",
       "0           230790.0    7295880.55       507.0  \n",
       "1           422695.0   13113020.10      1015.0  \n",
       "2           266845.0    8497563.05       668.0  \n",
       "3           254463.0    8271461.45       557.0  \n",
       "4           199425.0    6500652.35       498.0  \n",
       "...              ...           ...         ...  \n",
       "6987       1618746.0   33206311.44      2329.0  \n",
       "6988       1487872.0   33903289.20      2092.0  \n",
       "6989       1877511.0   43740461.26      2359.0  \n",
       "6990       1041240.0   23747279.76       893.0  \n",
       "6991       1093053.0   27745024.40       771.0  \n",
       "\n",
       "[6992 rows x 14 columns]"
      ]
     },
     "execution_count": 111,
     "metadata": {},
     "output_type": "execute_result"
    }
   ],
   "source": [
    "## Read in the Test_data set\n",
    "stock_test = pd.read_csv('Tadawul_stcks_23_4.csv') \n",
    "stock_test"
   ]
  },
  {
   "cell_type": "code",
   "execution_count": 112,
   "id": "0bfd7999",
   "metadata": {
    "id": "0bfd7999"
   },
   "outputs": [
    {
     "name": "stdout",
     "output_type": "stream",
     "text": [
      "<class 'pandas.core.frame.DataFrame'>\n",
      "RangeIndex: 593819 entries, 0 to 593818\n",
      "Data columns (total 14 columns):\n",
      " #   Column          Non-Null Count   Dtype  \n",
      "---  ------          --------------   -----  \n",
      " 0   symbol          593819 non-null  int64  \n",
      " 1   name            593819 non-null  object \n",
      " 2   trading_name    593819 non-null  object \n",
      " 3   sectoer         593819 non-null  object \n",
      " 4   date            593819 non-null  object \n",
      " 5   open            587364 non-null  float64\n",
      " 6   high            587122 non-null  float64\n",
      " 7   low             587122 non-null  float64\n",
      " 8   close           593819 non-null  float64\n",
      " 9   change          593819 non-null  float64\n",
      " 10  perc_Change     593819 non-null  float64\n",
      " 11  volume_traded   593819 non-null  float64\n",
      " 12  value_traded    593819 non-null  float64\n",
      " 13  no_trades       586128 non-null  float64\n",
      "dtypes: float64(9), int64(1), object(4)\n",
      "memory usage: 54.4+ MB\n"
     ]
    }
   ],
   "source": [
    "stock_train.info()"
   ]
  },
  {
   "cell_type": "code",
   "execution_count": 95,
   "id": "g9X7S41Vm2DK",
   "metadata": {
    "id": "g9X7S41Vm2DK"
   },
   "outputs": [
    {
     "name": "stdout",
     "output_type": "stream",
     "text": [
      "<class 'pandas.core.frame.DataFrame'>\n",
      "RangeIndex: 6992 entries, 0 to 6991\n",
      "Data columns (total 14 columns):\n",
      " #   Column          Non-Null Count  Dtype  \n",
      "---  ------          --------------  -----  \n",
      " 0   symbol          6992 non-null   int64  \n",
      " 1   name            6992 non-null   object \n",
      " 2   trading_name    6992 non-null   object \n",
      " 3   sectoer         6992 non-null   object \n",
      " 4   date            6992 non-null   object \n",
      " 5   open            6830 non-null   float64\n",
      " 6   high            6830 non-null   float64\n",
      " 7   low             6830 non-null   float64\n",
      " 8   close           6992 non-null   float64\n",
      " 9   change          6992 non-null   float64\n",
      " 10  perc_Change     6992 non-null   float64\n",
      " 11  volume_traded   6992 non-null   float64\n",
      " 12  value_traded    6992 non-null   float64\n",
      " 13  no_trades       6992 non-null   float64\n",
      "dtypes: float64(9), int64(1), object(4)\n",
      "memory usage: 655.6+ KB\n"
     ]
    }
   ],
   "source": [
    "stock_test.info()"
   ]
  },
  {
   "cell_type": "code",
   "execution_count": 96,
   "id": "XQtflN_7njdN",
   "metadata": {
    "id": "XQtflN_7njdN"
   },
   "outputs": [
    {
     "data": {
      "text/plain": [
       "(593819, 14)"
      ]
     },
     "execution_count": 96,
     "metadata": {},
     "output_type": "execute_result"
    }
   ],
   "source": [
    "stock_train.shape"
   ]
  },
  {
   "cell_type": "code",
   "execution_count": 97,
   "id": "jNgOAc53nuCk",
   "metadata": {
    "id": "jNgOAc53nuCk"
   },
   "outputs": [
    {
     "data": {
      "text/plain": [
       "(6992, 14)"
      ]
     },
     "execution_count": 97,
     "metadata": {},
     "output_type": "execute_result"
    }
   ],
   "source": [
    "stock_test.shape"
   ]
  },
  {
   "cell_type": "code",
   "execution_count": 98,
   "id": "180b56be",
   "metadata": {
    "id": "180b56be"
   },
   "outputs": [
    {
     "data": {
      "text/html": [
       "<div>\n",
       "<style scoped>\n",
       "    .dataframe tbody tr th:only-of-type {\n",
       "        vertical-align: middle;\n",
       "    }\n",
       "\n",
       "    .dataframe tbody tr th {\n",
       "        vertical-align: top;\n",
       "    }\n",
       "\n",
       "    .dataframe thead th {\n",
       "        text-align: right;\n",
       "    }\n",
       "</style>\n",
       "<table border=\"1\" class=\"dataframe\">\n",
       "  <thead>\n",
       "    <tr style=\"text-align: right;\">\n",
       "      <th></th>\n",
       "      <th>symbol</th>\n",
       "      <th>open</th>\n",
       "      <th>high</th>\n",
       "      <th>low</th>\n",
       "      <th>close</th>\n",
       "      <th>change</th>\n",
       "      <th>perc_Change</th>\n",
       "      <th>volume_traded</th>\n",
       "      <th>value_traded</th>\n",
       "      <th>no_trades</th>\n",
       "    </tr>\n",
       "  </thead>\n",
       "  <tbody>\n",
       "    <tr>\n",
       "      <th>count</th>\n",
       "      <td>593819.000000</td>\n",
       "      <td>587364.000000</td>\n",
       "      <td>587122.000000</td>\n",
       "      <td>587122.000000</td>\n",
       "      <td>593819.000000</td>\n",
       "      <td>593819.000000</td>\n",
       "      <td>593819.000000</td>\n",
       "      <td>5.938190e+05</td>\n",
       "      <td>5.938190e+05</td>\n",
       "      <td>586128.000000</td>\n",
       "    </tr>\n",
       "    <tr>\n",
       "      <th>mean</th>\n",
       "      <td>3952.684793</td>\n",
       "      <td>41.237794</td>\n",
       "      <td>41.971636</td>\n",
       "      <td>40.593406</td>\n",
       "      <td>40.961602</td>\n",
       "      <td>0.001174</td>\n",
       "      <td>0.035652</td>\n",
       "      <td>1.673422e+06</td>\n",
       "      <td>5.008553e+07</td>\n",
       "      <td>960.642348</td>\n",
       "    </tr>\n",
       "    <tr>\n",
       "      <th>std</th>\n",
       "      <td>2284.498530</td>\n",
       "      <td>86.713646</td>\n",
       "      <td>89.178183</td>\n",
       "      <td>84.562283</td>\n",
       "      <td>86.491709</td>\n",
       "      <td>4.782545</td>\n",
       "      <td>3.480783</td>\n",
       "      <td>5.482121e+06</td>\n",
       "      <td>1.472969e+08</td>\n",
       "      <td>3401.794136</td>\n",
       "    </tr>\n",
       "    <tr>\n",
       "      <th>min</th>\n",
       "      <td>1010.000000</td>\n",
       "      <td>1.950000</td>\n",
       "      <td>1.950000</td>\n",
       "      <td>1.950000</td>\n",
       "      <td>0.000000</td>\n",
       "      <td>-681.200000</td>\n",
       "      <td>-100.000000</td>\n",
       "      <td>0.000000e+00</td>\n",
       "      <td>0.000000e+00</td>\n",
       "      <td>0.000000</td>\n",
       "    </tr>\n",
       "    <tr>\n",
       "      <th>25%</th>\n",
       "      <td>2140.000000</td>\n",
       "      <td>16.200000</td>\n",
       "      <td>16.400000</td>\n",
       "      <td>16.000000</td>\n",
       "      <td>16.070000</td>\n",
       "      <td>-0.250000</td>\n",
       "      <td>-0.910000</td>\n",
       "      <td>1.484920e+05</td>\n",
       "      <td>4.114858e+06</td>\n",
       "      <td>158.000000</td>\n",
       "    </tr>\n",
       "    <tr>\n",
       "      <th>50%</th>\n",
       "      <td>4004.000000</td>\n",
       "      <td>26.500000</td>\n",
       "      <td>26.905000</td>\n",
       "      <td>26.100000</td>\n",
       "      <td>26.300000</td>\n",
       "      <td>0.000000</td>\n",
       "      <td>0.000000</td>\n",
       "      <td>4.335560e+05</td>\n",
       "      <td>1.210533e+07</td>\n",
       "      <td>376.000000</td>\n",
       "    </tr>\n",
       "    <tr>\n",
       "      <th>75%</th>\n",
       "      <td>5110.000000</td>\n",
       "      <td>46.500000</td>\n",
       "      <td>47.200000</td>\n",
       "      <td>45.850000</td>\n",
       "      <td>46.200000</td>\n",
       "      <td>0.250000</td>\n",
       "      <td>0.910000</td>\n",
       "      <td>1.271184e+06</td>\n",
       "      <td>3.561017e+07</td>\n",
       "      <td>900.000000</td>\n",
       "    </tr>\n",
       "    <tr>\n",
       "      <th>max</th>\n",
       "      <td>8312.000000</td>\n",
       "      <td>6709.150000</td>\n",
       "      <td>6774.510000</td>\n",
       "      <td>6130.720000</td>\n",
       "      <td>6441.180000</td>\n",
       "      <td>578.430000</td>\n",
       "      <td>1634.440000</td>\n",
       "      <td>7.976659e+08</td>\n",
       "      <td>1.586582e+10</td>\n",
       "      <td>816526.000000</td>\n",
       "    </tr>\n",
       "  </tbody>\n",
       "</table>\n",
       "</div>"
      ],
      "text/plain": [
       "              symbol           open           high            low  \\\n",
       "count  593819.000000  587364.000000  587122.000000  587122.000000   \n",
       "mean     3952.684793      41.237794      41.971636      40.593406   \n",
       "std      2284.498530      86.713646      89.178183      84.562283   \n",
       "min      1010.000000       1.950000       1.950000       1.950000   \n",
       "25%      2140.000000      16.200000      16.400000      16.000000   \n",
       "50%      4004.000000      26.500000      26.905000      26.100000   \n",
       "75%      5110.000000      46.500000      47.200000      45.850000   \n",
       "max      8312.000000    6709.150000    6774.510000    6130.720000   \n",
       "\n",
       "               close         change    perc_Change  volume_traded   \\\n",
       "count  593819.000000  593819.000000  593819.000000    5.938190e+05   \n",
       "mean       40.961602       0.001174       0.035652    1.673422e+06   \n",
       "std        86.491709       4.782545       3.480783    5.482121e+06   \n",
       "min         0.000000    -681.200000    -100.000000    0.000000e+00   \n",
       "25%        16.070000      -0.250000      -0.910000    1.484920e+05   \n",
       "50%        26.300000       0.000000       0.000000    4.335560e+05   \n",
       "75%        46.200000       0.250000       0.910000    1.271184e+06   \n",
       "max      6441.180000     578.430000    1634.440000    7.976659e+08   \n",
       "\n",
       "       value_traded     no_trades   \n",
       "count  5.938190e+05  586128.000000  \n",
       "mean   5.008553e+07     960.642348  \n",
       "std    1.472969e+08    3401.794136  \n",
       "min    0.000000e+00       0.000000  \n",
       "25%    4.114858e+06     158.000000  \n",
       "50%    1.210533e+07     376.000000  \n",
       "75%    3.561017e+07     900.000000  \n",
       "max    1.586582e+10  816526.000000  "
      ]
     },
     "execution_count": 98,
     "metadata": {},
     "output_type": "execute_result"
    }
   ],
   "source": [
    "stock_train.describe()"
   ]
  },
  {
   "cell_type": "markdown",
   "id": "X9TDzutVuMHC",
   "metadata": {
    "id": "X9TDzutVuMHC"
   },
   "source": [
    "# **Data Cleaning**"
   ]
  },
  {
   "cell_type": "code",
   "execution_count": 99,
   "id": "6af5e082",
   "metadata": {
    "id": "6af5e082"
   },
   "outputs": [],
   "source": [
    "stock_train.dropna(inplace = True)"
   ]
  },
  {
   "cell_type": "code",
   "execution_count": 100,
   "id": "7a1c80bc",
   "metadata": {
    "id": "7a1c80bc"
   },
   "outputs": [
    {
     "name": "stderr",
     "output_type": "stream",
     "text": [
      "<ipython-input-100-05d2f41a02e6>:1: SettingWithCopyWarning: \n",
      "A value is trying to be set on a copy of a slice from a DataFrame\n",
      "\n",
      "See the caveats in the documentation: https://pandas.pydata.org/pandas-docs/stable/user_guide/indexing.html#returning-a-view-versus-a-copy\n",
      "  stock_train.open[stock_train.open>47.0]= stock_train.open.median()\n"
     ]
    }
   ],
   "source": [
    "stock_train.open[stock_train.open>47.0]= stock_train.open.median()"
   ]
  },
  {
   "cell_type": "code",
   "execution_count": 101,
   "id": "eee45063",
   "metadata": {
    "id": "eee45063"
   },
   "outputs": [
    {
     "data": {
      "text/html": [
       "<div>\n",
       "<style scoped>\n",
       "    .dataframe tbody tr th:only-of-type {\n",
       "        vertical-align: middle;\n",
       "    }\n",
       "\n",
       "    .dataframe tbody tr th {\n",
       "        vertical-align: top;\n",
       "    }\n",
       "\n",
       "    .dataframe thead th {\n",
       "        text-align: right;\n",
       "    }\n",
       "</style>\n",
       "<table border=\"1\" class=\"dataframe\">\n",
       "  <thead>\n",
       "    <tr style=\"text-align: right;\">\n",
       "      <th></th>\n",
       "      <th>symbol</th>\n",
       "      <th>open</th>\n",
       "      <th>high</th>\n",
       "      <th>low</th>\n",
       "      <th>close</th>\n",
       "      <th>change</th>\n",
       "      <th>perc_Change</th>\n",
       "      <th>volume_traded</th>\n",
       "      <th>value_traded</th>\n",
       "      <th>no_trades</th>\n",
       "    </tr>\n",
       "  </thead>\n",
       "  <tbody>\n",
       "    <tr>\n",
       "      <th>count</th>\n",
       "      <td>579431.000000</td>\n",
       "      <td>579431.000000</td>\n",
       "      <td>579431.000000</td>\n",
       "      <td>579431.000000</td>\n",
       "      <td>579431.000000</td>\n",
       "      <td>579431.000000</td>\n",
       "      <td>579431.000000</td>\n",
       "      <td>5.794310e+05</td>\n",
       "      <td>5.794310e+05</td>\n",
       "      <td>579431.000000</td>\n",
       "    </tr>\n",
       "    <tr>\n",
       "      <th>mean</th>\n",
       "      <td>3984.734310</td>\n",
       "      <td>23.580793</td>\n",
       "      <td>42.103684</td>\n",
       "      <td>40.716484</td>\n",
       "      <td>41.383652</td>\n",
       "      <td>0.002855</td>\n",
       "      <td>0.037626</td>\n",
       "      <td>1.500712e+06</td>\n",
       "      <td>4.774507e+07</td>\n",
       "      <td>971.673600</td>\n",
       "    </tr>\n",
       "    <tr>\n",
       "      <th>std</th>\n",
       "      <td>2279.808371</td>\n",
       "      <td>9.358917</td>\n",
       "      <td>89.722268</td>\n",
       "      <td>85.076910</td>\n",
       "      <td>87.452074</td>\n",
       "      <td>4.752609</td>\n",
       "      <td>3.496453</td>\n",
       "      <td>4.409527e+06</td>\n",
       "      <td>1.421414e+08</td>\n",
       "      <td>3419.830041</td>\n",
       "    </tr>\n",
       "    <tr>\n",
       "      <th>min</th>\n",
       "      <td>1010.000000</td>\n",
       "      <td>1.950000</td>\n",
       "      <td>1.950000</td>\n",
       "      <td>1.950000</td>\n",
       "      <td>1.940000</td>\n",
       "      <td>-424.830000</td>\n",
       "      <td>-98.010000</td>\n",
       "      <td>1.010000e+02</td>\n",
       "      <td>3.930000e+03</td>\n",
       "      <td>1.000000</td>\n",
       "    </tr>\n",
       "    <tr>\n",
       "      <th>25%</th>\n",
       "      <td>2160.000000</td>\n",
       "      <td>16.250000</td>\n",
       "      <td>16.500000</td>\n",
       "      <td>16.050000</td>\n",
       "      <td>16.250000</td>\n",
       "      <td>-0.250000</td>\n",
       "      <td>-0.930000</td>\n",
       "      <td>1.523725e+05</td>\n",
       "      <td>4.231735e+06</td>\n",
       "      <td>163.000000</td>\n",
       "    </tr>\n",
       "    <tr>\n",
       "      <th>50%</th>\n",
       "      <td>4005.000000</td>\n",
       "      <td>26.500000</td>\n",
       "      <td>26.900000</td>\n",
       "      <td>26.100000</td>\n",
       "      <td>26.510000</td>\n",
       "      <td>0.000000</td>\n",
       "      <td>0.000000</td>\n",
       "      <td>4.327890e+05</td>\n",
       "      <td>1.209221e+07</td>\n",
       "      <td>383.000000</td>\n",
       "    </tr>\n",
       "    <tr>\n",
       "      <th>75%</th>\n",
       "      <td>6001.000000</td>\n",
       "      <td>26.710000</td>\n",
       "      <td>47.260000</td>\n",
       "      <td>45.900000</td>\n",
       "      <td>46.560000</td>\n",
       "      <td>0.250000</td>\n",
       "      <td>0.930000</td>\n",
       "      <td>1.236244e+06</td>\n",
       "      <td>3.455978e+07</td>\n",
       "      <td>911.000000</td>\n",
       "    </tr>\n",
       "    <tr>\n",
       "      <th>max</th>\n",
       "      <td>8312.000000</td>\n",
       "      <td>47.000000</td>\n",
       "      <td>6774.510000</td>\n",
       "      <td>6130.720000</td>\n",
       "      <td>6441.180000</td>\n",
       "      <td>578.430000</td>\n",
       "      <td>1634.440000</td>\n",
       "      <td>4.179278e+08</td>\n",
       "      <td>1.586582e+10</td>\n",
       "      <td>816526.000000</td>\n",
       "    </tr>\n",
       "  </tbody>\n",
       "</table>\n",
       "</div>"
      ],
      "text/plain": [
       "              symbol           open           high            low  \\\n",
       "count  579431.000000  579431.000000  579431.000000  579431.000000   \n",
       "mean     3984.734310      23.580793      42.103684      40.716484   \n",
       "std      2279.808371       9.358917      89.722268      85.076910   \n",
       "min      1010.000000       1.950000       1.950000       1.950000   \n",
       "25%      2160.000000      16.250000      16.500000      16.050000   \n",
       "50%      4005.000000      26.500000      26.900000      26.100000   \n",
       "75%      6001.000000      26.710000      47.260000      45.900000   \n",
       "max      8312.000000      47.000000    6774.510000    6130.720000   \n",
       "\n",
       "               close         change    perc_Change  volume_traded   \\\n",
       "count  579431.000000  579431.000000  579431.000000    5.794310e+05   \n",
       "mean       41.383652       0.002855       0.037626    1.500712e+06   \n",
       "std        87.452074       4.752609       3.496453    4.409527e+06   \n",
       "min         1.940000    -424.830000     -98.010000    1.010000e+02   \n",
       "25%        16.250000      -0.250000      -0.930000    1.523725e+05   \n",
       "50%        26.510000       0.000000       0.000000    4.327890e+05   \n",
       "75%        46.560000       0.250000       0.930000    1.236244e+06   \n",
       "max      6441.180000     578.430000    1634.440000    4.179278e+08   \n",
       "\n",
       "       value_traded     no_trades   \n",
       "count  5.794310e+05  579431.000000  \n",
       "mean   4.774507e+07     971.673600  \n",
       "std    1.421414e+08    3419.830041  \n",
       "min    3.930000e+03       1.000000  \n",
       "25%    4.231735e+06     163.000000  \n",
       "50%    1.209221e+07     383.000000  \n",
       "75%    3.455978e+07     911.000000  \n",
       "max    1.586582e+10  816526.000000  "
      ]
     },
     "execution_count": 101,
     "metadata": {},
     "output_type": "execute_result"
    }
   ],
   "source": [
    "stock_train.describe()"
   ]
  },
  {
   "cell_type": "code",
   "execution_count": 113,
   "id": "46504c6c",
   "metadata": {},
   "outputs": [],
   "source": [
    "stock_train['date'] =  pd.to_datetime(stock_train['date'])"
   ]
  },
  {
   "cell_type": "code",
   "execution_count": 114,
   "id": "d3ed7e67",
   "metadata": {},
   "outputs": [
    {
     "name": "stdout",
     "output_type": "stream",
     "text": [
      "<class 'pandas.core.frame.DataFrame'>\n",
      "RangeIndex: 593819 entries, 0 to 593818\n",
      "Data columns (total 14 columns):\n",
      " #   Column          Non-Null Count   Dtype         \n",
      "---  ------          --------------   -----         \n",
      " 0   symbol          593819 non-null  int64         \n",
      " 1   name            593819 non-null  object        \n",
      " 2   trading_name    593819 non-null  object        \n",
      " 3   sectoer         593819 non-null  object        \n",
      " 4   date            593819 non-null  datetime64[ns]\n",
      " 5   open            587364 non-null  float64       \n",
      " 6   high            587122 non-null  float64       \n",
      " 7   low             587122 non-null  float64       \n",
      " 8   close           593819 non-null  float64       \n",
      " 9   change          593819 non-null  float64       \n",
      " 10  perc_Change     593819 non-null  float64       \n",
      " 11  volume_traded   593819 non-null  float64       \n",
      " 12  value_traded    593819 non-null  float64       \n",
      " 13  no_trades       586128 non-null  float64       \n",
      "dtypes: datetime64[ns](1), float64(9), int64(1), object(3)\n",
      "memory usage: 56.6+ MB\n"
     ]
    }
   ],
   "source": [
    "stock_train.info()"
   ]
  },
  {
   "cell_type": "code",
   "execution_count": 116,
   "id": "44f133a7",
   "metadata": {},
   "outputs": [],
   "source": [
    "stock_train['year'] = pd. DatetimeIndex(stock_train['date']). year"
   ]
  },
  {
   "cell_type": "code",
   "execution_count": 117,
   "id": "7548bc21",
   "metadata": {},
   "outputs": [
    {
     "name": "stdout",
     "output_type": "stream",
     "text": [
      "<class 'pandas.core.frame.DataFrame'>\n",
      "RangeIndex: 593819 entries, 0 to 593818\n",
      "Data columns (total 15 columns):\n",
      " #   Column          Non-Null Count   Dtype         \n",
      "---  ------          --------------   -----         \n",
      " 0   symbol          593819 non-null  int64         \n",
      " 1   name            593819 non-null  object        \n",
      " 2   trading_name    593819 non-null  object        \n",
      " 3   sectoer         593819 non-null  object        \n",
      " 4   date            593819 non-null  datetime64[ns]\n",
      " 5   open            587364 non-null  float64       \n",
      " 6   high            587122 non-null  float64       \n",
      " 7   low             587122 non-null  float64       \n",
      " 8   close           593819 non-null  float64       \n",
      " 9   change          593819 non-null  float64       \n",
      " 10  perc_Change     593819 non-null  float64       \n",
      " 11  volume_traded   593819 non-null  float64       \n",
      " 12  value_traded    593819 non-null  float64       \n",
      " 13  no_trades       586128 non-null  float64       \n",
      " 14  year            593819 non-null  int64         \n",
      "dtypes: datetime64[ns](1), float64(9), int64(2), object(3)\n",
      "memory usage: 61.2+ MB\n"
     ]
    }
   ],
   "source": [
    "stock_train.info()"
   ]
  },
  {
   "cell_type": "code",
   "execution_count": 118,
   "id": "3c6a84bf",
   "metadata": {
    "id": "3c6a84bf"
   },
   "outputs": [
    {
     "name": "stderr",
     "output_type": "stream",
     "text": [
      "<ipython-input-118-a06520ac58a9>:1: SettingWithCopyWarning: \n",
      "A value is trying to be set on a copy of a slice from a DataFrame\n",
      "\n",
      "See the caveats in the documentation: https://pandas.pydata.org/pandas-docs/stable/user_guide/indexing.html#returning-a-view-versus-a-copy\n",
      "  stock_train.high[stock_train.high>50]= stock_train.high.median()\n"
     ]
    }
   ],
   "source": [
    "stock_train.high[stock_train.high>50]= stock_train.high.median()"
   ]
  },
  {
   "cell_type": "code",
   "execution_count": 119,
   "id": "236bf0fc",
   "metadata": {
    "id": "236bf0fc"
   },
   "outputs": [
    {
     "name": "stderr",
     "output_type": "stream",
     "text": [
      "<ipython-input-119-de563b82f80d>:1: SettingWithCopyWarning: \n",
      "A value is trying to be set on a copy of a slice from a DataFrame\n",
      "\n",
      "See the caveats in the documentation: https://pandas.pydata.org/pandas-docs/stable/user_guide/indexing.html#returning-a-view-versus-a-copy\n",
      "  stock_train.low[stock_train.low>47.0]= stock_train.low.median()\n"
     ]
    }
   ],
   "source": [
    "stock_train.low[stock_train.low>47.0]= stock_train.low.median()"
   ]
  },
  {
   "cell_type": "code",
   "execution_count": 120,
   "id": "083a37f0",
   "metadata": {
    "id": "083a37f0"
   },
   "outputs": [
    {
     "name": "stderr",
     "output_type": "stream",
     "text": [
      "<ipython-input-120-48f0cb6664b4>:1: SettingWithCopyWarning: \n",
      "A value is trying to be set on a copy of a slice from a DataFrame\n",
      "\n",
      "See the caveats in the documentation: https://pandas.pydata.org/pandas-docs/stable/user_guide/indexing.html#returning-a-view-versus-a-copy\n",
      "  stock_train.close[stock_train.close>55]= stock_train.close.median()\n"
     ]
    }
   ],
   "source": [
    "stock_train.close[stock_train.close>55]= stock_train.close.median()"
   ]
  },
  {
   "cell_type": "code",
   "execution_count": 121,
   "id": "56857cd3",
   "metadata": {
    "id": "56857cd3"
   },
   "outputs": [
    {
     "name": "stderr",
     "output_type": "stream",
     "text": [
      "<ipython-input-121-4b19f9879faa>:1: SettingWithCopyWarning: \n",
      "A value is trying to be set on a copy of a slice from a DataFrame\n",
      "\n",
      "See the caveats in the documentation: https://pandas.pydata.org/pandas-docs/stable/user_guide/indexing.html#returning-a-view-versus-a-copy\n",
      "  stock_train.change[stock_train.change>50]= stock_train.close.median()\n"
     ]
    }
   ],
   "source": [
    "stock_train.change[stock_train.change>50]= stock_train.close.median()\n"
   ]
  },
  {
   "cell_type": "code",
   "execution_count": 122,
   "id": "2ad66026",
   "metadata": {
    "id": "2ad66026"
   },
   "outputs": [
    {
     "name": "stderr",
     "output_type": "stream",
     "text": [
      "<ipython-input-122-a08a8cd42473>:1: SettingWithCopyWarning: \n",
      "A value is trying to be set on a copy of a slice from a DataFrame\n",
      "\n",
      "See the caveats in the documentation: https://pandas.pydata.org/pandas-docs/stable/user_guide/indexing.html#returning-a-view-versus-a-copy\n",
      "  stock_train.change[stock_train.change<-50]= stock_train.close.median()\n"
     ]
    }
   ],
   "source": [
    "stock_train.change[stock_train.change<-50]= stock_train.close.median()"
   ]
  },
  {
   "cell_type": "code",
   "execution_count": null,
   "id": "379d9211",
   "metadata": {
    "id": "379d9211"
   },
   "outputs": [],
   "source": [
    "stock_train.perc_Change[stock_train.perc_Change>99.9]= stock_train.perc_Change.median()\n",
    "stock_train.perc_Change[stock_train.perc_Change<-99.9]= stock_train.perc_Change.median()"
   ]
  },
  {
   "cell_type": "code",
   "execution_count": null,
   "id": "GE1-3rO_55u1",
   "metadata": {
    "id": "GE1-3rO_55u1"
   },
   "outputs": [],
   "source": [
    "stock_train.columns = stock_train.columns.str.replace(' ', '')"
   ]
  },
  {
   "cell_type": "code",
   "execution_count": null,
   "id": "JPBXPUOf6GI2",
   "metadata": {
    "id": "JPBXPUOf6GI2"
   },
   "outputs": [],
   "source": [
    "stock_train.no_trades[stock_train.no_trades>1500]= stock_train.no_trades.median()"
   ]
  },
  {
   "cell_type": "code",
   "execution_count": null,
   "id": "6197d333",
   "metadata": {
    "id": "6197d333"
   },
   "outputs": [],
   "source": [
    "stock_train.describe()"
   ]
  },
  {
   "cell_type": "code",
   "execution_count": null,
   "id": "f4621c5e",
   "metadata": {
    "id": "f4621c5e"
   },
   "outputs": [],
   "source": [
    "stock_train.hist(edgecolor='red', linewidth=1.2, figsize=(11, 11));"
   ]
  },
  {
   "cell_type": "markdown",
   "id": "2HQ-N7MLtoPI",
   "metadata": {
    "id": "2HQ-N7MLtoPI"
   },
   "source": [
    "# **Data Visualization**"
   ]
  },
  {
   "cell_type": "markdown",
   "id": "8516ca90",
   "metadata": {
    "id": "8516ca90"
   },
   "source": [
    "# •\tWhat is the highest profit Sector?"
   ]
  },
  {
   "cell_type": "code",
   "execution_count": null,
   "id": "Bu7wxQ4yM8Sg",
   "metadata": {
    "colab": {
     "base_uri": "https://localhost:8080/"
    },
    "id": "Bu7wxQ4yM8Sg",
    "outputId": "c552bdaf-801d-4ef6-ffc9-8da20210d3cf"
   },
   "outputs": [],
   "source": [
    "stock_train[['sectoer', 'close']].max()"
   ]
  },
  {
   "cell_type": "markdown",
   "id": "aaca3fc1",
   "metadata": {
    "id": "aaca3fc1"
   },
   "source": [
    "."
   ]
  },
  {
   "cell_type": "markdown",
   "id": "43c3bbd2",
   "metadata": {
    "id": "43c3bbd2"
   },
   "source": [
    "# •\tWhat is the most valuable year in the Saudi stock market? "
   ]
  },
  {
   "cell_type": "code",
   "execution_count": null,
   "id": "ede7bdf5",
   "metadata": {},
   "outputs": [],
   "source": [
    "a=stock_train.groupby(['year'])[['high']].sum().sort_values('high', ascending=False)\n",
    "a"
   ]
  },
  {
   "cell_type": "code",
   "execution_count": null,
   "id": "8b3864d7",
   "metadata": {
    "scrolled": true
   },
   "outputs": [],
   "source": [
    "plt.figure(figsize=[12,6]);\n",
    "plt.bar(a.index,a.high);\n",
    "plt.title('the most valuable year in the Saudi stock market',fontsize=30,color='black',family='serif');\n",
    "plt.xlabel('year',fontsize=20,color='black',family='serif');\n",
    "plt.ylabel('high',fontsize=20,color='black',family='serif');\n",
    "plt.xticks(rotation=45)"
   ]
  },
  {
   "cell_type": "markdown",
   "id": "0347ae25",
   "metadata": {
    "id": "0347ae25"
   },
   "source": [
    "."
   ]
  },
  {
   "cell_type": "markdown",
   "id": "e9866737",
   "metadata": {
    "id": "e9866737"
   },
   "source": [
    "# •\tWhat is the lowiest valuable year in the Saudi stock market?"
   ]
  },
  {
   "cell_type": "code",
   "execution_count": null,
   "id": "ae908838",
   "metadata": {
    "id": "ae908838"
   },
   "outputs": [],
   "source": [
    "b=stock_train.groupby(['year'])[['low']].sum().sort_values('low')\n",
    "b"
   ]
  },
  {
   "cell_type": "code",
   "execution_count": null,
   "id": "ab56167f",
   "metadata": {},
   "outputs": [],
   "source": [
    "plt.figure(figsize=[12,6]);\n",
    "plt.bar(b.index,b.low);\n",
    "plt.title('the less valuable year in the Saudi stock market',fontsize=30,color='black',family='serif');\n",
    "plt.xlabel('year',fontsize=20,color='black',family='serif');\n",
    "plt.ylabel('high',fontsize=20,color='black',family='serif');"
   ]
  },
  {
   "cell_type": "markdown",
   "id": "ae89513c",
   "metadata": {
    "id": "ae89513c"
   },
   "source": [
    "."
   ]
  },
  {
   "cell_type": "markdown",
   "id": "c8ebc207",
   "metadata": {
    "id": "c8ebc207"
   },
   "source": [
    "# •\tWhat is the percentage change in the sector, and what is the highest sector?"
   ]
  },
  {
   "cell_type": "code",
   "execution_count": null,
   "id": "55095840",
   "metadata": {
    "id": "55095840"
   },
   "outputs": [],
   "source": []
  },
  {
   "cell_type": "markdown",
   "id": "1e2b44f3",
   "metadata": {
    "id": "1e2b44f3"
   },
   "source": [
    "# ***predict the stocks prices***"
   ]
  },
  {
   "cell_type": "markdown",
   "id": "23kHiKuSjl4E",
   "metadata": {
    "id": "23kHiKuSjl4E"
   },
   "source": [
    "# ***Regression ***"
   ]
  },
  {
   "cell_type": "markdown",
   "id": "0P9p2K0fjzhl",
   "metadata": {
    "id": "0P9p2K0fjzhl"
   },
   "source": [
    "## Fit a linear regression model on the train data set"
   ]
  },
  {
   "cell_type": "code",
   "execution_count": 104,
   "id": "dGyNelUjkTkI",
   "metadata": {
    "id": "dGyNelUjkTkI"
   },
   "outputs": [],
   "source": [
    "#Separate our features from our target\n",
    "\n",
    "x = stock_train.loc[:,['open', 'high', 'low', 'change',]]\n",
    "y = stock_train['close']"
   ]
  },
  {
   "cell_type": "code",
   "execution_count": 105,
   "id": "27cAuB7JkirH",
   "metadata": {
    "id": "27cAuB7JkirH"
   },
   "outputs": [
    {
     "data": {
      "text/plain": [
       "<bound method DataFrame.info of          open   high    low  change\n",
       "0       35.55  35.85  34.90   -0.40\n",
       "1       34.70  35.65  34.50    0.25\n",
       "2       34.70  35.15  34.70    1.05\n",
       "3       35.20  35.65  34.00   -0.55\n",
       "4       35.35  35.60  34.25   -2.05\n",
       "...       ...    ...    ...     ...\n",
       "593814  22.90  22.90  21.62    0.00\n",
       "593815  23.30  23.32  22.24   -0.84\n",
       "593816  24.60  24.60  23.30   -1.16\n",
       "593817  24.80  25.00  24.34   -0.50\n",
       "593818  26.00  26.10  23.60   -1.00\n",
       "\n",
       "[579431 rows x 4 columns]>"
      ]
     },
     "execution_count": 105,
     "metadata": {},
     "output_type": "execute_result"
    }
   ],
   "source": [
    "x.info"
   ]
  },
  {
   "cell_type": "code",
   "execution_count": 106,
   "id": "ijnxIJ1jkhaX",
   "metadata": {
    "colab": {
     "base_uri": "https://localhost:8080/"
    },
    "id": "ijnxIJ1jkhaX",
    "outputId": "4ea6e6e0-73c4-4d64-c851-893c6b245264"
   },
   "outputs": [
    {
     "data": {
      "text/plain": [
       "LinearRegression()"
      ]
     },
     "execution_count": 106,
     "metadata": {},
     "output_type": "execute_result"
    }
   ],
   "source": [
    "#Fit on  train dataset\n",
    "re = LinearRegression()\n",
    "re.fit(stock_train[['open','high', 'low', 'change']], stock_train['close'])"
   ]
  },
  {
   "cell_type": "code",
   "execution_count": 107,
   "id": "K0_laUyLBZQU",
   "metadata": {
    "colab": {
     "base_uri": "https://localhost:8080/"
    },
    "id": "K0_laUyLBZQU",
    "outputId": "1f2c986b-fb05-4e41-8834-c71fee6993d2"
   },
   "outputs": [
    {
     "data": {
      "text/plain": [
       "0.9996838451660994"
      ]
     },
     "execution_count": 107,
     "metadata": {},
     "output_type": "execute_result"
    }
   ],
   "source": [
    "#Check the R-squared value\n",
    "re.score(stock_train[['open', 'high', 'low', 'change']], stock_train['close'])"
   ]
  },
  {
   "cell_type": "code",
   "execution_count": 108,
   "id": "pPeHIjVwfnS9",
   "metadata": {
    "id": "pPeHIjVwfnS9"
   },
   "outputs": [
    {
     "ename": "ValueError",
     "evalue": "Input contains NaN, infinity or a value too large for dtype('float64').",
     "output_type": "error",
     "traceback": [
      "\u001b[1;31m---------------------------------------------------------------------------\u001b[0m",
      "\u001b[1;31mValueError\u001b[0m                                Traceback (most recent call last)",
      "\u001b[1;32m<ipython-input-108-c62b2a1c287f>\u001b[0m in \u001b[0;36m<module>\u001b[1;34m\u001b[0m\n\u001b[0;32m      1\u001b[0m \u001b[1;31m# Check the R-squared on test data\u001b[0m\u001b[1;33m\u001b[0m\u001b[1;33m\u001b[0m\u001b[1;33m\u001b[0m\u001b[0m\n\u001b[1;32m----> 2\u001b[1;33m \u001b[0mre\u001b[0m\u001b[1;33m.\u001b[0m\u001b[0mscore\u001b[0m\u001b[1;33m(\u001b[0m\u001b[0mstock_test\u001b[0m\u001b[1;33m[\u001b[0m\u001b[1;33m[\u001b[0m\u001b[1;34m'open'\u001b[0m\u001b[1;33m,\u001b[0m\u001b[1;34m'high'\u001b[0m\u001b[1;33m,\u001b[0m \u001b[1;34m'low'\u001b[0m\u001b[1;33m,\u001b[0m \u001b[1;34m'change'\u001b[0m\u001b[1;33m]\u001b[0m\u001b[1;33m]\u001b[0m\u001b[1;33m,\u001b[0m \u001b[0mstock_test\u001b[0m\u001b[1;33m[\u001b[0m\u001b[1;34m'close'\u001b[0m\u001b[1;33m]\u001b[0m\u001b[1;33m)\u001b[0m\u001b[1;33m\u001b[0m\u001b[1;33m\u001b[0m\u001b[0m\n\u001b[0m",
      "\u001b[1;32mC:\\ProgramData\\Anaconda3\\lib\\site-packages\\sklearn\\base.py\u001b[0m in \u001b[0;36mscore\u001b[1;34m(self, X, y, sample_weight)\u001b[0m\n\u001b[0;32m    549\u001b[0m \u001b[1;33m\u001b[0m\u001b[0m\n\u001b[0;32m    550\u001b[0m         \u001b[1;32mfrom\u001b[0m \u001b[1;33m.\u001b[0m\u001b[0mmetrics\u001b[0m \u001b[1;32mimport\u001b[0m \u001b[0mr2_score\u001b[0m\u001b[1;33m\u001b[0m\u001b[1;33m\u001b[0m\u001b[0m\n\u001b[1;32m--> 551\u001b[1;33m         \u001b[0my_pred\u001b[0m \u001b[1;33m=\u001b[0m \u001b[0mself\u001b[0m\u001b[1;33m.\u001b[0m\u001b[0mpredict\u001b[0m\u001b[1;33m(\u001b[0m\u001b[0mX\u001b[0m\u001b[1;33m)\u001b[0m\u001b[1;33m\u001b[0m\u001b[1;33m\u001b[0m\u001b[0m\n\u001b[0m\u001b[0;32m    552\u001b[0m         \u001b[1;32mreturn\u001b[0m \u001b[0mr2_score\u001b[0m\u001b[1;33m(\u001b[0m\u001b[0my\u001b[0m\u001b[1;33m,\u001b[0m \u001b[0my_pred\u001b[0m\u001b[1;33m,\u001b[0m \u001b[0msample_weight\u001b[0m\u001b[1;33m=\u001b[0m\u001b[0msample_weight\u001b[0m\u001b[1;33m)\u001b[0m\u001b[1;33m\u001b[0m\u001b[1;33m\u001b[0m\u001b[0m\n\u001b[0;32m    553\u001b[0m \u001b[1;33m\u001b[0m\u001b[0m\n",
      "\u001b[1;32mC:\\ProgramData\\Anaconda3\\lib\\site-packages\\sklearn\\linear_model\\_base.py\u001b[0m in \u001b[0;36mpredict\u001b[1;34m(self, X)\u001b[0m\n\u001b[0;32m    234\u001b[0m             \u001b[0mReturns\u001b[0m \u001b[0mpredicted\u001b[0m \u001b[0mvalues\u001b[0m\u001b[1;33m.\u001b[0m\u001b[1;33m\u001b[0m\u001b[1;33m\u001b[0m\u001b[0m\n\u001b[0;32m    235\u001b[0m         \"\"\"\n\u001b[1;32m--> 236\u001b[1;33m         \u001b[1;32mreturn\u001b[0m \u001b[0mself\u001b[0m\u001b[1;33m.\u001b[0m\u001b[0m_decision_function\u001b[0m\u001b[1;33m(\u001b[0m\u001b[0mX\u001b[0m\u001b[1;33m)\u001b[0m\u001b[1;33m\u001b[0m\u001b[1;33m\u001b[0m\u001b[0m\n\u001b[0m\u001b[0;32m    237\u001b[0m \u001b[1;33m\u001b[0m\u001b[0m\n\u001b[0;32m    238\u001b[0m     \u001b[0m_preprocess_data\u001b[0m \u001b[1;33m=\u001b[0m \u001b[0mstaticmethod\u001b[0m\u001b[1;33m(\u001b[0m\u001b[0m_preprocess_data\u001b[0m\u001b[1;33m)\u001b[0m\u001b[1;33m\u001b[0m\u001b[1;33m\u001b[0m\u001b[0m\n",
      "\u001b[1;32mC:\\ProgramData\\Anaconda3\\lib\\site-packages\\sklearn\\linear_model\\_base.py\u001b[0m in \u001b[0;36m_decision_function\u001b[1;34m(self, X)\u001b[0m\n\u001b[0;32m    216\u001b[0m         \u001b[0mcheck_is_fitted\u001b[0m\u001b[1;33m(\u001b[0m\u001b[0mself\u001b[0m\u001b[1;33m)\u001b[0m\u001b[1;33m\u001b[0m\u001b[1;33m\u001b[0m\u001b[0m\n\u001b[0;32m    217\u001b[0m \u001b[1;33m\u001b[0m\u001b[0m\n\u001b[1;32m--> 218\u001b[1;33m         \u001b[0mX\u001b[0m \u001b[1;33m=\u001b[0m \u001b[0mcheck_array\u001b[0m\u001b[1;33m(\u001b[0m\u001b[0mX\u001b[0m\u001b[1;33m,\u001b[0m \u001b[0maccept_sparse\u001b[0m\u001b[1;33m=\u001b[0m\u001b[1;33m[\u001b[0m\u001b[1;34m'csr'\u001b[0m\u001b[1;33m,\u001b[0m \u001b[1;34m'csc'\u001b[0m\u001b[1;33m,\u001b[0m \u001b[1;34m'coo'\u001b[0m\u001b[1;33m]\u001b[0m\u001b[1;33m)\u001b[0m\u001b[1;33m\u001b[0m\u001b[1;33m\u001b[0m\u001b[0m\n\u001b[0m\u001b[0;32m    219\u001b[0m         return safe_sparse_dot(X, self.coef_.T,\n\u001b[0;32m    220\u001b[0m                                dense_output=True) + self.intercept_\n",
      "\u001b[1;32mC:\\ProgramData\\Anaconda3\\lib\\site-packages\\sklearn\\utils\\validation.py\u001b[0m in \u001b[0;36minner_f\u001b[1;34m(*args, **kwargs)\u001b[0m\n\u001b[0;32m     71\u001b[0m                           FutureWarning)\n\u001b[0;32m     72\u001b[0m         \u001b[0mkwargs\u001b[0m\u001b[1;33m.\u001b[0m\u001b[0mupdate\u001b[0m\u001b[1;33m(\u001b[0m\u001b[1;33m{\u001b[0m\u001b[0mk\u001b[0m\u001b[1;33m:\u001b[0m \u001b[0marg\u001b[0m \u001b[1;32mfor\u001b[0m \u001b[0mk\u001b[0m\u001b[1;33m,\u001b[0m \u001b[0marg\u001b[0m \u001b[1;32min\u001b[0m \u001b[0mzip\u001b[0m\u001b[1;33m(\u001b[0m\u001b[0msig\u001b[0m\u001b[1;33m.\u001b[0m\u001b[0mparameters\u001b[0m\u001b[1;33m,\u001b[0m \u001b[0margs\u001b[0m\u001b[1;33m)\u001b[0m\u001b[1;33m}\u001b[0m\u001b[1;33m)\u001b[0m\u001b[1;33m\u001b[0m\u001b[1;33m\u001b[0m\u001b[0m\n\u001b[1;32m---> 73\u001b[1;33m         \u001b[1;32mreturn\u001b[0m \u001b[0mf\u001b[0m\u001b[1;33m(\u001b[0m\u001b[1;33m**\u001b[0m\u001b[0mkwargs\u001b[0m\u001b[1;33m)\u001b[0m\u001b[1;33m\u001b[0m\u001b[1;33m\u001b[0m\u001b[0m\n\u001b[0m\u001b[0;32m     74\u001b[0m     \u001b[1;32mreturn\u001b[0m \u001b[0minner_f\u001b[0m\u001b[1;33m\u001b[0m\u001b[1;33m\u001b[0m\u001b[0m\n\u001b[0;32m     75\u001b[0m \u001b[1;33m\u001b[0m\u001b[0m\n",
      "\u001b[1;32mC:\\ProgramData\\Anaconda3\\lib\\site-packages\\sklearn\\utils\\validation.py\u001b[0m in \u001b[0;36mcheck_array\u001b[1;34m(array, accept_sparse, accept_large_sparse, dtype, order, copy, force_all_finite, ensure_2d, allow_nd, ensure_min_samples, ensure_min_features, estimator)\u001b[0m\n\u001b[0;32m    643\u001b[0m \u001b[1;33m\u001b[0m\u001b[0m\n\u001b[0;32m    644\u001b[0m         \u001b[1;32mif\u001b[0m \u001b[0mforce_all_finite\u001b[0m\u001b[1;33m:\u001b[0m\u001b[1;33m\u001b[0m\u001b[1;33m\u001b[0m\u001b[0m\n\u001b[1;32m--> 645\u001b[1;33m             _assert_all_finite(array,\n\u001b[0m\u001b[0;32m    646\u001b[0m                                allow_nan=force_all_finite == 'allow-nan')\n\u001b[0;32m    647\u001b[0m \u001b[1;33m\u001b[0m\u001b[0m\n",
      "\u001b[1;32mC:\\ProgramData\\Anaconda3\\lib\\site-packages\\sklearn\\utils\\validation.py\u001b[0m in \u001b[0;36m_assert_all_finite\u001b[1;34m(X, allow_nan, msg_dtype)\u001b[0m\n\u001b[0;32m     95\u001b[0m                 not allow_nan and not np.isfinite(X).all()):\n\u001b[0;32m     96\u001b[0m             \u001b[0mtype_err\u001b[0m \u001b[1;33m=\u001b[0m \u001b[1;34m'infinity'\u001b[0m \u001b[1;32mif\u001b[0m \u001b[0mallow_nan\u001b[0m \u001b[1;32melse\u001b[0m \u001b[1;34m'NaN, infinity'\u001b[0m\u001b[1;33m\u001b[0m\u001b[1;33m\u001b[0m\u001b[0m\n\u001b[1;32m---> 97\u001b[1;33m             raise ValueError(\n\u001b[0m\u001b[0;32m     98\u001b[0m                     \u001b[0mmsg_err\u001b[0m\u001b[1;33m.\u001b[0m\u001b[0mformat\u001b[0m\u001b[1;33m\u001b[0m\u001b[1;33m\u001b[0m\u001b[0m\n\u001b[0;32m     99\u001b[0m                     (type_err,\n",
      "\u001b[1;31mValueError\u001b[0m: Input contains NaN, infinity or a value too large for dtype('float64')."
     ]
    }
   ],
   "source": [
    "# Check the R-squared on test data\n",
    "re.score(stock_test[['open','high', 'low', 'change']], stock_test['close'])"
   ]
  },
  {
   "cell_type": "markdown",
   "id": "Fe48QcCD61jn",
   "metadata": {
    "id": "Fe48QcCD61jn"
   },
   "source": [
    "## **R-squared**"
   ]
  },
  {
   "cell_type": "code",
   "execution_count": null,
   "id": "NuwjgEkP1fhx",
   "metadata": {
    "id": "NuwjgEkP1fhx"
   },
   "outputs": [],
   "source": [
    "# Compare the actual y values in the training set with the predicted values\n",
    "actual_train = stock_train['close']\n",
    "predicted_train = re.predict(stock_train[['open','high', 'low', 'change']])\n",
    "predicted_train.shape"
   ]
  },
  {
   "cell_type": "code",
   "execution_count": null,
   "id": "yab1Ksnf7Eg4",
   "metadata": {
    "id": "yab1Ksnf7Eg4"
   },
   "outputs": [],
   "source": [
    "# Check the RMSE (root mean squared error) on the training data\n",
    "sqrt(mean_squared_error(actual_train, predicted_train))"
   ]
  },
  {
   "cell_type": "code",
   "execution_count": null,
   "id": "Nyg9vc6B29pT",
   "metadata": {
    "id": "Nyg9vc6B29pT"
   },
   "outputs": [],
   "source": [
    "# Compare the actual y values in the test set with the predicted values\n",
    "actual_test = stock_test['close']\n",
    "predicted_test = re.predict(stock_test[['open','high', 'low', 'change']])\n",
    "predicted_test.shape"
   ]
  }
 ],
 "metadata": {
  "colab": {
   "name": "Untitled.ipynb",
   "provenance": []
  },
  "kernelspec": {
   "display_name": "Python 3",
   "language": "python",
   "name": "python3"
  },
  "language_info": {
   "codemirror_mode": {
    "name": "ipython",
    "version": 3
   },
   "file_extension": ".py",
   "mimetype": "text/x-python",
   "name": "python",
   "nbconvert_exporter": "python",
   "pygments_lexer": "ipython3",
   "version": "3.8.8"
  }
 },
 "nbformat": 4,
 "nbformat_minor": 5
}
