{
  "nbformat": 4,
  "nbformat_minor": 5,
  "metadata": {
    "colab": {
      "name": "final_code (2).ipynb",
      "provenance": [],
      "collapsed_sections": [
        "2HQ-N7MLtoPI",
        "1e2b44f3"
      ]
    },
    "kernelspec": {
      "display_name": "Python 3",
      "language": "python",
      "name": "python3"
    },
    "language_info": {
      "codemirror_mode": {
        "name": "ipython",
        "version": 3
      },
      "file_extension": ".py",
      "mimetype": "text/x-python",
      "name": "python",
      "nbconvert_exporter": "python",
      "pygments_lexer": "ipython3",
      "version": "3.8.8"
    }
  },
  "cells": [
    {
      "cell_type": "markdown",
      "metadata": {
        "id": "b5wfWnPnP8pH"
      },
      "source": [
        "# ***Predicting Stock Prices with Linear Regression ***"
      ],
      "id": "b5wfWnPnP8pH"
    },
    {
      "cell_type": "markdown",
      "metadata": {
        "id": "itgVcWmTQIcK"
      },
      "source": [
        "### Stock market forecasting is an attractive application of linear regression. Modern machine learning packages like **scikit**-**learn** make implementing these analyses possible in a few lines of code."
      ],
      "id": "itgVcWmTQIcK"
    },
    {
      "cell_type": "markdown",
      "metadata": {
        "id": "tL7RuPxdVmmT"
      },
      "source": [
        "# **Step 1: Importing libraries**"
      ],
      "id": "tL7RuPxdVmmT"
    },
    {
      "cell_type": "code",
      "metadata": {
        "id": "971f285c"
      },
      "source": [
        "import numpy as np\n",
        "import pandas as pd\n",
        "import matplotlib.pyplot as plt\n",
        "import seaborn as sns\n",
        "from sklearn.linear_model import LinearRegression\n",
        "from sklearn.tree import DecisionTreeRegressor\n",
        "from sklearn.metrics import mean_squared_error\n",
        "from math import sqrt\n",
        "from datetime import datetime\n",
        "from sklearn.preprocessing import MinMaxScaler\n",
        "from sklearn.model_selection import train_test_split\n",
        "\n",
        "\n",
        "\n",
        "%config InlineBackend.figure_format = 'svg'\n",
        "%matplotlib inline "
      ],
      "id": "971f285c",
      "execution_count": 3,
      "outputs": []
    },
    {
      "cell_type": "markdown",
      "metadata": {
        "id": "-tEgIJJ3sTqi"
      },
      "source": [
        "## **Step 2: Read in and Explore the data**"
      ],
      "id": "-tEgIJJ3sTqi"
    },
    {
      "cell_type": "code",
      "metadata": {
        "id": "fa77b814",
        "colab": {
          "base_uri": "https://localhost:8080/",
          "height": 423
        },
        "outputId": "46eac3dc-1585-4668-bd21-3fb39822e1c1"
      },
      "source": [
        "## Read in the Tarin_data set\n",
        "stock_train = pd.read_csv('Tadawul_stcks.csv')\n",
        "stock_train"
      ],
      "id": "fa77b814",
      "execution_count": 4,
      "outputs": [
        {
          "output_type": "execute_result",
          "data": {
            "text/html": [
              "<div>\n",
              "<style scoped>\n",
              "    .dataframe tbody tr th:only-of-type {\n",
              "        vertical-align: middle;\n",
              "    }\n",
              "\n",
              "    .dataframe tbody tr th {\n",
              "        vertical-align: top;\n",
              "    }\n",
              "\n",
              "    .dataframe thead th {\n",
              "        text-align: right;\n",
              "    }\n",
              "</style>\n",
              "<table border=\"1\" class=\"dataframe\">\n",
              "  <thead>\n",
              "    <tr style=\"text-align: right;\">\n",
              "      <th></th>\n",
              "      <th>symbol</th>\n",
              "      <th>name</th>\n",
              "      <th>trading_name</th>\n",
              "      <th>sectoer</th>\n",
              "      <th>date</th>\n",
              "      <th>open</th>\n",
              "      <th>high</th>\n",
              "      <th>low</th>\n",
              "      <th>close</th>\n",
              "      <th>change</th>\n",
              "      <th>perc_Change</th>\n",
              "      <th>volume_traded</th>\n",
              "      <th>value_traded</th>\n",
              "      <th>no_trades</th>\n",
              "    </tr>\n",
              "  </thead>\n",
              "  <tbody>\n",
              "    <tr>\n",
              "      <th>0</th>\n",
              "      <td>2030</td>\n",
              "      <td>Saudi Arabia Refineries Co.</td>\n",
              "      <td>SARCO</td>\n",
              "      <td>Energy</td>\n",
              "      <td>2020-03-05</td>\n",
              "      <td>35.55</td>\n",
              "      <td>35.85</td>\n",
              "      <td>34.90</td>\n",
              "      <td>34.90</td>\n",
              "      <td>-0.40</td>\n",
              "      <td>-1.13</td>\n",
              "      <td>436609.0</td>\n",
              "      <td>15399073.50</td>\n",
              "      <td>804.0</td>\n",
              "    </tr>\n",
              "    <tr>\n",
              "      <th>1</th>\n",
              "      <td>2030</td>\n",
              "      <td>Saudi Arabia Refineries Co.</td>\n",
              "      <td>SARCO</td>\n",
              "      <td>Energy</td>\n",
              "      <td>2020-03-04</td>\n",
              "      <td>34.70</td>\n",
              "      <td>35.65</td>\n",
              "      <td>34.50</td>\n",
              "      <td>35.30</td>\n",
              "      <td>0.25</td>\n",
              "      <td>0.71</td>\n",
              "      <td>737624.0</td>\n",
              "      <td>25981391.35</td>\n",
              "      <td>1268.0</td>\n",
              "    </tr>\n",
              "    <tr>\n",
              "      <th>2</th>\n",
              "      <td>2030</td>\n",
              "      <td>Saudi Arabia Refineries Co.</td>\n",
              "      <td>SARCO</td>\n",
              "      <td>Energy</td>\n",
              "      <td>2020-03-03</td>\n",
              "      <td>34.70</td>\n",
              "      <td>35.15</td>\n",
              "      <td>34.70</td>\n",
              "      <td>35.05</td>\n",
              "      <td>1.05</td>\n",
              "      <td>3.09</td>\n",
              "      <td>489831.0</td>\n",
              "      <td>17116413.40</td>\n",
              "      <td>854.0</td>\n",
              "    </tr>\n",
              "    <tr>\n",
              "      <th>3</th>\n",
              "      <td>2030</td>\n",
              "      <td>Saudi Arabia Refineries Co.</td>\n",
              "      <td>SARCO</td>\n",
              "      <td>Energy</td>\n",
              "      <td>2020-03-02</td>\n",
              "      <td>35.20</td>\n",
              "      <td>35.65</td>\n",
              "      <td>34.00</td>\n",
              "      <td>34.00</td>\n",
              "      <td>-0.55</td>\n",
              "      <td>-1.59</td>\n",
              "      <td>736157.0</td>\n",
              "      <td>25858700.60</td>\n",
              "      <td>1242.0</td>\n",
              "    </tr>\n",
              "    <tr>\n",
              "      <th>4</th>\n",
              "      <td>2030</td>\n",
              "      <td>Saudi Arabia Refineries Co.</td>\n",
              "      <td>SARCO</td>\n",
              "      <td>Energy</td>\n",
              "      <td>2020-03-01</td>\n",
              "      <td>35.35</td>\n",
              "      <td>35.60</td>\n",
              "      <td>34.25</td>\n",
              "      <td>34.55</td>\n",
              "      <td>-2.05</td>\n",
              "      <td>-5.60</td>\n",
              "      <td>738685.0</td>\n",
              "      <td>25747967.55</td>\n",
              "      <td>1625.0</td>\n",
              "    </tr>\n",
              "    <tr>\n",
              "      <th>...</th>\n",
              "      <td>...</td>\n",
              "      <td>...</td>\n",
              "      <td>...</td>\n",
              "      <td>...</td>\n",
              "      <td>...</td>\n",
              "      <td>...</td>\n",
              "      <td>...</td>\n",
              "      <td>...</td>\n",
              "      <td>...</td>\n",
              "      <td>...</td>\n",
              "      <td>...</td>\n",
              "      <td>...</td>\n",
              "      <td>...</td>\n",
              "      <td>...</td>\n",
              "    </tr>\n",
              "    <tr>\n",
              "      <th>51288</th>\n",
              "      <td>2090</td>\n",
              "      <td>National Gypsum Co.</td>\n",
              "      <td>NGC</td>\n",
              "      <td>Materials</td>\n",
              "      <td>2016-05-08</td>\n",
              "      <td>14.80</td>\n",
              "      <td>15.00</td>\n",
              "      <td>14.80</td>\n",
              "      <td>14.84</td>\n",
              "      <td>0.20</td>\n",
              "      <td>1.37</td>\n",
              "      <td>307694.0</td>\n",
              "      <td>4591737.40</td>\n",
              "      <td>225.0</td>\n",
              "    </tr>\n",
              "    <tr>\n",
              "      <th>51289</th>\n",
              "      <td>2090</td>\n",
              "      <td>National Gypsum Co.</td>\n",
              "      <td>NGC</td>\n",
              "      <td>Materials</td>\n",
              "      <td>2016-05-05</td>\n",
              "      <td>14.50</td>\n",
              "      <td>15.30</td>\n",
              "      <td>14.50</td>\n",
              "      <td>14.64</td>\n",
              "      <td>0.30</td>\n",
              "      <td>2.09</td>\n",
              "      <td>1133024.0</td>\n",
              "      <td>16888908.65</td>\n",
              "      <td>703.0</td>\n",
              "    </tr>\n",
              "    <tr>\n",
              "      <th>51290</th>\n",
              "      <td>2090</td>\n",
              "      <td>National Gypsum Co.</td>\n",
              "      <td>NGC</td>\n",
              "      <td>Materials</td>\n",
              "      <td>2016-05-04</td>\n",
              "      <td>14.85</td>\n",
              "      <td>14.85</td>\n",
              "      <td>14.30</td>\n",
              "      <td>14.34</td>\n",
              "      <td>-0.41</td>\n",
              "      <td>-2.78</td>\n",
              "      <td>204782.0</td>\n",
              "      <td>2972333.40</td>\n",
              "      <td>143.0</td>\n",
              "    </tr>\n",
              "    <tr>\n",
              "      <th>51291</th>\n",
              "      <td>2090</td>\n",
              "      <td>National Gypsum Co.</td>\n",
              "      <td>NGC</td>\n",
              "      <td>Materials</td>\n",
              "      <td>2016-05-03</td>\n",
              "      <td>15.20</td>\n",
              "      <td>15.20</td>\n",
              "      <td>14.70</td>\n",
              "      <td>14.75</td>\n",
              "      <td>-0.42</td>\n",
              "      <td>-2.77</td>\n",
              "      <td>252550.0</td>\n",
              "      <td>3767259.25</td>\n",
              "      <td>211.0</td>\n",
              "    </tr>\n",
              "    <tr>\n",
              "      <th>51292</th>\n",
              "      <td>2090</td>\n",
              "      <td>National Gypsum Co.</td>\n",
              "      <td>NGC</td>\n",
              "      <td>Materials</td>\n",
              "      <td>2016-05-02</td>\n",
              "      <td>15.25</td>\n",
              "      <td>15.25</td>\n",
              "      <td>NaN</td>\n",
              "      <td>NaN</td>\n",
              "      <td>NaN</td>\n",
              "      <td>NaN</td>\n",
              "      <td>NaN</td>\n",
              "      <td>NaN</td>\n",
              "      <td>NaN</td>\n",
              "    </tr>\n",
              "  </tbody>\n",
              "</table>\n",
              "<p>51293 rows × 14 columns</p>\n",
              "</div>"
            ],
            "text/plain": [
              "       symbol                         name  ... value_traded no_trades \n",
              "0        2030  Saudi Arabia Refineries Co.  ...  15399073.50      804.0\n",
              "1        2030  Saudi Arabia Refineries Co.  ...  25981391.35     1268.0\n",
              "2        2030  Saudi Arabia Refineries Co.  ...  17116413.40      854.0\n",
              "3        2030  Saudi Arabia Refineries Co.  ...  25858700.60     1242.0\n",
              "4        2030  Saudi Arabia Refineries Co.  ...  25747967.55     1625.0\n",
              "...       ...                          ...  ...          ...        ...\n",
              "51288    2090          National Gypsum Co.  ...   4591737.40      225.0\n",
              "51289    2090          National Gypsum Co.  ...  16888908.65      703.0\n",
              "51290    2090          National Gypsum Co.  ...   2972333.40      143.0\n",
              "51291    2090          National Gypsum Co.  ...   3767259.25      211.0\n",
              "51292    2090          National Gypsum Co.  ...          NaN        NaN\n",
              "\n",
              "[51293 rows x 14 columns]"
            ]
          },
          "metadata": {},
          "execution_count": 4
        }
      ]
    },
    {
      "cell_type": "code",
      "metadata": {
        "id": "0mW1yhscBhro",
        "colab": {
          "base_uri": "https://localhost:8080/",
          "height": 423
        },
        "outputId": "d54dfc1a-b52c-4147-c422-dd5819ef0176"
      },
      "source": [
        "## Read in the Test_data set\n",
        "stock_test = pd.read_csv('Tadawul_stcks_23_4.csv')\n",
        "stock_test"
      ],
      "id": "0mW1yhscBhro",
      "execution_count": 5,
      "outputs": [
        {
          "output_type": "execute_result",
          "data": {
            "text/html": [
              "<div>\n",
              "<style scoped>\n",
              "    .dataframe tbody tr th:only-of-type {\n",
              "        vertical-align: middle;\n",
              "    }\n",
              "\n",
              "    .dataframe tbody tr th {\n",
              "        vertical-align: top;\n",
              "    }\n",
              "\n",
              "    .dataframe thead th {\n",
              "        text-align: right;\n",
              "    }\n",
              "</style>\n",
              "<table border=\"1\" class=\"dataframe\">\n",
              "  <thead>\n",
              "    <tr style=\"text-align: right;\">\n",
              "      <th></th>\n",
              "      <th>symbol</th>\n",
              "      <th>name</th>\n",
              "      <th>trading_name</th>\n",
              "      <th>sectoer</th>\n",
              "      <th>date</th>\n",
              "      <th>open</th>\n",
              "      <th>high</th>\n",
              "      <th>low</th>\n",
              "      <th>close</th>\n",
              "      <th>change</th>\n",
              "      <th>perc_Change</th>\n",
              "      <th>volume_traded</th>\n",
              "      <th>value_traded</th>\n",
              "      <th>no_trades</th>\n",
              "    </tr>\n",
              "  </thead>\n",
              "  <tbody>\n",
              "    <tr>\n",
              "      <th>0</th>\n",
              "      <td>2030</td>\n",
              "      <td>Saudi Arabia Refineries Co.</td>\n",
              "      <td>SARCO</td>\n",
              "      <td>Energy</td>\n",
              "      <td>2020-04-23</td>\n",
              "      <td>31.80</td>\n",
              "      <td>31.80</td>\n",
              "      <td>31.45</td>\n",
              "      <td>31.60</td>\n",
              "      <td>0.25</td>\n",
              "      <td>0.80</td>\n",
              "      <td>230790.0</td>\n",
              "      <td>7295880.55</td>\n",
              "      <td>507.0</td>\n",
              "    </tr>\n",
              "    <tr>\n",
              "      <th>1</th>\n",
              "      <td>2030</td>\n",
              "      <td>Saudi Arabia Refineries Co.</td>\n",
              "      <td>SARCO</td>\n",
              "      <td>Energy</td>\n",
              "      <td>2020-04-22</td>\n",
              "      <td>30.50</td>\n",
              "      <td>31.40</td>\n",
              "      <td>30.30</td>\n",
              "      <td>31.35</td>\n",
              "      <td>-0.35</td>\n",
              "      <td>-1.10</td>\n",
              "      <td>422695.0</td>\n",
              "      <td>13113020.10</td>\n",
              "      <td>1015.0</td>\n",
              "    </tr>\n",
              "    <tr>\n",
              "      <th>2</th>\n",
              "      <td>2030</td>\n",
              "      <td>Saudi Arabia Refineries Co.</td>\n",
              "      <td>SARCO</td>\n",
              "      <td>Energy</td>\n",
              "      <td>2020-04-21</td>\n",
              "      <td>31.70</td>\n",
              "      <td>32.30</td>\n",
              "      <td>31.30</td>\n",
              "      <td>31.70</td>\n",
              "      <td>-0.75</td>\n",
              "      <td>-2.31</td>\n",
              "      <td>266845.0</td>\n",
              "      <td>8497563.05</td>\n",
              "      <td>668.0</td>\n",
              "    </tr>\n",
              "    <tr>\n",
              "      <th>3</th>\n",
              "      <td>2030</td>\n",
              "      <td>Saudi Arabia Refineries Co.</td>\n",
              "      <td>SARCO</td>\n",
              "      <td>Energy</td>\n",
              "      <td>2020-04-20</td>\n",
              "      <td>32.70</td>\n",
              "      <td>32.90</td>\n",
              "      <td>32.10</td>\n",
              "      <td>32.45</td>\n",
              "      <td>-0.25</td>\n",
              "      <td>-0.76</td>\n",
              "      <td>254463.0</td>\n",
              "      <td>8271461.45</td>\n",
              "      <td>557.0</td>\n",
              "    </tr>\n",
              "    <tr>\n",
              "      <th>4</th>\n",
              "      <td>2030</td>\n",
              "      <td>Saudi Arabia Refineries Co.</td>\n",
              "      <td>SARCO</td>\n",
              "      <td>Energy</td>\n",
              "      <td>2020-04-19</td>\n",
              "      <td>32.50</td>\n",
              "      <td>32.80</td>\n",
              "      <td>32.45</td>\n",
              "      <td>32.70</td>\n",
              "      <td>0.50</td>\n",
              "      <td>1.55</td>\n",
              "      <td>199425.0</td>\n",
              "      <td>6500652.35</td>\n",
              "      <td>498.0</td>\n",
              "    </tr>\n",
              "    <tr>\n",
              "      <th>...</th>\n",
              "      <td>...</td>\n",
              "      <td>...</td>\n",
              "      <td>...</td>\n",
              "      <td>...</td>\n",
              "      <td>...</td>\n",
              "      <td>...</td>\n",
              "      <td>...</td>\n",
              "      <td>...</td>\n",
              "      <td>...</td>\n",
              "      <td>...</td>\n",
              "      <td>...</td>\n",
              "      <td>...</td>\n",
              "      <td>...</td>\n",
              "      <td>...</td>\n",
              "    </tr>\n",
              "    <tr>\n",
              "      <th>6987</th>\n",
              "      <td>4321</td>\n",
              "      <td>Arabian Centres Co.</td>\n",
              "      <td>ALMRAKEZ</td>\n",
              "      <td>Real Estate</td>\n",
              "      <td>2020-03-12</td>\n",
              "      <td>20.20</td>\n",
              "      <td>21.20</td>\n",
              "      <td>20.16</td>\n",
              "      <td>20.70</td>\n",
              "      <td>-1.70</td>\n",
              "      <td>-7.59</td>\n",
              "      <td>1618746.0</td>\n",
              "      <td>33206311.44</td>\n",
              "      <td>2329.0</td>\n",
              "    </tr>\n",
              "    <tr>\n",
              "      <th>6988</th>\n",
              "      <td>4321</td>\n",
              "      <td>Arabian Centres Co.</td>\n",
              "      <td>ALMRAKEZ</td>\n",
              "      <td>Real Estate</td>\n",
              "      <td>2020-03-11</td>\n",
              "      <td>24.50</td>\n",
              "      <td>24.50</td>\n",
              "      <td>21.60</td>\n",
              "      <td>22.40</td>\n",
              "      <td>-1.60</td>\n",
              "      <td>-6.67</td>\n",
              "      <td>1487872.0</td>\n",
              "      <td>33903289.20</td>\n",
              "      <td>2092.0</td>\n",
              "    </tr>\n",
              "    <tr>\n",
              "      <th>6989</th>\n",
              "      <td>4321</td>\n",
              "      <td>Arabian Centres Co.</td>\n",
              "      <td>ALMRAKEZ</td>\n",
              "      <td>Real Estate</td>\n",
              "      <td>2020-03-10</td>\n",
              "      <td>22.98</td>\n",
              "      <td>24.24</td>\n",
              "      <td>22.68</td>\n",
              "      <td>24.00</td>\n",
              "      <td>1.22</td>\n",
              "      <td>5.36</td>\n",
              "      <td>1877511.0</td>\n",
              "      <td>43740461.26</td>\n",
              "      <td>2359.0</td>\n",
              "    </tr>\n",
              "    <tr>\n",
              "      <th>6990</th>\n",
              "      <td>4321</td>\n",
              "      <td>Arabian Centres Co.</td>\n",
              "      <td>ALMRAKEZ</td>\n",
              "      <td>Real Estate</td>\n",
              "      <td>2020-03-09</td>\n",
              "      <td>22.78</td>\n",
              "      <td>23.18</td>\n",
              "      <td>22.78</td>\n",
              "      <td>22.78</td>\n",
              "      <td>-2.52</td>\n",
              "      <td>-9.96</td>\n",
              "      <td>1041240.0</td>\n",
              "      <td>23747279.76</td>\n",
              "      <td>893.0</td>\n",
              "    </tr>\n",
              "    <tr>\n",
              "      <th>6991</th>\n",
              "      <td>4321</td>\n",
              "      <td>Arabian Centres Co.</td>\n",
              "      <td>ALMRAKEZ</td>\n",
              "      <td>Real Estate</td>\n",
              "      <td>2020-03-08</td>\n",
              "      <td>25.30</td>\n",
              "      <td>25.65</td>\n",
              "      <td>25.30</td>\n",
              "      <td>25.30</td>\n",
              "      <td>-2.80</td>\n",
              "      <td>-9.96</td>\n",
              "      <td>1093053.0</td>\n",
              "      <td>27745024.40</td>\n",
              "      <td>771.0</td>\n",
              "    </tr>\n",
              "  </tbody>\n",
              "</table>\n",
              "<p>6992 rows × 14 columns</p>\n",
              "</div>"
            ],
            "text/plain": [
              "      symbol                         name  ... value_traded no_trades \n",
              "0       2030  Saudi Arabia Refineries Co.  ...   7295880.55      507.0\n",
              "1       2030  Saudi Arabia Refineries Co.  ...  13113020.10     1015.0\n",
              "2       2030  Saudi Arabia Refineries Co.  ...   8497563.05      668.0\n",
              "3       2030  Saudi Arabia Refineries Co.  ...   8271461.45      557.0\n",
              "4       2030  Saudi Arabia Refineries Co.  ...   6500652.35      498.0\n",
              "...      ...                          ...  ...          ...        ...\n",
              "6987    4321          Arabian Centres Co.  ...  33206311.44     2329.0\n",
              "6988    4321          Arabian Centres Co.  ...  33903289.20     2092.0\n",
              "6989    4321          Arabian Centres Co.  ...  43740461.26     2359.0\n",
              "6990    4321          Arabian Centres Co.  ...  23747279.76      893.0\n",
              "6991    4321          Arabian Centres Co.  ...  27745024.40      771.0\n",
              "\n",
              "[6992 rows x 14 columns]"
            ]
          },
          "metadata": {},
          "execution_count": 5
        }
      ]
    },
    {
      "cell_type": "code",
      "metadata": {
        "id": "0bfd7999",
        "colab": {
          "base_uri": "https://localhost:8080/"
        },
        "outputId": "eea241d5-6847-4760-a6cc-10b421f16d29"
      },
      "source": [
        "## Get information of train_Data\n",
        "stock_train.info()"
      ],
      "id": "0bfd7999",
      "execution_count": 6,
      "outputs": [
        {
          "output_type": "stream",
          "name": "stdout",
          "text": [
            "<class 'pandas.core.frame.DataFrame'>\n",
            "RangeIndex: 51293 entries, 0 to 51292\n",
            "Data columns (total 14 columns):\n",
            " #   Column          Non-Null Count  Dtype  \n",
            "---  ------          --------------  -----  \n",
            " 0   symbol          51293 non-null  int64  \n",
            " 1   name            51293 non-null  object \n",
            " 2   trading_name    51293 non-null  object \n",
            " 3   sectoer         51293 non-null  object \n",
            " 4   date            51293 non-null  object \n",
            " 5   open            51217 non-null  float64\n",
            " 6   high            51214 non-null  float64\n",
            " 7   low             51213 non-null  float64\n",
            " 8   close           51292 non-null  float64\n",
            " 9   change          51292 non-null  float64\n",
            " 10  perc_Change     51292 non-null  float64\n",
            " 11  volume_traded   51292 non-null  float64\n",
            " 12  value_traded    51292 non-null  float64\n",
            " 13  no_trades       51292 non-null  float64\n",
            "dtypes: float64(9), int64(1), object(4)\n",
            "memory usage: 5.5+ MB\n"
          ]
        }
      ]
    },
    {
      "cell_type": "code",
      "metadata": {
        "id": "g9X7S41Vm2DK",
        "colab": {
          "base_uri": "https://localhost:8080/"
        },
        "outputId": "dc0c7367-c71d-48c8-8f2b-26aea2689373"
      },
      "source": [
        "## Get information of test_Data\n",
        "stock_test.info()"
      ],
      "id": "g9X7S41Vm2DK",
      "execution_count": 7,
      "outputs": [
        {
          "output_type": "stream",
          "name": "stdout",
          "text": [
            "<class 'pandas.core.frame.DataFrame'>\n",
            "RangeIndex: 6992 entries, 0 to 6991\n",
            "Data columns (total 14 columns):\n",
            " #   Column          Non-Null Count  Dtype  \n",
            "---  ------          --------------  -----  \n",
            " 0   symbol          6992 non-null   int64  \n",
            " 1   name            6992 non-null   object \n",
            " 2   trading_name    6992 non-null   object \n",
            " 3   sectoer         6992 non-null   object \n",
            " 4   date            6992 non-null   object \n",
            " 5   open            6830 non-null   float64\n",
            " 6   high            6830 non-null   float64\n",
            " 7   low             6830 non-null   float64\n",
            " 8   close           6992 non-null   float64\n",
            " 9   change          6992 non-null   float64\n",
            " 10  perc_Change     6992 non-null   float64\n",
            " 11  volume_traded   6992 non-null   float64\n",
            " 12  value_traded    6992 non-null   float64\n",
            " 13  no_trades       6992 non-null   float64\n",
            "dtypes: float64(9), int64(1), object(4)\n",
            "memory usage: 764.9+ KB\n"
          ]
        }
      ]
    },
    {
      "cell_type": "code",
      "metadata": {
        "id": "XQtflN_7njdN",
        "colab": {
          "base_uri": "https://localhost:8080/"
        },
        "outputId": "fcf93b39-4e65-4337-c198-ebe4e7d71dc0"
      },
      "source": [
        "stock_train.shape"
      ],
      "id": "XQtflN_7njdN",
      "execution_count": 8,
      "outputs": [
        {
          "output_type": "execute_result",
          "data": {
            "text/plain": [
              "(51293, 14)"
            ]
          },
          "metadata": {},
          "execution_count": 8
        }
      ]
    },
    {
      "cell_type": "code",
      "metadata": {
        "id": "jNgOAc53nuCk",
        "colab": {
          "base_uri": "https://localhost:8080/"
        },
        "outputId": "6a51ef6b-1698-4887-fcfd-82e0cd95de2b"
      },
      "source": [
        "stock_test.shape"
      ],
      "id": "jNgOAc53nuCk",
      "execution_count": 9,
      "outputs": [
        {
          "output_type": "execute_result",
          "data": {
            "text/plain": [
              "(6992, 14)"
            ]
          },
          "metadata": {},
          "execution_count": 9
        }
      ]
    },
    {
      "cell_type": "code",
      "metadata": {
        "colab": {
          "base_uri": "https://localhost:8080/",
          "height": 206
        },
        "id": "DiM-DgP_WB-J",
        "outputId": "2f7bd734-efcc-4476-c47c-f9c3b3d40ace"
      },
      "source": [
        "## Represent first Five rows in train_data\n",
        "stock_train.head()"
      ],
      "id": "DiM-DgP_WB-J",
      "execution_count": 10,
      "outputs": [
        {
          "output_type": "execute_result",
          "data": {
            "text/html": [
              "<div>\n",
              "<style scoped>\n",
              "    .dataframe tbody tr th:only-of-type {\n",
              "        vertical-align: middle;\n",
              "    }\n",
              "\n",
              "    .dataframe tbody tr th {\n",
              "        vertical-align: top;\n",
              "    }\n",
              "\n",
              "    .dataframe thead th {\n",
              "        text-align: right;\n",
              "    }\n",
              "</style>\n",
              "<table border=\"1\" class=\"dataframe\">\n",
              "  <thead>\n",
              "    <tr style=\"text-align: right;\">\n",
              "      <th></th>\n",
              "      <th>symbol</th>\n",
              "      <th>name</th>\n",
              "      <th>trading_name</th>\n",
              "      <th>sectoer</th>\n",
              "      <th>date</th>\n",
              "      <th>open</th>\n",
              "      <th>high</th>\n",
              "      <th>low</th>\n",
              "      <th>close</th>\n",
              "      <th>change</th>\n",
              "      <th>perc_Change</th>\n",
              "      <th>volume_traded</th>\n",
              "      <th>value_traded</th>\n",
              "      <th>no_trades</th>\n",
              "    </tr>\n",
              "  </thead>\n",
              "  <tbody>\n",
              "    <tr>\n",
              "      <th>0</th>\n",
              "      <td>2030</td>\n",
              "      <td>Saudi Arabia Refineries Co.</td>\n",
              "      <td>SARCO</td>\n",
              "      <td>Energy</td>\n",
              "      <td>2020-03-05</td>\n",
              "      <td>35.55</td>\n",
              "      <td>35.85</td>\n",
              "      <td>34.90</td>\n",
              "      <td>34.90</td>\n",
              "      <td>-0.40</td>\n",
              "      <td>-1.13</td>\n",
              "      <td>436609.0</td>\n",
              "      <td>15399073.50</td>\n",
              "      <td>804.0</td>\n",
              "    </tr>\n",
              "    <tr>\n",
              "      <th>1</th>\n",
              "      <td>2030</td>\n",
              "      <td>Saudi Arabia Refineries Co.</td>\n",
              "      <td>SARCO</td>\n",
              "      <td>Energy</td>\n",
              "      <td>2020-03-04</td>\n",
              "      <td>34.70</td>\n",
              "      <td>35.65</td>\n",
              "      <td>34.50</td>\n",
              "      <td>35.30</td>\n",
              "      <td>0.25</td>\n",
              "      <td>0.71</td>\n",
              "      <td>737624.0</td>\n",
              "      <td>25981391.35</td>\n",
              "      <td>1268.0</td>\n",
              "    </tr>\n",
              "    <tr>\n",
              "      <th>2</th>\n",
              "      <td>2030</td>\n",
              "      <td>Saudi Arabia Refineries Co.</td>\n",
              "      <td>SARCO</td>\n",
              "      <td>Energy</td>\n",
              "      <td>2020-03-03</td>\n",
              "      <td>34.70</td>\n",
              "      <td>35.15</td>\n",
              "      <td>34.70</td>\n",
              "      <td>35.05</td>\n",
              "      <td>1.05</td>\n",
              "      <td>3.09</td>\n",
              "      <td>489831.0</td>\n",
              "      <td>17116413.40</td>\n",
              "      <td>854.0</td>\n",
              "    </tr>\n",
              "    <tr>\n",
              "      <th>3</th>\n",
              "      <td>2030</td>\n",
              "      <td>Saudi Arabia Refineries Co.</td>\n",
              "      <td>SARCO</td>\n",
              "      <td>Energy</td>\n",
              "      <td>2020-03-02</td>\n",
              "      <td>35.20</td>\n",
              "      <td>35.65</td>\n",
              "      <td>34.00</td>\n",
              "      <td>34.00</td>\n",
              "      <td>-0.55</td>\n",
              "      <td>-1.59</td>\n",
              "      <td>736157.0</td>\n",
              "      <td>25858700.60</td>\n",
              "      <td>1242.0</td>\n",
              "    </tr>\n",
              "    <tr>\n",
              "      <th>4</th>\n",
              "      <td>2030</td>\n",
              "      <td>Saudi Arabia Refineries Co.</td>\n",
              "      <td>SARCO</td>\n",
              "      <td>Energy</td>\n",
              "      <td>2020-03-01</td>\n",
              "      <td>35.35</td>\n",
              "      <td>35.60</td>\n",
              "      <td>34.25</td>\n",
              "      <td>34.55</td>\n",
              "      <td>-2.05</td>\n",
              "      <td>-5.60</td>\n",
              "      <td>738685.0</td>\n",
              "      <td>25747967.55</td>\n",
              "      <td>1625.0</td>\n",
              "    </tr>\n",
              "  </tbody>\n",
              "</table>\n",
              "</div>"
            ],
            "text/plain": [
              "   symbol                         name  ... value_traded no_trades \n",
              "0    2030  Saudi Arabia Refineries Co.  ...  15399073.50      804.0\n",
              "1    2030  Saudi Arabia Refineries Co.  ...  25981391.35     1268.0\n",
              "2    2030  Saudi Arabia Refineries Co.  ...  17116413.40      854.0\n",
              "3    2030  Saudi Arabia Refineries Co.  ...  25858700.60     1242.0\n",
              "4    2030  Saudi Arabia Refineries Co.  ...  25747967.55     1625.0\n",
              "\n",
              "[5 rows x 14 columns]"
            ]
          },
          "metadata": {},
          "execution_count": 10
        }
      ]
    },
    {
      "cell_type": "code",
      "metadata": {
        "id": "yuaWQKYrWLFe",
        "colab": {
          "base_uri": "https://localhost:8080/",
          "height": 206
        },
        "outputId": "74ebdd67-ac66-47e4-e109-cee82e156470"
      },
      "source": [
        "## Represent first Five rows in test_data\n",
        "stock_test.head()"
      ],
      "id": "yuaWQKYrWLFe",
      "execution_count": 11,
      "outputs": [
        {
          "output_type": "execute_result",
          "data": {
            "text/html": [
              "<div>\n",
              "<style scoped>\n",
              "    .dataframe tbody tr th:only-of-type {\n",
              "        vertical-align: middle;\n",
              "    }\n",
              "\n",
              "    .dataframe tbody tr th {\n",
              "        vertical-align: top;\n",
              "    }\n",
              "\n",
              "    .dataframe thead th {\n",
              "        text-align: right;\n",
              "    }\n",
              "</style>\n",
              "<table border=\"1\" class=\"dataframe\">\n",
              "  <thead>\n",
              "    <tr style=\"text-align: right;\">\n",
              "      <th></th>\n",
              "      <th>symbol</th>\n",
              "      <th>name</th>\n",
              "      <th>trading_name</th>\n",
              "      <th>sectoer</th>\n",
              "      <th>date</th>\n",
              "      <th>open</th>\n",
              "      <th>high</th>\n",
              "      <th>low</th>\n",
              "      <th>close</th>\n",
              "      <th>change</th>\n",
              "      <th>perc_Change</th>\n",
              "      <th>volume_traded</th>\n",
              "      <th>value_traded</th>\n",
              "      <th>no_trades</th>\n",
              "    </tr>\n",
              "  </thead>\n",
              "  <tbody>\n",
              "    <tr>\n",
              "      <th>0</th>\n",
              "      <td>2030</td>\n",
              "      <td>Saudi Arabia Refineries Co.</td>\n",
              "      <td>SARCO</td>\n",
              "      <td>Energy</td>\n",
              "      <td>2020-04-23</td>\n",
              "      <td>31.8</td>\n",
              "      <td>31.8</td>\n",
              "      <td>31.45</td>\n",
              "      <td>31.60</td>\n",
              "      <td>0.25</td>\n",
              "      <td>0.80</td>\n",
              "      <td>230790.0</td>\n",
              "      <td>7295880.55</td>\n",
              "      <td>507.0</td>\n",
              "    </tr>\n",
              "    <tr>\n",
              "      <th>1</th>\n",
              "      <td>2030</td>\n",
              "      <td>Saudi Arabia Refineries Co.</td>\n",
              "      <td>SARCO</td>\n",
              "      <td>Energy</td>\n",
              "      <td>2020-04-22</td>\n",
              "      <td>30.5</td>\n",
              "      <td>31.4</td>\n",
              "      <td>30.30</td>\n",
              "      <td>31.35</td>\n",
              "      <td>-0.35</td>\n",
              "      <td>-1.10</td>\n",
              "      <td>422695.0</td>\n",
              "      <td>13113020.10</td>\n",
              "      <td>1015.0</td>\n",
              "    </tr>\n",
              "    <tr>\n",
              "      <th>2</th>\n",
              "      <td>2030</td>\n",
              "      <td>Saudi Arabia Refineries Co.</td>\n",
              "      <td>SARCO</td>\n",
              "      <td>Energy</td>\n",
              "      <td>2020-04-21</td>\n",
              "      <td>31.7</td>\n",
              "      <td>32.3</td>\n",
              "      <td>31.30</td>\n",
              "      <td>31.70</td>\n",
              "      <td>-0.75</td>\n",
              "      <td>-2.31</td>\n",
              "      <td>266845.0</td>\n",
              "      <td>8497563.05</td>\n",
              "      <td>668.0</td>\n",
              "    </tr>\n",
              "    <tr>\n",
              "      <th>3</th>\n",
              "      <td>2030</td>\n",
              "      <td>Saudi Arabia Refineries Co.</td>\n",
              "      <td>SARCO</td>\n",
              "      <td>Energy</td>\n",
              "      <td>2020-04-20</td>\n",
              "      <td>32.7</td>\n",
              "      <td>32.9</td>\n",
              "      <td>32.10</td>\n",
              "      <td>32.45</td>\n",
              "      <td>-0.25</td>\n",
              "      <td>-0.76</td>\n",
              "      <td>254463.0</td>\n",
              "      <td>8271461.45</td>\n",
              "      <td>557.0</td>\n",
              "    </tr>\n",
              "    <tr>\n",
              "      <th>4</th>\n",
              "      <td>2030</td>\n",
              "      <td>Saudi Arabia Refineries Co.</td>\n",
              "      <td>SARCO</td>\n",
              "      <td>Energy</td>\n",
              "      <td>2020-04-19</td>\n",
              "      <td>32.5</td>\n",
              "      <td>32.8</td>\n",
              "      <td>32.45</td>\n",
              "      <td>32.70</td>\n",
              "      <td>0.50</td>\n",
              "      <td>1.55</td>\n",
              "      <td>199425.0</td>\n",
              "      <td>6500652.35</td>\n",
              "      <td>498.0</td>\n",
              "    </tr>\n",
              "  </tbody>\n",
              "</table>\n",
              "</div>"
            ],
            "text/plain": [
              "   symbol                         name  ... value_traded no_trades \n",
              "0    2030  Saudi Arabia Refineries Co.  ...   7295880.55      507.0\n",
              "1    2030  Saudi Arabia Refineries Co.  ...  13113020.10     1015.0\n",
              "2    2030  Saudi Arabia Refineries Co.  ...   8497563.05      668.0\n",
              "3    2030  Saudi Arabia Refineries Co.  ...   8271461.45      557.0\n",
              "4    2030  Saudi Arabia Refineries Co.  ...   6500652.35      498.0\n",
              "\n",
              "[5 rows x 14 columns]"
            ]
          },
          "metadata": {},
          "execution_count": 11
        }
      ]
    },
    {
      "cell_type": "code",
      "metadata": {
        "colab": {
          "base_uri": "https://localhost:8080/"
        },
        "id": "nx6tZkNiXc4N",
        "outputId": "a6d6cb9e-de3c-414a-fd2c-372741f353f4"
      },
      "source": [
        "#Find the duplicates\n",
        "stock_train.duplicated().sum()"
      ],
      "id": "nx6tZkNiXc4N",
      "execution_count": 12,
      "outputs": [
        {
          "output_type": "execute_result",
          "data": {
            "text/plain": [
              "0"
            ]
          },
          "metadata": {},
          "execution_count": 12
        }
      ]
    },
    {
      "cell_type": "code",
      "metadata": {
        "id": "LDArFSy6YXlH",
        "colab": {
          "base_uri": "https://localhost:8080/",
          "height": 50
        },
        "outputId": "b701f700-56e9-47d7-df62-2321727f80cd"
      },
      "source": [
        "# Extract duplicate rows\n",
        "stock_train.loc[stock_train.duplicated(), :]"
      ],
      "id": "LDArFSy6YXlH",
      "execution_count": 13,
      "outputs": [
        {
          "output_type": "execute_result",
          "data": {
            "text/html": [
              "<div>\n",
              "<style scoped>\n",
              "    .dataframe tbody tr th:only-of-type {\n",
              "        vertical-align: middle;\n",
              "    }\n",
              "\n",
              "    .dataframe tbody tr th {\n",
              "        vertical-align: top;\n",
              "    }\n",
              "\n",
              "    .dataframe thead th {\n",
              "        text-align: right;\n",
              "    }\n",
              "</style>\n",
              "<table border=\"1\" class=\"dataframe\">\n",
              "  <thead>\n",
              "    <tr style=\"text-align: right;\">\n",
              "      <th></th>\n",
              "      <th>symbol</th>\n",
              "      <th>name</th>\n",
              "      <th>trading_name</th>\n",
              "      <th>sectoer</th>\n",
              "      <th>date</th>\n",
              "      <th>open</th>\n",
              "      <th>high</th>\n",
              "      <th>low</th>\n",
              "      <th>close</th>\n",
              "      <th>change</th>\n",
              "      <th>perc_Change</th>\n",
              "      <th>volume_traded</th>\n",
              "      <th>value_traded</th>\n",
              "      <th>no_trades</th>\n",
              "    </tr>\n",
              "  </thead>\n",
              "  <tbody>\n",
              "  </tbody>\n",
              "</table>\n",
              "</div>"
            ],
            "text/plain": [
              "Empty DataFrame\n",
              "Columns: [symbol, name, trading_name , sectoer, date, open, high, low, close, change, perc_Change, volume_traded , value_traded, no_trades ]\n",
              "Index: []"
            ]
          },
          "metadata": {},
          "execution_count": 13
        }
      ]
    },
    {
      "cell_type": "code",
      "metadata": {
        "id": "2Y7HUJo-ZefO"
      },
      "source": [
        "# Remove duplicate rows\n",
        "stock_train.drop_duplicates(inplace=True)"
      ],
      "id": "2Y7HUJo-ZefO",
      "execution_count": 14,
      "outputs": []
    },
    {
      "cell_type": "markdown",
      "metadata": {
        "id": "KufG82PhWec0"
      },
      "source": [
        "# **Step 3: Descriptive Statistics**"
      ],
      "id": "KufG82PhWec0"
    },
    {
      "cell_type": "code",
      "metadata": {
        "id": "180b56be",
        "colab": {
          "base_uri": "https://localhost:8080/",
          "height": 300
        },
        "outputId": "bc663727-6c0d-4588-a28c-e6ef4059fe37"
      },
      "source": [
        "# descriptive statistic parameters for the dataset to see the number of null values, datatypes, and memory usage\n",
        "stock_train.describe()"
      ],
      "id": "180b56be",
      "execution_count": 15,
      "outputs": [
        {
          "output_type": "execute_result",
          "data": {
            "text/html": [
              "<div>\n",
              "<style scoped>\n",
              "    .dataframe tbody tr th:only-of-type {\n",
              "        vertical-align: middle;\n",
              "    }\n",
              "\n",
              "    .dataframe tbody tr th {\n",
              "        vertical-align: top;\n",
              "    }\n",
              "\n",
              "    .dataframe thead th {\n",
              "        text-align: right;\n",
              "    }\n",
              "</style>\n",
              "<table border=\"1\" class=\"dataframe\">\n",
              "  <thead>\n",
              "    <tr style=\"text-align: right;\">\n",
              "      <th></th>\n",
              "      <th>symbol</th>\n",
              "      <th>open</th>\n",
              "      <th>high</th>\n",
              "      <th>low</th>\n",
              "      <th>close</th>\n",
              "      <th>change</th>\n",
              "      <th>perc_Change</th>\n",
              "      <th>volume_traded</th>\n",
              "      <th>value_traded</th>\n",
              "      <th>no_trades</th>\n",
              "    </tr>\n",
              "  </thead>\n",
              "  <tbody>\n",
              "    <tr>\n",
              "      <th>count</th>\n",
              "      <td>51293.000000</td>\n",
              "      <td>51217.000000</td>\n",
              "      <td>51214.000000</td>\n",
              "      <td>51213.000000</td>\n",
              "      <td>51292.000000</td>\n",
              "      <td>51292.000000</td>\n",
              "      <td>51292.000000</td>\n",
              "      <td>5.129200e+04</td>\n",
              "      <td>5.129200e+04</td>\n",
              "      <td>51292.000000</td>\n",
              "    </tr>\n",
              "    <tr>\n",
              "      <th>mean</th>\n",
              "      <td>2157.256331</td>\n",
              "      <td>38.204623</td>\n",
              "      <td>38.746710</td>\n",
              "      <td>37.704384</td>\n",
              "      <td>38.167003</td>\n",
              "      <td>0.002568</td>\n",
              "      <td>0.026153</td>\n",
              "      <td>2.299308e+06</td>\n",
              "      <td>9.842619e+07</td>\n",
              "      <td>1244.477501</td>\n",
              "    </tr>\n",
              "    <tr>\n",
              "      <th>std</th>\n",
              "      <td>927.821560</td>\n",
              "      <td>34.671569</td>\n",
              "      <td>35.279181</td>\n",
              "      <td>34.129145</td>\n",
              "      <td>34.682681</td>\n",
              "      <td>1.687899</td>\n",
              "      <td>2.463776</td>\n",
              "      <td>5.290290e+06</td>\n",
              "      <td>2.606215e+08</td>\n",
              "      <td>5004.987066</td>\n",
              "    </tr>\n",
              "    <tr>\n",
              "      <th>min</th>\n",
              "      <td>1201.000000</td>\n",
              "      <td>2.250000</td>\n",
              "      <td>2.250000</td>\n",
              "      <td>2.250000</td>\n",
              "      <td>0.000000</td>\n",
              "      <td>-143.840000</td>\n",
              "      <td>-100.000000</td>\n",
              "      <td>0.000000e+00</td>\n",
              "      <td>0.000000e+00</td>\n",
              "      <td>0.000000</td>\n",
              "    </tr>\n",
              "    <tr>\n",
              "      <th>25%</th>\n",
              "      <td>1320.000000</td>\n",
              "      <td>17.120000</td>\n",
              "      <td>17.300000</td>\n",
              "      <td>16.980000</td>\n",
              "      <td>17.100000</td>\n",
              "      <td>-0.250000</td>\n",
              "      <td>-0.890000</td>\n",
              "      <td>2.530878e+05</td>\n",
              "      <td>6.795741e+06</td>\n",
              "      <td>238.000000</td>\n",
              "    </tr>\n",
              "    <tr>\n",
              "      <th>50%</th>\n",
              "      <td>2020.000000</td>\n",
              "      <td>26.000000</td>\n",
              "      <td>26.400000</td>\n",
              "      <td>25.700000</td>\n",
              "      <td>26.000000</td>\n",
              "      <td>0.000000</td>\n",
              "      <td>0.000000</td>\n",
              "      <td>7.635730e+05</td>\n",
              "      <td>2.014302e+07</td>\n",
              "      <td>505.000000</td>\n",
              "    </tr>\n",
              "    <tr>\n",
              "      <th>75%</th>\n",
              "      <td>2060.000000</td>\n",
              "      <td>43.000000</td>\n",
              "      <td>43.800000</td>\n",
              "      <td>42.500000</td>\n",
              "      <td>43.000000</td>\n",
              "      <td>0.250000</td>\n",
              "      <td>0.920000</td>\n",
              "      <td>2.419690e+06</td>\n",
              "      <td>6.720489e+07</td>\n",
              "      <td>1228.000000</td>\n",
              "    </tr>\n",
              "    <tr>\n",
              "      <th>max</th>\n",
              "      <td>4200.000000</td>\n",
              "      <td>389.250000</td>\n",
              "      <td>421.500000</td>\n",
              "      <td>386.250000</td>\n",
              "      <td>398.250000</td>\n",
              "      <td>92.000000</td>\n",
              "      <td>14.580000</td>\n",
              "      <td>4.179278e+08</td>\n",
              "      <td>1.586582e+10</td>\n",
              "      <td>587262.000000</td>\n",
              "    </tr>\n",
              "  </tbody>\n",
              "</table>\n",
              "</div>"
            ],
            "text/plain": [
              "             symbol          open  ...  value_traded     no_trades \n",
              "count  51293.000000  51217.000000  ...  5.129200e+04   51292.000000\n",
              "mean    2157.256331     38.204623  ...  9.842619e+07    1244.477501\n",
              "std      927.821560     34.671569  ...  2.606215e+08    5004.987066\n",
              "min     1201.000000      2.250000  ...  0.000000e+00       0.000000\n",
              "25%     1320.000000     17.120000  ...  6.795741e+06     238.000000\n",
              "50%     2020.000000     26.000000  ...  2.014302e+07     505.000000\n",
              "75%     2060.000000     43.000000  ...  6.720489e+07    1228.000000\n",
              "max     4200.000000    389.250000  ...  1.586582e+10  587262.000000\n",
              "\n",
              "[8 rows x 10 columns]"
            ]
          },
          "metadata": {},
          "execution_count": 15
        }
      ]
    },
    {
      "cell_type": "markdown",
      "metadata": {
        "id": "I7TYOng1r0rS"
      },
      "source": [
        "."
      ],
      "id": "I7TYOng1r0rS"
    },
    {
      "cell_type": "markdown",
      "metadata": {
        "id": "X9TDzutVuMHC"
      },
      "source": [
        "# **Step 4: Prepare the data (Cleaning)**"
      ],
      "id": "X9TDzutVuMHC"
    },
    {
      "cell_type": "markdown",
      "metadata": {
        "id": "ipT3rICNkBWl"
      },
      "source": [
        "### **Missing value imputation**\n",
        "\n",
        "\n",
        "### We will now check for missing values in our dataset. In case there are any missing entries, we will impute them with appropriate values (mode in case of categorical feature, and median or mean in case of numerical feature). We will use the isnull() function for this purpose."
      ],
      "id": "ipT3rICNkBWl"
    },
    {
      "cell_type": "code",
      "metadata": {
        "id": "sCb9f8FlXpbI",
        "colab": {
          "base_uri": "https://localhost:8080/"
        },
        "outputId": "c6f78267-77f4-4973-939f-5b6641fd83f6"
      },
      "source": [
        "stock_train.isnull().sum()"
      ],
      "id": "sCb9f8FlXpbI",
      "execution_count": 16,
      "outputs": [
        {
          "output_type": "execute_result",
          "data": {
            "text/plain": [
              "symbol             0\n",
              "name               0\n",
              "trading_name       0\n",
              "sectoer            0\n",
              "date               0\n",
              "open              76\n",
              "high              79\n",
              "low               80\n",
              "close              1\n",
              "change             1\n",
              "perc_Change        1\n",
              "volume_traded      1\n",
              "value_traded       1\n",
              "no_trades          1\n",
              "dtype: int64"
            ]
          },
          "metadata": {},
          "execution_count": 16
        }
      ]
    },
    {
      "cell_type": "code",
      "metadata": {
        "id": "6af5e082"
      },
      "source": [
        "stock_train.dropna(inplace = True)\n",
        "stock_test.dropna(inplace = True)"
      ],
      "id": "6af5e082",
      "execution_count": 17,
      "outputs": []
    },
    {
      "cell_type": "code",
      "metadata": {
        "id": "7a1c80bc",
        "colab": {
          "base_uri": "https://localhost:8080/"
        },
        "outputId": "86b61cf2-53bc-4584-f1e6-dc9d1f5d9b54"
      },
      "source": [
        "stock_train.open[stock_train.open>47.0]= stock_train.open.median()"
      ],
      "id": "7a1c80bc",
      "execution_count": 18,
      "outputs": [
        {
          "output_type": "stream",
          "name": "stderr",
          "text": [
            "/usr/local/lib/python3.7/dist-packages/ipykernel_launcher.py:1: SettingWithCopyWarning: \n",
            "A value is trying to be set on a copy of a slice from a DataFrame\n",
            "\n",
            "See the caveats in the documentation: https://pandas.pydata.org/pandas-docs/stable/user_guide/indexing.html#returning-a-view-versus-a-copy\n",
            "  \"\"\"Entry point for launching an IPython kernel.\n"
          ]
        }
      ]
    },
    {
      "cell_type": "code",
      "metadata": {
        "id": "eee45063",
        "colab": {
          "base_uri": "https://localhost:8080/",
          "height": 300
        },
        "outputId": "d629d3a4-0d79-4e71-c5db-5e248caf21f3"
      },
      "source": [
        "stock_train.describe()"
      ],
      "id": "eee45063",
      "execution_count": 19,
      "outputs": [
        {
          "output_type": "execute_result",
          "data": {
            "text/html": [
              "<div>\n",
              "<style scoped>\n",
              "    .dataframe tbody tr th:only-of-type {\n",
              "        vertical-align: middle;\n",
              "    }\n",
              "\n",
              "    .dataframe tbody tr th {\n",
              "        vertical-align: top;\n",
              "    }\n",
              "\n",
              "    .dataframe thead th {\n",
              "        text-align: right;\n",
              "    }\n",
              "</style>\n",
              "<table border=\"1\" class=\"dataframe\">\n",
              "  <thead>\n",
              "    <tr style=\"text-align: right;\">\n",
              "      <th></th>\n",
              "      <th>symbol</th>\n",
              "      <th>open</th>\n",
              "      <th>high</th>\n",
              "      <th>low</th>\n",
              "      <th>close</th>\n",
              "      <th>change</th>\n",
              "      <th>perc_Change</th>\n",
              "      <th>volume_traded</th>\n",
              "      <th>value_traded</th>\n",
              "      <th>no_trades</th>\n",
              "    </tr>\n",
              "  </thead>\n",
              "  <tbody>\n",
              "    <tr>\n",
              "      <th>count</th>\n",
              "      <td>51213.000000</td>\n",
              "      <td>51213.000000</td>\n",
              "      <td>51213.000000</td>\n",
              "      <td>51213.000000</td>\n",
              "      <td>51213.000000</td>\n",
              "      <td>51213.000000</td>\n",
              "      <td>51213.000000</td>\n",
              "      <td>5.121300e+04</td>\n",
              "      <td>5.121300e+04</td>\n",
              "      <td>51213.000000</td>\n",
              "    </tr>\n",
              "    <tr>\n",
              "      <th>mean</th>\n",
              "      <td>2157.391736</td>\n",
              "      <td>23.419994</td>\n",
              "      <td>38.747168</td>\n",
              "      <td>37.704384</td>\n",
              "      <td>38.211645</td>\n",
              "      <td>0.003859</td>\n",
              "      <td>0.029699</td>\n",
              "      <td>2.302852e+06</td>\n",
              "      <td>9.857796e+07</td>\n",
              "      <td>1246.339308</td>\n",
              "    </tr>\n",
              "    <tr>\n",
              "      <th>std</th>\n",
              "      <td>928.386672</td>\n",
              "      <td>8.431386</td>\n",
              "      <td>35.279373</td>\n",
              "      <td>34.129145</td>\n",
              "      <td>34.689552</td>\n",
              "      <td>1.669975</td>\n",
              "      <td>2.384306</td>\n",
              "      <td>5.293599e+06</td>\n",
              "      <td>2.607937e+08</td>\n",
              "      <td>5008.614122</td>\n",
              "    </tr>\n",
              "    <tr>\n",
              "      <th>min</th>\n",
              "      <td>1201.000000</td>\n",
              "      <td>2.250000</td>\n",
              "      <td>2.250000</td>\n",
              "      <td>2.250000</td>\n",
              "      <td>2.250000</td>\n",
              "      <td>-143.840000</td>\n",
              "      <td>-90.470000</td>\n",
              "      <td>6.000000e+02</td>\n",
              "      <td>1.515000e+04</td>\n",
              "      <td>1.000000</td>\n",
              "    </tr>\n",
              "    <tr>\n",
              "      <th>25%</th>\n",
              "      <td>1320.000000</td>\n",
              "      <td>17.120000</td>\n",
              "      <td>17.300000</td>\n",
              "      <td>16.980000</td>\n",
              "      <td>17.130000</td>\n",
              "      <td>-0.250000</td>\n",
              "      <td>-0.890000</td>\n",
              "      <td>2.544660e+05</td>\n",
              "      <td>6.830357e+06</td>\n",
              "      <td>239.000000</td>\n",
              "    </tr>\n",
              "    <tr>\n",
              "      <th>50%</th>\n",
              "      <td>2020.000000</td>\n",
              "      <td>26.000000</td>\n",
              "      <td>26.400000</td>\n",
              "      <td>25.700000</td>\n",
              "      <td>26.000000</td>\n",
              "      <td>0.000000</td>\n",
              "      <td>0.000000</td>\n",
              "      <td>7.665700e+05</td>\n",
              "      <td>2.020018e+07</td>\n",
              "      <td>506.000000</td>\n",
              "    </tr>\n",
              "    <tr>\n",
              "      <th>75%</th>\n",
              "      <td>2060.000000</td>\n",
              "      <td>26.800000</td>\n",
              "      <td>43.800000</td>\n",
              "      <td>42.500000</td>\n",
              "      <td>43.090000</td>\n",
              "      <td>0.250000</td>\n",
              "      <td>0.920000</td>\n",
              "      <td>2.423727e+06</td>\n",
              "      <td>6.736697e+07</td>\n",
              "      <td>1229.000000</td>\n",
              "    </tr>\n",
              "    <tr>\n",
              "      <th>max</th>\n",
              "      <td>4200.000000</td>\n",
              "      <td>47.000000</td>\n",
              "      <td>421.500000</td>\n",
              "      <td>386.250000</td>\n",
              "      <td>398.250000</td>\n",
              "      <td>92.000000</td>\n",
              "      <td>14.580000</td>\n",
              "      <td>4.179278e+08</td>\n",
              "      <td>1.586582e+10</td>\n",
              "      <td>587262.000000</td>\n",
              "    </tr>\n",
              "  </tbody>\n",
              "</table>\n",
              "</div>"
            ],
            "text/plain": [
              "             symbol          open  ...  value_traded     no_trades \n",
              "count  51213.000000  51213.000000  ...  5.121300e+04   51213.000000\n",
              "mean    2157.391736     23.419994  ...  9.857796e+07    1246.339308\n",
              "std      928.386672      8.431386  ...  2.607937e+08    5008.614122\n",
              "min     1201.000000      2.250000  ...  1.515000e+04       1.000000\n",
              "25%     1320.000000     17.120000  ...  6.830357e+06     239.000000\n",
              "50%     2020.000000     26.000000  ...  2.020018e+07     506.000000\n",
              "75%     2060.000000     26.800000  ...  6.736697e+07    1229.000000\n",
              "max     4200.000000     47.000000  ...  1.586582e+10  587262.000000\n",
              "\n",
              "[8 rows x 10 columns]"
            ]
          },
          "metadata": {},
          "execution_count": 19
        }
      ]
    },
    {
      "cell_type": "code",
      "metadata": {
        "id": "c2d30605"
      },
      "source": [
        "stock_train['date'] =  pd.to_datetime(stock_train['date'])"
      ],
      "id": "c2d30605",
      "execution_count": 20,
      "outputs": []
    },
    {
      "cell_type": "code",
      "metadata": {
        "id": "ebe12204",
        "colab": {
          "base_uri": "https://localhost:8080/"
        },
        "outputId": "513b6a73-fb6b-449e-fd5a-1039ec2bb63b"
      },
      "source": [
        "stock_train.info()"
      ],
      "id": "ebe12204",
      "execution_count": 21,
      "outputs": [
        {
          "output_type": "stream",
          "name": "stdout",
          "text": [
            "<class 'pandas.core.frame.DataFrame'>\n",
            "Int64Index: 51213 entries, 0 to 51291\n",
            "Data columns (total 14 columns):\n",
            " #   Column          Non-Null Count  Dtype         \n",
            "---  ------          --------------  -----         \n",
            " 0   symbol          51213 non-null  int64         \n",
            " 1   name            51213 non-null  object        \n",
            " 2   trading_name    51213 non-null  object        \n",
            " 3   sectoer         51213 non-null  object        \n",
            " 4   date            51213 non-null  datetime64[ns]\n",
            " 5   open            51213 non-null  float64       \n",
            " 6   high            51213 non-null  float64       \n",
            " 7   low             51213 non-null  float64       \n",
            " 8   close           51213 non-null  float64       \n",
            " 9   change          51213 non-null  float64       \n",
            " 10  perc_Change     51213 non-null  float64       \n",
            " 11  volume_traded   51213 non-null  float64       \n",
            " 12  value_traded    51213 non-null  float64       \n",
            " 13  no_trades       51213 non-null  float64       \n",
            "dtypes: datetime64[ns](1), float64(9), int64(1), object(3)\n",
            "memory usage: 5.9+ MB\n"
          ]
        }
      ]
    },
    {
      "cell_type": "code",
      "metadata": {
        "id": "e95ecaab"
      },
      "source": [
        "stock_train['year'] = pd. DatetimeIndex(stock_train['date']). year"
      ],
      "id": "e95ecaab",
      "execution_count": 22,
      "outputs": []
    },
    {
      "cell_type": "code",
      "metadata": {
        "id": "3f44bb36"
      },
      "source": [
        "stock_train['date'] = pd.to_datetime(stock_train['date'])\n",
        "stock_train['year_date'] = stock_train['date'].dt.year\n",
        "\n",
        "stock_test['date'] = pd.to_datetime(stock_test['date'])\n",
        "stock_test['year_date'] = stock_test['date'].dt.year\n",
        "\n",
        "stock_train.drop([ 'date'], axis='columns', inplace=True)\n",
        "stock_test.drop([ 'date'], axis='columns', inplace=True)"
      ],
      "id": "3f44bb36",
      "execution_count": 23,
      "outputs": []
    },
    {
      "cell_type": "code",
      "metadata": {
        "id": "88e1b28d",
        "colab": {
          "base_uri": "https://localhost:8080/",
          "height": 206
        },
        "outputId": "2ba78082-335d-4c50-ca98-9a8e28a08dca"
      },
      "source": [
        "stock_test.head()"
      ],
      "id": "88e1b28d",
      "execution_count": 24,
      "outputs": [
        {
          "output_type": "execute_result",
          "data": {
            "text/html": [
              "<div>\n",
              "<style scoped>\n",
              "    .dataframe tbody tr th:only-of-type {\n",
              "        vertical-align: middle;\n",
              "    }\n",
              "\n",
              "    .dataframe tbody tr th {\n",
              "        vertical-align: top;\n",
              "    }\n",
              "\n",
              "    .dataframe thead th {\n",
              "        text-align: right;\n",
              "    }\n",
              "</style>\n",
              "<table border=\"1\" class=\"dataframe\">\n",
              "  <thead>\n",
              "    <tr style=\"text-align: right;\">\n",
              "      <th></th>\n",
              "      <th>symbol</th>\n",
              "      <th>name</th>\n",
              "      <th>trading_name</th>\n",
              "      <th>sectoer</th>\n",
              "      <th>open</th>\n",
              "      <th>high</th>\n",
              "      <th>low</th>\n",
              "      <th>close</th>\n",
              "      <th>change</th>\n",
              "      <th>perc_Change</th>\n",
              "      <th>volume_traded</th>\n",
              "      <th>value_traded</th>\n",
              "      <th>no_trades</th>\n",
              "      <th>year_date</th>\n",
              "    </tr>\n",
              "  </thead>\n",
              "  <tbody>\n",
              "    <tr>\n",
              "      <th>0</th>\n",
              "      <td>2030</td>\n",
              "      <td>Saudi Arabia Refineries Co.</td>\n",
              "      <td>SARCO</td>\n",
              "      <td>Energy</td>\n",
              "      <td>31.8</td>\n",
              "      <td>31.8</td>\n",
              "      <td>31.45</td>\n",
              "      <td>31.60</td>\n",
              "      <td>0.25</td>\n",
              "      <td>0.80</td>\n",
              "      <td>230790.0</td>\n",
              "      <td>7295880.55</td>\n",
              "      <td>507.0</td>\n",
              "      <td>2020</td>\n",
              "    </tr>\n",
              "    <tr>\n",
              "      <th>1</th>\n",
              "      <td>2030</td>\n",
              "      <td>Saudi Arabia Refineries Co.</td>\n",
              "      <td>SARCO</td>\n",
              "      <td>Energy</td>\n",
              "      <td>30.5</td>\n",
              "      <td>31.4</td>\n",
              "      <td>30.30</td>\n",
              "      <td>31.35</td>\n",
              "      <td>-0.35</td>\n",
              "      <td>-1.10</td>\n",
              "      <td>422695.0</td>\n",
              "      <td>13113020.10</td>\n",
              "      <td>1015.0</td>\n",
              "      <td>2020</td>\n",
              "    </tr>\n",
              "    <tr>\n",
              "      <th>2</th>\n",
              "      <td>2030</td>\n",
              "      <td>Saudi Arabia Refineries Co.</td>\n",
              "      <td>SARCO</td>\n",
              "      <td>Energy</td>\n",
              "      <td>31.7</td>\n",
              "      <td>32.3</td>\n",
              "      <td>31.30</td>\n",
              "      <td>31.70</td>\n",
              "      <td>-0.75</td>\n",
              "      <td>-2.31</td>\n",
              "      <td>266845.0</td>\n",
              "      <td>8497563.05</td>\n",
              "      <td>668.0</td>\n",
              "      <td>2020</td>\n",
              "    </tr>\n",
              "    <tr>\n",
              "      <th>3</th>\n",
              "      <td>2030</td>\n",
              "      <td>Saudi Arabia Refineries Co.</td>\n",
              "      <td>SARCO</td>\n",
              "      <td>Energy</td>\n",
              "      <td>32.7</td>\n",
              "      <td>32.9</td>\n",
              "      <td>32.10</td>\n",
              "      <td>32.45</td>\n",
              "      <td>-0.25</td>\n",
              "      <td>-0.76</td>\n",
              "      <td>254463.0</td>\n",
              "      <td>8271461.45</td>\n",
              "      <td>557.0</td>\n",
              "      <td>2020</td>\n",
              "    </tr>\n",
              "    <tr>\n",
              "      <th>4</th>\n",
              "      <td>2030</td>\n",
              "      <td>Saudi Arabia Refineries Co.</td>\n",
              "      <td>SARCO</td>\n",
              "      <td>Energy</td>\n",
              "      <td>32.5</td>\n",
              "      <td>32.8</td>\n",
              "      <td>32.45</td>\n",
              "      <td>32.70</td>\n",
              "      <td>0.50</td>\n",
              "      <td>1.55</td>\n",
              "      <td>199425.0</td>\n",
              "      <td>6500652.35</td>\n",
              "      <td>498.0</td>\n",
              "      <td>2020</td>\n",
              "    </tr>\n",
              "  </tbody>\n",
              "</table>\n",
              "</div>"
            ],
            "text/plain": [
              "   symbol                         name  ... no_trades  year_date\n",
              "0    2030  Saudi Arabia Refineries Co.  ...      507.0      2020\n",
              "1    2030  Saudi Arabia Refineries Co.  ...     1015.0      2020\n",
              "2    2030  Saudi Arabia Refineries Co.  ...      668.0      2020\n",
              "3    2030  Saudi Arabia Refineries Co.  ...      557.0      2020\n",
              "4    2030  Saudi Arabia Refineries Co.  ...      498.0      2020\n",
              "\n",
              "[5 rows x 14 columns]"
            ]
          },
          "metadata": {},
          "execution_count": 24
        }
      ]
    },
    {
      "cell_type": "code",
      "metadata": {
        "id": "3c6a84bf",
        "colab": {
          "base_uri": "https://localhost:8080/"
        },
        "outputId": "4c1be0ca-0aab-4d29-c219-bc5adbea90ec"
      },
      "source": [
        "stock_train.high[stock_train.high>50]= stock_train.high.median()"
      ],
      "id": "3c6a84bf",
      "execution_count": 25,
      "outputs": [
        {
          "output_type": "stream",
          "name": "stderr",
          "text": [
            "/usr/local/lib/python3.7/dist-packages/ipykernel_launcher.py:1: SettingWithCopyWarning: \n",
            "A value is trying to be set on a copy of a slice from a DataFrame\n",
            "\n",
            "See the caveats in the documentation: https://pandas.pydata.org/pandas-docs/stable/user_guide/indexing.html#returning-a-view-versus-a-copy\n",
            "  \"\"\"Entry point for launching an IPython kernel.\n"
          ]
        }
      ]
    },
    {
      "cell_type": "code",
      "metadata": {
        "id": "236bf0fc",
        "colab": {
          "base_uri": "https://localhost:8080/"
        },
        "outputId": "a97e299c-3784-4e31-97f1-9f77ca970dd5"
      },
      "source": [
        "stock_train.low[stock_train.low>47.0]= stock_train.low.median()"
      ],
      "id": "236bf0fc",
      "execution_count": 26,
      "outputs": [
        {
          "output_type": "stream",
          "name": "stderr",
          "text": [
            "/usr/local/lib/python3.7/dist-packages/ipykernel_launcher.py:1: SettingWithCopyWarning: \n",
            "A value is trying to be set on a copy of a slice from a DataFrame\n",
            "\n",
            "See the caveats in the documentation: https://pandas.pydata.org/pandas-docs/stable/user_guide/indexing.html#returning-a-view-versus-a-copy\n",
            "  \"\"\"Entry point for launching an IPython kernel.\n"
          ]
        }
      ]
    },
    {
      "cell_type": "code",
      "metadata": {
        "id": "083a37f0",
        "colab": {
          "base_uri": "https://localhost:8080/"
        },
        "outputId": "e5e9dd47-8595-4c9a-95fd-e61ddcc7393d"
      },
      "source": [
        "stock_train.close[stock_train.close>55]= stock_train.close.median()"
      ],
      "id": "083a37f0",
      "execution_count": 27,
      "outputs": [
        {
          "output_type": "stream",
          "name": "stderr",
          "text": [
            "/usr/local/lib/python3.7/dist-packages/ipykernel_launcher.py:1: SettingWithCopyWarning: \n",
            "A value is trying to be set on a copy of a slice from a DataFrame\n",
            "\n",
            "See the caveats in the documentation: https://pandas.pydata.org/pandas-docs/stable/user_guide/indexing.html#returning-a-view-versus-a-copy\n",
            "  \"\"\"Entry point for launching an IPython kernel.\n"
          ]
        }
      ]
    },
    {
      "cell_type": "code",
      "metadata": {
        "id": "56857cd3",
        "colab": {
          "base_uri": "https://localhost:8080/"
        },
        "outputId": "ba1ff475-f2f7-47fe-f5d3-8e476b597c5a"
      },
      "source": [
        "stock_train.change[stock_train.change>50]= stock_train.close.median()"
      ],
      "id": "56857cd3",
      "execution_count": 28,
      "outputs": [
        {
          "output_type": "stream",
          "name": "stderr",
          "text": [
            "/usr/local/lib/python3.7/dist-packages/ipykernel_launcher.py:1: SettingWithCopyWarning: \n",
            "A value is trying to be set on a copy of a slice from a DataFrame\n",
            "\n",
            "See the caveats in the documentation: https://pandas.pydata.org/pandas-docs/stable/user_guide/indexing.html#returning-a-view-versus-a-copy\n",
            "  \"\"\"Entry point for launching an IPython kernel.\n"
          ]
        }
      ]
    },
    {
      "cell_type": "code",
      "metadata": {
        "id": "2ad66026",
        "colab": {
          "base_uri": "https://localhost:8080/"
        },
        "outputId": "40a0d997-fab3-4d88-ce5d-e954b49e14b5"
      },
      "source": [
        "stock_train.change[stock_train.change<-50]= stock_train.close.median()"
      ],
      "id": "2ad66026",
      "execution_count": 29,
      "outputs": [
        {
          "output_type": "stream",
          "name": "stderr",
          "text": [
            "/usr/local/lib/python3.7/dist-packages/ipykernel_launcher.py:1: SettingWithCopyWarning: \n",
            "A value is trying to be set on a copy of a slice from a DataFrame\n",
            "\n",
            "See the caveats in the documentation: https://pandas.pydata.org/pandas-docs/stable/user_guide/indexing.html#returning-a-view-versus-a-copy\n",
            "  \"\"\"Entry point for launching an IPython kernel.\n"
          ]
        }
      ]
    },
    {
      "cell_type": "code",
      "metadata": {
        "id": "379d9211",
        "colab": {
          "base_uri": "https://localhost:8080/"
        },
        "outputId": "a412e242-cd5e-4506-88ff-99d122ac0af0"
      },
      "source": [
        "stock_train.perc_Change[stock_train.perc_Change>99.9]= stock_train.perc_Change.median()\n",
        "stock_train.perc_Change[stock_train.perc_Change<-99.9]= stock_train.perc_Change.median()"
      ],
      "id": "379d9211",
      "execution_count": 30,
      "outputs": [
        {
          "output_type": "stream",
          "name": "stderr",
          "text": [
            "/usr/local/lib/python3.7/dist-packages/ipykernel_launcher.py:1: SettingWithCopyWarning: \n",
            "A value is trying to be set on a copy of a slice from a DataFrame\n",
            "\n",
            "See the caveats in the documentation: https://pandas.pydata.org/pandas-docs/stable/user_guide/indexing.html#returning-a-view-versus-a-copy\n",
            "  \"\"\"Entry point for launching an IPython kernel.\n",
            "/usr/local/lib/python3.7/dist-packages/ipykernel_launcher.py:2: SettingWithCopyWarning: \n",
            "A value is trying to be set on a copy of a slice from a DataFrame\n",
            "\n",
            "See the caveats in the documentation: https://pandas.pydata.org/pandas-docs/stable/user_guide/indexing.html#returning-a-view-versus-a-copy\n",
            "  \n"
          ]
        }
      ]
    },
    {
      "cell_type": "code",
      "metadata": {
        "id": "GE1-3rO_55u1"
      },
      "source": [
        "stock_train.columns = stock_train.columns.str.replace(' ', '')"
      ],
      "id": "GE1-3rO_55u1",
      "execution_count": 31,
      "outputs": []
    },
    {
      "cell_type": "code",
      "metadata": {
        "id": "JPBXPUOf6GI2",
        "colab": {
          "base_uri": "https://localhost:8080/"
        },
        "outputId": "077a2e4e-6609-4d42-dd4c-9377eb38bb2f"
      },
      "source": [
        "stock_train.no_trades[stock_train.no_trades>1500]= stock_train.no_trades.median()"
      ],
      "id": "JPBXPUOf6GI2",
      "execution_count": 32,
      "outputs": [
        {
          "output_type": "stream",
          "name": "stderr",
          "text": [
            "/usr/local/lib/python3.7/dist-packages/ipykernel_launcher.py:1: SettingWithCopyWarning: \n",
            "A value is trying to be set on a copy of a slice from a DataFrame\n",
            "\n",
            "See the caveats in the documentation: https://pandas.pydata.org/pandas-docs/stable/user_guide/indexing.html#returning-a-view-versus-a-copy\n",
            "  \"\"\"Entry point for launching an IPython kernel.\n"
          ]
        }
      ]
    },
    {
      "cell_type": "code",
      "metadata": {
        "id": "6197d333",
        "colab": {
          "base_uri": "https://localhost:8080/",
          "height": 300
        },
        "outputId": "c7fa7415-c4cd-46dd-d77c-c348d0a1400f"
      },
      "source": [
        "stock_train.describe()"
      ],
      "id": "6197d333",
      "execution_count": 33,
      "outputs": [
        {
          "output_type": "execute_result",
          "data": {
            "text/html": [
              "<div>\n",
              "<style scoped>\n",
              "    .dataframe tbody tr th:only-of-type {\n",
              "        vertical-align: middle;\n",
              "    }\n",
              "\n",
              "    .dataframe tbody tr th {\n",
              "        vertical-align: top;\n",
              "    }\n",
              "\n",
              "    .dataframe thead th {\n",
              "        text-align: right;\n",
              "    }\n",
              "</style>\n",
              "<table border=\"1\" class=\"dataframe\">\n",
              "  <thead>\n",
              "    <tr style=\"text-align: right;\">\n",
              "      <th></th>\n",
              "      <th>symbol</th>\n",
              "      <th>open</th>\n",
              "      <th>high</th>\n",
              "      <th>low</th>\n",
              "      <th>close</th>\n",
              "      <th>change</th>\n",
              "      <th>perc_Change</th>\n",
              "      <th>volume_traded</th>\n",
              "      <th>value_traded</th>\n",
              "      <th>no_trades</th>\n",
              "      <th>year</th>\n",
              "      <th>year_date</th>\n",
              "    </tr>\n",
              "  </thead>\n",
              "  <tbody>\n",
              "    <tr>\n",
              "      <th>count</th>\n",
              "      <td>51213.000000</td>\n",
              "      <td>51213.000000</td>\n",
              "      <td>51213.000000</td>\n",
              "      <td>51213.00000</td>\n",
              "      <td>51213.000000</td>\n",
              "      <td>51213.000000</td>\n",
              "      <td>51213.000000</td>\n",
              "      <td>5.121300e+04</td>\n",
              "      <td>5.121300e+04</td>\n",
              "      <td>51213.000000</td>\n",
              "      <td>51213.000000</td>\n",
              "      <td>51213.000000</td>\n",
              "    </tr>\n",
              "    <tr>\n",
              "      <th>mean</th>\n",
              "      <td>2157.391736</td>\n",
              "      <td>23.419994</td>\n",
              "      <td>23.969771</td>\n",
              "      <td>23.19377</td>\n",
              "      <td>24.259949</td>\n",
              "      <td>0.005886</td>\n",
              "      <td>0.029699</td>\n",
              "      <td>2.302852e+06</td>\n",
              "      <td>9.857796e+07</td>\n",
              "      <td>481.911487</td>\n",
              "      <td>2012.614180</td>\n",
              "      <td>2012.614180</td>\n",
              "    </tr>\n",
              "    <tr>\n",
              "      <th>std</th>\n",
              "      <td>928.386672</td>\n",
              "      <td>8.431386</td>\n",
              "      <td>8.919125</td>\n",
              "      <td>8.40762</td>\n",
              "      <td>9.790411</td>\n",
              "      <td>1.498638</td>\n",
              "      <td>2.384306</td>\n",
              "      <td>5.293599e+06</td>\n",
              "      <td>2.607937e+08</td>\n",
              "      <td>316.797954</td>\n",
              "      <td>4.819736</td>\n",
              "      <td>4.819736</td>\n",
              "    </tr>\n",
              "    <tr>\n",
              "      <th>min</th>\n",
              "      <td>1201.000000</td>\n",
              "      <td>2.250000</td>\n",
              "      <td>2.250000</td>\n",
              "      <td>2.25000</td>\n",
              "      <td>2.250000</td>\n",
              "      <td>-36.000000</td>\n",
              "      <td>-90.470000</td>\n",
              "      <td>6.000000e+02</td>\n",
              "      <td>1.515000e+04</td>\n",
              "      <td>1.000000</td>\n",
              "      <td>2001.000000</td>\n",
              "      <td>2001.000000</td>\n",
              "    </tr>\n",
              "    <tr>\n",
              "      <th>25%</th>\n",
              "      <td>1320.000000</td>\n",
              "      <td>17.120000</td>\n",
              "      <td>17.300000</td>\n",
              "      <td>16.98000</td>\n",
              "      <td>17.130000</td>\n",
              "      <td>-0.250000</td>\n",
              "      <td>-0.890000</td>\n",
              "      <td>2.544660e+05</td>\n",
              "      <td>6.830357e+06</td>\n",
              "      <td>239.000000</td>\n",
              "      <td>2009.000000</td>\n",
              "      <td>2009.000000</td>\n",
              "    </tr>\n",
              "    <tr>\n",
              "      <th>50%</th>\n",
              "      <td>2020.000000</td>\n",
              "      <td>26.000000</td>\n",
              "      <td>26.400000</td>\n",
              "      <td>25.70000</td>\n",
              "      <td>26.000000</td>\n",
              "      <td>0.000000</td>\n",
              "      <td>0.000000</td>\n",
              "      <td>7.665700e+05</td>\n",
              "      <td>2.020018e+07</td>\n",
              "      <td>506.000000</td>\n",
              "      <td>2013.000000</td>\n",
              "      <td>2013.000000</td>\n",
              "    </tr>\n",
              "    <tr>\n",
              "      <th>75%</th>\n",
              "      <td>2060.000000</td>\n",
              "      <td>26.800000</td>\n",
              "      <td>27.600000</td>\n",
              "      <td>26.55000</td>\n",
              "      <td>28.200000</td>\n",
              "      <td>0.250000</td>\n",
              "      <td>0.920000</td>\n",
              "      <td>2.423727e+06</td>\n",
              "      <td>6.736697e+07</td>\n",
              "      <td>571.000000</td>\n",
              "      <td>2017.000000</td>\n",
              "      <td>2017.000000</td>\n",
              "    </tr>\n",
              "    <tr>\n",
              "      <th>max</th>\n",
              "      <td>4200.000000</td>\n",
              "      <td>47.000000</td>\n",
              "      <td>50.000000</td>\n",
              "      <td>47.00000</td>\n",
              "      <td>55.000000</td>\n",
              "      <td>49.250000</td>\n",
              "      <td>14.580000</td>\n",
              "      <td>4.179278e+08</td>\n",
              "      <td>1.586582e+10</td>\n",
              "      <td>1500.000000</td>\n",
              "      <td>2020.000000</td>\n",
              "      <td>2020.000000</td>\n",
              "    </tr>\n",
              "  </tbody>\n",
              "</table>\n",
              "</div>"
            ],
            "text/plain": [
              "             symbol          open  ...          year     year_date\n",
              "count  51213.000000  51213.000000  ...  51213.000000  51213.000000\n",
              "mean    2157.391736     23.419994  ...   2012.614180   2012.614180\n",
              "std      928.386672      8.431386  ...      4.819736      4.819736\n",
              "min     1201.000000      2.250000  ...   2001.000000   2001.000000\n",
              "25%     1320.000000     17.120000  ...   2009.000000   2009.000000\n",
              "50%     2020.000000     26.000000  ...   2013.000000   2013.000000\n",
              "75%     2060.000000     26.800000  ...   2017.000000   2017.000000\n",
              "max     4200.000000     47.000000  ...   2020.000000   2020.000000\n",
              "\n",
              "[8 rows x 12 columns]"
            ]
          },
          "metadata": {},
          "execution_count": 33
        }
      ]
    },
    {
      "cell_type": "code",
      "metadata": {
        "id": "f4621c5e",
        "colab": {
          "base_uri": "https://localhost:8080/",
          "height": 881
        },
        "outputId": "08c00a60-d2b0-4b45-e26b-d3802f97830b"
      },
      "source": [
        "stock_train.hist(edgecolor='red', linewidth=1.2, figsize=(11, 11));"
      ],
      "id": "f4621c5e",
      "execution_count": 34,
      "outputs": [
        {
          "output_type": "display_data",
          "data": {
            "text/plain": [
              "<Figure size 792x792 with 12 Axes>"
            ],
            "image/svg+xml": "<?xml version=\"1.0\" encoding=\"utf-8\" standalone=\"no\"?>\n<!DOCTYPE svg PUBLIC \"-//W3C//DTD SVG 1.1//EN\"\n  \"http://www.w3.org/Graphics/SVG/1.1/DTD/svg11.dtd\">\n<!-- Created with matplotlib (https://matplotlib.org/) -->\n<svg height=\"644.15625pt\" version=\"1.1\" viewBox=\"0 0 671.9875 644.15625\" width=\"671.9875pt\" xmlns=\"http://www.w3.org/2000/svg\" xmlns:xlink=\"http://www.w3.org/1999/xlink\">\n <defs>\n  <style type=\"text/css\">\n*{stroke-linecap:butt;stroke-linejoin:round;}\n  </style>\n </defs>\n <g id=\"figure_1\">\n  <g id=\"patch_1\">\n   <path d=\"M 0 644.15625 \nL 671.9875 644.15625 \nL 671.9875 0 \nL 0 0 \nz\n\" style=\"fill:none;\"/>\n  </g>\n  <g id=\"axes_1\">\n   <g id=\"patch_2\">\n    <path d=\"M 46.0125 144.350778 \nL 216.5125 144.350778 \nL 216.5125 22.318125 \nL 46.0125 22.318125 \nz\n\" style=\"fill:#ffffff;\"/>\n   </g>\n   <g id=\"patch_3\">\n    <path clip-path=\"url(#pf70ef4d990)\" d=\"M 53.7625 144.350778 \nL 69.2625 144.350778 \nL 69.2625 76.068984 \nL 53.7625 76.068984 \nz\n\" style=\"fill:#1f77b4;stroke:#ff0000;stroke-linejoin:miter;stroke-width:1.2;\"/>\n   </g>\n   <g id=\"patch_4\">\n    <path clip-path=\"url(#pf70ef4d990)\" d=\"M 69.2625 144.350778 \nL 84.7625 144.350778 \nL 84.7625 144.350778 \nL 69.2625 144.350778 \nz\n\" style=\"fill:#1f77b4;stroke:#ff0000;stroke-linejoin:miter;stroke-width:1.2;\"/>\n   </g>\n   <g id=\"patch_5\">\n    <path clip-path=\"url(#pf70ef4d990)\" d=\"M 84.7625 144.350778 \nL 100.2625 144.350778 \nL 100.2625 28.129204 \nL 84.7625 28.129204 \nz\n\" style=\"fill:#1f77b4;stroke:#ff0000;stroke-linejoin:miter;stroke-width:1.2;\"/>\n   </g>\n   <g id=\"patch_6\">\n    <path clip-path=\"url(#pf70ef4d990)\" d=\"M 100.2625 144.350778 \nL 115.7625 144.350778 \nL 115.7625 130.070647 \nL 100.2625 130.070647 \nz\n\" style=\"fill:#1f77b4;stroke:#ff0000;stroke-linejoin:miter;stroke-width:1.2;\"/>\n   </g>\n   <g id=\"patch_7\">\n    <path clip-path=\"url(#pf70ef4d990)\" d=\"M 115.7625 144.350778 \nL 131.2625 144.350778 \nL 131.2625 144.350778 \nL 115.7625 144.350778 \nz\n\" style=\"fill:#1f77b4;stroke:#ff0000;stroke-linejoin:miter;stroke-width:1.2;\"/>\n   </g>\n   <g id=\"patch_8\">\n    <path clip-path=\"url(#pf70ef4d990)\" d=\"M 131.2625 144.350778 \nL 146.7625 144.350778 \nL 146.7625 144.350778 \nL 131.2625 144.350778 \nz\n\" style=\"fill:#1f77b4;stroke:#ff0000;stroke-linejoin:miter;stroke-width:1.2;\"/>\n   </g>\n   <g id=\"patch_9\">\n    <path clip-path=\"url(#pf70ef4d990)\" d=\"M 146.7625 144.350778 \nL 162.2625 144.350778 \nL 162.2625 144.350778 \nL 146.7625 144.350778 \nz\n\" style=\"fill:#1f77b4;stroke:#ff0000;stroke-linejoin:miter;stroke-width:1.2;\"/>\n   </g>\n   <g id=\"patch_10\">\n    <path clip-path=\"url(#pf70ef4d990)\" d=\"M 162.2625 144.350778 \nL 177.7625 144.350778 \nL 177.7625 144.350778 \nL 162.2625 144.350778 \nz\n\" style=\"fill:#1f77b4;stroke:#ff0000;stroke-linejoin:miter;stroke-width:1.2;\"/>\n   </g>\n   <g id=\"patch_11\">\n    <path clip-path=\"url(#pf70ef4d990)\" d=\"M 177.7625 144.350778 \nL 193.2625 144.350778 \nL 193.2625 144.350778 \nL 177.7625 144.350778 \nz\n\" style=\"fill:#1f77b4;stroke:#ff0000;stroke-linejoin:miter;stroke-width:1.2;\"/>\n   </g>\n   <g id=\"patch_12\">\n    <path clip-path=\"url(#pf70ef4d990)\" d=\"M 193.2625 144.350778 \nL 208.7625 144.350778 \nL 208.7625 106.151658 \nL 193.2625 106.151658 \nz\n\" style=\"fill:#1f77b4;stroke:#ff0000;stroke-linejoin:miter;stroke-width:1.2;\"/>\n   </g>\n   <g id=\"matplotlib.axis_1\">\n    <g id=\"xtick_1\">\n     <g id=\"line2d_1\">\n      <path clip-path=\"url(#pf70ef4d990)\" d=\"M 95.057932 144.350778 \nL 95.057932 22.318125 \n\" style=\"fill:none;stroke:#b0b0b0;stroke-linecap:square;stroke-width:0.8;\"/>\n     </g>\n     <g id=\"line2d_2\">\n      <defs>\n       <path d=\"M 0 0 \nL 0 3.5 \n\" id=\"ma82ef1ade4\" style=\"stroke:#000000;stroke-width:0.8;\"/>\n      </defs>\n      <g>\n       <use style=\"stroke:#000000;stroke-width:0.8;\" x=\"95.057932\" xlink:href=\"#ma82ef1ade4\" y=\"144.350778\"/>\n      </g>\n     </g>\n     <g id=\"text_1\">\n      <!-- 2000 -->\n      <defs>\n       <path d=\"M 19.1875 8.296875 \nL 53.609375 8.296875 \nL 53.609375 0 \nL 7.328125 0 \nL 7.328125 8.296875 \nQ 12.9375 14.109375 22.625 23.890625 \nQ 32.328125 33.6875 34.8125 36.53125 \nQ 39.546875 41.84375 41.421875 45.53125 \nQ 43.3125 49.21875 43.3125 52.78125 \nQ 43.3125 58.59375 39.234375 62.25 \nQ 35.15625 65.921875 28.609375 65.921875 \nQ 23.96875 65.921875 18.8125 64.3125 \nQ 13.671875 62.703125 7.8125 59.421875 \nL 7.8125 69.390625 \nQ 13.765625 71.78125 18.9375 73 \nQ 24.125 74.21875 28.421875 74.21875 \nQ 39.75 74.21875 46.484375 68.546875 \nQ 53.21875 62.890625 53.21875 53.421875 \nQ 53.21875 48.921875 51.53125 44.890625 \nQ 49.859375 40.875 45.40625 35.40625 \nQ 44.1875 33.984375 37.640625 27.21875 \nQ 31.109375 20.453125 19.1875 8.296875 \nz\n\" id=\"DejaVuSans-50\"/>\n       <path d=\"M 31.78125 66.40625 \nQ 24.171875 66.40625 20.328125 58.90625 \nQ 16.5 51.421875 16.5 36.375 \nQ 16.5 21.390625 20.328125 13.890625 \nQ 24.171875 6.390625 31.78125 6.390625 \nQ 39.453125 6.390625 43.28125 13.890625 \nQ 47.125 21.390625 47.125 36.375 \nQ 47.125 51.421875 43.28125 58.90625 \nQ 39.453125 66.40625 31.78125 66.40625 \nz\nM 31.78125 74.21875 \nQ 44.046875 74.21875 50.515625 64.515625 \nQ 56.984375 54.828125 56.984375 36.375 \nQ 56.984375 17.96875 50.515625 8.265625 \nQ 44.046875 -1.421875 31.78125 -1.421875 \nQ 19.53125 -1.421875 13.0625 8.265625 \nQ 6.59375 17.96875 6.59375 36.375 \nQ 6.59375 54.828125 13.0625 64.515625 \nQ 19.53125 74.21875 31.78125 74.21875 \nz\n\" id=\"DejaVuSans-48\"/>\n      </defs>\n      <g transform=\"translate(82.332932 158.949216)scale(0.1 -0.1)\">\n       <use xlink:href=\"#DejaVuSans-50\"/>\n       <use x=\"63.623047\" xlink:href=\"#DejaVuSans-48\"/>\n       <use x=\"127.246094\" xlink:href=\"#DejaVuSans-48\"/>\n       <use x=\"190.869141\" xlink:href=\"#DejaVuSans-48\"/>\n      </g>\n     </g>\n    </g>\n    <g id=\"xtick_2\">\n     <g id=\"line2d_3\">\n      <path clip-path=\"url(#pf70ef4d990)\" d=\"M 146.741826 144.350778 \nL 146.741826 22.318125 \n\" style=\"fill:none;stroke:#b0b0b0;stroke-linecap:square;stroke-width:0.8;\"/>\n     </g>\n     <g id=\"line2d_4\">\n      <g>\n       <use style=\"stroke:#000000;stroke-width:0.8;\" x=\"146.741826\" xlink:href=\"#ma82ef1ade4\" y=\"144.350778\"/>\n      </g>\n     </g>\n     <g id=\"text_2\">\n      <!-- 3000 -->\n      <defs>\n       <path d=\"M 40.578125 39.3125 \nQ 47.65625 37.796875 51.625 33 \nQ 55.609375 28.21875 55.609375 21.1875 \nQ 55.609375 10.40625 48.1875 4.484375 \nQ 40.765625 -1.421875 27.09375 -1.421875 \nQ 22.515625 -1.421875 17.65625 -0.515625 \nQ 12.796875 0.390625 7.625 2.203125 \nL 7.625 11.71875 \nQ 11.71875 9.328125 16.59375 8.109375 \nQ 21.484375 6.890625 26.8125 6.890625 \nQ 36.078125 6.890625 40.9375 10.546875 \nQ 45.796875 14.203125 45.796875 21.1875 \nQ 45.796875 27.640625 41.28125 31.265625 \nQ 36.765625 34.90625 28.71875 34.90625 \nL 20.21875 34.90625 \nL 20.21875 43.015625 \nL 29.109375 43.015625 \nQ 36.375 43.015625 40.234375 45.921875 \nQ 44.09375 48.828125 44.09375 54.296875 \nQ 44.09375 59.90625 40.109375 62.90625 \nQ 36.140625 65.921875 28.71875 65.921875 \nQ 24.65625 65.921875 20.015625 65.03125 \nQ 15.375 64.15625 9.8125 62.3125 \nL 9.8125 71.09375 \nQ 15.4375 72.65625 20.34375 73.4375 \nQ 25.25 74.21875 29.59375 74.21875 \nQ 40.828125 74.21875 47.359375 69.109375 \nQ 53.90625 64.015625 53.90625 55.328125 \nQ 53.90625 49.265625 50.4375 45.09375 \nQ 46.96875 40.921875 40.578125 39.3125 \nz\n\" id=\"DejaVuSans-51\"/>\n      </defs>\n      <g transform=\"translate(134.016826 158.949216)scale(0.1 -0.1)\">\n       <use xlink:href=\"#DejaVuSans-51\"/>\n       <use x=\"63.623047\" xlink:href=\"#DejaVuSans-48\"/>\n       <use x=\"127.246094\" xlink:href=\"#DejaVuSans-48\"/>\n       <use x=\"190.869141\" xlink:href=\"#DejaVuSans-48\"/>\n      </g>\n     </g>\n    </g>\n    <g id=\"xtick_3\">\n     <g id=\"line2d_5\">\n      <path clip-path=\"url(#pf70ef4d990)\" d=\"M 198.425721 144.350778 \nL 198.425721 22.318125 \n\" style=\"fill:none;stroke:#b0b0b0;stroke-linecap:square;stroke-width:0.8;\"/>\n     </g>\n     <g id=\"line2d_6\">\n      <g>\n       <use style=\"stroke:#000000;stroke-width:0.8;\" x=\"198.425721\" xlink:href=\"#ma82ef1ade4\" y=\"144.350778\"/>\n      </g>\n     </g>\n     <g id=\"text_3\">\n      <!-- 4000 -->\n      <defs>\n       <path d=\"M 37.796875 64.3125 \nL 12.890625 25.390625 \nL 37.796875 25.390625 \nz\nM 35.203125 72.90625 \nL 47.609375 72.90625 \nL 47.609375 25.390625 \nL 58.015625 25.390625 \nL 58.015625 17.1875 \nL 47.609375 17.1875 \nL 47.609375 0 \nL 37.796875 0 \nL 37.796875 17.1875 \nL 4.890625 17.1875 \nL 4.890625 26.703125 \nz\n\" id=\"DejaVuSans-52\"/>\n      </defs>\n      <g transform=\"translate(185.700721 158.949216)scale(0.1 -0.1)\">\n       <use xlink:href=\"#DejaVuSans-52\"/>\n       <use x=\"63.623047\" xlink:href=\"#DejaVuSans-48\"/>\n       <use x=\"127.246094\" xlink:href=\"#DejaVuSans-48\"/>\n       <use x=\"190.869141\" xlink:href=\"#DejaVuSans-48\"/>\n      </g>\n     </g>\n    </g>\n   </g>\n   <g id=\"matplotlib.axis_2\">\n    <g id=\"ytick_1\">\n     <g id=\"line2d_7\">\n      <path clip-path=\"url(#pf70ef4d990)\" d=\"M 46.0125 144.350778 \nL 216.5125 144.350778 \n\" style=\"fill:none;stroke:#b0b0b0;stroke-linecap:square;stroke-width:0.8;\"/>\n     </g>\n     <g id=\"line2d_8\">\n      <defs>\n       <path d=\"M 0 0 \nL -3.5 0 \n\" id=\"mb182d7aa31\" style=\"stroke:#000000;stroke-width:0.8;\"/>\n      </defs>\n      <g>\n       <use style=\"stroke:#000000;stroke-width:0.8;\" x=\"46.0125\" xlink:href=\"#mb182d7aa31\" y=\"144.350778\"/>\n      </g>\n     </g>\n     <g id=\"text_4\">\n      <!-- 0 -->\n      <g transform=\"translate(32.65 148.149997)scale(0.1 -0.1)\">\n       <use xlink:href=\"#DejaVuSans-48\"/>\n      </g>\n     </g>\n    </g>\n    <g id=\"ytick_2\">\n     <g id=\"line2d_9\">\n      <path clip-path=\"url(#pf70ef4d990)\" d=\"M 46.0125 121.213819 \nL 216.5125 121.213819 \n\" style=\"fill:none;stroke:#b0b0b0;stroke-linecap:square;stroke-width:0.8;\"/>\n     </g>\n     <g id=\"line2d_10\">\n      <g>\n       <use style=\"stroke:#000000;stroke-width:0.8;\" x=\"46.0125\" xlink:href=\"#mb182d7aa31\" y=\"121.213819\"/>\n      </g>\n     </g>\n     <g id=\"text_5\">\n      <!-- 5000 -->\n      <defs>\n       <path d=\"M 10.796875 72.90625 \nL 49.515625 72.90625 \nL 49.515625 64.59375 \nL 19.828125 64.59375 \nL 19.828125 46.734375 \nQ 21.96875 47.46875 24.109375 47.828125 \nQ 26.265625 48.1875 28.421875 48.1875 \nQ 40.625 48.1875 47.75 41.5 \nQ 54.890625 34.8125 54.890625 23.390625 \nQ 54.890625 11.625 47.5625 5.09375 \nQ 40.234375 -1.421875 26.90625 -1.421875 \nQ 22.3125 -1.421875 17.546875 -0.640625 \nQ 12.796875 0.140625 7.71875 1.703125 \nL 7.71875 11.625 \nQ 12.109375 9.234375 16.796875 8.0625 \nQ 21.484375 6.890625 26.703125 6.890625 \nQ 35.15625 6.890625 40.078125 11.328125 \nQ 45.015625 15.765625 45.015625 23.390625 \nQ 45.015625 31 40.078125 35.4375 \nQ 35.15625 39.890625 26.703125 39.890625 \nQ 22.75 39.890625 18.8125 39.015625 \nQ 14.890625 38.140625 10.796875 36.28125 \nz\n\" id=\"DejaVuSans-53\"/>\n      </defs>\n      <g transform=\"translate(13.5625 125.013037)scale(0.1 -0.1)\">\n       <use xlink:href=\"#DejaVuSans-53\"/>\n       <use x=\"63.623047\" xlink:href=\"#DejaVuSans-48\"/>\n       <use x=\"127.246094\" xlink:href=\"#DejaVuSans-48\"/>\n       <use x=\"190.869141\" xlink:href=\"#DejaVuSans-48\"/>\n      </g>\n     </g>\n    </g>\n    <g id=\"ytick_3\">\n     <g id=\"line2d_11\">\n      <path clip-path=\"url(#pf70ef4d990)\" d=\"M 46.0125 98.076859 \nL 216.5125 98.076859 \n\" style=\"fill:none;stroke:#b0b0b0;stroke-linecap:square;stroke-width:0.8;\"/>\n     </g>\n     <g id=\"line2d_12\">\n      <g>\n       <use style=\"stroke:#000000;stroke-width:0.8;\" x=\"46.0125\" xlink:href=\"#mb182d7aa31\" y=\"98.076859\"/>\n      </g>\n     </g>\n     <g id=\"text_6\">\n      <!-- 10000 -->\n      <defs>\n       <path d=\"M 12.40625 8.296875 \nL 28.515625 8.296875 \nL 28.515625 63.921875 \nL 10.984375 60.40625 \nL 10.984375 69.390625 \nL 28.421875 72.90625 \nL 38.28125 72.90625 \nL 38.28125 8.296875 \nL 54.390625 8.296875 \nL 54.390625 0 \nL 12.40625 0 \nz\n\" id=\"DejaVuSans-49\"/>\n      </defs>\n      <g transform=\"translate(7.2 101.876078)scale(0.1 -0.1)\">\n       <use xlink:href=\"#DejaVuSans-49\"/>\n       <use x=\"63.623047\" xlink:href=\"#DejaVuSans-48\"/>\n       <use x=\"127.246094\" xlink:href=\"#DejaVuSans-48\"/>\n       <use x=\"190.869141\" xlink:href=\"#DejaVuSans-48\"/>\n       <use x=\"254.492188\" xlink:href=\"#DejaVuSans-48\"/>\n      </g>\n     </g>\n    </g>\n    <g id=\"ytick_4\">\n     <g id=\"line2d_13\">\n      <path clip-path=\"url(#pf70ef4d990)\" d=\"M 46.0125 74.9399 \nL 216.5125 74.9399 \n\" style=\"fill:none;stroke:#b0b0b0;stroke-linecap:square;stroke-width:0.8;\"/>\n     </g>\n     <g id=\"line2d_14\">\n      <g>\n       <use style=\"stroke:#000000;stroke-width:0.8;\" x=\"46.0125\" xlink:href=\"#mb182d7aa31\" y=\"74.9399\"/>\n      </g>\n     </g>\n     <g id=\"text_7\">\n      <!-- 15000 -->\n      <g transform=\"translate(7.2 78.739119)scale(0.1 -0.1)\">\n       <use xlink:href=\"#DejaVuSans-49\"/>\n       <use x=\"63.623047\" xlink:href=\"#DejaVuSans-53\"/>\n       <use x=\"127.246094\" xlink:href=\"#DejaVuSans-48\"/>\n       <use x=\"190.869141\" xlink:href=\"#DejaVuSans-48\"/>\n       <use x=\"254.492188\" xlink:href=\"#DejaVuSans-48\"/>\n      </g>\n     </g>\n    </g>\n    <g id=\"ytick_5\">\n     <g id=\"line2d_15\">\n      <path clip-path=\"url(#pf70ef4d990)\" d=\"M 46.0125 51.802941 \nL 216.5125 51.802941 \n\" style=\"fill:none;stroke:#b0b0b0;stroke-linecap:square;stroke-width:0.8;\"/>\n     </g>\n     <g id=\"line2d_16\">\n      <g>\n       <use style=\"stroke:#000000;stroke-width:0.8;\" x=\"46.0125\" xlink:href=\"#mb182d7aa31\" y=\"51.802941\"/>\n      </g>\n     </g>\n     <g id=\"text_8\">\n      <!-- 20000 -->\n      <g transform=\"translate(7.2 55.602159)scale(0.1 -0.1)\">\n       <use xlink:href=\"#DejaVuSans-50\"/>\n       <use x=\"63.623047\" xlink:href=\"#DejaVuSans-48\"/>\n       <use x=\"127.246094\" xlink:href=\"#DejaVuSans-48\"/>\n       <use x=\"190.869141\" xlink:href=\"#DejaVuSans-48\"/>\n       <use x=\"254.492188\" xlink:href=\"#DejaVuSans-48\"/>\n      </g>\n     </g>\n    </g>\n    <g id=\"ytick_6\">\n     <g id=\"line2d_17\">\n      <path clip-path=\"url(#pf70ef4d990)\" d=\"M 46.0125 28.665981 \nL 216.5125 28.665981 \n\" style=\"fill:none;stroke:#b0b0b0;stroke-linecap:square;stroke-width:0.8;\"/>\n     </g>\n     <g id=\"line2d_18\">\n      <g>\n       <use style=\"stroke:#000000;stroke-width:0.8;\" x=\"46.0125\" xlink:href=\"#mb182d7aa31\" y=\"28.665981\"/>\n      </g>\n     </g>\n     <g id=\"text_9\">\n      <!-- 25000 -->\n      <g transform=\"translate(7.2 32.4652)scale(0.1 -0.1)\">\n       <use xlink:href=\"#DejaVuSans-50\"/>\n       <use x=\"63.623047\" xlink:href=\"#DejaVuSans-53\"/>\n       <use x=\"127.246094\" xlink:href=\"#DejaVuSans-48\"/>\n       <use x=\"190.869141\" xlink:href=\"#DejaVuSans-48\"/>\n       <use x=\"254.492188\" xlink:href=\"#DejaVuSans-48\"/>\n      </g>\n     </g>\n    </g>\n   </g>\n   <g id=\"patch_13\">\n    <path d=\"M 46.0125 144.350778 \nL 46.0125 22.318125 \n\" style=\"fill:none;stroke:#000000;stroke-linecap:square;stroke-linejoin:miter;stroke-width:0.8;\"/>\n   </g>\n   <g id=\"patch_14\">\n    <path d=\"M 216.5125 144.350778 \nL 216.5125 22.318125 \n\" style=\"fill:none;stroke:#000000;stroke-linecap:square;stroke-linejoin:miter;stroke-width:0.8;\"/>\n   </g>\n   <g id=\"patch_15\">\n    <path d=\"M 46.0125 144.350778 \nL 216.5125 144.350778 \n\" style=\"fill:none;stroke:#000000;stroke-linecap:square;stroke-linejoin:miter;stroke-width:0.8;\"/>\n   </g>\n   <g id=\"patch_16\">\n    <path d=\"M 46.0125 22.318125 \nL 216.5125 22.318125 \n\" style=\"fill:none;stroke:#000000;stroke-linecap:square;stroke-linejoin:miter;stroke-width:0.8;\"/>\n   </g>\n   <g id=\"text_10\">\n    <!-- symbol -->\n    <defs>\n     <path d=\"M 44.28125 53.078125 \nL 44.28125 44.578125 \nQ 40.484375 46.53125 36.375 47.5 \nQ 32.28125 48.484375 27.875 48.484375 \nQ 21.1875 48.484375 17.84375 46.4375 \nQ 14.5 44.390625 14.5 40.28125 \nQ 14.5 37.15625 16.890625 35.375 \nQ 19.28125 33.59375 26.515625 31.984375 \nL 29.59375 31.296875 \nQ 39.15625 29.25 43.1875 25.515625 \nQ 47.21875 21.78125 47.21875 15.09375 \nQ 47.21875 7.46875 41.1875 3.015625 \nQ 35.15625 -1.421875 24.609375 -1.421875 \nQ 20.21875 -1.421875 15.453125 -0.5625 \nQ 10.6875 0.296875 5.421875 2 \nL 5.421875 11.28125 \nQ 10.40625 8.6875 15.234375 7.390625 \nQ 20.0625 6.109375 24.8125 6.109375 \nQ 31.15625 6.109375 34.5625 8.28125 \nQ 37.984375 10.453125 37.984375 14.40625 \nQ 37.984375 18.0625 35.515625 20.015625 \nQ 33.0625 21.96875 24.703125 23.78125 \nL 21.578125 24.515625 \nQ 13.234375 26.265625 9.515625 29.90625 \nQ 5.8125 33.546875 5.8125 39.890625 \nQ 5.8125 47.609375 11.28125 51.796875 \nQ 16.75 56 26.8125 56 \nQ 31.78125 56 36.171875 55.265625 \nQ 40.578125 54.546875 44.28125 53.078125 \nz\n\" id=\"DejaVuSans-115\"/>\n     <path d=\"M 32.171875 -5.078125 \nQ 28.375 -14.84375 24.75 -17.8125 \nQ 21.140625 -20.796875 15.09375 -20.796875 \nL 7.90625 -20.796875 \nL 7.90625 -13.28125 \nL 13.1875 -13.28125 \nQ 16.890625 -13.28125 18.9375 -11.515625 \nQ 21 -9.765625 23.484375 -3.21875 \nL 25.09375 0.875 \nL 2.984375 54.6875 \nL 12.5 54.6875 \nL 29.59375 11.921875 \nL 46.6875 54.6875 \nL 56.203125 54.6875 \nz\n\" id=\"DejaVuSans-121\"/>\n     <path d=\"M 52 44.1875 \nQ 55.375 50.25 60.0625 53.125 \nQ 64.75 56 71.09375 56 \nQ 79.640625 56 84.28125 50.015625 \nQ 88.921875 44.046875 88.921875 33.015625 \nL 88.921875 0 \nL 79.890625 0 \nL 79.890625 32.71875 \nQ 79.890625 40.578125 77.09375 44.375 \nQ 74.3125 48.1875 68.609375 48.1875 \nQ 61.625 48.1875 57.5625 43.546875 \nQ 53.515625 38.921875 53.515625 30.90625 \nL 53.515625 0 \nL 44.484375 0 \nL 44.484375 32.71875 \nQ 44.484375 40.625 41.703125 44.40625 \nQ 38.921875 48.1875 33.109375 48.1875 \nQ 26.21875 48.1875 22.15625 43.53125 \nQ 18.109375 38.875 18.109375 30.90625 \nL 18.109375 0 \nL 9.078125 0 \nL 9.078125 54.6875 \nL 18.109375 54.6875 \nL 18.109375 46.1875 \nQ 21.1875 51.21875 25.484375 53.609375 \nQ 29.78125 56 35.6875 56 \nQ 41.65625 56 45.828125 52.96875 \nQ 50 49.953125 52 44.1875 \nz\n\" id=\"DejaVuSans-109\"/>\n     <path d=\"M 48.6875 27.296875 \nQ 48.6875 37.203125 44.609375 42.84375 \nQ 40.53125 48.484375 33.40625 48.484375 \nQ 26.265625 48.484375 22.1875 42.84375 \nQ 18.109375 37.203125 18.109375 27.296875 \nQ 18.109375 17.390625 22.1875 11.75 \nQ 26.265625 6.109375 33.40625 6.109375 \nQ 40.53125 6.109375 44.609375 11.75 \nQ 48.6875 17.390625 48.6875 27.296875 \nz\nM 18.109375 46.390625 \nQ 20.953125 51.265625 25.265625 53.625 \nQ 29.59375 56 35.59375 56 \nQ 45.5625 56 51.78125 48.09375 \nQ 58.015625 40.1875 58.015625 27.296875 \nQ 58.015625 14.40625 51.78125 6.484375 \nQ 45.5625 -1.421875 35.59375 -1.421875 \nQ 29.59375 -1.421875 25.265625 0.953125 \nQ 20.953125 3.328125 18.109375 8.203125 \nL 18.109375 0 \nL 9.078125 0 \nL 9.078125 75.984375 \nL 18.109375 75.984375 \nz\n\" id=\"DejaVuSans-98\"/>\n     <path d=\"M 30.609375 48.390625 \nQ 23.390625 48.390625 19.1875 42.75 \nQ 14.984375 37.109375 14.984375 27.296875 \nQ 14.984375 17.484375 19.15625 11.84375 \nQ 23.34375 6.203125 30.609375 6.203125 \nQ 37.796875 6.203125 41.984375 11.859375 \nQ 46.1875 17.53125 46.1875 27.296875 \nQ 46.1875 37.015625 41.984375 42.703125 \nQ 37.796875 48.390625 30.609375 48.390625 \nz\nM 30.609375 56 \nQ 42.328125 56 49.015625 48.375 \nQ 55.71875 40.765625 55.71875 27.296875 \nQ 55.71875 13.875 49.015625 6.21875 \nQ 42.328125 -1.421875 30.609375 -1.421875 \nQ 18.84375 -1.421875 12.171875 6.21875 \nQ 5.515625 13.875 5.515625 27.296875 \nQ 5.515625 40.765625 12.171875 48.375 \nQ 18.84375 56 30.609375 56 \nz\n\" id=\"DejaVuSans-111\"/>\n     <path d=\"M 9.421875 75.984375 \nL 18.40625 75.984375 \nL 18.40625 0 \nL 9.421875 0 \nz\n\" id=\"DejaVuSans-108\"/>\n    </defs>\n    <g transform=\"translate(109.594062 16.318125)scale(0.12 -0.12)\">\n     <use xlink:href=\"#DejaVuSans-115\"/>\n     <use x=\"52.099609\" xlink:href=\"#DejaVuSans-121\"/>\n     <use x=\"111.279297\" xlink:href=\"#DejaVuSans-109\"/>\n     <use x=\"208.691406\" xlink:href=\"#DejaVuSans-98\"/>\n     <use x=\"272.167969\" xlink:href=\"#DejaVuSans-111\"/>\n     <use x=\"333.349609\" xlink:href=\"#DejaVuSans-108\"/>\n    </g>\n   </g>\n  </g>\n  <g id=\"axes_2\">\n   <g id=\"patch_17\">\n    <path d=\"M 267.6625 144.350778 \nL 438.1625 144.350778 \nL 438.1625 22.318125 \nL 267.6625 22.318125 \nz\n\" style=\"fill:#ffffff;\"/>\n   </g>\n   <g id=\"patch_18\">\n    <path clip-path=\"url(#p8a3c6ec4df)\" d=\"M 275.4125 144.350778 \nL 290.9125 144.350778 \nL 290.9125 138.418197 \nL 275.4125 138.418197 \nz\n\" style=\"fill:#1f77b4;stroke:#ff0000;stroke-linejoin:miter;stroke-width:1.2;\"/>\n   </g>\n   <g id=\"patch_19\">\n    <path clip-path=\"url(#p8a3c6ec4df)\" d=\"M 290.9125 144.350778 \nL 306.4125 144.350778 \nL 306.4125 124.584558 \nL 290.9125 124.584558 \nz\n\" style=\"fill:#1f77b4;stroke:#ff0000;stroke-linejoin:miter;stroke-width:1.2;\"/>\n   </g>\n   <g id=\"patch_20\">\n    <path clip-path=\"url(#p8a3c6ec4df)\" d=\"M 306.4125 144.350778 \nL 321.9125 144.350778 \nL 321.9125 102.401863 \nL 306.4125 102.401863 \nz\n\" style=\"fill:#1f77b4;stroke:#ff0000;stroke-linejoin:miter;stroke-width:1.2;\"/>\n   </g>\n   <g id=\"patch_21\">\n    <path clip-path=\"url(#p8a3c6ec4df)\" d=\"M 321.9125 144.350778 \nL 337.4125 144.350778 \nL 337.4125 90.244823 \nL 321.9125 90.244823 \nz\n\" style=\"fill:#1f77b4;stroke:#ff0000;stroke-linejoin:miter;stroke-width:1.2;\"/>\n   </g>\n   <g id=\"patch_22\">\n    <path clip-path=\"url(#p8a3c6ec4df)\" d=\"M 337.4125 144.350778 \nL 352.9125 144.350778 \nL 352.9125 103.216405 \nL 337.4125 103.216405 \nz\n\" style=\"fill:#1f77b4;stroke:#ff0000;stroke-linejoin:miter;stroke-width:1.2;\"/>\n   </g>\n   <g id=\"patch_23\">\n    <path clip-path=\"url(#p8a3c6ec4df)\" d=\"M 352.9125 144.350778 \nL 368.4125 144.350778 \nL 368.4125 28.129204 \nL 352.9125 28.129204 \nz\n\" style=\"fill:#1f77b4;stroke:#ff0000;stroke-linejoin:miter;stroke-width:1.2;\"/>\n   </g>\n   <g id=\"patch_24\">\n    <path clip-path=\"url(#p8a3c6ec4df)\" d=\"M 368.4125 144.350778 \nL 383.9125 144.350778 \nL 383.9125 114.429934 \nL 368.4125 114.429934 \nz\n\" style=\"fill:#1f77b4;stroke:#ff0000;stroke-linejoin:miter;stroke-width:1.2;\"/>\n   </g>\n   <g id=\"patch_25\">\n    <path clip-path=\"url(#p8a3c6ec4df)\" d=\"M 383.9125 144.350778 \nL 399.4125 144.350778 \nL 399.4125 124.801769 \nL 383.9125 124.801769 \nz\n\" style=\"fill:#1f77b4;stroke:#ff0000;stroke-linejoin:miter;stroke-width:1.2;\"/>\n   </g>\n   <g id=\"patch_26\">\n    <path clip-path=\"url(#p8a3c6ec4df)\" d=\"M 399.4125 144.350778 \nL 414.9125 144.350778 \nL 414.9125 132.981129 \nL 399.4125 132.981129 \nz\n\" style=\"fill:#1f77b4;stroke:#ff0000;stroke-linejoin:miter;stroke-width:1.2;\"/>\n   </g>\n   <g id=\"patch_27\">\n    <path clip-path=\"url(#p8a3c6ec4df)\" d=\"M 414.9125 144.350778 \nL 430.4125 144.350778 \nL 430.4125 136.673719 \nL 414.9125 136.673719 \nz\n\" style=\"fill:#1f77b4;stroke:#ff0000;stroke-linejoin:miter;stroke-width:1.2;\"/>\n   </g>\n   <g id=\"matplotlib.axis_3\">\n    <g id=\"xtick_4\">\n     <g id=\"line2d_19\">\n      <path clip-path=\"url(#p8a3c6ec4df)\" d=\"M 302.256075 144.350778 \nL 302.256075 22.318125 \n\" style=\"fill:none;stroke:#b0b0b0;stroke-linecap:square;stroke-width:0.8;\"/>\n     </g>\n     <g id=\"line2d_20\">\n      <g>\n       <use style=\"stroke:#000000;stroke-width:0.8;\" x=\"302.256075\" xlink:href=\"#ma82ef1ade4\" y=\"144.350778\"/>\n      </g>\n     </g>\n     <g id=\"text_11\">\n      <!-- 10 -->\n      <g transform=\"translate(295.893575 158.949216)scale(0.1 -0.1)\">\n       <use xlink:href=\"#DejaVuSans-49\"/>\n       <use x=\"63.623047\" xlink:href=\"#DejaVuSans-48\"/>\n      </g>\n     </g>\n    </g>\n    <g id=\"xtick_5\">\n     <g id=\"line2d_21\">\n      <path clip-path=\"url(#p8a3c6ec4df)\" d=\"M 336.892947 144.350778 \nL 336.892947 22.318125 \n\" style=\"fill:none;stroke:#b0b0b0;stroke-linecap:square;stroke-width:0.8;\"/>\n     </g>\n     <g id=\"line2d_22\">\n      <g>\n       <use style=\"stroke:#000000;stroke-width:0.8;\" x=\"336.892947\" xlink:href=\"#ma82ef1ade4\" y=\"144.350778\"/>\n      </g>\n     </g>\n     <g id=\"text_12\">\n      <!-- 20 -->\n      <g transform=\"translate(330.530447 158.949216)scale(0.1 -0.1)\">\n       <use xlink:href=\"#DejaVuSans-50\"/>\n       <use x=\"63.623047\" xlink:href=\"#DejaVuSans-48\"/>\n      </g>\n     </g>\n    </g>\n    <g id=\"xtick_6\">\n     <g id=\"line2d_23\">\n      <path clip-path=\"url(#p8a3c6ec4df)\" d=\"M 371.529818 144.350778 \nL 371.529818 22.318125 \n\" style=\"fill:none;stroke:#b0b0b0;stroke-linecap:square;stroke-width:0.8;\"/>\n     </g>\n     <g id=\"line2d_24\">\n      <g>\n       <use style=\"stroke:#000000;stroke-width:0.8;\" x=\"371.529818\" xlink:href=\"#ma82ef1ade4\" y=\"144.350778\"/>\n      </g>\n     </g>\n     <g id=\"text_13\">\n      <!-- 30 -->\n      <g transform=\"translate(365.167318 158.949216)scale(0.1 -0.1)\">\n       <use xlink:href=\"#DejaVuSans-51\"/>\n       <use x=\"63.623047\" xlink:href=\"#DejaVuSans-48\"/>\n      </g>\n     </g>\n    </g>\n    <g id=\"xtick_7\">\n     <g id=\"line2d_25\">\n      <path clip-path=\"url(#p8a3c6ec4df)\" d=\"M 406.16669 144.350778 \nL 406.16669 22.318125 \n\" style=\"fill:none;stroke:#b0b0b0;stroke-linecap:square;stroke-width:0.8;\"/>\n     </g>\n     <g id=\"line2d_26\">\n      <g>\n       <use style=\"stroke:#000000;stroke-width:0.8;\" x=\"406.16669\" xlink:href=\"#ma82ef1ade4\" y=\"144.350778\"/>\n      </g>\n     </g>\n     <g id=\"text_14\">\n      <!-- 40 -->\n      <g transform=\"translate(399.80419 158.949216)scale(0.1 -0.1)\">\n       <use xlink:href=\"#DejaVuSans-52\"/>\n       <use x=\"63.623047\" xlink:href=\"#DejaVuSans-48\"/>\n      </g>\n     </g>\n    </g>\n   </g>\n   <g id=\"matplotlib.axis_4\">\n    <g id=\"ytick_7\">\n     <g id=\"line2d_27\">\n      <path clip-path=\"url(#p8a3c6ec4df)\" d=\"M 267.6625 144.350778 \nL 438.1625 144.350778 \n\" style=\"fill:none;stroke:#b0b0b0;stroke-linecap:square;stroke-width:0.8;\"/>\n     </g>\n     <g id=\"line2d_28\">\n      <g>\n       <use style=\"stroke:#000000;stroke-width:0.8;\" x=\"267.6625\" xlink:href=\"#mb182d7aa31\" y=\"144.350778\"/>\n      </g>\n     </g>\n     <g id=\"text_15\">\n      <!-- 0 -->\n      <g transform=\"translate(254.3 148.149997)scale(0.1 -0.1)\">\n       <use xlink:href=\"#DejaVuSans-48\"/>\n      </g>\n     </g>\n    </g>\n    <g id=\"ytick_8\">\n     <g id=\"line2d_29\">\n      <path clip-path=\"url(#p8a3c6ec4df)\" d=\"M 267.6625 110.411526 \nL 438.1625 110.411526 \n\" style=\"fill:none;stroke:#b0b0b0;stroke-linecap:square;stroke-width:0.8;\"/>\n     </g>\n     <g id=\"line2d_30\">\n      <g>\n       <use style=\"stroke:#000000;stroke-width:0.8;\" x=\"267.6625\" xlink:href=\"#mb182d7aa31\" y=\"110.411526\"/>\n      </g>\n     </g>\n     <g id=\"text_16\">\n      <!-- 5000 -->\n      <g transform=\"translate(235.2125 114.210745)scale(0.1 -0.1)\">\n       <use xlink:href=\"#DejaVuSans-53\"/>\n       <use x=\"63.623047\" xlink:href=\"#DejaVuSans-48\"/>\n       <use x=\"127.246094\" xlink:href=\"#DejaVuSans-48\"/>\n       <use x=\"190.869141\" xlink:href=\"#DejaVuSans-48\"/>\n      </g>\n     </g>\n    </g>\n    <g id=\"ytick_9\">\n     <g id=\"line2d_31\">\n      <path clip-path=\"url(#p8a3c6ec4df)\" d=\"M 267.6625 76.472274 \nL 438.1625 76.472274 \n\" style=\"fill:none;stroke:#b0b0b0;stroke-linecap:square;stroke-width:0.8;\"/>\n     </g>\n     <g id=\"line2d_32\">\n      <g>\n       <use style=\"stroke:#000000;stroke-width:0.8;\" x=\"267.6625\" xlink:href=\"#mb182d7aa31\" y=\"76.472274\"/>\n      </g>\n     </g>\n     <g id=\"text_17\">\n      <!-- 10000 -->\n      <g transform=\"translate(228.85 80.271493)scale(0.1 -0.1)\">\n       <use xlink:href=\"#DejaVuSans-49\"/>\n       <use x=\"63.623047\" xlink:href=\"#DejaVuSans-48\"/>\n       <use x=\"127.246094\" xlink:href=\"#DejaVuSans-48\"/>\n       <use x=\"190.869141\" xlink:href=\"#DejaVuSans-48\"/>\n       <use x=\"254.492188\" xlink:href=\"#DejaVuSans-48\"/>\n      </g>\n     </g>\n    </g>\n    <g id=\"ytick_10\">\n     <g id=\"line2d_33\">\n      <path clip-path=\"url(#p8a3c6ec4df)\" d=\"M 267.6625 42.533022 \nL 438.1625 42.533022 \n\" style=\"fill:none;stroke:#b0b0b0;stroke-linecap:square;stroke-width:0.8;\"/>\n     </g>\n     <g id=\"line2d_34\">\n      <g>\n       <use style=\"stroke:#000000;stroke-width:0.8;\" x=\"267.6625\" xlink:href=\"#mb182d7aa31\" y=\"42.533022\"/>\n      </g>\n     </g>\n     <g id=\"text_18\">\n      <!-- 15000 -->\n      <g transform=\"translate(228.85 46.332241)scale(0.1 -0.1)\">\n       <use xlink:href=\"#DejaVuSans-49\"/>\n       <use x=\"63.623047\" xlink:href=\"#DejaVuSans-53\"/>\n       <use x=\"127.246094\" xlink:href=\"#DejaVuSans-48\"/>\n       <use x=\"190.869141\" xlink:href=\"#DejaVuSans-48\"/>\n       <use x=\"254.492188\" xlink:href=\"#DejaVuSans-48\"/>\n      </g>\n     </g>\n    </g>\n   </g>\n   <g id=\"patch_28\">\n    <path d=\"M 267.6625 144.350778 \nL 267.6625 22.318125 \n\" style=\"fill:none;stroke:#000000;stroke-linecap:square;stroke-linejoin:miter;stroke-width:0.8;\"/>\n   </g>\n   <g id=\"patch_29\">\n    <path d=\"M 438.1625 144.350778 \nL 438.1625 22.318125 \n\" style=\"fill:none;stroke:#000000;stroke-linecap:square;stroke-linejoin:miter;stroke-width:0.8;\"/>\n   </g>\n   <g id=\"patch_30\">\n    <path d=\"M 267.6625 144.350778 \nL 438.1625 144.350778 \n\" style=\"fill:none;stroke:#000000;stroke-linecap:square;stroke-linejoin:miter;stroke-width:0.8;\"/>\n   </g>\n   <g id=\"patch_31\">\n    <path d=\"M 267.6625 22.318125 \nL 438.1625 22.318125 \n\" style=\"fill:none;stroke:#000000;stroke-linecap:square;stroke-linejoin:miter;stroke-width:0.8;\"/>\n   </g>\n   <g id=\"text_19\">\n    <!-- open -->\n    <defs>\n     <path d=\"M 18.109375 8.203125 \nL 18.109375 -20.796875 \nL 9.078125 -20.796875 \nL 9.078125 54.6875 \nL 18.109375 54.6875 \nL 18.109375 46.390625 \nQ 20.953125 51.265625 25.265625 53.625 \nQ 29.59375 56 35.59375 56 \nQ 45.5625 56 51.78125 48.09375 \nQ 58.015625 40.1875 58.015625 27.296875 \nQ 58.015625 14.40625 51.78125 6.484375 \nQ 45.5625 -1.421875 35.59375 -1.421875 \nQ 29.59375 -1.421875 25.265625 0.953125 \nQ 20.953125 3.328125 18.109375 8.203125 \nz\nM 48.6875 27.296875 \nQ 48.6875 37.203125 44.609375 42.84375 \nQ 40.53125 48.484375 33.40625 48.484375 \nQ 26.265625 48.484375 22.1875 42.84375 \nQ 18.109375 37.203125 18.109375 27.296875 \nQ 18.109375 17.390625 22.1875 11.75 \nQ 26.265625 6.109375 33.40625 6.109375 \nQ 40.53125 6.109375 44.609375 11.75 \nQ 48.6875 17.390625 48.6875 27.296875 \nz\n\" id=\"DejaVuSans-112\"/>\n     <path d=\"M 56.203125 29.59375 \nL 56.203125 25.203125 \nL 14.890625 25.203125 \nQ 15.484375 15.921875 20.484375 11.0625 \nQ 25.484375 6.203125 34.421875 6.203125 \nQ 39.59375 6.203125 44.453125 7.46875 \nQ 49.3125 8.734375 54.109375 11.28125 \nL 54.109375 2.78125 \nQ 49.265625 0.734375 44.1875 -0.34375 \nQ 39.109375 -1.421875 33.890625 -1.421875 \nQ 20.796875 -1.421875 13.15625 6.1875 \nQ 5.515625 13.8125 5.515625 26.8125 \nQ 5.515625 40.234375 12.765625 48.109375 \nQ 20.015625 56 32.328125 56 \nQ 43.359375 56 49.78125 48.890625 \nQ 56.203125 41.796875 56.203125 29.59375 \nz\nM 47.21875 32.234375 \nQ 47.125 39.59375 43.09375 43.984375 \nQ 39.0625 48.390625 32.421875 48.390625 \nQ 24.90625 48.390625 20.390625 44.140625 \nQ 15.875 39.890625 15.1875 32.171875 \nz\n\" id=\"DejaVuSans-101\"/>\n     <path d=\"M 54.890625 33.015625 \nL 54.890625 0 \nL 45.90625 0 \nL 45.90625 32.71875 \nQ 45.90625 40.484375 42.875 44.328125 \nQ 39.84375 48.1875 33.796875 48.1875 \nQ 26.515625 48.1875 22.3125 43.546875 \nQ 18.109375 38.921875 18.109375 30.90625 \nL 18.109375 0 \nL 9.078125 0 \nL 9.078125 54.6875 \nL 18.109375 54.6875 \nL 18.109375 46.1875 \nQ 21.34375 51.125 25.703125 53.5625 \nQ 30.078125 56 35.796875 56 \nQ 45.21875 56 50.046875 50.171875 \nQ 54.890625 44.34375 54.890625 33.015625 \nz\n\" id=\"DejaVuSans-110\"/>\n    </defs>\n    <g transform=\"translate(337.937813 16.318125)scale(0.12 -0.12)\">\n     <use xlink:href=\"#DejaVuSans-111\"/>\n     <use x=\"61.181641\" xlink:href=\"#DejaVuSans-112\"/>\n     <use x=\"124.658203\" xlink:href=\"#DejaVuSans-101\"/>\n     <use x=\"186.181641\" xlink:href=\"#DejaVuSans-110\"/>\n    </g>\n   </g>\n  </g>\n  <g id=\"axes_3\">\n   <g id=\"patch_32\">\n    <path d=\"M 489.3125 144.350778 \nL 659.8125 144.350778 \nL 659.8125 22.318125 \nL 489.3125 22.318125 \nz\n\" style=\"fill:#ffffff;\"/>\n   </g>\n   <g id=\"patch_33\">\n    <path clip-path=\"url(#pb5afd76399)\" d=\"M 497.0625 144.350778 \nL 512.5625 144.350778 \nL 512.5625 137.523659 \nL 497.0625 137.523659 \nz\n\" style=\"fill:#1f77b4;stroke:#ff0000;stroke-linejoin:miter;stroke-width:1.2;\"/>\n   </g>\n   <g id=\"patch_34\">\n    <path clip-path=\"url(#pb5afd76399)\" d=\"M 512.5625 144.350778 \nL 528.0625 144.350778 \nL 528.0625 121.300526 \nL 512.5625 121.300526 \nz\n\" style=\"fill:#1f77b4;stroke:#ff0000;stroke-linejoin:miter;stroke-width:1.2;\"/>\n   </g>\n   <g id=\"patch_35\">\n    <path clip-path=\"url(#pb5afd76399)\" d=\"M 528.0625 144.350778 \nL 543.5625 144.350778 \nL 543.5625 95.723264 \nL 528.0625 95.723264 \nz\n\" style=\"fill:#1f77b4;stroke:#ff0000;stroke-linejoin:miter;stroke-width:1.2;\"/>\n   </g>\n   <g id=\"patch_36\">\n    <path clip-path=\"url(#pb5afd76399)\" d=\"M 543.5625 144.350778 \nL 559.0625 144.350778 \nL 559.0625 88.896145 \nL 543.5625 88.896145 \nz\n\" style=\"fill:#1f77b4;stroke:#ff0000;stroke-linejoin:miter;stroke-width:1.2;\"/>\n   </g>\n   <g id=\"patch_37\">\n    <path clip-path=\"url(#pb5afd76399)\" d=\"M 559.0625 144.350778 \nL 574.5625 144.350778 \nL 574.5625 101.433471 \nL 559.0625 101.433471 \nz\n\" style=\"fill:#1f77b4;stroke:#ff0000;stroke-linejoin:miter;stroke-width:1.2;\"/>\n   </g>\n   <g id=\"patch_38\">\n    <path clip-path=\"url(#pb5afd76399)\" d=\"M 574.5625 144.350778 \nL 590.0625 144.350778 \nL 590.0625 28.129204 \nL 574.5625 28.129204 \nz\n\" style=\"fill:#1f77b4;stroke:#ff0000;stroke-linejoin:miter;stroke-width:1.2;\"/>\n   </g>\n   <g id=\"patch_39\">\n    <path clip-path=\"url(#pb5afd76399)\" d=\"M 590.0625 144.350778 \nL 605.5625 144.350778 \nL 605.5625 113.524033 \nL 590.0625 113.524033 \nz\n\" style=\"fill:#1f77b4;stroke:#ff0000;stroke-linejoin:miter;stroke-width:1.2;\"/>\n   </g>\n   <g id=\"patch_40\">\n    <path clip-path=\"url(#pb5afd76399)\" d=\"M 605.5625 144.350778 \nL 621.0625 144.350778 \nL 621.0625 128.846657 \nL 605.5625 128.846657 \nz\n\" style=\"fill:#1f77b4;stroke:#ff0000;stroke-linejoin:miter;stroke-width:1.2;\"/>\n   </g>\n   <g id=\"patch_41\">\n    <path clip-path=\"url(#pb5afd76399)\" d=\"M 621.0625 144.350778 \nL 636.5625 144.350778 \nL 636.5625 133.544664 \nL 621.0625 133.544664 \nz\n\" style=\"fill:#1f77b4;stroke:#ff0000;stroke-linejoin:miter;stroke-width:1.2;\"/>\n   </g>\n   <g id=\"patch_42\">\n    <path clip-path=\"url(#pb5afd76399)\" d=\"M 636.5625 144.350778 \nL 652.0625 144.350778 \nL 652.0625 137.083876 \nL 636.5625 137.083876 \nz\n\" style=\"fill:#1f77b4;stroke:#ff0000;stroke-linejoin:miter;stroke-width:1.2;\"/>\n   </g>\n   <g id=\"matplotlib.axis_5\">\n    <g id=\"xtick_8\">\n     <g id=\"line2d_35\">\n      <path clip-path=\"url(#pb5afd76399)\" d=\"M 489.758835 144.350778 \nL 489.758835 22.318125 \n\" style=\"fill:none;stroke:#b0b0b0;stroke-linecap:square;stroke-width:0.8;\"/>\n     </g>\n     <g id=\"line2d_36\">\n      <g>\n       <use style=\"stroke:#000000;stroke-width:0.8;\" x=\"489.758835\" xlink:href=\"#ma82ef1ade4\" y=\"144.350778\"/>\n      </g>\n     </g>\n     <g id=\"text_20\">\n      <!-- 0 -->\n      <g transform=\"translate(486.577585 158.949216)scale(0.1 -0.1)\">\n       <use xlink:href=\"#DejaVuSans-48\"/>\n      </g>\n     </g>\n    </g>\n    <g id=\"xtick_9\">\n     <g id=\"line2d_37\">\n      <path clip-path=\"url(#pb5afd76399)\" d=\"M 554.680301 144.350778 \nL 554.680301 22.318125 \n\" style=\"fill:none;stroke:#b0b0b0;stroke-linecap:square;stroke-width:0.8;\"/>\n     </g>\n     <g id=\"line2d_38\">\n      <g>\n       <use style=\"stroke:#000000;stroke-width:0.8;\" x=\"554.680301\" xlink:href=\"#ma82ef1ade4\" y=\"144.350778\"/>\n      </g>\n     </g>\n     <g id=\"text_21\">\n      <!-- 20 -->\n      <g transform=\"translate(548.317801 158.949216)scale(0.1 -0.1)\">\n       <use xlink:href=\"#DejaVuSans-50\"/>\n       <use x=\"63.623047\" xlink:href=\"#DejaVuSans-48\"/>\n      </g>\n     </g>\n    </g>\n    <g id=\"xtick_10\">\n     <g id=\"line2d_39\">\n      <path clip-path=\"url(#pb5afd76399)\" d=\"M 619.601767 144.350778 \nL 619.601767 22.318125 \n\" style=\"fill:none;stroke:#b0b0b0;stroke-linecap:square;stroke-width:0.8;\"/>\n     </g>\n     <g id=\"line2d_40\">\n      <g>\n       <use style=\"stroke:#000000;stroke-width:0.8;\" x=\"619.601767\" xlink:href=\"#ma82ef1ade4\" y=\"144.350778\"/>\n      </g>\n     </g>\n     <g id=\"text_22\">\n      <!-- 40 -->\n      <g transform=\"translate(613.239267 158.949216)scale(0.1 -0.1)\">\n       <use xlink:href=\"#DejaVuSans-52\"/>\n       <use x=\"63.623047\" xlink:href=\"#DejaVuSans-48\"/>\n      </g>\n     </g>\n    </g>\n   </g>\n   <g id=\"matplotlib.axis_6\">\n    <g id=\"ytick_11\">\n     <g id=\"line2d_41\">\n      <path clip-path=\"url(#pb5afd76399)\" d=\"M 489.3125 144.350778 \nL 659.8125 144.350778 \n\" style=\"fill:none;stroke:#b0b0b0;stroke-linecap:square;stroke-width:0.8;\"/>\n     </g>\n     <g id=\"line2d_42\">\n      <g>\n       <use style=\"stroke:#000000;stroke-width:0.8;\" x=\"489.3125\" xlink:href=\"#mb182d7aa31\" y=\"144.350778\"/>\n      </g>\n     </g>\n     <g id=\"text_23\">\n      <!-- 0 -->\n      <g transform=\"translate(475.95 148.149997)scale(0.1 -0.1)\">\n       <use xlink:href=\"#DejaVuSans-48\"/>\n      </g>\n     </g>\n    </g>\n    <g id=\"ytick_12\">\n     <g id=\"line2d_43\">\n      <path clip-path=\"url(#pb5afd76399)\" d=\"M 489.3125 109.447308 \nL 659.8125 109.447308 \n\" style=\"fill:none;stroke:#b0b0b0;stroke-linecap:square;stroke-width:0.8;\"/>\n     </g>\n     <g id=\"line2d_44\">\n      <g>\n       <use style=\"stroke:#000000;stroke-width:0.8;\" x=\"489.3125\" xlink:href=\"#mb182d7aa31\" y=\"109.447308\"/>\n      </g>\n     </g>\n     <g id=\"text_24\">\n      <!-- 5000 -->\n      <g transform=\"translate(456.8625 113.246527)scale(0.1 -0.1)\">\n       <use xlink:href=\"#DejaVuSans-53\"/>\n       <use x=\"63.623047\" xlink:href=\"#DejaVuSans-48\"/>\n       <use x=\"127.246094\" xlink:href=\"#DejaVuSans-48\"/>\n       <use x=\"190.869141\" xlink:href=\"#DejaVuSans-48\"/>\n      </g>\n     </g>\n    </g>\n    <g id=\"ytick_13\">\n     <g id=\"line2d_45\">\n      <path clip-path=\"url(#pb5afd76399)\" d=\"M 489.3125 74.543838 \nL 659.8125 74.543838 \n\" style=\"fill:none;stroke:#b0b0b0;stroke-linecap:square;stroke-width:0.8;\"/>\n     </g>\n     <g id=\"line2d_46\">\n      <g>\n       <use style=\"stroke:#000000;stroke-width:0.8;\" x=\"489.3125\" xlink:href=\"#mb182d7aa31\" y=\"74.543838\"/>\n      </g>\n     </g>\n     <g id=\"text_25\">\n      <!-- 10000 -->\n      <g transform=\"translate(450.5 78.343057)scale(0.1 -0.1)\">\n       <use xlink:href=\"#DejaVuSans-49\"/>\n       <use x=\"63.623047\" xlink:href=\"#DejaVuSans-48\"/>\n       <use x=\"127.246094\" xlink:href=\"#DejaVuSans-48\"/>\n       <use x=\"190.869141\" xlink:href=\"#DejaVuSans-48\"/>\n       <use x=\"254.492188\" xlink:href=\"#DejaVuSans-48\"/>\n      </g>\n     </g>\n    </g>\n    <g id=\"ytick_14\">\n     <g id=\"line2d_47\">\n      <path clip-path=\"url(#pb5afd76399)\" d=\"M 489.3125 39.640368 \nL 659.8125 39.640368 \n\" style=\"fill:none;stroke:#b0b0b0;stroke-linecap:square;stroke-width:0.8;\"/>\n     </g>\n     <g id=\"line2d_48\">\n      <g>\n       <use style=\"stroke:#000000;stroke-width:0.8;\" x=\"489.3125\" xlink:href=\"#mb182d7aa31\" y=\"39.640368\"/>\n      </g>\n     </g>\n     <g id=\"text_26\">\n      <!-- 15000 -->\n      <g transform=\"translate(450.5 43.439587)scale(0.1 -0.1)\">\n       <use xlink:href=\"#DejaVuSans-49\"/>\n       <use x=\"63.623047\" xlink:href=\"#DejaVuSans-53\"/>\n       <use x=\"127.246094\" xlink:href=\"#DejaVuSans-48\"/>\n       <use x=\"190.869141\" xlink:href=\"#DejaVuSans-48\"/>\n       <use x=\"254.492188\" xlink:href=\"#DejaVuSans-48\"/>\n      </g>\n     </g>\n    </g>\n   </g>\n   <g id=\"patch_43\">\n    <path d=\"M 489.3125 144.350778 \nL 489.3125 22.318125 \n\" style=\"fill:none;stroke:#000000;stroke-linecap:square;stroke-linejoin:miter;stroke-width:0.8;\"/>\n   </g>\n   <g id=\"patch_44\">\n    <path d=\"M 659.8125 144.350778 \nL 659.8125 22.318125 \n\" style=\"fill:none;stroke:#000000;stroke-linecap:square;stroke-linejoin:miter;stroke-width:0.8;\"/>\n   </g>\n   <g id=\"patch_45\">\n    <path d=\"M 489.3125 144.350778 \nL 659.8125 144.350778 \n\" style=\"fill:none;stroke:#000000;stroke-linecap:square;stroke-linejoin:miter;stroke-width:0.8;\"/>\n   </g>\n   <g id=\"patch_46\">\n    <path d=\"M 489.3125 22.318125 \nL 659.8125 22.318125 \n\" style=\"fill:none;stroke:#000000;stroke-linecap:square;stroke-linejoin:miter;stroke-width:0.8;\"/>\n   </g>\n   <g id=\"text_27\">\n    <!-- high -->\n    <defs>\n     <path d=\"M 54.890625 33.015625 \nL 54.890625 0 \nL 45.90625 0 \nL 45.90625 32.71875 \nQ 45.90625 40.484375 42.875 44.328125 \nQ 39.84375 48.1875 33.796875 48.1875 \nQ 26.515625 48.1875 22.3125 43.546875 \nQ 18.109375 38.921875 18.109375 30.90625 \nL 18.109375 0 \nL 9.078125 0 \nL 9.078125 75.984375 \nL 18.109375 75.984375 \nL 18.109375 46.1875 \nQ 21.34375 51.125 25.703125 53.5625 \nQ 30.078125 56 35.796875 56 \nQ 45.21875 56 50.046875 50.171875 \nQ 54.890625 44.34375 54.890625 33.015625 \nz\n\" id=\"DejaVuSans-104\"/>\n     <path d=\"M 9.421875 54.6875 \nL 18.40625 54.6875 \nL 18.40625 0 \nL 9.421875 0 \nz\nM 9.421875 75.984375 \nL 18.40625 75.984375 \nL 18.40625 64.59375 \nL 9.421875 64.59375 \nz\n\" id=\"DejaVuSans-105\"/>\n     <path d=\"M 45.40625 27.984375 \nQ 45.40625 37.75 41.375 43.109375 \nQ 37.359375 48.484375 30.078125 48.484375 \nQ 22.859375 48.484375 18.828125 43.109375 \nQ 14.796875 37.75 14.796875 27.984375 \nQ 14.796875 18.265625 18.828125 12.890625 \nQ 22.859375 7.515625 30.078125 7.515625 \nQ 37.359375 7.515625 41.375 12.890625 \nQ 45.40625 18.265625 45.40625 27.984375 \nz\nM 54.390625 6.78125 \nQ 54.390625 -7.171875 48.1875 -13.984375 \nQ 42 -20.796875 29.203125 -20.796875 \nQ 24.46875 -20.796875 20.265625 -20.09375 \nQ 16.0625 -19.390625 12.109375 -17.921875 \nL 12.109375 -9.1875 \nQ 16.0625 -11.328125 19.921875 -12.34375 \nQ 23.78125 -13.375 27.78125 -13.375 \nQ 36.625 -13.375 41.015625 -8.765625 \nQ 45.40625 -4.15625 45.40625 5.171875 \nL 45.40625 9.625 \nQ 42.625 4.78125 38.28125 2.390625 \nQ 33.9375 0 27.875 0 \nQ 17.828125 0 11.671875 7.65625 \nQ 5.515625 15.328125 5.515625 27.984375 \nQ 5.515625 40.671875 11.671875 48.328125 \nQ 17.828125 56 27.875 56 \nQ 33.9375 56 38.28125 53.609375 \nQ 42.625 51.21875 45.40625 46.390625 \nL 45.40625 54.6875 \nL 54.390625 54.6875 \nz\n\" id=\"DejaVuSans-103\"/>\n    </defs>\n    <g transform=\"translate(561.481562 16.318125)scale(0.12 -0.12)\">\n     <use xlink:href=\"#DejaVuSans-104\"/>\n     <use x=\"63.378906\" xlink:href=\"#DejaVuSans-105\"/>\n     <use x=\"91.162109\" xlink:href=\"#DejaVuSans-103\"/>\n     <use x=\"154.638672\" xlink:href=\"#DejaVuSans-104\"/>\n    </g>\n   </g>\n  </g>\n  <g id=\"axes_4\">\n   <g id=\"patch_47\">\n    <path d=\"M 46.0125 302.993227 \nL 216.5125 302.993227 \nL 216.5125 180.960574 \nL 46.0125 180.960574 \nz\n\" style=\"fill:#ffffff;\"/>\n   </g>\n   <g id=\"patch_48\">\n    <path clip-path=\"url(#pc2abc929ea)\" d=\"M 53.7625 302.993227 \nL 69.2625 302.993227 \nL 69.2625 296.794469 \nL 53.7625 296.794469 \nz\n\" style=\"fill:#1f77b4;stroke:#ff0000;stroke-linejoin:miter;stroke-width:1.2;\"/>\n   </g>\n   <g id=\"patch_49\">\n    <path clip-path=\"url(#pc2abc929ea)\" d=\"M 69.2625 302.993227 \nL 84.7625 302.993227 \nL 84.7625 282.184579 \nL 69.2625 282.184579 \nz\n\" style=\"fill:#1f77b4;stroke:#ff0000;stroke-linejoin:miter;stroke-width:1.2;\"/>\n   </g>\n   <g id=\"patch_50\">\n    <path clip-path=\"url(#pc2abc929ea)\" d=\"M 84.7625 302.993227 \nL 100.2625 302.993227 \nL 100.2625 259.964943 \nL 84.7625 259.964943 \nz\n\" style=\"fill:#1f77b4;stroke:#ff0000;stroke-linejoin:miter;stroke-width:1.2;\"/>\n   </g>\n   <g id=\"patch_51\">\n    <path clip-path=\"url(#pc2abc929ea)\" d=\"M 100.2625 302.993227 \nL 115.7625 302.993227 \nL 115.7625 247.601674 \nL 100.2625 247.601674 \nz\n\" style=\"fill:#1f77b4;stroke:#ff0000;stroke-linejoin:miter;stroke-width:1.2;\"/>\n   </g>\n   <g id=\"patch_52\">\n    <path clip-path=\"url(#pc2abc929ea)\" d=\"M 115.7625 302.993227 \nL 131.2625 302.993227 \nL 131.2625 261.25264 \nL 115.7625 261.25264 \nz\n\" style=\"fill:#1f77b4;stroke:#ff0000;stroke-linejoin:miter;stroke-width:1.2;\"/>\n   </g>\n   <g id=\"patch_53\">\n    <path clip-path=\"url(#pc2abc929ea)\" d=\"M 131.2625 302.993227 \nL 146.7625 302.993227 \nL 146.7625 186.771653 \nL 131.2625 186.771653 \nz\n\" style=\"fill:#1f77b4;stroke:#ff0000;stroke-linejoin:miter;stroke-width:1.2;\"/>\n   </g>\n   <g id=\"patch_54\">\n    <path clip-path=\"url(#pc2abc929ea)\" d=\"M 146.7625 302.993227 \nL 162.2625 302.993227 \nL 162.2625 272.937813 \nL 146.7625 272.937813 \nz\n\" style=\"fill:#1f77b4;stroke:#ff0000;stroke-linejoin:miter;stroke-width:1.2;\"/>\n   </g>\n   <g id=\"patch_55\">\n    <path clip-path=\"url(#pc2abc929ea)\" d=\"M 162.2625 302.993227 \nL 177.7625 302.993227 \nL 177.7625 284.075029 \nL 162.2625 284.075029 \nz\n\" style=\"fill:#1f77b4;stroke:#ff0000;stroke-linejoin:miter;stroke-width:1.2;\"/>\n   </g>\n   <g id=\"patch_56\">\n    <path clip-path=\"url(#pc2abc929ea)\" d=\"M 177.7625 302.993227 \nL 193.2625 302.993227 \nL 193.2625 292.047796 \nL 177.7625 292.047796 \nz\n\" style=\"fill:#1f77b4;stroke:#ff0000;stroke-linejoin:miter;stroke-width:1.2;\"/>\n   </g>\n   <g id=\"patch_57\">\n    <path clip-path=\"url(#pc2abc929ea)\" d=\"M 193.2625 302.993227 \nL 208.7625 302.993227 \nL 208.7625 295.52047 \nL 193.2625 295.52047 \nz\n\" style=\"fill:#1f77b4;stroke:#ff0000;stroke-linejoin:miter;stroke-width:1.2;\"/>\n   </g>\n   <g id=\"matplotlib.axis_7\">\n    <g id=\"xtick_11\">\n     <g id=\"line2d_49\">\n      <path clip-path=\"url(#pc2abc929ea)\" d=\"M 80.606075 302.993227 \nL 80.606075 180.960574 \n\" style=\"fill:none;stroke:#b0b0b0;stroke-linecap:square;stroke-width:0.8;\"/>\n     </g>\n     <g id=\"line2d_50\">\n      <g>\n       <use style=\"stroke:#000000;stroke-width:0.8;\" x=\"80.606075\" xlink:href=\"#ma82ef1ade4\" y=\"302.993227\"/>\n      </g>\n     </g>\n     <g id=\"text_28\">\n      <!-- 10 -->\n      <g transform=\"translate(74.243575 317.591665)scale(0.1 -0.1)\">\n       <use xlink:href=\"#DejaVuSans-49\"/>\n       <use x=\"63.623047\" xlink:href=\"#DejaVuSans-48\"/>\n      </g>\n     </g>\n    </g>\n    <g id=\"xtick_12\">\n     <g id=\"line2d_51\">\n      <path clip-path=\"url(#pc2abc929ea)\" d=\"M 115.242947 302.993227 \nL 115.242947 180.960574 \n\" style=\"fill:none;stroke:#b0b0b0;stroke-linecap:square;stroke-width:0.8;\"/>\n     </g>\n     <g id=\"line2d_52\">\n      <g>\n       <use style=\"stroke:#000000;stroke-width:0.8;\" x=\"115.242947\" xlink:href=\"#ma82ef1ade4\" y=\"302.993227\"/>\n      </g>\n     </g>\n     <g id=\"text_29\">\n      <!-- 20 -->\n      <g transform=\"translate(108.880447 317.591665)scale(0.1 -0.1)\">\n       <use xlink:href=\"#DejaVuSans-50\"/>\n       <use x=\"63.623047\" xlink:href=\"#DejaVuSans-48\"/>\n      </g>\n     </g>\n    </g>\n    <g id=\"xtick_13\">\n     <g id=\"line2d_53\">\n      <path clip-path=\"url(#pc2abc929ea)\" d=\"M 149.879818 302.993227 \nL 149.879818 180.960574 \n\" style=\"fill:none;stroke:#b0b0b0;stroke-linecap:square;stroke-width:0.8;\"/>\n     </g>\n     <g id=\"line2d_54\">\n      <g>\n       <use style=\"stroke:#000000;stroke-width:0.8;\" x=\"149.879818\" xlink:href=\"#ma82ef1ade4\" y=\"302.993227\"/>\n      </g>\n     </g>\n     <g id=\"text_30\">\n      <!-- 30 -->\n      <g transform=\"translate(143.517318 317.591665)scale(0.1 -0.1)\">\n       <use xlink:href=\"#DejaVuSans-51\"/>\n       <use x=\"63.623047\" xlink:href=\"#DejaVuSans-48\"/>\n      </g>\n     </g>\n    </g>\n    <g id=\"xtick_14\">\n     <g id=\"line2d_55\">\n      <path clip-path=\"url(#pc2abc929ea)\" d=\"M 184.51669 302.993227 \nL 184.51669 180.960574 \n\" style=\"fill:none;stroke:#b0b0b0;stroke-linecap:square;stroke-width:0.8;\"/>\n     </g>\n     <g id=\"line2d_56\">\n      <g>\n       <use style=\"stroke:#000000;stroke-width:0.8;\" x=\"184.51669\" xlink:href=\"#ma82ef1ade4\" y=\"302.993227\"/>\n      </g>\n     </g>\n     <g id=\"text_31\">\n      <!-- 40 -->\n      <g transform=\"translate(178.15419 317.591665)scale(0.1 -0.1)\">\n       <use xlink:href=\"#DejaVuSans-52\"/>\n       <use x=\"63.623047\" xlink:href=\"#DejaVuSans-48\"/>\n      </g>\n     </g>\n    </g>\n   </g>\n   <g id=\"matplotlib.axis_8\">\n    <g id=\"ytick_15\">\n     <g id=\"line2d_57\">\n      <path clip-path=\"url(#pc2abc929ea)\" d=\"M 46.0125 302.993227 \nL 216.5125 302.993227 \n\" style=\"fill:none;stroke:#b0b0b0;stroke-linecap:square;stroke-width:0.8;\"/>\n     </g>\n     <g id=\"line2d_58\">\n      <g>\n       <use style=\"stroke:#000000;stroke-width:0.8;\" x=\"46.0125\" xlink:href=\"#mb182d7aa31\" y=\"302.993227\"/>\n      </g>\n     </g>\n     <g id=\"text_32\">\n      <!-- 0 -->\n      <g transform=\"translate(32.65 306.792446)scale(0.1 -0.1)\">\n       <use xlink:href=\"#DejaVuSans-48\"/>\n      </g>\n     </g>\n    </g>\n    <g id=\"ytick_16\">\n     <g id=\"line2d_59\">\n      <path clip-path=\"url(#pc2abc929ea)\" d=\"M 46.0125 268.745946 \nL 216.5125 268.745946 \n\" style=\"fill:none;stroke:#b0b0b0;stroke-linecap:square;stroke-width:0.8;\"/>\n     </g>\n     <g id=\"line2d_60\">\n      <g>\n       <use style=\"stroke:#000000;stroke-width:0.8;\" x=\"46.0125\" xlink:href=\"#mb182d7aa31\" y=\"268.745946\"/>\n      </g>\n     </g>\n     <g id=\"text_33\">\n      <!-- 5000 -->\n      <g transform=\"translate(13.5625 272.545164)scale(0.1 -0.1)\">\n       <use xlink:href=\"#DejaVuSans-53\"/>\n       <use x=\"63.623047\" xlink:href=\"#DejaVuSans-48\"/>\n       <use x=\"127.246094\" xlink:href=\"#DejaVuSans-48\"/>\n       <use x=\"190.869141\" xlink:href=\"#DejaVuSans-48\"/>\n      </g>\n     </g>\n    </g>\n    <g id=\"ytick_17\">\n     <g id=\"line2d_61\">\n      <path clip-path=\"url(#pc2abc929ea)\" d=\"M 46.0125 234.498664 \nL 216.5125 234.498664 \n\" style=\"fill:none;stroke:#b0b0b0;stroke-linecap:square;stroke-width:0.8;\"/>\n     </g>\n     <g id=\"line2d_62\">\n      <g>\n       <use style=\"stroke:#000000;stroke-width:0.8;\" x=\"46.0125\" xlink:href=\"#mb182d7aa31\" y=\"234.498664\"/>\n      </g>\n     </g>\n     <g id=\"text_34\">\n      <!-- 10000 -->\n      <g transform=\"translate(7.2 238.297883)scale(0.1 -0.1)\">\n       <use xlink:href=\"#DejaVuSans-49\"/>\n       <use x=\"63.623047\" xlink:href=\"#DejaVuSans-48\"/>\n       <use x=\"127.246094\" xlink:href=\"#DejaVuSans-48\"/>\n       <use x=\"190.869141\" xlink:href=\"#DejaVuSans-48\"/>\n       <use x=\"254.492188\" xlink:href=\"#DejaVuSans-48\"/>\n      </g>\n     </g>\n    </g>\n    <g id=\"ytick_18\">\n     <g id=\"line2d_63\">\n      <path clip-path=\"url(#pc2abc929ea)\" d=\"M 46.0125 200.251383 \nL 216.5125 200.251383 \n\" style=\"fill:none;stroke:#b0b0b0;stroke-linecap:square;stroke-width:0.8;\"/>\n     </g>\n     <g id=\"line2d_64\">\n      <g>\n       <use style=\"stroke:#000000;stroke-width:0.8;\" x=\"46.0125\" xlink:href=\"#mb182d7aa31\" y=\"200.251383\"/>\n      </g>\n     </g>\n     <g id=\"text_35\">\n      <!-- 15000 -->\n      <g transform=\"translate(7.2 204.050601)scale(0.1 -0.1)\">\n       <use xlink:href=\"#DejaVuSans-49\"/>\n       <use x=\"63.623047\" xlink:href=\"#DejaVuSans-53\"/>\n       <use x=\"127.246094\" xlink:href=\"#DejaVuSans-48\"/>\n       <use x=\"190.869141\" xlink:href=\"#DejaVuSans-48\"/>\n       <use x=\"254.492188\" xlink:href=\"#DejaVuSans-48\"/>\n      </g>\n     </g>\n    </g>\n   </g>\n   <g id=\"patch_58\">\n    <path d=\"M 46.0125 302.993227 \nL 46.0125 180.960574 \n\" style=\"fill:none;stroke:#000000;stroke-linecap:square;stroke-linejoin:miter;stroke-width:0.8;\"/>\n   </g>\n   <g id=\"patch_59\">\n    <path d=\"M 216.5125 302.993227 \nL 216.5125 180.960574 \n\" style=\"fill:none;stroke:#000000;stroke-linecap:square;stroke-linejoin:miter;stroke-width:0.8;\"/>\n   </g>\n   <g id=\"patch_60\">\n    <path d=\"M 46.0125 302.993227 \nL 216.5125 302.993227 \n\" style=\"fill:none;stroke:#000000;stroke-linecap:square;stroke-linejoin:miter;stroke-width:0.8;\"/>\n   </g>\n   <g id=\"patch_61\">\n    <path d=\"M 46.0125 180.960574 \nL 216.5125 180.960574 \n\" style=\"fill:none;stroke:#000000;stroke-linecap:square;stroke-linejoin:miter;stroke-width:0.8;\"/>\n   </g>\n   <g id=\"text_36\">\n    <!-- low -->\n    <defs>\n     <path d=\"M 4.203125 54.6875 \nL 13.1875 54.6875 \nL 24.421875 12.015625 \nL 35.59375 54.6875 \nL 46.1875 54.6875 \nL 57.421875 12.015625 \nL 68.609375 54.6875 \nL 77.59375 54.6875 \nL 63.28125 0 \nL 52.6875 0 \nL 40.921875 44.828125 \nL 29.109375 0 \nL 18.5 0 \nz\n\" id=\"DejaVuSans-119\"/>\n    </defs>\n    <g transform=\"translate(121.0175 174.960574)scale(0.12 -0.12)\">\n     <use xlink:href=\"#DejaVuSans-108\"/>\n     <use x=\"27.783203\" xlink:href=\"#DejaVuSans-111\"/>\n     <use x=\"88.964844\" xlink:href=\"#DejaVuSans-119\"/>\n    </g>\n   </g>\n  </g>\n  <g id=\"axes_5\">\n   <g id=\"patch_62\">\n    <path d=\"M 267.6625 302.993227 \nL 438.1625 302.993227 \nL 438.1625 180.960574 \nL 267.6625 180.960574 \nz\n\" style=\"fill:#ffffff;\"/>\n   </g>\n   <g id=\"patch_63\">\n    <path clip-path=\"url(#p51f310dffd)\" d=\"M 275.4125 302.993227 \nL 290.9125 302.993227 \nL 290.9125 293.863637 \nL 275.4125 293.863637 \nz\n\" style=\"fill:#1f77b4;stroke:#ff0000;stroke-linejoin:miter;stroke-width:1.2;\"/>\n   </g>\n   <g id=\"patch_64\">\n    <path clip-path=\"url(#p51f310dffd)\" d=\"M 290.9125 302.993227 \nL 306.4125 302.993227 \nL 306.4125 271.618595 \nL 290.9125 271.618595 \nz\n\" style=\"fill:#1f77b4;stroke:#ff0000;stroke-linejoin:miter;stroke-width:1.2;\"/>\n   </g>\n   <g id=\"patch_65\">\n    <path clip-path=\"url(#p51f310dffd)\" d=\"M 306.4125 302.993227 \nL 321.9125 302.993227 \nL 321.9125 240.510622 \nL 306.4125 240.510622 \nz\n\" style=\"fill:#1f77b4;stroke:#ff0000;stroke-linejoin:miter;stroke-width:1.2;\"/>\n   </g>\n   <g id=\"patch_66\">\n    <path clip-path=\"url(#p51f310dffd)\" d=\"M 321.9125 302.993227 \nL 337.4125 302.993227 \nL 337.4125 248.833216 \nL 321.9125 248.833216 \nz\n\" style=\"fill:#1f77b4;stroke:#ff0000;stroke-linejoin:miter;stroke-width:1.2;\"/>\n   </g>\n   <g id=\"patch_67\">\n    <path clip-path=\"url(#p51f310dffd)\" d=\"M 337.4125 302.993227 \nL 352.9125 302.993227 \nL 352.9125 186.771653 \nL 337.4125 186.771653 \nz\n\" style=\"fill:#1f77b4;stroke:#ff0000;stroke-linejoin:miter;stroke-width:1.2;\"/>\n   </g>\n   <g id=\"patch_68\">\n    <path clip-path=\"url(#p51f310dffd)\" d=\"M 352.9125 302.993227 \nL 368.4125 302.993227 \nL 368.4125 266.70644 \nL 352.9125 266.70644 \nz\n\" style=\"fill:#1f77b4;stroke:#ff0000;stroke-linejoin:miter;stroke-width:1.2;\"/>\n   </g>\n   <g id=\"patch_69\">\n    <path clip-path=\"url(#p51f310dffd)\" d=\"M 368.4125 302.993227 \nL 383.9125 302.993227 \nL 383.9125 281.807807 \nL 368.4125 281.807807 \nz\n\" style=\"fill:#1f77b4;stroke:#ff0000;stroke-linejoin:miter;stroke-width:1.2;\"/>\n   </g>\n   <g id=\"patch_70\">\n    <path clip-path=\"url(#p51f310dffd)\" d=\"M 383.9125 302.993227 \nL 399.4125 302.993227 \nL 399.4125 290.39706 \nL 383.9125 290.39706 \nz\n\" style=\"fill:#1f77b4;stroke:#ff0000;stroke-linejoin:miter;stroke-width:1.2;\"/>\n   </g>\n   <g id=\"patch_71\">\n    <path clip-path=\"url(#p51f310dffd)\" d=\"M 399.4125 302.993227 \nL 414.9125 302.993227 \nL 414.9125 294.916242 \nL 399.4125 294.916242 \nz\n\" style=\"fill:#1f77b4;stroke:#ff0000;stroke-linejoin:miter;stroke-width:1.2;\"/>\n   </g>\n   <g id=\"patch_72\">\n    <path clip-path=\"url(#p51f310dffd)\" d=\"M 414.9125 302.993227 \nL 430.4125 302.993227 \nL 430.4125 295.126763 \nL 414.9125 295.126763 \nz\n\" style=\"fill:#1f77b4;stroke:#ff0000;stroke-linejoin:miter;stroke-width:1.2;\"/>\n   </g>\n   <g id=\"matplotlib.axis_9\">\n    <g id=\"xtick_15\">\n     <g id=\"line2d_65\">\n      <path clip-path=\"url(#p51f310dffd)\" d=\"M 268.801126 302.993227 \nL 268.801126 180.960574 \n\" style=\"fill:none;stroke:#b0b0b0;stroke-linecap:square;stroke-width:0.8;\"/>\n     </g>\n     <g id=\"line2d_66\">\n      <g>\n       <use style=\"stroke:#000000;stroke-width:0.8;\" x=\"268.801126\" xlink:href=\"#ma82ef1ade4\" y=\"302.993227\"/>\n      </g>\n     </g>\n     <g id=\"text_37\">\n      <!-- 0 -->\n      <g transform=\"translate(265.619876 317.591665)scale(0.1 -0.1)\">\n       <use xlink:href=\"#DejaVuSans-48\"/>\n      </g>\n     </g>\n    </g>\n    <g id=\"xtick_16\">\n     <g id=\"line2d_67\">\n      <path clip-path=\"url(#p51f310dffd)\" d=\"M 327.568898 302.993227 \nL 327.568898 180.960574 \n\" style=\"fill:none;stroke:#b0b0b0;stroke-linecap:square;stroke-width:0.8;\"/>\n     </g>\n     <g id=\"line2d_68\">\n      <g>\n       <use style=\"stroke:#000000;stroke-width:0.8;\" x=\"327.568898\" xlink:href=\"#ma82ef1ade4\" y=\"302.993227\"/>\n      </g>\n     </g>\n     <g id=\"text_38\">\n      <!-- 20 -->\n      <g transform=\"translate(321.206398 317.591665)scale(0.1 -0.1)\">\n       <use xlink:href=\"#DejaVuSans-50\"/>\n       <use x=\"63.623047\" xlink:href=\"#DejaVuSans-48\"/>\n      </g>\n     </g>\n    </g>\n    <g id=\"xtick_17\">\n     <g id=\"line2d_69\">\n      <path clip-path=\"url(#p51f310dffd)\" d=\"M 386.336671 302.993227 \nL 386.336671 180.960574 \n\" style=\"fill:none;stroke:#b0b0b0;stroke-linecap:square;stroke-width:0.8;\"/>\n     </g>\n     <g id=\"line2d_70\">\n      <g>\n       <use style=\"stroke:#000000;stroke-width:0.8;\" x=\"386.336671\" xlink:href=\"#ma82ef1ade4\" y=\"302.993227\"/>\n      </g>\n     </g>\n     <g id=\"text_39\">\n      <!-- 40 -->\n      <g transform=\"translate(379.974171 317.591665)scale(0.1 -0.1)\">\n       <use xlink:href=\"#DejaVuSans-52\"/>\n       <use x=\"63.623047\" xlink:href=\"#DejaVuSans-48\"/>\n      </g>\n     </g>\n    </g>\n   </g>\n   <g id=\"matplotlib.axis_10\">\n    <g id=\"ytick_19\">\n     <g id=\"line2d_71\">\n      <path clip-path=\"url(#p51f310dffd)\" d=\"M 267.6625 302.993227 \nL 438.1625 302.993227 \n\" style=\"fill:none;stroke:#b0b0b0;stroke-linecap:square;stroke-width:0.8;\"/>\n     </g>\n     <g id=\"line2d_72\">\n      <g>\n       <use style=\"stroke:#000000;stroke-width:0.8;\" x=\"267.6625\" xlink:href=\"#mb182d7aa31\" y=\"302.993227\"/>\n      </g>\n     </g>\n     <g id=\"text_40\">\n      <!-- 0 -->\n      <g transform=\"translate(254.3 306.792446)scale(0.1 -0.1)\">\n       <use xlink:href=\"#DejaVuSans-48\"/>\n      </g>\n     </g>\n    </g>\n    <g id=\"ytick_20\">\n     <g id=\"line2d_73\">\n      <path clip-path=\"url(#p51f310dffd)\" d=\"M 267.6625 267.90641 \nL 438.1625 267.90641 \n\" style=\"fill:none;stroke:#b0b0b0;stroke-linecap:square;stroke-width:0.8;\"/>\n     </g>\n     <g id=\"line2d_74\">\n      <g>\n       <use style=\"stroke:#000000;stroke-width:0.8;\" x=\"267.6625\" xlink:href=\"#mb182d7aa31\" y=\"267.90641\"/>\n      </g>\n     </g>\n     <g id=\"text_41\">\n      <!-- 5000 -->\n      <g transform=\"translate(235.2125 271.705628)scale(0.1 -0.1)\">\n       <use xlink:href=\"#DejaVuSans-53\"/>\n       <use x=\"63.623047\" xlink:href=\"#DejaVuSans-48\"/>\n       <use x=\"127.246094\" xlink:href=\"#DejaVuSans-48\"/>\n       <use x=\"190.869141\" xlink:href=\"#DejaVuSans-48\"/>\n      </g>\n     </g>\n    </g>\n    <g id=\"ytick_21\">\n     <g id=\"line2d_75\">\n      <path clip-path=\"url(#p51f310dffd)\" d=\"M 267.6625 232.819592 \nL 438.1625 232.819592 \n\" style=\"fill:none;stroke:#b0b0b0;stroke-linecap:square;stroke-width:0.8;\"/>\n     </g>\n     <g id=\"line2d_76\">\n      <g>\n       <use style=\"stroke:#000000;stroke-width:0.8;\" x=\"267.6625\" xlink:href=\"#mb182d7aa31\" y=\"232.819592\"/>\n      </g>\n     </g>\n     <g id=\"text_42\">\n      <!-- 10000 -->\n      <g transform=\"translate(228.85 236.618811)scale(0.1 -0.1)\">\n       <use xlink:href=\"#DejaVuSans-49\"/>\n       <use x=\"63.623047\" xlink:href=\"#DejaVuSans-48\"/>\n       <use x=\"127.246094\" xlink:href=\"#DejaVuSans-48\"/>\n       <use x=\"190.869141\" xlink:href=\"#DejaVuSans-48\"/>\n       <use x=\"254.492188\" xlink:href=\"#DejaVuSans-48\"/>\n      </g>\n     </g>\n    </g>\n    <g id=\"ytick_22\">\n     <g id=\"line2d_77\">\n      <path clip-path=\"url(#p51f310dffd)\" d=\"M 267.6625 197.732774 \nL 438.1625 197.732774 \n\" style=\"fill:none;stroke:#b0b0b0;stroke-linecap:square;stroke-width:0.8;\"/>\n     </g>\n     <g id=\"line2d_78\">\n      <g>\n       <use style=\"stroke:#000000;stroke-width:0.8;\" x=\"267.6625\" xlink:href=\"#mb182d7aa31\" y=\"197.732774\"/>\n      </g>\n     </g>\n     <g id=\"text_43\">\n      <!-- 15000 -->\n      <g transform=\"translate(228.85 201.531993)scale(0.1 -0.1)\">\n       <use xlink:href=\"#DejaVuSans-49\"/>\n       <use x=\"63.623047\" xlink:href=\"#DejaVuSans-53\"/>\n       <use x=\"127.246094\" xlink:href=\"#DejaVuSans-48\"/>\n       <use x=\"190.869141\" xlink:href=\"#DejaVuSans-48\"/>\n       <use x=\"254.492188\" xlink:href=\"#DejaVuSans-48\"/>\n      </g>\n     </g>\n    </g>\n   </g>\n   <g id=\"patch_73\">\n    <path d=\"M 267.6625 302.993227 \nL 267.6625 180.960574 \n\" style=\"fill:none;stroke:#000000;stroke-linecap:square;stroke-linejoin:miter;stroke-width:0.8;\"/>\n   </g>\n   <g id=\"patch_74\">\n    <path d=\"M 438.1625 302.993227 \nL 438.1625 180.960574 \n\" style=\"fill:none;stroke:#000000;stroke-linecap:square;stroke-linejoin:miter;stroke-width:0.8;\"/>\n   </g>\n   <g id=\"patch_75\">\n    <path d=\"M 267.6625 302.993227 \nL 438.1625 302.993227 \n\" style=\"fill:none;stroke:#000000;stroke-linecap:square;stroke-linejoin:miter;stroke-width:0.8;\"/>\n   </g>\n   <g id=\"patch_76\">\n    <path d=\"M 267.6625 180.960574 \nL 438.1625 180.960574 \n\" style=\"fill:none;stroke:#000000;stroke-linecap:square;stroke-linejoin:miter;stroke-width:0.8;\"/>\n   </g>\n   <g id=\"text_44\">\n    <!-- close -->\n    <defs>\n     <path d=\"M 48.78125 52.59375 \nL 48.78125 44.1875 \nQ 44.96875 46.296875 41.140625 47.34375 \nQ 37.3125 48.390625 33.40625 48.390625 \nQ 24.65625 48.390625 19.8125 42.84375 \nQ 14.984375 37.3125 14.984375 27.296875 \nQ 14.984375 17.28125 19.8125 11.734375 \nQ 24.65625 6.203125 33.40625 6.203125 \nQ 37.3125 6.203125 41.140625 7.25 \nQ 44.96875 8.296875 48.78125 10.40625 \nL 48.78125 2.09375 \nQ 45.015625 0.34375 40.984375 -0.53125 \nQ 36.96875 -1.421875 32.421875 -1.421875 \nQ 20.0625 -1.421875 12.78125 6.34375 \nQ 5.515625 14.109375 5.515625 27.296875 \nQ 5.515625 40.671875 12.859375 48.328125 \nQ 20.21875 56 33.015625 56 \nQ 37.15625 56 41.109375 55.140625 \nQ 45.0625 54.296875 48.78125 52.59375 \nz\n\" id=\"DejaVuSans-99\"/>\n    </defs>\n    <g transform=\"translate(337.457813 174.960574)scale(0.12 -0.12)\">\n     <use xlink:href=\"#DejaVuSans-99\"/>\n     <use x=\"54.980469\" xlink:href=\"#DejaVuSans-108\"/>\n     <use x=\"82.763672\" xlink:href=\"#DejaVuSans-111\"/>\n     <use x=\"143.945312\" xlink:href=\"#DejaVuSans-115\"/>\n     <use x=\"196.044922\" xlink:href=\"#DejaVuSans-101\"/>\n    </g>\n   </g>\n  </g>\n  <g id=\"axes_6\">\n   <g id=\"patch_77\">\n    <path d=\"M 489.3125 302.993227 \nL 659.8125 302.993227 \nL 659.8125 180.960574 \nL 489.3125 180.960574 \nz\n\" style=\"fill:#ffffff;\"/>\n   </g>\n   <g id=\"patch_78\">\n    <path clip-path=\"url(#pa775b19396)\" d=\"M 497.0625 302.993227 \nL 512.5625 302.993227 \nL 512.5625 302.986162 \nL 497.0625 302.986162 \nz\n\" style=\"fill:#1f77b4;stroke:#ff0000;stroke-linejoin:miter;stroke-width:1.2;\"/>\n   </g>\n   <g id=\"patch_79\">\n    <path clip-path=\"url(#pa775b19396)\" d=\"M 512.5625 302.993227 \nL 528.0625 302.993227 \nL 528.0625 302.955547 \nL 512.5625 302.955547 \nz\n\" style=\"fill:#1f77b4;stroke:#ff0000;stroke-linejoin:miter;stroke-width:1.2;\"/>\n   </g>\n   <g id=\"patch_80\">\n    <path clip-path=\"url(#pa775b19396)\" d=\"M 528.0625 302.993227 \nL 543.5625 302.993227 \nL 543.5625 302.842507 \nL 528.0625 302.842507 \nz\n\" style=\"fill:#1f77b4;stroke:#ff0000;stroke-linejoin:miter;stroke-width:1.2;\"/>\n   </g>\n   <g id=\"patch_81\">\n    <path clip-path=\"url(#pa775b19396)\" d=\"M 543.5625 302.993227 \nL 559.0625 302.993227 \nL 559.0625 299.307653 \nL 543.5625 299.307653 \nz\n\" style=\"fill:#1f77b4;stroke:#ff0000;stroke-linejoin:miter;stroke-width:1.2;\"/>\n   </g>\n   <g id=\"patch_82\">\n    <path clip-path=\"url(#pa775b19396)\" d=\"M 559.0625 302.993227 \nL 574.5625 302.993227 \nL 574.5625 186.771653 \nL 559.0625 186.771653 \nz\n\" style=\"fill:#1f77b4;stroke:#ff0000;stroke-linejoin:miter;stroke-width:1.2;\"/>\n   </g>\n   <g id=\"patch_83\">\n    <path clip-path=\"url(#pa775b19396)\" d=\"M 574.5625 302.993227 \nL 590.0625 302.993227 \nL 590.0625 302.592877 \nL 574.5625 302.592877 \nz\n\" style=\"fill:#1f77b4;stroke:#ff0000;stroke-linejoin:miter;stroke-width:1.2;\"/>\n   </g>\n   <g id=\"patch_84\">\n    <path clip-path=\"url(#pa775b19396)\" d=\"M 590.0625 302.993227 \nL 605.5625 302.993227 \nL 605.5625 302.931997 \nL 590.0625 302.931997 \nz\n\" style=\"fill:#1f77b4;stroke:#ff0000;stroke-linejoin:miter;stroke-width:1.2;\"/>\n   </g>\n   <g id=\"patch_85\">\n    <path clip-path=\"url(#pa775b19396)\" d=\"M 605.5625 302.993227 \nL 621.0625 302.993227 \nL 621.0625 302.957902 \nL 605.5625 302.957902 \nz\n\" style=\"fill:#1f77b4;stroke:#ff0000;stroke-linejoin:miter;stroke-width:1.2;\"/>\n   </g>\n   <g id=\"patch_86\">\n    <path clip-path=\"url(#pa775b19396)\" d=\"M 621.0625 302.993227 \nL 636.5625 302.993227 \nL 636.5625 302.988517 \nL 621.0625 302.988517 \nz\n\" style=\"fill:#1f77b4;stroke:#ff0000;stroke-linejoin:miter;stroke-width:1.2;\"/>\n   </g>\n   <g id=\"patch_87\">\n    <path clip-path=\"url(#pa775b19396)\" d=\"M 636.5625 302.993227 \nL 652.0625 302.993227 \nL 652.0625 302.990872 \nL 636.5625 302.990872 \nz\n\" style=\"fill:#1f77b4;stroke:#ff0000;stroke-linejoin:miter;stroke-width:1.2;\"/>\n   </g>\n   <g id=\"matplotlib.axis_11\">\n    <g id=\"xtick_18\">\n     <g id=\"line2d_79\">\n      <path clip-path=\"url(#pa775b19396)\" d=\"M 489.789773 302.993227 \nL 489.789773 180.960574 \n\" style=\"fill:none;stroke:#b0b0b0;stroke-linecap:square;stroke-width:0.8;\"/>\n     </g>\n     <g id=\"line2d_80\">\n      <g>\n       <use style=\"stroke:#000000;stroke-width:0.8;\" x=\"489.789773\" xlink:href=\"#ma82ef1ade4\" y=\"302.993227\"/>\n      </g>\n     </g>\n     <g id=\"text_45\">\n      <!-- −40 -->\n      <defs>\n       <path d=\"M 10.59375 35.5 \nL 73.1875 35.5 \nL 73.1875 27.203125 \nL 10.59375 27.203125 \nz\n\" id=\"DejaVuSans-8722\"/>\n      </defs>\n      <g transform=\"translate(479.237429 317.591665)scale(0.1 -0.1)\">\n       <use xlink:href=\"#DejaVuSans-8722\"/>\n       <use x=\"83.789062\" xlink:href=\"#DejaVuSans-52\"/>\n       <use x=\"147.412109\" xlink:href=\"#DejaVuSans-48\"/>\n      </g>\n     </g>\n    </g>\n    <g id=\"xtick_19\">\n     <g id=\"line2d_81\">\n      <path clip-path=\"url(#pa775b19396)\" d=\"M 526.153409 302.993227 \nL 526.153409 180.960574 \n\" style=\"fill:none;stroke:#b0b0b0;stroke-linecap:square;stroke-width:0.8;\"/>\n     </g>\n     <g id=\"line2d_82\">\n      <g>\n       <use style=\"stroke:#000000;stroke-width:0.8;\" x=\"526.153409\" xlink:href=\"#ma82ef1ade4\" y=\"302.993227\"/>\n      </g>\n     </g>\n     <g id=\"text_46\">\n      <!-- −20 -->\n      <g transform=\"translate(515.601065 317.591665)scale(0.1 -0.1)\">\n       <use xlink:href=\"#DejaVuSans-8722\"/>\n       <use x=\"83.789062\" xlink:href=\"#DejaVuSans-50\"/>\n       <use x=\"147.412109\" xlink:href=\"#DejaVuSans-48\"/>\n      </g>\n     </g>\n    </g>\n    <g id=\"xtick_20\">\n     <g id=\"line2d_83\">\n      <path clip-path=\"url(#pa775b19396)\" d=\"M 562.517045 302.993227 \nL 562.517045 180.960574 \n\" style=\"fill:none;stroke:#b0b0b0;stroke-linecap:square;stroke-width:0.8;\"/>\n     </g>\n     <g id=\"line2d_84\">\n      <g>\n       <use style=\"stroke:#000000;stroke-width:0.8;\" x=\"562.517045\" xlink:href=\"#ma82ef1ade4\" y=\"302.993227\"/>\n      </g>\n     </g>\n     <g id=\"text_47\">\n      <!-- 0 -->\n      <g transform=\"translate(559.335795 317.591665)scale(0.1 -0.1)\">\n       <use xlink:href=\"#DejaVuSans-48\"/>\n      </g>\n     </g>\n    </g>\n    <g id=\"xtick_21\">\n     <g id=\"line2d_85\">\n      <path clip-path=\"url(#pa775b19396)\" d=\"M 598.880682 302.993227 \nL 598.880682 180.960574 \n\" style=\"fill:none;stroke:#b0b0b0;stroke-linecap:square;stroke-width:0.8;\"/>\n     </g>\n     <g id=\"line2d_86\">\n      <g>\n       <use style=\"stroke:#000000;stroke-width:0.8;\" x=\"598.880682\" xlink:href=\"#ma82ef1ade4\" y=\"302.993227\"/>\n      </g>\n     </g>\n     <g id=\"text_48\">\n      <!-- 20 -->\n      <g transform=\"translate(592.518182 317.591665)scale(0.1 -0.1)\">\n       <use xlink:href=\"#DejaVuSans-50\"/>\n       <use x=\"63.623047\" xlink:href=\"#DejaVuSans-48\"/>\n      </g>\n     </g>\n    </g>\n    <g id=\"xtick_22\">\n     <g id=\"line2d_87\">\n      <path clip-path=\"url(#pa775b19396)\" d=\"M 635.244318 302.993227 \nL 635.244318 180.960574 \n\" style=\"fill:none;stroke:#b0b0b0;stroke-linecap:square;stroke-width:0.8;\"/>\n     </g>\n     <g id=\"line2d_88\">\n      <g>\n       <use style=\"stroke:#000000;stroke-width:0.8;\" x=\"635.244318\" xlink:href=\"#ma82ef1ade4\" y=\"302.993227\"/>\n      </g>\n     </g>\n     <g id=\"text_49\">\n      <!-- 40 -->\n      <g transform=\"translate(628.881818 317.591665)scale(0.1 -0.1)\">\n       <use xlink:href=\"#DejaVuSans-52\"/>\n       <use x=\"63.623047\" xlink:href=\"#DejaVuSans-48\"/>\n      </g>\n     </g>\n    </g>\n   </g>\n   <g id=\"matplotlib.axis_12\">\n    <g id=\"ytick_23\">\n     <g id=\"line2d_89\">\n      <path clip-path=\"url(#pa775b19396)\" d=\"M 489.3125 302.993227 \nL 659.8125 302.993227 \n\" style=\"fill:none;stroke:#b0b0b0;stroke-linecap:square;stroke-width:0.8;\"/>\n     </g>\n     <g id=\"line2d_90\">\n      <g>\n       <use style=\"stroke:#000000;stroke-width:0.8;\" x=\"489.3125\" xlink:href=\"#mb182d7aa31\" y=\"302.993227\"/>\n      </g>\n     </g>\n     <g id=\"text_50\">\n      <!-- 0 -->\n      <g transform=\"translate(475.95 306.792446)scale(0.1 -0.1)\">\n       <use xlink:href=\"#DejaVuSans-48\"/>\n      </g>\n     </g>\n    </g>\n    <g id=\"ytick_24\">\n     <g id=\"line2d_91\">\n      <path clip-path=\"url(#pa775b19396)\" d=\"M 489.3125 279.443233 \nL 659.8125 279.443233 \n\" style=\"fill:none;stroke:#b0b0b0;stroke-linecap:square;stroke-width:0.8;\"/>\n     </g>\n     <g id=\"line2d_92\">\n      <g>\n       <use style=\"stroke:#000000;stroke-width:0.8;\" x=\"489.3125\" xlink:href=\"#mb182d7aa31\" y=\"279.443233\"/>\n      </g>\n     </g>\n     <g id=\"text_51\">\n      <!-- 10000 -->\n      <g transform=\"translate(450.5 283.242452)scale(0.1 -0.1)\">\n       <use xlink:href=\"#DejaVuSans-49\"/>\n       <use x=\"63.623047\" xlink:href=\"#DejaVuSans-48\"/>\n       <use x=\"127.246094\" xlink:href=\"#DejaVuSans-48\"/>\n       <use x=\"190.869141\" xlink:href=\"#DejaVuSans-48\"/>\n       <use x=\"254.492188\" xlink:href=\"#DejaVuSans-48\"/>\n      </g>\n     </g>\n    </g>\n    <g id=\"ytick_25\">\n     <g id=\"line2d_93\">\n      <path clip-path=\"url(#pa775b19396)\" d=\"M 489.3125 255.893239 \nL 659.8125 255.893239 \n\" style=\"fill:none;stroke:#b0b0b0;stroke-linecap:square;stroke-width:0.8;\"/>\n     </g>\n     <g id=\"line2d_94\">\n      <g>\n       <use style=\"stroke:#000000;stroke-width:0.8;\" x=\"489.3125\" xlink:href=\"#mb182d7aa31\" y=\"255.893239\"/>\n      </g>\n     </g>\n     <g id=\"text_52\">\n      <!-- 20000 -->\n      <g transform=\"translate(450.5 259.692458)scale(0.1 -0.1)\">\n       <use xlink:href=\"#DejaVuSans-50\"/>\n       <use x=\"63.623047\" xlink:href=\"#DejaVuSans-48\"/>\n       <use x=\"127.246094\" xlink:href=\"#DejaVuSans-48\"/>\n       <use x=\"190.869141\" xlink:href=\"#DejaVuSans-48\"/>\n       <use x=\"254.492188\" xlink:href=\"#DejaVuSans-48\"/>\n      </g>\n     </g>\n    </g>\n    <g id=\"ytick_26\">\n     <g id=\"line2d_95\">\n      <path clip-path=\"url(#pa775b19396)\" d=\"M 489.3125 232.343246 \nL 659.8125 232.343246 \n\" style=\"fill:none;stroke:#b0b0b0;stroke-linecap:square;stroke-width:0.8;\"/>\n     </g>\n     <g id=\"line2d_96\">\n      <g>\n       <use style=\"stroke:#000000;stroke-width:0.8;\" x=\"489.3125\" xlink:href=\"#mb182d7aa31\" y=\"232.343246\"/>\n      </g>\n     </g>\n     <g id=\"text_53\">\n      <!-- 30000 -->\n      <g transform=\"translate(450.5 236.142464)scale(0.1 -0.1)\">\n       <use xlink:href=\"#DejaVuSans-51\"/>\n       <use x=\"63.623047\" xlink:href=\"#DejaVuSans-48\"/>\n       <use x=\"127.246094\" xlink:href=\"#DejaVuSans-48\"/>\n       <use x=\"190.869141\" xlink:href=\"#DejaVuSans-48\"/>\n       <use x=\"254.492188\" xlink:href=\"#DejaVuSans-48\"/>\n      </g>\n     </g>\n    </g>\n    <g id=\"ytick_27\">\n     <g id=\"line2d_97\">\n      <path clip-path=\"url(#pa775b19396)\" d=\"M 489.3125 208.793252 \nL 659.8125 208.793252 \n\" style=\"fill:none;stroke:#b0b0b0;stroke-linecap:square;stroke-width:0.8;\"/>\n     </g>\n     <g id=\"line2d_98\">\n      <g>\n       <use style=\"stroke:#000000;stroke-width:0.8;\" x=\"489.3125\" xlink:href=\"#mb182d7aa31\" y=\"208.793252\"/>\n      </g>\n     </g>\n     <g id=\"text_54\">\n      <!-- 40000 -->\n      <g transform=\"translate(450.5 212.592471)scale(0.1 -0.1)\">\n       <use xlink:href=\"#DejaVuSans-52\"/>\n       <use x=\"63.623047\" xlink:href=\"#DejaVuSans-48\"/>\n       <use x=\"127.246094\" xlink:href=\"#DejaVuSans-48\"/>\n       <use x=\"190.869141\" xlink:href=\"#DejaVuSans-48\"/>\n       <use x=\"254.492188\" xlink:href=\"#DejaVuSans-48\"/>\n      </g>\n     </g>\n    </g>\n    <g id=\"ytick_28\">\n     <g id=\"line2d_99\">\n      <path clip-path=\"url(#pa775b19396)\" d=\"M 489.3125 185.243258 \nL 659.8125 185.243258 \n\" style=\"fill:none;stroke:#b0b0b0;stroke-linecap:square;stroke-width:0.8;\"/>\n     </g>\n     <g id=\"line2d_100\">\n      <g>\n       <use style=\"stroke:#000000;stroke-width:0.8;\" x=\"489.3125\" xlink:href=\"#mb182d7aa31\" y=\"185.243258\"/>\n      </g>\n     </g>\n     <g id=\"text_55\">\n      <!-- 50000 -->\n      <g transform=\"translate(450.5 189.042477)scale(0.1 -0.1)\">\n       <use xlink:href=\"#DejaVuSans-53\"/>\n       <use x=\"63.623047\" xlink:href=\"#DejaVuSans-48\"/>\n       <use x=\"127.246094\" xlink:href=\"#DejaVuSans-48\"/>\n       <use x=\"190.869141\" xlink:href=\"#DejaVuSans-48\"/>\n       <use x=\"254.492188\" xlink:href=\"#DejaVuSans-48\"/>\n      </g>\n     </g>\n    </g>\n   </g>\n   <g id=\"patch_88\">\n    <path d=\"M 489.3125 302.993227 \nL 489.3125 180.960574 \n\" style=\"fill:none;stroke:#000000;stroke-linecap:square;stroke-linejoin:miter;stroke-width:0.8;\"/>\n   </g>\n   <g id=\"patch_89\">\n    <path d=\"M 659.8125 302.993227 \nL 659.8125 180.960574 \n\" style=\"fill:none;stroke:#000000;stroke-linecap:square;stroke-linejoin:miter;stroke-width:0.8;\"/>\n   </g>\n   <g id=\"patch_90\">\n    <path d=\"M 489.3125 302.993227 \nL 659.8125 302.993227 \n\" style=\"fill:none;stroke:#000000;stroke-linecap:square;stroke-linejoin:miter;stroke-width:0.8;\"/>\n   </g>\n   <g id=\"patch_91\">\n    <path d=\"M 489.3125 180.960574 \nL 659.8125 180.960574 \n\" style=\"fill:none;stroke:#000000;stroke-linecap:square;stroke-linejoin:miter;stroke-width:0.8;\"/>\n   </g>\n   <g id=\"text_56\">\n    <!-- change -->\n    <defs>\n     <path d=\"M 34.28125 27.484375 \nQ 23.390625 27.484375 19.1875 25 \nQ 14.984375 22.515625 14.984375 16.5 \nQ 14.984375 11.71875 18.140625 8.90625 \nQ 21.296875 6.109375 26.703125 6.109375 \nQ 34.1875 6.109375 38.703125 11.40625 \nQ 43.21875 16.703125 43.21875 25.484375 \nL 43.21875 27.484375 \nz\nM 52.203125 31.203125 \nL 52.203125 0 \nL 43.21875 0 \nL 43.21875 8.296875 \nQ 40.140625 3.328125 35.546875 0.953125 \nQ 30.953125 -1.421875 24.3125 -1.421875 \nQ 15.921875 -1.421875 10.953125 3.296875 \nQ 6 8.015625 6 15.921875 \nQ 6 25.140625 12.171875 29.828125 \nQ 18.359375 34.515625 30.609375 34.515625 \nL 43.21875 34.515625 \nL 43.21875 35.40625 \nQ 43.21875 41.609375 39.140625 45 \nQ 35.0625 48.390625 27.6875 48.390625 \nQ 23 48.390625 18.546875 47.265625 \nQ 14.109375 46.140625 10.015625 43.890625 \nL 10.015625 52.203125 \nQ 14.9375 54.109375 19.578125 55.046875 \nQ 24.21875 56 28.609375 56 \nQ 40.484375 56 46.34375 49.84375 \nQ 52.203125 43.703125 52.203125 31.203125 \nz\n\" id=\"DejaVuSans-97\"/>\n    </defs>\n    <g transform=\"translate(552.480625 174.960574)scale(0.12 -0.12)\">\n     <use xlink:href=\"#DejaVuSans-99\"/>\n     <use x=\"54.980469\" xlink:href=\"#DejaVuSans-104\"/>\n     <use x=\"118.359375\" xlink:href=\"#DejaVuSans-97\"/>\n     <use x=\"179.638672\" xlink:href=\"#DejaVuSans-110\"/>\n     <use x=\"243.017578\" xlink:href=\"#DejaVuSans-103\"/>\n     <use x=\"306.494141\" xlink:href=\"#DejaVuSans-101\"/>\n    </g>\n   </g>\n  </g>\n  <g id=\"axes_7\">\n   <g id=\"patch_92\">\n    <path d=\"M 46.0125 461.635676 \nL 216.5125 461.635676 \nL 216.5125 339.603023 \nL 46.0125 339.603023 \nz\n\" style=\"fill:#ffffff;\"/>\n   </g>\n   <g id=\"patch_93\">\n    <path clip-path=\"url(#p575f168a4e)\" d=\"M 53.7625 461.635676 \nL 69.2625 461.635676 \nL 69.2625 461.633273 \nL 53.7625 461.633273 \nz\n\" style=\"fill:#1f77b4;stroke:#ff0000;stroke-linejoin:miter;stroke-width:1.2;\"/>\n   </g>\n   <g id=\"patch_94\">\n    <path clip-path=\"url(#p575f168a4e)\" d=\"M 69.2625 461.635676 \nL 84.7625 461.635676 \nL 84.7625 461.635676 \nL 69.2625 461.635676 \nz\n\" style=\"fill:#1f77b4;stroke:#ff0000;stroke-linejoin:miter;stroke-width:1.2;\"/>\n   </g>\n   <g id=\"patch_95\">\n    <path clip-path=\"url(#p575f168a4e)\" d=\"M 84.7625 461.635676 \nL 100.2625 461.635676 \nL 100.2625 461.635676 \nL 84.7625 461.635676 \nz\n\" style=\"fill:#1f77b4;stroke:#ff0000;stroke-linejoin:miter;stroke-width:1.2;\"/>\n   </g>\n   <g id=\"patch_96\">\n    <path clip-path=\"url(#p575f168a4e)\" d=\"M 100.2625 461.635676 \nL 115.7625 461.635676 \nL 115.7625 461.635676 \nL 100.2625 461.635676 \nz\n\" style=\"fill:#1f77b4;stroke:#ff0000;stroke-linejoin:miter;stroke-width:1.2;\"/>\n   </g>\n   <g id=\"patch_97\">\n    <path clip-path=\"url(#p575f168a4e)\" d=\"M 115.7625 461.635676 \nL 131.2625 461.635676 \nL 131.2625 461.635676 \nL 115.7625 461.635676 \nz\n\" style=\"fill:#1f77b4;stroke:#ff0000;stroke-linejoin:miter;stroke-width:1.2;\"/>\n   </g>\n   <g id=\"patch_98\">\n    <path clip-path=\"url(#p575f168a4e)\" d=\"M 131.2625 461.635676 \nL 146.7625 461.635676 \nL 146.7625 461.635676 \nL 131.2625 461.635676 \nz\n\" style=\"fill:#1f77b4;stroke:#ff0000;stroke-linejoin:miter;stroke-width:1.2;\"/>\n   </g>\n   <g id=\"patch_99\">\n    <path clip-path=\"url(#p575f168a4e)\" d=\"M 146.7625 461.635676 \nL 162.2625 461.635676 \nL 162.2625 461.633273 \nL 146.7625 461.633273 \nz\n\" style=\"fill:#1f77b4;stroke:#ff0000;stroke-linejoin:miter;stroke-width:1.2;\"/>\n   </g>\n   <g id=\"patch_100\">\n    <path clip-path=\"url(#p575f168a4e)\" d=\"M 162.2625 461.635676 \nL 177.7625 461.635676 \nL 177.7625 459.727726 \nL 162.2625 459.727726 \nz\n\" style=\"fill:#1f77b4;stroke:#ff0000;stroke-linejoin:miter;stroke-width:1.2;\"/>\n   </g>\n   <g id=\"patch_101\">\n    <path clip-path=\"url(#p575f168a4e)\" d=\"M 177.7625 461.635676 \nL 193.2625 461.635676 \nL 193.2625 345.414102 \nL 177.7625 345.414102 \nz\n\" style=\"fill:#1f77b4;stroke:#ff0000;stroke-linejoin:miter;stroke-width:1.2;\"/>\n   </g>\n   <g id=\"patch_102\">\n    <path clip-path=\"url(#p575f168a4e)\" d=\"M 193.2625 461.635676 \nL 208.7625 461.635676 \nL 208.7625 456.707205 \nL 193.2625 456.707205 \nz\n\" style=\"fill:#1f77b4;stroke:#ff0000;stroke-linejoin:miter;stroke-width:1.2;\"/>\n   </g>\n   <g id=\"matplotlib.axis_13\">\n    <g id=\"xtick_23\">\n     <g id=\"line2d_101\">\n      <path clip-path=\"url(#p575f168a4e)\" d=\"M 76.588297 461.635676 \nL 76.588297 339.603023 \n\" style=\"fill:none;stroke:#b0b0b0;stroke-linecap:square;stroke-width:0.8;\"/>\n     </g>\n     <g id=\"line2d_102\">\n      <g>\n       <use style=\"stroke:#000000;stroke-width:0.8;\" x=\"76.588297\" xlink:href=\"#ma82ef1ade4\" y=\"461.635676\"/>\n      </g>\n     </g>\n     <g id=\"text_57\">\n      <!-- −75 -->\n      <defs>\n       <path d=\"M 8.203125 72.90625 \nL 55.078125 72.90625 \nL 55.078125 68.703125 \nL 28.609375 0 \nL 18.3125 0 \nL 43.21875 64.59375 \nL 8.203125 64.59375 \nz\n\" id=\"DejaVuSans-55\"/>\n      </defs>\n      <g transform=\"translate(66.035953 476.234114)scale(0.1 -0.1)\">\n       <use xlink:href=\"#DejaVuSans-8722\"/>\n       <use x=\"83.789062\" xlink:href=\"#DejaVuSans-55\"/>\n       <use x=\"147.412109\" xlink:href=\"#DejaVuSans-53\"/>\n      </g>\n     </g>\n    </g>\n    <g id=\"xtick_24\">\n     <g id=\"line2d_103\">\n      <path clip-path=\"url(#p575f168a4e)\" d=\"M 113.475494 461.635676 \nL 113.475494 339.603023 \n\" style=\"fill:none;stroke:#b0b0b0;stroke-linecap:square;stroke-width:0.8;\"/>\n     </g>\n     <g id=\"line2d_104\">\n      <g>\n       <use style=\"stroke:#000000;stroke-width:0.8;\" x=\"113.475494\" xlink:href=\"#ma82ef1ade4\" y=\"461.635676\"/>\n      </g>\n     </g>\n     <g id=\"text_58\">\n      <!-- −50 -->\n      <g transform=\"translate(102.92315 476.234114)scale(0.1 -0.1)\">\n       <use xlink:href=\"#DejaVuSans-8722\"/>\n       <use x=\"83.789062\" xlink:href=\"#DejaVuSans-53\"/>\n       <use x=\"147.412109\" xlink:href=\"#DejaVuSans-48\"/>\n      </g>\n     </g>\n    </g>\n    <g id=\"xtick_25\">\n     <g id=\"line2d_105\">\n      <path clip-path=\"url(#p575f168a4e)\" d=\"M 150.36269 461.635676 \nL 150.36269 339.603023 \n\" style=\"fill:none;stroke:#b0b0b0;stroke-linecap:square;stroke-width:0.8;\"/>\n     </g>\n     <g id=\"line2d_106\">\n      <g>\n       <use style=\"stroke:#000000;stroke-width:0.8;\" x=\"150.36269\" xlink:href=\"#ma82ef1ade4\" y=\"461.635676\"/>\n      </g>\n     </g>\n     <g id=\"text_59\">\n      <!-- −25 -->\n      <g transform=\"translate(139.810347 476.234114)scale(0.1 -0.1)\">\n       <use xlink:href=\"#DejaVuSans-8722\"/>\n       <use x=\"83.789062\" xlink:href=\"#DejaVuSans-50\"/>\n       <use x=\"147.412109\" xlink:href=\"#DejaVuSans-53\"/>\n      </g>\n     </g>\n    </g>\n    <g id=\"xtick_26\">\n     <g id=\"line2d_107\">\n      <path clip-path=\"url(#p575f168a4e)\" d=\"M 187.249887 461.635676 \nL 187.249887 339.603023 \n\" style=\"fill:none;stroke:#b0b0b0;stroke-linecap:square;stroke-width:0.8;\"/>\n     </g>\n     <g id=\"line2d_108\">\n      <g>\n       <use style=\"stroke:#000000;stroke-width:0.8;\" x=\"187.249887\" xlink:href=\"#ma82ef1ade4\" y=\"461.635676\"/>\n      </g>\n     </g>\n     <g id=\"text_60\">\n      <!-- 0 -->\n      <g transform=\"translate(184.068637 476.234114)scale(0.1 -0.1)\">\n       <use xlink:href=\"#DejaVuSans-48\"/>\n      </g>\n     </g>\n    </g>\n   </g>\n   <g id=\"matplotlib.axis_14\">\n    <g id=\"ytick_29\">\n     <g id=\"line2d_109\">\n      <path clip-path=\"url(#p575f168a4e)\" d=\"M 46.0125 461.635676 \nL 216.5125 461.635676 \n\" style=\"fill:none;stroke:#b0b0b0;stroke-linecap:square;stroke-width:0.8;\"/>\n     </g>\n     <g id=\"line2d_110\">\n      <g>\n       <use style=\"stroke:#000000;stroke-width:0.8;\" x=\"46.0125\" xlink:href=\"#mb182d7aa31\" y=\"461.635676\"/>\n      </g>\n     </g>\n     <g id=\"text_61\">\n      <!-- 0 -->\n      <g transform=\"translate(32.65 465.434895)scale(0.1 -0.1)\">\n       <use xlink:href=\"#DejaVuSans-48\"/>\n      </g>\n     </g>\n    </g>\n    <g id=\"ytick_30\">\n     <g id=\"line2d_111\">\n      <path clip-path=\"url(#p575f168a4e)\" d=\"M 46.0125 437.606074 \nL 216.5125 437.606074 \n\" style=\"fill:none;stroke:#b0b0b0;stroke-linecap:square;stroke-width:0.8;\"/>\n     </g>\n     <g id=\"line2d_112\">\n      <g>\n       <use style=\"stroke:#000000;stroke-width:0.8;\" x=\"46.0125\" xlink:href=\"#mb182d7aa31\" y=\"437.606074\"/>\n      </g>\n     </g>\n     <g id=\"text_62\">\n      <!-- 10000 -->\n      <g transform=\"translate(7.2 441.405292)scale(0.1 -0.1)\">\n       <use xlink:href=\"#DejaVuSans-49\"/>\n       <use x=\"63.623047\" xlink:href=\"#DejaVuSans-48\"/>\n       <use x=\"127.246094\" xlink:href=\"#DejaVuSans-48\"/>\n       <use x=\"190.869141\" xlink:href=\"#DejaVuSans-48\"/>\n       <use x=\"254.492188\" xlink:href=\"#DejaVuSans-48\"/>\n      </g>\n     </g>\n    </g>\n    <g id=\"ytick_31\">\n     <g id=\"line2d_113\">\n      <path clip-path=\"url(#p575f168a4e)\" d=\"M 46.0125 413.576471 \nL 216.5125 413.576471 \n\" style=\"fill:none;stroke:#b0b0b0;stroke-linecap:square;stroke-width:0.8;\"/>\n     </g>\n     <g id=\"line2d_114\">\n      <g>\n       <use style=\"stroke:#000000;stroke-width:0.8;\" x=\"46.0125\" xlink:href=\"#mb182d7aa31\" y=\"413.576471\"/>\n      </g>\n     </g>\n     <g id=\"text_63\">\n      <!-- 20000 -->\n      <g transform=\"translate(7.2 417.37569)scale(0.1 -0.1)\">\n       <use xlink:href=\"#DejaVuSans-50\"/>\n       <use x=\"63.623047\" xlink:href=\"#DejaVuSans-48\"/>\n       <use x=\"127.246094\" xlink:href=\"#DejaVuSans-48\"/>\n       <use x=\"190.869141\" xlink:href=\"#DejaVuSans-48\"/>\n       <use x=\"254.492188\" xlink:href=\"#DejaVuSans-48\"/>\n      </g>\n     </g>\n    </g>\n    <g id=\"ytick_32\">\n     <g id=\"line2d_115\">\n      <path clip-path=\"url(#p575f168a4e)\" d=\"M 46.0125 389.546869 \nL 216.5125 389.546869 \n\" style=\"fill:none;stroke:#b0b0b0;stroke-linecap:square;stroke-width:0.8;\"/>\n     </g>\n     <g id=\"line2d_116\">\n      <g>\n       <use style=\"stroke:#000000;stroke-width:0.8;\" x=\"46.0125\" xlink:href=\"#mb182d7aa31\" y=\"389.546869\"/>\n      </g>\n     </g>\n     <g id=\"text_64\">\n      <!-- 30000 -->\n      <g transform=\"translate(7.2 393.346088)scale(0.1 -0.1)\">\n       <use xlink:href=\"#DejaVuSans-51\"/>\n       <use x=\"63.623047\" xlink:href=\"#DejaVuSans-48\"/>\n       <use x=\"127.246094\" xlink:href=\"#DejaVuSans-48\"/>\n       <use x=\"190.869141\" xlink:href=\"#DejaVuSans-48\"/>\n       <use x=\"254.492188\" xlink:href=\"#DejaVuSans-48\"/>\n      </g>\n     </g>\n    </g>\n    <g id=\"ytick_33\">\n     <g id=\"line2d_117\">\n      <path clip-path=\"url(#p575f168a4e)\" d=\"M 46.0125 365.517267 \nL 216.5125 365.517267 \n\" style=\"fill:none;stroke:#b0b0b0;stroke-linecap:square;stroke-width:0.8;\"/>\n     </g>\n     <g id=\"line2d_118\">\n      <g>\n       <use style=\"stroke:#000000;stroke-width:0.8;\" x=\"46.0125\" xlink:href=\"#mb182d7aa31\" y=\"365.517267\"/>\n      </g>\n     </g>\n     <g id=\"text_65\">\n      <!-- 40000 -->\n      <g transform=\"translate(7.2 369.316486)scale(0.1 -0.1)\">\n       <use xlink:href=\"#DejaVuSans-52\"/>\n       <use x=\"63.623047\" xlink:href=\"#DejaVuSans-48\"/>\n       <use x=\"127.246094\" xlink:href=\"#DejaVuSans-48\"/>\n       <use x=\"190.869141\" xlink:href=\"#DejaVuSans-48\"/>\n       <use x=\"254.492188\" xlink:href=\"#DejaVuSans-48\"/>\n      </g>\n     </g>\n    </g>\n    <g id=\"ytick_34\">\n     <g id=\"line2d_119\">\n      <path clip-path=\"url(#p575f168a4e)\" d=\"M 46.0125 341.487665 \nL 216.5125 341.487665 \n\" style=\"fill:none;stroke:#b0b0b0;stroke-linecap:square;stroke-width:0.8;\"/>\n     </g>\n     <g id=\"line2d_120\">\n      <g>\n       <use style=\"stroke:#000000;stroke-width:0.8;\" x=\"46.0125\" xlink:href=\"#mb182d7aa31\" y=\"341.487665\"/>\n      </g>\n     </g>\n     <g id=\"text_66\">\n      <!-- 50000 -->\n      <g transform=\"translate(7.2 345.286883)scale(0.1 -0.1)\">\n       <use xlink:href=\"#DejaVuSans-53\"/>\n       <use x=\"63.623047\" xlink:href=\"#DejaVuSans-48\"/>\n       <use x=\"127.246094\" xlink:href=\"#DejaVuSans-48\"/>\n       <use x=\"190.869141\" xlink:href=\"#DejaVuSans-48\"/>\n       <use x=\"254.492188\" xlink:href=\"#DejaVuSans-48\"/>\n      </g>\n     </g>\n    </g>\n   </g>\n   <g id=\"patch_103\">\n    <path d=\"M 46.0125 461.635676 \nL 46.0125 339.603023 \n\" style=\"fill:none;stroke:#000000;stroke-linecap:square;stroke-linejoin:miter;stroke-width:0.8;\"/>\n   </g>\n   <g id=\"patch_104\">\n    <path d=\"M 216.5125 461.635676 \nL 216.5125 339.603023 \n\" style=\"fill:none;stroke:#000000;stroke-linecap:square;stroke-linejoin:miter;stroke-width:0.8;\"/>\n   </g>\n   <g id=\"patch_105\">\n    <path d=\"M 46.0125 461.635676 \nL 216.5125 461.635676 \n\" style=\"fill:none;stroke:#000000;stroke-linecap:square;stroke-linejoin:miter;stroke-width:0.8;\"/>\n   </g>\n   <g id=\"patch_106\">\n    <path d=\"M 46.0125 339.603023 \nL 216.5125 339.603023 \n\" style=\"fill:none;stroke:#000000;stroke-linecap:square;stroke-linejoin:miter;stroke-width:0.8;\"/>\n   </g>\n   <g id=\"text_67\">\n    <!-- perc_Change -->\n    <defs>\n     <path d=\"M 41.109375 46.296875 \nQ 39.59375 47.171875 37.8125 47.578125 \nQ 36.03125 48 33.890625 48 \nQ 26.265625 48 22.1875 43.046875 \nQ 18.109375 38.09375 18.109375 28.8125 \nL 18.109375 0 \nL 9.078125 0 \nL 9.078125 54.6875 \nL 18.109375 54.6875 \nL 18.109375 46.1875 \nQ 20.953125 51.171875 25.484375 53.578125 \nQ 30.03125 56 36.53125 56 \nQ 37.453125 56 38.578125 55.875 \nQ 39.703125 55.765625 41.0625 55.515625 \nz\n\" id=\"DejaVuSans-114\"/>\n     <path d=\"M 50.984375 -16.609375 \nL 50.984375 -23.578125 \nL -0.984375 -23.578125 \nL -0.984375 -16.609375 \nz\n\" id=\"DejaVuSans-95\"/>\n     <path d=\"M 64.40625 67.28125 \nL 64.40625 56.890625 \nQ 59.421875 61.53125 53.78125 63.8125 \nQ 48.140625 66.109375 41.796875 66.109375 \nQ 29.296875 66.109375 22.65625 58.46875 \nQ 16.015625 50.828125 16.015625 36.375 \nQ 16.015625 21.96875 22.65625 14.328125 \nQ 29.296875 6.6875 41.796875 6.6875 \nQ 48.140625 6.6875 53.78125 8.984375 \nQ 59.421875 11.28125 64.40625 15.921875 \nL 64.40625 5.609375 \nQ 59.234375 2.09375 53.4375 0.328125 \nQ 47.65625 -1.421875 41.21875 -1.421875 \nQ 24.65625 -1.421875 15.125 8.703125 \nQ 5.609375 18.84375 5.609375 36.375 \nQ 5.609375 53.953125 15.125 64.078125 \nQ 24.65625 74.21875 41.21875 74.21875 \nQ 47.75 74.21875 53.53125 72.484375 \nQ 59.328125 70.75 64.40625 67.28125 \nz\n\" id=\"DejaVuSans-67\"/>\n    </defs>\n    <g transform=\"translate(92.158437 333.603023)scale(0.12 -0.12)\">\n     <use xlink:href=\"#DejaVuSans-112\"/>\n     <use x=\"63.476562\" xlink:href=\"#DejaVuSans-101\"/>\n     <use x=\"125\" xlink:href=\"#DejaVuSans-114\"/>\n     <use x=\"163.863281\" xlink:href=\"#DejaVuSans-99\"/>\n     <use x=\"218.84375\" xlink:href=\"#DejaVuSans-95\"/>\n     <use x=\"268.84375\" xlink:href=\"#DejaVuSans-67\"/>\n     <use x=\"338.667969\" xlink:href=\"#DejaVuSans-104\"/>\n     <use x=\"402.046875\" xlink:href=\"#DejaVuSans-97\"/>\n     <use x=\"463.326172\" xlink:href=\"#DejaVuSans-110\"/>\n     <use x=\"526.705078\" xlink:href=\"#DejaVuSans-103\"/>\n     <use x=\"590.181641\" xlink:href=\"#DejaVuSans-101\"/>\n    </g>\n   </g>\n  </g>\n  <g id=\"axes_8\">\n   <g id=\"patch_107\">\n    <path d=\"M 267.6625 461.635676 \nL 438.1625 461.635676 \nL 438.1625 339.603023 \nL 267.6625 339.603023 \nz\n\" style=\"fill:#ffffff;\"/>\n   </g>\n   <g id=\"patch_108\">\n    <path clip-path=\"url(#paab5c34752)\" d=\"M 275.4125 461.635676 \nL 290.9125 461.635676 \nL 290.9125 345.414102 \nL 275.4125 345.414102 \nz\n\" style=\"fill:#1f77b4;stroke:#ff0000;stroke-linejoin:miter;stroke-width:1.2;\"/>\n   </g>\n   <g id=\"patch_109\">\n    <path clip-path=\"url(#paab5c34752)\" d=\"M 290.9125 461.635676 \nL 306.4125 461.635676 \nL 306.4125 461.503862 \nL 290.9125 461.503862 \nz\n\" style=\"fill:#1f77b4;stroke:#ff0000;stroke-linejoin:miter;stroke-width:1.2;\"/>\n   </g>\n   <g id=\"patch_110\">\n    <path clip-path=\"url(#paab5c34752)\" d=\"M 306.4125 461.635676 \nL 321.9125 461.635676 \nL 321.9125 461.610677 \nL 306.4125 461.610677 \nz\n\" style=\"fill:#1f77b4;stroke:#ff0000;stroke-linejoin:miter;stroke-width:1.2;\"/>\n   </g>\n   <g id=\"patch_111\">\n    <path clip-path=\"url(#paab5c34752)\" d=\"M 321.9125 461.635676 \nL 337.4125 461.635676 \nL 337.4125 461.633403 \nL 321.9125 461.633403 \nz\n\" style=\"fill:#1f77b4;stroke:#ff0000;stroke-linejoin:miter;stroke-width:1.2;\"/>\n   </g>\n   <g id=\"patch_112\">\n    <path clip-path=\"url(#paab5c34752)\" d=\"M 337.4125 461.635676 \nL 352.9125 461.635676 \nL 352.9125 461.633403 \nL 337.4125 461.633403 \nz\n\" style=\"fill:#1f77b4;stroke:#ff0000;stroke-linejoin:miter;stroke-width:1.2;\"/>\n   </g>\n   <g id=\"patch_113\">\n    <path clip-path=\"url(#paab5c34752)\" d=\"M 352.9125 461.635676 \nL 368.4125 461.635676 \nL 368.4125 461.633403 \nL 352.9125 461.633403 \nz\n\" style=\"fill:#1f77b4;stroke:#ff0000;stroke-linejoin:miter;stroke-width:1.2;\"/>\n   </g>\n   <g id=\"patch_114\">\n    <path clip-path=\"url(#paab5c34752)\" d=\"M 368.4125 461.635676 \nL 383.9125 461.635676 \nL 383.9125 461.635676 \nL 368.4125 461.635676 \nz\n\" style=\"fill:#1f77b4;stroke:#ff0000;stroke-linejoin:miter;stroke-width:1.2;\"/>\n   </g>\n   <g id=\"patch_115\">\n    <path clip-path=\"url(#paab5c34752)\" d=\"M 383.9125 461.635676 \nL 399.4125 461.635676 \nL 399.4125 461.633403 \nL 383.9125 461.633403 \nz\n\" style=\"fill:#1f77b4;stroke:#ff0000;stroke-linejoin:miter;stroke-width:1.2;\"/>\n   </g>\n   <g id=\"patch_116\">\n    <path clip-path=\"url(#paab5c34752)\" d=\"M 399.4125 461.635676 \nL 414.9125 461.635676 \nL 414.9125 461.635676 \nL 399.4125 461.635676 \nz\n\" style=\"fill:#1f77b4;stroke:#ff0000;stroke-linejoin:miter;stroke-width:1.2;\"/>\n   </g>\n   <g id=\"patch_117\">\n    <path clip-path=\"url(#paab5c34752)\" d=\"M 414.9125 461.635676 \nL 430.4125 461.635676 \nL 430.4125 461.633403 \nL 414.9125 461.633403 \nz\n\" style=\"fill:#1f77b4;stroke:#ff0000;stroke-linejoin:miter;stroke-width:1.2;\"/>\n   </g>\n   <g id=\"matplotlib.axis_15\">\n    <g id=\"xtick_27\">\n     <g id=\"line2d_121\">\n      <path clip-path=\"url(#paab5c34752)\" d=\"M 275.412277 461.635676 \nL 275.412277 339.603023 \n\" style=\"fill:none;stroke:#b0b0b0;stroke-linecap:square;stroke-width:0.8;\"/>\n     </g>\n     <g id=\"line2d_122\">\n      <g>\n       <use style=\"stroke:#000000;stroke-width:0.8;\" x=\"275.412277\" xlink:href=\"#ma82ef1ade4\" y=\"461.635676\"/>\n      </g>\n     </g>\n     <g id=\"text_68\">\n      <!-- 0 -->\n      <g transform=\"translate(272.231027 476.234114)scale(0.1 -0.1)\">\n       <use xlink:href=\"#DejaVuSans-48\"/>\n      </g>\n     </g>\n    </g>\n    <g id=\"xtick_28\">\n     <g id=\"line2d_123\">\n      <path clip-path=\"url(#paab5c34752)\" d=\"M 312.500078 461.635676 \nL 312.500078 339.603023 \n\" style=\"fill:none;stroke:#b0b0b0;stroke-linecap:square;stroke-width:0.8;\"/>\n     </g>\n     <g id=\"line2d_124\">\n      <g>\n       <use style=\"stroke:#000000;stroke-width:0.8;\" x=\"312.500078\" xlink:href=\"#ma82ef1ade4\" y=\"461.635676\"/>\n      </g>\n     </g>\n     <g id=\"text_69\">\n      <!-- 1 -->\n      <g transform=\"translate(309.318828 476.234114)scale(0.1 -0.1)\">\n       <use xlink:href=\"#DejaVuSans-49\"/>\n      </g>\n     </g>\n    </g>\n    <g id=\"xtick_29\">\n     <g id=\"line2d_125\">\n      <path clip-path=\"url(#paab5c34752)\" d=\"M 349.587878 461.635676 \nL 349.587878 339.603023 \n\" style=\"fill:none;stroke:#b0b0b0;stroke-linecap:square;stroke-width:0.8;\"/>\n     </g>\n     <g id=\"line2d_126\">\n      <g>\n       <use style=\"stroke:#000000;stroke-width:0.8;\" x=\"349.587878\" xlink:href=\"#ma82ef1ade4\" y=\"461.635676\"/>\n      </g>\n     </g>\n     <g id=\"text_70\">\n      <!-- 2 -->\n      <g transform=\"translate(346.406628 476.234114)scale(0.1 -0.1)\">\n       <use xlink:href=\"#DejaVuSans-50\"/>\n      </g>\n     </g>\n    </g>\n    <g id=\"xtick_30\">\n     <g id=\"line2d_127\">\n      <path clip-path=\"url(#paab5c34752)\" d=\"M 386.675678 461.635676 \nL 386.675678 339.603023 \n\" style=\"fill:none;stroke:#b0b0b0;stroke-linecap:square;stroke-width:0.8;\"/>\n     </g>\n     <g id=\"line2d_128\">\n      <g>\n       <use style=\"stroke:#000000;stroke-width:0.8;\" x=\"386.675678\" xlink:href=\"#ma82ef1ade4\" y=\"461.635676\"/>\n      </g>\n     </g>\n     <g id=\"text_71\">\n      <!-- 3 -->\n      <g transform=\"translate(383.494428 476.234114)scale(0.1 -0.1)\">\n       <use xlink:href=\"#DejaVuSans-51\"/>\n      </g>\n     </g>\n    </g>\n    <g id=\"xtick_31\">\n     <g id=\"line2d_129\">\n      <path clip-path=\"url(#paab5c34752)\" d=\"M 423.763479 461.635676 \nL 423.763479 339.603023 \n\" style=\"fill:none;stroke:#b0b0b0;stroke-linecap:square;stroke-width:0.8;\"/>\n     </g>\n     <g id=\"line2d_130\">\n      <g>\n       <use style=\"stroke:#000000;stroke-width:0.8;\" x=\"423.763479\" xlink:href=\"#ma82ef1ade4\" y=\"461.635676\"/>\n      </g>\n     </g>\n     <g id=\"text_72\">\n      <!-- 4 -->\n      <g transform=\"translate(420.582229 476.234114)scale(0.1 -0.1)\">\n       <use xlink:href=\"#DejaVuSans-52\"/>\n      </g>\n     </g>\n    </g>\n    <g id=\"text_73\">\n     <!-- 1e8 -->\n     <defs>\n      <path d=\"M 31.78125 34.625 \nQ 24.75 34.625 20.71875 30.859375 \nQ 16.703125 27.09375 16.703125 20.515625 \nQ 16.703125 13.921875 20.71875 10.15625 \nQ 24.75 6.390625 31.78125 6.390625 \nQ 38.8125 6.390625 42.859375 10.171875 \nQ 46.921875 13.96875 46.921875 20.515625 \nQ 46.921875 27.09375 42.890625 30.859375 \nQ 38.875 34.625 31.78125 34.625 \nz\nM 21.921875 38.8125 \nQ 15.578125 40.375 12.03125 44.71875 \nQ 8.5 49.078125 8.5 55.328125 \nQ 8.5 64.0625 14.71875 69.140625 \nQ 20.953125 74.21875 31.78125 74.21875 \nQ 42.671875 74.21875 48.875 69.140625 \nQ 55.078125 64.0625 55.078125 55.328125 \nQ 55.078125 49.078125 51.53125 44.71875 \nQ 48 40.375 41.703125 38.8125 \nQ 48.828125 37.15625 52.796875 32.3125 \nQ 56.78125 27.484375 56.78125 20.515625 \nQ 56.78125 9.90625 50.3125 4.234375 \nQ 43.84375 -1.421875 31.78125 -1.421875 \nQ 19.734375 -1.421875 13.25 4.234375 \nQ 6.78125 9.90625 6.78125 20.515625 \nQ 6.78125 27.484375 10.78125 32.3125 \nQ 14.796875 37.15625 21.921875 38.8125 \nz\nM 18.3125 54.390625 \nQ 18.3125 48.734375 21.84375 45.5625 \nQ 25.390625 42.390625 31.78125 42.390625 \nQ 38.140625 42.390625 41.71875 45.5625 \nQ 45.3125 48.734375 45.3125 54.390625 \nQ 45.3125 60.0625 41.71875 63.234375 \nQ 38.140625 66.40625 31.78125 66.40625 \nQ 25.390625 66.40625 21.84375 63.234375 \nQ 18.3125 60.0625 18.3125 54.390625 \nz\n\" id=\"DejaVuSans-56\"/>\n     </defs>\n     <g transform=\"translate(419.284375 488.912239)scale(0.1 -0.1)\">\n      <use xlink:href=\"#DejaVuSans-49\"/>\n      <use x=\"63.623047\" xlink:href=\"#DejaVuSans-101\"/>\n      <use x=\"125.146484\" xlink:href=\"#DejaVuSans-56\"/>\n     </g>\n    </g>\n   </g>\n   <g id=\"matplotlib.axis_16\">\n    <g id=\"ytick_35\">\n     <g id=\"line2d_131\">\n      <path clip-path=\"url(#paab5c34752)\" d=\"M 267.6625 461.635676 \nL 438.1625 461.635676 \n\" style=\"fill:none;stroke:#b0b0b0;stroke-linecap:square;stroke-width:0.8;\"/>\n     </g>\n     <g id=\"line2d_132\">\n      <g>\n       <use style=\"stroke:#000000;stroke-width:0.8;\" x=\"267.6625\" xlink:href=\"#mb182d7aa31\" y=\"461.635676\"/>\n      </g>\n     </g>\n     <g id=\"text_74\">\n      <!-- 0 -->\n      <g transform=\"translate(254.3 465.434895)scale(0.1 -0.1)\">\n       <use xlink:href=\"#DejaVuSans-48\"/>\n      </g>\n     </g>\n    </g>\n    <g id=\"ytick_36\">\n     <g id=\"line2d_133\">\n      <path clip-path=\"url(#paab5c34752)\" d=\"M 267.6625 438.909073 \nL 438.1625 438.909073 \n\" style=\"fill:none;stroke:#b0b0b0;stroke-linecap:square;stroke-width:0.8;\"/>\n     </g>\n     <g id=\"line2d_134\">\n      <g>\n       <use style=\"stroke:#000000;stroke-width:0.8;\" x=\"267.6625\" xlink:href=\"#mb182d7aa31\" y=\"438.909073\"/>\n      </g>\n     </g>\n     <g id=\"text_75\">\n      <!-- 10000 -->\n      <g transform=\"translate(228.85 442.708292)scale(0.1 -0.1)\">\n       <use xlink:href=\"#DejaVuSans-49\"/>\n       <use x=\"63.623047\" xlink:href=\"#DejaVuSans-48\"/>\n       <use x=\"127.246094\" xlink:href=\"#DejaVuSans-48\"/>\n       <use x=\"190.869141\" xlink:href=\"#DejaVuSans-48\"/>\n       <use x=\"254.492188\" xlink:href=\"#DejaVuSans-48\"/>\n      </g>\n     </g>\n    </g>\n    <g id=\"ytick_37\">\n     <g id=\"line2d_135\">\n      <path clip-path=\"url(#paab5c34752)\" d=\"M 267.6625 416.18247 \nL 438.1625 416.18247 \n\" style=\"fill:none;stroke:#b0b0b0;stroke-linecap:square;stroke-width:0.8;\"/>\n     </g>\n     <g id=\"line2d_136\">\n      <g>\n       <use style=\"stroke:#000000;stroke-width:0.8;\" x=\"267.6625\" xlink:href=\"#mb182d7aa31\" y=\"416.18247\"/>\n      </g>\n     </g>\n     <g id=\"text_76\">\n      <!-- 20000 -->\n      <g transform=\"translate(228.85 419.981689)scale(0.1 -0.1)\">\n       <use xlink:href=\"#DejaVuSans-50\"/>\n       <use x=\"63.623047\" xlink:href=\"#DejaVuSans-48\"/>\n       <use x=\"127.246094\" xlink:href=\"#DejaVuSans-48\"/>\n       <use x=\"190.869141\" xlink:href=\"#DejaVuSans-48\"/>\n       <use x=\"254.492188\" xlink:href=\"#DejaVuSans-48\"/>\n      </g>\n     </g>\n    </g>\n    <g id=\"ytick_38\">\n     <g id=\"line2d_137\">\n      <path clip-path=\"url(#paab5c34752)\" d=\"M 267.6625 393.455867 \nL 438.1625 393.455867 \n\" style=\"fill:none;stroke:#b0b0b0;stroke-linecap:square;stroke-width:0.8;\"/>\n     </g>\n     <g id=\"line2d_138\">\n      <g>\n       <use style=\"stroke:#000000;stroke-width:0.8;\" x=\"267.6625\" xlink:href=\"#mb182d7aa31\" y=\"393.455867\"/>\n      </g>\n     </g>\n     <g id=\"text_77\">\n      <!-- 30000 -->\n      <g transform=\"translate(228.85 397.255086)scale(0.1 -0.1)\">\n       <use xlink:href=\"#DejaVuSans-51\"/>\n       <use x=\"63.623047\" xlink:href=\"#DejaVuSans-48\"/>\n       <use x=\"127.246094\" xlink:href=\"#DejaVuSans-48\"/>\n       <use x=\"190.869141\" xlink:href=\"#DejaVuSans-48\"/>\n       <use x=\"254.492188\" xlink:href=\"#DejaVuSans-48\"/>\n      </g>\n     </g>\n    </g>\n    <g id=\"ytick_39\">\n     <g id=\"line2d_139\">\n      <path clip-path=\"url(#paab5c34752)\" d=\"M 267.6625 370.729265 \nL 438.1625 370.729265 \n\" style=\"fill:none;stroke:#b0b0b0;stroke-linecap:square;stroke-width:0.8;\"/>\n     </g>\n     <g id=\"line2d_140\">\n      <g>\n       <use style=\"stroke:#000000;stroke-width:0.8;\" x=\"267.6625\" xlink:href=\"#mb182d7aa31\" y=\"370.729265\"/>\n      </g>\n     </g>\n     <g id=\"text_78\">\n      <!-- 40000 -->\n      <g transform=\"translate(228.85 374.528483)scale(0.1 -0.1)\">\n       <use xlink:href=\"#DejaVuSans-52\"/>\n       <use x=\"63.623047\" xlink:href=\"#DejaVuSans-48\"/>\n       <use x=\"127.246094\" xlink:href=\"#DejaVuSans-48\"/>\n       <use x=\"190.869141\" xlink:href=\"#DejaVuSans-48\"/>\n       <use x=\"254.492188\" xlink:href=\"#DejaVuSans-48\"/>\n      </g>\n     </g>\n    </g>\n    <g id=\"ytick_40\">\n     <g id=\"line2d_141\">\n      <path clip-path=\"url(#paab5c34752)\" d=\"M 267.6625 348.002662 \nL 438.1625 348.002662 \n\" style=\"fill:none;stroke:#b0b0b0;stroke-linecap:square;stroke-width:0.8;\"/>\n     </g>\n     <g id=\"line2d_142\">\n      <g>\n       <use style=\"stroke:#000000;stroke-width:0.8;\" x=\"267.6625\" xlink:href=\"#mb182d7aa31\" y=\"348.002662\"/>\n      </g>\n     </g>\n     <g id=\"text_79\">\n      <!-- 50000 -->\n      <g transform=\"translate(228.85 351.80188)scale(0.1 -0.1)\">\n       <use xlink:href=\"#DejaVuSans-53\"/>\n       <use x=\"63.623047\" xlink:href=\"#DejaVuSans-48\"/>\n       <use x=\"127.246094\" xlink:href=\"#DejaVuSans-48\"/>\n       <use x=\"190.869141\" xlink:href=\"#DejaVuSans-48\"/>\n       <use x=\"254.492188\" xlink:href=\"#DejaVuSans-48\"/>\n      </g>\n     </g>\n    </g>\n   </g>\n   <g id=\"patch_118\">\n    <path d=\"M 267.6625 461.635676 \nL 267.6625 339.603023 \n\" style=\"fill:none;stroke:#000000;stroke-linecap:square;stroke-linejoin:miter;stroke-width:0.8;\"/>\n   </g>\n   <g id=\"patch_119\">\n    <path d=\"M 438.1625 461.635676 \nL 438.1625 339.603023 \n\" style=\"fill:none;stroke:#000000;stroke-linecap:square;stroke-linejoin:miter;stroke-width:0.8;\"/>\n   </g>\n   <g id=\"patch_120\">\n    <path d=\"M 267.6625 461.635676 \nL 438.1625 461.635676 \n\" style=\"fill:none;stroke:#000000;stroke-linecap:square;stroke-linejoin:miter;stroke-width:0.8;\"/>\n   </g>\n   <g id=\"patch_121\">\n    <path d=\"M 267.6625 339.603023 \nL 438.1625 339.603023 \n\" style=\"fill:none;stroke:#000000;stroke-linecap:square;stroke-linejoin:miter;stroke-width:0.8;\"/>\n   </g>\n   <g id=\"text_80\">\n    <!-- volume_traded -->\n    <defs>\n     <path d=\"M 2.984375 54.6875 \nL 12.5 54.6875 \nL 29.59375 8.796875 \nL 46.6875 54.6875 \nL 56.203125 54.6875 \nL 35.6875 0 \nL 23.484375 0 \nz\n\" id=\"DejaVuSans-118\"/>\n     <path d=\"M 8.5 21.578125 \nL 8.5 54.6875 \nL 17.484375 54.6875 \nL 17.484375 21.921875 \nQ 17.484375 14.15625 20.5 10.265625 \nQ 23.53125 6.390625 29.59375 6.390625 \nQ 36.859375 6.390625 41.078125 11.03125 \nQ 45.3125 15.671875 45.3125 23.6875 \nL 45.3125 54.6875 \nL 54.296875 54.6875 \nL 54.296875 0 \nL 45.3125 0 \nL 45.3125 8.40625 \nQ 42.046875 3.421875 37.71875 1 \nQ 33.40625 -1.421875 27.6875 -1.421875 \nQ 18.265625 -1.421875 13.375 4.4375 \nQ 8.5 10.296875 8.5 21.578125 \nz\nM 31.109375 56 \nz\n\" id=\"DejaVuSans-117\"/>\n     <path d=\"M 18.3125 70.21875 \nL 18.3125 54.6875 \nL 36.8125 54.6875 \nL 36.8125 47.703125 \nL 18.3125 47.703125 \nL 18.3125 18.015625 \nQ 18.3125 11.328125 20.140625 9.421875 \nQ 21.96875 7.515625 27.59375 7.515625 \nL 36.8125 7.515625 \nL 36.8125 0 \nL 27.59375 0 \nQ 17.1875 0 13.234375 3.875 \nQ 9.28125 7.765625 9.28125 18.015625 \nL 9.28125 47.703125 \nL 2.6875 47.703125 \nL 2.6875 54.6875 \nL 9.28125 54.6875 \nL 9.28125 70.21875 \nz\n\" id=\"DejaVuSans-116\"/>\n     <path d=\"M 45.40625 46.390625 \nL 45.40625 75.984375 \nL 54.390625 75.984375 \nL 54.390625 0 \nL 45.40625 0 \nL 45.40625 8.203125 \nQ 42.578125 3.328125 38.25 0.953125 \nQ 33.9375 -1.421875 27.875 -1.421875 \nQ 17.96875 -1.421875 11.734375 6.484375 \nQ 5.515625 14.40625 5.515625 27.296875 \nQ 5.515625 40.1875 11.734375 48.09375 \nQ 17.96875 56 27.875 56 \nQ 33.9375 56 38.25 53.625 \nQ 42.578125 51.265625 45.40625 46.390625 \nz\nM 14.796875 27.296875 \nQ 14.796875 17.390625 18.875 11.75 \nQ 22.953125 6.109375 30.078125 6.109375 \nQ 37.203125 6.109375 41.296875 11.75 \nQ 45.40625 17.390625 45.40625 27.296875 \nQ 45.40625 37.203125 41.296875 42.84375 \nQ 37.203125 48.484375 30.078125 48.484375 \nQ 22.953125 48.484375 18.875 42.84375 \nQ 14.796875 37.203125 14.796875 27.296875 \nz\n\" id=\"DejaVuSans-100\"/>\n    </defs>\n    <g transform=\"translate(307.87875 333.603023)scale(0.12 -0.12)\">\n     <use xlink:href=\"#DejaVuSans-118\"/>\n     <use x=\"59.179688\" xlink:href=\"#DejaVuSans-111\"/>\n     <use x=\"120.361328\" xlink:href=\"#DejaVuSans-108\"/>\n     <use x=\"148.144531\" xlink:href=\"#DejaVuSans-117\"/>\n     <use x=\"211.523438\" xlink:href=\"#DejaVuSans-109\"/>\n     <use x=\"308.935547\" xlink:href=\"#DejaVuSans-101\"/>\n     <use x=\"370.458984\" xlink:href=\"#DejaVuSans-95\"/>\n     <use x=\"420.458984\" xlink:href=\"#DejaVuSans-116\"/>\n     <use x=\"459.667969\" xlink:href=\"#DejaVuSans-114\"/>\n     <use x=\"500.78125\" xlink:href=\"#DejaVuSans-97\"/>\n     <use x=\"562.060547\" xlink:href=\"#DejaVuSans-100\"/>\n     <use x=\"625.537109\" xlink:href=\"#DejaVuSans-101\"/>\n     <use x=\"687.060547\" xlink:href=\"#DejaVuSans-100\"/>\n    </g>\n   </g>\n  </g>\n  <g id=\"axes_9\">\n   <g id=\"patch_122\">\n    <path d=\"M 489.3125 461.635676 \nL 659.8125 461.635676 \nL 659.8125 339.603023 \nL 489.3125 339.603023 \nz\n\" style=\"fill:#ffffff;\"/>\n   </g>\n   <g id=\"patch_123\">\n    <path clip-path=\"url(#pf8da0059a2)\" d=\"M 497.0625 461.635676 \nL 512.5625 461.635676 \nL 512.5625 345.414102 \nL 497.0625 345.414102 \nz\n\" style=\"fill:#1f77b4;stroke:#ff0000;stroke-linejoin:miter;stroke-width:1.2;\"/>\n   </g>\n   <g id=\"patch_124\">\n    <path clip-path=\"url(#pf8da0059a2)\" d=\"M 512.5625 461.635676 \nL 528.0625 461.635676 \nL 528.0625 461.275765 \nL 512.5625 461.275765 \nz\n\" style=\"fill:#1f77b4;stroke:#ff0000;stroke-linejoin:miter;stroke-width:1.2;\"/>\n   </g>\n   <g id=\"patch_125\">\n    <path clip-path=\"url(#pf8da0059a2)\" d=\"M 528.0625 461.635676 \nL 543.5625 461.635676 \nL 543.5625 461.592396 \nL 528.0625 461.592396 \nz\n\" style=\"fill:#1f77b4;stroke:#ff0000;stroke-linejoin:miter;stroke-width:1.2;\"/>\n   </g>\n   <g id=\"patch_126\">\n    <path clip-path=\"url(#pf8da0059a2)\" d=\"M 543.5625 461.635676 \nL 559.0625 461.635676 \nL 559.0625 461.612897 \nL 543.5625 461.612897 \nz\n\" style=\"fill:#1f77b4;stroke:#ff0000;stroke-linejoin:miter;stroke-width:1.2;\"/>\n   </g>\n   <g id=\"patch_127\">\n    <path clip-path=\"url(#pf8da0059a2)\" d=\"M 559.0625 461.635676 \nL 574.5625 461.635676 \nL 574.5625 461.633398 \nL 559.0625 461.633398 \nz\n\" style=\"fill:#1f77b4;stroke:#ff0000;stroke-linejoin:miter;stroke-width:1.2;\"/>\n   </g>\n   <g id=\"patch_128\">\n    <path clip-path=\"url(#pf8da0059a2)\" d=\"M 574.5625 461.635676 \nL 590.0625 461.635676 \nL 590.0625 461.633398 \nL 574.5625 461.633398 \nz\n\" style=\"fill:#1f77b4;stroke:#ff0000;stroke-linejoin:miter;stroke-width:1.2;\"/>\n   </g>\n   <g id=\"patch_129\">\n    <path clip-path=\"url(#pf8da0059a2)\" d=\"M 590.0625 461.635676 \nL 605.5625 461.635676 \nL 605.5625 461.63112 \nL 590.0625 461.63112 \nz\n\" style=\"fill:#1f77b4;stroke:#ff0000;stroke-linejoin:miter;stroke-width:1.2;\"/>\n   </g>\n   <g id=\"patch_130\">\n    <path clip-path=\"url(#pf8da0059a2)\" d=\"M 605.5625 461.635676 \nL 621.0625 461.635676 \nL 621.0625 461.635676 \nL 605.5625 461.635676 \nz\n\" style=\"fill:#1f77b4;stroke:#ff0000;stroke-linejoin:miter;stroke-width:1.2;\"/>\n   </g>\n   <g id=\"patch_131\">\n    <path clip-path=\"url(#pf8da0059a2)\" d=\"M 621.0625 461.635676 \nL 636.5625 461.635676 \nL 636.5625 461.635676 \nL 621.0625 461.635676 \nz\n\" style=\"fill:#1f77b4;stroke:#ff0000;stroke-linejoin:miter;stroke-width:1.2;\"/>\n   </g>\n   <g id=\"patch_132\">\n    <path clip-path=\"url(#pf8da0059a2)\" d=\"M 636.5625 461.635676 \nL 652.0625 461.635676 \nL 652.0625 461.633398 \nL 636.5625 461.633398 \nz\n\" style=\"fill:#1f77b4;stroke:#ff0000;stroke-linejoin:miter;stroke-width:1.2;\"/>\n   </g>\n   <g id=\"matplotlib.axis_17\">\n    <g id=\"xtick_32\">\n     <g id=\"line2d_143\">\n      <path clip-path=\"url(#pf8da0059a2)\" d=\"M 497.062352 461.635676 \nL 497.062352 339.603023 \n\" style=\"fill:none;stroke:#b0b0b0;stroke-linecap:square;stroke-width:0.8;\"/>\n     </g>\n     <g id=\"line2d_144\">\n      <g>\n       <use style=\"stroke:#000000;stroke-width:0.8;\" x=\"497.062352\" xlink:href=\"#ma82ef1ade4\" y=\"461.635676\"/>\n      </g>\n     </g>\n     <g id=\"text_81\">\n      <!-- 0.0 -->\n      <defs>\n       <path d=\"M 10.6875 12.40625 \nL 21 12.40625 \nL 21 0 \nL 10.6875 0 \nz\n\" id=\"DejaVuSans-46\"/>\n      </defs>\n      <g transform=\"translate(489.110789 476.234114)scale(0.1 -0.1)\">\n       <use xlink:href=\"#DejaVuSans-48\"/>\n       <use x=\"63.623047\" xlink:href=\"#DejaVuSans-46\"/>\n       <use x=\"95.410156\" xlink:href=\"#DejaVuSans-48\"/>\n      </g>\n     </g>\n    </g>\n    <g id=\"xtick_33\">\n     <g id=\"line2d_145\">\n      <path clip-path=\"url(#pf8da0059a2)\" d=\"M 545.909534 461.635676 \nL 545.909534 339.603023 \n\" style=\"fill:none;stroke:#b0b0b0;stroke-linecap:square;stroke-width:0.8;\"/>\n     </g>\n     <g id=\"line2d_146\">\n      <g>\n       <use style=\"stroke:#000000;stroke-width:0.8;\" x=\"545.909534\" xlink:href=\"#ma82ef1ade4\" y=\"461.635676\"/>\n      </g>\n     </g>\n     <g id=\"text_82\">\n      <!-- 0.5 -->\n      <g transform=\"translate(537.957972 476.234114)scale(0.1 -0.1)\">\n       <use xlink:href=\"#DejaVuSans-48\"/>\n       <use x=\"63.623047\" xlink:href=\"#DejaVuSans-46\"/>\n       <use x=\"95.410156\" xlink:href=\"#DejaVuSans-53\"/>\n      </g>\n     </g>\n    </g>\n    <g id=\"xtick_34\">\n     <g id=\"line2d_147\">\n      <path clip-path=\"url(#pf8da0059a2)\" d=\"M 594.756716 461.635676 \nL 594.756716 339.603023 \n\" style=\"fill:none;stroke:#b0b0b0;stroke-linecap:square;stroke-width:0.8;\"/>\n     </g>\n     <g id=\"line2d_148\">\n      <g>\n       <use style=\"stroke:#000000;stroke-width:0.8;\" x=\"594.756716\" xlink:href=\"#ma82ef1ade4\" y=\"461.635676\"/>\n      </g>\n     </g>\n     <g id=\"text_83\">\n      <!-- 1.0 -->\n      <g transform=\"translate(586.805154 476.234114)scale(0.1 -0.1)\">\n       <use xlink:href=\"#DejaVuSans-49\"/>\n       <use x=\"63.623047\" xlink:href=\"#DejaVuSans-46\"/>\n       <use x=\"95.410156\" xlink:href=\"#DejaVuSans-48\"/>\n      </g>\n     </g>\n    </g>\n    <g id=\"xtick_35\">\n     <g id=\"line2d_149\">\n      <path clip-path=\"url(#pf8da0059a2)\" d=\"M 643.603898 461.635676 \nL 643.603898 339.603023 \n\" style=\"fill:none;stroke:#b0b0b0;stroke-linecap:square;stroke-width:0.8;\"/>\n     </g>\n     <g id=\"line2d_150\">\n      <g>\n       <use style=\"stroke:#000000;stroke-width:0.8;\" x=\"643.603898\" xlink:href=\"#ma82ef1ade4\" y=\"461.635676\"/>\n      </g>\n     </g>\n     <g id=\"text_84\">\n      <!-- 1.5 -->\n      <g transform=\"translate(635.652336 476.234114)scale(0.1 -0.1)\">\n       <use xlink:href=\"#DejaVuSans-49\"/>\n       <use x=\"63.623047\" xlink:href=\"#DejaVuSans-46\"/>\n       <use x=\"95.410156\" xlink:href=\"#DejaVuSans-53\"/>\n      </g>\n     </g>\n    </g>\n    <g id=\"text_85\">\n     <!-- 1e10 -->\n     <g transform=\"translate(634.571875 488.912239)scale(0.1 -0.1)\">\n      <use xlink:href=\"#DejaVuSans-49\"/>\n      <use x=\"63.623047\" xlink:href=\"#DejaVuSans-101\"/>\n      <use x=\"125.146484\" xlink:href=\"#DejaVuSans-49\"/>\n      <use x=\"188.769531\" xlink:href=\"#DejaVuSans-48\"/>\n     </g>\n    </g>\n   </g>\n   <g id=\"matplotlib.axis_18\">\n    <g id=\"ytick_41\">\n     <g id=\"line2d_151\">\n      <path clip-path=\"url(#pf8da0059a2)\" d=\"M 489.3125 461.635676 \nL 659.8125 461.635676 \n\" style=\"fill:none;stroke:#b0b0b0;stroke-linecap:square;stroke-width:0.8;\"/>\n     </g>\n     <g id=\"line2d_152\">\n      <g>\n       <use style=\"stroke:#000000;stroke-width:0.8;\" x=\"489.3125\" xlink:href=\"#mb182d7aa31\" y=\"461.635676\"/>\n      </g>\n     </g>\n     <g id=\"text_86\">\n      <!-- 0 -->\n      <g transform=\"translate(475.95 465.434895)scale(0.1 -0.1)\">\n       <use xlink:href=\"#DejaVuSans-48\"/>\n      </g>\n     </g>\n    </g>\n    <g id=\"ytick_42\">\n     <g id=\"line2d_153\">\n      <path clip-path=\"url(#pf8da0059a2)\" d=\"M 489.3125 438.856512 \nL 659.8125 438.856512 \n\" style=\"fill:none;stroke:#b0b0b0;stroke-linecap:square;stroke-width:0.8;\"/>\n     </g>\n     <g id=\"line2d_154\">\n      <g>\n       <use style=\"stroke:#000000;stroke-width:0.8;\" x=\"489.3125\" xlink:href=\"#mb182d7aa31\" y=\"438.856512\"/>\n      </g>\n     </g>\n     <g id=\"text_87\">\n      <!-- 10000 -->\n      <g transform=\"translate(450.5 442.65573)scale(0.1 -0.1)\">\n       <use xlink:href=\"#DejaVuSans-49\"/>\n       <use x=\"63.623047\" xlink:href=\"#DejaVuSans-48\"/>\n       <use x=\"127.246094\" xlink:href=\"#DejaVuSans-48\"/>\n       <use x=\"190.869141\" xlink:href=\"#DejaVuSans-48\"/>\n       <use x=\"254.492188\" xlink:href=\"#DejaVuSans-48\"/>\n      </g>\n     </g>\n    </g>\n    <g id=\"ytick_43\">\n     <g id=\"line2d_155\">\n      <path clip-path=\"url(#pf8da0059a2)\" d=\"M 489.3125 416.077347 \nL 659.8125 416.077347 \n\" style=\"fill:none;stroke:#b0b0b0;stroke-linecap:square;stroke-width:0.8;\"/>\n     </g>\n     <g id=\"line2d_156\">\n      <g>\n       <use style=\"stroke:#000000;stroke-width:0.8;\" x=\"489.3125\" xlink:href=\"#mb182d7aa31\" y=\"416.077347\"/>\n      </g>\n     </g>\n     <g id=\"text_88\">\n      <!-- 20000 -->\n      <g transform=\"translate(450.5 419.876566)scale(0.1 -0.1)\">\n       <use xlink:href=\"#DejaVuSans-50\"/>\n       <use x=\"63.623047\" xlink:href=\"#DejaVuSans-48\"/>\n       <use x=\"127.246094\" xlink:href=\"#DejaVuSans-48\"/>\n       <use x=\"190.869141\" xlink:href=\"#DejaVuSans-48\"/>\n       <use x=\"254.492188\" xlink:href=\"#DejaVuSans-48\"/>\n      </g>\n     </g>\n    </g>\n    <g id=\"ytick_44\">\n     <g id=\"line2d_157\">\n      <path clip-path=\"url(#pf8da0059a2)\" d=\"M 489.3125 393.298183 \nL 659.8125 393.298183 \n\" style=\"fill:none;stroke:#b0b0b0;stroke-linecap:square;stroke-width:0.8;\"/>\n     </g>\n     <g id=\"line2d_158\">\n      <g>\n       <use style=\"stroke:#000000;stroke-width:0.8;\" x=\"489.3125\" xlink:href=\"#mb182d7aa31\" y=\"393.298183\"/>\n      </g>\n     </g>\n     <g id=\"text_89\">\n      <!-- 30000 -->\n      <g transform=\"translate(450.5 397.097402)scale(0.1 -0.1)\">\n       <use xlink:href=\"#DejaVuSans-51\"/>\n       <use x=\"63.623047\" xlink:href=\"#DejaVuSans-48\"/>\n       <use x=\"127.246094\" xlink:href=\"#DejaVuSans-48\"/>\n       <use x=\"190.869141\" xlink:href=\"#DejaVuSans-48\"/>\n       <use x=\"254.492188\" xlink:href=\"#DejaVuSans-48\"/>\n      </g>\n     </g>\n    </g>\n    <g id=\"ytick_45\">\n     <g id=\"line2d_159\">\n      <path clip-path=\"url(#pf8da0059a2)\" d=\"M 489.3125 370.519019 \nL 659.8125 370.519019 \n\" style=\"fill:none;stroke:#b0b0b0;stroke-linecap:square;stroke-width:0.8;\"/>\n     </g>\n     <g id=\"line2d_160\">\n      <g>\n       <use style=\"stroke:#000000;stroke-width:0.8;\" x=\"489.3125\" xlink:href=\"#mb182d7aa31\" y=\"370.519019\"/>\n      </g>\n     </g>\n     <g id=\"text_90\">\n      <!-- 40000 -->\n      <g transform=\"translate(450.5 374.318237)scale(0.1 -0.1)\">\n       <use xlink:href=\"#DejaVuSans-52\"/>\n       <use x=\"63.623047\" xlink:href=\"#DejaVuSans-48\"/>\n       <use x=\"127.246094\" xlink:href=\"#DejaVuSans-48\"/>\n       <use x=\"190.869141\" xlink:href=\"#DejaVuSans-48\"/>\n       <use x=\"254.492188\" xlink:href=\"#DejaVuSans-48\"/>\n      </g>\n     </g>\n    </g>\n    <g id=\"ytick_46\">\n     <g id=\"line2d_161\">\n      <path clip-path=\"url(#pf8da0059a2)\" d=\"M 489.3125 347.739854 \nL 659.8125 347.739854 \n\" style=\"fill:none;stroke:#b0b0b0;stroke-linecap:square;stroke-width:0.8;\"/>\n     </g>\n     <g id=\"line2d_162\">\n      <g>\n       <use style=\"stroke:#000000;stroke-width:0.8;\" x=\"489.3125\" xlink:href=\"#mb182d7aa31\" y=\"347.739854\"/>\n      </g>\n     </g>\n     <g id=\"text_91\">\n      <!-- 50000 -->\n      <g transform=\"translate(450.5 351.539073)scale(0.1 -0.1)\">\n       <use xlink:href=\"#DejaVuSans-53\"/>\n       <use x=\"63.623047\" xlink:href=\"#DejaVuSans-48\"/>\n       <use x=\"127.246094\" xlink:href=\"#DejaVuSans-48\"/>\n       <use x=\"190.869141\" xlink:href=\"#DejaVuSans-48\"/>\n       <use x=\"254.492188\" xlink:href=\"#DejaVuSans-48\"/>\n      </g>\n     </g>\n    </g>\n   </g>\n   <g id=\"patch_133\">\n    <path d=\"M 489.3125 461.635676 \nL 489.3125 339.603023 \n\" style=\"fill:none;stroke:#000000;stroke-linecap:square;stroke-linejoin:miter;stroke-width:0.8;\"/>\n   </g>\n   <g id=\"patch_134\">\n    <path d=\"M 659.8125 461.635676 \nL 659.8125 339.603023 \n\" style=\"fill:none;stroke:#000000;stroke-linecap:square;stroke-linejoin:miter;stroke-width:0.8;\"/>\n   </g>\n   <g id=\"patch_135\">\n    <path d=\"M 489.3125 461.635676 \nL 659.8125 461.635676 \n\" style=\"fill:none;stroke:#000000;stroke-linecap:square;stroke-linejoin:miter;stroke-width:0.8;\"/>\n   </g>\n   <g id=\"patch_136\">\n    <path d=\"M 489.3125 339.603023 \nL 659.8125 339.603023 \n\" style=\"fill:none;stroke:#000000;stroke-linecap:square;stroke-linejoin:miter;stroke-width:0.8;\"/>\n   </g>\n   <g id=\"text_92\">\n    <!-- value_traded -->\n    <g transform=\"translate(535.3675 333.603023)scale(0.12 -0.12)\">\n     <use xlink:href=\"#DejaVuSans-118\"/>\n     <use x=\"59.179688\" xlink:href=\"#DejaVuSans-97\"/>\n     <use x=\"120.458984\" xlink:href=\"#DejaVuSans-108\"/>\n     <use x=\"148.242188\" xlink:href=\"#DejaVuSans-117\"/>\n     <use x=\"211.621094\" xlink:href=\"#DejaVuSans-101\"/>\n     <use x=\"273.144531\" xlink:href=\"#DejaVuSans-95\"/>\n     <use x=\"323.144531\" xlink:href=\"#DejaVuSans-116\"/>\n     <use x=\"362.353516\" xlink:href=\"#DejaVuSans-114\"/>\n     <use x=\"403.466797\" xlink:href=\"#DejaVuSans-97\"/>\n     <use x=\"464.746094\" xlink:href=\"#DejaVuSans-100\"/>\n     <use x=\"528.222656\" xlink:href=\"#DejaVuSans-101\"/>\n     <use x=\"589.746094\" xlink:href=\"#DejaVuSans-100\"/>\n    </g>\n   </g>\n  </g>\n  <g id=\"axes_10\">\n   <g id=\"patch_137\">\n    <path d=\"M 46.0125 620.278125 \nL 216.5125 620.278125 \nL 216.5125 498.245472 \nL 46.0125 498.245472 \nz\n\" style=\"fill:#ffffff;\"/>\n   </g>\n   <g id=\"patch_138\">\n    <path clip-path=\"url(#pa7c0b6d0b3)\" d=\"M 53.7625 620.278125 \nL 69.2625 620.278125 \nL 69.2625 569.172078 \nL 53.7625 569.172078 \nz\n\" style=\"fill:#1f77b4;stroke:#ff0000;stroke-linejoin:miter;stroke-width:1.2;\"/>\n   </g>\n   <g id=\"patch_139\">\n    <path clip-path=\"url(#pa7c0b6d0b3)\" d=\"M 69.2625 620.278125 \nL 84.7625 620.278125 \nL 84.7625 549.437178 \nL 69.2625 549.437178 \nz\n\" style=\"fill:#1f77b4;stroke:#ff0000;stroke-linejoin:miter;stroke-width:1.2;\"/>\n   </g>\n   <g id=\"patch_140\">\n    <path clip-path=\"url(#pa7c0b6d0b3)\" d=\"M 84.7625 620.278125 \nL 100.2625 620.278125 \nL 100.2625 567.555314 \nL 84.7625 567.555314 \nz\n\" style=\"fill:#1f77b4;stroke:#ff0000;stroke-linejoin:miter;stroke-width:1.2;\"/>\n   </g>\n   <g id=\"patch_141\">\n    <path clip-path=\"url(#pa7c0b6d0b3)\" d=\"M 100.2625 620.278125 \nL 115.7625 620.278125 \nL 115.7625 504.056551 \nL 100.2625 504.056551 \nz\n\" style=\"fill:#1f77b4;stroke:#ff0000;stroke-linejoin:miter;stroke-width:1.2;\"/>\n   </g>\n   <g id=\"patch_142\">\n    <path clip-path=\"url(#pa7c0b6d0b3)\" d=\"M 115.7625 620.278125 \nL 131.2625 620.278125 \nL 131.2625 594.372825 \nL 115.7625 594.372825 \nz\n\" style=\"fill:#1f77b4;stroke:#ff0000;stroke-linejoin:miter;stroke-width:1.2;\"/>\n   </g>\n   <g id=\"patch_143\">\n    <path clip-path=\"url(#pa7c0b6d0b3)\" d=\"M 131.2625 620.278125 \nL 146.7625 620.278125 \nL 146.7625 600.951125 \nL 131.2625 600.951125 \nz\n\" style=\"fill:#1f77b4;stroke:#ff0000;stroke-linejoin:miter;stroke-width:1.2;\"/>\n   </g>\n   <g id=\"patch_144\">\n    <path clip-path=\"url(#pa7c0b6d0b3)\" d=\"M 146.7625 620.278125 \nL 162.2625 620.278125 \nL 162.2625 605.504762 \nL 146.7625 605.504762 \nz\n\" style=\"fill:#1f77b4;stroke:#ff0000;stroke-linejoin:miter;stroke-width:1.2;\"/>\n   </g>\n   <g id=\"patch_145\">\n    <path clip-path=\"url(#pa7c0b6d0b3)\" d=\"M 162.2625 620.278125 \nL 177.7625 620.278125 \nL 177.7625 608.233977 \nL 162.2625 608.233977 \nz\n\" style=\"fill:#1f77b4;stroke:#ff0000;stroke-linejoin:miter;stroke-width:1.2;\"/>\n   </g>\n   <g id=\"patch_146\">\n    <path clip-path=\"url(#pa7c0b6d0b3)\" d=\"M 177.7625 620.278125 \nL 193.2625 620.278125 \nL 193.2625 610.896446 \nL 177.7625 610.896446 \nz\n\" style=\"fill:#1f77b4;stroke:#ff0000;stroke-linejoin:miter;stroke-width:1.2;\"/>\n   </g>\n   <g id=\"patch_147\">\n    <path clip-path=\"url(#pa7c0b6d0b3)\" d=\"M 193.2625 620.278125 \nL 208.7625 620.278125 \nL 208.7625 612.787614 \nL 193.2625 612.787614 \nz\n\" style=\"fill:#1f77b4;stroke:#ff0000;stroke-linejoin:miter;stroke-width:1.2;\"/>\n   </g>\n   <g id=\"matplotlib.axis_19\">\n    <g id=\"xtick_36\">\n     <g id=\"line2d_163\">\n      <path clip-path=\"url(#pa7c0b6d0b3)\" d=\"M 53.659098 620.278125 \nL 53.659098 498.245472 \n\" style=\"fill:none;stroke:#b0b0b0;stroke-linecap:square;stroke-width:0.8;\"/>\n     </g>\n     <g id=\"line2d_164\">\n      <g>\n       <use style=\"stroke:#000000;stroke-width:0.8;\" x=\"53.659098\" xlink:href=\"#ma82ef1ade4\" y=\"620.278125\"/>\n      </g>\n     </g>\n     <g id=\"text_93\">\n      <!-- 0 -->\n      <g transform=\"translate(50.477848 634.876562)scale(0.1 -0.1)\">\n       <use xlink:href=\"#DejaVuSans-48\"/>\n      </g>\n     </g>\n    </g>\n    <g id=\"xtick_37\">\n     <g id=\"line2d_165\">\n      <path clip-path=\"url(#pa7c0b6d0b3)\" d=\"M 105.360232 620.278125 \nL 105.360232 498.245472 \n\" style=\"fill:none;stroke:#b0b0b0;stroke-linecap:square;stroke-width:0.8;\"/>\n     </g>\n     <g id=\"line2d_166\">\n      <g>\n       <use style=\"stroke:#000000;stroke-width:0.8;\" x=\"105.360232\" xlink:href=\"#ma82ef1ade4\" y=\"620.278125\"/>\n      </g>\n     </g>\n     <g id=\"text_94\">\n      <!-- 500 -->\n      <g transform=\"translate(95.816482 634.876562)scale(0.1 -0.1)\">\n       <use xlink:href=\"#DejaVuSans-53\"/>\n       <use x=\"63.623047\" xlink:href=\"#DejaVuSans-48\"/>\n       <use x=\"127.246094\" xlink:href=\"#DejaVuSans-48\"/>\n      </g>\n     </g>\n    </g>\n    <g id=\"xtick_38\">\n     <g id=\"line2d_167\">\n      <path clip-path=\"url(#pa7c0b6d0b3)\" d=\"M 157.061366 620.278125 \nL 157.061366 498.245472 \n\" style=\"fill:none;stroke:#b0b0b0;stroke-linecap:square;stroke-width:0.8;\"/>\n     </g>\n     <g id=\"line2d_168\">\n      <g>\n       <use style=\"stroke:#000000;stroke-width:0.8;\" x=\"157.061366\" xlink:href=\"#ma82ef1ade4\" y=\"620.278125\"/>\n      </g>\n     </g>\n     <g id=\"text_95\">\n      <!-- 1000 -->\n      <g transform=\"translate(144.336366 634.876562)scale(0.1 -0.1)\">\n       <use xlink:href=\"#DejaVuSans-49\"/>\n       <use x=\"63.623047\" xlink:href=\"#DejaVuSans-48\"/>\n       <use x=\"127.246094\" xlink:href=\"#DejaVuSans-48\"/>\n       <use x=\"190.869141\" xlink:href=\"#DejaVuSans-48\"/>\n      </g>\n     </g>\n    </g>\n    <g id=\"xtick_39\">\n     <g id=\"line2d_169\">\n      <path clip-path=\"url(#pa7c0b6d0b3)\" d=\"M 208.7625 620.278125 \nL 208.7625 498.245472 \n\" style=\"fill:none;stroke:#b0b0b0;stroke-linecap:square;stroke-width:0.8;\"/>\n     </g>\n     <g id=\"line2d_170\">\n      <g>\n       <use style=\"stroke:#000000;stroke-width:0.8;\" x=\"208.7625\" xlink:href=\"#ma82ef1ade4\" y=\"620.278125\"/>\n      </g>\n     </g>\n     <g id=\"text_96\">\n      <!-- 1500 -->\n      <g transform=\"translate(196.0375 634.876562)scale(0.1 -0.1)\">\n       <use xlink:href=\"#DejaVuSans-49\"/>\n       <use x=\"63.623047\" xlink:href=\"#DejaVuSans-53\"/>\n       <use x=\"127.246094\" xlink:href=\"#DejaVuSans-48\"/>\n       <use x=\"190.869141\" xlink:href=\"#DejaVuSans-48\"/>\n      </g>\n     </g>\n    </g>\n   </g>\n   <g id=\"matplotlib.axis_20\">\n    <g id=\"ytick_47\">\n     <g id=\"line2d_171\">\n      <path clip-path=\"url(#pa7c0b6d0b3)\" d=\"M 46.0125 620.278125 \nL 216.5125 620.278125 \n\" style=\"fill:none;stroke:#b0b0b0;stroke-linecap:square;stroke-width:0.8;\"/>\n     </g>\n     <g id=\"line2d_172\">\n      <g>\n       <use style=\"stroke:#000000;stroke-width:0.8;\" x=\"46.0125\" xlink:href=\"#mb182d7aa31\" y=\"620.278125\"/>\n      </g>\n     </g>\n     <g id=\"text_97\">\n      <!-- 0 -->\n      <g transform=\"translate(32.65 624.077344)scale(0.1 -0.1)\">\n       <use xlink:href=\"#DejaVuSans-48\"/>\n      </g>\n     </g>\n    </g>\n    <g id=\"ytick_48\">\n     <g id=\"line2d_173\">\n      <path clip-path=\"url(#pa7c0b6d0b3)\" d=\"M 46.0125 583.19639 \nL 216.5125 583.19639 \n\" style=\"fill:none;stroke:#b0b0b0;stroke-linecap:square;stroke-width:0.8;\"/>\n     </g>\n     <g id=\"line2d_174\">\n      <g>\n       <use style=\"stroke:#000000;stroke-width:0.8;\" x=\"46.0125\" xlink:href=\"#mb182d7aa31\" y=\"583.19639\"/>\n      </g>\n     </g>\n     <g id=\"text_98\">\n      <!-- 5000 -->\n      <g transform=\"translate(13.5625 586.995609)scale(0.1 -0.1)\">\n       <use xlink:href=\"#DejaVuSans-53\"/>\n       <use x=\"63.623047\" xlink:href=\"#DejaVuSans-48\"/>\n       <use x=\"127.246094\" xlink:href=\"#DejaVuSans-48\"/>\n       <use x=\"190.869141\" xlink:href=\"#DejaVuSans-48\"/>\n      </g>\n     </g>\n    </g>\n    <g id=\"ytick_49\">\n     <g id=\"line2d_175\">\n      <path clip-path=\"url(#pa7c0b6d0b3)\" d=\"M 46.0125 546.114655 \nL 216.5125 546.114655 \n\" style=\"fill:none;stroke:#b0b0b0;stroke-linecap:square;stroke-width:0.8;\"/>\n     </g>\n     <g id=\"line2d_176\">\n      <g>\n       <use style=\"stroke:#000000;stroke-width:0.8;\" x=\"46.0125\" xlink:href=\"#mb182d7aa31\" y=\"546.114655\"/>\n      </g>\n     </g>\n     <g id=\"text_99\">\n      <!-- 10000 -->\n      <g transform=\"translate(7.2 549.913873)scale(0.1 -0.1)\">\n       <use xlink:href=\"#DejaVuSans-49\"/>\n       <use x=\"63.623047\" xlink:href=\"#DejaVuSans-48\"/>\n       <use x=\"127.246094\" xlink:href=\"#DejaVuSans-48\"/>\n       <use x=\"190.869141\" xlink:href=\"#DejaVuSans-48\"/>\n       <use x=\"254.492188\" xlink:href=\"#DejaVuSans-48\"/>\n      </g>\n     </g>\n    </g>\n    <g id=\"ytick_50\">\n     <g id=\"line2d_177\">\n      <path clip-path=\"url(#pa7c0b6d0b3)\" d=\"M 46.0125 509.03292 \nL 216.5125 509.03292 \n\" style=\"fill:none;stroke:#b0b0b0;stroke-linecap:square;stroke-width:0.8;\"/>\n     </g>\n     <g id=\"line2d_178\">\n      <g>\n       <use style=\"stroke:#000000;stroke-width:0.8;\" x=\"46.0125\" xlink:href=\"#mb182d7aa31\" y=\"509.03292\"/>\n      </g>\n     </g>\n     <g id=\"text_100\">\n      <!-- 15000 -->\n      <g transform=\"translate(7.2 512.832138)scale(0.1 -0.1)\">\n       <use xlink:href=\"#DejaVuSans-49\"/>\n       <use x=\"63.623047\" xlink:href=\"#DejaVuSans-53\"/>\n       <use x=\"127.246094\" xlink:href=\"#DejaVuSans-48\"/>\n       <use x=\"190.869141\" xlink:href=\"#DejaVuSans-48\"/>\n       <use x=\"254.492188\" xlink:href=\"#DejaVuSans-48\"/>\n      </g>\n     </g>\n    </g>\n   </g>\n   <g id=\"patch_148\">\n    <path d=\"M 46.0125 620.278125 \nL 46.0125 498.245472 \n\" style=\"fill:none;stroke:#000000;stroke-linecap:square;stroke-linejoin:miter;stroke-width:0.8;\"/>\n   </g>\n   <g id=\"patch_149\">\n    <path d=\"M 216.5125 620.278125 \nL 216.5125 498.245472 \n\" style=\"fill:none;stroke:#000000;stroke-linecap:square;stroke-linejoin:miter;stroke-width:0.8;\"/>\n   </g>\n   <g id=\"patch_150\">\n    <path d=\"M 46.0125 620.278125 \nL 216.5125 620.278125 \n\" style=\"fill:none;stroke:#000000;stroke-linecap:square;stroke-linejoin:miter;stroke-width:0.8;\"/>\n   </g>\n   <g id=\"patch_151\">\n    <path d=\"M 46.0125 498.245472 \nL 216.5125 498.245472 \n\" style=\"fill:none;stroke:#000000;stroke-linecap:square;stroke-linejoin:miter;stroke-width:0.8;\"/>\n   </g>\n   <g id=\"text_101\">\n    <!-- no_trades -->\n    <g transform=\"translate(101.666562 492.245472)scale(0.12 -0.12)\">\n     <use xlink:href=\"#DejaVuSans-110\"/>\n     <use x=\"63.378906\" xlink:href=\"#DejaVuSans-111\"/>\n     <use x=\"124.560547\" xlink:href=\"#DejaVuSans-95\"/>\n     <use x=\"174.560547\" xlink:href=\"#DejaVuSans-116\"/>\n     <use x=\"213.769531\" xlink:href=\"#DejaVuSans-114\"/>\n     <use x=\"254.882812\" xlink:href=\"#DejaVuSans-97\"/>\n     <use x=\"316.162109\" xlink:href=\"#DejaVuSans-100\"/>\n     <use x=\"379.638672\" xlink:href=\"#DejaVuSans-101\"/>\n     <use x=\"441.162109\" xlink:href=\"#DejaVuSans-115\"/>\n    </g>\n   </g>\n  </g>\n  <g id=\"axes_11\">\n   <g id=\"patch_152\">\n    <path d=\"M 267.6625 620.278125 \nL 438.1625 620.278125 \nL 438.1625 498.245472 \nL 267.6625 498.245472 \nz\n\" style=\"fill:#ffffff;\"/>\n   </g>\n   <g id=\"patch_153\">\n    <path clip-path=\"url(#p56e9b1e429)\" d=\"M 275.4125 620.278125 \nL 290.9125 620.278125 \nL 290.9125 602.833241 \nL 275.4125 602.833241 \nz\n\" style=\"fill:#1f77b4;stroke:#ff0000;stroke-linejoin:miter;stroke-width:1.2;\"/>\n   </g>\n   <g id=\"patch_154\">\n    <path clip-path=\"url(#p56e9b1e429)\" d=\"M 290.9125 620.278125 \nL 306.4125 620.278125 \nL 306.4125 580.962042 \nL 290.9125 580.962042 \nz\n\" style=\"fill:#1f77b4;stroke:#ff0000;stroke-linejoin:miter;stroke-width:1.2;\"/>\n   </g>\n   <g id=\"patch_155\">\n    <path clip-path=\"url(#p56e9b1e429)\" d=\"M 306.4125 620.278125 \nL 321.9125 620.278125 \nL 321.9125 578.700922 \nL 306.4125 578.700922 \nz\n\" style=\"fill:#1f77b4;stroke:#ff0000;stroke-linejoin:miter;stroke-width:1.2;\"/>\n   </g>\n   <g id=\"patch_156\">\n    <path clip-path=\"url(#p56e9b1e429)\" d=\"M 321.9125 620.278125 \nL 337.4125 620.278125 \nL 337.4125 571.944969 \nL 321.9125 571.944969 \nz\n\" style=\"fill:#1f77b4;stroke:#ff0000;stroke-linejoin:miter;stroke-width:1.2;\"/>\n   </g>\n   <g id=\"patch_157\">\n    <path clip-path=\"url(#p56e9b1e429)\" d=\"M 337.4125 620.278125 \nL 352.9125 620.278125 \nL 352.9125 542.440778 \nL 337.4125 542.440778 \nz\n\" style=\"fill:#1f77b4;stroke:#ff0000;stroke-linejoin:miter;stroke-width:1.2;\"/>\n   </g>\n   <g id=\"patch_158\">\n    <path clip-path=\"url(#p56e9b1e429)\" d=\"M 352.9125 620.278125 \nL 368.4125 620.278125 \nL 368.4125 530.573323 \nL 352.9125 530.573323 \nz\n\" style=\"fill:#1f77b4;stroke:#ff0000;stroke-linejoin:miter;stroke-width:1.2;\"/>\n   </g>\n   <g id=\"patch_159\">\n    <path clip-path=\"url(#p56e9b1e429)\" d=\"M 368.4125 620.278125 \nL 383.9125 620.278125 \nL 383.9125 524.735522 \nL 368.4125 524.735522 \nz\n\" style=\"fill:#1f77b4;stroke:#ff0000;stroke-linejoin:miter;stroke-width:1.2;\"/>\n   </g>\n   <g id=\"patch_160\">\n    <path clip-path=\"url(#p56e9b1e429)\" d=\"M 383.9125 620.278125 \nL 399.4125 620.278125 \nL 399.4125 514.443999 \nL 383.9125 514.443999 \nz\n\" style=\"fill:#1f77b4;stroke:#ff0000;stroke-linejoin:miter;stroke-width:1.2;\"/>\n   </g>\n   <g id=\"patch_161\">\n    <path clip-path=\"url(#p56e9b1e429)\" d=\"M 399.4125 620.278125 \nL 414.9125 620.278125 \nL 414.9125 504.056551 \nL 399.4125 504.056551 \nz\n\" style=\"fill:#1f77b4;stroke:#ff0000;stroke-linejoin:miter;stroke-width:1.2;\"/>\n   </g>\n   <g id=\"patch_162\">\n    <path clip-path=\"url(#p56e9b1e429)\" d=\"M 414.9125 620.278125 \nL 430.4125 620.278125 \nL 430.4125 550.279327 \nL 414.9125 550.279327 \nz\n\" style=\"fill:#1f77b4;stroke:#ff0000;stroke-linejoin:miter;stroke-width:1.2;\"/>\n   </g>\n   <g id=\"matplotlib.axis_21\">\n    <g id=\"xtick_40\">\n     <g id=\"line2d_179\">\n      <path clip-path=\"url(#p56e9b1e429)\" d=\"M 308.044079 620.278125 \nL 308.044079 498.245472 \n\" style=\"fill:none;stroke:#b0b0b0;stroke-linecap:square;stroke-width:0.8;\"/>\n     </g>\n     <g id=\"line2d_180\">\n      <g>\n       <use style=\"stroke:#000000;stroke-width:0.8;\" x=\"308.044079\" xlink:href=\"#ma82ef1ade4\" y=\"620.278125\"/>\n      </g>\n     </g>\n     <g id=\"text_102\">\n      <!-- 2005 -->\n      <g transform=\"translate(295.319079 634.876562)scale(0.1 -0.1)\">\n       <use xlink:href=\"#DejaVuSans-50\"/>\n       <use x=\"63.623047\" xlink:href=\"#DejaVuSans-48\"/>\n       <use x=\"127.246094\" xlink:href=\"#DejaVuSans-48\"/>\n       <use x=\"190.869141\" xlink:href=\"#DejaVuSans-53\"/>\n      </g>\n     </g>\n    </g>\n    <g id=\"xtick_41\">\n     <g id=\"line2d_181\">\n      <path clip-path=\"url(#p56e9b1e429)\" d=\"M 348.833553 620.278125 \nL 348.833553 498.245472 \n\" style=\"fill:none;stroke:#b0b0b0;stroke-linecap:square;stroke-width:0.8;\"/>\n     </g>\n     <g id=\"line2d_182\">\n      <g>\n       <use style=\"stroke:#000000;stroke-width:0.8;\" x=\"348.833553\" xlink:href=\"#ma82ef1ade4\" y=\"620.278125\"/>\n      </g>\n     </g>\n     <g id=\"text_103\">\n      <!-- 2010 -->\n      <g transform=\"translate(336.108553 634.876562)scale(0.1 -0.1)\">\n       <use xlink:href=\"#DejaVuSans-50\"/>\n       <use x=\"63.623047\" xlink:href=\"#DejaVuSans-48\"/>\n       <use x=\"127.246094\" xlink:href=\"#DejaVuSans-49\"/>\n       <use x=\"190.869141\" xlink:href=\"#DejaVuSans-48\"/>\n      </g>\n     </g>\n    </g>\n    <g id=\"xtick_42\">\n     <g id=\"line2d_183\">\n      <path clip-path=\"url(#p56e9b1e429)\" d=\"M 389.623026 620.278125 \nL 389.623026 498.245472 \n\" style=\"fill:none;stroke:#b0b0b0;stroke-linecap:square;stroke-width:0.8;\"/>\n     </g>\n     <g id=\"line2d_184\">\n      <g>\n       <use style=\"stroke:#000000;stroke-width:0.8;\" x=\"389.623026\" xlink:href=\"#ma82ef1ade4\" y=\"620.278125\"/>\n      </g>\n     </g>\n     <g id=\"text_104\">\n      <!-- 2015 -->\n      <g transform=\"translate(376.898026 634.876562)scale(0.1 -0.1)\">\n       <use xlink:href=\"#DejaVuSans-50\"/>\n       <use x=\"63.623047\" xlink:href=\"#DejaVuSans-48\"/>\n       <use x=\"127.246094\" xlink:href=\"#DejaVuSans-49\"/>\n       <use x=\"190.869141\" xlink:href=\"#DejaVuSans-53\"/>\n      </g>\n     </g>\n    </g>\n    <g id=\"xtick_43\">\n     <g id=\"line2d_185\">\n      <path clip-path=\"url(#p56e9b1e429)\" d=\"M 430.4125 620.278125 \nL 430.4125 498.245472 \n\" style=\"fill:none;stroke:#b0b0b0;stroke-linecap:square;stroke-width:0.8;\"/>\n     </g>\n     <g id=\"line2d_186\">\n      <g>\n       <use style=\"stroke:#000000;stroke-width:0.8;\" x=\"430.4125\" xlink:href=\"#ma82ef1ade4\" y=\"620.278125\"/>\n      </g>\n     </g>\n     <g id=\"text_105\">\n      <!-- 2020 -->\n      <g transform=\"translate(417.6875 634.876562)scale(0.1 -0.1)\">\n       <use xlink:href=\"#DejaVuSans-50\"/>\n       <use x=\"63.623047\" xlink:href=\"#DejaVuSans-48\"/>\n       <use x=\"127.246094\" xlink:href=\"#DejaVuSans-50\"/>\n       <use x=\"190.869141\" xlink:href=\"#DejaVuSans-48\"/>\n      </g>\n     </g>\n    </g>\n   </g>\n   <g id=\"matplotlib.axis_22\">\n    <g id=\"ytick_51\">\n     <g id=\"line2d_187\">\n      <path clip-path=\"url(#p56e9b1e429)\" d=\"M 267.6625 620.278125 \nL 438.1625 620.278125 \n\" style=\"fill:none;stroke:#b0b0b0;stroke-linecap:square;stroke-width:0.8;\"/>\n     </g>\n     <g id=\"line2d_188\">\n      <g>\n       <use style=\"stroke:#000000;stroke-width:0.8;\" x=\"267.6625\" xlink:href=\"#mb182d7aa31\" y=\"620.278125\"/>\n      </g>\n     </g>\n     <g id=\"text_106\">\n      <!-- 0 -->\n      <g transform=\"translate(254.3 624.077344)scale(0.1 -0.1)\">\n       <use xlink:href=\"#DejaVuSans-48\"/>\n      </g>\n     </g>\n    </g>\n    <g id=\"ytick_52\">\n     <g id=\"line2d_189\">\n      <path clip-path=\"url(#p56e9b1e429)\" d=\"M 267.6625 592.870608 \nL 438.1625 592.870608 \n\" style=\"fill:none;stroke:#b0b0b0;stroke-linecap:square;stroke-width:0.8;\"/>\n     </g>\n     <g id=\"line2d_190\">\n      <g>\n       <use style=\"stroke:#000000;stroke-width:0.8;\" x=\"267.6625\" xlink:href=\"#mb182d7aa31\" y=\"592.870608\"/>\n      </g>\n     </g>\n     <g id=\"text_107\">\n      <!-- 2000 -->\n      <g transform=\"translate(235.2125 596.669827)scale(0.1 -0.1)\">\n       <use xlink:href=\"#DejaVuSans-50\"/>\n       <use x=\"63.623047\" xlink:href=\"#DejaVuSans-48\"/>\n       <use x=\"127.246094\" xlink:href=\"#DejaVuSans-48\"/>\n       <use x=\"190.869141\" xlink:href=\"#DejaVuSans-48\"/>\n      </g>\n     </g>\n    </g>\n    <g id=\"ytick_53\">\n     <g id=\"line2d_191\">\n      <path clip-path=\"url(#p56e9b1e429)\" d=\"M 267.6625 565.463092 \nL 438.1625 565.463092 \n\" style=\"fill:none;stroke:#b0b0b0;stroke-linecap:square;stroke-width:0.8;\"/>\n     </g>\n     <g id=\"line2d_192\">\n      <g>\n       <use style=\"stroke:#000000;stroke-width:0.8;\" x=\"267.6625\" xlink:href=\"#mb182d7aa31\" y=\"565.463092\"/>\n      </g>\n     </g>\n     <g id=\"text_108\">\n      <!-- 4000 -->\n      <g transform=\"translate(235.2125 569.26231)scale(0.1 -0.1)\">\n       <use xlink:href=\"#DejaVuSans-52\"/>\n       <use x=\"63.623047\" xlink:href=\"#DejaVuSans-48\"/>\n       <use x=\"127.246094\" xlink:href=\"#DejaVuSans-48\"/>\n       <use x=\"190.869141\" xlink:href=\"#DejaVuSans-48\"/>\n      </g>\n     </g>\n    </g>\n    <g id=\"ytick_54\">\n     <g id=\"line2d_193\">\n      <path clip-path=\"url(#p56e9b1e429)\" d=\"M 267.6625 538.055575 \nL 438.1625 538.055575 \n\" style=\"fill:none;stroke:#b0b0b0;stroke-linecap:square;stroke-width:0.8;\"/>\n     </g>\n     <g id=\"line2d_194\">\n      <g>\n       <use style=\"stroke:#000000;stroke-width:0.8;\" x=\"267.6625\" xlink:href=\"#mb182d7aa31\" y=\"538.055575\"/>\n      </g>\n     </g>\n     <g id=\"text_109\">\n      <!-- 6000 -->\n      <defs>\n       <path d=\"M 33.015625 40.375 \nQ 26.375 40.375 22.484375 35.828125 \nQ 18.609375 31.296875 18.609375 23.390625 \nQ 18.609375 15.53125 22.484375 10.953125 \nQ 26.375 6.390625 33.015625 6.390625 \nQ 39.65625 6.390625 43.53125 10.953125 \nQ 47.40625 15.53125 47.40625 23.390625 \nQ 47.40625 31.296875 43.53125 35.828125 \nQ 39.65625 40.375 33.015625 40.375 \nz\nM 52.59375 71.296875 \nL 52.59375 62.3125 \nQ 48.875 64.0625 45.09375 64.984375 \nQ 41.3125 65.921875 37.59375 65.921875 \nQ 27.828125 65.921875 22.671875 59.328125 \nQ 17.53125 52.734375 16.796875 39.40625 \nQ 19.671875 43.65625 24.015625 45.921875 \nQ 28.375 48.1875 33.59375 48.1875 \nQ 44.578125 48.1875 50.953125 41.515625 \nQ 57.328125 34.859375 57.328125 23.390625 \nQ 57.328125 12.15625 50.6875 5.359375 \nQ 44.046875 -1.421875 33.015625 -1.421875 \nQ 20.359375 -1.421875 13.671875 8.265625 \nQ 6.984375 17.96875 6.984375 36.375 \nQ 6.984375 53.65625 15.1875 63.9375 \nQ 23.390625 74.21875 37.203125 74.21875 \nQ 40.921875 74.21875 44.703125 73.484375 \nQ 48.484375 72.75 52.59375 71.296875 \nz\n\" id=\"DejaVuSans-54\"/>\n      </defs>\n      <g transform=\"translate(235.2125 541.854794)scale(0.1 -0.1)\">\n       <use xlink:href=\"#DejaVuSans-54\"/>\n       <use x=\"63.623047\" xlink:href=\"#DejaVuSans-48\"/>\n       <use x=\"127.246094\" xlink:href=\"#DejaVuSans-48\"/>\n       <use x=\"190.869141\" xlink:href=\"#DejaVuSans-48\"/>\n      </g>\n     </g>\n    </g>\n    <g id=\"ytick_55\">\n     <g id=\"line2d_195\">\n      <path clip-path=\"url(#p56e9b1e429)\" d=\"M 267.6625 510.648058 \nL 438.1625 510.648058 \n\" style=\"fill:none;stroke:#b0b0b0;stroke-linecap:square;stroke-width:0.8;\"/>\n     </g>\n     <g id=\"line2d_196\">\n      <g>\n       <use style=\"stroke:#000000;stroke-width:0.8;\" x=\"267.6625\" xlink:href=\"#mb182d7aa31\" y=\"510.648058\"/>\n      </g>\n     </g>\n     <g id=\"text_110\">\n      <!-- 8000 -->\n      <g transform=\"translate(235.2125 514.447277)scale(0.1 -0.1)\">\n       <use xlink:href=\"#DejaVuSans-56\"/>\n       <use x=\"63.623047\" xlink:href=\"#DejaVuSans-48\"/>\n       <use x=\"127.246094\" xlink:href=\"#DejaVuSans-48\"/>\n       <use x=\"190.869141\" xlink:href=\"#DejaVuSans-48\"/>\n      </g>\n     </g>\n    </g>\n   </g>\n   <g id=\"patch_163\">\n    <path d=\"M 267.6625 620.278125 \nL 267.6625 498.245472 \n\" style=\"fill:none;stroke:#000000;stroke-linecap:square;stroke-linejoin:miter;stroke-width:0.8;\"/>\n   </g>\n   <g id=\"patch_164\">\n    <path d=\"M 438.1625 620.278125 \nL 438.1625 498.245472 \n\" style=\"fill:none;stroke:#000000;stroke-linecap:square;stroke-linejoin:miter;stroke-width:0.8;\"/>\n   </g>\n   <g id=\"patch_165\">\n    <path d=\"M 267.6625 620.278125 \nL 438.1625 620.278125 \n\" style=\"fill:none;stroke:#000000;stroke-linecap:square;stroke-linejoin:miter;stroke-width:0.8;\"/>\n   </g>\n   <g id=\"patch_166\">\n    <path d=\"M 267.6625 498.245472 \nL 438.1625 498.245472 \n\" style=\"fill:none;stroke:#000000;stroke-linecap:square;stroke-linejoin:miter;stroke-width:0.8;\"/>\n   </g>\n   <g id=\"text_111\">\n    <!-- year -->\n    <g transform=\"translate(339.525937 492.245472)scale(0.12 -0.12)\">\n     <use xlink:href=\"#DejaVuSans-121\"/>\n     <use x=\"59.179688\" xlink:href=\"#DejaVuSans-101\"/>\n     <use x=\"120.703125\" xlink:href=\"#DejaVuSans-97\"/>\n     <use x=\"181.982422\" xlink:href=\"#DejaVuSans-114\"/>\n    </g>\n   </g>\n  </g>\n  <g id=\"axes_12\">\n   <g id=\"patch_167\">\n    <path d=\"M 489.3125 620.278125 \nL 659.8125 620.278125 \nL 659.8125 498.245472 \nL 489.3125 498.245472 \nz\n\" style=\"fill:#ffffff;\"/>\n   </g>\n   <g id=\"patch_168\">\n    <path clip-path=\"url(#p164d3ea58f)\" d=\"M 497.0625 620.278125 \nL 512.5625 620.278125 \nL 512.5625 602.833241 \nL 497.0625 602.833241 \nz\n\" style=\"fill:#1f77b4;stroke:#ff0000;stroke-linejoin:miter;stroke-width:1.2;\"/>\n   </g>\n   <g id=\"patch_169\">\n    <path clip-path=\"url(#p164d3ea58f)\" d=\"M 512.5625 620.278125 \nL 528.0625 620.278125 \nL 528.0625 580.962042 \nL 512.5625 580.962042 \nz\n\" style=\"fill:#1f77b4;stroke:#ff0000;stroke-linejoin:miter;stroke-width:1.2;\"/>\n   </g>\n   <g id=\"patch_170\">\n    <path clip-path=\"url(#p164d3ea58f)\" d=\"M 528.0625 620.278125 \nL 543.5625 620.278125 \nL 543.5625 578.700922 \nL 528.0625 578.700922 \nz\n\" style=\"fill:#1f77b4;stroke:#ff0000;stroke-linejoin:miter;stroke-width:1.2;\"/>\n   </g>\n   <g id=\"patch_171\">\n    <path clip-path=\"url(#p164d3ea58f)\" d=\"M 543.5625 620.278125 \nL 559.0625 620.278125 \nL 559.0625 571.944969 \nL 543.5625 571.944969 \nz\n\" style=\"fill:#1f77b4;stroke:#ff0000;stroke-linejoin:miter;stroke-width:1.2;\"/>\n   </g>\n   <g id=\"patch_172\">\n    <path clip-path=\"url(#p164d3ea58f)\" d=\"M 559.0625 620.278125 \nL 574.5625 620.278125 \nL 574.5625 542.440778 \nL 559.0625 542.440778 \nz\n\" style=\"fill:#1f77b4;stroke:#ff0000;stroke-linejoin:miter;stroke-width:1.2;\"/>\n   </g>\n   <g id=\"patch_173\">\n    <path clip-path=\"url(#p164d3ea58f)\" d=\"M 574.5625 620.278125 \nL 590.0625 620.278125 \nL 590.0625 530.573323 \nL 574.5625 530.573323 \nz\n\" style=\"fill:#1f77b4;stroke:#ff0000;stroke-linejoin:miter;stroke-width:1.2;\"/>\n   </g>\n   <g id=\"patch_174\">\n    <path clip-path=\"url(#p164d3ea58f)\" d=\"M 590.0625 620.278125 \nL 605.5625 620.278125 \nL 605.5625 524.735522 \nL 590.0625 524.735522 \nz\n\" style=\"fill:#1f77b4;stroke:#ff0000;stroke-linejoin:miter;stroke-width:1.2;\"/>\n   </g>\n   <g id=\"patch_175\">\n    <path clip-path=\"url(#p164d3ea58f)\" d=\"M 605.5625 620.278125 \nL 621.0625 620.278125 \nL 621.0625 514.443999 \nL 605.5625 514.443999 \nz\n\" style=\"fill:#1f77b4;stroke:#ff0000;stroke-linejoin:miter;stroke-width:1.2;\"/>\n   </g>\n   <g id=\"patch_176\">\n    <path clip-path=\"url(#p164d3ea58f)\" d=\"M 621.0625 620.278125 \nL 636.5625 620.278125 \nL 636.5625 504.056551 \nL 621.0625 504.056551 \nz\n\" style=\"fill:#1f77b4;stroke:#ff0000;stroke-linejoin:miter;stroke-width:1.2;\"/>\n   </g>\n   <g id=\"patch_177\">\n    <path clip-path=\"url(#p164d3ea58f)\" d=\"M 636.5625 620.278125 \nL 652.0625 620.278125 \nL 652.0625 550.279327 \nL 636.5625 550.279327 \nz\n\" style=\"fill:#1f77b4;stroke:#ff0000;stroke-linejoin:miter;stroke-width:1.2;\"/>\n   </g>\n   <g id=\"matplotlib.axis_23\">\n    <g id=\"xtick_44\">\n     <g id=\"line2d_197\">\n      <path clip-path=\"url(#p164d3ea58f)\" d=\"M 529.694079 620.278125 \nL 529.694079 498.245472 \n\" style=\"fill:none;stroke:#b0b0b0;stroke-linecap:square;stroke-width:0.8;\"/>\n     </g>\n     <g id=\"line2d_198\">\n      <g>\n       <use style=\"stroke:#000000;stroke-width:0.8;\" x=\"529.694079\" xlink:href=\"#ma82ef1ade4\" y=\"620.278125\"/>\n      </g>\n     </g>\n     <g id=\"text_112\">\n      <!-- 2005 -->\n      <g transform=\"translate(516.969079 634.876562)scale(0.1 -0.1)\">\n       <use xlink:href=\"#DejaVuSans-50\"/>\n       <use x=\"63.623047\" xlink:href=\"#DejaVuSans-48\"/>\n       <use x=\"127.246094\" xlink:href=\"#DejaVuSans-48\"/>\n       <use x=\"190.869141\" xlink:href=\"#DejaVuSans-53\"/>\n      </g>\n     </g>\n    </g>\n    <g id=\"xtick_45\">\n     <g id=\"line2d_199\">\n      <path clip-path=\"url(#p164d3ea58f)\" d=\"M 570.483553 620.278125 \nL 570.483553 498.245472 \n\" style=\"fill:none;stroke:#b0b0b0;stroke-linecap:square;stroke-width:0.8;\"/>\n     </g>\n     <g id=\"line2d_200\">\n      <g>\n       <use style=\"stroke:#000000;stroke-width:0.8;\" x=\"570.483553\" xlink:href=\"#ma82ef1ade4\" y=\"620.278125\"/>\n      </g>\n     </g>\n     <g id=\"text_113\">\n      <!-- 2010 -->\n      <g transform=\"translate(557.758553 634.876562)scale(0.1 -0.1)\">\n       <use xlink:href=\"#DejaVuSans-50\"/>\n       <use x=\"63.623047\" xlink:href=\"#DejaVuSans-48\"/>\n       <use x=\"127.246094\" xlink:href=\"#DejaVuSans-49\"/>\n       <use x=\"190.869141\" xlink:href=\"#DejaVuSans-48\"/>\n      </g>\n     </g>\n    </g>\n    <g id=\"xtick_46\">\n     <g id=\"line2d_201\">\n      <path clip-path=\"url(#p164d3ea58f)\" d=\"M 611.273026 620.278125 \nL 611.273026 498.245472 \n\" style=\"fill:none;stroke:#b0b0b0;stroke-linecap:square;stroke-width:0.8;\"/>\n     </g>\n     <g id=\"line2d_202\">\n      <g>\n       <use style=\"stroke:#000000;stroke-width:0.8;\" x=\"611.273026\" xlink:href=\"#ma82ef1ade4\" y=\"620.278125\"/>\n      </g>\n     </g>\n     <g id=\"text_114\">\n      <!-- 2015 -->\n      <g transform=\"translate(598.548026 634.876562)scale(0.1 -0.1)\">\n       <use xlink:href=\"#DejaVuSans-50\"/>\n       <use x=\"63.623047\" xlink:href=\"#DejaVuSans-48\"/>\n       <use x=\"127.246094\" xlink:href=\"#DejaVuSans-49\"/>\n       <use x=\"190.869141\" xlink:href=\"#DejaVuSans-53\"/>\n      </g>\n     </g>\n    </g>\n    <g id=\"xtick_47\">\n     <g id=\"line2d_203\">\n      <path clip-path=\"url(#p164d3ea58f)\" d=\"M 652.0625 620.278125 \nL 652.0625 498.245472 \n\" style=\"fill:none;stroke:#b0b0b0;stroke-linecap:square;stroke-width:0.8;\"/>\n     </g>\n     <g id=\"line2d_204\">\n      <g>\n       <use style=\"stroke:#000000;stroke-width:0.8;\" x=\"652.0625\" xlink:href=\"#ma82ef1ade4\" y=\"620.278125\"/>\n      </g>\n     </g>\n     <g id=\"text_115\">\n      <!-- 2020 -->\n      <g transform=\"translate(639.3375 634.876562)scale(0.1 -0.1)\">\n       <use xlink:href=\"#DejaVuSans-50\"/>\n       <use x=\"63.623047\" xlink:href=\"#DejaVuSans-48\"/>\n       <use x=\"127.246094\" xlink:href=\"#DejaVuSans-50\"/>\n       <use x=\"190.869141\" xlink:href=\"#DejaVuSans-48\"/>\n      </g>\n     </g>\n    </g>\n   </g>\n   <g id=\"matplotlib.axis_24\">\n    <g id=\"ytick_56\">\n     <g id=\"line2d_205\">\n      <path clip-path=\"url(#p164d3ea58f)\" d=\"M 489.3125 620.278125 \nL 659.8125 620.278125 \n\" style=\"fill:none;stroke:#b0b0b0;stroke-linecap:square;stroke-width:0.8;\"/>\n     </g>\n     <g id=\"line2d_206\">\n      <g>\n       <use style=\"stroke:#000000;stroke-width:0.8;\" x=\"489.3125\" xlink:href=\"#mb182d7aa31\" y=\"620.278125\"/>\n      </g>\n     </g>\n     <g id=\"text_116\">\n      <!-- 0 -->\n      <g transform=\"translate(475.95 624.077344)scale(0.1 -0.1)\">\n       <use xlink:href=\"#DejaVuSans-48\"/>\n      </g>\n     </g>\n    </g>\n    <g id=\"ytick_57\">\n     <g id=\"line2d_207\">\n      <path clip-path=\"url(#p164d3ea58f)\" d=\"M 489.3125 592.870608 \nL 659.8125 592.870608 \n\" style=\"fill:none;stroke:#b0b0b0;stroke-linecap:square;stroke-width:0.8;\"/>\n     </g>\n     <g id=\"line2d_208\">\n      <g>\n       <use style=\"stroke:#000000;stroke-width:0.8;\" x=\"489.3125\" xlink:href=\"#mb182d7aa31\" y=\"592.870608\"/>\n      </g>\n     </g>\n     <g id=\"text_117\">\n      <!-- 2000 -->\n      <g transform=\"translate(456.8625 596.669827)scale(0.1 -0.1)\">\n       <use xlink:href=\"#DejaVuSans-50\"/>\n       <use x=\"63.623047\" xlink:href=\"#DejaVuSans-48\"/>\n       <use x=\"127.246094\" xlink:href=\"#DejaVuSans-48\"/>\n       <use x=\"190.869141\" xlink:href=\"#DejaVuSans-48\"/>\n      </g>\n     </g>\n    </g>\n    <g id=\"ytick_58\">\n     <g id=\"line2d_209\">\n      <path clip-path=\"url(#p164d3ea58f)\" d=\"M 489.3125 565.463092 \nL 659.8125 565.463092 \n\" style=\"fill:none;stroke:#b0b0b0;stroke-linecap:square;stroke-width:0.8;\"/>\n     </g>\n     <g id=\"line2d_210\">\n      <g>\n       <use style=\"stroke:#000000;stroke-width:0.8;\" x=\"489.3125\" xlink:href=\"#mb182d7aa31\" y=\"565.463092\"/>\n      </g>\n     </g>\n     <g id=\"text_118\">\n      <!-- 4000 -->\n      <g transform=\"translate(456.8625 569.26231)scale(0.1 -0.1)\">\n       <use xlink:href=\"#DejaVuSans-52\"/>\n       <use x=\"63.623047\" xlink:href=\"#DejaVuSans-48\"/>\n       <use x=\"127.246094\" xlink:href=\"#DejaVuSans-48\"/>\n       <use x=\"190.869141\" xlink:href=\"#DejaVuSans-48\"/>\n      </g>\n     </g>\n    </g>\n    <g id=\"ytick_59\">\n     <g id=\"line2d_211\">\n      <path clip-path=\"url(#p164d3ea58f)\" d=\"M 489.3125 538.055575 \nL 659.8125 538.055575 \n\" style=\"fill:none;stroke:#b0b0b0;stroke-linecap:square;stroke-width:0.8;\"/>\n     </g>\n     <g id=\"line2d_212\">\n      <g>\n       <use style=\"stroke:#000000;stroke-width:0.8;\" x=\"489.3125\" xlink:href=\"#mb182d7aa31\" y=\"538.055575\"/>\n      </g>\n     </g>\n     <g id=\"text_119\">\n      <!-- 6000 -->\n      <g transform=\"translate(456.8625 541.854794)scale(0.1 -0.1)\">\n       <use xlink:href=\"#DejaVuSans-54\"/>\n       <use x=\"63.623047\" xlink:href=\"#DejaVuSans-48\"/>\n       <use x=\"127.246094\" xlink:href=\"#DejaVuSans-48\"/>\n       <use x=\"190.869141\" xlink:href=\"#DejaVuSans-48\"/>\n      </g>\n     </g>\n    </g>\n    <g id=\"ytick_60\">\n     <g id=\"line2d_213\">\n      <path clip-path=\"url(#p164d3ea58f)\" d=\"M 489.3125 510.648058 \nL 659.8125 510.648058 \n\" style=\"fill:none;stroke:#b0b0b0;stroke-linecap:square;stroke-width:0.8;\"/>\n     </g>\n     <g id=\"line2d_214\">\n      <g>\n       <use style=\"stroke:#000000;stroke-width:0.8;\" x=\"489.3125\" xlink:href=\"#mb182d7aa31\" y=\"510.648058\"/>\n      </g>\n     </g>\n     <g id=\"text_120\">\n      <!-- 8000 -->\n      <g transform=\"translate(456.8625 514.447277)scale(0.1 -0.1)\">\n       <use xlink:href=\"#DejaVuSans-56\"/>\n       <use x=\"63.623047\" xlink:href=\"#DejaVuSans-48\"/>\n       <use x=\"127.246094\" xlink:href=\"#DejaVuSans-48\"/>\n       <use x=\"190.869141\" xlink:href=\"#DejaVuSans-48\"/>\n      </g>\n     </g>\n    </g>\n   </g>\n   <g id=\"patch_178\">\n    <path d=\"M 489.3125 620.278125 \nL 489.3125 498.245472 \n\" style=\"fill:none;stroke:#000000;stroke-linecap:square;stroke-linejoin:miter;stroke-width:0.8;\"/>\n   </g>\n   <g id=\"patch_179\">\n    <path d=\"M 659.8125 620.278125 \nL 659.8125 498.245472 \n\" style=\"fill:none;stroke:#000000;stroke-linecap:square;stroke-linejoin:miter;stroke-width:0.8;\"/>\n   </g>\n   <g id=\"patch_180\">\n    <path d=\"M 489.3125 620.278125 \nL 659.8125 620.278125 \n\" style=\"fill:none;stroke:#000000;stroke-linecap:square;stroke-linejoin:miter;stroke-width:0.8;\"/>\n   </g>\n   <g id=\"patch_181\">\n    <path d=\"M 489.3125 498.245472 \nL 659.8125 498.245472 \n\" style=\"fill:none;stroke:#000000;stroke-linecap:square;stroke-linejoin:miter;stroke-width:0.8;\"/>\n   </g>\n   <g id=\"text_121\">\n    <!-- year_date -->\n    <g transform=\"translate(544.645937 492.245472)scale(0.12 -0.12)\">\n     <use xlink:href=\"#DejaVuSans-121\"/>\n     <use x=\"59.179688\" xlink:href=\"#DejaVuSans-101\"/>\n     <use x=\"120.703125\" xlink:href=\"#DejaVuSans-97\"/>\n     <use x=\"181.982422\" xlink:href=\"#DejaVuSans-114\"/>\n     <use x=\"223.095703\" xlink:href=\"#DejaVuSans-95\"/>\n     <use x=\"273.095703\" xlink:href=\"#DejaVuSans-100\"/>\n     <use x=\"336.572266\" xlink:href=\"#DejaVuSans-97\"/>\n     <use x=\"397.851562\" xlink:href=\"#DejaVuSans-116\"/>\n     <use x=\"437.060547\" xlink:href=\"#DejaVuSans-101\"/>\n    </g>\n   </g>\n  </g>\n </g>\n <defs>\n  <clipPath id=\"pf70ef4d990\">\n   <rect height=\"122.032653\" width=\"170.5\" x=\"46.0125\" y=\"22.318125\"/>\n  </clipPath>\n  <clipPath id=\"p8a3c6ec4df\">\n   <rect height=\"122.032653\" width=\"170.5\" x=\"267.6625\" y=\"22.318125\"/>\n  </clipPath>\n  <clipPath id=\"pb5afd76399\">\n   <rect height=\"122.032653\" width=\"170.5\" x=\"489.3125\" y=\"22.318125\"/>\n  </clipPath>\n  <clipPath id=\"pc2abc929ea\">\n   <rect height=\"122.032653\" width=\"170.5\" x=\"46.0125\" y=\"180.960574\"/>\n  </clipPath>\n  <clipPath id=\"p51f310dffd\">\n   <rect height=\"122.032653\" width=\"170.5\" x=\"267.6625\" y=\"180.960574\"/>\n  </clipPath>\n  <clipPath id=\"pa775b19396\">\n   <rect height=\"122.032653\" width=\"170.5\" x=\"489.3125\" y=\"180.960574\"/>\n  </clipPath>\n  <clipPath id=\"p575f168a4e\">\n   <rect height=\"122.032653\" width=\"170.5\" x=\"46.0125\" y=\"339.603023\"/>\n  </clipPath>\n  <clipPath id=\"paab5c34752\">\n   <rect height=\"122.032653\" width=\"170.5\" x=\"267.6625\" y=\"339.603023\"/>\n  </clipPath>\n  <clipPath id=\"pf8da0059a2\">\n   <rect height=\"122.032653\" width=\"170.5\" x=\"489.3125\" y=\"339.603023\"/>\n  </clipPath>\n  <clipPath id=\"pa7c0b6d0b3\">\n   <rect height=\"122.032653\" width=\"170.5\" x=\"46.0125\" y=\"498.245472\"/>\n  </clipPath>\n  <clipPath id=\"p56e9b1e429\">\n   <rect height=\"122.032653\" width=\"170.5\" x=\"267.6625\" y=\"498.245472\"/>\n  </clipPath>\n  <clipPath id=\"p164d3ea58f\">\n   <rect height=\"122.032653\" width=\"170.5\" x=\"489.3125\" y=\"498.245472\"/>\n  </clipPath>\n </defs>\n</svg>\n"
          },
          "metadata": {
            "needs_background": "light"
          }
        }
      ]
    },
    {
      "cell_type": "markdown",
      "metadata": {
        "id": "c_QZNrh7ruIo"
      },
      "source": [
        "."
      ],
      "id": "c_QZNrh7ruIo"
    },
    {
      "cell_type": "markdown",
      "metadata": {
        "id": "2HQ-N7MLtoPI"
      },
      "source": [
        "# **Step 5: Data Visualization**"
      ],
      "id": "2HQ-N7MLtoPI"
    },
    {
      "cell_type": "markdown",
      "metadata": {
        "id": "JjAz5oYVoOKT"
      },
      "source": [
        "### using Graphical representation to visualize the unique values present in the data. "
      ],
      "id": "JjAz5oYVoOKT"
    },
    {
      "cell_type": "code",
      "metadata": {
        "colab": {
          "base_uri": "https://localhost:8080/",
          "height": 0
        },
        "id": "jX9Weqvxu6Qv",
        "outputId": "5fb5ea73-1eef-4390-ab9b-79d22462e5d9"
      },
      "source": [
        "plt.figure(figsize=(10, 6))\n",
        "plt.title('count of saudi stock exchange per year')\n",
        "sns.countplot(stock_train['year_date']);"
      ],
      "id": "jX9Weqvxu6Qv",
      "execution_count": 35,
      "outputs": [
        {
          "output_type": "stream",
          "name": "stderr",
          "text": [
            "/usr/local/lib/python3.7/dist-packages/seaborn/_decorators.py:43: FutureWarning: Pass the following variable as a keyword arg: x. From version 0.12, the only valid positional argument will be `data`, and passing other arguments without an explicit keyword will result in an error or misinterpretation.\n",
            "  FutureWarning\n"
          ]
        },
        {
          "output_type": "display_data",
          "data": {
            "text/plain": [
              "<Figure size 720x432 with 1 Axes>"
            ],
            "image/svg+xml": "<?xml version=\"1.0\" encoding=\"utf-8\" standalone=\"no\"?>\n<!DOCTYPE svg PUBLIC \"-//W3C//DTD SVG 1.1//EN\"\n  \"http://www.w3.org/Graphics/SVG/1.1/DTD/svg11.dtd\">\n<!-- Created with matplotlib (https://matplotlib.org/) -->\n<svg height=\"386.3125pt\" version=\"1.1\" viewBox=\"0 0 618.528125 386.3125\" width=\"618.528125pt\" xmlns=\"http://www.w3.org/2000/svg\" xmlns:xlink=\"http://www.w3.org/1999/xlink\">\n <defs>\n  <style type=\"text/css\">\n*{stroke-linecap:butt;stroke-linejoin:round;}\n  </style>\n </defs>\n <g id=\"figure_1\">\n  <g id=\"patch_1\">\n   <path d=\"M 0 386.3125 \nL 618.528125 386.3125 \nL 618.528125 0 \nL 0 0 \nz\n\" style=\"fill:none;\"/>\n  </g>\n  <g id=\"axes_1\">\n   <g id=\"patch_2\">\n    <path d=\"M 53.328125 348.478125 \nL 611.328125 348.478125 \nL 611.328125 22.318125 \nL 53.328125 22.318125 \nz\n\" style=\"fill:#ffffff;\"/>\n   </g>\n   <g id=\"patch_3\">\n    <path clip-path=\"url(#p9623d6d338)\" d=\"M 56.118125 348.478125 \nL 78.438125 348.478125 \nL 78.438125 348.18666 \nL 56.118125 348.18666 \nz\n\" style=\"fill:#ea96a3;\"/>\n   </g>\n   <g id=\"patch_4\">\n    <path clip-path=\"url(#p9623d6d338)\" d=\"M 84.018125 348.478125 \nL 106.338125 348.478125 \nL 106.338125 256.010929 \nL 84.018125 256.010929 \nz\n\" style=\"fill:#e79683;\"/>\n   </g>\n   <g id=\"patch_5\">\n    <path clip-path=\"url(#p9623d6d338)\" d=\"M 111.918125 348.478125 \nL 134.238125 348.478125 \nL 134.238125 248.14138 \nL 111.918125 248.14138 \nz\n\" style=\"fill:#d7944e;\"/>\n   </g>\n   <g id=\"patch_6\">\n    <path clip-path=\"url(#p9623d6d338)\" d=\"M 139.818125 348.478125 \nL 162.138125 348.478125 \nL 162.138125 239.761768 \nL 139.818125 239.761768 \nz\n\" style=\"fill:#bf9a4a;\"/>\n   </g>\n   <g id=\"patch_7\">\n    <path clip-path=\"url(#p9623d6d338)\" d=\"M 167.718125 348.478125 \nL 190.038125 348.478125 \nL 190.038125 239.54317 \nL 167.718125 239.54317 \nz\n\" style=\"fill:#ab9e47;\"/>\n   </g>\n   <g id=\"patch_8\">\n    <path clip-path=\"url(#p9623d6d338)\" d=\"M 195.618125 348.478125 \nL 217.938125 348.478125 \nL 217.938125 236.337057 \nL 195.618125 236.337057 \nz\n\" style=\"fill:#98a246;\"/>\n   </g>\n   <g id=\"patch_9\">\n    <path clip-path=\"url(#p9623d6d338)\" d=\"M 223.518125 348.478125 \nL 245.838125 348.478125 \nL 245.838125 240.053233 \nL 223.518125 240.053233 \nz\n\" style=\"fill:#7fa946;\"/>\n   </g>\n   <g id=\"patch_10\">\n    <path clip-path=\"url(#p9623d6d338)\" d=\"M 251.418125 348.478125 \nL 273.738125 348.478125 \nL 273.738125 199.903962 \nL 251.418125 199.903962 \nz\n\" style=\"fill:#48b052;\"/>\n   </g>\n   <g id=\"patch_11\">\n    <path clip-path=\"url(#p9623d6d338)\" d=\"M 279.318125 348.478125 \nL 301.638125 348.478125 \nL 301.638125 152.322339 \nL 279.318125 152.322339 \nz\n\" style=\"fill:#49ae83;\"/>\n   </g>\n   <g id=\"patch_12\">\n    <path clip-path=\"url(#p9623d6d338)\" d=\"M 307.218125 348.478125 \nL 329.538125 348.478125 \nL 329.538125 130.753947 \nL 307.218125 130.753947 \nz\n\" style=\"fill:#4aad96;\"/>\n   </g>\n   <g id=\"patch_13\">\n    <path clip-path=\"url(#p9623d6d338)\" d=\"M 335.118125 348.478125 \nL 357.438125 348.478125 \nL 357.438125 125.507581 \nL 335.118125 125.507581 \nz\n\" style=\"fill:#4baba4;\"/>\n   </g>\n   <g id=\"patch_14\">\n    <path clip-path=\"url(#p9623d6d338)\" d=\"M 363.018125 348.478125 \nL 385.338125 348.478125 \nL 385.338125 94.466584 \nL 363.018125 94.466584 \nz\n\" style=\"fill:#4dabb2;\"/>\n   </g>\n   <g id=\"patch_15\">\n    <path clip-path=\"url(#p9623d6d338)\" d=\"M 390.918125 348.478125 \nL 413.238125 348.478125 \nL 413.238125 95.486711 \nL 390.918125 95.486711 \nz\n\" style=\"fill:#50acc3;\"/>\n   </g>\n   <g id=\"patch_16\">\n    <path clip-path=\"url(#p9623d6d338)\" d=\"M 418.818125 348.478125 \nL 441.138125 348.478125 \nL 441.138125 93.446457 \nL 418.818125 93.446457 \nz\n\" style=\"fill:#56addb;\"/>\n   </g>\n   <g id=\"patch_17\">\n    <path clip-path=\"url(#p9623d6d338)\" d=\"M 446.718125 348.478125 \nL 469.038125 348.478125 \nL 469.038125 80.549141 \nL 446.718125 80.549141 \nz\n\" style=\"fill:#94aee8;\"/>\n   </g>\n   <g id=\"patch_18\">\n    <path clip-path=\"url(#p9623d6d338)\" d=\"M 474.618125 348.478125 \nL 496.938125 348.478125 \nL 496.938125 53.661517 \nL 474.618125 53.661517 \nz\n\" style=\"fill:#b6a8eb;\"/>\n   </g>\n   <g id=\"patch_19\">\n    <path clip-path=\"url(#p9623d6d338)\" d=\"M 502.518125 348.478125 \nL 524.838125 348.478125 \nL 524.838125 38.796814 \nL 502.518125 38.796814 \nz\n\" style=\"fill:#ce9be9;\"/>\n   </g>\n   <g id=\"patch_20\">\n    <path clip-path=\"url(#p9623d6d338)\" d=\"M 530.418125 348.478125 \nL 552.738125 348.478125 \nL 552.738125 40.181272 \nL 530.418125 40.181272 \nz\n\" style=\"fill:#e689e4;\"/>\n   </g>\n   <g id=\"patch_21\">\n    <path clip-path=\"url(#p9623d6d338)\" d=\"M 558.318125 348.478125 \nL 580.638125 348.478125 \nL 580.638125 37.849554 \nL 558.318125 37.849554 \nz\n\" style=\"fill:#e88fcc;\"/>\n   </g>\n   <g id=\"patch_22\">\n    <path clip-path=\"url(#p9623d6d338)\" d=\"M 586.218125 348.478125 \nL 608.538125 348.478125 \nL 608.538125 286.906194 \nL 586.218125 286.906194 \nz\n\" style=\"fill:#e993b9;\"/>\n   </g>\n   <g id=\"matplotlib.axis_1\">\n    <g id=\"xtick_1\">\n     <g id=\"line2d_1\">\n      <defs>\n       <path d=\"M 0 0 \nL 0 3.5 \n\" id=\"m03b6ea331c\" style=\"stroke:#000000;stroke-width:0.8;\"/>\n      </defs>\n      <g>\n       <use style=\"stroke:#000000;stroke-width:0.8;\" x=\"67.278125\" xlink:href=\"#m03b6ea331c\" y=\"348.478125\"/>\n      </g>\n     </g>\n     <g id=\"text_1\">\n      <!-- 2001 -->\n      <defs>\n       <path d=\"M 19.1875 8.296875 \nL 53.609375 8.296875 \nL 53.609375 0 \nL 7.328125 0 \nL 7.328125 8.296875 \nQ 12.9375 14.109375 22.625 23.890625 \nQ 32.328125 33.6875 34.8125 36.53125 \nQ 39.546875 41.84375 41.421875 45.53125 \nQ 43.3125 49.21875 43.3125 52.78125 \nQ 43.3125 58.59375 39.234375 62.25 \nQ 35.15625 65.921875 28.609375 65.921875 \nQ 23.96875 65.921875 18.8125 64.3125 \nQ 13.671875 62.703125 7.8125 59.421875 \nL 7.8125 69.390625 \nQ 13.765625 71.78125 18.9375 73 \nQ 24.125 74.21875 28.421875 74.21875 \nQ 39.75 74.21875 46.484375 68.546875 \nQ 53.21875 62.890625 53.21875 53.421875 \nQ 53.21875 48.921875 51.53125 44.890625 \nQ 49.859375 40.875 45.40625 35.40625 \nQ 44.1875 33.984375 37.640625 27.21875 \nQ 31.109375 20.453125 19.1875 8.296875 \nz\n\" id=\"DejaVuSans-50\"/>\n       <path d=\"M 31.78125 66.40625 \nQ 24.171875 66.40625 20.328125 58.90625 \nQ 16.5 51.421875 16.5 36.375 \nQ 16.5 21.390625 20.328125 13.890625 \nQ 24.171875 6.390625 31.78125 6.390625 \nQ 39.453125 6.390625 43.28125 13.890625 \nQ 47.125 21.390625 47.125 36.375 \nQ 47.125 51.421875 43.28125 58.90625 \nQ 39.453125 66.40625 31.78125 66.40625 \nz\nM 31.78125 74.21875 \nQ 44.046875 74.21875 50.515625 64.515625 \nQ 56.984375 54.828125 56.984375 36.375 \nQ 56.984375 17.96875 50.515625 8.265625 \nQ 44.046875 -1.421875 31.78125 -1.421875 \nQ 19.53125 -1.421875 13.0625 8.265625 \nQ 6.59375 17.96875 6.59375 36.375 \nQ 6.59375 54.828125 13.0625 64.515625 \nQ 19.53125 74.21875 31.78125 74.21875 \nz\n\" id=\"DejaVuSans-48\"/>\n       <path d=\"M 12.40625 8.296875 \nL 28.515625 8.296875 \nL 28.515625 63.921875 \nL 10.984375 60.40625 \nL 10.984375 69.390625 \nL 28.421875 72.90625 \nL 38.28125 72.90625 \nL 38.28125 8.296875 \nL 54.390625 8.296875 \nL 54.390625 0 \nL 12.40625 0 \nz\n\" id=\"DejaVuSans-49\"/>\n      </defs>\n      <g transform=\"translate(54.553125 363.076562)scale(0.1 -0.1)\">\n       <use xlink:href=\"#DejaVuSans-50\"/>\n       <use x=\"63.623047\" xlink:href=\"#DejaVuSans-48\"/>\n       <use x=\"127.246094\" xlink:href=\"#DejaVuSans-48\"/>\n       <use x=\"190.869141\" xlink:href=\"#DejaVuSans-49\"/>\n      </g>\n     </g>\n    </g>\n    <g id=\"xtick_2\">\n     <g id=\"line2d_2\">\n      <g>\n       <use style=\"stroke:#000000;stroke-width:0.8;\" x=\"95.178125\" xlink:href=\"#m03b6ea331c\" y=\"348.478125\"/>\n      </g>\n     </g>\n     <g id=\"text_2\">\n      <!-- 2002 -->\n      <g transform=\"translate(82.453125 363.076562)scale(0.1 -0.1)\">\n       <use xlink:href=\"#DejaVuSans-50\"/>\n       <use x=\"63.623047\" xlink:href=\"#DejaVuSans-48\"/>\n       <use x=\"127.246094\" xlink:href=\"#DejaVuSans-48\"/>\n       <use x=\"190.869141\" xlink:href=\"#DejaVuSans-50\"/>\n      </g>\n     </g>\n    </g>\n    <g id=\"xtick_3\">\n     <g id=\"line2d_3\">\n      <g>\n       <use style=\"stroke:#000000;stroke-width:0.8;\" x=\"123.078125\" xlink:href=\"#m03b6ea331c\" y=\"348.478125\"/>\n      </g>\n     </g>\n     <g id=\"text_3\">\n      <!-- 2003 -->\n      <defs>\n       <path d=\"M 40.578125 39.3125 \nQ 47.65625 37.796875 51.625 33 \nQ 55.609375 28.21875 55.609375 21.1875 \nQ 55.609375 10.40625 48.1875 4.484375 \nQ 40.765625 -1.421875 27.09375 -1.421875 \nQ 22.515625 -1.421875 17.65625 -0.515625 \nQ 12.796875 0.390625 7.625 2.203125 \nL 7.625 11.71875 \nQ 11.71875 9.328125 16.59375 8.109375 \nQ 21.484375 6.890625 26.8125 6.890625 \nQ 36.078125 6.890625 40.9375 10.546875 \nQ 45.796875 14.203125 45.796875 21.1875 \nQ 45.796875 27.640625 41.28125 31.265625 \nQ 36.765625 34.90625 28.71875 34.90625 \nL 20.21875 34.90625 \nL 20.21875 43.015625 \nL 29.109375 43.015625 \nQ 36.375 43.015625 40.234375 45.921875 \nQ 44.09375 48.828125 44.09375 54.296875 \nQ 44.09375 59.90625 40.109375 62.90625 \nQ 36.140625 65.921875 28.71875 65.921875 \nQ 24.65625 65.921875 20.015625 65.03125 \nQ 15.375 64.15625 9.8125 62.3125 \nL 9.8125 71.09375 \nQ 15.4375 72.65625 20.34375 73.4375 \nQ 25.25 74.21875 29.59375 74.21875 \nQ 40.828125 74.21875 47.359375 69.109375 \nQ 53.90625 64.015625 53.90625 55.328125 \nQ 53.90625 49.265625 50.4375 45.09375 \nQ 46.96875 40.921875 40.578125 39.3125 \nz\n\" id=\"DejaVuSans-51\"/>\n      </defs>\n      <g transform=\"translate(110.353125 363.076562)scale(0.1 -0.1)\">\n       <use xlink:href=\"#DejaVuSans-50\"/>\n       <use x=\"63.623047\" xlink:href=\"#DejaVuSans-48\"/>\n       <use x=\"127.246094\" xlink:href=\"#DejaVuSans-48\"/>\n       <use x=\"190.869141\" xlink:href=\"#DejaVuSans-51\"/>\n      </g>\n     </g>\n    </g>\n    <g id=\"xtick_4\">\n     <g id=\"line2d_4\">\n      <g>\n       <use style=\"stroke:#000000;stroke-width:0.8;\" x=\"150.978125\" xlink:href=\"#m03b6ea331c\" y=\"348.478125\"/>\n      </g>\n     </g>\n     <g id=\"text_4\">\n      <!-- 2004 -->\n      <defs>\n       <path d=\"M 37.796875 64.3125 \nL 12.890625 25.390625 \nL 37.796875 25.390625 \nz\nM 35.203125 72.90625 \nL 47.609375 72.90625 \nL 47.609375 25.390625 \nL 58.015625 25.390625 \nL 58.015625 17.1875 \nL 47.609375 17.1875 \nL 47.609375 0 \nL 37.796875 0 \nL 37.796875 17.1875 \nL 4.890625 17.1875 \nL 4.890625 26.703125 \nz\n\" id=\"DejaVuSans-52\"/>\n      </defs>\n      <g transform=\"translate(138.253125 363.076562)scale(0.1 -0.1)\">\n       <use xlink:href=\"#DejaVuSans-50\"/>\n       <use x=\"63.623047\" xlink:href=\"#DejaVuSans-48\"/>\n       <use x=\"127.246094\" xlink:href=\"#DejaVuSans-48\"/>\n       <use x=\"190.869141\" xlink:href=\"#DejaVuSans-52\"/>\n      </g>\n     </g>\n    </g>\n    <g id=\"xtick_5\">\n     <g id=\"line2d_5\">\n      <g>\n       <use style=\"stroke:#000000;stroke-width:0.8;\" x=\"178.878125\" xlink:href=\"#m03b6ea331c\" y=\"348.478125\"/>\n      </g>\n     </g>\n     <g id=\"text_5\">\n      <!-- 2005 -->\n      <defs>\n       <path d=\"M 10.796875 72.90625 \nL 49.515625 72.90625 \nL 49.515625 64.59375 \nL 19.828125 64.59375 \nL 19.828125 46.734375 \nQ 21.96875 47.46875 24.109375 47.828125 \nQ 26.265625 48.1875 28.421875 48.1875 \nQ 40.625 48.1875 47.75 41.5 \nQ 54.890625 34.8125 54.890625 23.390625 \nQ 54.890625 11.625 47.5625 5.09375 \nQ 40.234375 -1.421875 26.90625 -1.421875 \nQ 22.3125 -1.421875 17.546875 -0.640625 \nQ 12.796875 0.140625 7.71875 1.703125 \nL 7.71875 11.625 \nQ 12.109375 9.234375 16.796875 8.0625 \nQ 21.484375 6.890625 26.703125 6.890625 \nQ 35.15625 6.890625 40.078125 11.328125 \nQ 45.015625 15.765625 45.015625 23.390625 \nQ 45.015625 31 40.078125 35.4375 \nQ 35.15625 39.890625 26.703125 39.890625 \nQ 22.75 39.890625 18.8125 39.015625 \nQ 14.890625 38.140625 10.796875 36.28125 \nz\n\" id=\"DejaVuSans-53\"/>\n      </defs>\n      <g transform=\"translate(166.153125 363.076562)scale(0.1 -0.1)\">\n       <use xlink:href=\"#DejaVuSans-50\"/>\n       <use x=\"63.623047\" xlink:href=\"#DejaVuSans-48\"/>\n       <use x=\"127.246094\" xlink:href=\"#DejaVuSans-48\"/>\n       <use x=\"190.869141\" xlink:href=\"#DejaVuSans-53\"/>\n      </g>\n     </g>\n    </g>\n    <g id=\"xtick_6\">\n     <g id=\"line2d_6\">\n      <g>\n       <use style=\"stroke:#000000;stroke-width:0.8;\" x=\"206.778125\" xlink:href=\"#m03b6ea331c\" y=\"348.478125\"/>\n      </g>\n     </g>\n     <g id=\"text_6\">\n      <!-- 2006 -->\n      <defs>\n       <path d=\"M 33.015625 40.375 \nQ 26.375 40.375 22.484375 35.828125 \nQ 18.609375 31.296875 18.609375 23.390625 \nQ 18.609375 15.53125 22.484375 10.953125 \nQ 26.375 6.390625 33.015625 6.390625 \nQ 39.65625 6.390625 43.53125 10.953125 \nQ 47.40625 15.53125 47.40625 23.390625 \nQ 47.40625 31.296875 43.53125 35.828125 \nQ 39.65625 40.375 33.015625 40.375 \nz\nM 52.59375 71.296875 \nL 52.59375 62.3125 \nQ 48.875 64.0625 45.09375 64.984375 \nQ 41.3125 65.921875 37.59375 65.921875 \nQ 27.828125 65.921875 22.671875 59.328125 \nQ 17.53125 52.734375 16.796875 39.40625 \nQ 19.671875 43.65625 24.015625 45.921875 \nQ 28.375 48.1875 33.59375 48.1875 \nQ 44.578125 48.1875 50.953125 41.515625 \nQ 57.328125 34.859375 57.328125 23.390625 \nQ 57.328125 12.15625 50.6875 5.359375 \nQ 44.046875 -1.421875 33.015625 -1.421875 \nQ 20.359375 -1.421875 13.671875 8.265625 \nQ 6.984375 17.96875 6.984375 36.375 \nQ 6.984375 53.65625 15.1875 63.9375 \nQ 23.390625 74.21875 37.203125 74.21875 \nQ 40.921875 74.21875 44.703125 73.484375 \nQ 48.484375 72.75 52.59375 71.296875 \nz\n\" id=\"DejaVuSans-54\"/>\n      </defs>\n      <g transform=\"translate(194.053125 363.076562)scale(0.1 -0.1)\">\n       <use xlink:href=\"#DejaVuSans-50\"/>\n       <use x=\"63.623047\" xlink:href=\"#DejaVuSans-48\"/>\n       <use x=\"127.246094\" xlink:href=\"#DejaVuSans-48\"/>\n       <use x=\"190.869141\" xlink:href=\"#DejaVuSans-54\"/>\n      </g>\n     </g>\n    </g>\n    <g id=\"xtick_7\">\n     <g id=\"line2d_7\">\n      <g>\n       <use style=\"stroke:#000000;stroke-width:0.8;\" x=\"234.678125\" xlink:href=\"#m03b6ea331c\" y=\"348.478125\"/>\n      </g>\n     </g>\n     <g id=\"text_7\">\n      <!-- 2007 -->\n      <defs>\n       <path d=\"M 8.203125 72.90625 \nL 55.078125 72.90625 \nL 55.078125 68.703125 \nL 28.609375 0 \nL 18.3125 0 \nL 43.21875 64.59375 \nL 8.203125 64.59375 \nz\n\" id=\"DejaVuSans-55\"/>\n      </defs>\n      <g transform=\"translate(221.953125 363.076562)scale(0.1 -0.1)\">\n       <use xlink:href=\"#DejaVuSans-50\"/>\n       <use x=\"63.623047\" xlink:href=\"#DejaVuSans-48\"/>\n       <use x=\"127.246094\" xlink:href=\"#DejaVuSans-48\"/>\n       <use x=\"190.869141\" xlink:href=\"#DejaVuSans-55\"/>\n      </g>\n     </g>\n    </g>\n    <g id=\"xtick_8\">\n     <g id=\"line2d_8\">\n      <g>\n       <use style=\"stroke:#000000;stroke-width:0.8;\" x=\"262.578125\" xlink:href=\"#m03b6ea331c\" y=\"348.478125\"/>\n      </g>\n     </g>\n     <g id=\"text_8\">\n      <!-- 2008 -->\n      <defs>\n       <path d=\"M 31.78125 34.625 \nQ 24.75 34.625 20.71875 30.859375 \nQ 16.703125 27.09375 16.703125 20.515625 \nQ 16.703125 13.921875 20.71875 10.15625 \nQ 24.75 6.390625 31.78125 6.390625 \nQ 38.8125 6.390625 42.859375 10.171875 \nQ 46.921875 13.96875 46.921875 20.515625 \nQ 46.921875 27.09375 42.890625 30.859375 \nQ 38.875 34.625 31.78125 34.625 \nz\nM 21.921875 38.8125 \nQ 15.578125 40.375 12.03125 44.71875 \nQ 8.5 49.078125 8.5 55.328125 \nQ 8.5 64.0625 14.71875 69.140625 \nQ 20.953125 74.21875 31.78125 74.21875 \nQ 42.671875 74.21875 48.875 69.140625 \nQ 55.078125 64.0625 55.078125 55.328125 \nQ 55.078125 49.078125 51.53125 44.71875 \nQ 48 40.375 41.703125 38.8125 \nQ 48.828125 37.15625 52.796875 32.3125 \nQ 56.78125 27.484375 56.78125 20.515625 \nQ 56.78125 9.90625 50.3125 4.234375 \nQ 43.84375 -1.421875 31.78125 -1.421875 \nQ 19.734375 -1.421875 13.25 4.234375 \nQ 6.78125 9.90625 6.78125 20.515625 \nQ 6.78125 27.484375 10.78125 32.3125 \nQ 14.796875 37.15625 21.921875 38.8125 \nz\nM 18.3125 54.390625 \nQ 18.3125 48.734375 21.84375 45.5625 \nQ 25.390625 42.390625 31.78125 42.390625 \nQ 38.140625 42.390625 41.71875 45.5625 \nQ 45.3125 48.734375 45.3125 54.390625 \nQ 45.3125 60.0625 41.71875 63.234375 \nQ 38.140625 66.40625 31.78125 66.40625 \nQ 25.390625 66.40625 21.84375 63.234375 \nQ 18.3125 60.0625 18.3125 54.390625 \nz\n\" id=\"DejaVuSans-56\"/>\n      </defs>\n      <g transform=\"translate(249.853125 363.076562)scale(0.1 -0.1)\">\n       <use xlink:href=\"#DejaVuSans-50\"/>\n       <use x=\"63.623047\" xlink:href=\"#DejaVuSans-48\"/>\n       <use x=\"127.246094\" xlink:href=\"#DejaVuSans-48\"/>\n       <use x=\"190.869141\" xlink:href=\"#DejaVuSans-56\"/>\n      </g>\n     </g>\n    </g>\n    <g id=\"xtick_9\">\n     <g id=\"line2d_9\">\n      <g>\n       <use style=\"stroke:#000000;stroke-width:0.8;\" x=\"290.478125\" xlink:href=\"#m03b6ea331c\" y=\"348.478125\"/>\n      </g>\n     </g>\n     <g id=\"text_9\">\n      <!-- 2009 -->\n      <defs>\n       <path d=\"M 10.984375 1.515625 \nL 10.984375 10.5 \nQ 14.703125 8.734375 18.5 7.8125 \nQ 22.3125 6.890625 25.984375 6.890625 \nQ 35.75 6.890625 40.890625 13.453125 \nQ 46.046875 20.015625 46.78125 33.40625 \nQ 43.953125 29.203125 39.59375 26.953125 \nQ 35.25 24.703125 29.984375 24.703125 \nQ 19.046875 24.703125 12.671875 31.3125 \nQ 6.296875 37.9375 6.296875 49.421875 \nQ 6.296875 60.640625 12.9375 67.421875 \nQ 19.578125 74.21875 30.609375 74.21875 \nQ 43.265625 74.21875 49.921875 64.515625 \nQ 56.59375 54.828125 56.59375 36.375 \nQ 56.59375 19.140625 48.40625 8.859375 \nQ 40.234375 -1.421875 26.421875 -1.421875 \nQ 22.703125 -1.421875 18.890625 -0.6875 \nQ 15.09375 0.046875 10.984375 1.515625 \nz\nM 30.609375 32.421875 \nQ 37.25 32.421875 41.125 36.953125 \nQ 45.015625 41.5 45.015625 49.421875 \nQ 45.015625 57.28125 41.125 61.84375 \nQ 37.25 66.40625 30.609375 66.40625 \nQ 23.96875 66.40625 20.09375 61.84375 \nQ 16.21875 57.28125 16.21875 49.421875 \nQ 16.21875 41.5 20.09375 36.953125 \nQ 23.96875 32.421875 30.609375 32.421875 \nz\n\" id=\"DejaVuSans-57\"/>\n      </defs>\n      <g transform=\"translate(277.753125 363.076562)scale(0.1 -0.1)\">\n       <use xlink:href=\"#DejaVuSans-50\"/>\n       <use x=\"63.623047\" xlink:href=\"#DejaVuSans-48\"/>\n       <use x=\"127.246094\" xlink:href=\"#DejaVuSans-48\"/>\n       <use x=\"190.869141\" xlink:href=\"#DejaVuSans-57\"/>\n      </g>\n     </g>\n    </g>\n    <g id=\"xtick_10\">\n     <g id=\"line2d_10\">\n      <g>\n       <use style=\"stroke:#000000;stroke-width:0.8;\" x=\"318.378125\" xlink:href=\"#m03b6ea331c\" y=\"348.478125\"/>\n      </g>\n     </g>\n     <g id=\"text_10\">\n      <!-- 2010 -->\n      <g transform=\"translate(305.653125 363.076562)scale(0.1 -0.1)\">\n       <use xlink:href=\"#DejaVuSans-50\"/>\n       <use x=\"63.623047\" xlink:href=\"#DejaVuSans-48\"/>\n       <use x=\"127.246094\" xlink:href=\"#DejaVuSans-49\"/>\n       <use x=\"190.869141\" xlink:href=\"#DejaVuSans-48\"/>\n      </g>\n     </g>\n    </g>\n    <g id=\"xtick_11\">\n     <g id=\"line2d_11\">\n      <g>\n       <use style=\"stroke:#000000;stroke-width:0.8;\" x=\"346.278125\" xlink:href=\"#m03b6ea331c\" y=\"348.478125\"/>\n      </g>\n     </g>\n     <g id=\"text_11\">\n      <!-- 2011 -->\n      <g transform=\"translate(333.553125 363.076562)scale(0.1 -0.1)\">\n       <use xlink:href=\"#DejaVuSans-50\"/>\n       <use x=\"63.623047\" xlink:href=\"#DejaVuSans-48\"/>\n       <use x=\"127.246094\" xlink:href=\"#DejaVuSans-49\"/>\n       <use x=\"190.869141\" xlink:href=\"#DejaVuSans-49\"/>\n      </g>\n     </g>\n    </g>\n    <g id=\"xtick_12\">\n     <g id=\"line2d_12\">\n      <g>\n       <use style=\"stroke:#000000;stroke-width:0.8;\" x=\"374.178125\" xlink:href=\"#m03b6ea331c\" y=\"348.478125\"/>\n      </g>\n     </g>\n     <g id=\"text_12\">\n      <!-- 2012 -->\n      <g transform=\"translate(361.453125 363.076562)scale(0.1 -0.1)\">\n       <use xlink:href=\"#DejaVuSans-50\"/>\n       <use x=\"63.623047\" xlink:href=\"#DejaVuSans-48\"/>\n       <use x=\"127.246094\" xlink:href=\"#DejaVuSans-49\"/>\n       <use x=\"190.869141\" xlink:href=\"#DejaVuSans-50\"/>\n      </g>\n     </g>\n    </g>\n    <g id=\"xtick_13\">\n     <g id=\"line2d_13\">\n      <g>\n       <use style=\"stroke:#000000;stroke-width:0.8;\" x=\"402.078125\" xlink:href=\"#m03b6ea331c\" y=\"348.478125\"/>\n      </g>\n     </g>\n     <g id=\"text_13\">\n      <!-- 2013 -->\n      <g transform=\"translate(389.353125 363.076562)scale(0.1 -0.1)\">\n       <use xlink:href=\"#DejaVuSans-50\"/>\n       <use x=\"63.623047\" xlink:href=\"#DejaVuSans-48\"/>\n       <use x=\"127.246094\" xlink:href=\"#DejaVuSans-49\"/>\n       <use x=\"190.869141\" xlink:href=\"#DejaVuSans-51\"/>\n      </g>\n     </g>\n    </g>\n    <g id=\"xtick_14\">\n     <g id=\"line2d_14\">\n      <g>\n       <use style=\"stroke:#000000;stroke-width:0.8;\" x=\"429.978125\" xlink:href=\"#m03b6ea331c\" y=\"348.478125\"/>\n      </g>\n     </g>\n     <g id=\"text_14\">\n      <!-- 2014 -->\n      <g transform=\"translate(417.253125 363.076562)scale(0.1 -0.1)\">\n       <use xlink:href=\"#DejaVuSans-50\"/>\n       <use x=\"63.623047\" xlink:href=\"#DejaVuSans-48\"/>\n       <use x=\"127.246094\" xlink:href=\"#DejaVuSans-49\"/>\n       <use x=\"190.869141\" xlink:href=\"#DejaVuSans-52\"/>\n      </g>\n     </g>\n    </g>\n    <g id=\"xtick_15\">\n     <g id=\"line2d_15\">\n      <g>\n       <use style=\"stroke:#000000;stroke-width:0.8;\" x=\"457.878125\" xlink:href=\"#m03b6ea331c\" y=\"348.478125\"/>\n      </g>\n     </g>\n     <g id=\"text_15\">\n      <!-- 2015 -->\n      <g transform=\"translate(445.153125 363.076562)scale(0.1 -0.1)\">\n       <use xlink:href=\"#DejaVuSans-50\"/>\n       <use x=\"63.623047\" xlink:href=\"#DejaVuSans-48\"/>\n       <use x=\"127.246094\" xlink:href=\"#DejaVuSans-49\"/>\n       <use x=\"190.869141\" xlink:href=\"#DejaVuSans-53\"/>\n      </g>\n     </g>\n    </g>\n    <g id=\"xtick_16\">\n     <g id=\"line2d_16\">\n      <g>\n       <use style=\"stroke:#000000;stroke-width:0.8;\" x=\"485.778125\" xlink:href=\"#m03b6ea331c\" y=\"348.478125\"/>\n      </g>\n     </g>\n     <g id=\"text_16\">\n      <!-- 2016 -->\n      <g transform=\"translate(473.053125 363.076562)scale(0.1 -0.1)\">\n       <use xlink:href=\"#DejaVuSans-50\"/>\n       <use x=\"63.623047\" xlink:href=\"#DejaVuSans-48\"/>\n       <use x=\"127.246094\" xlink:href=\"#DejaVuSans-49\"/>\n       <use x=\"190.869141\" xlink:href=\"#DejaVuSans-54\"/>\n      </g>\n     </g>\n    </g>\n    <g id=\"xtick_17\">\n     <g id=\"line2d_17\">\n      <g>\n       <use style=\"stroke:#000000;stroke-width:0.8;\" x=\"513.678125\" xlink:href=\"#m03b6ea331c\" y=\"348.478125\"/>\n      </g>\n     </g>\n     <g id=\"text_17\">\n      <!-- 2017 -->\n      <g transform=\"translate(500.953125 363.076562)scale(0.1 -0.1)\">\n       <use xlink:href=\"#DejaVuSans-50\"/>\n       <use x=\"63.623047\" xlink:href=\"#DejaVuSans-48\"/>\n       <use x=\"127.246094\" xlink:href=\"#DejaVuSans-49\"/>\n       <use x=\"190.869141\" xlink:href=\"#DejaVuSans-55\"/>\n      </g>\n     </g>\n    </g>\n    <g id=\"xtick_18\">\n     <g id=\"line2d_18\">\n      <g>\n       <use style=\"stroke:#000000;stroke-width:0.8;\" x=\"541.578125\" xlink:href=\"#m03b6ea331c\" y=\"348.478125\"/>\n      </g>\n     </g>\n     <g id=\"text_18\">\n      <!-- 2018 -->\n      <g transform=\"translate(528.853125 363.076562)scale(0.1 -0.1)\">\n       <use xlink:href=\"#DejaVuSans-50\"/>\n       <use x=\"63.623047\" xlink:href=\"#DejaVuSans-48\"/>\n       <use x=\"127.246094\" xlink:href=\"#DejaVuSans-49\"/>\n       <use x=\"190.869141\" xlink:href=\"#DejaVuSans-56\"/>\n      </g>\n     </g>\n    </g>\n    <g id=\"xtick_19\">\n     <g id=\"line2d_19\">\n      <g>\n       <use style=\"stroke:#000000;stroke-width:0.8;\" x=\"569.478125\" xlink:href=\"#m03b6ea331c\" y=\"348.478125\"/>\n      </g>\n     </g>\n     <g id=\"text_19\">\n      <!-- 2019 -->\n      <g transform=\"translate(556.753125 363.076562)scale(0.1 -0.1)\">\n       <use xlink:href=\"#DejaVuSans-50\"/>\n       <use x=\"63.623047\" xlink:href=\"#DejaVuSans-48\"/>\n       <use x=\"127.246094\" xlink:href=\"#DejaVuSans-49\"/>\n       <use x=\"190.869141\" xlink:href=\"#DejaVuSans-57\"/>\n      </g>\n     </g>\n    </g>\n    <g id=\"xtick_20\">\n     <g id=\"line2d_20\">\n      <g>\n       <use style=\"stroke:#000000;stroke-width:0.8;\" x=\"597.378125\" xlink:href=\"#m03b6ea331c\" y=\"348.478125\"/>\n      </g>\n     </g>\n     <g id=\"text_20\">\n      <!-- 2020 -->\n      <g transform=\"translate(584.653125 363.076562)scale(0.1 -0.1)\">\n       <use xlink:href=\"#DejaVuSans-50\"/>\n       <use x=\"63.623047\" xlink:href=\"#DejaVuSans-48\"/>\n       <use x=\"127.246094\" xlink:href=\"#DejaVuSans-50\"/>\n       <use x=\"190.869141\" xlink:href=\"#DejaVuSans-48\"/>\n      </g>\n     </g>\n    </g>\n    <g id=\"text_21\">\n     <!-- year_date -->\n     <defs>\n      <path d=\"M 32.171875 -5.078125 \nQ 28.375 -14.84375 24.75 -17.8125 \nQ 21.140625 -20.796875 15.09375 -20.796875 \nL 7.90625 -20.796875 \nL 7.90625 -13.28125 \nL 13.1875 -13.28125 \nQ 16.890625 -13.28125 18.9375 -11.515625 \nQ 21 -9.765625 23.484375 -3.21875 \nL 25.09375 0.875 \nL 2.984375 54.6875 \nL 12.5 54.6875 \nL 29.59375 11.921875 \nL 46.6875 54.6875 \nL 56.203125 54.6875 \nz\n\" id=\"DejaVuSans-121\"/>\n      <path d=\"M 56.203125 29.59375 \nL 56.203125 25.203125 \nL 14.890625 25.203125 \nQ 15.484375 15.921875 20.484375 11.0625 \nQ 25.484375 6.203125 34.421875 6.203125 \nQ 39.59375 6.203125 44.453125 7.46875 \nQ 49.3125 8.734375 54.109375 11.28125 \nL 54.109375 2.78125 \nQ 49.265625 0.734375 44.1875 -0.34375 \nQ 39.109375 -1.421875 33.890625 -1.421875 \nQ 20.796875 -1.421875 13.15625 6.1875 \nQ 5.515625 13.8125 5.515625 26.8125 \nQ 5.515625 40.234375 12.765625 48.109375 \nQ 20.015625 56 32.328125 56 \nQ 43.359375 56 49.78125 48.890625 \nQ 56.203125 41.796875 56.203125 29.59375 \nz\nM 47.21875 32.234375 \nQ 47.125 39.59375 43.09375 43.984375 \nQ 39.0625 48.390625 32.421875 48.390625 \nQ 24.90625 48.390625 20.390625 44.140625 \nQ 15.875 39.890625 15.1875 32.171875 \nz\n\" id=\"DejaVuSans-101\"/>\n      <path d=\"M 34.28125 27.484375 \nQ 23.390625 27.484375 19.1875 25 \nQ 14.984375 22.515625 14.984375 16.5 \nQ 14.984375 11.71875 18.140625 8.90625 \nQ 21.296875 6.109375 26.703125 6.109375 \nQ 34.1875 6.109375 38.703125 11.40625 \nQ 43.21875 16.703125 43.21875 25.484375 \nL 43.21875 27.484375 \nz\nM 52.203125 31.203125 \nL 52.203125 0 \nL 43.21875 0 \nL 43.21875 8.296875 \nQ 40.140625 3.328125 35.546875 0.953125 \nQ 30.953125 -1.421875 24.3125 -1.421875 \nQ 15.921875 -1.421875 10.953125 3.296875 \nQ 6 8.015625 6 15.921875 \nQ 6 25.140625 12.171875 29.828125 \nQ 18.359375 34.515625 30.609375 34.515625 \nL 43.21875 34.515625 \nL 43.21875 35.40625 \nQ 43.21875 41.609375 39.140625 45 \nQ 35.0625 48.390625 27.6875 48.390625 \nQ 23 48.390625 18.546875 47.265625 \nQ 14.109375 46.140625 10.015625 43.890625 \nL 10.015625 52.203125 \nQ 14.9375 54.109375 19.578125 55.046875 \nQ 24.21875 56 28.609375 56 \nQ 40.484375 56 46.34375 49.84375 \nQ 52.203125 43.703125 52.203125 31.203125 \nz\n\" id=\"DejaVuSans-97\"/>\n      <path d=\"M 41.109375 46.296875 \nQ 39.59375 47.171875 37.8125 47.578125 \nQ 36.03125 48 33.890625 48 \nQ 26.265625 48 22.1875 43.046875 \nQ 18.109375 38.09375 18.109375 28.8125 \nL 18.109375 0 \nL 9.078125 0 \nL 9.078125 54.6875 \nL 18.109375 54.6875 \nL 18.109375 46.1875 \nQ 20.953125 51.171875 25.484375 53.578125 \nQ 30.03125 56 36.53125 56 \nQ 37.453125 56 38.578125 55.875 \nQ 39.703125 55.765625 41.0625 55.515625 \nz\n\" id=\"DejaVuSans-114\"/>\n      <path d=\"M 50.984375 -16.609375 \nL 50.984375 -23.578125 \nL -0.984375 -23.578125 \nL -0.984375 -16.609375 \nz\n\" id=\"DejaVuSans-95\"/>\n      <path d=\"M 45.40625 46.390625 \nL 45.40625 75.984375 \nL 54.390625 75.984375 \nL 54.390625 0 \nL 45.40625 0 \nL 45.40625 8.203125 \nQ 42.578125 3.328125 38.25 0.953125 \nQ 33.9375 -1.421875 27.875 -1.421875 \nQ 17.96875 -1.421875 11.734375 6.484375 \nQ 5.515625 14.40625 5.515625 27.296875 \nQ 5.515625 40.1875 11.734375 48.09375 \nQ 17.96875 56 27.875 56 \nQ 33.9375 56 38.25 53.625 \nQ 42.578125 51.265625 45.40625 46.390625 \nz\nM 14.796875 27.296875 \nQ 14.796875 17.390625 18.875 11.75 \nQ 22.953125 6.109375 30.078125 6.109375 \nQ 37.203125 6.109375 41.296875 11.75 \nQ 45.40625 17.390625 45.40625 27.296875 \nQ 45.40625 37.203125 41.296875 42.84375 \nQ 37.203125 48.484375 30.078125 48.484375 \nQ 22.953125 48.484375 18.875 42.84375 \nQ 14.796875 37.203125 14.796875 27.296875 \nz\n\" id=\"DejaVuSans-100\"/>\n      <path d=\"M 18.3125 70.21875 \nL 18.3125 54.6875 \nL 36.8125 54.6875 \nL 36.8125 47.703125 \nL 18.3125 47.703125 \nL 18.3125 18.015625 \nQ 18.3125 11.328125 20.140625 9.421875 \nQ 21.96875 7.515625 27.59375 7.515625 \nL 36.8125 7.515625 \nL 36.8125 0 \nL 27.59375 0 \nQ 17.1875 0 13.234375 3.875 \nQ 9.28125 7.765625 9.28125 18.015625 \nL 9.28125 47.703125 \nL 2.6875 47.703125 \nL 2.6875 54.6875 \nL 9.28125 54.6875 \nL 9.28125 70.21875 \nz\n\" id=\"DejaVuSans-116\"/>\n     </defs>\n     <g transform=\"translate(307.397656 376.754687)scale(0.1 -0.1)\">\n      <use xlink:href=\"#DejaVuSans-121\"/>\n      <use x=\"59.179688\" xlink:href=\"#DejaVuSans-101\"/>\n      <use x=\"120.703125\" xlink:href=\"#DejaVuSans-97\"/>\n      <use x=\"181.982422\" xlink:href=\"#DejaVuSans-114\"/>\n      <use x=\"223.095703\" xlink:href=\"#DejaVuSans-95\"/>\n      <use x=\"273.095703\" xlink:href=\"#DejaVuSans-100\"/>\n      <use x=\"336.572266\" xlink:href=\"#DejaVuSans-97\"/>\n      <use x=\"397.851562\" xlink:href=\"#DejaVuSans-116\"/>\n      <use x=\"437.060547\" xlink:href=\"#DejaVuSans-101\"/>\n     </g>\n    </g>\n   </g>\n   <g id=\"matplotlib.axis_2\">\n    <g id=\"ytick_1\">\n     <g id=\"line2d_21\">\n      <defs>\n       <path d=\"M 0 0 \nL -3.5 0 \n\" id=\"m3b8d8c2e29\" style=\"stroke:#000000;stroke-width:0.8;\"/>\n      </defs>\n      <g>\n       <use style=\"stroke:#000000;stroke-width:0.8;\" x=\"53.328125\" xlink:href=\"#m3b8d8c2e29\" y=\"348.478125\"/>\n      </g>\n     </g>\n     <g id=\"text_22\">\n      <!-- 0 -->\n      <g transform=\"translate(39.965625 352.277344)scale(0.1 -0.1)\">\n       <use xlink:href=\"#DejaVuSans-48\"/>\n      </g>\n     </g>\n    </g>\n    <g id=\"ytick_2\">\n     <g id=\"line2d_22\">\n      <g>\n       <use style=\"stroke:#000000;stroke-width:0.8;\" x=\"53.328125\" xlink:href=\"#m3b8d8c2e29\" y=\"312.04503\"/>\n      </g>\n     </g>\n     <g id=\"text_23\">\n      <!-- 500 -->\n      <g transform=\"translate(27.240625 315.844248)scale(0.1 -0.1)\">\n       <use xlink:href=\"#DejaVuSans-53\"/>\n       <use x=\"63.623047\" xlink:href=\"#DejaVuSans-48\"/>\n       <use x=\"127.246094\" xlink:href=\"#DejaVuSans-48\"/>\n      </g>\n     </g>\n    </g>\n    <g id=\"ytick_3\">\n     <g id=\"line2d_23\">\n      <g>\n       <use style=\"stroke:#000000;stroke-width:0.8;\" x=\"53.328125\" xlink:href=\"#m3b8d8c2e29\" y=\"275.611934\"/>\n      </g>\n     </g>\n     <g id=\"text_24\">\n      <!-- 1000 -->\n      <g transform=\"translate(20.878125 279.411153)scale(0.1 -0.1)\">\n       <use xlink:href=\"#DejaVuSans-49\"/>\n       <use x=\"63.623047\" xlink:href=\"#DejaVuSans-48\"/>\n       <use x=\"127.246094\" xlink:href=\"#DejaVuSans-48\"/>\n       <use x=\"190.869141\" xlink:href=\"#DejaVuSans-48\"/>\n      </g>\n     </g>\n    </g>\n    <g id=\"ytick_4\">\n     <g id=\"line2d_24\">\n      <g>\n       <use style=\"stroke:#000000;stroke-width:0.8;\" x=\"53.328125\" xlink:href=\"#m3b8d8c2e29\" y=\"239.178839\"/>\n      </g>\n     </g>\n     <g id=\"text_25\">\n      <!-- 1500 -->\n      <g transform=\"translate(20.878125 242.978058)scale(0.1 -0.1)\">\n       <use xlink:href=\"#DejaVuSans-49\"/>\n       <use x=\"63.623047\" xlink:href=\"#DejaVuSans-53\"/>\n       <use x=\"127.246094\" xlink:href=\"#DejaVuSans-48\"/>\n       <use x=\"190.869141\" xlink:href=\"#DejaVuSans-48\"/>\n      </g>\n     </g>\n    </g>\n    <g id=\"ytick_5\">\n     <g id=\"line2d_25\">\n      <g>\n       <use style=\"stroke:#000000;stroke-width:0.8;\" x=\"53.328125\" xlink:href=\"#m3b8d8c2e29\" y=\"202.745743\"/>\n      </g>\n     </g>\n     <g id=\"text_26\">\n      <!-- 2000 -->\n      <g transform=\"translate(20.878125 206.544962)scale(0.1 -0.1)\">\n       <use xlink:href=\"#DejaVuSans-50\"/>\n       <use x=\"63.623047\" xlink:href=\"#DejaVuSans-48\"/>\n       <use x=\"127.246094\" xlink:href=\"#DejaVuSans-48\"/>\n       <use x=\"190.869141\" xlink:href=\"#DejaVuSans-48\"/>\n      </g>\n     </g>\n    </g>\n    <g id=\"ytick_6\">\n     <g id=\"line2d_26\">\n      <g>\n       <use style=\"stroke:#000000;stroke-width:0.8;\" x=\"53.328125\" xlink:href=\"#m3b8d8c2e29\" y=\"166.312648\"/>\n      </g>\n     </g>\n     <g id=\"text_27\">\n      <!-- 2500 -->\n      <g transform=\"translate(20.878125 170.111867)scale(0.1 -0.1)\">\n       <use xlink:href=\"#DejaVuSans-50\"/>\n       <use x=\"63.623047\" xlink:href=\"#DejaVuSans-53\"/>\n       <use x=\"127.246094\" xlink:href=\"#DejaVuSans-48\"/>\n       <use x=\"190.869141\" xlink:href=\"#DejaVuSans-48\"/>\n      </g>\n     </g>\n    </g>\n    <g id=\"ytick_7\">\n     <g id=\"line2d_27\">\n      <g>\n       <use style=\"stroke:#000000;stroke-width:0.8;\" x=\"53.328125\" xlink:href=\"#m3b8d8c2e29\" y=\"129.879553\"/>\n      </g>\n     </g>\n     <g id=\"text_28\">\n      <!-- 3000 -->\n      <g transform=\"translate(20.878125 133.678771)scale(0.1 -0.1)\">\n       <use xlink:href=\"#DejaVuSans-51\"/>\n       <use x=\"63.623047\" xlink:href=\"#DejaVuSans-48\"/>\n       <use x=\"127.246094\" xlink:href=\"#DejaVuSans-48\"/>\n       <use x=\"190.869141\" xlink:href=\"#DejaVuSans-48\"/>\n      </g>\n     </g>\n    </g>\n    <g id=\"ytick_8\">\n     <g id=\"line2d_28\">\n      <g>\n       <use style=\"stroke:#000000;stroke-width:0.8;\" x=\"53.328125\" xlink:href=\"#m3b8d8c2e29\" y=\"93.446457\"/>\n      </g>\n     </g>\n     <g id=\"text_29\">\n      <!-- 3500 -->\n      <g transform=\"translate(20.878125 97.245676)scale(0.1 -0.1)\">\n       <use xlink:href=\"#DejaVuSans-51\"/>\n       <use x=\"63.623047\" xlink:href=\"#DejaVuSans-53\"/>\n       <use x=\"127.246094\" xlink:href=\"#DejaVuSans-48\"/>\n       <use x=\"190.869141\" xlink:href=\"#DejaVuSans-48\"/>\n      </g>\n     </g>\n    </g>\n    <g id=\"ytick_9\">\n     <g id=\"line2d_29\">\n      <g>\n       <use style=\"stroke:#000000;stroke-width:0.8;\" x=\"53.328125\" xlink:href=\"#m3b8d8c2e29\" y=\"57.013362\"/>\n      </g>\n     </g>\n     <g id=\"text_30\">\n      <!-- 4000 -->\n      <g transform=\"translate(20.878125 60.812581)scale(0.1 -0.1)\">\n       <use xlink:href=\"#DejaVuSans-52\"/>\n       <use x=\"63.623047\" xlink:href=\"#DejaVuSans-48\"/>\n       <use x=\"127.246094\" xlink:href=\"#DejaVuSans-48\"/>\n       <use x=\"190.869141\" xlink:href=\"#DejaVuSans-48\"/>\n      </g>\n     </g>\n    </g>\n    <g id=\"text_31\">\n     <!-- count -->\n     <defs>\n      <path d=\"M 48.78125 52.59375 \nL 48.78125 44.1875 \nQ 44.96875 46.296875 41.140625 47.34375 \nQ 37.3125 48.390625 33.40625 48.390625 \nQ 24.65625 48.390625 19.8125 42.84375 \nQ 14.984375 37.3125 14.984375 27.296875 \nQ 14.984375 17.28125 19.8125 11.734375 \nQ 24.65625 6.203125 33.40625 6.203125 \nQ 37.3125 6.203125 41.140625 7.25 \nQ 44.96875 8.296875 48.78125 10.40625 \nL 48.78125 2.09375 \nQ 45.015625 0.34375 40.984375 -0.53125 \nQ 36.96875 -1.421875 32.421875 -1.421875 \nQ 20.0625 -1.421875 12.78125 6.34375 \nQ 5.515625 14.109375 5.515625 27.296875 \nQ 5.515625 40.671875 12.859375 48.328125 \nQ 20.21875 56 33.015625 56 \nQ 37.15625 56 41.109375 55.140625 \nQ 45.0625 54.296875 48.78125 52.59375 \nz\n\" id=\"DejaVuSans-99\"/>\n      <path d=\"M 30.609375 48.390625 \nQ 23.390625 48.390625 19.1875 42.75 \nQ 14.984375 37.109375 14.984375 27.296875 \nQ 14.984375 17.484375 19.15625 11.84375 \nQ 23.34375 6.203125 30.609375 6.203125 \nQ 37.796875 6.203125 41.984375 11.859375 \nQ 46.1875 17.53125 46.1875 27.296875 \nQ 46.1875 37.015625 41.984375 42.703125 \nQ 37.796875 48.390625 30.609375 48.390625 \nz\nM 30.609375 56 \nQ 42.328125 56 49.015625 48.375 \nQ 55.71875 40.765625 55.71875 27.296875 \nQ 55.71875 13.875 49.015625 6.21875 \nQ 42.328125 -1.421875 30.609375 -1.421875 \nQ 18.84375 -1.421875 12.171875 6.21875 \nQ 5.515625 13.875 5.515625 27.296875 \nQ 5.515625 40.765625 12.171875 48.375 \nQ 18.84375 56 30.609375 56 \nz\n\" id=\"DejaVuSans-111\"/>\n      <path d=\"M 8.5 21.578125 \nL 8.5 54.6875 \nL 17.484375 54.6875 \nL 17.484375 21.921875 \nQ 17.484375 14.15625 20.5 10.265625 \nQ 23.53125 6.390625 29.59375 6.390625 \nQ 36.859375 6.390625 41.078125 11.03125 \nQ 45.3125 15.671875 45.3125 23.6875 \nL 45.3125 54.6875 \nL 54.296875 54.6875 \nL 54.296875 0 \nL 45.3125 0 \nL 45.3125 8.40625 \nQ 42.046875 3.421875 37.71875 1 \nQ 33.40625 -1.421875 27.6875 -1.421875 \nQ 18.265625 -1.421875 13.375 4.4375 \nQ 8.5 10.296875 8.5 21.578125 \nz\nM 31.109375 56 \nz\n\" id=\"DejaVuSans-117\"/>\n      <path d=\"M 54.890625 33.015625 \nL 54.890625 0 \nL 45.90625 0 \nL 45.90625 32.71875 \nQ 45.90625 40.484375 42.875 44.328125 \nQ 39.84375 48.1875 33.796875 48.1875 \nQ 26.515625 48.1875 22.3125 43.546875 \nQ 18.109375 38.921875 18.109375 30.90625 \nL 18.109375 0 \nL 9.078125 0 \nL 9.078125 54.6875 \nL 18.109375 54.6875 \nL 18.109375 46.1875 \nQ 21.34375 51.125 25.703125 53.5625 \nQ 30.078125 56 35.796875 56 \nQ 45.21875 56 50.046875 50.171875 \nQ 54.890625 44.34375 54.890625 33.015625 \nz\n\" id=\"DejaVuSans-110\"/>\n     </defs>\n     <g transform=\"translate(14.798438 199.504375)rotate(-90)scale(0.1 -0.1)\">\n      <use xlink:href=\"#DejaVuSans-99\"/>\n      <use x=\"54.980469\" xlink:href=\"#DejaVuSans-111\"/>\n      <use x=\"116.162109\" xlink:href=\"#DejaVuSans-117\"/>\n      <use x=\"179.541016\" xlink:href=\"#DejaVuSans-110\"/>\n      <use x=\"242.919922\" xlink:href=\"#DejaVuSans-116\"/>\n     </g>\n    </g>\n   </g>\n   <g id=\"patch_23\">\n    <path d=\"M 53.328125 348.478125 \nL 53.328125 22.318125 \n\" style=\"fill:none;stroke:#000000;stroke-linecap:square;stroke-linejoin:miter;stroke-width:0.8;\"/>\n   </g>\n   <g id=\"patch_24\">\n    <path d=\"M 611.328125 348.478125 \nL 611.328125 22.318125 \n\" style=\"fill:none;stroke:#000000;stroke-linecap:square;stroke-linejoin:miter;stroke-width:0.8;\"/>\n   </g>\n   <g id=\"patch_25\">\n    <path d=\"M 53.328125 348.478125 \nL 611.328125 348.478125 \n\" style=\"fill:none;stroke:#000000;stroke-linecap:square;stroke-linejoin:miter;stroke-width:0.8;\"/>\n   </g>\n   <g id=\"patch_26\">\n    <path d=\"M 53.328125 22.318125 \nL 611.328125 22.318125 \n\" style=\"fill:none;stroke:#000000;stroke-linecap:square;stroke-linejoin:miter;stroke-width:0.8;\"/>\n   </g>\n   <g id=\"text_32\">\n    <!-- count of saudi stock exchange per year -->\n    <defs>\n     <path id=\"DejaVuSans-32\"/>\n     <path d=\"M 37.109375 75.984375 \nL 37.109375 68.5 \nL 28.515625 68.5 \nQ 23.6875 68.5 21.796875 66.546875 \nQ 19.921875 64.59375 19.921875 59.515625 \nL 19.921875 54.6875 \nL 34.71875 54.6875 \nL 34.71875 47.703125 \nL 19.921875 47.703125 \nL 19.921875 0 \nL 10.890625 0 \nL 10.890625 47.703125 \nL 2.296875 47.703125 \nL 2.296875 54.6875 \nL 10.890625 54.6875 \nL 10.890625 58.5 \nQ 10.890625 67.625 15.140625 71.796875 \nQ 19.390625 75.984375 28.609375 75.984375 \nz\n\" id=\"DejaVuSans-102\"/>\n     <path d=\"M 44.28125 53.078125 \nL 44.28125 44.578125 \nQ 40.484375 46.53125 36.375 47.5 \nQ 32.28125 48.484375 27.875 48.484375 \nQ 21.1875 48.484375 17.84375 46.4375 \nQ 14.5 44.390625 14.5 40.28125 \nQ 14.5 37.15625 16.890625 35.375 \nQ 19.28125 33.59375 26.515625 31.984375 \nL 29.59375 31.296875 \nQ 39.15625 29.25 43.1875 25.515625 \nQ 47.21875 21.78125 47.21875 15.09375 \nQ 47.21875 7.46875 41.1875 3.015625 \nQ 35.15625 -1.421875 24.609375 -1.421875 \nQ 20.21875 -1.421875 15.453125 -0.5625 \nQ 10.6875 0.296875 5.421875 2 \nL 5.421875 11.28125 \nQ 10.40625 8.6875 15.234375 7.390625 \nQ 20.0625 6.109375 24.8125 6.109375 \nQ 31.15625 6.109375 34.5625 8.28125 \nQ 37.984375 10.453125 37.984375 14.40625 \nQ 37.984375 18.0625 35.515625 20.015625 \nQ 33.0625 21.96875 24.703125 23.78125 \nL 21.578125 24.515625 \nQ 13.234375 26.265625 9.515625 29.90625 \nQ 5.8125 33.546875 5.8125 39.890625 \nQ 5.8125 47.609375 11.28125 51.796875 \nQ 16.75 56 26.8125 56 \nQ 31.78125 56 36.171875 55.265625 \nQ 40.578125 54.546875 44.28125 53.078125 \nz\n\" id=\"DejaVuSans-115\"/>\n     <path d=\"M 9.421875 54.6875 \nL 18.40625 54.6875 \nL 18.40625 0 \nL 9.421875 0 \nz\nM 9.421875 75.984375 \nL 18.40625 75.984375 \nL 18.40625 64.59375 \nL 9.421875 64.59375 \nz\n\" id=\"DejaVuSans-105\"/>\n     <path d=\"M 9.078125 75.984375 \nL 18.109375 75.984375 \nL 18.109375 31.109375 \nL 44.921875 54.6875 \nL 56.390625 54.6875 \nL 27.390625 29.109375 \nL 57.625 0 \nL 45.90625 0 \nL 18.109375 26.703125 \nL 18.109375 0 \nL 9.078125 0 \nz\n\" id=\"DejaVuSans-107\"/>\n     <path d=\"M 54.890625 54.6875 \nL 35.109375 28.078125 \nL 55.90625 0 \nL 45.3125 0 \nL 29.390625 21.484375 \nL 13.484375 0 \nL 2.875 0 \nL 24.125 28.609375 \nL 4.6875 54.6875 \nL 15.28125 54.6875 \nL 29.78125 35.203125 \nL 44.28125 54.6875 \nz\n\" id=\"DejaVuSans-120\"/>\n     <path d=\"M 54.890625 33.015625 \nL 54.890625 0 \nL 45.90625 0 \nL 45.90625 32.71875 \nQ 45.90625 40.484375 42.875 44.328125 \nQ 39.84375 48.1875 33.796875 48.1875 \nQ 26.515625 48.1875 22.3125 43.546875 \nQ 18.109375 38.921875 18.109375 30.90625 \nL 18.109375 0 \nL 9.078125 0 \nL 9.078125 75.984375 \nL 18.109375 75.984375 \nL 18.109375 46.1875 \nQ 21.34375 51.125 25.703125 53.5625 \nQ 30.078125 56 35.796875 56 \nQ 45.21875 56 50.046875 50.171875 \nQ 54.890625 44.34375 54.890625 33.015625 \nz\n\" id=\"DejaVuSans-104\"/>\n     <path d=\"M 45.40625 27.984375 \nQ 45.40625 37.75 41.375 43.109375 \nQ 37.359375 48.484375 30.078125 48.484375 \nQ 22.859375 48.484375 18.828125 43.109375 \nQ 14.796875 37.75 14.796875 27.984375 \nQ 14.796875 18.265625 18.828125 12.890625 \nQ 22.859375 7.515625 30.078125 7.515625 \nQ 37.359375 7.515625 41.375 12.890625 \nQ 45.40625 18.265625 45.40625 27.984375 \nz\nM 54.390625 6.78125 \nQ 54.390625 -7.171875 48.1875 -13.984375 \nQ 42 -20.796875 29.203125 -20.796875 \nQ 24.46875 -20.796875 20.265625 -20.09375 \nQ 16.0625 -19.390625 12.109375 -17.921875 \nL 12.109375 -9.1875 \nQ 16.0625 -11.328125 19.921875 -12.34375 \nQ 23.78125 -13.375 27.78125 -13.375 \nQ 36.625 -13.375 41.015625 -8.765625 \nQ 45.40625 -4.15625 45.40625 5.171875 \nL 45.40625 9.625 \nQ 42.625 4.78125 38.28125 2.390625 \nQ 33.9375 0 27.875 0 \nQ 17.828125 0 11.671875 7.65625 \nQ 5.515625 15.328125 5.515625 27.984375 \nQ 5.515625 40.671875 11.671875 48.328125 \nQ 17.828125 56 27.875 56 \nQ 33.9375 56 38.28125 53.609375 \nQ 42.625 51.21875 45.40625 46.390625 \nL 45.40625 54.6875 \nL 54.390625 54.6875 \nz\n\" id=\"DejaVuSans-103\"/>\n     <path d=\"M 18.109375 8.203125 \nL 18.109375 -20.796875 \nL 9.078125 -20.796875 \nL 9.078125 54.6875 \nL 18.109375 54.6875 \nL 18.109375 46.390625 \nQ 20.953125 51.265625 25.265625 53.625 \nQ 29.59375 56 35.59375 56 \nQ 45.5625 56 51.78125 48.09375 \nQ 58.015625 40.1875 58.015625 27.296875 \nQ 58.015625 14.40625 51.78125 6.484375 \nQ 45.5625 -1.421875 35.59375 -1.421875 \nQ 29.59375 -1.421875 25.265625 0.953125 \nQ 20.953125 3.328125 18.109375 8.203125 \nz\nM 48.6875 27.296875 \nQ 48.6875 37.203125 44.609375 42.84375 \nQ 40.53125 48.484375 33.40625 48.484375 \nQ 26.265625 48.484375 22.1875 42.84375 \nQ 18.109375 37.203125 18.109375 27.296875 \nQ 18.109375 17.390625 22.1875 11.75 \nQ 26.265625 6.109375 33.40625 6.109375 \nQ 40.53125 6.109375 44.609375 11.75 \nQ 48.6875 17.390625 48.6875 27.296875 \nz\n\" id=\"DejaVuSans-112\"/>\n    </defs>\n    <g transform=\"translate(213.703438 16.318125)scale(0.12 -0.12)\">\n     <use xlink:href=\"#DejaVuSans-99\"/>\n     <use x=\"54.980469\" xlink:href=\"#DejaVuSans-111\"/>\n     <use x=\"116.162109\" xlink:href=\"#DejaVuSans-117\"/>\n     <use x=\"179.541016\" xlink:href=\"#DejaVuSans-110\"/>\n     <use x=\"242.919922\" xlink:href=\"#DejaVuSans-116\"/>\n     <use x=\"282.128906\" xlink:href=\"#DejaVuSans-32\"/>\n     <use x=\"313.916016\" xlink:href=\"#DejaVuSans-111\"/>\n     <use x=\"375.097656\" xlink:href=\"#DejaVuSans-102\"/>\n     <use x=\"410.302734\" xlink:href=\"#DejaVuSans-32\"/>\n     <use x=\"442.089844\" xlink:href=\"#DejaVuSans-115\"/>\n     <use x=\"494.189453\" xlink:href=\"#DejaVuSans-97\"/>\n     <use x=\"555.46875\" xlink:href=\"#DejaVuSans-117\"/>\n     <use x=\"618.847656\" xlink:href=\"#DejaVuSans-100\"/>\n     <use x=\"682.324219\" xlink:href=\"#DejaVuSans-105\"/>\n     <use x=\"710.107422\" xlink:href=\"#DejaVuSans-32\"/>\n     <use x=\"741.894531\" xlink:href=\"#DejaVuSans-115\"/>\n     <use x=\"793.994141\" xlink:href=\"#DejaVuSans-116\"/>\n     <use x=\"833.203125\" xlink:href=\"#DejaVuSans-111\"/>\n     <use x=\"894.384766\" xlink:href=\"#DejaVuSans-99\"/>\n     <use x=\"949.365234\" xlink:href=\"#DejaVuSans-107\"/>\n     <use x=\"1007.275391\" xlink:href=\"#DejaVuSans-32\"/>\n     <use x=\"1039.0625\" xlink:href=\"#DejaVuSans-101\"/>\n     <use x=\"1098.835938\" xlink:href=\"#DejaVuSans-120\"/>\n     <use x=\"1156.265625\" xlink:href=\"#DejaVuSans-99\"/>\n     <use x=\"1211.246094\" xlink:href=\"#DejaVuSans-104\"/>\n     <use x=\"1274.625\" xlink:href=\"#DejaVuSans-97\"/>\n     <use x=\"1335.904297\" xlink:href=\"#DejaVuSans-110\"/>\n     <use x=\"1399.283203\" xlink:href=\"#DejaVuSans-103\"/>\n     <use x=\"1462.759766\" xlink:href=\"#DejaVuSans-101\"/>\n     <use x=\"1524.283203\" xlink:href=\"#DejaVuSans-32\"/>\n     <use x=\"1556.070312\" xlink:href=\"#DejaVuSans-112\"/>\n     <use x=\"1619.546875\" xlink:href=\"#DejaVuSans-101\"/>\n     <use x=\"1681.070312\" xlink:href=\"#DejaVuSans-114\"/>\n     <use x=\"1722.183594\" xlink:href=\"#DejaVuSans-32\"/>\n     <use x=\"1753.970703\" xlink:href=\"#DejaVuSans-121\"/>\n     <use x=\"1813.150391\" xlink:href=\"#DejaVuSans-101\"/>\n     <use x=\"1874.673828\" xlink:href=\"#DejaVuSans-97\"/>\n     <use x=\"1935.953125\" xlink:href=\"#DejaVuSans-114\"/>\n    </g>\n   </g>\n  </g>\n </g>\n <defs>\n  <clipPath id=\"p9623d6d338\">\n   <rect height=\"326.16\" width=\"558\" x=\"53.328125\" y=\"22.318125\"/>\n  </clipPath>\n </defs>\n</svg>\n"
          },
          "metadata": {
            "needs_background": "light"
          }
        }
      ]
    },
    {
      "cell_type": "markdown",
      "metadata": {
        "id": "8516ca90"
      },
      "source": [
        "## **1.\tWhich sector is the most profitable?**"
      ],
      "id": "8516ca90"
    },
    {
      "cell_type": "code",
      "metadata": {
        "id": "4b7ec575",
        "colab": {
          "base_uri": "https://localhost:8080/",
          "height": 0
        },
        "outputId": "c8d9e3c4-34c8-4429-f37a-918ceba74630"
      },
      "source": [
        "plt.subplots(figsize=(25,5))\n",
        "plt.title('The most profitable sector', fontsize = 20)\n",
        "sns.barplot(x = 'sectoer',y='close',data=stock_train,palette = sns.color_palette(\"husl\", 11));\n",
        "sns.despine();"
      ],
      "id": "4b7ec575",
      "execution_count": 36,
      "outputs": [
        {
          "output_type": "display_data",
          "data": {
            "text/plain": [
              "<Figure size 1800x360 with 1 Axes>"
            ],
            "image/svg+xml": "<?xml version=\"1.0\" encoding=\"utf-8\" standalone=\"no\"?>\n<!DOCTYPE svg PUBLIC \"-//W3C//DTD SVG 1.1//EN\"\n  \"http://www.w3.org/Graphics/SVG/1.1/DTD/svg11.dtd\">\n<!-- Created with matplotlib (https://matplotlib.org/) -->\n<svg height=\"337.753125pt\" version=\"1.1\" viewBox=\"0 0 1442.803125 337.753125\" width=\"1442.803125pt\" xmlns=\"http://www.w3.org/2000/svg\" xmlns:xlink=\"http://www.w3.org/1999/xlink\">\n <defs>\n  <style type=\"text/css\">\n*{stroke-linecap:butt;stroke-linejoin:round;}\n  </style>\n </defs>\n <g id=\"figure_1\">\n  <g id=\"patch_1\">\n   <path d=\"M 0 337.753125 \nL 1442.803125 337.753125 \nL 1442.803125 0 \nL 0 0 \nz\n\" style=\"fill:none;\"/>\n  </g>\n  <g id=\"axes_1\">\n   <g id=\"patch_2\">\n    <path d=\"M 40.603125 300.196875 \nL 1435.603125 300.196875 \nL 1435.603125 28.396875 \nL 40.603125 28.396875 \nz\n\" style=\"fill:#ffffff;\"/>\n   </g>\n   <g id=\"patch_3\">\n    <path clip-path=\"url(#p472fd9054f)\" d=\"M 110.353125 300.196875 \nL 668.353125 300.196875 \nL 668.353125 43.063151 \nL 110.353125 43.063151 \nz\n\" style=\"fill:#e68193;\"/>\n   </g>\n   <g id=\"patch_4\">\n    <path clip-path=\"url(#p472fd9054f)\" d=\"M 807.853125 300.196875 \nL 1365.853125 300.196875 \nL 1365.853125 71.358078 \nL 807.853125 71.358078 \nz\n\" style=\"fill:#cb8748;\"/>\n   </g>\n   <g id=\"matplotlib.axis_1\">\n    <g id=\"xtick_1\">\n     <g id=\"line2d_1\">\n      <defs>\n       <path d=\"M 0 0 \nL 0 3.5 \n\" id=\"m0d7b5e5bd0\" style=\"stroke:#000000;stroke-width:0.8;\"/>\n      </defs>\n      <g>\n       <use style=\"stroke:#000000;stroke-width:0.8;\" x=\"389.353125\" xlink:href=\"#m0d7b5e5bd0\" y=\"300.196875\"/>\n      </g>\n     </g>\n     <g id=\"text_1\">\n      <!-- Energy -->\n      <defs>\n       <path d=\"M 9.8125 72.90625 \nL 55.90625 72.90625 \nL 55.90625 64.59375 \nL 19.671875 64.59375 \nL 19.671875 43.015625 \nL 54.390625 43.015625 \nL 54.390625 34.71875 \nL 19.671875 34.71875 \nL 19.671875 8.296875 \nL 56.78125 8.296875 \nL 56.78125 0 \nL 9.8125 0 \nz\n\" id=\"DejaVuSans-69\"/>\n       <path d=\"M 54.890625 33.015625 \nL 54.890625 0 \nL 45.90625 0 \nL 45.90625 32.71875 \nQ 45.90625 40.484375 42.875 44.328125 \nQ 39.84375 48.1875 33.796875 48.1875 \nQ 26.515625 48.1875 22.3125 43.546875 \nQ 18.109375 38.921875 18.109375 30.90625 \nL 18.109375 0 \nL 9.078125 0 \nL 9.078125 54.6875 \nL 18.109375 54.6875 \nL 18.109375 46.1875 \nQ 21.34375 51.125 25.703125 53.5625 \nQ 30.078125 56 35.796875 56 \nQ 45.21875 56 50.046875 50.171875 \nQ 54.890625 44.34375 54.890625 33.015625 \nz\n\" id=\"DejaVuSans-110\"/>\n       <path d=\"M 56.203125 29.59375 \nL 56.203125 25.203125 \nL 14.890625 25.203125 \nQ 15.484375 15.921875 20.484375 11.0625 \nQ 25.484375 6.203125 34.421875 6.203125 \nQ 39.59375 6.203125 44.453125 7.46875 \nQ 49.3125 8.734375 54.109375 11.28125 \nL 54.109375 2.78125 \nQ 49.265625 0.734375 44.1875 -0.34375 \nQ 39.109375 -1.421875 33.890625 -1.421875 \nQ 20.796875 -1.421875 13.15625 6.1875 \nQ 5.515625 13.8125 5.515625 26.8125 \nQ 5.515625 40.234375 12.765625 48.109375 \nQ 20.015625 56 32.328125 56 \nQ 43.359375 56 49.78125 48.890625 \nQ 56.203125 41.796875 56.203125 29.59375 \nz\nM 47.21875 32.234375 \nQ 47.125 39.59375 43.09375 43.984375 \nQ 39.0625 48.390625 32.421875 48.390625 \nQ 24.90625 48.390625 20.390625 44.140625 \nQ 15.875 39.890625 15.1875 32.171875 \nz\n\" id=\"DejaVuSans-101\"/>\n       <path d=\"M 41.109375 46.296875 \nQ 39.59375 47.171875 37.8125 47.578125 \nQ 36.03125 48 33.890625 48 \nQ 26.265625 48 22.1875 43.046875 \nQ 18.109375 38.09375 18.109375 28.8125 \nL 18.109375 0 \nL 9.078125 0 \nL 9.078125 54.6875 \nL 18.109375 54.6875 \nL 18.109375 46.1875 \nQ 20.953125 51.171875 25.484375 53.578125 \nQ 30.03125 56 36.53125 56 \nQ 37.453125 56 38.578125 55.875 \nQ 39.703125 55.765625 41.0625 55.515625 \nz\n\" id=\"DejaVuSans-114\"/>\n       <path d=\"M 45.40625 27.984375 \nQ 45.40625 37.75 41.375 43.109375 \nQ 37.359375 48.484375 30.078125 48.484375 \nQ 22.859375 48.484375 18.828125 43.109375 \nQ 14.796875 37.75 14.796875 27.984375 \nQ 14.796875 18.265625 18.828125 12.890625 \nQ 22.859375 7.515625 30.078125 7.515625 \nQ 37.359375 7.515625 41.375 12.890625 \nQ 45.40625 18.265625 45.40625 27.984375 \nz\nM 54.390625 6.78125 \nQ 54.390625 -7.171875 48.1875 -13.984375 \nQ 42 -20.796875 29.203125 -20.796875 \nQ 24.46875 -20.796875 20.265625 -20.09375 \nQ 16.0625 -19.390625 12.109375 -17.921875 \nL 12.109375 -9.1875 \nQ 16.0625 -11.328125 19.921875 -12.34375 \nQ 23.78125 -13.375 27.78125 -13.375 \nQ 36.625 -13.375 41.015625 -8.765625 \nQ 45.40625 -4.15625 45.40625 5.171875 \nL 45.40625 9.625 \nQ 42.625 4.78125 38.28125 2.390625 \nQ 33.9375 0 27.875 0 \nQ 17.828125 0 11.671875 7.65625 \nQ 5.515625 15.328125 5.515625 27.984375 \nQ 5.515625 40.671875 11.671875 48.328125 \nQ 17.828125 56 27.875 56 \nQ 33.9375 56 38.28125 53.609375 \nQ 42.625 51.21875 45.40625 46.390625 \nL 45.40625 54.6875 \nL 54.390625 54.6875 \nz\n\" id=\"DejaVuSans-103\"/>\n       <path d=\"M 32.171875 -5.078125 \nQ 28.375 -14.84375 24.75 -17.8125 \nQ 21.140625 -20.796875 15.09375 -20.796875 \nL 7.90625 -20.796875 \nL 7.90625 -13.28125 \nL 13.1875 -13.28125 \nQ 16.890625 -13.28125 18.9375 -11.515625 \nQ 21 -9.765625 23.484375 -3.21875 \nL 25.09375 0.875 \nL 2.984375 54.6875 \nL 12.5 54.6875 \nL 29.59375 11.921875 \nL 46.6875 54.6875 \nL 56.203125 54.6875 \nz\n\" id=\"DejaVuSans-121\"/>\n      </defs>\n      <g transform=\"translate(371.846875 314.795312)scale(0.1 -0.1)\">\n       <use xlink:href=\"#DejaVuSans-69\"/>\n       <use x=\"63.183594\" xlink:href=\"#DejaVuSans-110\"/>\n       <use x=\"126.5625\" xlink:href=\"#DejaVuSans-101\"/>\n       <use x=\"188.085938\" xlink:href=\"#DejaVuSans-114\"/>\n       <use x=\"227.449219\" xlink:href=\"#DejaVuSans-103\"/>\n       <use x=\"290.925781\" xlink:href=\"#DejaVuSans-121\"/>\n      </g>\n     </g>\n    </g>\n    <g id=\"xtick_2\">\n     <g id=\"line2d_2\">\n      <g>\n       <use style=\"stroke:#000000;stroke-width:0.8;\" x=\"1086.853125\" xlink:href=\"#m0d7b5e5bd0\" y=\"300.196875\"/>\n      </g>\n     </g>\n     <g id=\"text_2\">\n      <!-- Materials -->\n      <defs>\n       <path d=\"M 9.8125 72.90625 \nL 24.515625 72.90625 \nL 43.109375 23.296875 \nL 61.8125 72.90625 \nL 76.515625 72.90625 \nL 76.515625 0 \nL 66.890625 0 \nL 66.890625 64.015625 \nL 48.09375 14.015625 \nL 38.1875 14.015625 \nL 19.390625 64.015625 \nL 19.390625 0 \nL 9.8125 0 \nz\n\" id=\"DejaVuSans-77\"/>\n       <path d=\"M 34.28125 27.484375 \nQ 23.390625 27.484375 19.1875 25 \nQ 14.984375 22.515625 14.984375 16.5 \nQ 14.984375 11.71875 18.140625 8.90625 \nQ 21.296875 6.109375 26.703125 6.109375 \nQ 34.1875 6.109375 38.703125 11.40625 \nQ 43.21875 16.703125 43.21875 25.484375 \nL 43.21875 27.484375 \nz\nM 52.203125 31.203125 \nL 52.203125 0 \nL 43.21875 0 \nL 43.21875 8.296875 \nQ 40.140625 3.328125 35.546875 0.953125 \nQ 30.953125 -1.421875 24.3125 -1.421875 \nQ 15.921875 -1.421875 10.953125 3.296875 \nQ 6 8.015625 6 15.921875 \nQ 6 25.140625 12.171875 29.828125 \nQ 18.359375 34.515625 30.609375 34.515625 \nL 43.21875 34.515625 \nL 43.21875 35.40625 \nQ 43.21875 41.609375 39.140625 45 \nQ 35.0625 48.390625 27.6875 48.390625 \nQ 23 48.390625 18.546875 47.265625 \nQ 14.109375 46.140625 10.015625 43.890625 \nL 10.015625 52.203125 \nQ 14.9375 54.109375 19.578125 55.046875 \nQ 24.21875 56 28.609375 56 \nQ 40.484375 56 46.34375 49.84375 \nQ 52.203125 43.703125 52.203125 31.203125 \nz\n\" id=\"DejaVuSans-97\"/>\n       <path d=\"M 18.3125 70.21875 \nL 18.3125 54.6875 \nL 36.8125 54.6875 \nL 36.8125 47.703125 \nL 18.3125 47.703125 \nL 18.3125 18.015625 \nQ 18.3125 11.328125 20.140625 9.421875 \nQ 21.96875 7.515625 27.59375 7.515625 \nL 36.8125 7.515625 \nL 36.8125 0 \nL 27.59375 0 \nQ 17.1875 0 13.234375 3.875 \nQ 9.28125 7.765625 9.28125 18.015625 \nL 9.28125 47.703125 \nL 2.6875 47.703125 \nL 2.6875 54.6875 \nL 9.28125 54.6875 \nL 9.28125 70.21875 \nz\n\" id=\"DejaVuSans-116\"/>\n       <path d=\"M 9.421875 54.6875 \nL 18.40625 54.6875 \nL 18.40625 0 \nL 9.421875 0 \nz\nM 9.421875 75.984375 \nL 18.40625 75.984375 \nL 18.40625 64.59375 \nL 9.421875 64.59375 \nz\n\" id=\"DejaVuSans-105\"/>\n       <path d=\"M 9.421875 75.984375 \nL 18.40625 75.984375 \nL 18.40625 0 \nL 9.421875 0 \nz\n\" id=\"DejaVuSans-108\"/>\n       <path d=\"M 44.28125 53.078125 \nL 44.28125 44.578125 \nQ 40.484375 46.53125 36.375 47.5 \nQ 32.28125 48.484375 27.875 48.484375 \nQ 21.1875 48.484375 17.84375 46.4375 \nQ 14.5 44.390625 14.5 40.28125 \nQ 14.5 37.15625 16.890625 35.375 \nQ 19.28125 33.59375 26.515625 31.984375 \nL 29.59375 31.296875 \nQ 39.15625 29.25 43.1875 25.515625 \nQ 47.21875 21.78125 47.21875 15.09375 \nQ 47.21875 7.46875 41.1875 3.015625 \nQ 35.15625 -1.421875 24.609375 -1.421875 \nQ 20.21875 -1.421875 15.453125 -0.5625 \nQ 10.6875 0.296875 5.421875 2 \nL 5.421875 11.28125 \nQ 10.40625 8.6875 15.234375 7.390625 \nQ 20.0625 6.109375 24.8125 6.109375 \nQ 31.15625 6.109375 34.5625 8.28125 \nQ 37.984375 10.453125 37.984375 14.40625 \nQ 37.984375 18.0625 35.515625 20.015625 \nQ 33.0625 21.96875 24.703125 23.78125 \nL 21.578125 24.515625 \nQ 13.234375 26.265625 9.515625 29.90625 \nQ 5.8125 33.546875 5.8125 39.890625 \nQ 5.8125 47.609375 11.28125 51.796875 \nQ 16.75 56 26.8125 56 \nQ 31.78125 56 36.171875 55.265625 \nQ 40.578125 54.546875 44.28125 53.078125 \nz\n\" id=\"DejaVuSans-115\"/>\n      </defs>\n      <g transform=\"translate(1063.935938 314.795312)scale(0.1 -0.1)\">\n       <use xlink:href=\"#DejaVuSans-77\"/>\n       <use x=\"86.279297\" xlink:href=\"#DejaVuSans-97\"/>\n       <use x=\"147.558594\" xlink:href=\"#DejaVuSans-116\"/>\n       <use x=\"186.767578\" xlink:href=\"#DejaVuSans-101\"/>\n       <use x=\"248.291016\" xlink:href=\"#DejaVuSans-114\"/>\n       <use x=\"289.404297\" xlink:href=\"#DejaVuSans-105\"/>\n       <use x=\"317.1875\" xlink:href=\"#DejaVuSans-97\"/>\n       <use x=\"378.466797\" xlink:href=\"#DejaVuSans-108\"/>\n       <use x=\"406.25\" xlink:href=\"#DejaVuSans-115\"/>\n      </g>\n     </g>\n    </g>\n    <g id=\"text_3\">\n     <!-- sectoer -->\n     <defs>\n      <path d=\"M 48.78125 52.59375 \nL 48.78125 44.1875 \nQ 44.96875 46.296875 41.140625 47.34375 \nQ 37.3125 48.390625 33.40625 48.390625 \nQ 24.65625 48.390625 19.8125 42.84375 \nQ 14.984375 37.3125 14.984375 27.296875 \nQ 14.984375 17.28125 19.8125 11.734375 \nQ 24.65625 6.203125 33.40625 6.203125 \nQ 37.3125 6.203125 41.140625 7.25 \nQ 44.96875 8.296875 48.78125 10.40625 \nL 48.78125 2.09375 \nQ 45.015625 0.34375 40.984375 -0.53125 \nQ 36.96875 -1.421875 32.421875 -1.421875 \nQ 20.0625 -1.421875 12.78125 6.34375 \nQ 5.515625 14.109375 5.515625 27.296875 \nQ 5.515625 40.671875 12.859375 48.328125 \nQ 20.21875 56 33.015625 56 \nQ 37.15625 56 41.109375 55.140625 \nQ 45.0625 54.296875 48.78125 52.59375 \nz\n\" id=\"DejaVuSans-99\"/>\n      <path d=\"M 30.609375 48.390625 \nQ 23.390625 48.390625 19.1875 42.75 \nQ 14.984375 37.109375 14.984375 27.296875 \nQ 14.984375 17.484375 19.15625 11.84375 \nQ 23.34375 6.203125 30.609375 6.203125 \nQ 37.796875 6.203125 41.984375 11.859375 \nQ 46.1875 17.53125 46.1875 27.296875 \nQ 46.1875 37.015625 41.984375 42.703125 \nQ 37.796875 48.390625 30.609375 48.390625 \nz\nM 30.609375 56 \nQ 42.328125 56 49.015625 48.375 \nQ 55.71875 40.765625 55.71875 27.296875 \nQ 55.71875 13.875 49.015625 6.21875 \nQ 42.328125 -1.421875 30.609375 -1.421875 \nQ 18.84375 -1.421875 12.171875 6.21875 \nQ 5.515625 13.875 5.515625 27.296875 \nQ 5.515625 40.765625 12.171875 48.375 \nQ 18.84375 56 30.609375 56 \nz\n\" id=\"DejaVuSans-111\"/>\n     </defs>\n     <g transform=\"translate(719.521094 328.473437)scale(0.1 -0.1)\">\n      <use xlink:href=\"#DejaVuSans-115\"/>\n      <use x=\"52.099609\" xlink:href=\"#DejaVuSans-101\"/>\n      <use x=\"113.623047\" xlink:href=\"#DejaVuSans-99\"/>\n      <use x=\"168.603516\" xlink:href=\"#DejaVuSans-116\"/>\n      <use x=\"207.8125\" xlink:href=\"#DejaVuSans-111\"/>\n      <use x=\"268.994141\" xlink:href=\"#DejaVuSans-101\"/>\n      <use x=\"330.517578\" xlink:href=\"#DejaVuSans-114\"/>\n     </g>\n    </g>\n   </g>\n   <g id=\"matplotlib.axis_2\">\n    <g id=\"ytick_1\">\n     <g id=\"line2d_3\">\n      <defs>\n       <path d=\"M 0 0 \nL -3.5 0 \n\" id=\"m893ca53cb9\" style=\"stroke:#000000;stroke-width:0.8;\"/>\n      </defs>\n      <g>\n       <use style=\"stroke:#000000;stroke-width:0.8;\" x=\"40.603125\" xlink:href=\"#m893ca53cb9\" y=\"300.196875\"/>\n      </g>\n     </g>\n     <g id=\"text_4\">\n      <!-- 0 -->\n      <defs>\n       <path d=\"M 31.78125 66.40625 \nQ 24.171875 66.40625 20.328125 58.90625 \nQ 16.5 51.421875 16.5 36.375 \nQ 16.5 21.390625 20.328125 13.890625 \nQ 24.171875 6.390625 31.78125 6.390625 \nQ 39.453125 6.390625 43.28125 13.890625 \nQ 47.125 21.390625 47.125 36.375 \nQ 47.125 51.421875 43.28125 58.90625 \nQ 39.453125 66.40625 31.78125 66.40625 \nz\nM 31.78125 74.21875 \nQ 44.046875 74.21875 50.515625 64.515625 \nQ 56.984375 54.828125 56.984375 36.375 \nQ 56.984375 17.96875 50.515625 8.265625 \nQ 44.046875 -1.421875 31.78125 -1.421875 \nQ 19.53125 -1.421875 13.0625 8.265625 \nQ 6.59375 17.96875 6.59375 36.375 \nQ 6.59375 54.828125 13.0625 64.515625 \nQ 19.53125 74.21875 31.78125 74.21875 \nz\n\" id=\"DejaVuSans-48\"/>\n      </defs>\n      <g transform=\"translate(27.240625 303.996094)scale(0.1 -0.1)\">\n       <use xlink:href=\"#DejaVuSans-48\"/>\n      </g>\n     </g>\n    </g>\n    <g id=\"ytick_2\">\n     <g id=\"line2d_4\">\n      <g>\n       <use style=\"stroke:#000000;stroke-width:0.8;\" x=\"40.603125\" xlink:href=\"#m893ca53cb9\" y=\"251.241683\"/>\n      </g>\n     </g>\n     <g id=\"text_5\">\n      <!-- 5 -->\n      <defs>\n       <path d=\"M 10.796875 72.90625 \nL 49.515625 72.90625 \nL 49.515625 64.59375 \nL 19.828125 64.59375 \nL 19.828125 46.734375 \nQ 21.96875 47.46875 24.109375 47.828125 \nQ 26.265625 48.1875 28.421875 48.1875 \nQ 40.625 48.1875 47.75 41.5 \nQ 54.890625 34.8125 54.890625 23.390625 \nQ 54.890625 11.625 47.5625 5.09375 \nQ 40.234375 -1.421875 26.90625 -1.421875 \nQ 22.3125 -1.421875 17.546875 -0.640625 \nQ 12.796875 0.140625 7.71875 1.703125 \nL 7.71875 11.625 \nQ 12.109375 9.234375 16.796875 8.0625 \nQ 21.484375 6.890625 26.703125 6.890625 \nQ 35.15625 6.890625 40.078125 11.328125 \nQ 45.015625 15.765625 45.015625 23.390625 \nQ 45.015625 31 40.078125 35.4375 \nQ 35.15625 39.890625 26.703125 39.890625 \nQ 22.75 39.890625 18.8125 39.015625 \nQ 14.890625 38.140625 10.796875 36.28125 \nz\n\" id=\"DejaVuSans-53\"/>\n      </defs>\n      <g transform=\"translate(27.240625 255.040902)scale(0.1 -0.1)\">\n       <use xlink:href=\"#DejaVuSans-53\"/>\n      </g>\n     </g>\n    </g>\n    <g id=\"ytick_3\">\n     <g id=\"line2d_5\">\n      <g>\n       <use style=\"stroke:#000000;stroke-width:0.8;\" x=\"40.603125\" xlink:href=\"#m893ca53cb9\" y=\"202.286491\"/>\n      </g>\n     </g>\n     <g id=\"text_6\">\n      <!-- 10 -->\n      <defs>\n       <path d=\"M 12.40625 8.296875 \nL 28.515625 8.296875 \nL 28.515625 63.921875 \nL 10.984375 60.40625 \nL 10.984375 69.390625 \nL 28.421875 72.90625 \nL 38.28125 72.90625 \nL 38.28125 8.296875 \nL 54.390625 8.296875 \nL 54.390625 0 \nL 12.40625 0 \nz\n\" id=\"DejaVuSans-49\"/>\n      </defs>\n      <g transform=\"translate(20.878125 206.08571)scale(0.1 -0.1)\">\n       <use xlink:href=\"#DejaVuSans-49\"/>\n       <use x=\"63.623047\" xlink:href=\"#DejaVuSans-48\"/>\n      </g>\n     </g>\n    </g>\n    <g id=\"ytick_4\">\n     <g id=\"line2d_6\">\n      <g>\n       <use style=\"stroke:#000000;stroke-width:0.8;\" x=\"40.603125\" xlink:href=\"#m893ca53cb9\" y=\"153.331299\"/>\n      </g>\n     </g>\n     <g id=\"text_7\">\n      <!-- 15 -->\n      <g transform=\"translate(20.878125 157.130518)scale(0.1 -0.1)\">\n       <use xlink:href=\"#DejaVuSans-49\"/>\n       <use x=\"63.623047\" xlink:href=\"#DejaVuSans-53\"/>\n      </g>\n     </g>\n    </g>\n    <g id=\"ytick_5\">\n     <g id=\"line2d_7\">\n      <g>\n       <use style=\"stroke:#000000;stroke-width:0.8;\" x=\"40.603125\" xlink:href=\"#m893ca53cb9\" y=\"104.376107\"/>\n      </g>\n     </g>\n     <g id=\"text_8\">\n      <!-- 20 -->\n      <defs>\n       <path d=\"M 19.1875 8.296875 \nL 53.609375 8.296875 \nL 53.609375 0 \nL 7.328125 0 \nL 7.328125 8.296875 \nQ 12.9375 14.109375 22.625 23.890625 \nQ 32.328125 33.6875 34.8125 36.53125 \nQ 39.546875 41.84375 41.421875 45.53125 \nQ 43.3125 49.21875 43.3125 52.78125 \nQ 43.3125 58.59375 39.234375 62.25 \nQ 35.15625 65.921875 28.609375 65.921875 \nQ 23.96875 65.921875 18.8125 64.3125 \nQ 13.671875 62.703125 7.8125 59.421875 \nL 7.8125 69.390625 \nQ 13.765625 71.78125 18.9375 73 \nQ 24.125 74.21875 28.421875 74.21875 \nQ 39.75 74.21875 46.484375 68.546875 \nQ 53.21875 62.890625 53.21875 53.421875 \nQ 53.21875 48.921875 51.53125 44.890625 \nQ 49.859375 40.875 45.40625 35.40625 \nQ 44.1875 33.984375 37.640625 27.21875 \nQ 31.109375 20.453125 19.1875 8.296875 \nz\n\" id=\"DejaVuSans-50\"/>\n      </defs>\n      <g transform=\"translate(20.878125 108.175326)scale(0.1 -0.1)\">\n       <use xlink:href=\"#DejaVuSans-50\"/>\n       <use x=\"63.623047\" xlink:href=\"#DejaVuSans-48\"/>\n      </g>\n     </g>\n    </g>\n    <g id=\"ytick_6\">\n     <g id=\"line2d_8\">\n      <g>\n       <use style=\"stroke:#000000;stroke-width:0.8;\" x=\"40.603125\" xlink:href=\"#m893ca53cb9\" y=\"55.420915\"/>\n      </g>\n     </g>\n     <g id=\"text_9\">\n      <!-- 25 -->\n      <g transform=\"translate(20.878125 59.220134)scale(0.1 -0.1)\">\n       <use xlink:href=\"#DejaVuSans-50\"/>\n       <use x=\"63.623047\" xlink:href=\"#DejaVuSans-53\"/>\n      </g>\n     </g>\n    </g>\n    <g id=\"text_10\">\n     <!-- close -->\n     <g transform=\"translate(14.798438 177.175781)rotate(-90)scale(0.1 -0.1)\">\n      <use xlink:href=\"#DejaVuSans-99\"/>\n      <use x=\"54.980469\" xlink:href=\"#DejaVuSans-108\"/>\n      <use x=\"82.763672\" xlink:href=\"#DejaVuSans-111\"/>\n      <use x=\"143.945312\" xlink:href=\"#DejaVuSans-115\"/>\n      <use x=\"196.044922\" xlink:href=\"#DejaVuSans-101\"/>\n     </g>\n    </g>\n   </g>\n   <g id=\"line2d_9\">\n    <path clip-path=\"url(#p472fd9054f)\" d=\"M 389.353125 44.773841 \nL 389.353125 41.339732 \n\" style=\"fill:none;stroke:#424242;stroke-linecap:square;stroke-width:2.7;\"/>\n   </g>\n   <g id=\"line2d_10\">\n    <path clip-path=\"url(#p472fd9054f)\" d=\"M 1086.853125 72.238429 \nL 1086.853125 70.428364 \n\" style=\"fill:none;stroke:#424242;stroke-linecap:square;stroke-width:2.7;\"/>\n   </g>\n   <g id=\"patch_5\">\n    <path d=\"M 40.603125 300.196875 \nL 40.603125 28.396875 \n\" style=\"fill:none;stroke:#000000;stroke-linecap:square;stroke-linejoin:miter;stroke-width:0.8;\"/>\n   </g>\n   <g id=\"patch_6\">\n    <path d=\"M 40.603125 300.196875 \nL 1435.603125 300.196875 \n\" style=\"fill:none;stroke:#000000;stroke-linecap:square;stroke-linejoin:miter;stroke-width:0.8;\"/>\n   </g>\n   <g id=\"text_11\">\n    <!-- The most profitable sector -->\n    <defs>\n     <path d=\"M -0.296875 72.90625 \nL 61.375 72.90625 \nL 61.375 64.59375 \nL 35.5 64.59375 \nL 35.5 0 \nL 25.59375 0 \nL 25.59375 64.59375 \nL -0.296875 64.59375 \nz\n\" id=\"DejaVuSans-84\"/>\n     <path d=\"M 54.890625 33.015625 \nL 54.890625 0 \nL 45.90625 0 \nL 45.90625 32.71875 \nQ 45.90625 40.484375 42.875 44.328125 \nQ 39.84375 48.1875 33.796875 48.1875 \nQ 26.515625 48.1875 22.3125 43.546875 \nQ 18.109375 38.921875 18.109375 30.90625 \nL 18.109375 0 \nL 9.078125 0 \nL 9.078125 75.984375 \nL 18.109375 75.984375 \nL 18.109375 46.1875 \nQ 21.34375 51.125 25.703125 53.5625 \nQ 30.078125 56 35.796875 56 \nQ 45.21875 56 50.046875 50.171875 \nQ 54.890625 44.34375 54.890625 33.015625 \nz\n\" id=\"DejaVuSans-104\"/>\n     <path id=\"DejaVuSans-32\"/>\n     <path d=\"M 52 44.1875 \nQ 55.375 50.25 60.0625 53.125 \nQ 64.75 56 71.09375 56 \nQ 79.640625 56 84.28125 50.015625 \nQ 88.921875 44.046875 88.921875 33.015625 \nL 88.921875 0 \nL 79.890625 0 \nL 79.890625 32.71875 \nQ 79.890625 40.578125 77.09375 44.375 \nQ 74.3125 48.1875 68.609375 48.1875 \nQ 61.625 48.1875 57.5625 43.546875 \nQ 53.515625 38.921875 53.515625 30.90625 \nL 53.515625 0 \nL 44.484375 0 \nL 44.484375 32.71875 \nQ 44.484375 40.625 41.703125 44.40625 \nQ 38.921875 48.1875 33.109375 48.1875 \nQ 26.21875 48.1875 22.15625 43.53125 \nQ 18.109375 38.875 18.109375 30.90625 \nL 18.109375 0 \nL 9.078125 0 \nL 9.078125 54.6875 \nL 18.109375 54.6875 \nL 18.109375 46.1875 \nQ 21.1875 51.21875 25.484375 53.609375 \nQ 29.78125 56 35.6875 56 \nQ 41.65625 56 45.828125 52.96875 \nQ 50 49.953125 52 44.1875 \nz\n\" id=\"DejaVuSans-109\"/>\n     <path d=\"M 18.109375 8.203125 \nL 18.109375 -20.796875 \nL 9.078125 -20.796875 \nL 9.078125 54.6875 \nL 18.109375 54.6875 \nL 18.109375 46.390625 \nQ 20.953125 51.265625 25.265625 53.625 \nQ 29.59375 56 35.59375 56 \nQ 45.5625 56 51.78125 48.09375 \nQ 58.015625 40.1875 58.015625 27.296875 \nQ 58.015625 14.40625 51.78125 6.484375 \nQ 45.5625 -1.421875 35.59375 -1.421875 \nQ 29.59375 -1.421875 25.265625 0.953125 \nQ 20.953125 3.328125 18.109375 8.203125 \nz\nM 48.6875 27.296875 \nQ 48.6875 37.203125 44.609375 42.84375 \nQ 40.53125 48.484375 33.40625 48.484375 \nQ 26.265625 48.484375 22.1875 42.84375 \nQ 18.109375 37.203125 18.109375 27.296875 \nQ 18.109375 17.390625 22.1875 11.75 \nQ 26.265625 6.109375 33.40625 6.109375 \nQ 40.53125 6.109375 44.609375 11.75 \nQ 48.6875 17.390625 48.6875 27.296875 \nz\n\" id=\"DejaVuSans-112\"/>\n     <path d=\"M 37.109375 75.984375 \nL 37.109375 68.5 \nL 28.515625 68.5 \nQ 23.6875 68.5 21.796875 66.546875 \nQ 19.921875 64.59375 19.921875 59.515625 \nL 19.921875 54.6875 \nL 34.71875 54.6875 \nL 34.71875 47.703125 \nL 19.921875 47.703125 \nL 19.921875 0 \nL 10.890625 0 \nL 10.890625 47.703125 \nL 2.296875 47.703125 \nL 2.296875 54.6875 \nL 10.890625 54.6875 \nL 10.890625 58.5 \nQ 10.890625 67.625 15.140625 71.796875 \nQ 19.390625 75.984375 28.609375 75.984375 \nz\n\" id=\"DejaVuSans-102\"/>\n     <path d=\"M 48.6875 27.296875 \nQ 48.6875 37.203125 44.609375 42.84375 \nQ 40.53125 48.484375 33.40625 48.484375 \nQ 26.265625 48.484375 22.1875 42.84375 \nQ 18.109375 37.203125 18.109375 27.296875 \nQ 18.109375 17.390625 22.1875 11.75 \nQ 26.265625 6.109375 33.40625 6.109375 \nQ 40.53125 6.109375 44.609375 11.75 \nQ 48.6875 17.390625 48.6875 27.296875 \nz\nM 18.109375 46.390625 \nQ 20.953125 51.265625 25.265625 53.625 \nQ 29.59375 56 35.59375 56 \nQ 45.5625 56 51.78125 48.09375 \nQ 58.015625 40.1875 58.015625 27.296875 \nQ 58.015625 14.40625 51.78125 6.484375 \nQ 45.5625 -1.421875 35.59375 -1.421875 \nQ 29.59375 -1.421875 25.265625 0.953125 \nQ 20.953125 3.328125 18.109375 8.203125 \nL 18.109375 0 \nL 9.078125 0 \nL 9.078125 75.984375 \nL 18.109375 75.984375 \nz\n\" id=\"DejaVuSans-98\"/>\n    </defs>\n    <g transform=\"translate(605.990625 22.396875)scale(0.2 -0.2)\">\n     <use xlink:href=\"#DejaVuSans-84\"/>\n     <use x=\"61.083984\" xlink:href=\"#DejaVuSans-104\"/>\n     <use x=\"124.462891\" xlink:href=\"#DejaVuSans-101\"/>\n     <use x=\"185.986328\" xlink:href=\"#DejaVuSans-32\"/>\n     <use x=\"217.773438\" xlink:href=\"#DejaVuSans-109\"/>\n     <use x=\"315.185547\" xlink:href=\"#DejaVuSans-111\"/>\n     <use x=\"376.367188\" xlink:href=\"#DejaVuSans-115\"/>\n     <use x=\"428.466797\" xlink:href=\"#DejaVuSans-116\"/>\n     <use x=\"467.675781\" xlink:href=\"#DejaVuSans-32\"/>\n     <use x=\"499.462891\" xlink:href=\"#DejaVuSans-112\"/>\n     <use x=\"562.939453\" xlink:href=\"#DejaVuSans-114\"/>\n     <use x=\"601.802734\" xlink:href=\"#DejaVuSans-111\"/>\n     <use x=\"662.984375\" xlink:href=\"#DejaVuSans-102\"/>\n     <use x=\"698.189453\" xlink:href=\"#DejaVuSans-105\"/>\n     <use x=\"725.972656\" xlink:href=\"#DejaVuSans-116\"/>\n     <use x=\"765.181641\" xlink:href=\"#DejaVuSans-97\"/>\n     <use x=\"826.460938\" xlink:href=\"#DejaVuSans-98\"/>\n     <use x=\"889.9375\" xlink:href=\"#DejaVuSans-108\"/>\n     <use x=\"917.720703\" xlink:href=\"#DejaVuSans-101\"/>\n     <use x=\"979.244141\" xlink:href=\"#DejaVuSans-32\"/>\n     <use x=\"1011.03125\" xlink:href=\"#DejaVuSans-115\"/>\n     <use x=\"1063.130859\" xlink:href=\"#DejaVuSans-101\"/>\n     <use x=\"1124.654297\" xlink:href=\"#DejaVuSans-99\"/>\n     <use x=\"1179.634766\" xlink:href=\"#DejaVuSans-116\"/>\n     <use x=\"1218.84375\" xlink:href=\"#DejaVuSans-111\"/>\n     <use x=\"1280.025391\" xlink:href=\"#DejaVuSans-114\"/>\n    </g>\n   </g>\n  </g>\n </g>\n <defs>\n  <clipPath id=\"p472fd9054f\">\n   <rect height=\"271.8\" width=\"1395\" x=\"40.603125\" y=\"28.396875\"/>\n  </clipPath>\n </defs>\n</svg>\n"
          },
          "metadata": {
            "needs_background": "light"
          }
        }
      ]
    },
    {
      "cell_type": "markdown",
      "metadata": {
        "id": "aaca3fc1"
      },
      "source": [
        "."
      ],
      "id": "aaca3fc1"
    },
    {
      "cell_type": "markdown",
      "metadata": {
        "id": "43c3bbd2"
      },
      "source": [
        "## **2. What is the most valuable year in the Saudi stock market?**"
      ],
      "id": "43c3bbd2"
    },
    {
      "cell_type": "code",
      "metadata": {
        "id": "2070c407",
        "colab": {
          "base_uri": "https://localhost:8080/",
          "height": 0
        },
        "outputId": "030685f9-6b6a-46d1-ac77-cadc808071b5"
      },
      "source": [
        "a=stock_train.groupby(['year'])[['high']].sum().sort_values('high', ascending=False)\n",
        "a"
      ],
      "id": "2070c407",
      "execution_count": 37,
      "outputs": [
        {
          "output_type": "execute_result",
          "data": {
            "text/html": [
              "<div>\n",
              "<style scoped>\n",
              "    .dataframe tbody tr th:only-of-type {\n",
              "        vertical-align: middle;\n",
              "    }\n",
              "\n",
              "    .dataframe tbody tr th {\n",
              "        vertical-align: top;\n",
              "    }\n",
              "\n",
              "    .dataframe thead th {\n",
              "        text-align: right;\n",
              "    }\n",
              "</style>\n",
              "<table border=\"1\" class=\"dataframe\">\n",
              "  <thead>\n",
              "    <tr style=\"text-align: right;\">\n",
              "      <th></th>\n",
              "      <th>high</th>\n",
              "    </tr>\n",
              "    <tr>\n",
              "      <th>year</th>\n",
              "      <th></th>\n",
              "    </tr>\n",
              "  </thead>\n",
              "  <tbody>\n",
              "    <tr>\n",
              "      <th>2014</th>\n",
              "      <td>109025.28</td>\n",
              "    </tr>\n",
              "    <tr>\n",
              "      <th>2015</th>\n",
              "      <td>105673.07</td>\n",
              "    </tr>\n",
              "    <tr>\n",
              "      <th>2018</th>\n",
              "      <td>95448.72</td>\n",
              "    </tr>\n",
              "    <tr>\n",
              "      <th>2019</th>\n",
              "      <td>94627.99</td>\n",
              "    </tr>\n",
              "    <tr>\n",
              "      <th>2017</th>\n",
              "      <td>90653.84</td>\n",
              "    </tr>\n",
              "    <tr>\n",
              "      <th>2016</th>\n",
              "      <td>89207.75</td>\n",
              "    </tr>\n",
              "    <tr>\n",
              "      <th>2012</th>\n",
              "      <td>87649.70</td>\n",
              "    </tr>\n",
              "    <tr>\n",
              "      <th>2013</th>\n",
              "      <td>87292.98</td>\n",
              "    </tr>\n",
              "    <tr>\n",
              "      <th>2011</th>\n",
              "      <td>73402.46</td>\n",
              "    </tr>\n",
              "    <tr>\n",
              "      <th>2010</th>\n",
              "      <td>71552.56</td>\n",
              "    </tr>\n",
              "    <tr>\n",
              "      <th>2009</th>\n",
              "      <td>59554.98</td>\n",
              "    </tr>\n",
              "    <tr>\n",
              "      <th>2008</th>\n",
              "      <td>49289.17</td>\n",
              "    </tr>\n",
              "    <tr>\n",
              "      <th>2005</th>\n",
              "      <td>44030.50</td>\n",
              "    </tr>\n",
              "    <tr>\n",
              "      <th>2006</th>\n",
              "      <td>43758.54</td>\n",
              "    </tr>\n",
              "    <tr>\n",
              "      <th>2004</th>\n",
              "      <td>38033.55</td>\n",
              "    </tr>\n",
              "    <tr>\n",
              "      <th>2007</th>\n",
              "      <td>36104.37</td>\n",
              "    </tr>\n",
              "    <tr>\n",
              "      <th>2020</th>\n",
              "      <td>19710.97</td>\n",
              "    </tr>\n",
              "    <tr>\n",
              "      <th>2003</th>\n",
              "      <td>19362.90</td>\n",
              "    </tr>\n",
              "    <tr>\n",
              "      <th>2002</th>\n",
              "      <td>13141.85</td>\n",
              "    </tr>\n",
              "    <tr>\n",
              "      <th>2001</th>\n",
              "      <td>42.70</td>\n",
              "    </tr>\n",
              "  </tbody>\n",
              "</table>\n",
              "</div>"
            ],
            "text/plain": [
              "           high\n",
              "year           \n",
              "2014  109025.28\n",
              "2015  105673.07\n",
              "2018   95448.72\n",
              "2019   94627.99\n",
              "2017   90653.84\n",
              "2016   89207.75\n",
              "2012   87649.70\n",
              "2013   87292.98\n",
              "2011   73402.46\n",
              "2010   71552.56\n",
              "2009   59554.98\n",
              "2008   49289.17\n",
              "2005   44030.50\n",
              "2006   43758.54\n",
              "2004   38033.55\n",
              "2007   36104.37\n",
              "2020   19710.97\n",
              "2003   19362.90\n",
              "2002   13141.85\n",
              "2001      42.70"
            ]
          },
          "metadata": {},
          "execution_count": 37
        }
      ]
    },
    {
      "cell_type": "code",
      "metadata": {
        "id": "0c00dda5",
        "colab": {
          "base_uri": "https://localhost:8080/",
          "height": 0
        },
        "outputId": "c1c2041e-d828-4bd9-aa46-eea8a652a3be"
      },
      "source": [
        "plt.figure(figsize=[12,6]);\n",
        "plt.bar(a.index,a.high);\n",
        "plt.title('the most valuable year in the Saudi stock market',fontsize=30,color='black',family='serif');\n",
        "plt.xlabel('year',fontsize=20,color='black',family='serif');\n",
        "plt.ylabel('high',fontsize=20,color='black',family='serif');"
      ],
      "id": "0c00dda5",
      "execution_count": 38,
      "outputs": [
        {
          "output_type": "display_data",
          "data": {
            "text/plain": [
              "<Figure size 864x432 with 1 Axes>"
            ],
            "image/svg+xml": "<?xml version=\"1.0\" encoding=\"utf-8\" standalone=\"no\"?>\n<!DOCTYPE svg PUBLIC \"-//W3C//DTD SVG 1.1//EN\"\n  \"http://www.w3.org/Graphics/SVG/1.1/DTD/svg11.dtd\">\n<!-- Created with matplotlib (https://matplotlib.org/) -->\n<svg height=\"410.055313pt\" version=\"1.1\" viewBox=\"0 0 792.148437 410.055313\" width=\"792.148437pt\" xmlns=\"http://www.w3.org/2000/svg\" xmlns:xlink=\"http://www.w3.org/1999/xlink\">\n <defs>\n  <style type=\"text/css\">\n*{stroke-linecap:butt;stroke-linejoin:round;}\n  </style>\n </defs>\n <g id=\"figure_1\">\n  <g id=\"patch_1\">\n   <path d=\"M 0 410.055313 \nL 792.148437 410.055313 \nL 792.148437 0 \nL 0 0 \nz\n\" style=\"fill:none;\"/>\n  </g>\n  <g id=\"axes_1\">\n   <g id=\"patch_2\">\n    <path d=\"M 76.015625 362.820938 \nL 745.615625 362.820938 \nL 745.615625 36.660938 \nL 76.015625 36.660938 \nz\n\" style=\"fill:#ffffff;\"/>\n   </g>\n   <g id=\"patch_3\">\n    <path clip-path=\"url(#p778e450c3b)\" d=\"M 506.12141 362.820938 \nL 530.716451 362.820938 \nL 530.716451 52.192366 \nL 506.12141 52.192366 \nz\n\" style=\"fill:#1f77b4;\"/>\n   </g>\n   <g id=\"patch_4\">\n    <path clip-path=\"url(#p778e450c3b)\" d=\"M 536.865212 362.820938 \nL 561.460253 362.820938 \nL 561.460253 61.74329 \nL 536.865212 61.74329 \nz\n\" style=\"fill:#1f77b4;\"/>\n   </g>\n   <g id=\"patch_5\">\n    <path clip-path=\"url(#p778e450c3b)\" d=\"M 629.096617 362.820938 \nL 653.691658 362.820938 \nL 653.691658 90.873922 \nL 629.096617 90.873922 \nz\n\" style=\"fill:#1f77b4;\"/>\n   </g>\n   <g id=\"patch_6\">\n    <path clip-path=\"url(#p778e450c3b)\" d=\"M 659.840418 362.820938 \nL 684.43546 362.820938 \nL 684.43546 93.212299 \nL 659.840418 93.212299 \nz\n\" style=\"fill:#1f77b4;\"/>\n   </g>\n   <g id=\"patch_7\">\n    <path clip-path=\"url(#p778e450c3b)\" d=\"M 598.352815 362.820938 \nL 622.947856 362.820938 \nL 622.947856 104.535219 \nL 598.352815 104.535219 \nz\n\" style=\"fill:#1f77b4;\"/>\n   </g>\n   <g id=\"patch_8\">\n    <path clip-path=\"url(#p778e450c3b)\" d=\"M 567.609013 362.820938 \nL 592.204055 362.820938 \nL 592.204055 108.655335 \nL 567.609013 108.655335 \nz\n\" style=\"fill:#1f77b4;\"/>\n   </g>\n   <g id=\"patch_9\">\n    <path clip-path=\"url(#p778e450c3b)\" d=\"M 444.633807 362.820938 \nL 469.228848 362.820938 \nL 469.228848 113.094442 \nL 444.633807 113.094442 \nz\n\" style=\"fill:#1f77b4;\"/>\n   </g>\n   <g id=\"patch_10\">\n    <path clip-path=\"url(#p778e450c3b)\" d=\"M 475.377608 362.820938 \nL 499.97265 362.820938 \nL 499.97265 114.110788 \nL 475.377608 114.110788 \nz\n\" style=\"fill:#1f77b4;\"/>\n   </g>\n   <g id=\"patch_11\">\n    <path clip-path=\"url(#p778e450c3b)\" d=\"M 413.890005 362.820938 \nL 438.485046 362.820938 \nL 438.485046 153.686861 \nL 413.890005 153.686861 \nz\n\" style=\"fill:#1f77b4;\"/>\n   </g>\n   <g id=\"patch_12\">\n    <path clip-path=\"url(#p778e450c3b)\" d=\"M 383.146204 362.820938 \nL 407.741245 362.820938 \nL 407.741245 158.95749 \nL 383.146204 158.95749 \nz\n\" style=\"fill:#1f77b4;\"/>\n   </g>\n   <g id=\"patch_13\">\n    <path clip-path=\"url(#p778e450c3b)\" d=\"M 352.402402 362.820938 \nL 376.997443 362.820938 \nL 376.997443 193.140306 \nL 352.402402 193.140306 \nz\n\" style=\"fill:#1f77b4;\"/>\n   </g>\n   <g id=\"patch_14\">\n    <path clip-path=\"url(#p778e450c3b)\" d=\"M 321.6586 362.820938 \nL 346.253642 362.820938 \nL 346.253642 222.389063 \nL 321.6586 222.389063 \nz\n\" style=\"fill:#1f77b4;\"/>\n   </g>\n   <g id=\"patch_15\">\n    <path clip-path=\"url(#p778e450c3b)\" d=\"M 229.427195 362.820938 \nL 254.022237 362.820938 \nL 254.022237 237.371764 \nL 229.427195 237.371764 \nz\n\" style=\"fill:#1f77b4;\"/>\n   </g>\n   <g id=\"patch_16\">\n    <path clip-path=\"url(#p778e450c3b)\" d=\"M 260.170997 362.820938 \nL 284.766038 362.820938 \nL 284.766038 238.146616 \nL 260.170997 238.146616 \nz\n\" style=\"fill:#1f77b4;\"/>\n   </g>\n   <g id=\"patch_17\">\n    <path clip-path=\"url(#p778e450c3b)\" d=\"M 198.683394 362.820938 \nL 223.278435 362.820938 \nL 223.278435 254.457929 \nL 198.683394 254.457929 \nz\n\" style=\"fill:#1f77b4;\"/>\n   </g>\n   <g id=\"patch_18\">\n    <path clip-path=\"url(#p778e450c3b)\" d=\"M 290.914799 362.820938 \nL 315.50984 362.820938 \nL 315.50984 259.954438 \nL 290.914799 259.954438 \nz\n\" style=\"fill:#1f77b4;\"/>\n   </g>\n   <g id=\"patch_19\">\n    <path clip-path=\"url(#p778e450c3b)\" d=\"M 690.58422 362.820938 \nL 715.179261 362.820938 \nL 715.179261 306.661573 \nL 690.58422 306.661573 \nz\n\" style=\"fill:#1f77b4;\"/>\n   </g>\n   <g id=\"patch_20\">\n    <path clip-path=\"url(#p778e450c3b)\" d=\"M 167.939592 362.820938 \nL 192.534633 362.820938 \nL 192.534633 307.653274 \nL 167.939592 307.653274 \nz\n\" style=\"fill:#1f77b4;\"/>\n   </g>\n   <g id=\"patch_21\">\n    <path clip-path=\"url(#p778e450c3b)\" d=\"M 137.19579 362.820938 \nL 161.790832 362.820938 \nL 161.790832 325.377933 \nL 137.19579 325.377933 \nz\n\" style=\"fill:#1f77b4;\"/>\n   </g>\n   <g id=\"patch_22\">\n    <path clip-path=\"url(#p778e450c3b)\" d=\"M 106.451989 362.820938 \nL 131.04703 362.820938 \nL 131.04703 362.699279 \nL 106.451989 362.699279 \nz\n\" style=\"fill:#1f77b4;\"/>\n   </g>\n   <g id=\"matplotlib.axis_1\">\n    <g id=\"xtick_1\">\n     <g id=\"line2d_1\">\n      <defs>\n       <path d=\"M 0 0 \nL 0 3.5 \n\" id=\"m5ef37a98d3\" style=\"stroke:#000000;stroke-width:0.8;\"/>\n      </defs>\n      <g>\n       <use style=\"stroke:#000000;stroke-width:0.8;\" x=\"88.005708\" xlink:href=\"#m5ef37a98d3\" y=\"362.820938\"/>\n      </g>\n     </g>\n     <g id=\"text_1\">\n      <!-- 2000.0 -->\n      <defs>\n       <path d=\"M 19.1875 8.296875 \nL 53.609375 8.296875 \nL 53.609375 0 \nL 7.328125 0 \nL 7.328125 8.296875 \nQ 12.9375 14.109375 22.625 23.890625 \nQ 32.328125 33.6875 34.8125 36.53125 \nQ 39.546875 41.84375 41.421875 45.53125 \nQ 43.3125 49.21875 43.3125 52.78125 \nQ 43.3125 58.59375 39.234375 62.25 \nQ 35.15625 65.921875 28.609375 65.921875 \nQ 23.96875 65.921875 18.8125 64.3125 \nQ 13.671875 62.703125 7.8125 59.421875 \nL 7.8125 69.390625 \nQ 13.765625 71.78125 18.9375 73 \nQ 24.125 74.21875 28.421875 74.21875 \nQ 39.75 74.21875 46.484375 68.546875 \nQ 53.21875 62.890625 53.21875 53.421875 \nQ 53.21875 48.921875 51.53125 44.890625 \nQ 49.859375 40.875 45.40625 35.40625 \nQ 44.1875 33.984375 37.640625 27.21875 \nQ 31.109375 20.453125 19.1875 8.296875 \nz\n\" id=\"DejaVuSans-50\"/>\n       <path d=\"M 31.78125 66.40625 \nQ 24.171875 66.40625 20.328125 58.90625 \nQ 16.5 51.421875 16.5 36.375 \nQ 16.5 21.390625 20.328125 13.890625 \nQ 24.171875 6.390625 31.78125 6.390625 \nQ 39.453125 6.390625 43.28125 13.890625 \nQ 47.125 21.390625 47.125 36.375 \nQ 47.125 51.421875 43.28125 58.90625 \nQ 39.453125 66.40625 31.78125 66.40625 \nz\nM 31.78125 74.21875 \nQ 44.046875 74.21875 50.515625 64.515625 \nQ 56.984375 54.828125 56.984375 36.375 \nQ 56.984375 17.96875 50.515625 8.265625 \nQ 44.046875 -1.421875 31.78125 -1.421875 \nQ 19.53125 -1.421875 13.0625 8.265625 \nQ 6.59375 17.96875 6.59375 36.375 \nQ 6.59375 54.828125 13.0625 64.515625 \nQ 19.53125 74.21875 31.78125 74.21875 \nz\n\" id=\"DejaVuSans-48\"/>\n       <path d=\"M 10.6875 12.40625 \nL 21 12.40625 \nL 21 0 \nL 10.6875 0 \nz\n\" id=\"DejaVuSans-46\"/>\n      </defs>\n      <g transform=\"translate(70.510395 377.419375)scale(0.1 -0.1)\">\n       <use xlink:href=\"#DejaVuSans-50\"/>\n       <use x=\"63.623047\" xlink:href=\"#DejaVuSans-48\"/>\n       <use x=\"127.246094\" xlink:href=\"#DejaVuSans-48\"/>\n       <use x=\"190.869141\" xlink:href=\"#DejaVuSans-48\"/>\n       <use x=\"254.492188\" xlink:href=\"#DejaVuSans-46\"/>\n       <use x=\"286.279297\" xlink:href=\"#DejaVuSans-48\"/>\n      </g>\n     </g>\n    </g>\n    <g id=\"xtick_2\">\n     <g id=\"line2d_2\">\n      <g>\n       <use style=\"stroke:#000000;stroke-width:0.8;\" x=\"164.865212\" xlink:href=\"#m5ef37a98d3\" y=\"362.820938\"/>\n      </g>\n     </g>\n     <g id=\"text_2\">\n      <!-- 2002.5 -->\n      <defs>\n       <path d=\"M 10.796875 72.90625 \nL 49.515625 72.90625 \nL 49.515625 64.59375 \nL 19.828125 64.59375 \nL 19.828125 46.734375 \nQ 21.96875 47.46875 24.109375 47.828125 \nQ 26.265625 48.1875 28.421875 48.1875 \nQ 40.625 48.1875 47.75 41.5 \nQ 54.890625 34.8125 54.890625 23.390625 \nQ 54.890625 11.625 47.5625 5.09375 \nQ 40.234375 -1.421875 26.90625 -1.421875 \nQ 22.3125 -1.421875 17.546875 -0.640625 \nQ 12.796875 0.140625 7.71875 1.703125 \nL 7.71875 11.625 \nQ 12.109375 9.234375 16.796875 8.0625 \nQ 21.484375 6.890625 26.703125 6.890625 \nQ 35.15625 6.890625 40.078125 11.328125 \nQ 45.015625 15.765625 45.015625 23.390625 \nQ 45.015625 31 40.078125 35.4375 \nQ 35.15625 39.890625 26.703125 39.890625 \nQ 22.75 39.890625 18.8125 39.015625 \nQ 14.890625 38.140625 10.796875 36.28125 \nz\n\" id=\"DejaVuSans-53\"/>\n      </defs>\n      <g transform=\"translate(147.369899 377.419375)scale(0.1 -0.1)\">\n       <use xlink:href=\"#DejaVuSans-50\"/>\n       <use x=\"63.623047\" xlink:href=\"#DejaVuSans-48\"/>\n       <use x=\"127.246094\" xlink:href=\"#DejaVuSans-48\"/>\n       <use x=\"190.869141\" xlink:href=\"#DejaVuSans-50\"/>\n       <use x=\"254.492188\" xlink:href=\"#DejaVuSans-46\"/>\n       <use x=\"286.279297\" xlink:href=\"#DejaVuSans-53\"/>\n      </g>\n     </g>\n    </g>\n    <g id=\"xtick_3\">\n     <g id=\"line2d_3\">\n      <g>\n       <use style=\"stroke:#000000;stroke-width:0.8;\" x=\"241.724716\" xlink:href=\"#m5ef37a98d3\" y=\"362.820938\"/>\n      </g>\n     </g>\n     <g id=\"text_3\">\n      <!-- 2005.0 -->\n      <g transform=\"translate(224.229403 377.419375)scale(0.1 -0.1)\">\n       <use xlink:href=\"#DejaVuSans-50\"/>\n       <use x=\"63.623047\" xlink:href=\"#DejaVuSans-48\"/>\n       <use x=\"127.246094\" xlink:href=\"#DejaVuSans-48\"/>\n       <use x=\"190.869141\" xlink:href=\"#DejaVuSans-53\"/>\n       <use x=\"254.492188\" xlink:href=\"#DejaVuSans-46\"/>\n       <use x=\"286.279297\" xlink:href=\"#DejaVuSans-48\"/>\n      </g>\n     </g>\n    </g>\n    <g id=\"xtick_4\">\n     <g id=\"line2d_4\">\n      <g>\n       <use style=\"stroke:#000000;stroke-width:0.8;\" x=\"318.58422\" xlink:href=\"#m5ef37a98d3\" y=\"362.820938\"/>\n      </g>\n     </g>\n     <g id=\"text_4\">\n      <!-- 2007.5 -->\n      <defs>\n       <path d=\"M 8.203125 72.90625 \nL 55.078125 72.90625 \nL 55.078125 68.703125 \nL 28.609375 0 \nL 18.3125 0 \nL 43.21875 64.59375 \nL 8.203125 64.59375 \nz\n\" id=\"DejaVuSans-55\"/>\n      </defs>\n      <g transform=\"translate(301.088908 377.419375)scale(0.1 -0.1)\">\n       <use xlink:href=\"#DejaVuSans-50\"/>\n       <use x=\"63.623047\" xlink:href=\"#DejaVuSans-48\"/>\n       <use x=\"127.246094\" xlink:href=\"#DejaVuSans-48\"/>\n       <use x=\"190.869141\" xlink:href=\"#DejaVuSans-55\"/>\n       <use x=\"254.492188\" xlink:href=\"#DejaVuSans-46\"/>\n       <use x=\"286.279297\" xlink:href=\"#DejaVuSans-53\"/>\n      </g>\n     </g>\n    </g>\n    <g id=\"xtick_5\">\n     <g id=\"line2d_5\">\n      <g>\n       <use style=\"stroke:#000000;stroke-width:0.8;\" x=\"395.443724\" xlink:href=\"#m5ef37a98d3\" y=\"362.820938\"/>\n      </g>\n     </g>\n     <g id=\"text_5\">\n      <!-- 2010.0 -->\n      <defs>\n       <path d=\"M 12.40625 8.296875 \nL 28.515625 8.296875 \nL 28.515625 63.921875 \nL 10.984375 60.40625 \nL 10.984375 69.390625 \nL 28.421875 72.90625 \nL 38.28125 72.90625 \nL 38.28125 8.296875 \nL 54.390625 8.296875 \nL 54.390625 0 \nL 12.40625 0 \nz\n\" id=\"DejaVuSans-49\"/>\n      </defs>\n      <g transform=\"translate(377.948412 377.419375)scale(0.1 -0.1)\">\n       <use xlink:href=\"#DejaVuSans-50\"/>\n       <use x=\"63.623047\" xlink:href=\"#DejaVuSans-48\"/>\n       <use x=\"127.246094\" xlink:href=\"#DejaVuSans-49\"/>\n       <use x=\"190.869141\" xlink:href=\"#DejaVuSans-48\"/>\n       <use x=\"254.492188\" xlink:href=\"#DejaVuSans-46\"/>\n       <use x=\"286.279297\" xlink:href=\"#DejaVuSans-48\"/>\n      </g>\n     </g>\n    </g>\n    <g id=\"xtick_6\">\n     <g id=\"line2d_6\">\n      <g>\n       <use style=\"stroke:#000000;stroke-width:0.8;\" x=\"472.303228\" xlink:href=\"#m5ef37a98d3\" y=\"362.820938\"/>\n      </g>\n     </g>\n     <g id=\"text_6\">\n      <!-- 2012.5 -->\n      <g transform=\"translate(454.807916 377.419375)scale(0.1 -0.1)\">\n       <use xlink:href=\"#DejaVuSans-50\"/>\n       <use x=\"63.623047\" xlink:href=\"#DejaVuSans-48\"/>\n       <use x=\"127.246094\" xlink:href=\"#DejaVuSans-49\"/>\n       <use x=\"190.869141\" xlink:href=\"#DejaVuSans-50\"/>\n       <use x=\"254.492188\" xlink:href=\"#DejaVuSans-46\"/>\n       <use x=\"286.279297\" xlink:href=\"#DejaVuSans-53\"/>\n      </g>\n     </g>\n    </g>\n    <g id=\"xtick_7\">\n     <g id=\"line2d_7\">\n      <g>\n       <use style=\"stroke:#000000;stroke-width:0.8;\" x=\"549.162732\" xlink:href=\"#m5ef37a98d3\" y=\"362.820938\"/>\n      </g>\n     </g>\n     <g id=\"text_7\">\n      <!-- 2015.0 -->\n      <g transform=\"translate(531.66742 377.419375)scale(0.1 -0.1)\">\n       <use xlink:href=\"#DejaVuSans-50\"/>\n       <use x=\"63.623047\" xlink:href=\"#DejaVuSans-48\"/>\n       <use x=\"127.246094\" xlink:href=\"#DejaVuSans-49\"/>\n       <use x=\"190.869141\" xlink:href=\"#DejaVuSans-53\"/>\n       <use x=\"254.492188\" xlink:href=\"#DejaVuSans-46\"/>\n       <use x=\"286.279297\" xlink:href=\"#DejaVuSans-48\"/>\n      </g>\n     </g>\n    </g>\n    <g id=\"xtick_8\">\n     <g id=\"line2d_8\">\n      <g>\n       <use style=\"stroke:#000000;stroke-width:0.8;\" x=\"626.022237\" xlink:href=\"#m5ef37a98d3\" y=\"362.820938\"/>\n      </g>\n     </g>\n     <g id=\"text_8\">\n      <!-- 2017.5 -->\n      <g transform=\"translate(608.526924 377.419375)scale(0.1 -0.1)\">\n       <use xlink:href=\"#DejaVuSans-50\"/>\n       <use x=\"63.623047\" xlink:href=\"#DejaVuSans-48\"/>\n       <use x=\"127.246094\" xlink:href=\"#DejaVuSans-49\"/>\n       <use x=\"190.869141\" xlink:href=\"#DejaVuSans-55\"/>\n       <use x=\"254.492188\" xlink:href=\"#DejaVuSans-46\"/>\n       <use x=\"286.279297\" xlink:href=\"#DejaVuSans-53\"/>\n      </g>\n     </g>\n    </g>\n    <g id=\"xtick_9\">\n     <g id=\"line2d_9\">\n      <g>\n       <use style=\"stroke:#000000;stroke-width:0.8;\" x=\"702.881741\" xlink:href=\"#m5ef37a98d3\" y=\"362.820938\"/>\n      </g>\n     </g>\n     <g id=\"text_9\">\n      <!-- 2020.0 -->\n      <g transform=\"translate(685.386428 377.419375)scale(0.1 -0.1)\">\n       <use xlink:href=\"#DejaVuSans-50\"/>\n       <use x=\"63.623047\" xlink:href=\"#DejaVuSans-48\"/>\n       <use x=\"127.246094\" xlink:href=\"#DejaVuSans-50\"/>\n       <use x=\"190.869141\" xlink:href=\"#DejaVuSans-48\"/>\n       <use x=\"254.492188\" xlink:href=\"#DejaVuSans-46\"/>\n       <use x=\"286.279297\" xlink:href=\"#DejaVuSans-48\"/>\n      </g>\n     </g>\n    </g>\n    <g id=\"text_10\">\n     <!-- year -->\n     <defs>\n      <path d=\"M 21.578125 -9.515625 \nL 25 -0.875 \nL 5.609375 46.6875 \nL -0.296875 46.6875 \nL -0.296875 51.90625 \nL 23.578125 51.90625 \nL 23.578125 46.6875 \nL 15.28125 46.6875 \nL 29.890625 10.984375 \nL 44.484375 46.6875 \nL 36.71875 46.6875 \nL 36.71875 51.90625 \nL 56.203125 51.90625 \nL 56.203125 46.6875 \nL 50.390625 46.6875 \nL 26.609375 -11.71875 \nQ 24.171875 -17.78125 21.1875 -20 \nQ 18.21875 -22.21875 12.796875 -22.21875 \nQ 10.5 -22.21875 8.078125 -21.828125 \nQ 5.671875 -21.4375 3.21875 -20.703125 \nL 3.21875 -10.796875 \nL 7.8125 -10.796875 \nQ 8.109375 -14.109375 9.5 -15.546875 \nQ 10.890625 -17 13.8125 -17 \nQ 16.5 -17 18.140625 -15.5 \nQ 19.78125 -14.015625 21.578125 -9.515625 \nz\n\" id=\"DejaVuSerif-121\"/>\n      <path d=\"M 54.203125 25 \nL 15.484375 25 \nL 15.484375 24.609375 \nQ 15.484375 14.109375 19.4375 8.765625 \nQ 23.390625 3.421875 31.109375 3.421875 \nQ 37.015625 3.421875 40.796875 6.515625 \nQ 44.578125 9.625 46.09375 15.71875 \nL 53.328125 15.71875 \nQ 51.171875 7.171875 45.375 2.875 \nQ 39.59375 -1.421875 30.171875 -1.421875 \nQ 18.796875 -1.421875 11.890625 6.078125 \nQ 4.984375 13.578125 4.984375 25.984375 \nQ 4.984375 38.28125 11.765625 45.796875 \nQ 18.5625 53.328125 29.59375 53.328125 \nQ 41.359375 53.328125 47.65625 46.0625 \nQ 53.953125 38.8125 54.203125 25 \nz\nM 43.609375 30.171875 \nQ 43.3125 39.265625 39.765625 43.875 \nQ 36.234375 48.484375 29.59375 48.484375 \nQ 23.390625 48.484375 19.828125 43.84375 \nQ 16.265625 39.203125 15.484375 30.171875 \nz\n\" id=\"DejaVuSerif-101\"/>\n      <path d=\"M 39.796875 16.3125 \nL 39.796875 27.296875 \nL 28.21875 27.296875 \nQ 21.53125 27.296875 18.25 24.40625 \nQ 14.984375 21.53125 14.984375 15.578125 \nQ 14.984375 10.15625 18.296875 6.984375 \nQ 21.625 3.8125 27.296875 3.8125 \nQ 32.90625 3.8125 36.34375 7.28125 \nQ 39.796875 10.75 39.796875 16.3125 \nz\nM 48.78125 32.421875 \nL 48.78125 5.171875 \nL 56.78125 5.171875 \nL 56.78125 0 \nL 39.796875 0 \nL 39.796875 5.609375 \nQ 36.8125 2 32.90625 0.28125 \nQ 29 -1.421875 23.78125 -1.421875 \nQ 15.140625 -1.421875 10.0625 3.171875 \nQ 4.984375 7.765625 4.984375 15.578125 \nQ 4.984375 23.640625 10.796875 28.078125 \nQ 16.609375 32.515625 27.203125 32.515625 \nL 39.796875 32.515625 \nL 39.796875 36.078125 \nQ 39.796875 42 36.203125 45.234375 \nQ 32.625 48.484375 26.125 48.484375 \nQ 20.75 48.484375 17.578125 46.046875 \nQ 14.40625 43.609375 13.625 38.8125 \nL 8.984375 38.8125 \nL 8.984375 49.3125 \nQ 13.671875 51.3125 18.09375 52.3125 \nQ 22.515625 53.328125 26.703125 53.328125 \nQ 37.5 53.328125 43.140625 47.96875 \nQ 48.78125 42.625 48.78125 32.421875 \nz\n\" id=\"DejaVuSerif-97\"/>\n      <path d=\"M 47.796875 52 \nL 47.796875 39.015625 \nL 42.625 39.015625 \nQ 42.390625 42.875 40.484375 44.78125 \nQ 38.578125 46.6875 34.90625 46.6875 \nQ 28.265625 46.6875 24.71875 42.09375 \nQ 21.1875 37.5 21.1875 28.90625 \nL 21.1875 5.171875 \nL 31.59375 5.171875 \nL 31.59375 0 \nL 4.109375 0 \nL 4.109375 5.171875 \nL 12.203125 5.171875 \nL 12.203125 46.78125 \nL 3.609375 46.78125 \nL 3.609375 51.90625 \nL 21.1875 51.90625 \nL 21.1875 42.671875 \nQ 23.828125 48.09375 27.96875 50.703125 \nQ 32.125 53.328125 38.09375 53.328125 \nQ 40.28125 53.328125 42.703125 52.984375 \nQ 45.125 52.640625 47.796875 52 \nz\n\" id=\"DejaVuSerif-114\"/>\n     </defs>\n     <g transform=\"translate(388.504687 398.411563)scale(0.2 -0.2)\">\n      <use xlink:href=\"#DejaVuSerif-121\"/>\n      <use x=\"56.494141\" xlink:href=\"#DejaVuSerif-101\"/>\n      <use x=\"115.673828\" xlink:href=\"#DejaVuSerif-97\"/>\n      <use x=\"175.292969\" xlink:href=\"#DejaVuSerif-114\"/>\n     </g>\n    </g>\n   </g>\n   <g id=\"matplotlib.axis_2\">\n    <g id=\"ytick_1\">\n     <g id=\"line2d_10\">\n      <defs>\n       <path d=\"M 0 0 \nL -3.5 0 \n\" id=\"m6fb4294a42\" style=\"stroke:#000000;stroke-width:0.8;\"/>\n      </defs>\n      <g>\n       <use style=\"stroke:#000000;stroke-width:0.8;\" x=\"76.015625\" xlink:href=\"#m6fb4294a42\" y=\"362.820938\"/>\n      </g>\n     </g>\n     <g id=\"text_11\">\n      <!-- 0 -->\n      <g transform=\"translate(62.653125 366.620156)scale(0.1 -0.1)\">\n       <use xlink:href=\"#DejaVuSans-48\"/>\n      </g>\n     </g>\n    </g>\n    <g id=\"ytick_2\">\n     <g id=\"line2d_11\">\n      <g>\n       <use style=\"stroke:#000000;stroke-width:0.8;\" x=\"76.015625\" xlink:href=\"#m6fb4294a42\" y=\"305.838085\"/>\n      </g>\n     </g>\n     <g id=\"text_12\">\n      <!-- 20000 -->\n      <g transform=\"translate(37.203125 309.637304)scale(0.1 -0.1)\">\n       <use xlink:href=\"#DejaVuSans-50\"/>\n       <use x=\"63.623047\" xlink:href=\"#DejaVuSans-48\"/>\n       <use x=\"127.246094\" xlink:href=\"#DejaVuSans-48\"/>\n       <use x=\"190.869141\" xlink:href=\"#DejaVuSans-48\"/>\n       <use x=\"254.492188\" xlink:href=\"#DejaVuSans-48\"/>\n      </g>\n     </g>\n    </g>\n    <g id=\"ytick_3\">\n     <g id=\"line2d_12\">\n      <g>\n       <use style=\"stroke:#000000;stroke-width:0.8;\" x=\"76.015625\" xlink:href=\"#m6fb4294a42\" y=\"248.855233\"/>\n      </g>\n     </g>\n     <g id=\"text_13\">\n      <!-- 40000 -->\n      <defs>\n       <path d=\"M 37.796875 64.3125 \nL 12.890625 25.390625 \nL 37.796875 25.390625 \nz\nM 35.203125 72.90625 \nL 47.609375 72.90625 \nL 47.609375 25.390625 \nL 58.015625 25.390625 \nL 58.015625 17.1875 \nL 47.609375 17.1875 \nL 47.609375 0 \nL 37.796875 0 \nL 37.796875 17.1875 \nL 4.890625 17.1875 \nL 4.890625 26.703125 \nz\n\" id=\"DejaVuSans-52\"/>\n      </defs>\n      <g transform=\"translate(37.203125 252.654452)scale(0.1 -0.1)\">\n       <use xlink:href=\"#DejaVuSans-52\"/>\n       <use x=\"63.623047\" xlink:href=\"#DejaVuSans-48\"/>\n       <use x=\"127.246094\" xlink:href=\"#DejaVuSans-48\"/>\n       <use x=\"190.869141\" xlink:href=\"#DejaVuSans-48\"/>\n       <use x=\"254.492188\" xlink:href=\"#DejaVuSans-48\"/>\n      </g>\n     </g>\n    </g>\n    <g id=\"ytick_4\">\n     <g id=\"line2d_13\">\n      <g>\n       <use style=\"stroke:#000000;stroke-width:0.8;\" x=\"76.015625\" xlink:href=\"#m6fb4294a42\" y=\"191.872381\"/>\n      </g>\n     </g>\n     <g id=\"text_14\">\n      <!-- 60000 -->\n      <defs>\n       <path d=\"M 33.015625 40.375 \nQ 26.375 40.375 22.484375 35.828125 \nQ 18.609375 31.296875 18.609375 23.390625 \nQ 18.609375 15.53125 22.484375 10.953125 \nQ 26.375 6.390625 33.015625 6.390625 \nQ 39.65625 6.390625 43.53125 10.953125 \nQ 47.40625 15.53125 47.40625 23.390625 \nQ 47.40625 31.296875 43.53125 35.828125 \nQ 39.65625 40.375 33.015625 40.375 \nz\nM 52.59375 71.296875 \nL 52.59375 62.3125 \nQ 48.875 64.0625 45.09375 64.984375 \nQ 41.3125 65.921875 37.59375 65.921875 \nQ 27.828125 65.921875 22.671875 59.328125 \nQ 17.53125 52.734375 16.796875 39.40625 \nQ 19.671875 43.65625 24.015625 45.921875 \nQ 28.375 48.1875 33.59375 48.1875 \nQ 44.578125 48.1875 50.953125 41.515625 \nQ 57.328125 34.859375 57.328125 23.390625 \nQ 57.328125 12.15625 50.6875 5.359375 \nQ 44.046875 -1.421875 33.015625 -1.421875 \nQ 20.359375 -1.421875 13.671875 8.265625 \nQ 6.984375 17.96875 6.984375 36.375 \nQ 6.984375 53.65625 15.1875 63.9375 \nQ 23.390625 74.21875 37.203125 74.21875 \nQ 40.921875 74.21875 44.703125 73.484375 \nQ 48.484375 72.75 52.59375 71.296875 \nz\n\" id=\"DejaVuSans-54\"/>\n      </defs>\n      <g transform=\"translate(37.203125 195.671599)scale(0.1 -0.1)\">\n       <use xlink:href=\"#DejaVuSans-54\"/>\n       <use x=\"63.623047\" xlink:href=\"#DejaVuSans-48\"/>\n       <use x=\"127.246094\" xlink:href=\"#DejaVuSans-48\"/>\n       <use x=\"190.869141\" xlink:href=\"#DejaVuSans-48\"/>\n       <use x=\"254.492188\" xlink:href=\"#DejaVuSans-48\"/>\n      </g>\n     </g>\n    </g>\n    <g id=\"ytick_5\">\n     <g id=\"line2d_14\">\n      <g>\n       <use style=\"stroke:#000000;stroke-width:0.8;\" x=\"76.015625\" xlink:href=\"#m6fb4294a42\" y=\"134.889528\"/>\n      </g>\n     </g>\n     <g id=\"text_15\">\n      <!-- 80000 -->\n      <defs>\n       <path d=\"M 31.78125 34.625 \nQ 24.75 34.625 20.71875 30.859375 \nQ 16.703125 27.09375 16.703125 20.515625 \nQ 16.703125 13.921875 20.71875 10.15625 \nQ 24.75 6.390625 31.78125 6.390625 \nQ 38.8125 6.390625 42.859375 10.171875 \nQ 46.921875 13.96875 46.921875 20.515625 \nQ 46.921875 27.09375 42.890625 30.859375 \nQ 38.875 34.625 31.78125 34.625 \nz\nM 21.921875 38.8125 \nQ 15.578125 40.375 12.03125 44.71875 \nQ 8.5 49.078125 8.5 55.328125 \nQ 8.5 64.0625 14.71875 69.140625 \nQ 20.953125 74.21875 31.78125 74.21875 \nQ 42.671875 74.21875 48.875 69.140625 \nQ 55.078125 64.0625 55.078125 55.328125 \nQ 55.078125 49.078125 51.53125 44.71875 \nQ 48 40.375 41.703125 38.8125 \nQ 48.828125 37.15625 52.796875 32.3125 \nQ 56.78125 27.484375 56.78125 20.515625 \nQ 56.78125 9.90625 50.3125 4.234375 \nQ 43.84375 -1.421875 31.78125 -1.421875 \nQ 19.734375 -1.421875 13.25 4.234375 \nQ 6.78125 9.90625 6.78125 20.515625 \nQ 6.78125 27.484375 10.78125 32.3125 \nQ 14.796875 37.15625 21.921875 38.8125 \nz\nM 18.3125 54.390625 \nQ 18.3125 48.734375 21.84375 45.5625 \nQ 25.390625 42.390625 31.78125 42.390625 \nQ 38.140625 42.390625 41.71875 45.5625 \nQ 45.3125 48.734375 45.3125 54.390625 \nQ 45.3125 60.0625 41.71875 63.234375 \nQ 38.140625 66.40625 31.78125 66.40625 \nQ 25.390625 66.40625 21.84375 63.234375 \nQ 18.3125 60.0625 18.3125 54.390625 \nz\n\" id=\"DejaVuSans-56\"/>\n      </defs>\n      <g transform=\"translate(37.203125 138.688747)scale(0.1 -0.1)\">\n       <use xlink:href=\"#DejaVuSans-56\"/>\n       <use x=\"63.623047\" xlink:href=\"#DejaVuSans-48\"/>\n       <use x=\"127.246094\" xlink:href=\"#DejaVuSans-48\"/>\n       <use x=\"190.869141\" xlink:href=\"#DejaVuSans-48\"/>\n       <use x=\"254.492188\" xlink:href=\"#DejaVuSans-48\"/>\n      </g>\n     </g>\n    </g>\n    <g id=\"ytick_6\">\n     <g id=\"line2d_15\">\n      <g>\n       <use style=\"stroke:#000000;stroke-width:0.8;\" x=\"76.015625\" xlink:href=\"#m6fb4294a42\" y=\"77.906676\"/>\n      </g>\n     </g>\n     <g id=\"text_16\">\n      <!-- 100000 -->\n      <g transform=\"translate(30.840625 81.705895)scale(0.1 -0.1)\">\n       <use xlink:href=\"#DejaVuSans-49\"/>\n       <use x=\"63.623047\" xlink:href=\"#DejaVuSans-48\"/>\n       <use x=\"127.246094\" xlink:href=\"#DejaVuSans-48\"/>\n       <use x=\"190.869141\" xlink:href=\"#DejaVuSans-48\"/>\n       <use x=\"254.492188\" xlink:href=\"#DejaVuSans-48\"/>\n       <use x=\"318.115234\" xlink:href=\"#DejaVuSans-48\"/>\n      </g>\n     </g>\n    </g>\n    <g id=\"text_17\">\n     <!-- high -->\n     <defs>\n      <path d=\"M 4.109375 0 \nL 4.109375 5.171875 \nL 12.203125 5.171875 \nL 12.203125 70.796875 \nL 3.609375 70.796875 \nL 3.609375 75.984375 \nL 21.1875 75.984375 \nL 21.1875 42.671875 \nQ 23.6875 47.953125 27.65625 50.640625 \nQ 31.640625 53.328125 36.921875 53.328125 \nQ 45.515625 53.328125 49.5625 48.390625 \nQ 53.609375 43.453125 53.609375 33.015625 \nL 53.609375 5.171875 \nL 61.625 5.171875 \nL 61.625 0 \nL 36.8125 0 \nL 36.8125 5.171875 \nL 44.578125 5.171875 \nL 44.578125 30.171875 \nQ 44.578125 39.703125 42.25 43.1875 \nQ 39.9375 46.6875 33.984375 46.6875 \nQ 27.734375 46.6875 24.453125 42.140625 \nQ 21.1875 37.59375 21.1875 28.90625 \nL 21.1875 5.171875 \nL 29 5.171875 \nL 29 0 \nz\n\" id=\"DejaVuSerif-104\"/>\n      <path d=\"M 9.71875 68.015625 \nQ 9.71875 70.265625 11.34375 71.921875 \nQ 12.984375 73.578125 15.28125 73.578125 \nQ 17.53125 73.578125 19.15625 71.921875 \nQ 20.796875 70.265625 20.796875 68.015625 \nQ 20.796875 65.71875 19.1875 64.109375 \nQ 17.578125 62.5 15.28125 62.5 \nQ 12.984375 62.5 11.34375 64.109375 \nQ 9.71875 65.71875 9.71875 68.015625 \nz\nM 21.1875 5.171875 \nL 29.6875 5.171875 \nL 29.6875 0 \nL 3.609375 0 \nL 3.609375 5.171875 \nL 12.203125 5.171875 \nL 12.203125 46.6875 \nL 3.609375 46.6875 \nL 3.609375 51.90625 \nL 21.1875 51.90625 \nz\n\" id=\"DejaVuSerif-105\"/>\n      <path d=\"M 52.484375 46.6875 \nL 52.484375 1.125 \nQ 52.484375 -10.0625 46.328125 -16.140625 \nQ 40.1875 -22.21875 28.8125 -22.21875 \nQ 23.6875 -22.21875 19 -21.28125 \nQ 14.3125 -20.359375 10.015625 -18.5 \nL 10.015625 -7.625 \nL 14.703125 -7.625 \nQ 15.578125 -12.703125 18.84375 -15.046875 \nQ 22.125 -17.390625 28.21875 -17.390625 \nQ 36.140625 -17.390625 39.8125 -12.921875 \nQ 43.5 -8.453125 43.5 1.125 \nL 43.5 8.109375 \nQ 40.875 3.21875 36.796875 0.890625 \nQ 32.71875 -1.421875 26.703125 -1.421875 \nQ 17.140625 -1.421875 11.0625 6.171875 \nQ 4.984375 13.765625 4.984375 25.984375 \nQ 4.984375 38.1875 11.03125 45.75 \nQ 17.09375 53.328125 26.703125 53.328125 \nQ 32.71875 53.328125 36.796875 51 \nQ 40.875 48.6875 43.5 43.796875 \nL 43.5 51.90625 \nL 61.078125 51.90625 \nL 61.078125 46.6875 \nz\nM 43.5 28.515625 \nQ 43.5 37.84375 39.90625 42.765625 \nQ 36.328125 47.703125 29.5 47.703125 \nQ 22.5625 47.703125 19.015625 42.234375 \nQ 15.484375 36.765625 15.484375 25.984375 \nQ 15.484375 15.234375 19.015625 9.71875 \nQ 22.5625 4.203125 29.5 4.203125 \nQ 36.328125 4.203125 39.90625 9.109375 \nQ 43.5 14.015625 43.5 23.390625 \nz\n\" id=\"DejaVuSerif-103\"/>\n     </defs>\n     <g transform=\"translate(22.396875 222.222188)rotate(-90)scale(0.2 -0.2)\">\n      <use xlink:href=\"#DejaVuSerif-104\"/>\n      <use x=\"64.404297\" xlink:href=\"#DejaVuSerif-105\"/>\n      <use x=\"96.386719\" xlink:href=\"#DejaVuSerif-103\"/>\n      <use x=\"160.400391\" xlink:href=\"#DejaVuSerif-104\"/>\n     </g>\n    </g>\n   </g>\n   <g id=\"patch_23\">\n    <path d=\"M 76.015625 362.820938 \nL 76.015625 36.660938 \n\" style=\"fill:none;stroke:#000000;stroke-linecap:square;stroke-linejoin:miter;stroke-width:0.8;\"/>\n   </g>\n   <g id=\"patch_24\">\n    <path d=\"M 745.615625 362.820938 \nL 745.615625 36.660938 \n\" style=\"fill:none;stroke:#000000;stroke-linecap:square;stroke-linejoin:miter;stroke-width:0.8;\"/>\n   </g>\n   <g id=\"patch_25\">\n    <path d=\"M 76.015625 362.820938 \nL 745.615625 362.820938 \n\" style=\"fill:none;stroke:#000000;stroke-linecap:square;stroke-linejoin:miter;stroke-width:0.8;\"/>\n   </g>\n   <g id=\"patch_26\">\n    <path d=\"M 76.015625 36.660938 \nL 745.615625 36.660938 \n\" style=\"fill:none;stroke:#000000;stroke-linecap:square;stroke-linejoin:miter;stroke-width:0.8;\"/>\n   </g>\n   <g id=\"text_18\">\n    <!-- the most valuable year in the Saudi stock market -->\n    <defs>\n     <path d=\"M 10.796875 46.6875 \nL 2.875 46.6875 \nL 2.875 51.90625 \nL 10.796875 51.90625 \nL 10.796875 68.015625 \nL 19.828125 68.015625 \nL 19.828125 51.90625 \nL 36.71875 51.90625 \nL 36.71875 46.6875 \nL 19.828125 46.6875 \nL 19.828125 13.71875 \nQ 19.828125 7.125 21.09375 5.265625 \nQ 22.359375 3.421875 25.78125 3.421875 \nQ 29.296875 3.421875 30.90625 5.484375 \nQ 32.515625 7.5625 32.625 12.203125 \nL 39.40625 12.203125 \nQ 39.015625 5.125 35.546875 1.84375 \nQ 32.078125 -1.421875 25 -1.421875 \nQ 17.234375 -1.421875 14.015625 2.015625 \nQ 10.796875 5.46875 10.796875 13.71875 \nz\n\" id=\"DejaVuSerif-116\"/>\n     <path id=\"DejaVuSerif-32\"/>\n     <path d=\"M 51.8125 41.796875 \nQ 54.390625 47.515625 58.421875 50.421875 \nQ 62.453125 53.328125 67.828125 53.328125 \nQ 75.984375 53.328125 79.984375 48.265625 \nQ 83.984375 43.21875 83.984375 33.015625 \nL 83.984375 5.171875 \nL 92.09375 5.171875 \nL 92.09375 0 \nL 67.1875 0 \nL 67.1875 5.171875 \nL 75 5.171875 \nL 75 31.984375 \nQ 75 39.9375 72.65625 43.3125 \nQ 70.3125 46.6875 64.890625 46.6875 \nQ 58.890625 46.6875 55.734375 42.140625 \nQ 52.59375 37.59375 52.59375 28.90625 \nL 52.59375 5.171875 \nL 60.40625 5.171875 \nL 60.40625 0 \nL 35.796875 0 \nL 35.796875 5.171875 \nL 43.609375 5.171875 \nL 43.609375 32.328125 \nQ 43.609375 40.09375 41.265625 43.390625 \nQ 38.921875 46.6875 33.5 46.6875 \nQ 27.484375 46.6875 24.328125 42.140625 \nQ 21.1875 37.59375 21.1875 28.90625 \nL 21.1875 5.171875 \nL 29 5.171875 \nL 29 0 \nL 4.109375 0 \nL 4.109375 5.171875 \nL 12.203125 5.171875 \nL 12.203125 46.78125 \nL 3.609375 46.78125 \nL 3.609375 51.90625 \nL 21.1875 51.90625 \nL 21.1875 42.671875 \nQ 23.6875 47.859375 27.53125 50.59375 \nQ 31.390625 53.328125 36.28125 53.328125 \nQ 42.328125 53.328125 46.375 50.3125 \nQ 50.4375 47.3125 51.8125 41.796875 \nz\n\" id=\"DejaVuSerif-109\"/>\n     <path d=\"M 30.078125 3.421875 \nQ 37.3125 3.421875 40.984375 9.125 \nQ 44.671875 14.84375 44.671875 25.984375 \nQ 44.671875 37.109375 40.984375 42.796875 \nQ 37.3125 48.484375 30.078125 48.484375 \nQ 22.859375 48.484375 19.171875 42.796875 \nQ 15.484375 37.109375 15.484375 25.984375 \nQ 15.484375 14.84375 19.1875 9.125 \nQ 22.90625 3.421875 30.078125 3.421875 \nz\nM 30.078125 -1.421875 \nQ 18.75 -1.421875 11.859375 6.078125 \nQ 4.984375 13.578125 4.984375 25.984375 \nQ 4.984375 38.375 11.84375 45.84375 \nQ 18.703125 53.328125 30.078125 53.328125 \nQ 41.453125 53.328125 48.3125 45.84375 \nQ 55.171875 38.375 55.171875 25.984375 \nQ 55.171875 13.578125 48.3125 6.078125 \nQ 41.453125 -1.421875 30.078125 -1.421875 \nz\n\" id=\"DejaVuSerif-111\"/>\n     <path d=\"M 5.609375 2.875 \nL 5.609375 14.984375 \nL 10.796875 14.984375 \nQ 10.984375 9.1875 14.421875 6.296875 \nQ 17.875 3.421875 24.609375 3.421875 \nQ 30.671875 3.421875 33.84375 5.6875 \nQ 37.015625 7.953125 37.015625 12.3125 \nQ 37.015625 15.71875 34.6875 17.8125 \nQ 32.375 19.921875 24.90625 22.3125 \nL 18.40625 24.515625 \nQ 11.71875 26.65625 8.71875 29.875 \nQ 5.71875 33.109375 5.71875 38.09375 \nQ 5.71875 45.21875 10.9375 49.265625 \nQ 16.15625 53.328125 25.390625 53.328125 \nQ 29.5 53.328125 34.03125 52.25 \nQ 38.578125 51.171875 43.40625 49.125 \nL 43.40625 37.796875 \nL 38.234375 37.796875 \nQ 38.03125 42.828125 34.703125 45.65625 \nQ 31.390625 48.484375 25.6875 48.484375 \nQ 20.015625 48.484375 17.109375 46.484375 \nQ 14.203125 44.484375 14.203125 40.484375 \nQ 14.203125 37.203125 16.40625 35.21875 \nQ 18.609375 33.25 25.203125 31.203125 \nL 32.328125 29 \nQ 39.703125 26.703125 42.9375 23.265625 \nQ 46.1875 19.828125 46.1875 14.40625 \nQ 46.1875 7.03125 40.546875 2.796875 \nQ 34.90625 -1.421875 25 -1.421875 \nQ 19.96875 -1.421875 15.1875 -0.34375 \nQ 10.40625 0.734375 5.609375 2.875 \nz\n\" id=\"DejaVuSerif-115\"/>\n     <path d=\"M 24.703125 0 \nL 5.609375 46.6875 \nL -0.296875 46.6875 \nL -0.296875 51.90625 \nL 23.578125 51.90625 \nL 23.578125 46.6875 \nL 15.28125 46.6875 \nL 29.890625 10.984375 \nL 44.484375 46.6875 \nL 36.71875 46.6875 \nL 36.71875 51.90625 \nL 56.203125 51.90625 \nL 56.203125 46.6875 \nL 50.390625 46.6875 \nL 31.296875 0 \nz\n\" id=\"DejaVuSerif-118\"/>\n     <path d=\"M 20.515625 5.171875 \nL 29 5.171875 \nL 29 0 \nL 2.875 0 \nL 2.875 5.171875 \nL 11.53125 5.171875 \nL 11.53125 70.796875 \nL 2.875 70.796875 \nL 2.875 75.984375 \nL 20.515625 75.984375 \nz\n\" id=\"DejaVuSerif-108\"/>\n     <path d=\"M 35.40625 51.90625 \nL 52.203125 51.90625 \nL 52.203125 5.171875 \nL 60.6875 5.171875 \nL 60.6875 0 \nL 43.21875 0 \nL 43.21875 9.1875 \nQ 40.71875 4 36.765625 1.28125 \nQ 32.8125 -1.421875 27.59375 -1.421875 \nQ 18.953125 -1.421875 14.875 3.484375 \nQ 10.796875 8.40625 10.796875 18.890625 \nL 10.796875 46.6875 \nL 2.6875 46.6875 \nL 2.6875 51.90625 \nL 19.828125 51.90625 \nL 19.828125 21.6875 \nQ 19.828125 12.203125 22.140625 8.6875 \nQ 24.46875 5.171875 30.421875 5.171875 \nQ 36.671875 5.171875 39.9375 9.765625 \nQ 43.21875 14.359375 43.21875 23.09375 \nL 43.21875 46.6875 \nL 35.40625 46.6875 \nz\n\" id=\"DejaVuSerif-117\"/>\n     <path d=\"M 11.53125 5.171875 \nL 11.53125 70.796875 \nL 2.875 70.796875 \nL 2.875 75.984375 \nL 20.515625 75.984375 \nL 20.515625 43.796875 \nQ 23.140625 48.6875 27.21875 51 \nQ 31.296875 53.328125 37.3125 53.328125 \nQ 46.875 53.328125 52.921875 45.75 \nQ 58.984375 38.1875 58.984375 25.984375 \nQ 58.984375 13.765625 52.921875 6.171875 \nQ 46.875 -1.421875 37.3125 -1.421875 \nQ 31.296875 -1.421875 27.21875 0.890625 \nQ 23.140625 3.21875 20.515625 8.109375 \nL 20.515625 0 \nL 2.875 0 \nL 2.875 5.171875 \nz\nM 20.515625 23.390625 \nQ 20.515625 14.015625 24.09375 9.109375 \nQ 27.6875 4.203125 34.515625 4.203125 \nQ 41.40625 4.203125 44.9375 9.71875 \nQ 48.484375 15.234375 48.484375 25.984375 \nQ 48.484375 36.765625 44.9375 42.234375 \nQ 41.40625 47.703125 34.515625 47.703125 \nQ 27.6875 47.703125 24.09375 42.765625 \nQ 20.515625 37.84375 20.515625 28.515625 \nz\n\" id=\"DejaVuSerif-98\"/>\n     <path d=\"M 4.109375 0 \nL 4.109375 5.171875 \nL 12.203125 5.171875 \nL 12.203125 46.6875 \nL 3.609375 46.6875 \nL 3.609375 51.90625 \nL 21.1875 51.90625 \nL 21.1875 42.671875 \nQ 23.6875 47.953125 27.65625 50.640625 \nQ 31.640625 53.328125 36.921875 53.328125 \nQ 45.515625 53.328125 49.5625 48.390625 \nQ 53.609375 43.453125 53.609375 33.015625 \nL 53.609375 5.171875 \nL 61.625 5.171875 \nL 61.625 0 \nL 36.8125 0 \nL 36.8125 5.171875 \nL 44.578125 5.171875 \nL 44.578125 30.171875 \nQ 44.578125 39.703125 42.234375 43.234375 \nQ 39.890625 46.78125 33.984375 46.78125 \nQ 27.734375 46.78125 24.453125 42.203125 \nQ 21.1875 37.640625 21.1875 28.90625 \nL 21.1875 5.171875 \nL 29 5.171875 \nL 29 0 \nz\n\" id=\"DejaVuSerif-110\"/>\n     <path d=\"M 9.28125 3.515625 \nL 9.28125 20.125 \nL 14.890625 20.0625 \nQ 15.140625 11.765625 19.703125 7.78125 \nQ 24.265625 3.8125 33.59375 3.8125 \nQ 42.28125 3.8125 46.84375 7.25 \nQ 51.421875 10.6875 51.421875 17.28125 \nQ 51.421875 22.5625 48.65625 25.390625 \nQ 45.90625 28.21875 37.015625 30.90625 \nL 27.390625 33.796875 \nQ 16.9375 36.96875 12.671875 41.703125 \nQ 8.40625 46.4375 8.40625 54.6875 \nQ 8.40625 63.96875 14.984375 69.09375 \nQ 21.578125 74.21875 33.5 74.21875 \nQ 38.578125 74.21875 44.625 73.109375 \nQ 50.6875 72.015625 57.515625 69.921875 \nL 57.515625 54.390625 \nL 52 54.390625 \nQ 51.171875 62.109375 46.84375 65.546875 \nQ 42.53125 69 33.6875 69 \nQ 25.984375 69 21.953125 65.84375 \nQ 17.921875 62.703125 17.921875 56.6875 \nQ 17.921875 51.46875 20.9375 48.484375 \nQ 23.96875 45.515625 33.796875 42.578125 \nL 42.828125 39.890625 \nQ 52.734375 36.921875 56.953125 32.296875 \nQ 61.1875 27.6875 61.1875 19.921875 \nQ 61.1875 9.328125 54.390625 3.953125 \nQ 47.609375 -1.421875 34.1875 -1.421875 \nQ 28.171875 -1.421875 21.9375 -0.1875 \nQ 15.71875 1.03125 9.28125 3.515625 \nz\n\" id=\"DejaVuSerif-83\"/>\n     <path d=\"M 52.484375 5.171875 \nL 61.078125 5.171875 \nL 61.078125 0 \nL 43.5 0 \nL 43.5 8.109375 \nQ 40.875 3.21875 36.796875 0.890625 \nQ 32.71875 -1.421875 26.703125 -1.421875 \nQ 17.140625 -1.421875 11.0625 6.171875 \nQ 4.984375 13.765625 4.984375 25.984375 \nQ 4.984375 38.1875 11.03125 45.75 \nQ 17.09375 53.328125 26.703125 53.328125 \nQ 32.71875 53.328125 36.796875 51 \nQ 40.875 48.6875 43.5 43.796875 \nL 43.5 70.796875 \nL 35.015625 70.796875 \nL 35.015625 75.984375 \nL 52.484375 75.984375 \nz\nM 43.5 23.390625 \nL 43.5 28.515625 \nQ 43.5 37.84375 39.90625 42.765625 \nQ 36.328125 47.703125 29.5 47.703125 \nQ 22.5625 47.703125 19.015625 42.234375 \nQ 15.484375 36.765625 15.484375 25.984375 \nQ 15.484375 15.234375 19.015625 9.71875 \nQ 22.5625 4.203125 29.5 4.203125 \nQ 36.328125 4.203125 39.90625 9.109375 \nQ 43.5 14.015625 43.5 23.390625 \nz\n\" id=\"DejaVuSerif-100\"/>\n     <path d=\"M 51.421875 15.578125 \nQ 49.515625 7.28125 44.09375 2.921875 \nQ 38.671875 -1.421875 30.078125 -1.421875 \nQ 18.75 -1.421875 11.859375 6.078125 \nQ 4.984375 13.578125 4.984375 25.984375 \nQ 4.984375 38.421875 11.859375 45.875 \nQ 18.75 53.328125 30.078125 53.328125 \nQ 35.015625 53.328125 39.890625 52.171875 \nQ 44.78125 51.03125 49.703125 48.6875 \nL 49.703125 35.40625 \nL 44.484375 35.40625 \nQ 43.453125 42.234375 40.015625 45.359375 \nQ 36.578125 48.484375 30.171875 48.484375 \nQ 22.90625 48.484375 19.1875 42.84375 \nQ 15.484375 37.203125 15.484375 25.984375 \nQ 15.484375 14.75 19.171875 9.078125 \nQ 22.859375 3.421875 30.171875 3.421875 \nQ 35.984375 3.421875 39.453125 6.4375 \nQ 42.921875 9.46875 44.1875 15.578125 \nz\n\" id=\"DejaVuSerif-99\"/>\n     <path d=\"M 28.609375 0 \nL 3.421875 0 \nL 3.421875 5.171875 \nL 11.53125 5.171875 \nL 11.53125 70.796875 \nL 2.875 70.796875 \nL 2.875 75.984375 \nL 20.515625 75.984375 \nL 20.515625 26.515625 \nL 42.390625 46.6875 \nL 34.90625 46.6875 \nL 34.90625 51.90625 \nL 58.40625 51.90625 \nL 58.40625 46.6875 \nL 49.515625 46.6875 \nL 34.078125 32.421875 \nL 53.8125 5.171875 \nL 61.28125 5.171875 \nL 61.28125 0 \nL 35.6875 0 \nL 35.6875 5.171875 \nL 43.109375 5.171875 \nL 27.59375 26.515625 \nL 20.515625 19.921875 \nL 20.515625 5.171875 \nL 28.609375 5.171875 \nz\n\" id=\"DejaVuSerif-107\"/>\n    </defs>\n    <g transform=\"translate(36.682813 29.995312)scale(0.3 -0.3)\">\n     <use xlink:href=\"#DejaVuSerif-116\"/>\n     <use x=\"40.185547\" xlink:href=\"#DejaVuSerif-104\"/>\n     <use x=\"104.589844\" xlink:href=\"#DejaVuSerif-101\"/>\n     <use x=\"163.769531\" xlink:href=\"#DejaVuSerif-32\"/>\n     <use x=\"195.556641\" xlink:href=\"#DejaVuSerif-109\"/>\n     <use x=\"290.380859\" xlink:href=\"#DejaVuSerif-111\"/>\n     <use x=\"350.585938\" xlink:href=\"#DejaVuSerif-115\"/>\n     <use x=\"401.904297\" xlink:href=\"#DejaVuSerif-116\"/>\n     <use x=\"442.089844\" xlink:href=\"#DejaVuSerif-32\"/>\n     <use x=\"473.876953\" xlink:href=\"#DejaVuSerif-118\"/>\n     <use x=\"530.371094\" xlink:href=\"#DejaVuSerif-97\"/>\n     <use x=\"589.990234\" xlink:href=\"#DejaVuSerif-108\"/>\n     <use x=\"621.972656\" xlink:href=\"#DejaVuSerif-117\"/>\n     <use x=\"686.376953\" xlink:href=\"#DejaVuSerif-97\"/>\n     <use x=\"745.996094\" xlink:href=\"#DejaVuSerif-98\"/>\n     <use x=\"810.009766\" xlink:href=\"#DejaVuSerif-108\"/>\n     <use x=\"841.992188\" xlink:href=\"#DejaVuSerif-101\"/>\n     <use x=\"901.171875\" xlink:href=\"#DejaVuSerif-32\"/>\n     <use x=\"932.958984\" xlink:href=\"#DejaVuSerif-121\"/>\n     <use x=\"989.453125\" xlink:href=\"#DejaVuSerif-101\"/>\n     <use x=\"1048.632812\" xlink:href=\"#DejaVuSerif-97\"/>\n     <use x=\"1108.251953\" xlink:href=\"#DejaVuSerif-114\"/>\n     <use x=\"1156.054688\" xlink:href=\"#DejaVuSerif-32\"/>\n     <use x=\"1187.841797\" xlink:href=\"#DejaVuSerif-105\"/>\n     <use x=\"1219.824219\" xlink:href=\"#DejaVuSerif-110\"/>\n     <use x=\"1284.228516\" xlink:href=\"#DejaVuSerif-32\"/>\n     <use x=\"1316.015625\" xlink:href=\"#DejaVuSerif-116\"/>\n     <use x=\"1356.201172\" xlink:href=\"#DejaVuSerif-104\"/>\n     <use x=\"1420.605469\" xlink:href=\"#DejaVuSerif-101\"/>\n     <use x=\"1479.785156\" xlink:href=\"#DejaVuSerif-32\"/>\n     <use x=\"1511.572266\" xlink:href=\"#DejaVuSerif-83\"/>\n     <use x=\"1580.078125\" xlink:href=\"#DejaVuSerif-97\"/>\n     <use x=\"1639.697266\" xlink:href=\"#DejaVuSerif-117\"/>\n     <use x=\"1704.101562\" xlink:href=\"#DejaVuSerif-100\"/>\n     <use x=\"1768.115234\" xlink:href=\"#DejaVuSerif-105\"/>\n     <use x=\"1800.097656\" xlink:href=\"#DejaVuSerif-32\"/>\n     <use x=\"1831.884766\" xlink:href=\"#DejaVuSerif-115\"/>\n     <use x=\"1883.203125\" xlink:href=\"#DejaVuSerif-116\"/>\n     <use x=\"1923.388672\" xlink:href=\"#DejaVuSerif-111\"/>\n     <use x=\"1983.59375\" xlink:href=\"#DejaVuSerif-99\"/>\n     <use x=\"2039.599609\" xlink:href=\"#DejaVuSerif-107\"/>\n     <use x=\"2100.195312\" xlink:href=\"#DejaVuSerif-32\"/>\n     <use x=\"2131.982422\" xlink:href=\"#DejaVuSerif-109\"/>\n     <use x=\"2226.806641\" xlink:href=\"#DejaVuSerif-97\"/>\n     <use x=\"2286.425781\" xlink:href=\"#DejaVuSerif-114\"/>\n     <use x=\"2334.228516\" xlink:href=\"#DejaVuSerif-107\"/>\n     <use x=\"2394.824219\" xlink:href=\"#DejaVuSerif-101\"/>\n     <use x=\"2454.003906\" xlink:href=\"#DejaVuSerif-116\"/>\n    </g>\n   </g>\n  </g>\n </g>\n <defs>\n  <clipPath id=\"p778e450c3b\">\n   <rect height=\"326.16\" width=\"669.6\" x=\"76.015625\" y=\"36.660938\"/>\n  </clipPath>\n </defs>\n</svg>\n"
          },
          "metadata": {
            "needs_background": "light"
          }
        }
      ]
    },
    {
      "cell_type": "markdown",
      "metadata": {
        "id": "0347ae25"
      },
      "source": [
        "."
      ],
      "id": "0347ae25"
    },
    {
      "cell_type": "markdown",
      "metadata": {
        "id": "e9866737"
      },
      "source": [
        "## **3. What is the lowiest valuable year in the Saudi stock market?**"
      ],
      "id": "e9866737"
    },
    {
      "cell_type": "code",
      "metadata": {
        "id": "ae908838",
        "colab": {
          "base_uri": "https://localhost:8080/",
          "height": 0
        },
        "outputId": "c21c7504-0654-4caa-f6c2-a38074cfa71e"
      },
      "source": [
        "b=stock_train.groupby(['year'])[['low']].sum().sort_values('low')\n",
        "b"
      ],
      "id": "ae908838",
      "execution_count": 39,
      "outputs": [
        {
          "output_type": "execute_result",
          "data": {
            "text/html": [
              "<div>\n",
              "<style scoped>\n",
              "    .dataframe tbody tr th:only-of-type {\n",
              "        vertical-align: middle;\n",
              "    }\n",
              "\n",
              "    .dataframe tbody tr th {\n",
              "        vertical-align: top;\n",
              "    }\n",
              "\n",
              "    .dataframe thead th {\n",
              "        text-align: right;\n",
              "    }\n",
              "</style>\n",
              "<table border=\"1\" class=\"dataframe\">\n",
              "  <thead>\n",
              "    <tr style=\"text-align: right;\">\n",
              "      <th></th>\n",
              "      <th>low</th>\n",
              "    </tr>\n",
              "    <tr>\n",
              "      <th>year</th>\n",
              "      <th></th>\n",
              "    </tr>\n",
              "  </thead>\n",
              "  <tbody>\n",
              "    <tr>\n",
              "      <th>2001</th>\n",
              "      <td>42.15</td>\n",
              "    </tr>\n",
              "    <tr>\n",
              "      <th>2002</th>\n",
              "      <td>12951.80</td>\n",
              "    </tr>\n",
              "    <tr>\n",
              "      <th>2003</th>\n",
              "      <td>18826.75</td>\n",
              "    </tr>\n",
              "    <tr>\n",
              "      <th>2020</th>\n",
              "      <td>19116.52</td>\n",
              "    </tr>\n",
              "    <tr>\n",
              "      <th>2007</th>\n",
              "      <td>34694.92</td>\n",
              "    </tr>\n",
              "    <tr>\n",
              "      <th>2004</th>\n",
              "      <td>36554.95</td>\n",
              "    </tr>\n",
              "    <tr>\n",
              "      <th>2006</th>\n",
              "      <td>41968.56</td>\n",
              "    </tr>\n",
              "    <tr>\n",
              "      <th>2005</th>\n",
              "      <td>42147.10</td>\n",
              "    </tr>\n",
              "    <tr>\n",
              "      <th>2008</th>\n",
              "      <td>47238.89</td>\n",
              "    </tr>\n",
              "    <tr>\n",
              "      <th>2009</th>\n",
              "      <td>56841.09</td>\n",
              "    </tr>\n",
              "    <tr>\n",
              "      <th>2010</th>\n",
              "      <td>68381.62</td>\n",
              "    </tr>\n",
              "    <tr>\n",
              "      <th>2011</th>\n",
              "      <td>71158.68</td>\n",
              "    </tr>\n",
              "    <tr>\n",
              "      <th>2012</th>\n",
              "      <td>85421.44</td>\n",
              "    </tr>\n",
              "    <tr>\n",
              "      <th>2013</th>\n",
              "      <td>85577.14</td>\n",
              "    </tr>\n",
              "    <tr>\n",
              "      <th>2016</th>\n",
              "      <td>86478.84</td>\n",
              "    </tr>\n",
              "    <tr>\n",
              "      <th>2017</th>\n",
              "      <td>88216.19</td>\n",
              "    </tr>\n",
              "    <tr>\n",
              "      <th>2019</th>\n",
              "      <td>92004.15</td>\n",
              "    </tr>\n",
              "    <tr>\n",
              "      <th>2018</th>\n",
              "      <td>92748.52</td>\n",
              "    </tr>\n",
              "    <tr>\n",
              "      <th>2015</th>\n",
              "      <td>101671.71</td>\n",
              "    </tr>\n",
              "    <tr>\n",
              "      <th>2014</th>\n",
              "      <td>105781.53</td>\n",
              "    </tr>\n",
              "  </tbody>\n",
              "</table>\n",
              "</div>"
            ],
            "text/plain": [
              "            low\n",
              "year           \n",
              "2001      42.15\n",
              "2002   12951.80\n",
              "2003   18826.75\n",
              "2020   19116.52\n",
              "2007   34694.92\n",
              "2004   36554.95\n",
              "2006   41968.56\n",
              "2005   42147.10\n",
              "2008   47238.89\n",
              "2009   56841.09\n",
              "2010   68381.62\n",
              "2011   71158.68\n",
              "2012   85421.44\n",
              "2013   85577.14\n",
              "2016   86478.84\n",
              "2017   88216.19\n",
              "2019   92004.15\n",
              "2018   92748.52\n",
              "2015  101671.71\n",
              "2014  105781.53"
            ]
          },
          "metadata": {},
          "execution_count": 39
        }
      ]
    },
    {
      "cell_type": "code",
      "metadata": {
        "id": "2c2182e2",
        "colab": {
          "base_uri": "https://localhost:8080/",
          "height": 0
        },
        "outputId": "396d7aa3-0712-42dd-ebdd-4ce9a66420f1"
      },
      "source": [
        "plt.figure(figsize=[12,6]);\n",
        "plt.bar(b.index,b.low);\n",
        "plt.title('the less valuable year in the Saudi stock market',fontsize=30,color='black',family='serif');\n",
        "plt.xlabel('year',fontsize=20,color='black',family='serif');\n",
        "plt.ylabel('low',fontsize=20,color='black',family='serif');"
      ],
      "id": "2c2182e2",
      "execution_count": 40,
      "outputs": [
        {
          "output_type": "display_data",
          "data": {
            "text/plain": [
              "<Figure size 864x432 with 1 Axes>"
            ],
            "image/svg+xml": "<?xml version=\"1.0\" encoding=\"utf-8\" standalone=\"no\"?>\n<!DOCTYPE svg PUBLIC \"-//W3C//DTD SVG 1.1//EN\"\n  \"http://www.w3.org/Graphics/SVG/1.1/DTD/svg11.dtd\">\n<!-- Created with matplotlib (https://matplotlib.org/) -->\n<svg height=\"410.055313pt\" version=\"1.1\" viewBox=\"0 0 783.953906 410.055313\" width=\"783.953906pt\" xmlns=\"http://www.w3.org/2000/svg\" xmlns:xlink=\"http://www.w3.org/1999/xlink\">\n <defs>\n  <style type=\"text/css\">\n*{stroke-linecap:butt;stroke-linejoin:round;}\n  </style>\n </defs>\n <g id=\"figure_1\">\n  <g id=\"patch_1\">\n   <path d=\"M 0 410.055313 \nL 783.953906 410.055313 \nL 783.953906 0 \nL 0 0 \nz\n\" style=\"fill:none;\"/>\n  </g>\n  <g id=\"axes_1\">\n   <g id=\"patch_2\">\n    <path d=\"M 75.73125 362.820938 \nL 745.33125 362.820938 \nL 745.33125 36.660938 \nL 75.73125 36.660938 \nz\n\" style=\"fill:#ffffff;\"/>\n   </g>\n   <g id=\"patch_3\">\n    <path clip-path=\"url(#pa50d2f5e16)\" d=\"M 106.167614 362.820938 \nL 130.762655 362.820938 \nL 130.762655 362.697164 \nL 106.167614 362.697164 \nz\n\" style=\"fill:#1f77b4;\"/>\n   </g>\n   <g id=\"patch_4\">\n    <path clip-path=\"url(#pa50d2f5e16)\" d=\"M 136.911415 362.820938 \nL 161.506457 362.820938 \nL 161.506457 324.787841 \nL 136.911415 324.787841 \nz\n\" style=\"fill:#1f77b4;\"/>\n   </g>\n   <g id=\"patch_5\">\n    <path clip-path=\"url(#pa50d2f5e16)\" d=\"M 167.655217 362.820938 \nL 192.250258 362.820938 \nL 192.250258 307.535989 \nL 167.655217 307.535989 \nz\n\" style=\"fill:#1f77b4;\"/>\n   </g>\n   <g id=\"patch_6\">\n    <path clip-path=\"url(#pa50d2f5e16)\" d=\"M 690.299845 362.820938 \nL 714.894886 362.820938 \nL 714.894886 306.685076 \nL 690.299845 306.685076 \nz\n\" style=\"fill:#1f77b4;\"/>\n   </g>\n   <g id=\"patch_7\">\n    <path clip-path=\"url(#pa50d2f5e16)\" d=\"M 290.630424 362.820938 \nL 315.225465 362.820938 \nL 315.225465 260.938941 \nL 290.630424 260.938941 \nz\n\" style=\"fill:#1f77b4;\"/>\n   </g>\n   <g id=\"patch_8\">\n    <path clip-path=\"url(#pa50d2f5e16)\" d=\"M 198.399019 362.820938 \nL 222.99406 362.820938 \nL 222.99406 255.476944 \nL 198.399019 255.476944 \nz\n\" style=\"fill:#1f77b4;\"/>\n   </g>\n   <g id=\"patch_9\">\n    <path clip-path=\"url(#pa50d2f5e16)\" d=\"M 259.886622 362.820938 \nL 284.481663 362.820938 \nL 284.481663 239.579821 \nL 259.886622 239.579821 \nz\n\" style=\"fill:#1f77b4;\"/>\n   </g>\n   <g id=\"patch_10\">\n    <path clip-path=\"url(#pa50d2f5e16)\" d=\"M 229.14282 362.820938 \nL 253.737862 362.820938 \nL 253.737862 239.055537 \nL 229.14282 239.055537 \nz\n\" style=\"fill:#1f77b4;\"/>\n   </g>\n   <g id=\"patch_11\">\n    <path clip-path=\"url(#pa50d2f5e16)\" d=\"M 321.374225 362.820938 \nL 345.969267 362.820938 \nL 345.969267 224.103442 \nL 321.374225 224.103442 \nz\n\" style=\"fill:#1f77b4;\"/>\n   </g>\n   <g id=\"patch_12\">\n    <path clip-path=\"url(#pa50d2f5e16)\" d=\"M 352.118027 362.820938 \nL 376.713068 362.820938 \nL 376.713068 195.906481 \nL 352.118027 195.906481 \nz\n\" style=\"fill:#1f77b4;\"/>\n   </g>\n   <g id=\"patch_13\">\n    <path clip-path=\"url(#pa50d2f5e16)\" d=\"M 382.861829 362.820938 \nL 407.45687 362.820938 \nL 407.45687 162.017594 \nL 382.861829 162.017594 \nz\n\" style=\"fill:#1f77b4;\"/>\n   </g>\n   <g id=\"patch_14\">\n    <path clip-path=\"url(#pa50d2f5e16)\" d=\"M 413.60563 362.820938 \nL 438.200671 362.820938 \nL 438.200671 153.862728 \nL 413.60563 153.862728 \nz\n\" style=\"fill:#1f77b4;\"/>\n   </g>\n   <g id=\"patch_15\">\n    <path clip-path=\"url(#pa50d2f5e16)\" d=\"M 444.349432 362.820938 \nL 468.944473 362.820938 \nL 468.944473 111.979984 \nL 444.349432 111.979984 \nz\n\" style=\"fill:#1f77b4;\"/>\n   </g>\n   <g id=\"patch_16\">\n    <path clip-path=\"url(#pa50d2f5e16)\" d=\"M 475.093233 362.820938 \nL 499.688275 362.820938 \nL 499.688275 111.522769 \nL 475.093233 111.522769 \nz\n\" style=\"fill:#1f77b4;\"/>\n   </g>\n   <g id=\"patch_17\">\n    <path clip-path=\"url(#pa50d2f5e16)\" d=\"M 567.324638 362.820938 \nL 591.91968 362.820938 \nL 591.91968 108.874918 \nL 567.324638 108.874918 \nz\n\" style=\"fill:#1f77b4;\"/>\n   </g>\n   <g id=\"patch_18\">\n    <path clip-path=\"url(#pa50d2f5e16)\" d=\"M 598.06844 362.820938 \nL 622.663481 362.820938 \nL 622.663481 103.773171 \nL 598.06844 103.773171 \nz\n\" style=\"fill:#1f77b4;\"/>\n   </g>\n   <g id=\"patch_19\">\n    <path clip-path=\"url(#pa50d2f5e16)\" d=\"M 659.556043 362.820938 \nL 684.151085 362.820938 \nL 684.151085 92.649787 \nL 659.556043 92.649787 \nz\n\" style=\"fill:#1f77b4;\"/>\n   </g>\n   <g id=\"patch_20\">\n    <path clip-path=\"url(#pa50d2f5e16)\" d=\"M 628.812242 362.820938 \nL 653.407283 362.820938 \nL 653.407283 90.463937 \nL 628.812242 90.463937 \nz\n\" style=\"fill:#1f77b4;\"/>\n   </g>\n   <g id=\"patch_21\">\n    <path clip-path=\"url(#pa50d2f5e16)\" d=\"M 536.580837 362.820938 \nL 561.175878 362.820938 \nL 561.175878 64.260896 \nL 536.580837 64.260896 \nz\n\" style=\"fill:#1f77b4;\"/>\n   </g>\n   <g id=\"patch_22\">\n    <path clip-path=\"url(#pa50d2f5e16)\" d=\"M 505.837035 362.820938 \nL 530.432076 362.820938 \nL 530.432076 52.192366 \nL 505.837035 52.192366 \nz\n\" style=\"fill:#1f77b4;\"/>\n   </g>\n   <g id=\"matplotlib.axis_1\">\n    <g id=\"xtick_1\">\n     <g id=\"line2d_1\">\n      <defs>\n       <path d=\"M 0 0 \nL 0 3.5 \n\" id=\"m59664420ed\" style=\"stroke:#000000;stroke-width:0.8;\"/>\n      </defs>\n      <g>\n       <use style=\"stroke:#000000;stroke-width:0.8;\" x=\"87.721333\" xlink:href=\"#m59664420ed\" y=\"362.820938\"/>\n      </g>\n     </g>\n     <g id=\"text_1\">\n      <!-- 2000.0 -->\n      <defs>\n       <path d=\"M 19.1875 8.296875 \nL 53.609375 8.296875 \nL 53.609375 0 \nL 7.328125 0 \nL 7.328125 8.296875 \nQ 12.9375 14.109375 22.625 23.890625 \nQ 32.328125 33.6875 34.8125 36.53125 \nQ 39.546875 41.84375 41.421875 45.53125 \nQ 43.3125 49.21875 43.3125 52.78125 \nQ 43.3125 58.59375 39.234375 62.25 \nQ 35.15625 65.921875 28.609375 65.921875 \nQ 23.96875 65.921875 18.8125 64.3125 \nQ 13.671875 62.703125 7.8125 59.421875 \nL 7.8125 69.390625 \nQ 13.765625 71.78125 18.9375 73 \nQ 24.125 74.21875 28.421875 74.21875 \nQ 39.75 74.21875 46.484375 68.546875 \nQ 53.21875 62.890625 53.21875 53.421875 \nQ 53.21875 48.921875 51.53125 44.890625 \nQ 49.859375 40.875 45.40625 35.40625 \nQ 44.1875 33.984375 37.640625 27.21875 \nQ 31.109375 20.453125 19.1875 8.296875 \nz\n\" id=\"DejaVuSans-50\"/>\n       <path d=\"M 31.78125 66.40625 \nQ 24.171875 66.40625 20.328125 58.90625 \nQ 16.5 51.421875 16.5 36.375 \nQ 16.5 21.390625 20.328125 13.890625 \nQ 24.171875 6.390625 31.78125 6.390625 \nQ 39.453125 6.390625 43.28125 13.890625 \nQ 47.125 21.390625 47.125 36.375 \nQ 47.125 51.421875 43.28125 58.90625 \nQ 39.453125 66.40625 31.78125 66.40625 \nz\nM 31.78125 74.21875 \nQ 44.046875 74.21875 50.515625 64.515625 \nQ 56.984375 54.828125 56.984375 36.375 \nQ 56.984375 17.96875 50.515625 8.265625 \nQ 44.046875 -1.421875 31.78125 -1.421875 \nQ 19.53125 -1.421875 13.0625 8.265625 \nQ 6.59375 17.96875 6.59375 36.375 \nQ 6.59375 54.828125 13.0625 64.515625 \nQ 19.53125 74.21875 31.78125 74.21875 \nz\n\" id=\"DejaVuSans-48\"/>\n       <path d=\"M 10.6875 12.40625 \nL 21 12.40625 \nL 21 0 \nL 10.6875 0 \nz\n\" id=\"DejaVuSans-46\"/>\n      </defs>\n      <g transform=\"translate(70.22602 377.419375)scale(0.1 -0.1)\">\n       <use xlink:href=\"#DejaVuSans-50\"/>\n       <use x=\"63.623047\" xlink:href=\"#DejaVuSans-48\"/>\n       <use x=\"127.246094\" xlink:href=\"#DejaVuSans-48\"/>\n       <use x=\"190.869141\" xlink:href=\"#DejaVuSans-48\"/>\n       <use x=\"254.492188\" xlink:href=\"#DejaVuSans-46\"/>\n       <use x=\"286.279297\" xlink:href=\"#DejaVuSans-48\"/>\n      </g>\n     </g>\n    </g>\n    <g id=\"xtick_2\">\n     <g id=\"line2d_2\">\n      <g>\n       <use style=\"stroke:#000000;stroke-width:0.8;\" x=\"164.580837\" xlink:href=\"#m59664420ed\" y=\"362.820938\"/>\n      </g>\n     </g>\n     <g id=\"text_2\">\n      <!-- 2002.5 -->\n      <defs>\n       <path d=\"M 10.796875 72.90625 \nL 49.515625 72.90625 \nL 49.515625 64.59375 \nL 19.828125 64.59375 \nL 19.828125 46.734375 \nQ 21.96875 47.46875 24.109375 47.828125 \nQ 26.265625 48.1875 28.421875 48.1875 \nQ 40.625 48.1875 47.75 41.5 \nQ 54.890625 34.8125 54.890625 23.390625 \nQ 54.890625 11.625 47.5625 5.09375 \nQ 40.234375 -1.421875 26.90625 -1.421875 \nQ 22.3125 -1.421875 17.546875 -0.640625 \nQ 12.796875 0.140625 7.71875 1.703125 \nL 7.71875 11.625 \nQ 12.109375 9.234375 16.796875 8.0625 \nQ 21.484375 6.890625 26.703125 6.890625 \nQ 35.15625 6.890625 40.078125 11.328125 \nQ 45.015625 15.765625 45.015625 23.390625 \nQ 45.015625 31 40.078125 35.4375 \nQ 35.15625 39.890625 26.703125 39.890625 \nQ 22.75 39.890625 18.8125 39.015625 \nQ 14.890625 38.140625 10.796875 36.28125 \nz\n\" id=\"DejaVuSans-53\"/>\n      </defs>\n      <g transform=\"translate(147.085524 377.419375)scale(0.1 -0.1)\">\n       <use xlink:href=\"#DejaVuSans-50\"/>\n       <use x=\"63.623047\" xlink:href=\"#DejaVuSans-48\"/>\n       <use x=\"127.246094\" xlink:href=\"#DejaVuSans-48\"/>\n       <use x=\"190.869141\" xlink:href=\"#DejaVuSans-50\"/>\n       <use x=\"254.492188\" xlink:href=\"#DejaVuSans-46\"/>\n       <use x=\"286.279297\" xlink:href=\"#DejaVuSans-53\"/>\n      </g>\n     </g>\n    </g>\n    <g id=\"xtick_3\">\n     <g id=\"line2d_3\">\n      <g>\n       <use style=\"stroke:#000000;stroke-width:0.8;\" x=\"241.440341\" xlink:href=\"#m59664420ed\" y=\"362.820938\"/>\n      </g>\n     </g>\n     <g id=\"text_3\">\n      <!-- 2005.0 -->\n      <g transform=\"translate(223.945028 377.419375)scale(0.1 -0.1)\">\n       <use xlink:href=\"#DejaVuSans-50\"/>\n       <use x=\"63.623047\" xlink:href=\"#DejaVuSans-48\"/>\n       <use x=\"127.246094\" xlink:href=\"#DejaVuSans-48\"/>\n       <use x=\"190.869141\" xlink:href=\"#DejaVuSans-53\"/>\n       <use x=\"254.492188\" xlink:href=\"#DejaVuSans-46\"/>\n       <use x=\"286.279297\" xlink:href=\"#DejaVuSans-48\"/>\n      </g>\n     </g>\n    </g>\n    <g id=\"xtick_4\">\n     <g id=\"line2d_4\">\n      <g>\n       <use style=\"stroke:#000000;stroke-width:0.8;\" x=\"318.299845\" xlink:href=\"#m59664420ed\" y=\"362.820938\"/>\n      </g>\n     </g>\n     <g id=\"text_4\">\n      <!-- 2007.5 -->\n      <defs>\n       <path d=\"M 8.203125 72.90625 \nL 55.078125 72.90625 \nL 55.078125 68.703125 \nL 28.609375 0 \nL 18.3125 0 \nL 43.21875 64.59375 \nL 8.203125 64.59375 \nz\n\" id=\"DejaVuSans-55\"/>\n      </defs>\n      <g transform=\"translate(300.804533 377.419375)scale(0.1 -0.1)\">\n       <use xlink:href=\"#DejaVuSans-50\"/>\n       <use x=\"63.623047\" xlink:href=\"#DejaVuSans-48\"/>\n       <use x=\"127.246094\" xlink:href=\"#DejaVuSans-48\"/>\n       <use x=\"190.869141\" xlink:href=\"#DejaVuSans-55\"/>\n       <use x=\"254.492188\" xlink:href=\"#DejaVuSans-46\"/>\n       <use x=\"286.279297\" xlink:href=\"#DejaVuSans-53\"/>\n      </g>\n     </g>\n    </g>\n    <g id=\"xtick_5\">\n     <g id=\"line2d_5\">\n      <g>\n       <use style=\"stroke:#000000;stroke-width:0.8;\" x=\"395.159349\" xlink:href=\"#m59664420ed\" y=\"362.820938\"/>\n      </g>\n     </g>\n     <g id=\"text_5\">\n      <!-- 2010.0 -->\n      <defs>\n       <path d=\"M 12.40625 8.296875 \nL 28.515625 8.296875 \nL 28.515625 63.921875 \nL 10.984375 60.40625 \nL 10.984375 69.390625 \nL 28.421875 72.90625 \nL 38.28125 72.90625 \nL 38.28125 8.296875 \nL 54.390625 8.296875 \nL 54.390625 0 \nL 12.40625 0 \nz\n\" id=\"DejaVuSans-49\"/>\n      </defs>\n      <g transform=\"translate(377.664037 377.419375)scale(0.1 -0.1)\">\n       <use xlink:href=\"#DejaVuSans-50\"/>\n       <use x=\"63.623047\" xlink:href=\"#DejaVuSans-48\"/>\n       <use x=\"127.246094\" xlink:href=\"#DejaVuSans-49\"/>\n       <use x=\"190.869141\" xlink:href=\"#DejaVuSans-48\"/>\n       <use x=\"254.492188\" xlink:href=\"#DejaVuSans-46\"/>\n       <use x=\"286.279297\" xlink:href=\"#DejaVuSans-48\"/>\n      </g>\n     </g>\n    </g>\n    <g id=\"xtick_6\">\n     <g id=\"line2d_6\">\n      <g>\n       <use style=\"stroke:#000000;stroke-width:0.8;\" x=\"472.018853\" xlink:href=\"#m59664420ed\" y=\"362.820938\"/>\n      </g>\n     </g>\n     <g id=\"text_6\">\n      <!-- 2012.5 -->\n      <g transform=\"translate(454.523541 377.419375)scale(0.1 -0.1)\">\n       <use xlink:href=\"#DejaVuSans-50\"/>\n       <use x=\"63.623047\" xlink:href=\"#DejaVuSans-48\"/>\n       <use x=\"127.246094\" xlink:href=\"#DejaVuSans-49\"/>\n       <use x=\"190.869141\" xlink:href=\"#DejaVuSans-50\"/>\n       <use x=\"254.492188\" xlink:href=\"#DejaVuSans-46\"/>\n       <use x=\"286.279297\" xlink:href=\"#DejaVuSans-53\"/>\n      </g>\n     </g>\n    </g>\n    <g id=\"xtick_7\">\n     <g id=\"line2d_7\">\n      <g>\n       <use style=\"stroke:#000000;stroke-width:0.8;\" x=\"548.878357\" xlink:href=\"#m59664420ed\" y=\"362.820938\"/>\n      </g>\n     </g>\n     <g id=\"text_7\">\n      <!-- 2015.0 -->\n      <g transform=\"translate(531.383045 377.419375)scale(0.1 -0.1)\">\n       <use xlink:href=\"#DejaVuSans-50\"/>\n       <use x=\"63.623047\" xlink:href=\"#DejaVuSans-48\"/>\n       <use x=\"127.246094\" xlink:href=\"#DejaVuSans-49\"/>\n       <use x=\"190.869141\" xlink:href=\"#DejaVuSans-53\"/>\n       <use x=\"254.492188\" xlink:href=\"#DejaVuSans-46\"/>\n       <use x=\"286.279297\" xlink:href=\"#DejaVuSans-48\"/>\n      </g>\n     </g>\n    </g>\n    <g id=\"xtick_8\">\n     <g id=\"line2d_8\">\n      <g>\n       <use style=\"stroke:#000000;stroke-width:0.8;\" x=\"625.737862\" xlink:href=\"#m59664420ed\" y=\"362.820938\"/>\n      </g>\n     </g>\n     <g id=\"text_8\">\n      <!-- 2017.5 -->\n      <g transform=\"translate(608.242549 377.419375)scale(0.1 -0.1)\">\n       <use xlink:href=\"#DejaVuSans-50\"/>\n       <use x=\"63.623047\" xlink:href=\"#DejaVuSans-48\"/>\n       <use x=\"127.246094\" xlink:href=\"#DejaVuSans-49\"/>\n       <use x=\"190.869141\" xlink:href=\"#DejaVuSans-55\"/>\n       <use x=\"254.492188\" xlink:href=\"#DejaVuSans-46\"/>\n       <use x=\"286.279297\" xlink:href=\"#DejaVuSans-53\"/>\n      </g>\n     </g>\n    </g>\n    <g id=\"xtick_9\">\n     <g id=\"line2d_9\">\n      <g>\n       <use style=\"stroke:#000000;stroke-width:0.8;\" x=\"702.597366\" xlink:href=\"#m59664420ed\" y=\"362.820938\"/>\n      </g>\n     </g>\n     <g id=\"text_9\">\n      <!-- 2020.0 -->\n      <g transform=\"translate(685.102053 377.419375)scale(0.1 -0.1)\">\n       <use xlink:href=\"#DejaVuSans-50\"/>\n       <use x=\"63.623047\" xlink:href=\"#DejaVuSans-48\"/>\n       <use x=\"127.246094\" xlink:href=\"#DejaVuSans-50\"/>\n       <use x=\"190.869141\" xlink:href=\"#DejaVuSans-48\"/>\n       <use x=\"254.492188\" xlink:href=\"#DejaVuSans-46\"/>\n       <use x=\"286.279297\" xlink:href=\"#DejaVuSans-48\"/>\n      </g>\n     </g>\n    </g>\n    <g id=\"text_10\">\n     <!-- year -->\n     <defs>\n      <path d=\"M 21.578125 -9.515625 \nL 25 -0.875 \nL 5.609375 46.6875 \nL -0.296875 46.6875 \nL -0.296875 51.90625 \nL 23.578125 51.90625 \nL 23.578125 46.6875 \nL 15.28125 46.6875 \nL 29.890625 10.984375 \nL 44.484375 46.6875 \nL 36.71875 46.6875 \nL 36.71875 51.90625 \nL 56.203125 51.90625 \nL 56.203125 46.6875 \nL 50.390625 46.6875 \nL 26.609375 -11.71875 \nQ 24.171875 -17.78125 21.1875 -20 \nQ 18.21875 -22.21875 12.796875 -22.21875 \nQ 10.5 -22.21875 8.078125 -21.828125 \nQ 5.671875 -21.4375 3.21875 -20.703125 \nL 3.21875 -10.796875 \nL 7.8125 -10.796875 \nQ 8.109375 -14.109375 9.5 -15.546875 \nQ 10.890625 -17 13.8125 -17 \nQ 16.5 -17 18.140625 -15.5 \nQ 19.78125 -14.015625 21.578125 -9.515625 \nz\n\" id=\"DejaVuSerif-121\"/>\n      <path d=\"M 54.203125 25 \nL 15.484375 25 \nL 15.484375 24.609375 \nQ 15.484375 14.109375 19.4375 8.765625 \nQ 23.390625 3.421875 31.109375 3.421875 \nQ 37.015625 3.421875 40.796875 6.515625 \nQ 44.578125 9.625 46.09375 15.71875 \nL 53.328125 15.71875 \nQ 51.171875 7.171875 45.375 2.875 \nQ 39.59375 -1.421875 30.171875 -1.421875 \nQ 18.796875 -1.421875 11.890625 6.078125 \nQ 4.984375 13.578125 4.984375 25.984375 \nQ 4.984375 38.28125 11.765625 45.796875 \nQ 18.5625 53.328125 29.59375 53.328125 \nQ 41.359375 53.328125 47.65625 46.0625 \nQ 53.953125 38.8125 54.203125 25 \nz\nM 43.609375 30.171875 \nQ 43.3125 39.265625 39.765625 43.875 \nQ 36.234375 48.484375 29.59375 48.484375 \nQ 23.390625 48.484375 19.828125 43.84375 \nQ 16.265625 39.203125 15.484375 30.171875 \nz\n\" id=\"DejaVuSerif-101\"/>\n      <path d=\"M 39.796875 16.3125 \nL 39.796875 27.296875 \nL 28.21875 27.296875 \nQ 21.53125 27.296875 18.25 24.40625 \nQ 14.984375 21.53125 14.984375 15.578125 \nQ 14.984375 10.15625 18.296875 6.984375 \nQ 21.625 3.8125 27.296875 3.8125 \nQ 32.90625 3.8125 36.34375 7.28125 \nQ 39.796875 10.75 39.796875 16.3125 \nz\nM 48.78125 32.421875 \nL 48.78125 5.171875 \nL 56.78125 5.171875 \nL 56.78125 0 \nL 39.796875 0 \nL 39.796875 5.609375 \nQ 36.8125 2 32.90625 0.28125 \nQ 29 -1.421875 23.78125 -1.421875 \nQ 15.140625 -1.421875 10.0625 3.171875 \nQ 4.984375 7.765625 4.984375 15.578125 \nQ 4.984375 23.640625 10.796875 28.078125 \nQ 16.609375 32.515625 27.203125 32.515625 \nL 39.796875 32.515625 \nL 39.796875 36.078125 \nQ 39.796875 42 36.203125 45.234375 \nQ 32.625 48.484375 26.125 48.484375 \nQ 20.75 48.484375 17.578125 46.046875 \nQ 14.40625 43.609375 13.625 38.8125 \nL 8.984375 38.8125 \nL 8.984375 49.3125 \nQ 13.671875 51.3125 18.09375 52.3125 \nQ 22.515625 53.328125 26.703125 53.328125 \nQ 37.5 53.328125 43.140625 47.96875 \nQ 48.78125 42.625 48.78125 32.421875 \nz\n\" id=\"DejaVuSerif-97\"/>\n      <path d=\"M 47.796875 52 \nL 47.796875 39.015625 \nL 42.625 39.015625 \nQ 42.390625 42.875 40.484375 44.78125 \nQ 38.578125 46.6875 34.90625 46.6875 \nQ 28.265625 46.6875 24.71875 42.09375 \nQ 21.1875 37.5 21.1875 28.90625 \nL 21.1875 5.171875 \nL 31.59375 5.171875 \nL 31.59375 0 \nL 4.109375 0 \nL 4.109375 5.171875 \nL 12.203125 5.171875 \nL 12.203125 46.78125 \nL 3.609375 46.78125 \nL 3.609375 51.90625 \nL 21.1875 51.90625 \nL 21.1875 42.671875 \nQ 23.828125 48.09375 27.96875 50.703125 \nQ 32.125 53.328125 38.09375 53.328125 \nQ 40.28125 53.328125 42.703125 52.984375 \nQ 45.125 52.640625 47.796875 52 \nz\n\" id=\"DejaVuSerif-114\"/>\n     </defs>\n     <g transform=\"translate(388.220312 398.411563)scale(0.2 -0.2)\">\n      <use xlink:href=\"#DejaVuSerif-121\"/>\n      <use x=\"56.494141\" xlink:href=\"#DejaVuSerif-101\"/>\n      <use x=\"115.673828\" xlink:href=\"#DejaVuSerif-97\"/>\n      <use x=\"175.292969\" xlink:href=\"#DejaVuSerif-114\"/>\n     </g>\n    </g>\n   </g>\n   <g id=\"matplotlib.axis_2\">\n    <g id=\"ytick_1\">\n     <g id=\"line2d_10\">\n      <defs>\n       <path d=\"M 0 0 \nL -3.5 0 \n\" id=\"mdbf29403bc\" style=\"stroke:#000000;stroke-width:0.8;\"/>\n      </defs>\n      <g>\n       <use style=\"stroke:#000000;stroke-width:0.8;\" x=\"75.73125\" xlink:href=\"#mdbf29403bc\" y=\"362.820938\"/>\n      </g>\n     </g>\n     <g id=\"text_11\">\n      <!-- 0 -->\n      <g transform=\"translate(62.36875 366.620156)scale(0.1 -0.1)\">\n       <use xlink:href=\"#DejaVuSans-48\"/>\n      </g>\n     </g>\n    </g>\n    <g id=\"ytick_2\">\n     <g id=\"line2d_11\">\n      <g>\n       <use style=\"stroke:#000000;stroke-width:0.8;\" x=\"75.73125\" xlink:href=\"#mdbf29403bc\" y=\"304.090728\"/>\n      </g>\n     </g>\n     <g id=\"text_12\">\n      <!-- 20000 -->\n      <g transform=\"translate(36.91875 307.889947)scale(0.1 -0.1)\">\n       <use xlink:href=\"#DejaVuSans-50\"/>\n       <use x=\"63.623047\" xlink:href=\"#DejaVuSans-48\"/>\n       <use x=\"127.246094\" xlink:href=\"#DejaVuSans-48\"/>\n       <use x=\"190.869141\" xlink:href=\"#DejaVuSans-48\"/>\n       <use x=\"254.492188\" xlink:href=\"#DejaVuSans-48\"/>\n      </g>\n     </g>\n    </g>\n    <g id=\"ytick_3\">\n     <g id=\"line2d_12\">\n      <g>\n       <use style=\"stroke:#000000;stroke-width:0.8;\" x=\"75.73125\" xlink:href=\"#mdbf29403bc\" y=\"245.360518\"/>\n      </g>\n     </g>\n     <g id=\"text_13\">\n      <!-- 40000 -->\n      <defs>\n       <path d=\"M 37.796875 64.3125 \nL 12.890625 25.390625 \nL 37.796875 25.390625 \nz\nM 35.203125 72.90625 \nL 47.609375 72.90625 \nL 47.609375 25.390625 \nL 58.015625 25.390625 \nL 58.015625 17.1875 \nL 47.609375 17.1875 \nL 47.609375 0 \nL 37.796875 0 \nL 37.796875 17.1875 \nL 4.890625 17.1875 \nL 4.890625 26.703125 \nz\n\" id=\"DejaVuSans-52\"/>\n      </defs>\n      <g transform=\"translate(36.91875 249.159737)scale(0.1 -0.1)\">\n       <use xlink:href=\"#DejaVuSans-52\"/>\n       <use x=\"63.623047\" xlink:href=\"#DejaVuSans-48\"/>\n       <use x=\"127.246094\" xlink:href=\"#DejaVuSans-48\"/>\n       <use x=\"190.869141\" xlink:href=\"#DejaVuSans-48\"/>\n       <use x=\"254.492188\" xlink:href=\"#DejaVuSans-48\"/>\n      </g>\n     </g>\n    </g>\n    <g id=\"ytick_4\">\n     <g id=\"line2d_13\">\n      <g>\n       <use style=\"stroke:#000000;stroke-width:0.8;\" x=\"75.73125\" xlink:href=\"#mdbf29403bc\" y=\"186.630309\"/>\n      </g>\n     </g>\n     <g id=\"text_14\">\n      <!-- 60000 -->\n      <defs>\n       <path d=\"M 33.015625 40.375 \nQ 26.375 40.375 22.484375 35.828125 \nQ 18.609375 31.296875 18.609375 23.390625 \nQ 18.609375 15.53125 22.484375 10.953125 \nQ 26.375 6.390625 33.015625 6.390625 \nQ 39.65625 6.390625 43.53125 10.953125 \nQ 47.40625 15.53125 47.40625 23.390625 \nQ 47.40625 31.296875 43.53125 35.828125 \nQ 39.65625 40.375 33.015625 40.375 \nz\nM 52.59375 71.296875 \nL 52.59375 62.3125 \nQ 48.875 64.0625 45.09375 64.984375 \nQ 41.3125 65.921875 37.59375 65.921875 \nQ 27.828125 65.921875 22.671875 59.328125 \nQ 17.53125 52.734375 16.796875 39.40625 \nQ 19.671875 43.65625 24.015625 45.921875 \nQ 28.375 48.1875 33.59375 48.1875 \nQ 44.578125 48.1875 50.953125 41.515625 \nQ 57.328125 34.859375 57.328125 23.390625 \nQ 57.328125 12.15625 50.6875 5.359375 \nQ 44.046875 -1.421875 33.015625 -1.421875 \nQ 20.359375 -1.421875 13.671875 8.265625 \nQ 6.984375 17.96875 6.984375 36.375 \nQ 6.984375 53.65625 15.1875 63.9375 \nQ 23.390625 74.21875 37.203125 74.21875 \nQ 40.921875 74.21875 44.703125 73.484375 \nQ 48.484375 72.75 52.59375 71.296875 \nz\n\" id=\"DejaVuSans-54\"/>\n      </defs>\n      <g transform=\"translate(36.91875 190.429527)scale(0.1 -0.1)\">\n       <use xlink:href=\"#DejaVuSans-54\"/>\n       <use x=\"63.623047\" xlink:href=\"#DejaVuSans-48\"/>\n       <use x=\"127.246094\" xlink:href=\"#DejaVuSans-48\"/>\n       <use x=\"190.869141\" xlink:href=\"#DejaVuSans-48\"/>\n       <use x=\"254.492188\" xlink:href=\"#DejaVuSans-48\"/>\n      </g>\n     </g>\n    </g>\n    <g id=\"ytick_5\">\n     <g id=\"line2d_14\">\n      <g>\n       <use style=\"stroke:#000000;stroke-width:0.8;\" x=\"75.73125\" xlink:href=\"#mdbf29403bc\" y=\"127.900099\"/>\n      </g>\n     </g>\n     <g id=\"text_15\">\n      <!-- 80000 -->\n      <defs>\n       <path d=\"M 31.78125 34.625 \nQ 24.75 34.625 20.71875 30.859375 \nQ 16.703125 27.09375 16.703125 20.515625 \nQ 16.703125 13.921875 20.71875 10.15625 \nQ 24.75 6.390625 31.78125 6.390625 \nQ 38.8125 6.390625 42.859375 10.171875 \nQ 46.921875 13.96875 46.921875 20.515625 \nQ 46.921875 27.09375 42.890625 30.859375 \nQ 38.875 34.625 31.78125 34.625 \nz\nM 21.921875 38.8125 \nQ 15.578125 40.375 12.03125 44.71875 \nQ 8.5 49.078125 8.5 55.328125 \nQ 8.5 64.0625 14.71875 69.140625 \nQ 20.953125 74.21875 31.78125 74.21875 \nQ 42.671875 74.21875 48.875 69.140625 \nQ 55.078125 64.0625 55.078125 55.328125 \nQ 55.078125 49.078125 51.53125 44.71875 \nQ 48 40.375 41.703125 38.8125 \nQ 48.828125 37.15625 52.796875 32.3125 \nQ 56.78125 27.484375 56.78125 20.515625 \nQ 56.78125 9.90625 50.3125 4.234375 \nQ 43.84375 -1.421875 31.78125 -1.421875 \nQ 19.734375 -1.421875 13.25 4.234375 \nQ 6.78125 9.90625 6.78125 20.515625 \nQ 6.78125 27.484375 10.78125 32.3125 \nQ 14.796875 37.15625 21.921875 38.8125 \nz\nM 18.3125 54.390625 \nQ 18.3125 48.734375 21.84375 45.5625 \nQ 25.390625 42.390625 31.78125 42.390625 \nQ 38.140625 42.390625 41.71875 45.5625 \nQ 45.3125 48.734375 45.3125 54.390625 \nQ 45.3125 60.0625 41.71875 63.234375 \nQ 38.140625 66.40625 31.78125 66.40625 \nQ 25.390625 66.40625 21.84375 63.234375 \nQ 18.3125 60.0625 18.3125 54.390625 \nz\n\" id=\"DejaVuSans-56\"/>\n      </defs>\n      <g transform=\"translate(36.91875 131.699318)scale(0.1 -0.1)\">\n       <use xlink:href=\"#DejaVuSans-56\"/>\n       <use x=\"63.623047\" xlink:href=\"#DejaVuSans-48\"/>\n       <use x=\"127.246094\" xlink:href=\"#DejaVuSans-48\"/>\n       <use x=\"190.869141\" xlink:href=\"#DejaVuSans-48\"/>\n       <use x=\"254.492188\" xlink:href=\"#DejaVuSans-48\"/>\n      </g>\n     </g>\n    </g>\n    <g id=\"ytick_6\">\n     <g id=\"line2d_15\">\n      <g>\n       <use style=\"stroke:#000000;stroke-width:0.8;\" x=\"75.73125\" xlink:href=\"#mdbf29403bc\" y=\"69.16989\"/>\n      </g>\n     </g>\n     <g id=\"text_16\">\n      <!-- 100000 -->\n      <g transform=\"translate(30.55625 72.969108)scale(0.1 -0.1)\">\n       <use xlink:href=\"#DejaVuSans-49\"/>\n       <use x=\"63.623047\" xlink:href=\"#DejaVuSans-48\"/>\n       <use x=\"127.246094\" xlink:href=\"#DejaVuSans-48\"/>\n       <use x=\"190.869141\" xlink:href=\"#DejaVuSans-48\"/>\n       <use x=\"254.492188\" xlink:href=\"#DejaVuSans-48\"/>\n       <use x=\"318.115234\" xlink:href=\"#DejaVuSans-48\"/>\n      </g>\n     </g>\n    </g>\n    <g id=\"text_17\">\n     <!-- low -->\n     <defs>\n      <path d=\"M 20.515625 5.171875 \nL 29 5.171875 \nL 29 0 \nL 2.875 0 \nL 2.875 5.171875 \nL 11.53125 5.171875 \nL 11.53125 70.796875 \nL 2.875 70.796875 \nL 2.875 75.984375 \nL 20.515625 75.984375 \nz\n\" id=\"DejaVuSerif-108\"/>\n      <path d=\"M 30.078125 3.421875 \nQ 37.3125 3.421875 40.984375 9.125 \nQ 44.671875 14.84375 44.671875 25.984375 \nQ 44.671875 37.109375 40.984375 42.796875 \nQ 37.3125 48.484375 30.078125 48.484375 \nQ 22.859375 48.484375 19.171875 42.796875 \nQ 15.484375 37.109375 15.484375 25.984375 \nQ 15.484375 14.84375 19.1875 9.125 \nQ 22.90625 3.421875 30.078125 3.421875 \nz\nM 30.078125 -1.421875 \nQ 18.75 -1.421875 11.859375 6.078125 \nQ 4.984375 13.578125 4.984375 25.984375 \nQ 4.984375 38.375 11.84375 45.84375 \nQ 18.703125 53.328125 30.078125 53.328125 \nQ 41.453125 53.328125 48.3125 45.84375 \nQ 55.171875 38.375 55.171875 25.984375 \nQ 55.171875 13.578125 48.3125 6.078125 \nQ 41.453125 -1.421875 30.078125 -1.421875 \nz\n\" id=\"DejaVuSerif-111\"/>\n      <path d=\"M 48 51.90625 \nL 61.28125 11.375 \nL 73 46.6875 \nL 65.484375 46.6875 \nL 65.484375 51.90625 \nL 84.28125 51.90625 \nL 84.28125 46.6875 \nL 78.515625 46.6875 \nL 63.09375 0 \nL 55.609375 0 \nL 42.828125 38.8125 \nL 29.984375 0 \nL 22.796875 0 \nL 7.421875 46.6875 \nL 1.609375 46.6875 \nL 1.609375 51.90625 \nL 25.09375 51.90625 \nL 25.09375 46.6875 \nL 16.703125 46.6875 \nL 28.328125 11.375 \nL 41.703125 51.90625 \nz\n\" id=\"DejaVuSerif-119\"/>\n     </defs>\n     <g transform=\"translate(22.396875 217.519063)rotate(-90)scale(0.2 -0.2)\">\n      <use xlink:href=\"#DejaVuSerif-108\"/>\n      <use x=\"31.982422\" xlink:href=\"#DejaVuSerif-111\"/>\n      <use x=\"92.1875\" xlink:href=\"#DejaVuSerif-119\"/>\n     </g>\n    </g>\n   </g>\n   <g id=\"patch_23\">\n    <path d=\"M 75.73125 362.820938 \nL 75.73125 36.660938 \n\" style=\"fill:none;stroke:#000000;stroke-linecap:square;stroke-linejoin:miter;stroke-width:0.8;\"/>\n   </g>\n   <g id=\"patch_24\">\n    <path d=\"M 745.33125 362.820938 \nL 745.33125 36.660938 \n\" style=\"fill:none;stroke:#000000;stroke-linecap:square;stroke-linejoin:miter;stroke-width:0.8;\"/>\n   </g>\n   <g id=\"patch_25\">\n    <path d=\"M 75.73125 362.820938 \nL 745.33125 362.820938 \n\" style=\"fill:none;stroke:#000000;stroke-linecap:square;stroke-linejoin:miter;stroke-width:0.8;\"/>\n   </g>\n   <g id=\"patch_26\">\n    <path d=\"M 75.73125 36.660938 \nL 745.33125 36.660938 \n\" style=\"fill:none;stroke:#000000;stroke-linecap:square;stroke-linejoin:miter;stroke-width:0.8;\"/>\n   </g>\n   <g id=\"text_18\">\n    <!-- the less valuable year in the Saudi stock market -->\n    <defs>\n     <path d=\"M 10.796875 46.6875 \nL 2.875 46.6875 \nL 2.875 51.90625 \nL 10.796875 51.90625 \nL 10.796875 68.015625 \nL 19.828125 68.015625 \nL 19.828125 51.90625 \nL 36.71875 51.90625 \nL 36.71875 46.6875 \nL 19.828125 46.6875 \nL 19.828125 13.71875 \nQ 19.828125 7.125 21.09375 5.265625 \nQ 22.359375 3.421875 25.78125 3.421875 \nQ 29.296875 3.421875 30.90625 5.484375 \nQ 32.515625 7.5625 32.625 12.203125 \nL 39.40625 12.203125 \nQ 39.015625 5.125 35.546875 1.84375 \nQ 32.078125 -1.421875 25 -1.421875 \nQ 17.234375 -1.421875 14.015625 2.015625 \nQ 10.796875 5.46875 10.796875 13.71875 \nz\n\" id=\"DejaVuSerif-116\"/>\n     <path d=\"M 4.109375 0 \nL 4.109375 5.171875 \nL 12.203125 5.171875 \nL 12.203125 70.796875 \nL 3.609375 70.796875 \nL 3.609375 75.984375 \nL 21.1875 75.984375 \nL 21.1875 42.671875 \nQ 23.6875 47.953125 27.65625 50.640625 \nQ 31.640625 53.328125 36.921875 53.328125 \nQ 45.515625 53.328125 49.5625 48.390625 \nQ 53.609375 43.453125 53.609375 33.015625 \nL 53.609375 5.171875 \nL 61.625 5.171875 \nL 61.625 0 \nL 36.8125 0 \nL 36.8125 5.171875 \nL 44.578125 5.171875 \nL 44.578125 30.171875 \nQ 44.578125 39.703125 42.25 43.1875 \nQ 39.9375 46.6875 33.984375 46.6875 \nQ 27.734375 46.6875 24.453125 42.140625 \nQ 21.1875 37.59375 21.1875 28.90625 \nL 21.1875 5.171875 \nL 29 5.171875 \nL 29 0 \nz\n\" id=\"DejaVuSerif-104\"/>\n     <path id=\"DejaVuSerif-32\"/>\n     <path d=\"M 5.609375 2.875 \nL 5.609375 14.984375 \nL 10.796875 14.984375 \nQ 10.984375 9.1875 14.421875 6.296875 \nQ 17.875 3.421875 24.609375 3.421875 \nQ 30.671875 3.421875 33.84375 5.6875 \nQ 37.015625 7.953125 37.015625 12.3125 \nQ 37.015625 15.71875 34.6875 17.8125 \nQ 32.375 19.921875 24.90625 22.3125 \nL 18.40625 24.515625 \nQ 11.71875 26.65625 8.71875 29.875 \nQ 5.71875 33.109375 5.71875 38.09375 \nQ 5.71875 45.21875 10.9375 49.265625 \nQ 16.15625 53.328125 25.390625 53.328125 \nQ 29.5 53.328125 34.03125 52.25 \nQ 38.578125 51.171875 43.40625 49.125 \nL 43.40625 37.796875 \nL 38.234375 37.796875 \nQ 38.03125 42.828125 34.703125 45.65625 \nQ 31.390625 48.484375 25.6875 48.484375 \nQ 20.015625 48.484375 17.109375 46.484375 \nQ 14.203125 44.484375 14.203125 40.484375 \nQ 14.203125 37.203125 16.40625 35.21875 \nQ 18.609375 33.25 25.203125 31.203125 \nL 32.328125 29 \nQ 39.703125 26.703125 42.9375 23.265625 \nQ 46.1875 19.828125 46.1875 14.40625 \nQ 46.1875 7.03125 40.546875 2.796875 \nQ 34.90625 -1.421875 25 -1.421875 \nQ 19.96875 -1.421875 15.1875 -0.34375 \nQ 10.40625 0.734375 5.609375 2.875 \nz\n\" id=\"DejaVuSerif-115\"/>\n     <path d=\"M 24.703125 0 \nL 5.609375 46.6875 \nL -0.296875 46.6875 \nL -0.296875 51.90625 \nL 23.578125 51.90625 \nL 23.578125 46.6875 \nL 15.28125 46.6875 \nL 29.890625 10.984375 \nL 44.484375 46.6875 \nL 36.71875 46.6875 \nL 36.71875 51.90625 \nL 56.203125 51.90625 \nL 56.203125 46.6875 \nL 50.390625 46.6875 \nL 31.296875 0 \nz\n\" id=\"DejaVuSerif-118\"/>\n     <path d=\"M 35.40625 51.90625 \nL 52.203125 51.90625 \nL 52.203125 5.171875 \nL 60.6875 5.171875 \nL 60.6875 0 \nL 43.21875 0 \nL 43.21875 9.1875 \nQ 40.71875 4 36.765625 1.28125 \nQ 32.8125 -1.421875 27.59375 -1.421875 \nQ 18.953125 -1.421875 14.875 3.484375 \nQ 10.796875 8.40625 10.796875 18.890625 \nL 10.796875 46.6875 \nL 2.6875 46.6875 \nL 2.6875 51.90625 \nL 19.828125 51.90625 \nL 19.828125 21.6875 \nQ 19.828125 12.203125 22.140625 8.6875 \nQ 24.46875 5.171875 30.421875 5.171875 \nQ 36.671875 5.171875 39.9375 9.765625 \nQ 43.21875 14.359375 43.21875 23.09375 \nL 43.21875 46.6875 \nL 35.40625 46.6875 \nz\n\" id=\"DejaVuSerif-117\"/>\n     <path d=\"M 11.53125 5.171875 \nL 11.53125 70.796875 \nL 2.875 70.796875 \nL 2.875 75.984375 \nL 20.515625 75.984375 \nL 20.515625 43.796875 \nQ 23.140625 48.6875 27.21875 51 \nQ 31.296875 53.328125 37.3125 53.328125 \nQ 46.875 53.328125 52.921875 45.75 \nQ 58.984375 38.1875 58.984375 25.984375 \nQ 58.984375 13.765625 52.921875 6.171875 \nQ 46.875 -1.421875 37.3125 -1.421875 \nQ 31.296875 -1.421875 27.21875 0.890625 \nQ 23.140625 3.21875 20.515625 8.109375 \nL 20.515625 0 \nL 2.875 0 \nL 2.875 5.171875 \nz\nM 20.515625 23.390625 \nQ 20.515625 14.015625 24.09375 9.109375 \nQ 27.6875 4.203125 34.515625 4.203125 \nQ 41.40625 4.203125 44.9375 9.71875 \nQ 48.484375 15.234375 48.484375 25.984375 \nQ 48.484375 36.765625 44.9375 42.234375 \nQ 41.40625 47.703125 34.515625 47.703125 \nQ 27.6875 47.703125 24.09375 42.765625 \nQ 20.515625 37.84375 20.515625 28.515625 \nz\n\" id=\"DejaVuSerif-98\"/>\n     <path d=\"M 9.71875 68.015625 \nQ 9.71875 70.265625 11.34375 71.921875 \nQ 12.984375 73.578125 15.28125 73.578125 \nQ 17.53125 73.578125 19.15625 71.921875 \nQ 20.796875 70.265625 20.796875 68.015625 \nQ 20.796875 65.71875 19.1875 64.109375 \nQ 17.578125 62.5 15.28125 62.5 \nQ 12.984375 62.5 11.34375 64.109375 \nQ 9.71875 65.71875 9.71875 68.015625 \nz\nM 21.1875 5.171875 \nL 29.6875 5.171875 \nL 29.6875 0 \nL 3.609375 0 \nL 3.609375 5.171875 \nL 12.203125 5.171875 \nL 12.203125 46.6875 \nL 3.609375 46.6875 \nL 3.609375 51.90625 \nL 21.1875 51.90625 \nz\n\" id=\"DejaVuSerif-105\"/>\n     <path d=\"M 4.109375 0 \nL 4.109375 5.171875 \nL 12.203125 5.171875 \nL 12.203125 46.6875 \nL 3.609375 46.6875 \nL 3.609375 51.90625 \nL 21.1875 51.90625 \nL 21.1875 42.671875 \nQ 23.6875 47.953125 27.65625 50.640625 \nQ 31.640625 53.328125 36.921875 53.328125 \nQ 45.515625 53.328125 49.5625 48.390625 \nQ 53.609375 43.453125 53.609375 33.015625 \nL 53.609375 5.171875 \nL 61.625 5.171875 \nL 61.625 0 \nL 36.8125 0 \nL 36.8125 5.171875 \nL 44.578125 5.171875 \nL 44.578125 30.171875 \nQ 44.578125 39.703125 42.234375 43.234375 \nQ 39.890625 46.78125 33.984375 46.78125 \nQ 27.734375 46.78125 24.453125 42.203125 \nQ 21.1875 37.640625 21.1875 28.90625 \nL 21.1875 5.171875 \nL 29 5.171875 \nL 29 0 \nz\n\" id=\"DejaVuSerif-110\"/>\n     <path d=\"M 9.28125 3.515625 \nL 9.28125 20.125 \nL 14.890625 20.0625 \nQ 15.140625 11.765625 19.703125 7.78125 \nQ 24.265625 3.8125 33.59375 3.8125 \nQ 42.28125 3.8125 46.84375 7.25 \nQ 51.421875 10.6875 51.421875 17.28125 \nQ 51.421875 22.5625 48.65625 25.390625 \nQ 45.90625 28.21875 37.015625 30.90625 \nL 27.390625 33.796875 \nQ 16.9375 36.96875 12.671875 41.703125 \nQ 8.40625 46.4375 8.40625 54.6875 \nQ 8.40625 63.96875 14.984375 69.09375 \nQ 21.578125 74.21875 33.5 74.21875 \nQ 38.578125 74.21875 44.625 73.109375 \nQ 50.6875 72.015625 57.515625 69.921875 \nL 57.515625 54.390625 \nL 52 54.390625 \nQ 51.171875 62.109375 46.84375 65.546875 \nQ 42.53125 69 33.6875 69 \nQ 25.984375 69 21.953125 65.84375 \nQ 17.921875 62.703125 17.921875 56.6875 \nQ 17.921875 51.46875 20.9375 48.484375 \nQ 23.96875 45.515625 33.796875 42.578125 \nL 42.828125 39.890625 \nQ 52.734375 36.921875 56.953125 32.296875 \nQ 61.1875 27.6875 61.1875 19.921875 \nQ 61.1875 9.328125 54.390625 3.953125 \nQ 47.609375 -1.421875 34.1875 -1.421875 \nQ 28.171875 -1.421875 21.9375 -0.1875 \nQ 15.71875 1.03125 9.28125 3.515625 \nz\n\" id=\"DejaVuSerif-83\"/>\n     <path d=\"M 52.484375 5.171875 \nL 61.078125 5.171875 \nL 61.078125 0 \nL 43.5 0 \nL 43.5 8.109375 \nQ 40.875 3.21875 36.796875 0.890625 \nQ 32.71875 -1.421875 26.703125 -1.421875 \nQ 17.140625 -1.421875 11.0625 6.171875 \nQ 4.984375 13.765625 4.984375 25.984375 \nQ 4.984375 38.1875 11.03125 45.75 \nQ 17.09375 53.328125 26.703125 53.328125 \nQ 32.71875 53.328125 36.796875 51 \nQ 40.875 48.6875 43.5 43.796875 \nL 43.5 70.796875 \nL 35.015625 70.796875 \nL 35.015625 75.984375 \nL 52.484375 75.984375 \nz\nM 43.5 23.390625 \nL 43.5 28.515625 \nQ 43.5 37.84375 39.90625 42.765625 \nQ 36.328125 47.703125 29.5 47.703125 \nQ 22.5625 47.703125 19.015625 42.234375 \nQ 15.484375 36.765625 15.484375 25.984375 \nQ 15.484375 15.234375 19.015625 9.71875 \nQ 22.5625 4.203125 29.5 4.203125 \nQ 36.328125 4.203125 39.90625 9.109375 \nQ 43.5 14.015625 43.5 23.390625 \nz\n\" id=\"DejaVuSerif-100\"/>\n     <path d=\"M 51.421875 15.578125 \nQ 49.515625 7.28125 44.09375 2.921875 \nQ 38.671875 -1.421875 30.078125 -1.421875 \nQ 18.75 -1.421875 11.859375 6.078125 \nQ 4.984375 13.578125 4.984375 25.984375 \nQ 4.984375 38.421875 11.859375 45.875 \nQ 18.75 53.328125 30.078125 53.328125 \nQ 35.015625 53.328125 39.890625 52.171875 \nQ 44.78125 51.03125 49.703125 48.6875 \nL 49.703125 35.40625 \nL 44.484375 35.40625 \nQ 43.453125 42.234375 40.015625 45.359375 \nQ 36.578125 48.484375 30.171875 48.484375 \nQ 22.90625 48.484375 19.1875 42.84375 \nQ 15.484375 37.203125 15.484375 25.984375 \nQ 15.484375 14.75 19.171875 9.078125 \nQ 22.859375 3.421875 30.171875 3.421875 \nQ 35.984375 3.421875 39.453125 6.4375 \nQ 42.921875 9.46875 44.1875 15.578125 \nz\n\" id=\"DejaVuSerif-99\"/>\n     <path d=\"M 28.609375 0 \nL 3.421875 0 \nL 3.421875 5.171875 \nL 11.53125 5.171875 \nL 11.53125 70.796875 \nL 2.875 70.796875 \nL 2.875 75.984375 \nL 20.515625 75.984375 \nL 20.515625 26.515625 \nL 42.390625 46.6875 \nL 34.90625 46.6875 \nL 34.90625 51.90625 \nL 58.40625 51.90625 \nL 58.40625 46.6875 \nL 49.515625 46.6875 \nL 34.078125 32.421875 \nL 53.8125 5.171875 \nL 61.28125 5.171875 \nL 61.28125 0 \nL 35.6875 0 \nL 35.6875 5.171875 \nL 43.109375 5.171875 \nL 27.59375 26.515625 \nL 20.515625 19.921875 \nL 20.515625 5.171875 \nL 28.609375 5.171875 \nz\n\" id=\"DejaVuSerif-107\"/>\n     <path d=\"M 51.8125 41.796875 \nQ 54.390625 47.515625 58.421875 50.421875 \nQ 62.453125 53.328125 67.828125 53.328125 \nQ 75.984375 53.328125 79.984375 48.265625 \nQ 83.984375 43.21875 83.984375 33.015625 \nL 83.984375 5.171875 \nL 92.09375 5.171875 \nL 92.09375 0 \nL 67.1875 0 \nL 67.1875 5.171875 \nL 75 5.171875 \nL 75 31.984375 \nQ 75 39.9375 72.65625 43.3125 \nQ 70.3125 46.6875 64.890625 46.6875 \nQ 58.890625 46.6875 55.734375 42.140625 \nQ 52.59375 37.59375 52.59375 28.90625 \nL 52.59375 5.171875 \nL 60.40625 5.171875 \nL 60.40625 0 \nL 35.796875 0 \nL 35.796875 5.171875 \nL 43.609375 5.171875 \nL 43.609375 32.328125 \nQ 43.609375 40.09375 41.265625 43.390625 \nQ 38.921875 46.6875 33.5 46.6875 \nQ 27.484375 46.6875 24.328125 42.140625 \nQ 21.1875 37.59375 21.1875 28.90625 \nL 21.1875 5.171875 \nL 29 5.171875 \nL 29 0 \nL 4.109375 0 \nL 4.109375 5.171875 \nL 12.203125 5.171875 \nL 12.203125 46.78125 \nL 3.609375 46.78125 \nL 3.609375 51.90625 \nL 21.1875 51.90625 \nL 21.1875 42.671875 \nQ 23.6875 47.859375 27.53125 50.59375 \nQ 31.390625 53.328125 36.28125 53.328125 \nQ 42.328125 53.328125 46.375 50.3125 \nQ 50.4375 47.3125 51.8125 41.796875 \nz\n\" id=\"DejaVuSerif-109\"/>\n    </defs>\n    <g transform=\"translate(44.308594 29.995312)scale(0.3 -0.3)\">\n     <use xlink:href=\"#DejaVuSerif-116\"/>\n     <use x=\"40.185547\" xlink:href=\"#DejaVuSerif-104\"/>\n     <use x=\"104.589844\" xlink:href=\"#DejaVuSerif-101\"/>\n     <use x=\"163.769531\" xlink:href=\"#DejaVuSerif-32\"/>\n     <use x=\"195.556641\" xlink:href=\"#DejaVuSerif-108\"/>\n     <use x=\"227.539062\" xlink:href=\"#DejaVuSerif-101\"/>\n     <use x=\"286.71875\" xlink:href=\"#DejaVuSerif-115\"/>\n     <use x=\"338.037109\" xlink:href=\"#DejaVuSerif-115\"/>\n     <use x=\"389.355469\" xlink:href=\"#DejaVuSerif-32\"/>\n     <use x=\"421.142578\" xlink:href=\"#DejaVuSerif-118\"/>\n     <use x=\"477.636719\" xlink:href=\"#DejaVuSerif-97\"/>\n     <use x=\"537.255859\" xlink:href=\"#DejaVuSerif-108\"/>\n     <use x=\"569.238281\" xlink:href=\"#DejaVuSerif-117\"/>\n     <use x=\"633.642578\" xlink:href=\"#DejaVuSerif-97\"/>\n     <use x=\"693.261719\" xlink:href=\"#DejaVuSerif-98\"/>\n     <use x=\"757.275391\" xlink:href=\"#DejaVuSerif-108\"/>\n     <use x=\"789.257812\" xlink:href=\"#DejaVuSerif-101\"/>\n     <use x=\"848.4375\" xlink:href=\"#DejaVuSerif-32\"/>\n     <use x=\"880.224609\" xlink:href=\"#DejaVuSerif-121\"/>\n     <use x=\"936.71875\" xlink:href=\"#DejaVuSerif-101\"/>\n     <use x=\"995.898438\" xlink:href=\"#DejaVuSerif-97\"/>\n     <use x=\"1055.517578\" xlink:href=\"#DejaVuSerif-114\"/>\n     <use x=\"1103.320312\" xlink:href=\"#DejaVuSerif-32\"/>\n     <use x=\"1135.107422\" xlink:href=\"#DejaVuSerif-105\"/>\n     <use x=\"1167.089844\" xlink:href=\"#DejaVuSerif-110\"/>\n     <use x=\"1231.494141\" xlink:href=\"#DejaVuSerif-32\"/>\n     <use x=\"1263.28125\" xlink:href=\"#DejaVuSerif-116\"/>\n     <use x=\"1303.466797\" xlink:href=\"#DejaVuSerif-104\"/>\n     <use x=\"1367.871094\" xlink:href=\"#DejaVuSerif-101\"/>\n     <use x=\"1427.050781\" xlink:href=\"#DejaVuSerif-32\"/>\n     <use x=\"1458.837891\" xlink:href=\"#DejaVuSerif-83\"/>\n     <use x=\"1527.34375\" xlink:href=\"#DejaVuSerif-97\"/>\n     <use x=\"1586.962891\" xlink:href=\"#DejaVuSerif-117\"/>\n     <use x=\"1651.367188\" xlink:href=\"#DejaVuSerif-100\"/>\n     <use x=\"1715.380859\" xlink:href=\"#DejaVuSerif-105\"/>\n     <use x=\"1747.363281\" xlink:href=\"#DejaVuSerif-32\"/>\n     <use x=\"1779.150391\" xlink:href=\"#DejaVuSerif-115\"/>\n     <use x=\"1830.46875\" xlink:href=\"#DejaVuSerif-116\"/>\n     <use x=\"1870.654297\" xlink:href=\"#DejaVuSerif-111\"/>\n     <use x=\"1930.859375\" xlink:href=\"#DejaVuSerif-99\"/>\n     <use x=\"1986.865234\" xlink:href=\"#DejaVuSerif-107\"/>\n     <use x=\"2047.460938\" xlink:href=\"#DejaVuSerif-32\"/>\n     <use x=\"2079.248047\" xlink:href=\"#DejaVuSerif-109\"/>\n     <use x=\"2174.072266\" xlink:href=\"#DejaVuSerif-97\"/>\n     <use x=\"2233.691406\" xlink:href=\"#DejaVuSerif-114\"/>\n     <use x=\"2281.494141\" xlink:href=\"#DejaVuSerif-107\"/>\n     <use x=\"2342.089844\" xlink:href=\"#DejaVuSerif-101\"/>\n     <use x=\"2401.269531\" xlink:href=\"#DejaVuSerif-116\"/>\n    </g>\n   </g>\n  </g>\n </g>\n <defs>\n  <clipPath id=\"pa50d2f5e16\">\n   <rect height=\"326.16\" width=\"669.6\" x=\"75.73125\" y=\"36.660938\"/>\n  </clipPath>\n </defs>\n</svg>\n"
          },
          "metadata": {
            "needs_background": "light"
          }
        }
      ]
    },
    {
      "cell_type": "markdown",
      "metadata": {
        "id": "ae89513c"
      },
      "source": [
        "."
      ],
      "id": "ae89513c"
    },
    {
      "cell_type": "markdown",
      "metadata": {
        "id": "c8ebc207"
      },
      "source": [
        "## **4. What is the percentage change in the sector,and what is the highest sector?**"
      ],
      "id": "c8ebc207"
    },
    {
      "cell_type": "code",
      "metadata": {
        "id": "55095840",
        "colab": {
          "base_uri": "https://localhost:8080/",
          "height": 0
        },
        "outputId": "ca231973-3181-4e5c-c063-b9592d843656"
      },
      "source": [
        "c=stock_train.groupby(['sectoer'])[['perc_Change']].max().sort_values('perc_Change', ascending=False)\n",
        "c "
      ],
      "id": "55095840",
      "execution_count": 41,
      "outputs": [
        {
          "output_type": "execute_result",
          "data": {
            "text/html": [
              "<div>\n",
              "<style scoped>\n",
              "    .dataframe tbody tr th:only-of-type {\n",
              "        vertical-align: middle;\n",
              "    }\n",
              "\n",
              "    .dataframe tbody tr th {\n",
              "        vertical-align: top;\n",
              "    }\n",
              "\n",
              "    .dataframe thead th {\n",
              "        text-align: right;\n",
              "    }\n",
              "</style>\n",
              "<table border=\"1\" class=\"dataframe\">\n",
              "  <thead>\n",
              "    <tr style=\"text-align: right;\">\n",
              "      <th></th>\n",
              "      <th>perc_Change</th>\n",
              "    </tr>\n",
              "    <tr>\n",
              "      <th>sectoer</th>\n",
              "      <th></th>\n",
              "    </tr>\n",
              "  </thead>\n",
              "  <tbody>\n",
              "    <tr>\n",
              "      <th>Materials</th>\n",
              "      <td>14.58</td>\n",
              "    </tr>\n",
              "    <tr>\n",
              "      <th>Energy</th>\n",
              "      <td>11.59</td>\n",
              "    </tr>\n",
              "  </tbody>\n",
              "</table>\n",
              "</div>"
            ],
            "text/plain": [
              "           perc_Change\n",
              "sectoer               \n",
              "Materials        14.58\n",
              "Energy           11.59"
            ]
          },
          "metadata": {},
          "execution_count": 41
        }
      ]
    },
    {
      "cell_type": "code",
      "metadata": {
        "id": "1e455864",
        "colab": {
          "base_uri": "https://localhost:8080/",
          "height": 0
        },
        "outputId": "89fae6d8-0163-46bd-b94a-7b15e0abdba8"
      },
      "source": [
        "plt.figure(figsize=[12,6]);\n",
        "plt.bar(c.index,c.perc_Change);\n",
        "plt.title('percentage change in the sector',fontsize=30,color='black',family='serif');\n",
        "plt.xlabel('sectoer',fontsize=20,color='black',family='serif');\n",
        "plt.ylabel('perc_Change',fontsize=20,color='black',family='serif');\n",
        "plt.xticks(rotation=45)"
      ],
      "id": "1e455864",
      "execution_count": 42,
      "outputs": [
        {
          "output_type": "execute_result",
          "data": {
            "text/plain": [
              "([0, 1], <a list of 2 Text major ticklabel objects>)"
            ]
          },
          "metadata": {},
          "execution_count": 42
        },
        {
          "output_type": "display_data",
          "data": {
            "text/plain": [
              "<Figure size 864x432 with 1 Axes>"
            ],
            "image/svg+xml": "<?xml version=\"1.0\" encoding=\"utf-8\" standalone=\"no\"?>\n<!DOCTYPE svg PUBLIC \"-//W3C//DTD SVG 1.1//EN\"\n  \"http://www.w3.org/Graphics/SVG/1.1/DTD/svg11.dtd\">\n<!-- Created with matplotlib (https://matplotlib.org/) -->\n<svg height=\"439.630453pt\" version=\"1.1\" viewBox=\"0 0 727.6375 439.630453\" width=\"727.6375pt\" xmlns=\"http://www.w3.org/2000/svg\" xmlns:xlink=\"http://www.w3.org/1999/xlink\">\n <defs>\n  <style type=\"text/css\">\n*{stroke-linecap:butt;stroke-linejoin:round;}\n  </style>\n </defs>\n <g id=\"figure_1\">\n  <g id=\"patch_1\">\n   <path d=\"M 0 439.630453 \nL 727.6375 439.630453 \nL 727.6375 0 \nL 0 0 \nz\n\" style=\"fill:none;\"/>\n  </g>\n  <g id=\"axes_1\">\n   <g id=\"patch_2\">\n    <path d=\"M 50.8375 362.820938 \nL 720.4375 362.820938 \nL 720.4375 36.660938 \nL 50.8375 36.660938 \nz\n\" style=\"fill:#ffffff;\"/>\n   </g>\n   <g id=\"patch_3\">\n    <path clip-path=\"url(#p1c7d80604c)\" d=\"M 81.273864 362.820938 \nL 351.819318 362.820938 \nL 351.819318 52.192366 \nL 81.273864 52.192366 \nz\n\" style=\"fill:#1f77b4;\"/>\n   </g>\n   <g id=\"patch_4\">\n    <path clip-path=\"url(#p1c7d80604c)\" d=\"M 419.455682 362.820938 \nL 690.001136 362.820938 \nL 690.001136 115.894659 \nL 419.455682 115.894659 \nz\n\" style=\"fill:#1f77b4;\"/>\n   </g>\n   <g id=\"matplotlib.axis_1\">\n    <g id=\"xtick_1\">\n     <g id=\"line2d_1\">\n      <defs>\n       <path d=\"M 0 0 \nL 0 3.5 \n\" id=\"m1cd72546d1\" style=\"stroke:#000000;stroke-width:0.8;\"/>\n      </defs>\n      <g>\n       <use style=\"stroke:#000000;stroke-width:0.8;\" x=\"216.546591\" xlink:href=\"#m1cd72546d1\" y=\"362.820938\"/>\n      </g>\n     </g>\n     <g id=\"text_1\">\n      <!-- Materials -->\n      <defs>\n       <path d=\"M 9.8125 72.90625 \nL 24.515625 72.90625 \nL 43.109375 23.296875 \nL 61.8125 72.90625 \nL 76.515625 72.90625 \nL 76.515625 0 \nL 66.890625 0 \nL 66.890625 64.015625 \nL 48.09375 14.015625 \nL 38.1875 14.015625 \nL 19.390625 64.015625 \nL 19.390625 0 \nL 9.8125 0 \nz\n\" id=\"DejaVuSans-77\"/>\n       <path d=\"M 34.28125 27.484375 \nQ 23.390625 27.484375 19.1875 25 \nQ 14.984375 22.515625 14.984375 16.5 \nQ 14.984375 11.71875 18.140625 8.90625 \nQ 21.296875 6.109375 26.703125 6.109375 \nQ 34.1875 6.109375 38.703125 11.40625 \nQ 43.21875 16.703125 43.21875 25.484375 \nL 43.21875 27.484375 \nz\nM 52.203125 31.203125 \nL 52.203125 0 \nL 43.21875 0 \nL 43.21875 8.296875 \nQ 40.140625 3.328125 35.546875 0.953125 \nQ 30.953125 -1.421875 24.3125 -1.421875 \nQ 15.921875 -1.421875 10.953125 3.296875 \nQ 6 8.015625 6 15.921875 \nQ 6 25.140625 12.171875 29.828125 \nQ 18.359375 34.515625 30.609375 34.515625 \nL 43.21875 34.515625 \nL 43.21875 35.40625 \nQ 43.21875 41.609375 39.140625 45 \nQ 35.0625 48.390625 27.6875 48.390625 \nQ 23 48.390625 18.546875 47.265625 \nQ 14.109375 46.140625 10.015625 43.890625 \nL 10.015625 52.203125 \nQ 14.9375 54.109375 19.578125 55.046875 \nQ 24.21875 56 28.609375 56 \nQ 40.484375 56 46.34375 49.84375 \nQ 52.203125 43.703125 52.203125 31.203125 \nz\n\" id=\"DejaVuSans-97\"/>\n       <path d=\"M 18.3125 70.21875 \nL 18.3125 54.6875 \nL 36.8125 54.6875 \nL 36.8125 47.703125 \nL 18.3125 47.703125 \nL 18.3125 18.015625 \nQ 18.3125 11.328125 20.140625 9.421875 \nQ 21.96875 7.515625 27.59375 7.515625 \nL 36.8125 7.515625 \nL 36.8125 0 \nL 27.59375 0 \nQ 17.1875 0 13.234375 3.875 \nQ 9.28125 7.765625 9.28125 18.015625 \nL 9.28125 47.703125 \nL 2.6875 47.703125 \nL 2.6875 54.6875 \nL 9.28125 54.6875 \nL 9.28125 70.21875 \nz\n\" id=\"DejaVuSans-116\"/>\n       <path d=\"M 56.203125 29.59375 \nL 56.203125 25.203125 \nL 14.890625 25.203125 \nQ 15.484375 15.921875 20.484375 11.0625 \nQ 25.484375 6.203125 34.421875 6.203125 \nQ 39.59375 6.203125 44.453125 7.46875 \nQ 49.3125 8.734375 54.109375 11.28125 \nL 54.109375 2.78125 \nQ 49.265625 0.734375 44.1875 -0.34375 \nQ 39.109375 -1.421875 33.890625 -1.421875 \nQ 20.796875 -1.421875 13.15625 6.1875 \nQ 5.515625 13.8125 5.515625 26.8125 \nQ 5.515625 40.234375 12.765625 48.109375 \nQ 20.015625 56 32.328125 56 \nQ 43.359375 56 49.78125 48.890625 \nQ 56.203125 41.796875 56.203125 29.59375 \nz\nM 47.21875 32.234375 \nQ 47.125 39.59375 43.09375 43.984375 \nQ 39.0625 48.390625 32.421875 48.390625 \nQ 24.90625 48.390625 20.390625 44.140625 \nQ 15.875 39.890625 15.1875 32.171875 \nz\n\" id=\"DejaVuSans-101\"/>\n       <path d=\"M 41.109375 46.296875 \nQ 39.59375 47.171875 37.8125 47.578125 \nQ 36.03125 48 33.890625 48 \nQ 26.265625 48 22.1875 43.046875 \nQ 18.109375 38.09375 18.109375 28.8125 \nL 18.109375 0 \nL 9.078125 0 \nL 9.078125 54.6875 \nL 18.109375 54.6875 \nL 18.109375 46.1875 \nQ 20.953125 51.171875 25.484375 53.578125 \nQ 30.03125 56 36.53125 56 \nQ 37.453125 56 38.578125 55.875 \nQ 39.703125 55.765625 41.0625 55.515625 \nz\n\" id=\"DejaVuSans-114\"/>\n       <path d=\"M 9.421875 54.6875 \nL 18.40625 54.6875 \nL 18.40625 0 \nL 9.421875 0 \nz\nM 9.421875 75.984375 \nL 18.40625 75.984375 \nL 18.40625 64.59375 \nL 9.421875 64.59375 \nz\n\" id=\"DejaVuSans-105\"/>\n       <path d=\"M 9.421875 75.984375 \nL 18.40625 75.984375 \nL 18.40625 0 \nL 9.421875 0 \nz\n\" id=\"DejaVuSans-108\"/>\n       <path d=\"M 44.28125 53.078125 \nL 44.28125 44.578125 \nQ 40.484375 46.53125 36.375 47.5 \nQ 32.28125 48.484375 27.875 48.484375 \nQ 21.1875 48.484375 17.84375 46.4375 \nQ 14.5 44.390625 14.5 40.28125 \nQ 14.5 37.15625 16.890625 35.375 \nQ 19.28125 33.59375 26.515625 31.984375 \nL 29.59375 31.296875 \nQ 39.15625 29.25 43.1875 25.515625 \nQ 47.21875 21.78125 47.21875 15.09375 \nQ 47.21875 7.46875 41.1875 3.015625 \nQ 35.15625 -1.421875 24.609375 -1.421875 \nQ 20.21875 -1.421875 15.453125 -0.5625 \nQ 10.6875 0.296875 5.421875 2 \nL 5.421875 11.28125 \nQ 10.40625 8.6875 15.234375 7.390625 \nQ 20.0625 6.109375 24.8125 6.109375 \nQ 31.15625 6.109375 34.5625 8.28125 \nQ 37.984375 10.453125 37.984375 14.40625 \nQ 37.984375 18.0625 35.515625 20.015625 \nQ 33.0625 21.96875 24.703125 23.78125 \nL 21.578125 24.515625 \nQ 13.234375 26.265625 9.515625 29.90625 \nQ 5.8125 33.546875 5.8125 39.890625 \nQ 5.8125 47.609375 11.28125 51.796875 \nQ 16.75 56 26.8125 56 \nQ 31.78125 56 36.171875 55.265625 \nQ 40.578125 54.546875 44.28125 53.078125 \nz\n\" id=\"DejaVuSans-115\"/>\n      </defs>\n      <g transform=\"translate(202.292865 407.603642)rotate(-45)scale(0.1 -0.1)\">\n       <use xlink:href=\"#DejaVuSans-77\"/>\n       <use x=\"86.279297\" xlink:href=\"#DejaVuSans-97\"/>\n       <use x=\"147.558594\" xlink:href=\"#DejaVuSans-116\"/>\n       <use x=\"186.767578\" xlink:href=\"#DejaVuSans-101\"/>\n       <use x=\"248.291016\" xlink:href=\"#DejaVuSans-114\"/>\n       <use x=\"289.404297\" xlink:href=\"#DejaVuSans-105\"/>\n       <use x=\"317.1875\" xlink:href=\"#DejaVuSans-97\"/>\n       <use x=\"378.466797\" xlink:href=\"#DejaVuSans-108\"/>\n       <use x=\"406.25\" xlink:href=\"#DejaVuSans-115\"/>\n      </g>\n     </g>\n    </g>\n    <g id=\"xtick_2\">\n     <g id=\"line2d_2\">\n      <g>\n       <use style=\"stroke:#000000;stroke-width:0.8;\" x=\"554.728409\" xlink:href=\"#m1cd72546d1\" y=\"362.820938\"/>\n      </g>\n     </g>\n     <g id=\"text_2\">\n      <!-- Energy -->\n      <defs>\n       <path d=\"M 9.8125 72.90625 \nL 55.90625 72.90625 \nL 55.90625 64.59375 \nL 19.671875 64.59375 \nL 19.671875 43.015625 \nL 54.390625 43.015625 \nL 54.390625 34.71875 \nL 19.671875 34.71875 \nL 19.671875 8.296875 \nL 56.78125 8.296875 \nL 56.78125 0 \nL 9.8125 0 \nz\n\" id=\"DejaVuSans-69\"/>\n       <path d=\"M 54.890625 33.015625 \nL 54.890625 0 \nL 45.90625 0 \nL 45.90625 32.71875 \nQ 45.90625 40.484375 42.875 44.328125 \nQ 39.84375 48.1875 33.796875 48.1875 \nQ 26.515625 48.1875 22.3125 43.546875 \nQ 18.109375 38.921875 18.109375 30.90625 \nL 18.109375 0 \nL 9.078125 0 \nL 9.078125 54.6875 \nL 18.109375 54.6875 \nL 18.109375 46.1875 \nQ 21.34375 51.125 25.703125 53.5625 \nQ 30.078125 56 35.796875 56 \nQ 45.21875 56 50.046875 50.171875 \nQ 54.890625 44.34375 54.890625 33.015625 \nz\n\" id=\"DejaVuSans-110\"/>\n       <path d=\"M 45.40625 27.984375 \nQ 45.40625 37.75 41.375 43.109375 \nQ 37.359375 48.484375 30.078125 48.484375 \nQ 22.859375 48.484375 18.828125 43.109375 \nQ 14.796875 37.75 14.796875 27.984375 \nQ 14.796875 18.265625 18.828125 12.890625 \nQ 22.859375 7.515625 30.078125 7.515625 \nQ 37.359375 7.515625 41.375 12.890625 \nQ 45.40625 18.265625 45.40625 27.984375 \nz\nM 54.390625 6.78125 \nQ 54.390625 -7.171875 48.1875 -13.984375 \nQ 42 -20.796875 29.203125 -20.796875 \nQ 24.46875 -20.796875 20.265625 -20.09375 \nQ 16.0625 -19.390625 12.109375 -17.921875 \nL 12.109375 -9.1875 \nQ 16.0625 -11.328125 19.921875 -12.34375 \nQ 23.78125 -13.375 27.78125 -13.375 \nQ 36.625 -13.375 41.015625 -8.765625 \nQ 45.40625 -4.15625 45.40625 5.171875 \nL 45.40625 9.625 \nQ 42.625 4.78125 38.28125 2.390625 \nQ 33.9375 0 27.875 0 \nQ 17.828125 0 11.671875 7.65625 \nQ 5.515625 15.328125 5.515625 27.984375 \nQ 5.515625 40.671875 11.671875 48.328125 \nQ 17.828125 56 27.875 56 \nQ 33.9375 56 38.28125 53.609375 \nQ 42.625 51.21875 45.40625 46.390625 \nL 45.40625 54.6875 \nL 54.390625 54.6875 \nz\n\" id=\"DejaVuSans-103\"/>\n       <path d=\"M 32.171875 -5.078125 \nQ 28.375 -14.84375 24.75 -17.8125 \nQ 21.140625 -20.796875 15.09375 -20.796875 \nL 7.90625 -20.796875 \nL 7.90625 -13.28125 \nL 13.1875 -13.28125 \nQ 16.890625 -13.28125 18.9375 -11.515625 \nQ 21 -9.765625 23.484375 -3.21875 \nL 25.09375 0.875 \nL 2.984375 54.6875 \nL 12.5 54.6875 \nL 29.59375 11.921875 \nL 46.6875 54.6875 \nL 56.203125 54.6875 \nz\n\" id=\"DejaVuSans-121\"/>\n      </defs>\n      <g transform=\"translate(544.300794 399.95142)rotate(-45)scale(0.1 -0.1)\">\n       <use xlink:href=\"#DejaVuSans-69\"/>\n       <use x=\"63.183594\" xlink:href=\"#DejaVuSans-110\"/>\n       <use x=\"126.5625\" xlink:href=\"#DejaVuSans-101\"/>\n       <use x=\"188.085938\" xlink:href=\"#DejaVuSans-114\"/>\n       <use x=\"227.449219\" xlink:href=\"#DejaVuSans-103\"/>\n       <use x=\"290.925781\" xlink:href=\"#DejaVuSans-121\"/>\n      </g>\n     </g>\n    </g>\n    <g id=\"text_3\">\n     <!-- sectoer -->\n     <defs>\n      <path d=\"M 5.609375 2.875 \nL 5.609375 14.984375 \nL 10.796875 14.984375 \nQ 10.984375 9.1875 14.421875 6.296875 \nQ 17.875 3.421875 24.609375 3.421875 \nQ 30.671875 3.421875 33.84375 5.6875 \nQ 37.015625 7.953125 37.015625 12.3125 \nQ 37.015625 15.71875 34.6875 17.8125 \nQ 32.375 19.921875 24.90625 22.3125 \nL 18.40625 24.515625 \nQ 11.71875 26.65625 8.71875 29.875 \nQ 5.71875 33.109375 5.71875 38.09375 \nQ 5.71875 45.21875 10.9375 49.265625 \nQ 16.15625 53.328125 25.390625 53.328125 \nQ 29.5 53.328125 34.03125 52.25 \nQ 38.578125 51.171875 43.40625 49.125 \nL 43.40625 37.796875 \nL 38.234375 37.796875 \nQ 38.03125 42.828125 34.703125 45.65625 \nQ 31.390625 48.484375 25.6875 48.484375 \nQ 20.015625 48.484375 17.109375 46.484375 \nQ 14.203125 44.484375 14.203125 40.484375 \nQ 14.203125 37.203125 16.40625 35.21875 \nQ 18.609375 33.25 25.203125 31.203125 \nL 32.328125 29 \nQ 39.703125 26.703125 42.9375 23.265625 \nQ 46.1875 19.828125 46.1875 14.40625 \nQ 46.1875 7.03125 40.546875 2.796875 \nQ 34.90625 -1.421875 25 -1.421875 \nQ 19.96875 -1.421875 15.1875 -0.34375 \nQ 10.40625 0.734375 5.609375 2.875 \nz\n\" id=\"DejaVuSerif-115\"/>\n      <path d=\"M 54.203125 25 \nL 15.484375 25 \nL 15.484375 24.609375 \nQ 15.484375 14.109375 19.4375 8.765625 \nQ 23.390625 3.421875 31.109375 3.421875 \nQ 37.015625 3.421875 40.796875 6.515625 \nQ 44.578125 9.625 46.09375 15.71875 \nL 53.328125 15.71875 \nQ 51.171875 7.171875 45.375 2.875 \nQ 39.59375 -1.421875 30.171875 -1.421875 \nQ 18.796875 -1.421875 11.890625 6.078125 \nQ 4.984375 13.578125 4.984375 25.984375 \nQ 4.984375 38.28125 11.765625 45.796875 \nQ 18.5625 53.328125 29.59375 53.328125 \nQ 41.359375 53.328125 47.65625 46.0625 \nQ 53.953125 38.8125 54.203125 25 \nz\nM 43.609375 30.171875 \nQ 43.3125 39.265625 39.765625 43.875 \nQ 36.234375 48.484375 29.59375 48.484375 \nQ 23.390625 48.484375 19.828125 43.84375 \nQ 16.265625 39.203125 15.484375 30.171875 \nz\n\" id=\"DejaVuSerif-101\"/>\n      <path d=\"M 51.421875 15.578125 \nQ 49.515625 7.28125 44.09375 2.921875 \nQ 38.671875 -1.421875 30.078125 -1.421875 \nQ 18.75 -1.421875 11.859375 6.078125 \nQ 4.984375 13.578125 4.984375 25.984375 \nQ 4.984375 38.421875 11.859375 45.875 \nQ 18.75 53.328125 30.078125 53.328125 \nQ 35.015625 53.328125 39.890625 52.171875 \nQ 44.78125 51.03125 49.703125 48.6875 \nL 49.703125 35.40625 \nL 44.484375 35.40625 \nQ 43.453125 42.234375 40.015625 45.359375 \nQ 36.578125 48.484375 30.171875 48.484375 \nQ 22.90625 48.484375 19.1875 42.84375 \nQ 15.484375 37.203125 15.484375 25.984375 \nQ 15.484375 14.75 19.171875 9.078125 \nQ 22.859375 3.421875 30.171875 3.421875 \nQ 35.984375 3.421875 39.453125 6.4375 \nQ 42.921875 9.46875 44.1875 15.578125 \nz\n\" id=\"DejaVuSerif-99\"/>\n      <path d=\"M 10.796875 46.6875 \nL 2.875 46.6875 \nL 2.875 51.90625 \nL 10.796875 51.90625 \nL 10.796875 68.015625 \nL 19.828125 68.015625 \nL 19.828125 51.90625 \nL 36.71875 51.90625 \nL 36.71875 46.6875 \nL 19.828125 46.6875 \nL 19.828125 13.71875 \nQ 19.828125 7.125 21.09375 5.265625 \nQ 22.359375 3.421875 25.78125 3.421875 \nQ 29.296875 3.421875 30.90625 5.484375 \nQ 32.515625 7.5625 32.625 12.203125 \nL 39.40625 12.203125 \nQ 39.015625 5.125 35.546875 1.84375 \nQ 32.078125 -1.421875 25 -1.421875 \nQ 17.234375 -1.421875 14.015625 2.015625 \nQ 10.796875 5.46875 10.796875 13.71875 \nz\n\" id=\"DejaVuSerif-116\"/>\n      <path d=\"M 30.078125 3.421875 \nQ 37.3125 3.421875 40.984375 9.125 \nQ 44.671875 14.84375 44.671875 25.984375 \nQ 44.671875 37.109375 40.984375 42.796875 \nQ 37.3125 48.484375 30.078125 48.484375 \nQ 22.859375 48.484375 19.171875 42.796875 \nQ 15.484375 37.109375 15.484375 25.984375 \nQ 15.484375 14.84375 19.1875 9.125 \nQ 22.90625 3.421875 30.078125 3.421875 \nz\nM 30.078125 -1.421875 \nQ 18.75 -1.421875 11.859375 6.078125 \nQ 4.984375 13.578125 4.984375 25.984375 \nQ 4.984375 38.375 11.84375 45.84375 \nQ 18.703125 53.328125 30.078125 53.328125 \nQ 41.453125 53.328125 48.3125 45.84375 \nQ 55.171875 38.375 55.171875 25.984375 \nQ 55.171875 13.578125 48.3125 6.078125 \nQ 41.453125 -1.421875 30.078125 -1.421875 \nz\n\" id=\"DejaVuSerif-111\"/>\n      <path d=\"M 47.796875 52 \nL 47.796875 39.015625 \nL 42.625 39.015625 \nQ 42.390625 42.875 40.484375 44.78125 \nQ 38.578125 46.6875 34.90625 46.6875 \nQ 28.265625 46.6875 24.71875 42.09375 \nQ 21.1875 37.5 21.1875 28.90625 \nL 21.1875 5.171875 \nL 31.59375 5.171875 \nL 31.59375 0 \nL 4.109375 0 \nL 4.109375 5.171875 \nL 12.203125 5.171875 \nL 12.203125 46.78125 \nL 3.609375 46.78125 \nL 3.609375 51.90625 \nL 21.1875 51.90625 \nL 21.1875 42.671875 \nQ 23.828125 48.09375 27.96875 50.703125 \nQ 32.125 53.328125 38.09375 53.328125 \nQ 40.28125 53.328125 42.703125 52.984375 \nQ 45.125 52.640625 47.796875 52 \nz\n\" id=\"DejaVuSerif-114\"/>\n     </defs>\n     <g transform=\"translate(348.25 428.271078)scale(0.2 -0.2)\">\n      <use xlink:href=\"#DejaVuSerif-115\"/>\n      <use x=\"51.318359\" xlink:href=\"#DejaVuSerif-101\"/>\n      <use x=\"110.498047\" xlink:href=\"#DejaVuSerif-99\"/>\n      <use x=\"166.503906\" xlink:href=\"#DejaVuSerif-116\"/>\n      <use x=\"206.689453\" xlink:href=\"#DejaVuSerif-111\"/>\n      <use x=\"266.894531\" xlink:href=\"#DejaVuSerif-101\"/>\n      <use x=\"326.074219\" xlink:href=\"#DejaVuSerif-114\"/>\n     </g>\n    </g>\n   </g>\n   <g id=\"matplotlib.axis_2\">\n    <g id=\"ytick_1\">\n     <g id=\"line2d_3\">\n      <defs>\n       <path d=\"M 0 0 \nL -3.5 0 \n\" id=\"m5670c0499e\" style=\"stroke:#000000;stroke-width:0.8;\"/>\n      </defs>\n      <g>\n       <use style=\"stroke:#000000;stroke-width:0.8;\" x=\"50.8375\" xlink:href=\"#m5670c0499e\" y=\"362.820938\"/>\n      </g>\n     </g>\n     <g id=\"text_4\">\n      <!-- 0 -->\n      <defs>\n       <path d=\"M 31.78125 66.40625 \nQ 24.171875 66.40625 20.328125 58.90625 \nQ 16.5 51.421875 16.5 36.375 \nQ 16.5 21.390625 20.328125 13.890625 \nQ 24.171875 6.390625 31.78125 6.390625 \nQ 39.453125 6.390625 43.28125 13.890625 \nQ 47.125 21.390625 47.125 36.375 \nQ 47.125 51.421875 43.28125 58.90625 \nQ 39.453125 66.40625 31.78125 66.40625 \nz\nM 31.78125 74.21875 \nQ 44.046875 74.21875 50.515625 64.515625 \nQ 56.984375 54.828125 56.984375 36.375 \nQ 56.984375 17.96875 50.515625 8.265625 \nQ 44.046875 -1.421875 31.78125 -1.421875 \nQ 19.53125 -1.421875 13.0625 8.265625 \nQ 6.59375 17.96875 6.59375 36.375 \nQ 6.59375 54.828125 13.0625 64.515625 \nQ 19.53125 74.21875 31.78125 74.21875 \nz\n\" id=\"DejaVuSans-48\"/>\n      </defs>\n      <g transform=\"translate(37.475 366.620156)scale(0.1 -0.1)\">\n       <use xlink:href=\"#DejaVuSans-48\"/>\n      </g>\n     </g>\n    </g>\n    <g id=\"ytick_2\">\n     <g id=\"line2d_4\">\n      <g>\n       <use style=\"stroke:#000000;stroke-width:0.8;\" x=\"50.8375\" xlink:href=\"#m5670c0499e\" y=\"320.210708\"/>\n      </g>\n     </g>\n     <g id=\"text_5\">\n      <!-- 2 -->\n      <defs>\n       <path d=\"M 19.1875 8.296875 \nL 53.609375 8.296875 \nL 53.609375 0 \nL 7.328125 0 \nL 7.328125 8.296875 \nQ 12.9375 14.109375 22.625 23.890625 \nQ 32.328125 33.6875 34.8125 36.53125 \nQ 39.546875 41.84375 41.421875 45.53125 \nQ 43.3125 49.21875 43.3125 52.78125 \nQ 43.3125 58.59375 39.234375 62.25 \nQ 35.15625 65.921875 28.609375 65.921875 \nQ 23.96875 65.921875 18.8125 64.3125 \nQ 13.671875 62.703125 7.8125 59.421875 \nL 7.8125 69.390625 \nQ 13.765625 71.78125 18.9375 73 \nQ 24.125 74.21875 28.421875 74.21875 \nQ 39.75 74.21875 46.484375 68.546875 \nQ 53.21875 62.890625 53.21875 53.421875 \nQ 53.21875 48.921875 51.53125 44.890625 \nQ 49.859375 40.875 45.40625 35.40625 \nQ 44.1875 33.984375 37.640625 27.21875 \nQ 31.109375 20.453125 19.1875 8.296875 \nz\n\" id=\"DejaVuSans-50\"/>\n      </defs>\n      <g transform=\"translate(37.475 324.009927)scale(0.1 -0.1)\">\n       <use xlink:href=\"#DejaVuSans-50\"/>\n      </g>\n     </g>\n    </g>\n    <g id=\"ytick_3\">\n     <g id=\"line2d_5\">\n      <g>\n       <use style=\"stroke:#000000;stroke-width:0.8;\" x=\"50.8375\" xlink:href=\"#m5670c0499e\" y=\"277.600479\"/>\n      </g>\n     </g>\n     <g id=\"text_6\">\n      <!-- 4 -->\n      <defs>\n       <path d=\"M 37.796875 64.3125 \nL 12.890625 25.390625 \nL 37.796875 25.390625 \nz\nM 35.203125 72.90625 \nL 47.609375 72.90625 \nL 47.609375 25.390625 \nL 58.015625 25.390625 \nL 58.015625 17.1875 \nL 47.609375 17.1875 \nL 47.609375 0 \nL 37.796875 0 \nL 37.796875 17.1875 \nL 4.890625 17.1875 \nL 4.890625 26.703125 \nz\n\" id=\"DejaVuSans-52\"/>\n      </defs>\n      <g transform=\"translate(37.475 281.399698)scale(0.1 -0.1)\">\n       <use xlink:href=\"#DejaVuSans-52\"/>\n      </g>\n     </g>\n    </g>\n    <g id=\"ytick_4\">\n     <g id=\"line2d_6\">\n      <g>\n       <use style=\"stroke:#000000;stroke-width:0.8;\" x=\"50.8375\" xlink:href=\"#m5670c0499e\" y=\"234.99025\"/>\n      </g>\n     </g>\n     <g id=\"text_7\">\n      <!-- 6 -->\n      <defs>\n       <path d=\"M 33.015625 40.375 \nQ 26.375 40.375 22.484375 35.828125 \nQ 18.609375 31.296875 18.609375 23.390625 \nQ 18.609375 15.53125 22.484375 10.953125 \nQ 26.375 6.390625 33.015625 6.390625 \nQ 39.65625 6.390625 43.53125 10.953125 \nQ 47.40625 15.53125 47.40625 23.390625 \nQ 47.40625 31.296875 43.53125 35.828125 \nQ 39.65625 40.375 33.015625 40.375 \nz\nM 52.59375 71.296875 \nL 52.59375 62.3125 \nQ 48.875 64.0625 45.09375 64.984375 \nQ 41.3125 65.921875 37.59375 65.921875 \nQ 27.828125 65.921875 22.671875 59.328125 \nQ 17.53125 52.734375 16.796875 39.40625 \nQ 19.671875 43.65625 24.015625 45.921875 \nQ 28.375 48.1875 33.59375 48.1875 \nQ 44.578125 48.1875 50.953125 41.515625 \nQ 57.328125 34.859375 57.328125 23.390625 \nQ 57.328125 12.15625 50.6875 5.359375 \nQ 44.046875 -1.421875 33.015625 -1.421875 \nQ 20.359375 -1.421875 13.671875 8.265625 \nQ 6.984375 17.96875 6.984375 36.375 \nQ 6.984375 53.65625 15.1875 63.9375 \nQ 23.390625 74.21875 37.203125 74.21875 \nQ 40.921875 74.21875 44.703125 73.484375 \nQ 48.484375 72.75 52.59375 71.296875 \nz\n\" id=\"DejaVuSans-54\"/>\n      </defs>\n      <g transform=\"translate(37.475 238.789468)scale(0.1 -0.1)\">\n       <use xlink:href=\"#DejaVuSans-54\"/>\n      </g>\n     </g>\n    </g>\n    <g id=\"ytick_5\">\n     <g id=\"line2d_7\">\n      <g>\n       <use style=\"stroke:#000000;stroke-width:0.8;\" x=\"50.8375\" xlink:href=\"#m5670c0499e\" y=\"192.38002\"/>\n      </g>\n     </g>\n     <g id=\"text_8\">\n      <!-- 8 -->\n      <defs>\n       <path d=\"M 31.78125 34.625 \nQ 24.75 34.625 20.71875 30.859375 \nQ 16.703125 27.09375 16.703125 20.515625 \nQ 16.703125 13.921875 20.71875 10.15625 \nQ 24.75 6.390625 31.78125 6.390625 \nQ 38.8125 6.390625 42.859375 10.171875 \nQ 46.921875 13.96875 46.921875 20.515625 \nQ 46.921875 27.09375 42.890625 30.859375 \nQ 38.875 34.625 31.78125 34.625 \nz\nM 21.921875 38.8125 \nQ 15.578125 40.375 12.03125 44.71875 \nQ 8.5 49.078125 8.5 55.328125 \nQ 8.5 64.0625 14.71875 69.140625 \nQ 20.953125 74.21875 31.78125 74.21875 \nQ 42.671875 74.21875 48.875 69.140625 \nQ 55.078125 64.0625 55.078125 55.328125 \nQ 55.078125 49.078125 51.53125 44.71875 \nQ 48 40.375 41.703125 38.8125 \nQ 48.828125 37.15625 52.796875 32.3125 \nQ 56.78125 27.484375 56.78125 20.515625 \nQ 56.78125 9.90625 50.3125 4.234375 \nQ 43.84375 -1.421875 31.78125 -1.421875 \nQ 19.734375 -1.421875 13.25 4.234375 \nQ 6.78125 9.90625 6.78125 20.515625 \nQ 6.78125 27.484375 10.78125 32.3125 \nQ 14.796875 37.15625 21.921875 38.8125 \nz\nM 18.3125 54.390625 \nQ 18.3125 48.734375 21.84375 45.5625 \nQ 25.390625 42.390625 31.78125 42.390625 \nQ 38.140625 42.390625 41.71875 45.5625 \nQ 45.3125 48.734375 45.3125 54.390625 \nQ 45.3125 60.0625 41.71875 63.234375 \nQ 38.140625 66.40625 31.78125 66.40625 \nQ 25.390625 66.40625 21.84375 63.234375 \nQ 18.3125 60.0625 18.3125 54.390625 \nz\n\" id=\"DejaVuSans-56\"/>\n      </defs>\n      <g transform=\"translate(37.475 196.179239)scale(0.1 -0.1)\">\n       <use xlink:href=\"#DejaVuSans-56\"/>\n      </g>\n     </g>\n    </g>\n    <g id=\"ytick_6\">\n     <g id=\"line2d_8\">\n      <g>\n       <use style=\"stroke:#000000;stroke-width:0.8;\" x=\"50.8375\" xlink:href=\"#m5670c0499e\" y=\"149.769791\"/>\n      </g>\n     </g>\n     <g id=\"text_9\">\n      <!-- 10 -->\n      <defs>\n       <path d=\"M 12.40625 8.296875 \nL 28.515625 8.296875 \nL 28.515625 63.921875 \nL 10.984375 60.40625 \nL 10.984375 69.390625 \nL 28.421875 72.90625 \nL 38.28125 72.90625 \nL 38.28125 8.296875 \nL 54.390625 8.296875 \nL 54.390625 0 \nL 12.40625 0 \nz\n\" id=\"DejaVuSans-49\"/>\n      </defs>\n      <g transform=\"translate(31.1125 153.56901)scale(0.1 -0.1)\">\n       <use xlink:href=\"#DejaVuSans-49\"/>\n       <use x=\"63.623047\" xlink:href=\"#DejaVuSans-48\"/>\n      </g>\n     </g>\n    </g>\n    <g id=\"ytick_7\">\n     <g id=\"line2d_9\">\n      <g>\n       <use style=\"stroke:#000000;stroke-width:0.8;\" x=\"50.8375\" xlink:href=\"#m5670c0499e\" y=\"107.159562\"/>\n      </g>\n     </g>\n     <g id=\"text_10\">\n      <!-- 12 -->\n      <g transform=\"translate(31.1125 110.958781)scale(0.1 -0.1)\">\n       <use xlink:href=\"#DejaVuSans-49\"/>\n       <use x=\"63.623047\" xlink:href=\"#DejaVuSans-50\"/>\n      </g>\n     </g>\n    </g>\n    <g id=\"ytick_8\">\n     <g id=\"line2d_10\">\n      <g>\n       <use style=\"stroke:#000000;stroke-width:0.8;\" x=\"50.8375\" xlink:href=\"#m5670c0499e\" y=\"64.549333\"/>\n      </g>\n     </g>\n     <g id=\"text_11\">\n      <!-- 14 -->\n      <g transform=\"translate(31.1125 68.348551)scale(0.1 -0.1)\">\n       <use xlink:href=\"#DejaVuSans-49\"/>\n       <use x=\"63.623047\" xlink:href=\"#DejaVuSans-52\"/>\n      </g>\n     </g>\n    </g>\n    <g id=\"text_12\">\n     <!-- perc_Change -->\n     <defs>\n      <path d=\"M 20.515625 28.515625 \nL 20.515625 23.390625 \nQ 20.515625 14.015625 24.09375 9.109375 \nQ 27.6875 4.203125 34.515625 4.203125 \nQ 41.40625 4.203125 44.9375 9.71875 \nQ 48.484375 15.234375 48.484375 25.984375 \nQ 48.484375 36.765625 44.9375 42.234375 \nQ 41.40625 47.703125 34.515625 47.703125 \nQ 27.6875 47.703125 24.09375 42.765625 \nQ 20.515625 37.84375 20.515625 28.515625 \nz\nM 11.53125 46.6875 \nL 2.875 46.6875 \nL 2.875 51.90625 \nL 20.515625 51.90625 \nL 20.515625 43.796875 \nQ 23.140625 48.6875 27.21875 51 \nQ 31.296875 53.328125 37.3125 53.328125 \nQ 46.875 53.328125 52.921875 45.75 \nQ 58.984375 38.1875 58.984375 25.984375 \nQ 58.984375 13.765625 52.921875 6.171875 \nQ 46.875 -1.421875 37.3125 -1.421875 \nQ 31.296875 -1.421875 27.21875 0.890625 \nQ 23.140625 3.21875 20.515625 8.109375 \nL 20.515625 -15.578125 \nL 29 -15.578125 \nL 29 -20.796875 \nL 2.875 -20.796875 \nL 2.875 -15.578125 \nL 11.53125 -15.578125 \nz\n\" id=\"DejaVuSerif-112\"/>\n      <path d=\"M 50 -19.671875 \nL 50 -23.578125 \nL 0 -23.578125 \nL 0 -19.671875 \nz\n\" id=\"DejaVuSerif-95\"/>\n      <path d=\"M 70.515625 19.28125 \nQ 67.28125 9.078125 59.6875 3.828125 \nQ 52.09375 -1.421875 40.484375 -1.421875 \nQ 33.34375 -1.421875 27.234375 1.015625 \nQ 21.140625 3.46875 16.40625 8.203125 \nQ 10.9375 13.671875 8.265625 20.625 \nQ 5.609375 27.59375 5.609375 36.375 \nQ 5.609375 53.375 15.421875 63.796875 \nQ 25.25 74.21875 41.3125 74.21875 \nQ 47.265625 74.21875 54 72.65625 \nQ 60.75 71.09375 68.5 67.921875 \nL 68.5 51.125 \nL 62.984375 51.125 \nQ 61.1875 60.296875 55.734375 64.640625 \nQ 50.296875 69 40.484375 69 \nQ 28.8125 69 22.796875 60.71875 \nQ 16.796875 52.4375 16.796875 36.375 \nQ 16.796875 20.359375 22.796875 12.078125 \nQ 28.8125 3.8125 40.484375 3.8125 \nQ 48.640625 3.8125 53.90625 7.6875 \nQ 59.1875 11.578125 61.53125 19.28125 \nz\n\" id=\"DejaVuSerif-67\"/>\n      <path d=\"M 4.109375 0 \nL 4.109375 5.171875 \nL 12.203125 5.171875 \nL 12.203125 70.796875 \nL 3.609375 70.796875 \nL 3.609375 75.984375 \nL 21.1875 75.984375 \nL 21.1875 42.671875 \nQ 23.6875 47.953125 27.65625 50.640625 \nQ 31.640625 53.328125 36.921875 53.328125 \nQ 45.515625 53.328125 49.5625 48.390625 \nQ 53.609375 43.453125 53.609375 33.015625 \nL 53.609375 5.171875 \nL 61.625 5.171875 \nL 61.625 0 \nL 36.8125 0 \nL 36.8125 5.171875 \nL 44.578125 5.171875 \nL 44.578125 30.171875 \nQ 44.578125 39.703125 42.25 43.1875 \nQ 39.9375 46.6875 33.984375 46.6875 \nQ 27.734375 46.6875 24.453125 42.140625 \nQ 21.1875 37.59375 21.1875 28.90625 \nL 21.1875 5.171875 \nL 29 5.171875 \nL 29 0 \nz\n\" id=\"DejaVuSerif-104\"/>\n      <path d=\"M 39.796875 16.3125 \nL 39.796875 27.296875 \nL 28.21875 27.296875 \nQ 21.53125 27.296875 18.25 24.40625 \nQ 14.984375 21.53125 14.984375 15.578125 \nQ 14.984375 10.15625 18.296875 6.984375 \nQ 21.625 3.8125 27.296875 3.8125 \nQ 32.90625 3.8125 36.34375 7.28125 \nQ 39.796875 10.75 39.796875 16.3125 \nz\nM 48.78125 32.421875 \nL 48.78125 5.171875 \nL 56.78125 5.171875 \nL 56.78125 0 \nL 39.796875 0 \nL 39.796875 5.609375 \nQ 36.8125 2 32.90625 0.28125 \nQ 29 -1.421875 23.78125 -1.421875 \nQ 15.140625 -1.421875 10.0625 3.171875 \nQ 4.984375 7.765625 4.984375 15.578125 \nQ 4.984375 23.640625 10.796875 28.078125 \nQ 16.609375 32.515625 27.203125 32.515625 \nL 39.796875 32.515625 \nL 39.796875 36.078125 \nQ 39.796875 42 36.203125 45.234375 \nQ 32.625 48.484375 26.125 48.484375 \nQ 20.75 48.484375 17.578125 46.046875 \nQ 14.40625 43.609375 13.625 38.8125 \nL 8.984375 38.8125 \nL 8.984375 49.3125 \nQ 13.671875 51.3125 18.09375 52.3125 \nQ 22.515625 53.328125 26.703125 53.328125 \nQ 37.5 53.328125 43.140625 47.96875 \nQ 48.78125 42.625 48.78125 32.421875 \nz\n\" id=\"DejaVuSerif-97\"/>\n      <path d=\"M 4.109375 0 \nL 4.109375 5.171875 \nL 12.203125 5.171875 \nL 12.203125 46.6875 \nL 3.609375 46.6875 \nL 3.609375 51.90625 \nL 21.1875 51.90625 \nL 21.1875 42.671875 \nQ 23.6875 47.953125 27.65625 50.640625 \nQ 31.640625 53.328125 36.921875 53.328125 \nQ 45.515625 53.328125 49.5625 48.390625 \nQ 53.609375 43.453125 53.609375 33.015625 \nL 53.609375 5.171875 \nL 61.625 5.171875 \nL 61.625 0 \nL 36.8125 0 \nL 36.8125 5.171875 \nL 44.578125 5.171875 \nL 44.578125 30.171875 \nQ 44.578125 39.703125 42.234375 43.234375 \nQ 39.890625 46.78125 33.984375 46.78125 \nQ 27.734375 46.78125 24.453125 42.203125 \nQ 21.1875 37.640625 21.1875 28.90625 \nL 21.1875 5.171875 \nL 29 5.171875 \nL 29 0 \nz\n\" id=\"DejaVuSerif-110\"/>\n      <path d=\"M 52.484375 46.6875 \nL 52.484375 1.125 \nQ 52.484375 -10.0625 46.328125 -16.140625 \nQ 40.1875 -22.21875 28.8125 -22.21875 \nQ 23.6875 -22.21875 19 -21.28125 \nQ 14.3125 -20.359375 10.015625 -18.5 \nL 10.015625 -7.625 \nL 14.703125 -7.625 \nQ 15.578125 -12.703125 18.84375 -15.046875 \nQ 22.125 -17.390625 28.21875 -17.390625 \nQ 36.140625 -17.390625 39.8125 -12.921875 \nQ 43.5 -8.453125 43.5 1.125 \nL 43.5 8.109375 \nQ 40.875 3.21875 36.796875 0.890625 \nQ 32.71875 -1.421875 26.703125 -1.421875 \nQ 17.140625 -1.421875 11.0625 6.171875 \nQ 4.984375 13.765625 4.984375 25.984375 \nQ 4.984375 38.1875 11.03125 45.75 \nQ 17.09375 53.328125 26.703125 53.328125 \nQ 32.71875 53.328125 36.796875 51 \nQ 40.875 48.6875 43.5 43.796875 \nL 43.5 51.90625 \nL 61.078125 51.90625 \nL 61.078125 46.6875 \nz\nM 43.5 28.515625 \nQ 43.5 37.84375 39.90625 42.765625 \nQ 36.328125 47.703125 29.5 47.703125 \nQ 22.5625 47.703125 19.015625 42.234375 \nQ 15.484375 36.765625 15.484375 25.984375 \nQ 15.484375 15.234375 19.015625 9.71875 \nQ 22.5625 4.203125 29.5 4.203125 \nQ 36.328125 4.203125 39.90625 9.109375 \nQ 43.5 14.015625 43.5 23.390625 \nz\n\" id=\"DejaVuSerif-103\"/>\n     </defs>\n     <g transform=\"translate(22.396875 266.256563)rotate(-90)scale(0.2 -0.2)\">\n      <use xlink:href=\"#DejaVuSerif-112\"/>\n      <use x=\"64.013672\" xlink:href=\"#DejaVuSerif-101\"/>\n      <use x=\"123.193359\" xlink:href=\"#DejaVuSerif-114\"/>\n      <use x=\"170.996094\" xlink:href=\"#DejaVuSerif-99\"/>\n      <use x=\"227.001953\" xlink:href=\"#DejaVuSerif-95\"/>\n      <use x=\"277.001953\" xlink:href=\"#DejaVuSerif-67\"/>\n      <use x=\"353.515625\" xlink:href=\"#DejaVuSerif-104\"/>\n      <use x=\"417.919922\" xlink:href=\"#DejaVuSerif-97\"/>\n      <use x=\"477.539062\" xlink:href=\"#DejaVuSerif-110\"/>\n      <use x=\"541.943359\" xlink:href=\"#DejaVuSerif-103\"/>\n      <use x=\"605.957031\" xlink:href=\"#DejaVuSerif-101\"/>\n     </g>\n    </g>\n   </g>\n   <g id=\"patch_5\">\n    <path d=\"M 50.8375 362.820938 \nL 50.8375 36.660938 \n\" style=\"fill:none;stroke:#000000;stroke-linecap:square;stroke-linejoin:miter;stroke-width:0.8;\"/>\n   </g>\n   <g id=\"patch_6\">\n    <path d=\"M 720.4375 362.820938 \nL 720.4375 36.660938 \n\" style=\"fill:none;stroke:#000000;stroke-linecap:square;stroke-linejoin:miter;stroke-width:0.8;\"/>\n   </g>\n   <g id=\"patch_7\">\n    <path d=\"M 50.8375 362.820938 \nL 720.4375 362.820938 \n\" style=\"fill:none;stroke:#000000;stroke-linecap:square;stroke-linejoin:miter;stroke-width:0.8;\"/>\n   </g>\n   <g id=\"patch_8\">\n    <path d=\"M 50.8375 36.660938 \nL 720.4375 36.660938 \n\" style=\"fill:none;stroke:#000000;stroke-linecap:square;stroke-linejoin:miter;stroke-width:0.8;\"/>\n   </g>\n   <g id=\"text_13\">\n    <!-- percentage change in the sector -->\n    <defs>\n     <path id=\"DejaVuSerif-32\"/>\n     <path d=\"M 9.71875 68.015625 \nQ 9.71875 70.265625 11.34375 71.921875 \nQ 12.984375 73.578125 15.28125 73.578125 \nQ 17.53125 73.578125 19.15625 71.921875 \nQ 20.796875 70.265625 20.796875 68.015625 \nQ 20.796875 65.71875 19.1875 64.109375 \nQ 17.578125 62.5 15.28125 62.5 \nQ 12.984375 62.5 11.34375 64.109375 \nQ 9.71875 65.71875 9.71875 68.015625 \nz\nM 21.1875 5.171875 \nL 29.6875 5.171875 \nL 29.6875 0 \nL 3.609375 0 \nL 3.609375 5.171875 \nL 12.203125 5.171875 \nL 12.203125 46.6875 \nL 3.609375 46.6875 \nL 3.609375 51.90625 \nL 21.1875 51.90625 \nz\n\" id=\"DejaVuSerif-105\"/>\n    </defs>\n    <g transform=\"translate(139.152344 29.995313)scale(0.3 -0.3)\">\n     <use xlink:href=\"#DejaVuSerif-112\"/>\n     <use x=\"64.013672\" xlink:href=\"#DejaVuSerif-101\"/>\n     <use x=\"123.193359\" xlink:href=\"#DejaVuSerif-114\"/>\n     <use x=\"170.996094\" xlink:href=\"#DejaVuSerif-99\"/>\n     <use x=\"227.001953\" xlink:href=\"#DejaVuSerif-101\"/>\n     <use x=\"286.181641\" xlink:href=\"#DejaVuSerif-110\"/>\n     <use x=\"350.585938\" xlink:href=\"#DejaVuSerif-116\"/>\n     <use x=\"390.771484\" xlink:href=\"#DejaVuSerif-97\"/>\n     <use x=\"450.390625\" xlink:href=\"#DejaVuSerif-103\"/>\n     <use x=\"514.404297\" xlink:href=\"#DejaVuSerif-101\"/>\n     <use x=\"573.583984\" xlink:href=\"#DejaVuSerif-32\"/>\n     <use x=\"605.371094\" xlink:href=\"#DejaVuSerif-99\"/>\n     <use x=\"661.376953\" xlink:href=\"#DejaVuSerif-104\"/>\n     <use x=\"725.78125\" xlink:href=\"#DejaVuSerif-97\"/>\n     <use x=\"785.400391\" xlink:href=\"#DejaVuSerif-110\"/>\n     <use x=\"849.804688\" xlink:href=\"#DejaVuSerif-103\"/>\n     <use x=\"913.818359\" xlink:href=\"#DejaVuSerif-101\"/>\n     <use x=\"972.998047\" xlink:href=\"#DejaVuSerif-32\"/>\n     <use x=\"1004.785156\" xlink:href=\"#DejaVuSerif-105\"/>\n     <use x=\"1036.767578\" xlink:href=\"#DejaVuSerif-110\"/>\n     <use x=\"1101.171875\" xlink:href=\"#DejaVuSerif-32\"/>\n     <use x=\"1132.958984\" xlink:href=\"#DejaVuSerif-116\"/>\n     <use x=\"1173.144531\" xlink:href=\"#DejaVuSerif-104\"/>\n     <use x=\"1237.548828\" xlink:href=\"#DejaVuSerif-101\"/>\n     <use x=\"1296.728516\" xlink:href=\"#DejaVuSerif-32\"/>\n     <use x=\"1328.515625\" xlink:href=\"#DejaVuSerif-115\"/>\n     <use x=\"1379.833984\" xlink:href=\"#DejaVuSerif-101\"/>\n     <use x=\"1439.013672\" xlink:href=\"#DejaVuSerif-99\"/>\n     <use x=\"1495.019531\" xlink:href=\"#DejaVuSerif-116\"/>\n     <use x=\"1535.205078\" xlink:href=\"#DejaVuSerif-111\"/>\n     <use x=\"1595.410156\" xlink:href=\"#DejaVuSerif-114\"/>\n    </g>\n   </g>\n  </g>\n </g>\n <defs>\n  <clipPath id=\"p1c7d80604c\">\n   <rect height=\"326.16\" width=\"669.6\" x=\"50.8375\" y=\"36.660938\"/>\n  </clipPath>\n </defs>\n</svg>\n"
          },
          "metadata": {
            "needs_background": "light"
          }
        }
      ]
    },
    {
      "cell_type": "markdown",
      "metadata": {
        "id": "4Eu8fnxeyE-b"
      },
      "source": [
        "."
      ],
      "id": "4Eu8fnxeyE-b"
    },
    {
      "cell_type": "markdown",
      "metadata": {
        "id": "52fq_yP3yGXr"
      },
      "source": [
        "."
      ],
      "id": "52fq_yP3yGXr"
    },
    {
      "cell_type": "markdown",
      "metadata": {
        "id": "tTHDWjTKyPkT"
      },
      "source": [
        "# **Step 6: Correlation Plot**"
      ],
      "id": "tTHDWjTKyPkT"
    },
    {
      "cell_type": "code",
      "metadata": {
        "id": "FUeduZ6fym0M",
        "colab": {
          "base_uri": "https://localhost:8080/",
          "height": 683
        },
        "outputId": "dafefeba-dfd9-4063-e33a-3259952757a0"
      },
      "source": [
        "# Represent the correlation between the features. \n",
        "plt.figure(figsize=(8,8))\n",
        "sns.heatmap(stock_train.corr(), vmax = 1, vmin = -1, cmap = 'twilight', cbar=True, annot=True, square=True, fmt='.2f', annot_kws = {'size': 10});"
      ],
      "id": "FUeduZ6fym0M",
      "execution_count": 43,
      "outputs": [
        {
          "output_type": "display_data",
          "data": {
            "text/plain": [
              "<Figure size 576x576 with 2 Axes>"
            ],
            "image/svg+xml": "<?xml version=\"1.0\" encoding=\"utf-8\" standalone=\"no\"?>\n<!DOCTYPE svg PUBLIC \"-//W3C//DTD SVG 1.1//EN\"\n  \"http://www.w3.org/Graphics/SVG/1.1/DTD/svg11.dtd\">\n<!-- Created with matplotlib (https://matplotlib.org/) -->\n<svg height=\"496.255469pt\" version=\"1.1\" viewBox=\"0 0 535.285563 496.255469\" width=\"535.285563pt\" xmlns=\"http://www.w3.org/2000/svg\" xmlns:xlink=\"http://www.w3.org/1999/xlink\">\n <defs>\n  <style type=\"text/css\">\n*{stroke-linecap:butt;stroke-linejoin:round;}\n  </style>\n </defs>\n <g id=\"figure_1\">\n  <g id=\"patch_1\">\n   <path d=\"M 0 496.255469 \nL 535.285563 496.255469 \nL 535.285563 0 \nL 0 0 \nz\n\" style=\"fill:none;\"/>\n  </g>\n  <g id=\"axes_1\">\n   <g id=\"patch_2\">\n    <path d=\"M 89.25625 406.999219 \nL 446.37625 406.999219 \nL 446.37625 49.879219 \nL 89.25625 49.879219 \nz\n\" style=\"fill:#ffffff;\"/>\n   </g>\n   <g id=\"QuadMesh_1\">\n    <path clip-path=\"url(#p5999119ac5)\" d=\"M 89.25625 49.879219 \nL 119.01625 49.879219 \nL 119.01625 79.639219 \nL 89.25625 79.639219 \nL 89.25625 49.879219 \n\" style=\"fill:#e2d9e2;\"/>\n    <path clip-path=\"url(#p5999119ac5)\" d=\"M 119.01625 49.879219 \nL 148.77625 49.879219 \nL 148.77625 79.639219 \nL 119.01625 79.639219 \nL 119.01625 49.879219 \n\" style=\"fill:#32123a;\"/>\n    <path clip-path=\"url(#p5999119ac5)\" d=\"M 148.77625 49.879219 \nL 178.53625 49.879219 \nL 178.53625 79.639219 \nL 148.77625 79.639219 \nL 148.77625 49.879219 \n\" style=\"fill:#32123a;\"/>\n    <path clip-path=\"url(#p5999119ac5)\" d=\"M 178.53625 49.879219 \nL 208.29625 49.879219 \nL 208.29625 79.639219 \nL 178.53625 79.639219 \nL 178.53625 49.879219 \n\" style=\"fill:#32123a;\"/>\n    <path clip-path=\"url(#p5999119ac5)\" d=\"M 208.29625 49.879219 \nL 238.05625 49.879219 \nL 238.05625 79.639219 \nL 208.29625 79.639219 \nL 208.29625 49.879219 \n\" style=\"fill:#32123a;\"/>\n    <path clip-path=\"url(#p5999119ac5)\" d=\"M 238.05625 49.879219 \nL 267.81625 49.879219 \nL 267.81625 79.639219 \nL 238.05625 79.639219 \nL 238.05625 49.879219 \n\" style=\"fill:#301437;\"/>\n    <path clip-path=\"url(#p5999119ac5)\" d=\"M 267.81625 49.879219 \nL 297.57625 49.879219 \nL 297.57625 79.639219 \nL 267.81625 79.639219 \nL 267.81625 49.879219 \n\" style=\"fill:#311337;\"/>\n    <path clip-path=\"url(#p5999119ac5)\" d=\"M 297.57625 49.879219 \nL 327.33625 49.879219 \nL 327.33625 79.639219 \nL 297.57625 79.639219 \nL 297.57625 49.879219 \n\" style=\"fill:#3f123d;\"/>\n    <path clip-path=\"url(#p5999119ac5)\" d=\"M 327.33625 49.879219 \nL 357.09625 49.879219 \nL 357.09625 79.639219 \nL 327.33625 79.639219 \nL 327.33625 49.879219 \n\" style=\"fill:#361139;\"/>\n    <path clip-path=\"url(#p5999119ac5)\" d=\"M 357.09625 49.879219 \nL 386.85625 49.879219 \nL 386.85625 79.639219 \nL 357.09625 79.639219 \nL 357.09625 49.879219 \n\" style=\"fill:#39113a;\"/>\n    <path clip-path=\"url(#p5999119ac5)\" d=\"M 386.85625 49.879219 \nL 416.61625 49.879219 \nL 416.61625 79.639219 \nL 386.85625 79.639219 \nL 386.85625 49.879219 \n\" style=\"fill:#551f7f;\"/>\n    <path clip-path=\"url(#p5999119ac5)\" d=\"M 416.61625 49.879219 \nL 446.37625 49.879219 \nL 446.37625 79.639219 \nL 416.61625 79.639219 \nL 416.61625 49.879219 \n\" style=\"fill:#551f7f;\"/>\n    <path clip-path=\"url(#p5999119ac5)\" d=\"M 89.25625 79.639219 \nL 119.01625 79.639219 \nL 119.01625 109.399219 \nL 89.25625 109.399219 \nL 89.25625 79.639219 \n\" style=\"fill:#32123a;\"/>\n    <path clip-path=\"url(#p5999119ac5)\" d=\"M 119.01625 79.639219 \nL 148.77625 79.639219 \nL 148.77625 109.399219 \nL 119.01625 109.399219 \nL 119.01625 79.639219 \n\" style=\"fill:#e2d9e2;\"/>\n    <path clip-path=\"url(#p5999119ac5)\" d=\"M 148.77625 79.639219 \nL 178.53625 79.639219 \nL 178.53625 109.399219 \nL 148.77625 109.399219 \nL 148.77625 79.639219 \n\" style=\"fill:#e1d7dc;\"/>\n    <path clip-path=\"url(#p5999119ac5)\" d=\"M 178.53625 79.639219 \nL 208.29625 79.639219 \nL 208.29625 109.399219 \nL 178.53625 109.399219 \nL 178.53625 79.639219 \n\" style=\"fill:#e2d9e1;\"/>\n    <path clip-path=\"url(#p5999119ac5)\" d=\"M 208.29625 79.639219 \nL 238.05625 79.639219 \nL 238.05625 109.399219 \nL 208.29625 109.399219 \nL 208.29625 79.639219 \n\" style=\"fill:#dacac3;\"/>\n    <path clip-path=\"url(#p5999119ac5)\" d=\"M 238.05625 79.639219 \nL 267.81625 79.639219 \nL 267.81625 109.399219 \nL 238.05625 109.399219 \nL 238.05625 79.639219 \n\" style=\"fill:#301437;\"/>\n    <path clip-path=\"url(#p5999119ac5)\" d=\"M 267.81625 79.639219 \nL 297.57625 79.639219 \nL 297.57625 109.399219 \nL 267.81625 109.399219 \nL 267.81625 79.639219 \n\" style=\"fill:#311339;\"/>\n    <path clip-path=\"url(#p5999119ac5)\" d=\"M 297.57625 79.639219 \nL 327.33625 79.639219 \nL 327.33625 109.399219 \nL 297.57625 109.399219 \nL 297.57625 79.639219 \n\" style=\"fill:#311337;\"/>\n    <path clip-path=\"url(#p5999119ac5)\" d=\"M 327.33625 79.639219 \nL 357.09625 79.639219 \nL 357.09625 109.399219 \nL 327.33625 109.399219 \nL 327.33625 79.639219 \n\" style=\"fill:#501444;\"/>\n    <path clip-path=\"url(#p5999119ac5)\" d=\"M 357.09625 79.639219 \nL 386.85625 79.639219 \nL 386.85625 109.399219 \nL 357.09625 109.399219 \nL 357.09625 79.639219 \n\" style=\"fill:#571647;\"/>\n    <path clip-path=\"url(#p5999119ac5)\" d=\"M 386.85625 79.639219 \nL 416.61625 79.639219 \nL 416.61625 109.399219 \nL 386.85625 109.399219 \nL 386.85625 79.639219 \n\" style=\"fill:#3a113a;\"/>\n    <path clip-path=\"url(#p5999119ac5)\" d=\"M 416.61625 79.639219 \nL 446.37625 79.639219 \nL 446.37625 109.399219 \nL 416.61625 109.399219 \nL 416.61625 79.639219 \n\" style=\"fill:#3a113a;\"/>\n    <path clip-path=\"url(#p5999119ac5)\" d=\"M 89.25625 109.399219 \nL 119.01625 109.399219 \nL 119.01625 139.159219 \nL 89.25625 139.159219 \nL 89.25625 109.399219 \n\" style=\"fill:#32123a;\"/>\n    <path clip-path=\"url(#p5999119ac5)\" d=\"M 119.01625 109.399219 \nL 148.77625 109.399219 \nL 148.77625 139.159219 \nL 119.01625 139.159219 \nL 119.01625 109.399219 \n\" style=\"fill:#e1d7dc;\"/>\n    <path clip-path=\"url(#p5999119ac5)\" d=\"M 148.77625 109.399219 \nL 178.53625 109.399219 \nL 178.53625 139.159219 \nL 148.77625 139.159219 \nL 148.77625 109.399219 \n\" style=\"fill:#e2d9e2;\"/>\n    <path clip-path=\"url(#p5999119ac5)\" d=\"M 178.53625 109.399219 \nL 208.29625 109.399219 \nL 208.29625 139.159219 \nL 178.53625 139.159219 \nL 178.53625 109.399219 \n\" style=\"fill:#e1d8de;\"/>\n    <path clip-path=\"url(#p5999119ac5)\" d=\"M 208.29625 109.399219 \nL 238.05625 109.399219 \nL 238.05625 139.159219 \nL 208.29625 139.159219 \nL 208.29625 109.399219 \n\" style=\"fill:#dccfcd;\"/>\n    <path clip-path=\"url(#p5999119ac5)\" d=\"M 238.05625 109.399219 \nL 267.81625 109.399219 \nL 267.81625 139.159219 \nL 238.05625 139.159219 \nL 238.05625 109.399219 \n\" style=\"fill:#2f1436;\"/>\n    <path clip-path=\"url(#p5999119ac5)\" d=\"M 267.81625 109.399219 \nL 297.57625 109.399219 \nL 297.57625 139.159219 \nL 267.81625 139.159219 \nL 267.81625 109.399219 \n\" style=\"fill:#2f1436;\"/>\n    <path clip-path=\"url(#p5999119ac5)\" d=\"M 297.57625 109.399219 \nL 327.33625 109.399219 \nL 327.33625 139.159219 \nL 297.57625 139.159219 \nL 297.57625 109.399219 \n\" style=\"fill:#331237;\"/>\n    <path clip-path=\"url(#p5999119ac5)\" d=\"M 327.33625 109.399219 \nL 357.09625 109.399219 \nL 357.09625 139.159219 \nL 327.33625 139.159219 \nL 327.33625 109.399219 \n\" style=\"fill:#501444;\"/>\n    <path clip-path=\"url(#p5999119ac5)\" d=\"M 357.09625 109.399219 \nL 386.85625 109.399219 \nL 386.85625 139.159219 \nL 357.09625 139.159219 \nL 357.09625 109.399219 \n\" style=\"fill:#591648;\"/>\n    <path clip-path=\"url(#p5999119ac5)\" d=\"M 386.85625 109.399219 \nL 416.61625 109.399219 \nL 416.61625 139.159219 \nL 386.85625 139.159219 \nL 386.85625 109.399219 \n\" style=\"fill:#381139;\"/>\n    <path clip-path=\"url(#p5999119ac5)\" d=\"M 416.61625 109.399219 \nL 446.37625 109.399219 \nL 446.37625 139.159219 \nL 416.61625 139.159219 \nL 416.61625 109.399219 \n\" style=\"fill:#381139;\"/>\n    <path clip-path=\"url(#p5999119ac5)\" d=\"M 89.25625 139.159219 \nL 119.01625 139.159219 \nL 119.01625 168.919219 \nL 89.25625 168.919219 \nL 89.25625 139.159219 \n\" style=\"fill:#32123a;\"/>\n    <path clip-path=\"url(#p5999119ac5)\" d=\"M 119.01625 139.159219 \nL 148.77625 139.159219 \nL 148.77625 168.919219 \nL 119.01625 168.919219 \nL 119.01625 139.159219 \n\" style=\"fill:#e2d9e1;\"/>\n    <path clip-path=\"url(#p5999119ac5)\" d=\"M 148.77625 139.159219 \nL 178.53625 139.159219 \nL 178.53625 168.919219 \nL 148.77625 168.919219 \nL 148.77625 139.159219 \n\" style=\"fill:#e1d8de;\"/>\n    <path clip-path=\"url(#p5999119ac5)\" d=\"M 178.53625 139.159219 \nL 208.29625 139.159219 \nL 208.29625 168.919219 \nL 178.53625 168.919219 \nL 178.53625 139.159219 \n\" style=\"fill:#e2d9e2;\"/>\n    <path clip-path=\"url(#p5999119ac5)\" d=\"M 208.29625 139.159219 \nL 238.05625 139.159219 \nL 238.05625 168.919219 \nL 208.29625 168.919219 \nL 208.29625 139.159219 \n\" style=\"fill:#dbcbc6;\"/>\n    <path clip-path=\"url(#p5999119ac5)\" d=\"M 238.05625 139.159219 \nL 267.81625 139.159219 \nL 267.81625 168.919219 \nL 238.05625 168.919219 \nL 238.05625 139.159219 \n\" style=\"fill:#2f1436;\"/>\n    <path clip-path=\"url(#p5999119ac5)\" d=\"M 267.81625 139.159219 \nL 297.57625 139.159219 \nL 297.57625 168.919219 \nL 267.81625 168.919219 \nL 267.81625 139.159219 \n\" style=\"fill:#2f1436;\"/>\n    <path clip-path=\"url(#p5999119ac5)\" d=\"M 297.57625 139.159219 \nL 327.33625 139.159219 \nL 327.33625 168.919219 \nL 297.57625 168.919219 \nL 297.57625 139.159219 \n\" style=\"fill:#311337;\"/>\n    <path clip-path=\"url(#p5999119ac5)\" d=\"M 327.33625 139.159219 \nL 357.09625 139.159219 \nL 357.09625 168.919219 \nL 327.33625 168.919219 \nL 327.33625 139.159219 \n\" style=\"fill:#501444;\"/>\n    <path clip-path=\"url(#p5999119ac5)\" d=\"M 357.09625 139.159219 \nL 386.85625 139.159219 \nL 386.85625 168.919219 \nL 357.09625 168.919219 \nL 357.09625 139.159219 \n\" style=\"fill:#561546;\"/>\n    <path clip-path=\"url(#p5999119ac5)\" d=\"M 386.85625 139.159219 \nL 416.61625 139.159219 \nL 416.61625 168.919219 \nL 386.85625 168.919219 \nL 386.85625 139.159219 \n\" style=\"fill:#3a113a;\"/>\n    <path clip-path=\"url(#p5999119ac5)\" d=\"M 416.61625 139.159219 \nL 446.37625 139.159219 \nL 446.37625 168.919219 \nL 416.61625 168.919219 \nL 416.61625 139.159219 \n\" style=\"fill:#3a113a;\"/>\n    <path clip-path=\"url(#p5999119ac5)\" d=\"M 89.25625 168.919219 \nL 119.01625 168.919219 \nL 119.01625 198.679219 \nL 89.25625 198.679219 \nL 89.25625 168.919219 \n\" style=\"fill:#32123a;\"/>\n    <path clip-path=\"url(#p5999119ac5)\" d=\"M 119.01625 168.919219 \nL 148.77625 168.919219 \nL 148.77625 198.679219 \nL 119.01625 198.679219 \nL 119.01625 168.919219 \n\" style=\"fill:#dacac3;\"/>\n    <path clip-path=\"url(#p5999119ac5)\" d=\"M 148.77625 168.919219 \nL 178.53625 168.919219 \nL 178.53625 198.679219 \nL 148.77625 198.679219 \nL 148.77625 168.919219 \n\" style=\"fill:#dccfcd;\"/>\n    <path clip-path=\"url(#p5999119ac5)\" d=\"M 178.53625 168.919219 \nL 208.29625 168.919219 \nL 208.29625 198.679219 \nL 178.53625 198.679219 \nL 178.53625 168.919219 \n\" style=\"fill:#dbcbc6;\"/>\n    <path clip-path=\"url(#p5999119ac5)\" d=\"M 208.29625 168.919219 \nL 238.05625 168.919219 \nL 238.05625 198.679219 \nL 208.29625 198.679219 \nL 208.29625 168.919219 \n\" style=\"fill:#e2d9e2;\"/>\n    <path clip-path=\"url(#p5999119ac5)\" d=\"M 238.05625 168.919219 \nL 267.81625 168.919219 \nL 267.81625 198.679219 \nL 238.05625 198.679219 \nL 238.05625 168.919219 \n\" style=\"fill:#2f1436;\"/>\n    <path clip-path=\"url(#p5999119ac5)\" d=\"M 267.81625 168.919219 \nL 297.57625 168.919219 \nL 297.57625 198.679219 \nL 267.81625 198.679219 \nL 267.81625 168.919219 \n\" style=\"fill:#311337;\"/>\n    <path clip-path=\"url(#p5999119ac5)\" d=\"M 297.57625 168.919219 \nL 327.33625 168.919219 \nL 327.33625 198.679219 \nL 297.57625 198.679219 \nL 297.57625 168.919219 \n\" style=\"fill:#341238;\"/>\n    <path clip-path=\"url(#p5999119ac5)\" d=\"M 327.33625 168.919219 \nL 357.09625 168.919219 \nL 357.09625 198.679219 \nL 327.33625 198.679219 \nL 327.33625 168.919219 \n\" style=\"fill:#521545;\"/>\n    <path clip-path=\"url(#p5999119ac5)\" d=\"M 357.09625 168.919219 \nL 386.85625 168.919219 \nL 386.85625 198.679219 \nL 357.09625 198.679219 \nL 357.09625 168.919219 \n\" style=\"fill:#581647;\"/>\n    <path clip-path=\"url(#p5999119ac5)\" d=\"M 386.85625 168.919219 \nL 416.61625 168.919219 \nL 416.61625 198.679219 \nL 386.85625 198.679219 \nL 386.85625 168.919219 \n\" style=\"fill:#341238;\"/>\n    <path clip-path=\"url(#p5999119ac5)\" d=\"M 416.61625 168.919219 \nL 446.37625 168.919219 \nL 446.37625 198.679219 \nL 416.61625 198.679219 \nL 416.61625 168.919219 \n\" style=\"fill:#341238;\"/>\n    <path clip-path=\"url(#p5999119ac5)\" d=\"M 89.25625 198.679219 \nL 119.01625 198.679219 \nL 119.01625 228.439219 \nL 89.25625 228.439219 \nL 89.25625 198.679219 \n\" style=\"fill:#301437;\"/>\n    <path clip-path=\"url(#p5999119ac5)\" d=\"M 119.01625 198.679219 \nL 148.77625 198.679219 \nL 148.77625 228.439219 \nL 119.01625 228.439219 \nL 119.01625 198.679219 \n\" style=\"fill:#301437;\"/>\n    <path clip-path=\"url(#p5999119ac5)\" d=\"M 148.77625 198.679219 \nL 178.53625 198.679219 \nL 178.53625 228.439219 \nL 148.77625 228.439219 \nL 148.77625 198.679219 \n\" style=\"fill:#2f1436;\"/>\n    <path clip-path=\"url(#p5999119ac5)\" d=\"M 178.53625 198.679219 \nL 208.29625 198.679219 \nL 208.29625 228.439219 \nL 178.53625 228.439219 \nL 178.53625 198.679219 \n\" style=\"fill:#2f1436;\"/>\n    <path clip-path=\"url(#p5999119ac5)\" d=\"M 208.29625 198.679219 \nL 238.05625 198.679219 \nL 238.05625 228.439219 \nL 208.29625 228.439219 \nL 208.29625 198.679219 \n\" style=\"fill:#2f1436;\"/>\n    <path clip-path=\"url(#p5999119ac5)\" d=\"M 238.05625 198.679219 \nL 267.81625 198.679219 \nL 267.81625 228.439219 \nL 238.05625 228.439219 \nL 238.05625 198.679219 \n\" style=\"fill:#e2d9e2;\"/>\n    <path clip-path=\"url(#p5999119ac5)\" d=\"M 267.81625 198.679219 \nL 297.57625 198.679219 \nL 297.57625 228.439219 \nL 267.81625 228.439219 \nL 267.81625 198.679219 \n\" style=\"fill:#c48166;\"/>\n    <path clip-path=\"url(#p5999119ac5)\" d=\"M 297.57625 198.679219 \nL 327.33625 198.679219 \nL 327.33625 228.439219 \nL 297.57625 228.439219 \nL 297.57625 198.679219 \n\" style=\"fill:#3e113c;\"/>\n    <path clip-path=\"url(#p5999119ac5)\" d=\"M 327.33625 198.679219 \nL 357.09625 198.679219 \nL 357.09625 228.439219 \nL 327.33625 228.439219 \nL 327.33625 198.679219 \n\" style=\"fill:#42123e;\"/>\n    <path clip-path=\"url(#p5999119ac5)\" d=\"M 357.09625 198.679219 \nL 386.85625 198.679219 \nL 386.85625 228.439219 \nL 357.09625 228.439219 \nL 357.09625 198.679219 \n\" style=\"fill:#321237;\"/>\n    <path clip-path=\"url(#p5999119ac5)\" d=\"M 386.85625 198.679219 \nL 416.61625 198.679219 \nL 416.61625 228.439219 \nL 386.85625 228.439219 \nL 386.85625 198.679219 \n\" style=\"fill:#311339;\"/>\n    <path clip-path=\"url(#p5999119ac5)\" d=\"M 416.61625 198.679219 \nL 446.37625 198.679219 \nL 446.37625 228.439219 \nL 416.61625 228.439219 \nL 416.61625 198.679219 \n\" style=\"fill:#311339;\"/>\n    <path clip-path=\"url(#p5999119ac5)\" d=\"M 89.25625 228.439219 \nL 119.01625 228.439219 \nL 119.01625 258.199219 \nL 89.25625 258.199219 \nL 89.25625 228.439219 \n\" style=\"fill:#311337;\"/>\n    <path clip-path=\"url(#p5999119ac5)\" d=\"M 119.01625 228.439219 \nL 148.77625 228.439219 \nL 148.77625 258.199219 \nL 119.01625 258.199219 \nL 119.01625 228.439219 \n\" style=\"fill:#311339;\"/>\n    <path clip-path=\"url(#p5999119ac5)\" d=\"M 148.77625 228.439219 \nL 178.53625 228.439219 \nL 178.53625 258.199219 \nL 148.77625 258.199219 \nL 148.77625 228.439219 \n\" style=\"fill:#2f1436;\"/>\n    <path clip-path=\"url(#p5999119ac5)\" d=\"M 178.53625 228.439219 \nL 208.29625 228.439219 \nL 208.29625 258.199219 \nL 178.53625 258.199219 \nL 178.53625 228.439219 \n\" style=\"fill:#2f1436;\"/>\n    <path clip-path=\"url(#p5999119ac5)\" d=\"M 208.29625 228.439219 \nL 238.05625 228.439219 \nL 238.05625 258.199219 \nL 208.29625 258.199219 \nL 208.29625 228.439219 \n\" style=\"fill:#311337;\"/>\n    <path clip-path=\"url(#p5999119ac5)\" d=\"M 238.05625 228.439219 \nL 267.81625 228.439219 \nL 267.81625 258.199219 \nL 238.05625 258.199219 \nL 238.05625 228.439219 \n\" style=\"fill:#c48166;\"/>\n    <path clip-path=\"url(#p5999119ac5)\" d=\"M 267.81625 228.439219 \nL 297.57625 228.439219 \nL 297.57625 258.199219 \nL 267.81625 258.199219 \nL 267.81625 228.439219 \n\" style=\"fill:#e2d9e2;\"/>\n    <path clip-path=\"url(#p5999119ac5)\" d=\"M 297.57625 228.439219 \nL 327.33625 228.439219 \nL 327.33625 258.199219 \nL 297.57625 258.199219 \nL 297.57625 228.439219 \n\" style=\"fill:#44123f;\"/>\n    <path clip-path=\"url(#p5999119ac5)\" d=\"M 327.33625 228.439219 \nL 357.09625 228.439219 \nL 357.09625 258.199219 \nL 327.33625 258.199219 \nL 327.33625 228.439219 \n\" style=\"fill:#3c113b;\"/>\n    <path clip-path=\"url(#p5999119ac5)\" d=\"M 357.09625 228.439219 \nL 386.85625 228.439219 \nL 386.85625 258.199219 \nL 357.09625 258.199219 \nL 357.09625 228.439219 \n\" style=\"fill:#361138;\"/>\n    <path clip-path=\"url(#p5999119ac5)\" d=\"M 386.85625 228.439219 \nL 416.61625 228.439219 \nL 416.61625 258.199219 \nL 386.85625 258.199219 \nL 386.85625 228.439219 \n\" style=\"fill:#32123a;\"/>\n    <path clip-path=\"url(#p5999119ac5)\" d=\"M 416.61625 228.439219 \nL 446.37625 228.439219 \nL 446.37625 258.199219 \nL 416.61625 258.199219 \nL 416.61625 228.439219 \n\" style=\"fill:#32123a;\"/>\n    <path clip-path=\"url(#p5999119ac5)\" d=\"M 89.25625 258.199219 \nL 119.01625 258.199219 \nL 119.01625 287.959219 \nL 89.25625 287.959219 \nL 89.25625 258.199219 \n\" style=\"fill:#3f123d;\"/>\n    <path clip-path=\"url(#p5999119ac5)\" d=\"M 119.01625 258.199219 \nL 148.77625 258.199219 \nL 148.77625 287.959219 \nL 119.01625 287.959219 \nL 119.01625 258.199219 \n\" style=\"fill:#311337;\"/>\n    <path clip-path=\"url(#p5999119ac5)\" d=\"M 148.77625 258.199219 \nL 178.53625 258.199219 \nL 178.53625 287.959219 \nL 148.77625 287.959219 \nL 148.77625 258.199219 \n\" style=\"fill:#331237;\"/>\n    <path clip-path=\"url(#p5999119ac5)\" d=\"M 178.53625 258.199219 \nL 208.29625 258.199219 \nL 208.29625 287.959219 \nL 178.53625 287.959219 \nL 178.53625 258.199219 \n\" style=\"fill:#311337;\"/>\n    <path clip-path=\"url(#p5999119ac5)\" d=\"M 208.29625 258.199219 \nL 238.05625 258.199219 \nL 238.05625 287.959219 \nL 208.29625 287.959219 \nL 208.29625 258.199219 \n\" style=\"fill:#341238;\"/>\n    <path clip-path=\"url(#p5999119ac5)\" d=\"M 238.05625 258.199219 \nL 267.81625 258.199219 \nL 267.81625 287.959219 \nL 238.05625 287.959219 \nL 238.05625 258.199219 \n\" style=\"fill:#3e113c;\"/>\n    <path clip-path=\"url(#p5999119ac5)\" d=\"M 267.81625 258.199219 \nL 297.57625 258.199219 \nL 297.57625 287.959219 \nL 267.81625 287.959219 \nL 267.81625 258.199219 \n\" style=\"fill:#44123f;\"/>\n    <path clip-path=\"url(#p5999119ac5)\" d=\"M 297.57625 258.199219 \nL 327.33625 258.199219 \nL 327.33625 287.959219 \nL 297.57625 287.959219 \nL 297.57625 258.199219 \n\" style=\"fill:#e2d9e2;\"/>\n    <path clip-path=\"url(#p5999119ac5)\" d=\"M 327.33625 258.199219 \nL 357.09625 258.199219 \nL 357.09625 287.959219 \nL 327.33625 287.959219 \nL 327.33625 258.199219 \n\" style=\"fill:#cb9f83;\"/>\n    <path clip-path=\"url(#p5999119ac5)\" d=\"M 357.09625 258.199219 \nL 386.85625 258.199219 \nL 386.85625 287.959219 \nL 357.09625 287.959219 \nL 357.09625 258.199219 \n\" style=\"fill:#581647;\"/>\n    <path clip-path=\"url(#p5999119ac5)\" d=\"M 386.85625 258.199219 \nL 416.61625 258.199219 \nL 416.61625 287.959219 \nL 386.85625 287.959219 \nL 386.85625 258.199219 \n\" style=\"fill:#5a2e93;\"/>\n    <path clip-path=\"url(#p5999119ac5)\" d=\"M 416.61625 258.199219 \nL 446.37625 258.199219 \nL 446.37625 287.959219 \nL 416.61625 287.959219 \nL 416.61625 258.199219 \n\" style=\"fill:#5a2e93;\"/>\n    <path clip-path=\"url(#p5999119ac5)\" d=\"M 89.25625 287.959219 \nL 119.01625 287.959219 \nL 119.01625 317.719219 \nL 89.25625 317.719219 \nL 89.25625 287.959219 \n\" style=\"fill:#361139;\"/>\n    <path clip-path=\"url(#p5999119ac5)\" d=\"M 119.01625 287.959219 \nL 148.77625 287.959219 \nL 148.77625 317.719219 \nL 119.01625 317.719219 \nL 119.01625 287.959219 \n\" style=\"fill:#501444;\"/>\n    <path clip-path=\"url(#p5999119ac5)\" d=\"M 148.77625 287.959219 \nL 178.53625 287.959219 \nL 178.53625 317.719219 \nL 148.77625 317.719219 \nL 148.77625 287.959219 \n\" style=\"fill:#501444;\"/>\n    <path clip-path=\"url(#p5999119ac5)\" d=\"M 178.53625 287.959219 \nL 208.29625 287.959219 \nL 208.29625 317.719219 \nL 178.53625 317.719219 \nL 178.53625 287.959219 \n\" style=\"fill:#501444;\"/>\n    <path clip-path=\"url(#p5999119ac5)\" d=\"M 208.29625 287.959219 \nL 238.05625 287.959219 \nL 238.05625 317.719219 \nL 208.29625 317.719219 \nL 208.29625 287.959219 \n\" style=\"fill:#521545;\"/>\n    <path clip-path=\"url(#p5999119ac5)\" d=\"M 238.05625 287.959219 \nL 267.81625 287.959219 \nL 267.81625 317.719219 \nL 238.05625 317.719219 \nL 238.05625 287.959219 \n\" style=\"fill:#42123e;\"/>\n    <path clip-path=\"url(#p5999119ac5)\" d=\"M 267.81625 287.959219 \nL 297.57625 287.959219 \nL 297.57625 317.719219 \nL 267.81625 317.719219 \nL 267.81625 287.959219 \n\" style=\"fill:#3c113b;\"/>\n    <path clip-path=\"url(#p5999119ac5)\" d=\"M 297.57625 287.959219 \nL 327.33625 287.959219 \nL 327.33625 317.719219 \nL 297.57625 317.719219 \nL 297.57625 287.959219 \n\" style=\"fill:#cb9f83;\"/>\n    <path clip-path=\"url(#p5999119ac5)\" d=\"M 327.33625 287.959219 \nL 357.09625 287.959219 \nL 357.09625 317.719219 \nL 327.33625 317.719219 \nL 327.33625 287.959219 \n\" style=\"fill:#e2d9e2;\"/>\n    <path clip-path=\"url(#p5999119ac5)\" d=\"M 357.09625 287.959219 \nL 386.85625 287.959219 \nL 386.85625 317.719219 \nL 357.09625 317.719219 \nL 357.09625 287.959219 \n\" style=\"fill:#461240;\"/>\n    <path clip-path=\"url(#p5999119ac5)\" d=\"M 386.85625 287.959219 \nL 416.61625 287.959219 \nL 416.61625 317.719219 \nL 386.85625 317.719219 \nL 386.85625 287.959219 \n\" style=\"fill:#572487;\"/>\n    <path clip-path=\"url(#p5999119ac5)\" d=\"M 416.61625 287.959219 \nL 446.37625 287.959219 \nL 446.37625 317.719219 \nL 416.61625 317.719219 \nL 416.61625 287.959219 \n\" style=\"fill:#572487;\"/>\n    <path clip-path=\"url(#p5999119ac5)\" d=\"M 89.25625 317.719219 \nL 119.01625 317.719219 \nL 119.01625 347.479219 \nL 89.25625 347.479219 \nL 89.25625 317.719219 \n\" style=\"fill:#39113a;\"/>\n    <path clip-path=\"url(#p5999119ac5)\" d=\"M 119.01625 317.719219 \nL 148.77625 317.719219 \nL 148.77625 347.479219 \nL 119.01625 347.479219 \nL 119.01625 317.719219 \n\" style=\"fill:#571647;\"/>\n    <path clip-path=\"url(#p5999119ac5)\" d=\"M 148.77625 317.719219 \nL 178.53625 317.719219 \nL 178.53625 347.479219 \nL 148.77625 347.479219 \nL 148.77625 317.719219 \n\" style=\"fill:#591648;\"/>\n    <path clip-path=\"url(#p5999119ac5)\" d=\"M 178.53625 317.719219 \nL 208.29625 317.719219 \nL 208.29625 347.479219 \nL 178.53625 347.479219 \nL 178.53625 317.719219 \n\" style=\"fill:#561546;\"/>\n    <path clip-path=\"url(#p5999119ac5)\" d=\"M 208.29625 317.719219 \nL 238.05625 317.719219 \nL 238.05625 347.479219 \nL 208.29625 347.479219 \nL 208.29625 317.719219 \n\" style=\"fill:#581647;\"/>\n    <path clip-path=\"url(#p5999119ac5)\" d=\"M 238.05625 317.719219 \nL 267.81625 317.719219 \nL 267.81625 347.479219 \nL 238.05625 347.479219 \nL 238.05625 317.719219 \n\" style=\"fill:#321237;\"/>\n    <path clip-path=\"url(#p5999119ac5)\" d=\"M 267.81625 317.719219 \nL 297.57625 317.719219 \nL 297.57625 347.479219 \nL 267.81625 347.479219 \nL 267.81625 317.719219 \n\" style=\"fill:#361138;\"/>\n    <path clip-path=\"url(#p5999119ac5)\" d=\"M 297.57625 317.719219 \nL 327.33625 317.719219 \nL 327.33625 347.479219 \nL 297.57625 347.479219 \nL 297.57625 317.719219 \n\" style=\"fill:#581647;\"/>\n    <path clip-path=\"url(#p5999119ac5)\" d=\"M 327.33625 317.719219 \nL 357.09625 317.719219 \nL 357.09625 347.479219 \nL 327.33625 347.479219 \nL 327.33625 317.719219 \n\" style=\"fill:#461240;\"/>\n    <path clip-path=\"url(#p5999119ac5)\" d=\"M 357.09625 317.719219 \nL 386.85625 317.719219 \nL 386.85625 347.479219 \nL 357.09625 347.479219 \nL 357.09625 317.719219 \n\" style=\"fill:#e2d9e2;\"/>\n    <path clip-path=\"url(#p5999119ac5)\" d=\"M 386.85625 317.719219 \nL 416.61625 317.719219 \nL 416.61625 347.479219 \nL 386.85625 347.479219 \nL 386.85625 317.719219 \n\" style=\"fill:#311339;\"/>\n    <path clip-path=\"url(#p5999119ac5)\" d=\"M 416.61625 317.719219 \nL 446.37625 317.719219 \nL 446.37625 347.479219 \nL 416.61625 347.479219 \nL 416.61625 317.719219 \n\" style=\"fill:#311339;\"/>\n    <path clip-path=\"url(#p5999119ac5)\" d=\"M 89.25625 347.479219 \nL 119.01625 347.479219 \nL 119.01625 377.239219 \nL 89.25625 377.239219 \nL 89.25625 347.479219 \n\" style=\"fill:#551f7f;\"/>\n    <path clip-path=\"url(#p5999119ac5)\" d=\"M 119.01625 347.479219 \nL 148.77625 347.479219 \nL 148.77625 377.239219 \nL 119.01625 377.239219 \nL 119.01625 347.479219 \n\" style=\"fill:#3a113a;\"/>\n    <path clip-path=\"url(#p5999119ac5)\" d=\"M 148.77625 347.479219 \nL 178.53625 347.479219 \nL 178.53625 377.239219 \nL 148.77625 377.239219 \nL 148.77625 347.479219 \n\" style=\"fill:#381139;\"/>\n    <path clip-path=\"url(#p5999119ac5)\" d=\"M 178.53625 347.479219 \nL 208.29625 347.479219 \nL 208.29625 377.239219 \nL 178.53625 377.239219 \nL 178.53625 347.479219 \n\" style=\"fill:#3a113a;\"/>\n    <path clip-path=\"url(#p5999119ac5)\" d=\"M 208.29625 347.479219 \nL 238.05625 347.479219 \nL 238.05625 377.239219 \nL 208.29625 377.239219 \nL 208.29625 347.479219 \n\" style=\"fill:#341238;\"/>\n    <path clip-path=\"url(#p5999119ac5)\" d=\"M 238.05625 347.479219 \nL 267.81625 347.479219 \nL 267.81625 377.239219 \nL 238.05625 377.239219 \nL 238.05625 347.479219 \n\" style=\"fill:#311339;\"/>\n    <path clip-path=\"url(#p5999119ac5)\" d=\"M 267.81625 347.479219 \nL 297.57625 347.479219 \nL 297.57625 377.239219 \nL 267.81625 377.239219 \nL 267.81625 347.479219 \n\" style=\"fill:#32123a;\"/>\n    <path clip-path=\"url(#p5999119ac5)\" d=\"M 297.57625 347.479219 \nL 327.33625 347.479219 \nL 327.33625 377.239219 \nL 297.57625 377.239219 \nL 297.57625 347.479219 \n\" style=\"fill:#5a2e93;\"/>\n    <path clip-path=\"url(#p5999119ac5)\" d=\"M 327.33625 347.479219 \nL 357.09625 347.479219 \nL 357.09625 377.239219 \nL 327.33625 377.239219 \nL 327.33625 347.479219 \n\" style=\"fill:#572487;\"/>\n    <path clip-path=\"url(#p5999119ac5)\" d=\"M 357.09625 347.479219 \nL 386.85625 347.479219 \nL 386.85625 377.239219 \nL 357.09625 377.239219 \nL 357.09625 347.479219 \n\" style=\"fill:#311339;\"/>\n    <path clip-path=\"url(#p5999119ac5)\" d=\"M 386.85625 347.479219 \nL 416.61625 347.479219 \nL 416.61625 377.239219 \nL 386.85625 377.239219 \nL 386.85625 347.479219 \n\" style=\"fill:#e2d9e2;\"/>\n    <path clip-path=\"url(#p5999119ac5)\" d=\"M 416.61625 347.479219 \nL 446.37625 347.479219 \nL 446.37625 377.239219 \nL 416.61625 377.239219 \nL 416.61625 347.479219 \n\" style=\"fill:#e2d9e2;\"/>\n    <path clip-path=\"url(#p5999119ac5)\" d=\"M 89.25625 377.239219 \nL 119.01625 377.239219 \nL 119.01625 406.999219 \nL 89.25625 406.999219 \nL 89.25625 377.239219 \n\" style=\"fill:#551f7f;\"/>\n    <path clip-path=\"url(#p5999119ac5)\" d=\"M 119.01625 377.239219 \nL 148.77625 377.239219 \nL 148.77625 406.999219 \nL 119.01625 406.999219 \nL 119.01625 377.239219 \n\" style=\"fill:#3a113a;\"/>\n    <path clip-path=\"url(#p5999119ac5)\" d=\"M 148.77625 377.239219 \nL 178.53625 377.239219 \nL 178.53625 406.999219 \nL 148.77625 406.999219 \nL 148.77625 377.239219 \n\" style=\"fill:#381139;\"/>\n    <path clip-path=\"url(#p5999119ac5)\" d=\"M 178.53625 377.239219 \nL 208.29625 377.239219 \nL 208.29625 406.999219 \nL 178.53625 406.999219 \nL 178.53625 377.239219 \n\" style=\"fill:#3a113a;\"/>\n    <path clip-path=\"url(#p5999119ac5)\" d=\"M 208.29625 377.239219 \nL 238.05625 377.239219 \nL 238.05625 406.999219 \nL 208.29625 406.999219 \nL 208.29625 377.239219 \n\" style=\"fill:#341238;\"/>\n    <path clip-path=\"url(#p5999119ac5)\" d=\"M 238.05625 377.239219 \nL 267.81625 377.239219 \nL 267.81625 406.999219 \nL 238.05625 406.999219 \nL 238.05625 377.239219 \n\" style=\"fill:#311339;\"/>\n    <path clip-path=\"url(#p5999119ac5)\" d=\"M 267.81625 377.239219 \nL 297.57625 377.239219 \nL 297.57625 406.999219 \nL 267.81625 406.999219 \nL 267.81625 377.239219 \n\" style=\"fill:#32123a;\"/>\n    <path clip-path=\"url(#p5999119ac5)\" d=\"M 297.57625 377.239219 \nL 327.33625 377.239219 \nL 327.33625 406.999219 \nL 297.57625 406.999219 \nL 297.57625 377.239219 \n\" style=\"fill:#5a2e93;\"/>\n    <path clip-path=\"url(#p5999119ac5)\" d=\"M 327.33625 377.239219 \nL 357.09625 377.239219 \nL 357.09625 406.999219 \nL 327.33625 406.999219 \nL 327.33625 377.239219 \n\" style=\"fill:#572487;\"/>\n    <path clip-path=\"url(#p5999119ac5)\" d=\"M 357.09625 377.239219 \nL 386.85625 377.239219 \nL 386.85625 406.999219 \nL 357.09625 406.999219 \nL 357.09625 377.239219 \n\" style=\"fill:#311339;\"/>\n    <path clip-path=\"url(#p5999119ac5)\" d=\"M 386.85625 377.239219 \nL 416.61625 377.239219 \nL 416.61625 406.999219 \nL 386.85625 406.999219 \nL 386.85625 377.239219 \n\" style=\"fill:#e2d9e2;\"/>\n    <path clip-path=\"url(#p5999119ac5)\" d=\"M 416.61625 377.239219 \nL 446.37625 377.239219 \nL 446.37625 406.999219 \nL 416.61625 406.999219 \nL 416.61625 377.239219 \n\" style=\"fill:#e2d9e2;\"/>\n   </g>\n   <g id=\"matplotlib.axis_1\">\n    <g id=\"xtick_1\">\n     <g id=\"line2d_1\">\n      <defs>\n       <path d=\"M 0 0 \nL 0 3.5 \n\" id=\"m3b62f4057e\" style=\"stroke:#000000;stroke-width:0.8;\"/>\n      </defs>\n      <g>\n       <use style=\"stroke:#000000;stroke-width:0.8;\" x=\"104.13625\" xlink:href=\"#m3b62f4057e\" y=\"406.999219\"/>\n      </g>\n     </g>\n     <g id=\"text_1\">\n      <!-- symbol -->\n      <defs>\n       <path d=\"M 44.28125 53.078125 \nL 44.28125 44.578125 \nQ 40.484375 46.53125 36.375 47.5 \nQ 32.28125 48.484375 27.875 48.484375 \nQ 21.1875 48.484375 17.84375 46.4375 \nQ 14.5 44.390625 14.5 40.28125 \nQ 14.5 37.15625 16.890625 35.375 \nQ 19.28125 33.59375 26.515625 31.984375 \nL 29.59375 31.296875 \nQ 39.15625 29.25 43.1875 25.515625 \nQ 47.21875 21.78125 47.21875 15.09375 \nQ 47.21875 7.46875 41.1875 3.015625 \nQ 35.15625 -1.421875 24.609375 -1.421875 \nQ 20.21875 -1.421875 15.453125 -0.5625 \nQ 10.6875 0.296875 5.421875 2 \nL 5.421875 11.28125 \nQ 10.40625 8.6875 15.234375 7.390625 \nQ 20.0625 6.109375 24.8125 6.109375 \nQ 31.15625 6.109375 34.5625 8.28125 \nQ 37.984375 10.453125 37.984375 14.40625 \nQ 37.984375 18.0625 35.515625 20.015625 \nQ 33.0625 21.96875 24.703125 23.78125 \nL 21.578125 24.515625 \nQ 13.234375 26.265625 9.515625 29.90625 \nQ 5.8125 33.546875 5.8125 39.890625 \nQ 5.8125 47.609375 11.28125 51.796875 \nQ 16.75 56 26.8125 56 \nQ 31.78125 56 36.171875 55.265625 \nQ 40.578125 54.546875 44.28125 53.078125 \nz\n\" id=\"DejaVuSans-115\"/>\n       <path d=\"M 32.171875 -5.078125 \nQ 28.375 -14.84375 24.75 -17.8125 \nQ 21.140625 -20.796875 15.09375 -20.796875 \nL 7.90625 -20.796875 \nL 7.90625 -13.28125 \nL 13.1875 -13.28125 \nQ 16.890625 -13.28125 18.9375 -11.515625 \nQ 21 -9.765625 23.484375 -3.21875 \nL 25.09375 0.875 \nL 2.984375 54.6875 \nL 12.5 54.6875 \nL 29.59375 11.921875 \nL 46.6875 54.6875 \nL 56.203125 54.6875 \nz\n\" id=\"DejaVuSans-121\"/>\n       <path d=\"M 52 44.1875 \nQ 55.375 50.25 60.0625 53.125 \nQ 64.75 56 71.09375 56 \nQ 79.640625 56 84.28125 50.015625 \nQ 88.921875 44.046875 88.921875 33.015625 \nL 88.921875 0 \nL 79.890625 0 \nL 79.890625 32.71875 \nQ 79.890625 40.578125 77.09375 44.375 \nQ 74.3125 48.1875 68.609375 48.1875 \nQ 61.625 48.1875 57.5625 43.546875 \nQ 53.515625 38.921875 53.515625 30.90625 \nL 53.515625 0 \nL 44.484375 0 \nL 44.484375 32.71875 \nQ 44.484375 40.625 41.703125 44.40625 \nQ 38.921875 48.1875 33.109375 48.1875 \nQ 26.21875 48.1875 22.15625 43.53125 \nQ 18.109375 38.875 18.109375 30.90625 \nL 18.109375 0 \nL 9.078125 0 \nL 9.078125 54.6875 \nL 18.109375 54.6875 \nL 18.109375 46.1875 \nQ 21.1875 51.21875 25.484375 53.609375 \nQ 29.78125 56 35.6875 56 \nQ 41.65625 56 45.828125 52.96875 \nQ 50 49.953125 52 44.1875 \nz\n\" id=\"DejaVuSans-109\"/>\n       <path d=\"M 48.6875 27.296875 \nQ 48.6875 37.203125 44.609375 42.84375 \nQ 40.53125 48.484375 33.40625 48.484375 \nQ 26.265625 48.484375 22.1875 42.84375 \nQ 18.109375 37.203125 18.109375 27.296875 \nQ 18.109375 17.390625 22.1875 11.75 \nQ 26.265625 6.109375 33.40625 6.109375 \nQ 40.53125 6.109375 44.609375 11.75 \nQ 48.6875 17.390625 48.6875 27.296875 \nz\nM 18.109375 46.390625 \nQ 20.953125 51.265625 25.265625 53.625 \nQ 29.59375 56 35.59375 56 \nQ 45.5625 56 51.78125 48.09375 \nQ 58.015625 40.1875 58.015625 27.296875 \nQ 58.015625 14.40625 51.78125 6.484375 \nQ 45.5625 -1.421875 35.59375 -1.421875 \nQ 29.59375 -1.421875 25.265625 0.953125 \nQ 20.953125 3.328125 18.109375 8.203125 \nL 18.109375 0 \nL 9.078125 0 \nL 9.078125 75.984375 \nL 18.109375 75.984375 \nz\n\" id=\"DejaVuSans-98\"/>\n       <path d=\"M 30.609375 48.390625 \nQ 23.390625 48.390625 19.1875 42.75 \nQ 14.984375 37.109375 14.984375 27.296875 \nQ 14.984375 17.484375 19.15625 11.84375 \nQ 23.34375 6.203125 30.609375 6.203125 \nQ 37.796875 6.203125 41.984375 11.859375 \nQ 46.1875 17.53125 46.1875 27.296875 \nQ 46.1875 37.015625 41.984375 42.703125 \nQ 37.796875 48.390625 30.609375 48.390625 \nz\nM 30.609375 56 \nQ 42.328125 56 49.015625 48.375 \nQ 55.71875 40.765625 55.71875 27.296875 \nQ 55.71875 13.875 49.015625 6.21875 \nQ 42.328125 -1.421875 30.609375 -1.421875 \nQ 18.84375 -1.421875 12.171875 6.21875 \nQ 5.515625 13.875 5.515625 27.296875 \nQ 5.515625 40.765625 12.171875 48.375 \nQ 18.84375 56 30.609375 56 \nz\n\" id=\"DejaVuSans-111\"/>\n       <path d=\"M 9.421875 75.984375 \nL 18.40625 75.984375 \nL 18.40625 0 \nL 9.421875 0 \nz\n\" id=\"DejaVuSans-108\"/>\n      </defs>\n      <g transform=\"translate(106.895625 450.113281)rotate(-90)scale(0.1 -0.1)\">\n       <use xlink:href=\"#DejaVuSans-115\"/>\n       <use x=\"52.099609\" xlink:href=\"#DejaVuSans-121\"/>\n       <use x=\"111.279297\" xlink:href=\"#DejaVuSans-109\"/>\n       <use x=\"208.691406\" xlink:href=\"#DejaVuSans-98\"/>\n       <use x=\"272.167969\" xlink:href=\"#DejaVuSans-111\"/>\n       <use x=\"333.349609\" xlink:href=\"#DejaVuSans-108\"/>\n      </g>\n     </g>\n    </g>\n    <g id=\"xtick_2\">\n     <g id=\"line2d_2\">\n      <g>\n       <use style=\"stroke:#000000;stroke-width:0.8;\" x=\"133.89625\" xlink:href=\"#m3b62f4057e\" y=\"406.999219\"/>\n      </g>\n     </g>\n     <g id=\"text_2\">\n      <!-- open -->\n      <defs>\n       <path d=\"M 18.109375 8.203125 \nL 18.109375 -20.796875 \nL 9.078125 -20.796875 \nL 9.078125 54.6875 \nL 18.109375 54.6875 \nL 18.109375 46.390625 \nQ 20.953125 51.265625 25.265625 53.625 \nQ 29.59375 56 35.59375 56 \nQ 45.5625 56 51.78125 48.09375 \nQ 58.015625 40.1875 58.015625 27.296875 \nQ 58.015625 14.40625 51.78125 6.484375 \nQ 45.5625 -1.421875 35.59375 -1.421875 \nQ 29.59375 -1.421875 25.265625 0.953125 \nQ 20.953125 3.328125 18.109375 8.203125 \nz\nM 48.6875 27.296875 \nQ 48.6875 37.203125 44.609375 42.84375 \nQ 40.53125 48.484375 33.40625 48.484375 \nQ 26.265625 48.484375 22.1875 42.84375 \nQ 18.109375 37.203125 18.109375 27.296875 \nQ 18.109375 17.390625 22.1875 11.75 \nQ 26.265625 6.109375 33.40625 6.109375 \nQ 40.53125 6.109375 44.609375 11.75 \nQ 48.6875 17.390625 48.6875 27.296875 \nz\n\" id=\"DejaVuSans-112\"/>\n       <path d=\"M 56.203125 29.59375 \nL 56.203125 25.203125 \nL 14.890625 25.203125 \nQ 15.484375 15.921875 20.484375 11.0625 \nQ 25.484375 6.203125 34.421875 6.203125 \nQ 39.59375 6.203125 44.453125 7.46875 \nQ 49.3125 8.734375 54.109375 11.28125 \nL 54.109375 2.78125 \nQ 49.265625 0.734375 44.1875 -0.34375 \nQ 39.109375 -1.421875 33.890625 -1.421875 \nQ 20.796875 -1.421875 13.15625 6.1875 \nQ 5.515625 13.8125 5.515625 26.8125 \nQ 5.515625 40.234375 12.765625 48.109375 \nQ 20.015625 56 32.328125 56 \nQ 43.359375 56 49.78125 48.890625 \nQ 56.203125 41.796875 56.203125 29.59375 \nz\nM 47.21875 32.234375 \nQ 47.125 39.59375 43.09375 43.984375 \nQ 39.0625 48.390625 32.421875 48.390625 \nQ 24.90625 48.390625 20.390625 44.140625 \nQ 15.875 39.890625 15.1875 32.171875 \nz\n\" id=\"DejaVuSans-101\"/>\n       <path d=\"M 54.890625 33.015625 \nL 54.890625 0 \nL 45.90625 0 \nL 45.90625 32.71875 \nQ 45.90625 40.484375 42.875 44.328125 \nQ 39.84375 48.1875 33.796875 48.1875 \nQ 26.515625 48.1875 22.3125 43.546875 \nQ 18.109375 38.921875 18.109375 30.90625 \nL 18.109375 0 \nL 9.078125 0 \nL 9.078125 54.6875 \nL 18.109375 54.6875 \nL 18.109375 46.1875 \nQ 21.34375 51.125 25.703125 53.5625 \nQ 30.078125 56 35.796875 56 \nQ 45.21875 56 50.046875 50.171875 \nQ 54.890625 44.34375 54.890625 33.015625 \nz\n\" id=\"DejaVuSans-110\"/>\n      </defs>\n      <g transform=\"translate(136.655625 438.957031)rotate(-90)scale(0.1 -0.1)\">\n       <use xlink:href=\"#DejaVuSans-111\"/>\n       <use x=\"61.181641\" xlink:href=\"#DejaVuSans-112\"/>\n       <use x=\"124.658203\" xlink:href=\"#DejaVuSans-101\"/>\n       <use x=\"186.181641\" xlink:href=\"#DejaVuSans-110\"/>\n      </g>\n     </g>\n    </g>\n    <g id=\"xtick_3\">\n     <g id=\"line2d_3\">\n      <g>\n       <use style=\"stroke:#000000;stroke-width:0.8;\" x=\"163.65625\" xlink:href=\"#m3b62f4057e\" y=\"406.999219\"/>\n      </g>\n     </g>\n     <g id=\"text_3\">\n      <!-- high -->\n      <defs>\n       <path d=\"M 54.890625 33.015625 \nL 54.890625 0 \nL 45.90625 0 \nL 45.90625 32.71875 \nQ 45.90625 40.484375 42.875 44.328125 \nQ 39.84375 48.1875 33.796875 48.1875 \nQ 26.515625 48.1875 22.3125 43.546875 \nQ 18.109375 38.921875 18.109375 30.90625 \nL 18.109375 0 \nL 9.078125 0 \nL 9.078125 75.984375 \nL 18.109375 75.984375 \nL 18.109375 46.1875 \nQ 21.34375 51.125 25.703125 53.5625 \nQ 30.078125 56 35.796875 56 \nQ 45.21875 56 50.046875 50.171875 \nQ 54.890625 44.34375 54.890625 33.015625 \nz\n\" id=\"DejaVuSans-104\"/>\n       <path d=\"M 9.421875 54.6875 \nL 18.40625 54.6875 \nL 18.40625 0 \nL 9.421875 0 \nz\nM 9.421875 75.984375 \nL 18.40625 75.984375 \nL 18.40625 64.59375 \nL 9.421875 64.59375 \nz\n\" id=\"DejaVuSans-105\"/>\n       <path d=\"M 45.40625 27.984375 \nQ 45.40625 37.75 41.375 43.109375 \nQ 37.359375 48.484375 30.078125 48.484375 \nQ 22.859375 48.484375 18.828125 43.109375 \nQ 14.796875 37.75 14.796875 27.984375 \nQ 14.796875 18.265625 18.828125 12.890625 \nQ 22.859375 7.515625 30.078125 7.515625 \nQ 37.359375 7.515625 41.375 12.890625 \nQ 45.40625 18.265625 45.40625 27.984375 \nz\nM 54.390625 6.78125 \nQ 54.390625 -7.171875 48.1875 -13.984375 \nQ 42 -20.796875 29.203125 -20.796875 \nQ 24.46875 -20.796875 20.265625 -20.09375 \nQ 16.0625 -19.390625 12.109375 -17.921875 \nL 12.109375 -9.1875 \nQ 16.0625 -11.328125 19.921875 -12.34375 \nQ 23.78125 -13.375 27.78125 -13.375 \nQ 36.625 -13.375 41.015625 -8.765625 \nQ 45.40625 -4.15625 45.40625 5.171875 \nL 45.40625 9.625 \nQ 42.625 4.78125 38.28125 2.390625 \nQ 33.9375 0 27.875 0 \nQ 17.828125 0 11.671875 7.65625 \nQ 5.515625 15.328125 5.515625 27.984375 \nQ 5.515625 40.671875 11.671875 48.328125 \nQ 17.828125 56 27.875 56 \nQ 33.9375 56 38.28125 53.609375 \nQ 42.625 51.21875 45.40625 46.390625 \nL 45.40625 54.6875 \nL 54.390625 54.6875 \nz\n\" id=\"DejaVuSans-103\"/>\n      </defs>\n      <g transform=\"translate(166.415625 435.800781)rotate(-90)scale(0.1 -0.1)\">\n       <use xlink:href=\"#DejaVuSans-104\"/>\n       <use x=\"63.378906\" xlink:href=\"#DejaVuSans-105\"/>\n       <use x=\"91.162109\" xlink:href=\"#DejaVuSans-103\"/>\n       <use x=\"154.638672\" xlink:href=\"#DejaVuSans-104\"/>\n      </g>\n     </g>\n    </g>\n    <g id=\"xtick_4\">\n     <g id=\"line2d_4\">\n      <g>\n       <use style=\"stroke:#000000;stroke-width:0.8;\" x=\"193.41625\" xlink:href=\"#m3b62f4057e\" y=\"406.999219\"/>\n      </g>\n     </g>\n     <g id=\"text_4\">\n      <!-- low -->\n      <defs>\n       <path d=\"M 4.203125 54.6875 \nL 13.1875 54.6875 \nL 24.421875 12.015625 \nL 35.59375 54.6875 \nL 46.1875 54.6875 \nL 57.421875 12.015625 \nL 68.609375 54.6875 \nL 77.59375 54.6875 \nL 63.28125 0 \nL 52.6875 0 \nL 40.921875 44.828125 \nL 29.109375 0 \nL 18.5 0 \nz\n\" id=\"DejaVuSans-119\"/>\n      </defs>\n      <g transform=\"translate(196.175625 431.074219)rotate(-90)scale(0.1 -0.1)\">\n       <use xlink:href=\"#DejaVuSans-108\"/>\n       <use x=\"27.783203\" xlink:href=\"#DejaVuSans-111\"/>\n       <use x=\"88.964844\" xlink:href=\"#DejaVuSans-119\"/>\n      </g>\n     </g>\n    </g>\n    <g id=\"xtick_5\">\n     <g id=\"line2d_5\">\n      <g>\n       <use style=\"stroke:#000000;stroke-width:0.8;\" x=\"223.17625\" xlink:href=\"#m3b62f4057e\" y=\"406.999219\"/>\n      </g>\n     </g>\n     <g id=\"text_5\">\n      <!-- close -->\n      <defs>\n       <path d=\"M 48.78125 52.59375 \nL 48.78125 44.1875 \nQ 44.96875 46.296875 41.140625 47.34375 \nQ 37.3125 48.390625 33.40625 48.390625 \nQ 24.65625 48.390625 19.8125 42.84375 \nQ 14.984375 37.3125 14.984375 27.296875 \nQ 14.984375 17.28125 19.8125 11.734375 \nQ 24.65625 6.203125 33.40625 6.203125 \nQ 37.3125 6.203125 41.140625 7.25 \nQ 44.96875 8.296875 48.78125 10.40625 \nL 48.78125 2.09375 \nQ 45.015625 0.34375 40.984375 -0.53125 \nQ 36.96875 -1.421875 32.421875 -1.421875 \nQ 20.0625 -1.421875 12.78125 6.34375 \nQ 5.515625 14.109375 5.515625 27.296875 \nQ 5.515625 40.671875 12.859375 48.328125 \nQ 20.21875 56 33.015625 56 \nQ 37.15625 56 41.109375 55.140625 \nQ 45.0625 54.296875 48.78125 52.59375 \nz\n\" id=\"DejaVuSans-99\"/>\n      </defs>\n      <g transform=\"translate(225.935625 439.757031)rotate(-90)scale(0.1 -0.1)\">\n       <use xlink:href=\"#DejaVuSans-99\"/>\n       <use x=\"54.980469\" xlink:href=\"#DejaVuSans-108\"/>\n       <use x=\"82.763672\" xlink:href=\"#DejaVuSans-111\"/>\n       <use x=\"143.945312\" xlink:href=\"#DejaVuSans-115\"/>\n       <use x=\"196.044922\" xlink:href=\"#DejaVuSans-101\"/>\n      </g>\n     </g>\n    </g>\n    <g id=\"xtick_6\">\n     <g id=\"line2d_6\">\n      <g>\n       <use style=\"stroke:#000000;stroke-width:0.8;\" x=\"252.93625\" xlink:href=\"#m3b62f4057e\" y=\"406.999219\"/>\n      </g>\n     </g>\n     <g id=\"text_6\">\n      <!-- change -->\n      <defs>\n       <path d=\"M 34.28125 27.484375 \nQ 23.390625 27.484375 19.1875 25 \nQ 14.984375 22.515625 14.984375 16.5 \nQ 14.984375 11.71875 18.140625 8.90625 \nQ 21.296875 6.109375 26.703125 6.109375 \nQ 34.1875 6.109375 38.703125 11.40625 \nQ 43.21875 16.703125 43.21875 25.484375 \nL 43.21875 27.484375 \nz\nM 52.203125 31.203125 \nL 52.203125 0 \nL 43.21875 0 \nL 43.21875 8.296875 \nQ 40.140625 3.328125 35.546875 0.953125 \nQ 30.953125 -1.421875 24.3125 -1.421875 \nQ 15.921875 -1.421875 10.953125 3.296875 \nQ 6 8.015625 6 15.921875 \nQ 6 25.140625 12.171875 29.828125 \nQ 18.359375 34.515625 30.609375 34.515625 \nL 43.21875 34.515625 \nL 43.21875 35.40625 \nQ 43.21875 41.609375 39.140625 45 \nQ 35.0625 48.390625 27.6875 48.390625 \nQ 23 48.390625 18.546875 47.265625 \nQ 14.109375 46.140625 10.015625 43.890625 \nL 10.015625 52.203125 \nQ 14.9375 54.109375 19.578125 55.046875 \nQ 24.21875 56 28.609375 56 \nQ 40.484375 56 46.34375 49.84375 \nQ 52.203125 43.703125 52.203125 31.203125 \nz\n\" id=\"DejaVuSans-97\"/>\n      </defs>\n      <g transform=\"translate(255.695625 450.802344)rotate(-90)scale(0.1 -0.1)\">\n       <use xlink:href=\"#DejaVuSans-99\"/>\n       <use x=\"54.980469\" xlink:href=\"#DejaVuSans-104\"/>\n       <use x=\"118.359375\" xlink:href=\"#DejaVuSans-97\"/>\n       <use x=\"179.638672\" xlink:href=\"#DejaVuSans-110\"/>\n       <use x=\"243.017578\" xlink:href=\"#DejaVuSans-103\"/>\n       <use x=\"306.494141\" xlink:href=\"#DejaVuSans-101\"/>\n      </g>\n     </g>\n    </g>\n    <g id=\"xtick_7\">\n     <g id=\"line2d_7\">\n      <g>\n       <use style=\"stroke:#000000;stroke-width:0.8;\" x=\"282.69625\" xlink:href=\"#m3b62f4057e\" y=\"406.999219\"/>\n      </g>\n     </g>\n     <g id=\"text_7\">\n      <!-- perc_Change -->\n      <defs>\n       <path d=\"M 41.109375 46.296875 \nQ 39.59375 47.171875 37.8125 47.578125 \nQ 36.03125 48 33.890625 48 \nQ 26.265625 48 22.1875 43.046875 \nQ 18.109375 38.09375 18.109375 28.8125 \nL 18.109375 0 \nL 9.078125 0 \nL 9.078125 54.6875 \nL 18.109375 54.6875 \nL 18.109375 46.1875 \nQ 20.953125 51.171875 25.484375 53.578125 \nQ 30.03125 56 36.53125 56 \nQ 37.453125 56 38.578125 55.875 \nQ 39.703125 55.765625 41.0625 55.515625 \nz\n\" id=\"DejaVuSans-114\"/>\n       <path d=\"M 50.984375 -16.609375 \nL 50.984375 -23.578125 \nL -0.984375 -23.578125 \nL -0.984375 -16.609375 \nz\n\" id=\"DejaVuSans-95\"/>\n       <path d=\"M 64.40625 67.28125 \nL 64.40625 56.890625 \nQ 59.421875 61.53125 53.78125 63.8125 \nQ 48.140625 66.109375 41.796875 66.109375 \nQ 29.296875 66.109375 22.65625 58.46875 \nQ 16.015625 50.828125 16.015625 36.375 \nQ 16.015625 21.96875 22.65625 14.328125 \nQ 29.296875 6.6875 41.796875 6.6875 \nQ 48.140625 6.6875 53.78125 8.984375 \nQ 59.421875 11.28125 64.40625 15.921875 \nL 64.40625 5.609375 \nQ 59.234375 2.09375 53.4375 0.328125 \nQ 47.65625 -1.421875 41.21875 -1.421875 \nQ 24.65625 -1.421875 15.125 8.703125 \nQ 5.609375 18.84375 5.609375 36.375 \nQ 5.609375 53.953125 15.125 64.078125 \nQ 24.65625 74.21875 41.21875 74.21875 \nQ 47.75 74.21875 53.53125 72.484375 \nQ 59.328125 70.75 64.40625 67.28125 \nz\n\" id=\"DejaVuSans-67\"/>\n      </defs>\n      <g transform=\"translate(285.316563 479.172656)rotate(-90)scale(0.1 -0.1)\">\n       <use xlink:href=\"#DejaVuSans-112\"/>\n       <use x=\"63.476562\" xlink:href=\"#DejaVuSans-101\"/>\n       <use x=\"125\" xlink:href=\"#DejaVuSans-114\"/>\n       <use x=\"163.863281\" xlink:href=\"#DejaVuSans-99\"/>\n       <use x=\"218.84375\" xlink:href=\"#DejaVuSans-95\"/>\n       <use x=\"268.84375\" xlink:href=\"#DejaVuSans-67\"/>\n       <use x=\"338.667969\" xlink:href=\"#DejaVuSans-104\"/>\n       <use x=\"402.046875\" xlink:href=\"#DejaVuSans-97\"/>\n       <use x=\"463.326172\" xlink:href=\"#DejaVuSans-110\"/>\n       <use x=\"526.705078\" xlink:href=\"#DejaVuSans-103\"/>\n       <use x=\"590.181641\" xlink:href=\"#DejaVuSans-101\"/>\n      </g>\n     </g>\n    </g>\n    <g id=\"xtick_8\">\n     <g id=\"line2d_8\">\n      <g>\n       <use style=\"stroke:#000000;stroke-width:0.8;\" x=\"312.45625\" xlink:href=\"#m3b62f4057e\" y=\"406.999219\"/>\n      </g>\n     </g>\n     <g id=\"text_8\">\n      <!-- volume_traded -->\n      <defs>\n       <path d=\"M 2.984375 54.6875 \nL 12.5 54.6875 \nL 29.59375 8.796875 \nL 46.6875 54.6875 \nL 56.203125 54.6875 \nL 35.6875 0 \nL 23.484375 0 \nz\n\" id=\"DejaVuSans-118\"/>\n       <path d=\"M 8.5 21.578125 \nL 8.5 54.6875 \nL 17.484375 54.6875 \nL 17.484375 21.921875 \nQ 17.484375 14.15625 20.5 10.265625 \nQ 23.53125 6.390625 29.59375 6.390625 \nQ 36.859375 6.390625 41.078125 11.03125 \nQ 45.3125 15.671875 45.3125 23.6875 \nL 45.3125 54.6875 \nL 54.296875 54.6875 \nL 54.296875 0 \nL 45.3125 0 \nL 45.3125 8.40625 \nQ 42.046875 3.421875 37.71875 1 \nQ 33.40625 -1.421875 27.6875 -1.421875 \nQ 18.265625 -1.421875 13.375 4.4375 \nQ 8.5 10.296875 8.5 21.578125 \nz\nM 31.109375 56 \nz\n\" id=\"DejaVuSans-117\"/>\n       <path d=\"M 18.3125 70.21875 \nL 18.3125 54.6875 \nL 36.8125 54.6875 \nL 36.8125 47.703125 \nL 18.3125 47.703125 \nL 18.3125 18.015625 \nQ 18.3125 11.328125 20.140625 9.421875 \nQ 21.96875 7.515625 27.59375 7.515625 \nL 36.8125 7.515625 \nL 36.8125 0 \nL 27.59375 0 \nQ 17.1875 0 13.234375 3.875 \nQ 9.28125 7.765625 9.28125 18.015625 \nL 9.28125 47.703125 \nL 2.6875 47.703125 \nL 2.6875 54.6875 \nL 9.28125 54.6875 \nL 9.28125 70.21875 \nz\n\" id=\"DejaVuSans-116\"/>\n       <path d=\"M 45.40625 46.390625 \nL 45.40625 75.984375 \nL 54.390625 75.984375 \nL 54.390625 0 \nL 45.40625 0 \nL 45.40625 8.203125 \nQ 42.578125 3.328125 38.25 0.953125 \nQ 33.9375 -1.421875 27.875 -1.421875 \nQ 17.96875 -1.421875 11.734375 6.484375 \nQ 5.515625 14.40625 5.515625 27.296875 \nQ 5.515625 40.1875 11.734375 48.09375 \nQ 17.96875 56 27.875 56 \nQ 33.9375 56 38.25 53.625 \nQ 42.578125 51.265625 45.40625 46.390625 \nz\nM 14.796875 27.296875 \nQ 14.796875 17.390625 18.875 11.75 \nQ 22.953125 6.109375 30.078125 6.109375 \nQ 37.203125 6.109375 41.296875 11.75 \nQ 45.40625 17.390625 45.40625 27.296875 \nQ 45.40625 37.203125 41.296875 42.84375 \nQ 37.203125 48.484375 30.078125 48.484375 \nQ 22.953125 48.484375 18.875 42.84375 \nQ 14.796875 37.203125 14.796875 27.296875 \nz\n\" id=\"DejaVuSans-100\"/>\n      </defs>\n      <g transform=\"translate(315.076563 489.055469)rotate(-90)scale(0.1 -0.1)\">\n       <use xlink:href=\"#DejaVuSans-118\"/>\n       <use x=\"59.179688\" xlink:href=\"#DejaVuSans-111\"/>\n       <use x=\"120.361328\" xlink:href=\"#DejaVuSans-108\"/>\n       <use x=\"148.144531\" xlink:href=\"#DejaVuSans-117\"/>\n       <use x=\"211.523438\" xlink:href=\"#DejaVuSans-109\"/>\n       <use x=\"308.935547\" xlink:href=\"#DejaVuSans-101\"/>\n       <use x=\"370.458984\" xlink:href=\"#DejaVuSans-95\"/>\n       <use x=\"420.458984\" xlink:href=\"#DejaVuSans-116\"/>\n       <use x=\"459.667969\" xlink:href=\"#DejaVuSans-114\"/>\n       <use x=\"500.78125\" xlink:href=\"#DejaVuSans-97\"/>\n       <use x=\"562.060547\" xlink:href=\"#DejaVuSans-100\"/>\n       <use x=\"625.537109\" xlink:href=\"#DejaVuSans-101\"/>\n       <use x=\"687.060547\" xlink:href=\"#DejaVuSans-100\"/>\n      </g>\n     </g>\n    </g>\n    <g id=\"xtick_9\">\n     <g id=\"line2d_9\">\n      <g>\n       <use style=\"stroke:#000000;stroke-width:0.8;\" x=\"342.21625\" xlink:href=\"#m3b62f4057e\" y=\"406.999219\"/>\n      </g>\n     </g>\n     <g id=\"text_9\">\n      <!-- value_traded -->\n      <g transform=\"translate(344.836563 479.324219)rotate(-90)scale(0.1 -0.1)\">\n       <use xlink:href=\"#DejaVuSans-118\"/>\n       <use x=\"59.179688\" xlink:href=\"#DejaVuSans-97\"/>\n       <use x=\"120.458984\" xlink:href=\"#DejaVuSans-108\"/>\n       <use x=\"148.242188\" xlink:href=\"#DejaVuSans-117\"/>\n       <use x=\"211.621094\" xlink:href=\"#DejaVuSans-101\"/>\n       <use x=\"273.144531\" xlink:href=\"#DejaVuSans-95\"/>\n       <use x=\"323.144531\" xlink:href=\"#DejaVuSans-116\"/>\n       <use x=\"362.353516\" xlink:href=\"#DejaVuSans-114\"/>\n       <use x=\"403.466797\" xlink:href=\"#DejaVuSans-97\"/>\n       <use x=\"464.746094\" xlink:href=\"#DejaVuSans-100\"/>\n       <use x=\"528.222656\" xlink:href=\"#DejaVuSans-101\"/>\n       <use x=\"589.746094\" xlink:href=\"#DejaVuSans-100\"/>\n      </g>\n     </g>\n    </g>\n    <g id=\"xtick_10\">\n     <g id=\"line2d_10\">\n      <g>\n       <use style=\"stroke:#000000;stroke-width:0.8;\" x=\"371.97625\" xlink:href=\"#m3b62f4057e\" y=\"406.999219\"/>\n      </g>\n     </g>\n     <g id=\"text_10\">\n      <!-- no_trades -->\n      <g transform=\"translate(374.596563 463.325781)rotate(-90)scale(0.1 -0.1)\">\n       <use xlink:href=\"#DejaVuSans-110\"/>\n       <use x=\"63.378906\" xlink:href=\"#DejaVuSans-111\"/>\n       <use x=\"124.560547\" xlink:href=\"#DejaVuSans-95\"/>\n       <use x=\"174.560547\" xlink:href=\"#DejaVuSans-116\"/>\n       <use x=\"213.769531\" xlink:href=\"#DejaVuSans-114\"/>\n       <use x=\"254.882812\" xlink:href=\"#DejaVuSans-97\"/>\n       <use x=\"316.162109\" xlink:href=\"#DejaVuSans-100\"/>\n       <use x=\"379.638672\" xlink:href=\"#DejaVuSans-101\"/>\n       <use x=\"441.162109\" xlink:href=\"#DejaVuSans-115\"/>\n      </g>\n     </g>\n    </g>\n    <g id=\"xtick_11\">\n     <g id=\"line2d_11\">\n      <g>\n       <use style=\"stroke:#000000;stroke-width:0.8;\" x=\"401.73625\" xlink:href=\"#m3b62f4057e\" y=\"406.999219\"/>\n      </g>\n     </g>\n     <g id=\"text_11\">\n      <!-- year -->\n      <g transform=\"translate(404.495625 436.310156)rotate(-90)scale(0.1 -0.1)\">\n       <use xlink:href=\"#DejaVuSans-121\"/>\n       <use x=\"59.179688\" xlink:href=\"#DejaVuSans-101\"/>\n       <use x=\"120.703125\" xlink:href=\"#DejaVuSans-97\"/>\n       <use x=\"181.982422\" xlink:href=\"#DejaVuSans-114\"/>\n      </g>\n     </g>\n    </g>\n    <g id=\"xtick_12\">\n     <g id=\"line2d_12\">\n      <g>\n       <use style=\"stroke:#000000;stroke-width:0.8;\" x=\"431.49625\" xlink:href=\"#m3b62f4057e\" y=\"406.999219\"/>\n      </g>\n     </g>\n     <g id=\"text_12\">\n      <!-- year_date -->\n      <g transform=\"translate(434.116563 463.860156)rotate(-90)scale(0.1 -0.1)\">\n       <use xlink:href=\"#DejaVuSans-121\"/>\n       <use x=\"59.179688\" xlink:href=\"#DejaVuSans-101\"/>\n       <use x=\"120.703125\" xlink:href=\"#DejaVuSans-97\"/>\n       <use x=\"181.982422\" xlink:href=\"#DejaVuSans-114\"/>\n       <use x=\"223.095703\" xlink:href=\"#DejaVuSans-95\"/>\n       <use x=\"273.095703\" xlink:href=\"#DejaVuSans-100\"/>\n       <use x=\"336.572266\" xlink:href=\"#DejaVuSans-97\"/>\n       <use x=\"397.851562\" xlink:href=\"#DejaVuSans-116\"/>\n       <use x=\"437.060547\" xlink:href=\"#DejaVuSans-101\"/>\n      </g>\n     </g>\n    </g>\n   </g>\n   <g id=\"matplotlib.axis_2\">\n    <g id=\"ytick_1\">\n     <g id=\"line2d_13\">\n      <defs>\n       <path d=\"M 0 0 \nL -3.5 0 \n\" id=\"m69c1ba2b06\" style=\"stroke:#000000;stroke-width:0.8;\"/>\n      </defs>\n      <g>\n       <use style=\"stroke:#000000;stroke-width:0.8;\" x=\"89.25625\" xlink:href=\"#m69c1ba2b06\" y=\"64.759219\"/>\n      </g>\n     </g>\n     <g id=\"text_13\">\n      <!-- symbol -->\n      <g transform=\"translate(46.142188 67.518594)scale(0.1 -0.1)\">\n       <use xlink:href=\"#DejaVuSans-115\"/>\n       <use x=\"52.099609\" xlink:href=\"#DejaVuSans-121\"/>\n       <use x=\"111.279297\" xlink:href=\"#DejaVuSans-109\"/>\n       <use x=\"208.691406\" xlink:href=\"#DejaVuSans-98\"/>\n       <use x=\"272.167969\" xlink:href=\"#DejaVuSans-111\"/>\n       <use x=\"333.349609\" xlink:href=\"#DejaVuSans-108\"/>\n      </g>\n     </g>\n    </g>\n    <g id=\"ytick_2\">\n     <g id=\"line2d_14\">\n      <g>\n       <use style=\"stroke:#000000;stroke-width:0.8;\" x=\"89.25625\" xlink:href=\"#m69c1ba2b06\" y=\"94.519219\"/>\n      </g>\n     </g>\n     <g id=\"text_14\">\n      <!-- open -->\n      <g transform=\"translate(57.298438 97.278594)scale(0.1 -0.1)\">\n       <use xlink:href=\"#DejaVuSans-111\"/>\n       <use x=\"61.181641\" xlink:href=\"#DejaVuSans-112\"/>\n       <use x=\"124.658203\" xlink:href=\"#DejaVuSans-101\"/>\n       <use x=\"186.181641\" xlink:href=\"#DejaVuSans-110\"/>\n      </g>\n     </g>\n    </g>\n    <g id=\"ytick_3\">\n     <g id=\"line2d_15\">\n      <g>\n       <use style=\"stroke:#000000;stroke-width:0.8;\" x=\"89.25625\" xlink:href=\"#m69c1ba2b06\" y=\"124.279219\"/>\n      </g>\n     </g>\n     <g id=\"text_15\">\n      <!-- high -->\n      <g transform=\"translate(60.454688 127.038594)scale(0.1 -0.1)\">\n       <use xlink:href=\"#DejaVuSans-104\"/>\n       <use x=\"63.378906\" xlink:href=\"#DejaVuSans-105\"/>\n       <use x=\"91.162109\" xlink:href=\"#DejaVuSans-103\"/>\n       <use x=\"154.638672\" xlink:href=\"#DejaVuSans-104\"/>\n      </g>\n     </g>\n    </g>\n    <g id=\"ytick_4\">\n     <g id=\"line2d_16\">\n      <g>\n       <use style=\"stroke:#000000;stroke-width:0.8;\" x=\"89.25625\" xlink:href=\"#m69c1ba2b06\" y=\"154.039219\"/>\n      </g>\n     </g>\n     <g id=\"text_16\">\n      <!-- low -->\n      <g transform=\"translate(65.18125 156.798594)scale(0.1 -0.1)\">\n       <use xlink:href=\"#DejaVuSans-108\"/>\n       <use x=\"27.783203\" xlink:href=\"#DejaVuSans-111\"/>\n       <use x=\"88.964844\" xlink:href=\"#DejaVuSans-119\"/>\n      </g>\n     </g>\n    </g>\n    <g id=\"ytick_5\">\n     <g id=\"line2d_17\">\n      <g>\n       <use style=\"stroke:#000000;stroke-width:0.8;\" x=\"89.25625\" xlink:href=\"#m69c1ba2b06\" y=\"183.799219\"/>\n      </g>\n     </g>\n     <g id=\"text_17\">\n      <!-- close -->\n      <g transform=\"translate(56.498438 186.558594)scale(0.1 -0.1)\">\n       <use xlink:href=\"#DejaVuSans-99\"/>\n       <use x=\"54.980469\" xlink:href=\"#DejaVuSans-108\"/>\n       <use x=\"82.763672\" xlink:href=\"#DejaVuSans-111\"/>\n       <use x=\"143.945312\" xlink:href=\"#DejaVuSans-115\"/>\n       <use x=\"196.044922\" xlink:href=\"#DejaVuSans-101\"/>\n      </g>\n     </g>\n    </g>\n    <g id=\"ytick_6\">\n     <g id=\"line2d_18\">\n      <g>\n       <use style=\"stroke:#000000;stroke-width:0.8;\" x=\"89.25625\" xlink:href=\"#m69c1ba2b06\" y=\"213.559219\"/>\n      </g>\n     </g>\n     <g id=\"text_18\">\n      <!-- change -->\n      <g transform=\"translate(45.453125 216.318594)scale(0.1 -0.1)\">\n       <use xlink:href=\"#DejaVuSans-99\"/>\n       <use x=\"54.980469\" xlink:href=\"#DejaVuSans-104\"/>\n       <use x=\"118.359375\" xlink:href=\"#DejaVuSans-97\"/>\n       <use x=\"179.638672\" xlink:href=\"#DejaVuSans-110\"/>\n       <use x=\"243.017578\" xlink:href=\"#DejaVuSans-103\"/>\n       <use x=\"306.494141\" xlink:href=\"#DejaVuSans-101\"/>\n      </g>\n     </g>\n    </g>\n    <g id=\"ytick_7\">\n     <g id=\"line2d_19\">\n      <g>\n       <use style=\"stroke:#000000;stroke-width:0.8;\" x=\"89.25625\" xlink:href=\"#m69c1ba2b06\" y=\"243.319219\"/>\n      </g>\n     </g>\n     <g id=\"text_19\">\n      <!-- perc_Change -->\n      <g transform=\"translate(17.082813 245.939531)scale(0.1 -0.1)\">\n       <use xlink:href=\"#DejaVuSans-112\"/>\n       <use x=\"63.476562\" xlink:href=\"#DejaVuSans-101\"/>\n       <use x=\"125\" xlink:href=\"#DejaVuSans-114\"/>\n       <use x=\"163.863281\" xlink:href=\"#DejaVuSans-99\"/>\n       <use x=\"218.84375\" xlink:href=\"#DejaVuSans-95\"/>\n       <use x=\"268.84375\" xlink:href=\"#DejaVuSans-67\"/>\n       <use x=\"338.667969\" xlink:href=\"#DejaVuSans-104\"/>\n       <use x=\"402.046875\" xlink:href=\"#DejaVuSans-97\"/>\n       <use x=\"463.326172\" xlink:href=\"#DejaVuSans-110\"/>\n       <use x=\"526.705078\" xlink:href=\"#DejaVuSans-103\"/>\n       <use x=\"590.181641\" xlink:href=\"#DejaVuSans-101\"/>\n      </g>\n     </g>\n    </g>\n    <g id=\"ytick_8\">\n     <g id=\"line2d_20\">\n      <g>\n       <use style=\"stroke:#000000;stroke-width:0.8;\" x=\"89.25625\" xlink:href=\"#m69c1ba2b06\" y=\"273.079219\"/>\n      </g>\n     </g>\n     <g id=\"text_20\">\n      <!-- volume_traded -->\n      <g transform=\"translate(7.2 275.699531)scale(0.1 -0.1)\">\n       <use xlink:href=\"#DejaVuSans-118\"/>\n       <use x=\"59.179688\" xlink:href=\"#DejaVuSans-111\"/>\n       <use x=\"120.361328\" xlink:href=\"#DejaVuSans-108\"/>\n       <use x=\"148.144531\" xlink:href=\"#DejaVuSans-117\"/>\n       <use x=\"211.523438\" xlink:href=\"#DejaVuSans-109\"/>\n       <use x=\"308.935547\" xlink:href=\"#DejaVuSans-101\"/>\n       <use x=\"370.458984\" xlink:href=\"#DejaVuSans-95\"/>\n       <use x=\"420.458984\" xlink:href=\"#DejaVuSans-116\"/>\n       <use x=\"459.667969\" xlink:href=\"#DejaVuSans-114\"/>\n       <use x=\"500.78125\" xlink:href=\"#DejaVuSans-97\"/>\n       <use x=\"562.060547\" xlink:href=\"#DejaVuSans-100\"/>\n       <use x=\"625.537109\" xlink:href=\"#DejaVuSans-101\"/>\n       <use x=\"687.060547\" xlink:href=\"#DejaVuSans-100\"/>\n      </g>\n     </g>\n    </g>\n    <g id=\"ytick_9\">\n     <g id=\"line2d_21\">\n      <g>\n       <use style=\"stroke:#000000;stroke-width:0.8;\" x=\"89.25625\" xlink:href=\"#m69c1ba2b06\" y=\"302.839219\"/>\n      </g>\n     </g>\n     <g id=\"text_21\">\n      <!-- value_traded -->\n      <g transform=\"translate(16.93125 305.459531)scale(0.1 -0.1)\">\n       <use xlink:href=\"#DejaVuSans-118\"/>\n       <use x=\"59.179688\" xlink:href=\"#DejaVuSans-97\"/>\n       <use x=\"120.458984\" xlink:href=\"#DejaVuSans-108\"/>\n       <use x=\"148.242188\" xlink:href=\"#DejaVuSans-117\"/>\n       <use x=\"211.621094\" xlink:href=\"#DejaVuSans-101\"/>\n       <use x=\"273.144531\" xlink:href=\"#DejaVuSans-95\"/>\n       <use x=\"323.144531\" xlink:href=\"#DejaVuSans-116\"/>\n       <use x=\"362.353516\" xlink:href=\"#DejaVuSans-114\"/>\n       <use x=\"403.466797\" xlink:href=\"#DejaVuSans-97\"/>\n       <use x=\"464.746094\" xlink:href=\"#DejaVuSans-100\"/>\n       <use x=\"528.222656\" xlink:href=\"#DejaVuSans-101\"/>\n       <use x=\"589.746094\" xlink:href=\"#DejaVuSans-100\"/>\n      </g>\n     </g>\n    </g>\n    <g id=\"ytick_10\">\n     <g id=\"line2d_22\">\n      <g>\n       <use style=\"stroke:#000000;stroke-width:0.8;\" x=\"89.25625\" xlink:href=\"#m69c1ba2b06\" y=\"332.599219\"/>\n      </g>\n     </g>\n     <g id=\"text_22\">\n      <!-- no_trades -->\n      <g transform=\"translate(32.929688 335.219531)scale(0.1 -0.1)\">\n       <use xlink:href=\"#DejaVuSans-110\"/>\n       <use x=\"63.378906\" xlink:href=\"#DejaVuSans-111\"/>\n       <use x=\"124.560547\" xlink:href=\"#DejaVuSans-95\"/>\n       <use x=\"174.560547\" xlink:href=\"#DejaVuSans-116\"/>\n       <use x=\"213.769531\" xlink:href=\"#DejaVuSans-114\"/>\n       <use x=\"254.882812\" xlink:href=\"#DejaVuSans-97\"/>\n       <use x=\"316.162109\" xlink:href=\"#DejaVuSans-100\"/>\n       <use x=\"379.638672\" xlink:href=\"#DejaVuSans-101\"/>\n       <use x=\"441.162109\" xlink:href=\"#DejaVuSans-115\"/>\n      </g>\n     </g>\n    </g>\n    <g id=\"ytick_11\">\n     <g id=\"line2d_23\">\n      <g>\n       <use style=\"stroke:#000000;stroke-width:0.8;\" x=\"89.25625\" xlink:href=\"#m69c1ba2b06\" y=\"362.359219\"/>\n      </g>\n     </g>\n     <g id=\"text_23\">\n      <!-- year -->\n      <g transform=\"translate(59.945313 365.118594)scale(0.1 -0.1)\">\n       <use xlink:href=\"#DejaVuSans-121\"/>\n       <use x=\"59.179688\" xlink:href=\"#DejaVuSans-101\"/>\n       <use x=\"120.703125\" xlink:href=\"#DejaVuSans-97\"/>\n       <use x=\"181.982422\" xlink:href=\"#DejaVuSans-114\"/>\n      </g>\n     </g>\n    </g>\n    <g id=\"ytick_12\">\n     <g id=\"line2d_24\">\n      <g>\n       <use style=\"stroke:#000000;stroke-width:0.8;\" x=\"89.25625\" xlink:href=\"#m69c1ba2b06\" y=\"392.119219\"/>\n      </g>\n     </g>\n     <g id=\"text_24\">\n      <!-- year_date -->\n      <g transform=\"translate(32.395313 394.739531)scale(0.1 -0.1)\">\n       <use xlink:href=\"#DejaVuSans-121\"/>\n       <use x=\"59.179688\" xlink:href=\"#DejaVuSans-101\"/>\n       <use x=\"120.703125\" xlink:href=\"#DejaVuSans-97\"/>\n       <use x=\"181.982422\" xlink:href=\"#DejaVuSans-114\"/>\n       <use x=\"223.095703\" xlink:href=\"#DejaVuSans-95\"/>\n       <use x=\"273.095703\" xlink:href=\"#DejaVuSans-100\"/>\n       <use x=\"336.572266\" xlink:href=\"#DejaVuSans-97\"/>\n       <use x=\"397.851562\" xlink:href=\"#DejaVuSans-116\"/>\n       <use x=\"437.060547\" xlink:href=\"#DejaVuSans-101\"/>\n      </g>\n     </g>\n    </g>\n   </g>\n   <g id=\"text_25\">\n    <!-- 1.00 -->\n    <defs>\n     <path d=\"M 12.40625 8.296875 \nL 28.515625 8.296875 \nL 28.515625 63.921875 \nL 10.984375 60.40625 \nL 10.984375 69.390625 \nL 28.421875 72.90625 \nL 38.28125 72.90625 \nL 38.28125 8.296875 \nL 54.390625 8.296875 \nL 54.390625 0 \nL 12.40625 0 \nz\n\" id=\"DejaVuSans-49\"/>\n     <path d=\"M 10.6875 12.40625 \nL 21 12.40625 \nL 21 0 \nL 10.6875 0 \nz\n\" id=\"DejaVuSans-46\"/>\n     <path d=\"M 31.78125 66.40625 \nQ 24.171875 66.40625 20.328125 58.90625 \nQ 16.5 51.421875 16.5 36.375 \nQ 16.5 21.390625 20.328125 13.890625 \nQ 24.171875 6.390625 31.78125 6.390625 \nQ 39.453125 6.390625 43.28125 13.890625 \nQ 47.125 21.390625 47.125 36.375 \nQ 47.125 51.421875 43.28125 58.90625 \nQ 39.453125 66.40625 31.78125 66.40625 \nz\nM 31.78125 74.21875 \nQ 44.046875 74.21875 50.515625 64.515625 \nQ 56.984375 54.828125 56.984375 36.375 \nQ 56.984375 17.96875 50.515625 8.265625 \nQ 44.046875 -1.421875 31.78125 -1.421875 \nQ 19.53125 -1.421875 13.0625 8.265625 \nQ 6.59375 17.96875 6.59375 36.375 \nQ 6.59375 54.828125 13.0625 64.515625 \nQ 19.53125 74.21875 31.78125 74.21875 \nz\n\" id=\"DejaVuSans-48\"/>\n    </defs>\n    <g style=\"fill:#262626;\" transform=\"translate(93.003438 67.518594)scale(0.1 -0.1)\">\n     <use xlink:href=\"#DejaVuSans-49\"/>\n     <use x=\"63.623047\" xlink:href=\"#DejaVuSans-46\"/>\n     <use x=\"95.410156\" xlink:href=\"#DejaVuSans-48\"/>\n     <use x=\"159.033203\" xlink:href=\"#DejaVuSans-48\"/>\n    </g>\n   </g>\n   <g id=\"text_26\">\n    <!-- -0.02 -->\n    <defs>\n     <path d=\"M 4.890625 31.390625 \nL 31.203125 31.390625 \nL 31.203125 23.390625 \nL 4.890625 23.390625 \nz\n\" id=\"DejaVuSans-45\"/>\n     <path d=\"M 19.1875 8.296875 \nL 53.609375 8.296875 \nL 53.609375 0 \nL 7.328125 0 \nL 7.328125 8.296875 \nQ 12.9375 14.109375 22.625 23.890625 \nQ 32.328125 33.6875 34.8125 36.53125 \nQ 39.546875 41.84375 41.421875 45.53125 \nQ 43.3125 49.21875 43.3125 52.78125 \nQ 43.3125 58.59375 39.234375 62.25 \nQ 35.15625 65.921875 28.609375 65.921875 \nQ 23.96875 65.921875 18.8125 64.3125 \nQ 13.671875 62.703125 7.8125 59.421875 \nL 7.8125 69.390625 \nQ 13.765625 71.78125 18.9375 73 \nQ 24.125 74.21875 28.421875 74.21875 \nQ 39.75 74.21875 46.484375 68.546875 \nQ 53.21875 62.890625 53.21875 53.421875 \nQ 53.21875 48.921875 51.53125 44.890625 \nQ 49.859375 40.875 45.40625 35.40625 \nQ 44.1875 33.984375 37.640625 27.21875 \nQ 31.109375 20.453125 19.1875 8.296875 \nz\n\" id=\"DejaVuSans-50\"/>\n    </defs>\n    <g style=\"fill:#ffffff;\" transform=\"translate(120.959531 67.518594)scale(0.1 -0.1)\">\n     <use xlink:href=\"#DejaVuSans-45\"/>\n     <use x=\"36.083984\" xlink:href=\"#DejaVuSans-48\"/>\n     <use x=\"99.707031\" xlink:href=\"#DejaVuSans-46\"/>\n     <use x=\"131.494141\" xlink:href=\"#DejaVuSans-48\"/>\n     <use x=\"195.117188\" xlink:href=\"#DejaVuSans-50\"/>\n    </g>\n   </g>\n   <g id=\"text_27\">\n    <!-- -0.02 -->\n    <g style=\"fill:#ffffff;\" transform=\"translate(150.719531 67.518594)scale(0.1 -0.1)\">\n     <use xlink:href=\"#DejaVuSans-45\"/>\n     <use x=\"36.083984\" xlink:href=\"#DejaVuSans-48\"/>\n     <use x=\"99.707031\" xlink:href=\"#DejaVuSans-46\"/>\n     <use x=\"131.494141\" xlink:href=\"#DejaVuSans-48\"/>\n     <use x=\"195.117188\" xlink:href=\"#DejaVuSans-50\"/>\n    </g>\n   </g>\n   <g id=\"text_28\">\n    <!-- -0.02 -->\n    <g style=\"fill:#ffffff;\" transform=\"translate(180.479531 67.518594)scale(0.1 -0.1)\">\n     <use xlink:href=\"#DejaVuSans-45\"/>\n     <use x=\"36.083984\" xlink:href=\"#DejaVuSans-48\"/>\n     <use x=\"99.707031\" xlink:href=\"#DejaVuSans-46\"/>\n     <use x=\"131.494141\" xlink:href=\"#DejaVuSans-48\"/>\n     <use x=\"195.117188\" xlink:href=\"#DejaVuSans-50\"/>\n    </g>\n   </g>\n   <g id=\"text_29\">\n    <!-- -0.02 -->\n    <g style=\"fill:#ffffff;\" transform=\"translate(210.239531 67.518594)scale(0.1 -0.1)\">\n     <use xlink:href=\"#DejaVuSans-45\"/>\n     <use x=\"36.083984\" xlink:href=\"#DejaVuSans-48\"/>\n     <use x=\"99.707031\" xlink:href=\"#DejaVuSans-46\"/>\n     <use x=\"131.494141\" xlink:href=\"#DejaVuSans-48\"/>\n     <use x=\"195.117188\" xlink:href=\"#DejaVuSans-50\"/>\n    </g>\n   </g>\n   <g id=\"text_30\">\n    <!-- 0.00 -->\n    <g style=\"fill:#ffffff;\" transform=\"translate(241.803438 67.518594)scale(0.1 -0.1)\">\n     <use xlink:href=\"#DejaVuSans-48\"/>\n     <use x=\"63.623047\" xlink:href=\"#DejaVuSans-46\"/>\n     <use x=\"95.410156\" xlink:href=\"#DejaVuSans-48\"/>\n     <use x=\"159.033203\" xlink:href=\"#DejaVuSans-48\"/>\n    </g>\n   </g>\n   <g id=\"text_31\">\n    <!-- 0.01 -->\n    <g style=\"fill:#ffffff;\" transform=\"translate(271.563438 67.518594)scale(0.1 -0.1)\">\n     <use xlink:href=\"#DejaVuSans-48\"/>\n     <use x=\"63.623047\" xlink:href=\"#DejaVuSans-46\"/>\n     <use x=\"95.410156\" xlink:href=\"#DejaVuSans-48\"/>\n     <use x=\"159.033203\" xlink:href=\"#DejaVuSans-49\"/>\n    </g>\n   </g>\n   <g id=\"text_32\">\n    <!-- 0.08 -->\n    <defs>\n     <path d=\"M 31.78125 34.625 \nQ 24.75 34.625 20.71875 30.859375 \nQ 16.703125 27.09375 16.703125 20.515625 \nQ 16.703125 13.921875 20.71875 10.15625 \nQ 24.75 6.390625 31.78125 6.390625 \nQ 38.8125 6.390625 42.859375 10.171875 \nQ 46.921875 13.96875 46.921875 20.515625 \nQ 46.921875 27.09375 42.890625 30.859375 \nQ 38.875 34.625 31.78125 34.625 \nz\nM 21.921875 38.8125 \nQ 15.578125 40.375 12.03125 44.71875 \nQ 8.5 49.078125 8.5 55.328125 \nQ 8.5 64.0625 14.71875 69.140625 \nQ 20.953125 74.21875 31.78125 74.21875 \nQ 42.671875 74.21875 48.875 69.140625 \nQ 55.078125 64.0625 55.078125 55.328125 \nQ 55.078125 49.078125 51.53125 44.71875 \nQ 48 40.375 41.703125 38.8125 \nQ 48.828125 37.15625 52.796875 32.3125 \nQ 56.78125 27.484375 56.78125 20.515625 \nQ 56.78125 9.90625 50.3125 4.234375 \nQ 43.84375 -1.421875 31.78125 -1.421875 \nQ 19.734375 -1.421875 13.25 4.234375 \nQ 6.78125 9.90625 6.78125 20.515625 \nQ 6.78125 27.484375 10.78125 32.3125 \nQ 14.796875 37.15625 21.921875 38.8125 \nz\nM 18.3125 54.390625 \nQ 18.3125 48.734375 21.84375 45.5625 \nQ 25.390625 42.390625 31.78125 42.390625 \nQ 38.140625 42.390625 41.71875 45.5625 \nQ 45.3125 48.734375 45.3125 54.390625 \nQ 45.3125 60.0625 41.71875 63.234375 \nQ 38.140625 66.40625 31.78125 66.40625 \nQ 25.390625 66.40625 21.84375 63.234375 \nQ 18.3125 60.0625 18.3125 54.390625 \nz\n\" id=\"DejaVuSans-56\"/>\n    </defs>\n    <g style=\"fill:#ffffff;\" transform=\"translate(301.323438 67.518594)scale(0.1 -0.1)\">\n     <use xlink:href=\"#DejaVuSans-48\"/>\n     <use x=\"63.623047\" xlink:href=\"#DejaVuSans-46\"/>\n     <use x=\"95.410156\" xlink:href=\"#DejaVuSans-48\"/>\n     <use x=\"159.033203\" xlink:href=\"#DejaVuSans-56\"/>\n    </g>\n   </g>\n   <g id=\"text_33\">\n    <!-- 0.04 -->\n    <defs>\n     <path d=\"M 37.796875 64.3125 \nL 12.890625 25.390625 \nL 37.796875 25.390625 \nz\nM 35.203125 72.90625 \nL 47.609375 72.90625 \nL 47.609375 25.390625 \nL 58.015625 25.390625 \nL 58.015625 17.1875 \nL 47.609375 17.1875 \nL 47.609375 0 \nL 37.796875 0 \nL 37.796875 17.1875 \nL 4.890625 17.1875 \nL 4.890625 26.703125 \nz\n\" id=\"DejaVuSans-52\"/>\n    </defs>\n    <g style=\"fill:#ffffff;\" transform=\"translate(331.083438 67.518594)scale(0.1 -0.1)\">\n     <use xlink:href=\"#DejaVuSans-48\"/>\n     <use x=\"63.623047\" xlink:href=\"#DejaVuSans-46\"/>\n     <use x=\"95.410156\" xlink:href=\"#DejaVuSans-48\"/>\n     <use x=\"159.033203\" xlink:href=\"#DejaVuSans-52\"/>\n    </g>\n   </g>\n   <g id=\"text_34\">\n    <!-- 0.06 -->\n    <defs>\n     <path d=\"M 33.015625 40.375 \nQ 26.375 40.375 22.484375 35.828125 \nQ 18.609375 31.296875 18.609375 23.390625 \nQ 18.609375 15.53125 22.484375 10.953125 \nQ 26.375 6.390625 33.015625 6.390625 \nQ 39.65625 6.390625 43.53125 10.953125 \nQ 47.40625 15.53125 47.40625 23.390625 \nQ 47.40625 31.296875 43.53125 35.828125 \nQ 39.65625 40.375 33.015625 40.375 \nz\nM 52.59375 71.296875 \nL 52.59375 62.3125 \nQ 48.875 64.0625 45.09375 64.984375 \nQ 41.3125 65.921875 37.59375 65.921875 \nQ 27.828125 65.921875 22.671875 59.328125 \nQ 17.53125 52.734375 16.796875 39.40625 \nQ 19.671875 43.65625 24.015625 45.921875 \nQ 28.375 48.1875 33.59375 48.1875 \nQ 44.578125 48.1875 50.953125 41.515625 \nQ 57.328125 34.859375 57.328125 23.390625 \nQ 57.328125 12.15625 50.6875 5.359375 \nQ 44.046875 -1.421875 33.015625 -1.421875 \nQ 20.359375 -1.421875 13.671875 8.265625 \nQ 6.984375 17.96875 6.984375 36.375 \nQ 6.984375 53.65625 15.1875 63.9375 \nQ 23.390625 74.21875 37.203125 74.21875 \nQ 40.921875 74.21875 44.703125 73.484375 \nQ 48.484375 72.75 52.59375 71.296875 \nz\n\" id=\"DejaVuSans-54\"/>\n    </defs>\n    <g style=\"fill:#ffffff;\" transform=\"translate(360.843438 67.518594)scale(0.1 -0.1)\">\n     <use xlink:href=\"#DejaVuSans-48\"/>\n     <use x=\"63.623047\" xlink:href=\"#DejaVuSans-46\"/>\n     <use x=\"95.410156\" xlink:href=\"#DejaVuSans-48\"/>\n     <use x=\"159.033203\" xlink:href=\"#DejaVuSans-54\"/>\n    </g>\n   </g>\n   <g id=\"text_35\">\n    <!-- -0.21 -->\n    <g style=\"fill:#ffffff;\" transform=\"translate(388.799531 67.518594)scale(0.1 -0.1)\">\n     <use xlink:href=\"#DejaVuSans-45\"/>\n     <use x=\"36.083984\" xlink:href=\"#DejaVuSans-48\"/>\n     <use x=\"99.707031\" xlink:href=\"#DejaVuSans-46\"/>\n     <use x=\"131.494141\" xlink:href=\"#DejaVuSans-50\"/>\n     <use x=\"195.117188\" xlink:href=\"#DejaVuSans-49\"/>\n    </g>\n   </g>\n   <g id=\"text_36\">\n    <!-- -0.21 -->\n    <g style=\"fill:#ffffff;\" transform=\"translate(418.559531 67.518594)scale(0.1 -0.1)\">\n     <use xlink:href=\"#DejaVuSans-45\"/>\n     <use x=\"36.083984\" xlink:href=\"#DejaVuSans-48\"/>\n     <use x=\"99.707031\" xlink:href=\"#DejaVuSans-46\"/>\n     <use x=\"131.494141\" xlink:href=\"#DejaVuSans-50\"/>\n     <use x=\"195.117188\" xlink:href=\"#DejaVuSans-49\"/>\n    </g>\n   </g>\n   <g id=\"text_37\">\n    <!-- -0.02 -->\n    <g style=\"fill:#ffffff;\" transform=\"translate(91.199531 97.278594)scale(0.1 -0.1)\">\n     <use xlink:href=\"#DejaVuSans-45\"/>\n     <use x=\"36.083984\" xlink:href=\"#DejaVuSans-48\"/>\n     <use x=\"99.707031\" xlink:href=\"#DejaVuSans-46\"/>\n     <use x=\"131.494141\" xlink:href=\"#DejaVuSans-48\"/>\n     <use x=\"195.117188\" xlink:href=\"#DejaVuSans-50\"/>\n    </g>\n   </g>\n   <g id=\"text_38\">\n    <!-- 1.00 -->\n    <g style=\"fill:#262626;\" transform=\"translate(122.763438 97.278594)scale(0.1 -0.1)\">\n     <use xlink:href=\"#DejaVuSans-49\"/>\n     <use x=\"63.623047\" xlink:href=\"#DejaVuSans-46\"/>\n     <use x=\"95.410156\" xlink:href=\"#DejaVuSans-48\"/>\n     <use x=\"159.033203\" xlink:href=\"#DejaVuSans-48\"/>\n    </g>\n   </g>\n   <g id=\"text_39\">\n    <!-- 0.97 -->\n    <defs>\n     <path d=\"M 10.984375 1.515625 \nL 10.984375 10.5 \nQ 14.703125 8.734375 18.5 7.8125 \nQ 22.3125 6.890625 25.984375 6.890625 \nQ 35.75 6.890625 40.890625 13.453125 \nQ 46.046875 20.015625 46.78125 33.40625 \nQ 43.953125 29.203125 39.59375 26.953125 \nQ 35.25 24.703125 29.984375 24.703125 \nQ 19.046875 24.703125 12.671875 31.3125 \nQ 6.296875 37.9375 6.296875 49.421875 \nQ 6.296875 60.640625 12.9375 67.421875 \nQ 19.578125 74.21875 30.609375 74.21875 \nQ 43.265625 74.21875 49.921875 64.515625 \nQ 56.59375 54.828125 56.59375 36.375 \nQ 56.59375 19.140625 48.40625 8.859375 \nQ 40.234375 -1.421875 26.421875 -1.421875 \nQ 22.703125 -1.421875 18.890625 -0.6875 \nQ 15.09375 0.046875 10.984375 1.515625 \nz\nM 30.609375 32.421875 \nQ 37.25 32.421875 41.125 36.953125 \nQ 45.015625 41.5 45.015625 49.421875 \nQ 45.015625 57.28125 41.125 61.84375 \nQ 37.25 66.40625 30.609375 66.40625 \nQ 23.96875 66.40625 20.09375 61.84375 \nQ 16.21875 57.28125 16.21875 49.421875 \nQ 16.21875 41.5 20.09375 36.953125 \nQ 23.96875 32.421875 30.609375 32.421875 \nz\n\" id=\"DejaVuSans-57\"/>\n     <path d=\"M 8.203125 72.90625 \nL 55.078125 72.90625 \nL 55.078125 68.703125 \nL 28.609375 0 \nL 18.3125 0 \nL 43.21875 64.59375 \nL 8.203125 64.59375 \nz\n\" id=\"DejaVuSans-55\"/>\n    </defs>\n    <g style=\"fill:#262626;\" transform=\"translate(152.523438 97.278594)scale(0.1 -0.1)\">\n     <use xlink:href=\"#DejaVuSans-48\"/>\n     <use x=\"63.623047\" xlink:href=\"#DejaVuSans-46\"/>\n     <use x=\"95.410156\" xlink:href=\"#DejaVuSans-57\"/>\n     <use x=\"159.033203\" xlink:href=\"#DejaVuSans-55\"/>\n    </g>\n   </g>\n   <g id=\"text_40\">\n    <!-- 0.99 -->\n    <g style=\"fill:#262626;\" transform=\"translate(182.283438 97.278594)scale(0.1 -0.1)\">\n     <use xlink:href=\"#DejaVuSans-48\"/>\n     <use x=\"63.623047\" xlink:href=\"#DejaVuSans-46\"/>\n     <use x=\"95.410156\" xlink:href=\"#DejaVuSans-57\"/>\n     <use x=\"159.033203\" xlink:href=\"#DejaVuSans-57\"/>\n    </g>\n   </g>\n   <g id=\"text_41\">\n    <!-- 0.89 -->\n    <g style=\"fill:#262626;\" transform=\"translate(212.043438 97.278594)scale(0.1 -0.1)\">\n     <use xlink:href=\"#DejaVuSans-48\"/>\n     <use x=\"63.623047\" xlink:href=\"#DejaVuSans-46\"/>\n     <use x=\"95.410156\" xlink:href=\"#DejaVuSans-56\"/>\n     <use x=\"159.033203\" xlink:href=\"#DejaVuSans-57\"/>\n    </g>\n   </g>\n   <g id=\"text_42\">\n    <!-- -0.00 -->\n    <g style=\"fill:#ffffff;\" transform=\"translate(239.999531 97.278594)scale(0.1 -0.1)\">\n     <use xlink:href=\"#DejaVuSans-45\"/>\n     <use x=\"36.083984\" xlink:href=\"#DejaVuSans-48\"/>\n     <use x=\"99.707031\" xlink:href=\"#DejaVuSans-46\"/>\n     <use x=\"131.494141\" xlink:href=\"#DejaVuSans-48\"/>\n     <use x=\"195.117188\" xlink:href=\"#DejaVuSans-48\"/>\n    </g>\n   </g>\n   <g id=\"text_43\">\n    <!-- -0.01 -->\n    <g style=\"fill:#ffffff;\" transform=\"translate(269.759531 97.278594)scale(0.1 -0.1)\">\n     <use xlink:href=\"#DejaVuSans-45\"/>\n     <use x=\"36.083984\" xlink:href=\"#DejaVuSans-48\"/>\n     <use x=\"99.707031\" xlink:href=\"#DejaVuSans-46\"/>\n     <use x=\"131.494141\" xlink:href=\"#DejaVuSans-48\"/>\n     <use x=\"195.117188\" xlink:href=\"#DejaVuSans-49\"/>\n    </g>\n   </g>\n   <g id=\"text_44\">\n    <!-- 0.01 -->\n    <g style=\"fill:#ffffff;\" transform=\"translate(301.323438 97.278594)scale(0.1 -0.1)\">\n     <use xlink:href=\"#DejaVuSans-48\"/>\n     <use x=\"63.623047\" xlink:href=\"#DejaVuSans-46\"/>\n     <use x=\"95.410156\" xlink:href=\"#DejaVuSans-48\"/>\n     <use x=\"159.033203\" xlink:href=\"#DejaVuSans-49\"/>\n    </g>\n   </g>\n   <g id=\"text_45\">\n    <!-- 0.14 -->\n    <g style=\"fill:#ffffff;\" transform=\"translate(331.083438 97.278594)scale(0.1 -0.1)\">\n     <use xlink:href=\"#DejaVuSans-48\"/>\n     <use x=\"63.623047\" xlink:href=\"#DejaVuSans-46\"/>\n     <use x=\"95.410156\" xlink:href=\"#DejaVuSans-49\"/>\n     <use x=\"159.033203\" xlink:href=\"#DejaVuSans-52\"/>\n    </g>\n   </g>\n   <g id=\"text_46\">\n    <!-- 0.16 -->\n    <g style=\"fill:#ffffff;\" transform=\"translate(360.843438 97.278594)scale(0.1 -0.1)\">\n     <use xlink:href=\"#DejaVuSans-48\"/>\n     <use x=\"63.623047\" xlink:href=\"#DejaVuSans-46\"/>\n     <use x=\"95.410156\" xlink:href=\"#DejaVuSans-49\"/>\n     <use x=\"159.033203\" xlink:href=\"#DejaVuSans-54\"/>\n    </g>\n   </g>\n   <g id=\"text_47\">\n    <!-- 0.06 -->\n    <g style=\"fill:#ffffff;\" transform=\"translate(390.603438 97.278594)scale(0.1 -0.1)\">\n     <use xlink:href=\"#DejaVuSans-48\"/>\n     <use x=\"63.623047\" xlink:href=\"#DejaVuSans-46\"/>\n     <use x=\"95.410156\" xlink:href=\"#DejaVuSans-48\"/>\n     <use x=\"159.033203\" xlink:href=\"#DejaVuSans-54\"/>\n    </g>\n   </g>\n   <g id=\"text_48\">\n    <!-- 0.06 -->\n    <g style=\"fill:#ffffff;\" transform=\"translate(420.363438 97.278594)scale(0.1 -0.1)\">\n     <use xlink:href=\"#DejaVuSans-48\"/>\n     <use x=\"63.623047\" xlink:href=\"#DejaVuSans-46\"/>\n     <use x=\"95.410156\" xlink:href=\"#DejaVuSans-48\"/>\n     <use x=\"159.033203\" xlink:href=\"#DejaVuSans-54\"/>\n    </g>\n   </g>\n   <g id=\"text_49\">\n    <!-- -0.02 -->\n    <g style=\"fill:#ffffff;\" transform=\"translate(91.199531 127.038594)scale(0.1 -0.1)\">\n     <use xlink:href=\"#DejaVuSans-45\"/>\n     <use x=\"36.083984\" xlink:href=\"#DejaVuSans-48\"/>\n     <use x=\"99.707031\" xlink:href=\"#DejaVuSans-46\"/>\n     <use x=\"131.494141\" xlink:href=\"#DejaVuSans-48\"/>\n     <use x=\"195.117188\" xlink:href=\"#DejaVuSans-50\"/>\n    </g>\n   </g>\n   <g id=\"text_50\">\n    <!-- 0.97 -->\n    <g style=\"fill:#262626;\" transform=\"translate(122.763438 127.038594)scale(0.1 -0.1)\">\n     <use xlink:href=\"#DejaVuSans-48\"/>\n     <use x=\"63.623047\" xlink:href=\"#DejaVuSans-46\"/>\n     <use x=\"95.410156\" xlink:href=\"#DejaVuSans-57\"/>\n     <use x=\"159.033203\" xlink:href=\"#DejaVuSans-55\"/>\n    </g>\n   </g>\n   <g id=\"text_51\">\n    <!-- 1.00 -->\n    <g style=\"fill:#262626;\" transform=\"translate(152.523438 127.038594)scale(0.1 -0.1)\">\n     <use xlink:href=\"#DejaVuSans-49\"/>\n     <use x=\"63.623047\" xlink:href=\"#DejaVuSans-46\"/>\n     <use x=\"95.410156\" xlink:href=\"#DejaVuSans-48\"/>\n     <use x=\"159.033203\" xlink:href=\"#DejaVuSans-48\"/>\n    </g>\n   </g>\n   <g id=\"text_52\">\n    <!-- 0.97 -->\n    <g style=\"fill:#262626;\" transform=\"translate(182.283438 127.038594)scale(0.1 -0.1)\">\n     <use xlink:href=\"#DejaVuSans-48\"/>\n     <use x=\"63.623047\" xlink:href=\"#DejaVuSans-46\"/>\n     <use x=\"95.410156\" xlink:href=\"#DejaVuSans-57\"/>\n     <use x=\"159.033203\" xlink:href=\"#DejaVuSans-55\"/>\n    </g>\n   </g>\n   <g id=\"text_53\">\n    <!-- 0.91 -->\n    <g style=\"fill:#262626;\" transform=\"translate(212.043438 127.038594)scale(0.1 -0.1)\">\n     <use xlink:href=\"#DejaVuSans-48\"/>\n     <use x=\"63.623047\" xlink:href=\"#DejaVuSans-46\"/>\n     <use x=\"95.410156\" xlink:href=\"#DejaVuSans-57\"/>\n     <use x=\"159.033203\" xlink:href=\"#DejaVuSans-49\"/>\n    </g>\n   </g>\n   <g id=\"text_54\">\n    <!-- 0.00 -->\n    <g style=\"fill:#ffffff;\" transform=\"translate(241.803438 127.038594)scale(0.1 -0.1)\">\n     <use xlink:href=\"#DejaVuSans-48\"/>\n     <use x=\"63.623047\" xlink:href=\"#DejaVuSans-46\"/>\n     <use x=\"95.410156\" xlink:href=\"#DejaVuSans-48\"/>\n     <use x=\"159.033203\" xlink:href=\"#DejaVuSans-48\"/>\n    </g>\n   </g>\n   <g id=\"text_55\">\n    <!-- 0.00 -->\n    <g style=\"fill:#ffffff;\" transform=\"translate(271.563438 127.038594)scale(0.1 -0.1)\">\n     <use xlink:href=\"#DejaVuSans-48\"/>\n     <use x=\"63.623047\" xlink:href=\"#DejaVuSans-46\"/>\n     <use x=\"95.410156\" xlink:href=\"#DejaVuSans-48\"/>\n     <use x=\"159.033203\" xlink:href=\"#DejaVuSans-48\"/>\n    </g>\n   </g>\n   <g id=\"text_56\">\n    <!-- 0.02 -->\n    <g style=\"fill:#ffffff;\" transform=\"translate(301.323438 127.038594)scale(0.1 -0.1)\">\n     <use xlink:href=\"#DejaVuSans-48\"/>\n     <use x=\"63.623047\" xlink:href=\"#DejaVuSans-46\"/>\n     <use x=\"95.410156\" xlink:href=\"#DejaVuSans-48\"/>\n     <use x=\"159.033203\" xlink:href=\"#DejaVuSans-50\"/>\n    </g>\n   </g>\n   <g id=\"text_57\">\n    <!-- 0.14 -->\n    <g style=\"fill:#ffffff;\" transform=\"translate(331.083438 127.038594)scale(0.1 -0.1)\">\n     <use xlink:href=\"#DejaVuSans-48\"/>\n     <use x=\"63.623047\" xlink:href=\"#DejaVuSans-46\"/>\n     <use x=\"95.410156\" xlink:href=\"#DejaVuSans-49\"/>\n     <use x=\"159.033203\" xlink:href=\"#DejaVuSans-52\"/>\n    </g>\n   </g>\n   <g id=\"text_58\">\n    <!-- 0.17 -->\n    <g style=\"fill:#ffffff;\" transform=\"translate(360.843438 127.038594)scale(0.1 -0.1)\">\n     <use xlink:href=\"#DejaVuSans-48\"/>\n     <use x=\"63.623047\" xlink:href=\"#DejaVuSans-46\"/>\n     <use x=\"95.410156\" xlink:href=\"#DejaVuSans-49\"/>\n     <use x=\"159.033203\" xlink:href=\"#DejaVuSans-55\"/>\n    </g>\n   </g>\n   <g id=\"text_59\">\n    <!-- 0.05 -->\n    <defs>\n     <path d=\"M 10.796875 72.90625 \nL 49.515625 72.90625 \nL 49.515625 64.59375 \nL 19.828125 64.59375 \nL 19.828125 46.734375 \nQ 21.96875 47.46875 24.109375 47.828125 \nQ 26.265625 48.1875 28.421875 48.1875 \nQ 40.625 48.1875 47.75 41.5 \nQ 54.890625 34.8125 54.890625 23.390625 \nQ 54.890625 11.625 47.5625 5.09375 \nQ 40.234375 -1.421875 26.90625 -1.421875 \nQ 22.3125 -1.421875 17.546875 -0.640625 \nQ 12.796875 0.140625 7.71875 1.703125 \nL 7.71875 11.625 \nQ 12.109375 9.234375 16.796875 8.0625 \nQ 21.484375 6.890625 26.703125 6.890625 \nQ 35.15625 6.890625 40.078125 11.328125 \nQ 45.015625 15.765625 45.015625 23.390625 \nQ 45.015625 31 40.078125 35.4375 \nQ 35.15625 39.890625 26.703125 39.890625 \nQ 22.75 39.890625 18.8125 39.015625 \nQ 14.890625 38.140625 10.796875 36.28125 \nz\n\" id=\"DejaVuSans-53\"/>\n    </defs>\n    <g style=\"fill:#ffffff;\" transform=\"translate(390.603438 127.038594)scale(0.1 -0.1)\">\n     <use xlink:href=\"#DejaVuSans-48\"/>\n     <use x=\"63.623047\" xlink:href=\"#DejaVuSans-46\"/>\n     <use x=\"95.410156\" xlink:href=\"#DejaVuSans-48\"/>\n     <use x=\"159.033203\" xlink:href=\"#DejaVuSans-53\"/>\n    </g>\n   </g>\n   <g id=\"text_60\">\n    <!-- 0.05 -->\n    <g style=\"fill:#ffffff;\" transform=\"translate(420.363438 127.038594)scale(0.1 -0.1)\">\n     <use xlink:href=\"#DejaVuSans-48\"/>\n     <use x=\"63.623047\" xlink:href=\"#DejaVuSans-46\"/>\n     <use x=\"95.410156\" xlink:href=\"#DejaVuSans-48\"/>\n     <use x=\"159.033203\" xlink:href=\"#DejaVuSans-53\"/>\n    </g>\n   </g>\n   <g id=\"text_61\">\n    <!-- -0.02 -->\n    <g style=\"fill:#ffffff;\" transform=\"translate(91.199531 156.798594)scale(0.1 -0.1)\">\n     <use xlink:href=\"#DejaVuSans-45\"/>\n     <use x=\"36.083984\" xlink:href=\"#DejaVuSans-48\"/>\n     <use x=\"99.707031\" xlink:href=\"#DejaVuSans-46\"/>\n     <use x=\"131.494141\" xlink:href=\"#DejaVuSans-48\"/>\n     <use x=\"195.117188\" xlink:href=\"#DejaVuSans-50\"/>\n    </g>\n   </g>\n   <g id=\"text_62\">\n    <!-- 0.99 -->\n    <g style=\"fill:#262626;\" transform=\"translate(122.763438 156.798594)scale(0.1 -0.1)\">\n     <use xlink:href=\"#DejaVuSans-48\"/>\n     <use x=\"63.623047\" xlink:href=\"#DejaVuSans-46\"/>\n     <use x=\"95.410156\" xlink:href=\"#DejaVuSans-57\"/>\n     <use x=\"159.033203\" xlink:href=\"#DejaVuSans-57\"/>\n    </g>\n   </g>\n   <g id=\"text_63\">\n    <!-- 0.97 -->\n    <g style=\"fill:#262626;\" transform=\"translate(152.523438 156.798594)scale(0.1 -0.1)\">\n     <use xlink:href=\"#DejaVuSans-48\"/>\n     <use x=\"63.623047\" xlink:href=\"#DejaVuSans-46\"/>\n     <use x=\"95.410156\" xlink:href=\"#DejaVuSans-57\"/>\n     <use x=\"159.033203\" xlink:href=\"#DejaVuSans-55\"/>\n    </g>\n   </g>\n   <g id=\"text_64\">\n    <!-- 1.00 -->\n    <g style=\"fill:#262626;\" transform=\"translate(182.283438 156.798594)scale(0.1 -0.1)\">\n     <use xlink:href=\"#DejaVuSans-49\"/>\n     <use x=\"63.623047\" xlink:href=\"#DejaVuSans-46\"/>\n     <use x=\"95.410156\" xlink:href=\"#DejaVuSans-48\"/>\n     <use x=\"159.033203\" xlink:href=\"#DejaVuSans-48\"/>\n    </g>\n   </g>\n   <g id=\"text_65\">\n    <!-- 0.89 -->\n    <g style=\"fill:#262626;\" transform=\"translate(212.043438 156.798594)scale(0.1 -0.1)\">\n     <use xlink:href=\"#DejaVuSans-48\"/>\n     <use x=\"63.623047\" xlink:href=\"#DejaVuSans-46\"/>\n     <use x=\"95.410156\" xlink:href=\"#DejaVuSans-56\"/>\n     <use x=\"159.033203\" xlink:href=\"#DejaVuSans-57\"/>\n    </g>\n   </g>\n   <g id=\"text_66\">\n    <!-- 0.00 -->\n    <g style=\"fill:#ffffff;\" transform=\"translate(241.803438 156.798594)scale(0.1 -0.1)\">\n     <use xlink:href=\"#DejaVuSans-48\"/>\n     <use x=\"63.623047\" xlink:href=\"#DejaVuSans-46\"/>\n     <use x=\"95.410156\" xlink:href=\"#DejaVuSans-48\"/>\n     <use x=\"159.033203\" xlink:href=\"#DejaVuSans-48\"/>\n    </g>\n   </g>\n   <g id=\"text_67\">\n    <!-- 0.00 -->\n    <g style=\"fill:#ffffff;\" transform=\"translate(271.563438 156.798594)scale(0.1 -0.1)\">\n     <use xlink:href=\"#DejaVuSans-48\"/>\n     <use x=\"63.623047\" xlink:href=\"#DejaVuSans-46\"/>\n     <use x=\"95.410156\" xlink:href=\"#DejaVuSans-48\"/>\n     <use x=\"159.033203\" xlink:href=\"#DejaVuSans-48\"/>\n    </g>\n   </g>\n   <g id=\"text_68\">\n    <!-- 0.01 -->\n    <g style=\"fill:#ffffff;\" transform=\"translate(301.323438 156.798594)scale(0.1 -0.1)\">\n     <use xlink:href=\"#DejaVuSans-48\"/>\n     <use x=\"63.623047\" xlink:href=\"#DejaVuSans-46\"/>\n     <use x=\"95.410156\" xlink:href=\"#DejaVuSans-48\"/>\n     <use x=\"159.033203\" xlink:href=\"#DejaVuSans-49\"/>\n    </g>\n   </g>\n   <g id=\"text_69\">\n    <!-- 0.14 -->\n    <g style=\"fill:#ffffff;\" transform=\"translate(331.083438 156.798594)scale(0.1 -0.1)\">\n     <use xlink:href=\"#DejaVuSans-48\"/>\n     <use x=\"63.623047\" xlink:href=\"#DejaVuSans-46\"/>\n     <use x=\"95.410156\" xlink:href=\"#DejaVuSans-49\"/>\n     <use x=\"159.033203\" xlink:href=\"#DejaVuSans-52\"/>\n    </g>\n   </g>\n   <g id=\"text_70\">\n    <!-- 0.16 -->\n    <g style=\"fill:#ffffff;\" transform=\"translate(360.843438 156.798594)scale(0.1 -0.1)\">\n     <use xlink:href=\"#DejaVuSans-48\"/>\n     <use x=\"63.623047\" xlink:href=\"#DejaVuSans-46\"/>\n     <use x=\"95.410156\" xlink:href=\"#DejaVuSans-49\"/>\n     <use x=\"159.033203\" xlink:href=\"#DejaVuSans-54\"/>\n    </g>\n   </g>\n   <g id=\"text_71\">\n    <!-- 0.06 -->\n    <g style=\"fill:#ffffff;\" transform=\"translate(390.603438 156.798594)scale(0.1 -0.1)\">\n     <use xlink:href=\"#DejaVuSans-48\"/>\n     <use x=\"63.623047\" xlink:href=\"#DejaVuSans-46\"/>\n     <use x=\"95.410156\" xlink:href=\"#DejaVuSans-48\"/>\n     <use x=\"159.033203\" xlink:href=\"#DejaVuSans-54\"/>\n    </g>\n   </g>\n   <g id=\"text_72\">\n    <!-- 0.06 -->\n    <g style=\"fill:#ffffff;\" transform=\"translate(420.363438 156.798594)scale(0.1 -0.1)\">\n     <use xlink:href=\"#DejaVuSans-48\"/>\n     <use x=\"63.623047\" xlink:href=\"#DejaVuSans-46\"/>\n     <use x=\"95.410156\" xlink:href=\"#DejaVuSans-48\"/>\n     <use x=\"159.033203\" xlink:href=\"#DejaVuSans-54\"/>\n    </g>\n   </g>\n   <g id=\"text_73\">\n    <!-- -0.02 -->\n    <g style=\"fill:#ffffff;\" transform=\"translate(91.199531 186.558594)scale(0.1 -0.1)\">\n     <use xlink:href=\"#DejaVuSans-45\"/>\n     <use x=\"36.083984\" xlink:href=\"#DejaVuSans-48\"/>\n     <use x=\"99.707031\" xlink:href=\"#DejaVuSans-46\"/>\n     <use x=\"131.494141\" xlink:href=\"#DejaVuSans-48\"/>\n     <use x=\"195.117188\" xlink:href=\"#DejaVuSans-50\"/>\n    </g>\n   </g>\n   <g id=\"text_74\">\n    <!-- 0.89 -->\n    <g style=\"fill:#262626;\" transform=\"translate(122.763438 186.558594)scale(0.1 -0.1)\">\n     <use xlink:href=\"#DejaVuSans-48\"/>\n     <use x=\"63.623047\" xlink:href=\"#DejaVuSans-46\"/>\n     <use x=\"95.410156\" xlink:href=\"#DejaVuSans-56\"/>\n     <use x=\"159.033203\" xlink:href=\"#DejaVuSans-57\"/>\n    </g>\n   </g>\n   <g id=\"text_75\">\n    <!-- 0.91 -->\n    <g style=\"fill:#262626;\" transform=\"translate(152.523438 186.558594)scale(0.1 -0.1)\">\n     <use xlink:href=\"#DejaVuSans-48\"/>\n     <use x=\"63.623047\" xlink:href=\"#DejaVuSans-46\"/>\n     <use x=\"95.410156\" xlink:href=\"#DejaVuSans-57\"/>\n     <use x=\"159.033203\" xlink:href=\"#DejaVuSans-49\"/>\n    </g>\n   </g>\n   <g id=\"text_76\">\n    <!-- 0.89 -->\n    <g style=\"fill:#262626;\" transform=\"translate(182.283438 186.558594)scale(0.1 -0.1)\">\n     <use xlink:href=\"#DejaVuSans-48\"/>\n     <use x=\"63.623047\" xlink:href=\"#DejaVuSans-46\"/>\n     <use x=\"95.410156\" xlink:href=\"#DejaVuSans-56\"/>\n     <use x=\"159.033203\" xlink:href=\"#DejaVuSans-57\"/>\n    </g>\n   </g>\n   <g id=\"text_77\">\n    <!-- 1.00 -->\n    <g style=\"fill:#262626;\" transform=\"translate(212.043438 186.558594)scale(0.1 -0.1)\">\n     <use xlink:href=\"#DejaVuSans-49\"/>\n     <use x=\"63.623047\" xlink:href=\"#DejaVuSans-46\"/>\n     <use x=\"95.410156\" xlink:href=\"#DejaVuSans-48\"/>\n     <use x=\"159.033203\" xlink:href=\"#DejaVuSans-48\"/>\n    </g>\n   </g>\n   <g id=\"text_78\">\n    <!-- 0.00 -->\n    <g style=\"fill:#ffffff;\" transform=\"translate(241.803438 186.558594)scale(0.1 -0.1)\">\n     <use xlink:href=\"#DejaVuSans-48\"/>\n     <use x=\"63.623047\" xlink:href=\"#DejaVuSans-46\"/>\n     <use x=\"95.410156\" xlink:href=\"#DejaVuSans-48\"/>\n     <use x=\"159.033203\" xlink:href=\"#DejaVuSans-48\"/>\n    </g>\n   </g>\n   <g id=\"text_79\">\n    <!-- 0.01 -->\n    <g style=\"fill:#ffffff;\" transform=\"translate(271.563438 186.558594)scale(0.1 -0.1)\">\n     <use xlink:href=\"#DejaVuSans-48\"/>\n     <use x=\"63.623047\" xlink:href=\"#DejaVuSans-46\"/>\n     <use x=\"95.410156\" xlink:href=\"#DejaVuSans-48\"/>\n     <use x=\"159.033203\" xlink:href=\"#DejaVuSans-49\"/>\n    </g>\n   </g>\n   <g id=\"text_80\">\n    <!-- 0.03 -->\n    <defs>\n     <path d=\"M 40.578125 39.3125 \nQ 47.65625 37.796875 51.625 33 \nQ 55.609375 28.21875 55.609375 21.1875 \nQ 55.609375 10.40625 48.1875 4.484375 \nQ 40.765625 -1.421875 27.09375 -1.421875 \nQ 22.515625 -1.421875 17.65625 -0.515625 \nQ 12.796875 0.390625 7.625 2.203125 \nL 7.625 11.71875 \nQ 11.71875 9.328125 16.59375 8.109375 \nQ 21.484375 6.890625 26.8125 6.890625 \nQ 36.078125 6.890625 40.9375 10.546875 \nQ 45.796875 14.203125 45.796875 21.1875 \nQ 45.796875 27.640625 41.28125 31.265625 \nQ 36.765625 34.90625 28.71875 34.90625 \nL 20.21875 34.90625 \nL 20.21875 43.015625 \nL 29.109375 43.015625 \nQ 36.375 43.015625 40.234375 45.921875 \nQ 44.09375 48.828125 44.09375 54.296875 \nQ 44.09375 59.90625 40.109375 62.90625 \nQ 36.140625 65.921875 28.71875 65.921875 \nQ 24.65625 65.921875 20.015625 65.03125 \nQ 15.375 64.15625 9.8125 62.3125 \nL 9.8125 71.09375 \nQ 15.4375 72.65625 20.34375 73.4375 \nQ 25.25 74.21875 29.59375 74.21875 \nQ 40.828125 74.21875 47.359375 69.109375 \nQ 53.90625 64.015625 53.90625 55.328125 \nQ 53.90625 49.265625 50.4375 45.09375 \nQ 46.96875 40.921875 40.578125 39.3125 \nz\n\" id=\"DejaVuSans-51\"/>\n    </defs>\n    <g style=\"fill:#ffffff;\" transform=\"translate(301.323438 186.558594)scale(0.1 -0.1)\">\n     <use xlink:href=\"#DejaVuSans-48\"/>\n     <use x=\"63.623047\" xlink:href=\"#DejaVuSans-46\"/>\n     <use x=\"95.410156\" xlink:href=\"#DejaVuSans-48\"/>\n     <use x=\"159.033203\" xlink:href=\"#DejaVuSans-51\"/>\n    </g>\n   </g>\n   <g id=\"text_81\">\n    <!-- 0.15 -->\n    <g style=\"fill:#ffffff;\" transform=\"translate(331.083438 186.558594)scale(0.1 -0.1)\">\n     <use xlink:href=\"#DejaVuSans-48\"/>\n     <use x=\"63.623047\" xlink:href=\"#DejaVuSans-46\"/>\n     <use x=\"95.410156\" xlink:href=\"#DejaVuSans-49\"/>\n     <use x=\"159.033203\" xlink:href=\"#DejaVuSans-53\"/>\n    </g>\n   </g>\n   <g id=\"text_82\">\n    <!-- 0.17 -->\n    <g style=\"fill:#ffffff;\" transform=\"translate(360.843438 186.558594)scale(0.1 -0.1)\">\n     <use xlink:href=\"#DejaVuSans-48\"/>\n     <use x=\"63.623047\" xlink:href=\"#DejaVuSans-46\"/>\n     <use x=\"95.410156\" xlink:href=\"#DejaVuSans-49\"/>\n     <use x=\"159.033203\" xlink:href=\"#DejaVuSans-55\"/>\n    </g>\n   </g>\n   <g id=\"text_83\">\n    <!-- 0.03 -->\n    <g style=\"fill:#ffffff;\" transform=\"translate(390.603438 186.558594)scale(0.1 -0.1)\">\n     <use xlink:href=\"#DejaVuSans-48\"/>\n     <use x=\"63.623047\" xlink:href=\"#DejaVuSans-46\"/>\n     <use x=\"95.410156\" xlink:href=\"#DejaVuSans-48\"/>\n     <use x=\"159.033203\" xlink:href=\"#DejaVuSans-51\"/>\n    </g>\n   </g>\n   <g id=\"text_84\">\n    <!-- 0.03 -->\n    <g style=\"fill:#ffffff;\" transform=\"translate(420.363438 186.558594)scale(0.1 -0.1)\">\n     <use xlink:href=\"#DejaVuSans-48\"/>\n     <use x=\"63.623047\" xlink:href=\"#DejaVuSans-46\"/>\n     <use x=\"95.410156\" xlink:href=\"#DejaVuSans-48\"/>\n     <use x=\"159.033203\" xlink:href=\"#DejaVuSans-51\"/>\n    </g>\n   </g>\n   <g id=\"text_85\">\n    <!-- 0.00 -->\n    <g style=\"fill:#ffffff;\" transform=\"translate(93.003438 216.318594)scale(0.1 -0.1)\">\n     <use xlink:href=\"#DejaVuSans-48\"/>\n     <use x=\"63.623047\" xlink:href=\"#DejaVuSans-46\"/>\n     <use x=\"95.410156\" xlink:href=\"#DejaVuSans-48\"/>\n     <use x=\"159.033203\" xlink:href=\"#DejaVuSans-48\"/>\n    </g>\n   </g>\n   <g id=\"text_86\">\n    <!-- -0.00 -->\n    <g style=\"fill:#ffffff;\" transform=\"translate(120.959531 216.318594)scale(0.1 -0.1)\">\n     <use xlink:href=\"#DejaVuSans-45\"/>\n     <use x=\"36.083984\" xlink:href=\"#DejaVuSans-48\"/>\n     <use x=\"99.707031\" xlink:href=\"#DejaVuSans-46\"/>\n     <use x=\"131.494141\" xlink:href=\"#DejaVuSans-48\"/>\n     <use x=\"195.117188\" xlink:href=\"#DejaVuSans-48\"/>\n    </g>\n   </g>\n   <g id=\"text_87\">\n    <!-- 0.00 -->\n    <g style=\"fill:#ffffff;\" transform=\"translate(152.523438 216.318594)scale(0.1 -0.1)\">\n     <use xlink:href=\"#DejaVuSans-48\"/>\n     <use x=\"63.623047\" xlink:href=\"#DejaVuSans-46\"/>\n     <use x=\"95.410156\" xlink:href=\"#DejaVuSans-48\"/>\n     <use x=\"159.033203\" xlink:href=\"#DejaVuSans-48\"/>\n    </g>\n   </g>\n   <g id=\"text_88\">\n    <!-- 0.00 -->\n    <g style=\"fill:#ffffff;\" transform=\"translate(182.283438 216.318594)scale(0.1 -0.1)\">\n     <use xlink:href=\"#DejaVuSans-48\"/>\n     <use x=\"63.623047\" xlink:href=\"#DejaVuSans-46\"/>\n     <use x=\"95.410156\" xlink:href=\"#DejaVuSans-48\"/>\n     <use x=\"159.033203\" xlink:href=\"#DejaVuSans-48\"/>\n    </g>\n   </g>\n   <g id=\"text_89\">\n    <!-- 0.00 -->\n    <g style=\"fill:#ffffff;\" transform=\"translate(212.043438 216.318594)scale(0.1 -0.1)\">\n     <use xlink:href=\"#DejaVuSans-48\"/>\n     <use x=\"63.623047\" xlink:href=\"#DejaVuSans-46\"/>\n     <use x=\"95.410156\" xlink:href=\"#DejaVuSans-48\"/>\n     <use x=\"159.033203\" xlink:href=\"#DejaVuSans-48\"/>\n    </g>\n   </g>\n   <g id=\"text_90\">\n    <!-- 1.00 -->\n    <g style=\"fill:#262626;\" transform=\"translate(241.803438 216.318594)scale(0.1 -0.1)\">\n     <use xlink:href=\"#DejaVuSans-49\"/>\n     <use x=\"63.623047\" xlink:href=\"#DejaVuSans-46\"/>\n     <use x=\"95.410156\" xlink:href=\"#DejaVuSans-48\"/>\n     <use x=\"159.033203\" xlink:href=\"#DejaVuSans-48\"/>\n    </g>\n   </g>\n   <g id=\"text_91\">\n    <!-- 0.64 -->\n    <g style=\"fill:#ffffff;\" transform=\"translate(271.563438 216.318594)scale(0.1 -0.1)\">\n     <use xlink:href=\"#DejaVuSans-48\"/>\n     <use x=\"63.623047\" xlink:href=\"#DejaVuSans-46\"/>\n     <use x=\"95.410156\" xlink:href=\"#DejaVuSans-54\"/>\n     <use x=\"159.033203\" xlink:href=\"#DejaVuSans-52\"/>\n    </g>\n   </g>\n   <g id=\"text_92\">\n    <!-- 0.08 -->\n    <g style=\"fill:#ffffff;\" transform=\"translate(301.323438 216.318594)scale(0.1 -0.1)\">\n     <use xlink:href=\"#DejaVuSans-48\"/>\n     <use x=\"63.623047\" xlink:href=\"#DejaVuSans-46\"/>\n     <use x=\"95.410156\" xlink:href=\"#DejaVuSans-48\"/>\n     <use x=\"159.033203\" xlink:href=\"#DejaVuSans-56\"/>\n    </g>\n   </g>\n   <g id=\"text_93\">\n    <!-- 0.10 -->\n    <g style=\"fill:#ffffff;\" transform=\"translate(331.083438 216.318594)scale(0.1 -0.1)\">\n     <use xlink:href=\"#DejaVuSans-48\"/>\n     <use x=\"63.623047\" xlink:href=\"#DejaVuSans-46\"/>\n     <use x=\"95.410156\" xlink:href=\"#DejaVuSans-49\"/>\n     <use x=\"159.033203\" xlink:href=\"#DejaVuSans-48\"/>\n    </g>\n   </g>\n   <g id=\"text_94\">\n    <!-- 0.02 -->\n    <g style=\"fill:#ffffff;\" transform=\"translate(360.843438 216.318594)scale(0.1 -0.1)\">\n     <use xlink:href=\"#DejaVuSans-48\"/>\n     <use x=\"63.623047\" xlink:href=\"#DejaVuSans-46\"/>\n     <use x=\"95.410156\" xlink:href=\"#DejaVuSans-48\"/>\n     <use x=\"159.033203\" xlink:href=\"#DejaVuSans-50\"/>\n    </g>\n   </g>\n   <g id=\"text_95\">\n    <!-- -0.01 -->\n    <g style=\"fill:#ffffff;\" transform=\"translate(388.799531 216.318594)scale(0.1 -0.1)\">\n     <use xlink:href=\"#DejaVuSans-45\"/>\n     <use x=\"36.083984\" xlink:href=\"#DejaVuSans-48\"/>\n     <use x=\"99.707031\" xlink:href=\"#DejaVuSans-46\"/>\n     <use x=\"131.494141\" xlink:href=\"#DejaVuSans-48\"/>\n     <use x=\"195.117188\" xlink:href=\"#DejaVuSans-49\"/>\n    </g>\n   </g>\n   <g id=\"text_96\">\n    <!-- -0.01 -->\n    <g style=\"fill:#ffffff;\" transform=\"translate(418.559531 216.318594)scale(0.1 -0.1)\">\n     <use xlink:href=\"#DejaVuSans-45\"/>\n     <use x=\"36.083984\" xlink:href=\"#DejaVuSans-48\"/>\n     <use x=\"99.707031\" xlink:href=\"#DejaVuSans-46\"/>\n     <use x=\"131.494141\" xlink:href=\"#DejaVuSans-48\"/>\n     <use x=\"195.117188\" xlink:href=\"#DejaVuSans-49\"/>\n    </g>\n   </g>\n   <g id=\"text_97\">\n    <!-- 0.01 -->\n    <g style=\"fill:#ffffff;\" transform=\"translate(93.003438 246.078594)scale(0.1 -0.1)\">\n     <use xlink:href=\"#DejaVuSans-48\"/>\n     <use x=\"63.623047\" xlink:href=\"#DejaVuSans-46\"/>\n     <use x=\"95.410156\" xlink:href=\"#DejaVuSans-48\"/>\n     <use x=\"159.033203\" xlink:href=\"#DejaVuSans-49\"/>\n    </g>\n   </g>\n   <g id=\"text_98\">\n    <!-- -0.01 -->\n    <g style=\"fill:#ffffff;\" transform=\"translate(120.959531 246.078594)scale(0.1 -0.1)\">\n     <use xlink:href=\"#DejaVuSans-45\"/>\n     <use x=\"36.083984\" xlink:href=\"#DejaVuSans-48\"/>\n     <use x=\"99.707031\" xlink:href=\"#DejaVuSans-46\"/>\n     <use x=\"131.494141\" xlink:href=\"#DejaVuSans-48\"/>\n     <use x=\"195.117188\" xlink:href=\"#DejaVuSans-49\"/>\n    </g>\n   </g>\n   <g id=\"text_99\">\n    <!-- 0.00 -->\n    <g style=\"fill:#ffffff;\" transform=\"translate(152.523438 246.078594)scale(0.1 -0.1)\">\n     <use xlink:href=\"#DejaVuSans-48\"/>\n     <use x=\"63.623047\" xlink:href=\"#DejaVuSans-46\"/>\n     <use x=\"95.410156\" xlink:href=\"#DejaVuSans-48\"/>\n     <use x=\"159.033203\" xlink:href=\"#DejaVuSans-48\"/>\n    </g>\n   </g>\n   <g id=\"text_100\">\n    <!-- 0.00 -->\n    <g style=\"fill:#ffffff;\" transform=\"translate(182.283438 246.078594)scale(0.1 -0.1)\">\n     <use xlink:href=\"#DejaVuSans-48\"/>\n     <use x=\"63.623047\" xlink:href=\"#DejaVuSans-46\"/>\n     <use x=\"95.410156\" xlink:href=\"#DejaVuSans-48\"/>\n     <use x=\"159.033203\" xlink:href=\"#DejaVuSans-48\"/>\n    </g>\n   </g>\n   <g id=\"text_101\">\n    <!-- 0.01 -->\n    <g style=\"fill:#ffffff;\" transform=\"translate(212.043438 246.078594)scale(0.1 -0.1)\">\n     <use xlink:href=\"#DejaVuSans-48\"/>\n     <use x=\"63.623047\" xlink:href=\"#DejaVuSans-46\"/>\n     <use x=\"95.410156\" xlink:href=\"#DejaVuSans-48\"/>\n     <use x=\"159.033203\" xlink:href=\"#DejaVuSans-49\"/>\n    </g>\n   </g>\n   <g id=\"text_102\">\n    <!-- 0.64 -->\n    <g style=\"fill:#ffffff;\" transform=\"translate(241.803438 246.078594)scale(0.1 -0.1)\">\n     <use xlink:href=\"#DejaVuSans-48\"/>\n     <use x=\"63.623047\" xlink:href=\"#DejaVuSans-46\"/>\n     <use x=\"95.410156\" xlink:href=\"#DejaVuSans-54\"/>\n     <use x=\"159.033203\" xlink:href=\"#DejaVuSans-52\"/>\n    </g>\n   </g>\n   <g id=\"text_103\">\n    <!-- 1.00 -->\n    <g style=\"fill:#262626;\" transform=\"translate(271.563438 246.078594)scale(0.1 -0.1)\">\n     <use xlink:href=\"#DejaVuSans-49\"/>\n     <use x=\"63.623047\" xlink:href=\"#DejaVuSans-46\"/>\n     <use x=\"95.410156\" xlink:href=\"#DejaVuSans-48\"/>\n     <use x=\"159.033203\" xlink:href=\"#DejaVuSans-48\"/>\n    </g>\n   </g>\n   <g id=\"text_104\">\n    <!-- 0.10 -->\n    <g style=\"fill:#ffffff;\" transform=\"translate(301.323438 246.078594)scale(0.1 -0.1)\">\n     <use xlink:href=\"#DejaVuSans-48\"/>\n     <use x=\"63.623047\" xlink:href=\"#DejaVuSans-46\"/>\n     <use x=\"95.410156\" xlink:href=\"#DejaVuSans-49\"/>\n     <use x=\"159.033203\" xlink:href=\"#DejaVuSans-48\"/>\n    </g>\n   </g>\n   <g id=\"text_105\">\n    <!-- 0.07 -->\n    <g style=\"fill:#ffffff;\" transform=\"translate(331.083438 246.078594)scale(0.1 -0.1)\">\n     <use xlink:href=\"#DejaVuSans-48\"/>\n     <use x=\"63.623047\" xlink:href=\"#DejaVuSans-46\"/>\n     <use x=\"95.410156\" xlink:href=\"#DejaVuSans-48\"/>\n     <use x=\"159.033203\" xlink:href=\"#DejaVuSans-55\"/>\n    </g>\n   </g>\n   <g id=\"text_106\">\n    <!-- 0.04 -->\n    <g style=\"fill:#ffffff;\" transform=\"translate(360.843438 246.078594)scale(0.1 -0.1)\">\n     <use xlink:href=\"#DejaVuSans-48\"/>\n     <use x=\"63.623047\" xlink:href=\"#DejaVuSans-46\"/>\n     <use x=\"95.410156\" xlink:href=\"#DejaVuSans-48\"/>\n     <use x=\"159.033203\" xlink:href=\"#DejaVuSans-52\"/>\n    </g>\n   </g>\n   <g id=\"text_107\">\n    <!-- -0.02 -->\n    <g style=\"fill:#ffffff;\" transform=\"translate(388.799531 246.078594)scale(0.1 -0.1)\">\n     <use xlink:href=\"#DejaVuSans-45\"/>\n     <use x=\"36.083984\" xlink:href=\"#DejaVuSans-48\"/>\n     <use x=\"99.707031\" xlink:href=\"#DejaVuSans-46\"/>\n     <use x=\"131.494141\" xlink:href=\"#DejaVuSans-48\"/>\n     <use x=\"195.117188\" xlink:href=\"#DejaVuSans-50\"/>\n    </g>\n   </g>\n   <g id=\"text_108\">\n    <!-- -0.02 -->\n    <g style=\"fill:#ffffff;\" transform=\"translate(418.559531 246.078594)scale(0.1 -0.1)\">\n     <use xlink:href=\"#DejaVuSans-45\"/>\n     <use x=\"36.083984\" xlink:href=\"#DejaVuSans-48\"/>\n     <use x=\"99.707031\" xlink:href=\"#DejaVuSans-46\"/>\n     <use x=\"131.494141\" xlink:href=\"#DejaVuSans-48\"/>\n     <use x=\"195.117188\" xlink:href=\"#DejaVuSans-50\"/>\n    </g>\n   </g>\n   <g id=\"text_109\">\n    <!-- 0.08 -->\n    <g style=\"fill:#ffffff;\" transform=\"translate(93.003438 275.838594)scale(0.1 -0.1)\">\n     <use xlink:href=\"#DejaVuSans-48\"/>\n     <use x=\"63.623047\" xlink:href=\"#DejaVuSans-46\"/>\n     <use x=\"95.410156\" xlink:href=\"#DejaVuSans-48\"/>\n     <use x=\"159.033203\" xlink:href=\"#DejaVuSans-56\"/>\n    </g>\n   </g>\n   <g id=\"text_110\">\n    <!-- 0.01 -->\n    <g style=\"fill:#ffffff;\" transform=\"translate(122.763438 275.838594)scale(0.1 -0.1)\">\n     <use xlink:href=\"#DejaVuSans-48\"/>\n     <use x=\"63.623047\" xlink:href=\"#DejaVuSans-46\"/>\n     <use x=\"95.410156\" xlink:href=\"#DejaVuSans-48\"/>\n     <use x=\"159.033203\" xlink:href=\"#DejaVuSans-49\"/>\n    </g>\n   </g>\n   <g id=\"text_111\">\n    <!-- 0.02 -->\n    <g style=\"fill:#ffffff;\" transform=\"translate(152.523438 275.838594)scale(0.1 -0.1)\">\n     <use xlink:href=\"#DejaVuSans-48\"/>\n     <use x=\"63.623047\" xlink:href=\"#DejaVuSans-46\"/>\n     <use x=\"95.410156\" xlink:href=\"#DejaVuSans-48\"/>\n     <use x=\"159.033203\" xlink:href=\"#DejaVuSans-50\"/>\n    </g>\n   </g>\n   <g id=\"text_112\">\n    <!-- 0.01 -->\n    <g style=\"fill:#ffffff;\" transform=\"translate(182.283438 275.838594)scale(0.1 -0.1)\">\n     <use xlink:href=\"#DejaVuSans-48\"/>\n     <use x=\"63.623047\" xlink:href=\"#DejaVuSans-46\"/>\n     <use x=\"95.410156\" xlink:href=\"#DejaVuSans-48\"/>\n     <use x=\"159.033203\" xlink:href=\"#DejaVuSans-49\"/>\n    </g>\n   </g>\n   <g id=\"text_113\">\n    <!-- 0.03 -->\n    <g style=\"fill:#ffffff;\" transform=\"translate(212.043438 275.838594)scale(0.1 -0.1)\">\n     <use xlink:href=\"#DejaVuSans-48\"/>\n     <use x=\"63.623047\" xlink:href=\"#DejaVuSans-46\"/>\n     <use x=\"95.410156\" xlink:href=\"#DejaVuSans-48\"/>\n     <use x=\"159.033203\" xlink:href=\"#DejaVuSans-51\"/>\n    </g>\n   </g>\n   <g id=\"text_114\">\n    <!-- 0.08 -->\n    <g style=\"fill:#ffffff;\" transform=\"translate(241.803438 275.838594)scale(0.1 -0.1)\">\n     <use xlink:href=\"#DejaVuSans-48\"/>\n     <use x=\"63.623047\" xlink:href=\"#DejaVuSans-46\"/>\n     <use x=\"95.410156\" xlink:href=\"#DejaVuSans-48\"/>\n     <use x=\"159.033203\" xlink:href=\"#DejaVuSans-56\"/>\n    </g>\n   </g>\n   <g id=\"text_115\">\n    <!-- 0.10 -->\n    <g style=\"fill:#ffffff;\" transform=\"translate(271.563438 275.838594)scale(0.1 -0.1)\">\n     <use xlink:href=\"#DejaVuSans-48\"/>\n     <use x=\"63.623047\" xlink:href=\"#DejaVuSans-46\"/>\n     <use x=\"95.410156\" xlink:href=\"#DejaVuSans-49\"/>\n     <use x=\"159.033203\" xlink:href=\"#DejaVuSans-48\"/>\n    </g>\n   </g>\n   <g id=\"text_116\">\n    <!-- 1.00 -->\n    <g style=\"fill:#262626;\" transform=\"translate(301.323438 275.838594)scale(0.1 -0.1)\">\n     <use xlink:href=\"#DejaVuSans-49\"/>\n     <use x=\"63.623047\" xlink:href=\"#DejaVuSans-46\"/>\n     <use x=\"95.410156\" xlink:href=\"#DejaVuSans-48\"/>\n     <use x=\"159.033203\" xlink:href=\"#DejaVuSans-48\"/>\n    </g>\n   </g>\n   <g id=\"text_117\">\n    <!-- 0.73 -->\n    <g style=\"fill:#ffffff;\" transform=\"translate(331.083438 275.838594)scale(0.1 -0.1)\">\n     <use xlink:href=\"#DejaVuSans-48\"/>\n     <use x=\"63.623047\" xlink:href=\"#DejaVuSans-46\"/>\n     <use x=\"95.410156\" xlink:href=\"#DejaVuSans-55\"/>\n     <use x=\"159.033203\" xlink:href=\"#DejaVuSans-51\"/>\n    </g>\n   </g>\n   <g id=\"text_118\">\n    <!-- 0.17 -->\n    <g style=\"fill:#ffffff;\" transform=\"translate(360.843438 275.838594)scale(0.1 -0.1)\">\n     <use xlink:href=\"#DejaVuSans-48\"/>\n     <use x=\"63.623047\" xlink:href=\"#DejaVuSans-46\"/>\n     <use x=\"95.410156\" xlink:href=\"#DejaVuSans-49\"/>\n     <use x=\"159.033203\" xlink:href=\"#DejaVuSans-55\"/>\n    </g>\n   </g>\n   <g id=\"text_119\">\n    <!-- -0.26 -->\n    <g style=\"fill:#ffffff;\" transform=\"translate(388.799531 275.838594)scale(0.1 -0.1)\">\n     <use xlink:href=\"#DejaVuSans-45\"/>\n     <use x=\"36.083984\" xlink:href=\"#DejaVuSans-48\"/>\n     <use x=\"99.707031\" xlink:href=\"#DejaVuSans-46\"/>\n     <use x=\"131.494141\" xlink:href=\"#DejaVuSans-50\"/>\n     <use x=\"195.117188\" xlink:href=\"#DejaVuSans-54\"/>\n    </g>\n   </g>\n   <g id=\"text_120\">\n    <!-- -0.26 -->\n    <g style=\"fill:#ffffff;\" transform=\"translate(418.559531 275.838594)scale(0.1 -0.1)\">\n     <use xlink:href=\"#DejaVuSans-45\"/>\n     <use x=\"36.083984\" xlink:href=\"#DejaVuSans-48\"/>\n     <use x=\"99.707031\" xlink:href=\"#DejaVuSans-46\"/>\n     <use x=\"131.494141\" xlink:href=\"#DejaVuSans-50\"/>\n     <use x=\"195.117188\" xlink:href=\"#DejaVuSans-54\"/>\n    </g>\n   </g>\n   <g id=\"text_121\">\n    <!-- 0.04 -->\n    <g style=\"fill:#ffffff;\" transform=\"translate(93.003438 305.598594)scale(0.1 -0.1)\">\n     <use xlink:href=\"#DejaVuSans-48\"/>\n     <use x=\"63.623047\" xlink:href=\"#DejaVuSans-46\"/>\n     <use x=\"95.410156\" xlink:href=\"#DejaVuSans-48\"/>\n     <use x=\"159.033203\" xlink:href=\"#DejaVuSans-52\"/>\n    </g>\n   </g>\n   <g id=\"text_122\">\n    <!-- 0.14 -->\n    <g style=\"fill:#ffffff;\" transform=\"translate(122.763438 305.598594)scale(0.1 -0.1)\">\n     <use xlink:href=\"#DejaVuSans-48\"/>\n     <use x=\"63.623047\" xlink:href=\"#DejaVuSans-46\"/>\n     <use x=\"95.410156\" xlink:href=\"#DejaVuSans-49\"/>\n     <use x=\"159.033203\" xlink:href=\"#DejaVuSans-52\"/>\n    </g>\n   </g>\n   <g id=\"text_123\">\n    <!-- 0.14 -->\n    <g style=\"fill:#ffffff;\" transform=\"translate(152.523438 305.598594)scale(0.1 -0.1)\">\n     <use xlink:href=\"#DejaVuSans-48\"/>\n     <use x=\"63.623047\" xlink:href=\"#DejaVuSans-46\"/>\n     <use x=\"95.410156\" xlink:href=\"#DejaVuSans-49\"/>\n     <use x=\"159.033203\" xlink:href=\"#DejaVuSans-52\"/>\n    </g>\n   </g>\n   <g id=\"text_124\">\n    <!-- 0.14 -->\n    <g style=\"fill:#ffffff;\" transform=\"translate(182.283438 305.598594)scale(0.1 -0.1)\">\n     <use xlink:href=\"#DejaVuSans-48\"/>\n     <use x=\"63.623047\" xlink:href=\"#DejaVuSans-46\"/>\n     <use x=\"95.410156\" xlink:href=\"#DejaVuSans-49\"/>\n     <use x=\"159.033203\" xlink:href=\"#DejaVuSans-52\"/>\n    </g>\n   </g>\n   <g id=\"text_125\">\n    <!-- 0.15 -->\n    <g style=\"fill:#ffffff;\" transform=\"translate(212.043438 305.598594)scale(0.1 -0.1)\">\n     <use xlink:href=\"#DejaVuSans-48\"/>\n     <use x=\"63.623047\" xlink:href=\"#DejaVuSans-46\"/>\n     <use x=\"95.410156\" xlink:href=\"#DejaVuSans-49\"/>\n     <use x=\"159.033203\" xlink:href=\"#DejaVuSans-53\"/>\n    </g>\n   </g>\n   <g id=\"text_126\">\n    <!-- 0.10 -->\n    <g style=\"fill:#ffffff;\" transform=\"translate(241.803438 305.598594)scale(0.1 -0.1)\">\n     <use xlink:href=\"#DejaVuSans-48\"/>\n     <use x=\"63.623047\" xlink:href=\"#DejaVuSans-46\"/>\n     <use x=\"95.410156\" xlink:href=\"#DejaVuSans-49\"/>\n     <use x=\"159.033203\" xlink:href=\"#DejaVuSans-48\"/>\n    </g>\n   </g>\n   <g id=\"text_127\">\n    <!-- 0.07 -->\n    <g style=\"fill:#ffffff;\" transform=\"translate(271.563438 305.598594)scale(0.1 -0.1)\">\n     <use xlink:href=\"#DejaVuSans-48\"/>\n     <use x=\"63.623047\" xlink:href=\"#DejaVuSans-46\"/>\n     <use x=\"95.410156\" xlink:href=\"#DejaVuSans-48\"/>\n     <use x=\"159.033203\" xlink:href=\"#DejaVuSans-55\"/>\n    </g>\n   </g>\n   <g id=\"text_128\">\n    <!-- 0.73 -->\n    <g style=\"fill:#ffffff;\" transform=\"translate(301.323438 305.598594)scale(0.1 -0.1)\">\n     <use xlink:href=\"#DejaVuSans-48\"/>\n     <use x=\"63.623047\" xlink:href=\"#DejaVuSans-46\"/>\n     <use x=\"95.410156\" xlink:href=\"#DejaVuSans-55\"/>\n     <use x=\"159.033203\" xlink:href=\"#DejaVuSans-51\"/>\n    </g>\n   </g>\n   <g id=\"text_129\">\n    <!-- 1.00 -->\n    <g style=\"fill:#262626;\" transform=\"translate(331.083438 305.598594)scale(0.1 -0.1)\">\n     <use xlink:href=\"#DejaVuSans-49\"/>\n     <use x=\"63.623047\" xlink:href=\"#DejaVuSans-46\"/>\n     <use x=\"95.410156\" xlink:href=\"#DejaVuSans-48\"/>\n     <use x=\"159.033203\" xlink:href=\"#DejaVuSans-48\"/>\n    </g>\n   </g>\n   <g id=\"text_130\">\n    <!-- 0.11 -->\n    <g style=\"fill:#ffffff;\" transform=\"translate(360.843438 305.598594)scale(0.1 -0.1)\">\n     <use xlink:href=\"#DejaVuSans-48\"/>\n     <use x=\"63.623047\" xlink:href=\"#DejaVuSans-46\"/>\n     <use x=\"95.410156\" xlink:href=\"#DejaVuSans-49\"/>\n     <use x=\"159.033203\" xlink:href=\"#DejaVuSans-49\"/>\n    </g>\n   </g>\n   <g id=\"text_131\">\n    <!-- -0.22 -->\n    <g style=\"fill:#ffffff;\" transform=\"translate(388.799531 305.598594)scale(0.1 -0.1)\">\n     <use xlink:href=\"#DejaVuSans-45\"/>\n     <use x=\"36.083984\" xlink:href=\"#DejaVuSans-48\"/>\n     <use x=\"99.707031\" xlink:href=\"#DejaVuSans-46\"/>\n     <use x=\"131.494141\" xlink:href=\"#DejaVuSans-50\"/>\n     <use x=\"195.117188\" xlink:href=\"#DejaVuSans-50\"/>\n    </g>\n   </g>\n   <g id=\"text_132\">\n    <!-- -0.22 -->\n    <g style=\"fill:#ffffff;\" transform=\"translate(418.559531 305.598594)scale(0.1 -0.1)\">\n     <use xlink:href=\"#DejaVuSans-45\"/>\n     <use x=\"36.083984\" xlink:href=\"#DejaVuSans-48\"/>\n     <use x=\"99.707031\" xlink:href=\"#DejaVuSans-46\"/>\n     <use x=\"131.494141\" xlink:href=\"#DejaVuSans-50\"/>\n     <use x=\"195.117188\" xlink:href=\"#DejaVuSans-50\"/>\n    </g>\n   </g>\n   <g id=\"text_133\">\n    <!-- 0.06 -->\n    <g style=\"fill:#ffffff;\" transform=\"translate(93.003438 335.358594)scale(0.1 -0.1)\">\n     <use xlink:href=\"#DejaVuSans-48\"/>\n     <use x=\"63.623047\" xlink:href=\"#DejaVuSans-46\"/>\n     <use x=\"95.410156\" xlink:href=\"#DejaVuSans-48\"/>\n     <use x=\"159.033203\" xlink:href=\"#DejaVuSans-54\"/>\n    </g>\n   </g>\n   <g id=\"text_134\">\n    <!-- 0.16 -->\n    <g style=\"fill:#ffffff;\" transform=\"translate(122.763438 335.358594)scale(0.1 -0.1)\">\n     <use xlink:href=\"#DejaVuSans-48\"/>\n     <use x=\"63.623047\" xlink:href=\"#DejaVuSans-46\"/>\n     <use x=\"95.410156\" xlink:href=\"#DejaVuSans-49\"/>\n     <use x=\"159.033203\" xlink:href=\"#DejaVuSans-54\"/>\n    </g>\n   </g>\n   <g id=\"text_135\">\n    <!-- 0.17 -->\n    <g style=\"fill:#ffffff;\" transform=\"translate(152.523438 335.358594)scale(0.1 -0.1)\">\n     <use xlink:href=\"#DejaVuSans-48\"/>\n     <use x=\"63.623047\" xlink:href=\"#DejaVuSans-46\"/>\n     <use x=\"95.410156\" xlink:href=\"#DejaVuSans-49\"/>\n     <use x=\"159.033203\" xlink:href=\"#DejaVuSans-55\"/>\n    </g>\n   </g>\n   <g id=\"text_136\">\n    <!-- 0.16 -->\n    <g style=\"fill:#ffffff;\" transform=\"translate(182.283438 335.358594)scale(0.1 -0.1)\">\n     <use xlink:href=\"#DejaVuSans-48\"/>\n     <use x=\"63.623047\" xlink:href=\"#DejaVuSans-46\"/>\n     <use x=\"95.410156\" xlink:href=\"#DejaVuSans-49\"/>\n     <use x=\"159.033203\" xlink:href=\"#DejaVuSans-54\"/>\n    </g>\n   </g>\n   <g id=\"text_137\">\n    <!-- 0.17 -->\n    <g style=\"fill:#ffffff;\" transform=\"translate(212.043438 335.358594)scale(0.1 -0.1)\">\n     <use xlink:href=\"#DejaVuSans-48\"/>\n     <use x=\"63.623047\" xlink:href=\"#DejaVuSans-46\"/>\n     <use x=\"95.410156\" xlink:href=\"#DejaVuSans-49\"/>\n     <use x=\"159.033203\" xlink:href=\"#DejaVuSans-55\"/>\n    </g>\n   </g>\n   <g id=\"text_138\">\n    <!-- 0.02 -->\n    <g style=\"fill:#ffffff;\" transform=\"translate(241.803438 335.358594)scale(0.1 -0.1)\">\n     <use xlink:href=\"#DejaVuSans-48\"/>\n     <use x=\"63.623047\" xlink:href=\"#DejaVuSans-46\"/>\n     <use x=\"95.410156\" xlink:href=\"#DejaVuSans-48\"/>\n     <use x=\"159.033203\" xlink:href=\"#DejaVuSans-50\"/>\n    </g>\n   </g>\n   <g id=\"text_139\">\n    <!-- 0.04 -->\n    <g style=\"fill:#ffffff;\" transform=\"translate(271.563438 335.358594)scale(0.1 -0.1)\">\n     <use xlink:href=\"#DejaVuSans-48\"/>\n     <use x=\"63.623047\" xlink:href=\"#DejaVuSans-46\"/>\n     <use x=\"95.410156\" xlink:href=\"#DejaVuSans-48\"/>\n     <use x=\"159.033203\" xlink:href=\"#DejaVuSans-52\"/>\n    </g>\n   </g>\n   <g id=\"text_140\">\n    <!-- 0.17 -->\n    <g style=\"fill:#ffffff;\" transform=\"translate(301.323438 335.358594)scale(0.1 -0.1)\">\n     <use xlink:href=\"#DejaVuSans-48\"/>\n     <use x=\"63.623047\" xlink:href=\"#DejaVuSans-46\"/>\n     <use x=\"95.410156\" xlink:href=\"#DejaVuSans-49\"/>\n     <use x=\"159.033203\" xlink:href=\"#DejaVuSans-55\"/>\n    </g>\n   </g>\n   <g id=\"text_141\">\n    <!-- 0.11 -->\n    <g style=\"fill:#ffffff;\" transform=\"translate(331.083438 335.358594)scale(0.1 -0.1)\">\n     <use xlink:href=\"#DejaVuSans-48\"/>\n     <use x=\"63.623047\" xlink:href=\"#DejaVuSans-46\"/>\n     <use x=\"95.410156\" xlink:href=\"#DejaVuSans-49\"/>\n     <use x=\"159.033203\" xlink:href=\"#DejaVuSans-49\"/>\n    </g>\n   </g>\n   <g id=\"text_142\">\n    <!-- 1.00 -->\n    <g style=\"fill:#262626;\" transform=\"translate(360.843438 335.358594)scale(0.1 -0.1)\">\n     <use xlink:href=\"#DejaVuSans-49\"/>\n     <use x=\"63.623047\" xlink:href=\"#DejaVuSans-46\"/>\n     <use x=\"95.410156\" xlink:href=\"#DejaVuSans-48\"/>\n     <use x=\"159.033203\" xlink:href=\"#DejaVuSans-48\"/>\n    </g>\n   </g>\n   <g id=\"text_143\">\n    <!-- -0.01 -->\n    <g style=\"fill:#ffffff;\" transform=\"translate(388.799531 335.358594)scale(0.1 -0.1)\">\n     <use xlink:href=\"#DejaVuSans-45\"/>\n     <use x=\"36.083984\" xlink:href=\"#DejaVuSans-48\"/>\n     <use x=\"99.707031\" xlink:href=\"#DejaVuSans-46\"/>\n     <use x=\"131.494141\" xlink:href=\"#DejaVuSans-48\"/>\n     <use x=\"195.117188\" xlink:href=\"#DejaVuSans-49\"/>\n    </g>\n   </g>\n   <g id=\"text_144\">\n    <!-- -0.01 -->\n    <g style=\"fill:#ffffff;\" transform=\"translate(418.559531 335.358594)scale(0.1 -0.1)\">\n     <use xlink:href=\"#DejaVuSans-45\"/>\n     <use x=\"36.083984\" xlink:href=\"#DejaVuSans-48\"/>\n     <use x=\"99.707031\" xlink:href=\"#DejaVuSans-46\"/>\n     <use x=\"131.494141\" xlink:href=\"#DejaVuSans-48\"/>\n     <use x=\"195.117188\" xlink:href=\"#DejaVuSans-49\"/>\n    </g>\n   </g>\n   <g id=\"text_145\">\n    <!-- -0.21 -->\n    <g style=\"fill:#ffffff;\" transform=\"translate(91.199531 365.118594)scale(0.1 -0.1)\">\n     <use xlink:href=\"#DejaVuSans-45\"/>\n     <use x=\"36.083984\" xlink:href=\"#DejaVuSans-48\"/>\n     <use x=\"99.707031\" xlink:href=\"#DejaVuSans-46\"/>\n     <use x=\"131.494141\" xlink:href=\"#DejaVuSans-50\"/>\n     <use x=\"195.117188\" xlink:href=\"#DejaVuSans-49\"/>\n    </g>\n   </g>\n   <g id=\"text_146\">\n    <!-- 0.06 -->\n    <g style=\"fill:#ffffff;\" transform=\"translate(122.763438 365.118594)scale(0.1 -0.1)\">\n     <use xlink:href=\"#DejaVuSans-48\"/>\n     <use x=\"63.623047\" xlink:href=\"#DejaVuSans-46\"/>\n     <use x=\"95.410156\" xlink:href=\"#DejaVuSans-48\"/>\n     <use x=\"159.033203\" xlink:href=\"#DejaVuSans-54\"/>\n    </g>\n   </g>\n   <g id=\"text_147\">\n    <!-- 0.05 -->\n    <g style=\"fill:#ffffff;\" transform=\"translate(152.523438 365.118594)scale(0.1 -0.1)\">\n     <use xlink:href=\"#DejaVuSans-48\"/>\n     <use x=\"63.623047\" xlink:href=\"#DejaVuSans-46\"/>\n     <use x=\"95.410156\" xlink:href=\"#DejaVuSans-48\"/>\n     <use x=\"159.033203\" xlink:href=\"#DejaVuSans-53\"/>\n    </g>\n   </g>\n   <g id=\"text_148\">\n    <!-- 0.06 -->\n    <g style=\"fill:#ffffff;\" transform=\"translate(182.283438 365.118594)scale(0.1 -0.1)\">\n     <use xlink:href=\"#DejaVuSans-48\"/>\n     <use x=\"63.623047\" xlink:href=\"#DejaVuSans-46\"/>\n     <use x=\"95.410156\" xlink:href=\"#DejaVuSans-48\"/>\n     <use x=\"159.033203\" xlink:href=\"#DejaVuSans-54\"/>\n    </g>\n   </g>\n   <g id=\"text_149\">\n    <!-- 0.03 -->\n    <g style=\"fill:#ffffff;\" transform=\"translate(212.043438 365.118594)scale(0.1 -0.1)\">\n     <use xlink:href=\"#DejaVuSans-48\"/>\n     <use x=\"63.623047\" xlink:href=\"#DejaVuSans-46\"/>\n     <use x=\"95.410156\" xlink:href=\"#DejaVuSans-48\"/>\n     <use x=\"159.033203\" xlink:href=\"#DejaVuSans-51\"/>\n    </g>\n   </g>\n   <g id=\"text_150\">\n    <!-- -0.01 -->\n    <g style=\"fill:#ffffff;\" transform=\"translate(239.999531 365.118594)scale(0.1 -0.1)\">\n     <use xlink:href=\"#DejaVuSans-45\"/>\n     <use x=\"36.083984\" xlink:href=\"#DejaVuSans-48\"/>\n     <use x=\"99.707031\" xlink:href=\"#DejaVuSans-46\"/>\n     <use x=\"131.494141\" xlink:href=\"#DejaVuSans-48\"/>\n     <use x=\"195.117188\" xlink:href=\"#DejaVuSans-49\"/>\n    </g>\n   </g>\n   <g id=\"text_151\">\n    <!-- -0.02 -->\n    <g style=\"fill:#ffffff;\" transform=\"translate(269.759531 365.118594)scale(0.1 -0.1)\">\n     <use xlink:href=\"#DejaVuSans-45\"/>\n     <use x=\"36.083984\" xlink:href=\"#DejaVuSans-48\"/>\n     <use x=\"99.707031\" xlink:href=\"#DejaVuSans-46\"/>\n     <use x=\"131.494141\" xlink:href=\"#DejaVuSans-48\"/>\n     <use x=\"195.117188\" xlink:href=\"#DejaVuSans-50\"/>\n    </g>\n   </g>\n   <g id=\"text_152\">\n    <!-- -0.26 -->\n    <g style=\"fill:#ffffff;\" transform=\"translate(299.519531 365.118594)scale(0.1 -0.1)\">\n     <use xlink:href=\"#DejaVuSans-45\"/>\n     <use x=\"36.083984\" xlink:href=\"#DejaVuSans-48\"/>\n     <use x=\"99.707031\" xlink:href=\"#DejaVuSans-46\"/>\n     <use x=\"131.494141\" xlink:href=\"#DejaVuSans-50\"/>\n     <use x=\"195.117188\" xlink:href=\"#DejaVuSans-54\"/>\n    </g>\n   </g>\n   <g id=\"text_153\">\n    <!-- -0.22 -->\n    <g style=\"fill:#ffffff;\" transform=\"translate(329.279531 365.118594)scale(0.1 -0.1)\">\n     <use xlink:href=\"#DejaVuSans-45\"/>\n     <use x=\"36.083984\" xlink:href=\"#DejaVuSans-48\"/>\n     <use x=\"99.707031\" xlink:href=\"#DejaVuSans-46\"/>\n     <use x=\"131.494141\" xlink:href=\"#DejaVuSans-50\"/>\n     <use x=\"195.117188\" xlink:href=\"#DejaVuSans-50\"/>\n    </g>\n   </g>\n   <g id=\"text_154\">\n    <!-- -0.01 -->\n    <g style=\"fill:#ffffff;\" transform=\"translate(359.039531 365.118594)scale(0.1 -0.1)\">\n     <use xlink:href=\"#DejaVuSans-45\"/>\n     <use x=\"36.083984\" xlink:href=\"#DejaVuSans-48\"/>\n     <use x=\"99.707031\" xlink:href=\"#DejaVuSans-46\"/>\n     <use x=\"131.494141\" xlink:href=\"#DejaVuSans-48\"/>\n     <use x=\"195.117188\" xlink:href=\"#DejaVuSans-49\"/>\n    </g>\n   </g>\n   <g id=\"text_155\">\n    <!-- 1.00 -->\n    <g style=\"fill:#262626;\" transform=\"translate(390.603438 365.118594)scale(0.1 -0.1)\">\n     <use xlink:href=\"#DejaVuSans-49\"/>\n     <use x=\"63.623047\" xlink:href=\"#DejaVuSans-46\"/>\n     <use x=\"95.410156\" xlink:href=\"#DejaVuSans-48\"/>\n     <use x=\"159.033203\" xlink:href=\"#DejaVuSans-48\"/>\n    </g>\n   </g>\n   <g id=\"text_156\">\n    <!-- 1.00 -->\n    <g style=\"fill:#262626;\" transform=\"translate(420.363438 365.118594)scale(0.1 -0.1)\">\n     <use xlink:href=\"#DejaVuSans-49\"/>\n     <use x=\"63.623047\" xlink:href=\"#DejaVuSans-46\"/>\n     <use x=\"95.410156\" xlink:href=\"#DejaVuSans-48\"/>\n     <use x=\"159.033203\" xlink:href=\"#DejaVuSans-48\"/>\n    </g>\n   </g>\n   <g id=\"text_157\">\n    <!-- -0.21 -->\n    <g style=\"fill:#ffffff;\" transform=\"translate(91.199531 394.878594)scale(0.1 -0.1)\">\n     <use xlink:href=\"#DejaVuSans-45\"/>\n     <use x=\"36.083984\" xlink:href=\"#DejaVuSans-48\"/>\n     <use x=\"99.707031\" xlink:href=\"#DejaVuSans-46\"/>\n     <use x=\"131.494141\" xlink:href=\"#DejaVuSans-50\"/>\n     <use x=\"195.117188\" xlink:href=\"#DejaVuSans-49\"/>\n    </g>\n   </g>\n   <g id=\"text_158\">\n    <!-- 0.06 -->\n    <g style=\"fill:#ffffff;\" transform=\"translate(122.763438 394.878594)scale(0.1 -0.1)\">\n     <use xlink:href=\"#DejaVuSans-48\"/>\n     <use x=\"63.623047\" xlink:href=\"#DejaVuSans-46\"/>\n     <use x=\"95.410156\" xlink:href=\"#DejaVuSans-48\"/>\n     <use x=\"159.033203\" xlink:href=\"#DejaVuSans-54\"/>\n    </g>\n   </g>\n   <g id=\"text_159\">\n    <!-- 0.05 -->\n    <g style=\"fill:#ffffff;\" transform=\"translate(152.523438 394.878594)scale(0.1 -0.1)\">\n     <use xlink:href=\"#DejaVuSans-48\"/>\n     <use x=\"63.623047\" xlink:href=\"#DejaVuSans-46\"/>\n     <use x=\"95.410156\" xlink:href=\"#DejaVuSans-48\"/>\n     <use x=\"159.033203\" xlink:href=\"#DejaVuSans-53\"/>\n    </g>\n   </g>\n   <g id=\"text_160\">\n    <!-- 0.06 -->\n    <g style=\"fill:#ffffff;\" transform=\"translate(182.283438 394.878594)scale(0.1 -0.1)\">\n     <use xlink:href=\"#DejaVuSans-48\"/>\n     <use x=\"63.623047\" xlink:href=\"#DejaVuSans-46\"/>\n     <use x=\"95.410156\" xlink:href=\"#DejaVuSans-48\"/>\n     <use x=\"159.033203\" xlink:href=\"#DejaVuSans-54\"/>\n    </g>\n   </g>\n   <g id=\"text_161\">\n    <!-- 0.03 -->\n    <g style=\"fill:#ffffff;\" transform=\"translate(212.043438 394.878594)scale(0.1 -0.1)\">\n     <use xlink:href=\"#DejaVuSans-48\"/>\n     <use x=\"63.623047\" xlink:href=\"#DejaVuSans-46\"/>\n     <use x=\"95.410156\" xlink:href=\"#DejaVuSans-48\"/>\n     <use x=\"159.033203\" xlink:href=\"#DejaVuSans-51\"/>\n    </g>\n   </g>\n   <g id=\"text_162\">\n    <!-- -0.01 -->\n    <g style=\"fill:#ffffff;\" transform=\"translate(239.999531 394.878594)scale(0.1 -0.1)\">\n     <use xlink:href=\"#DejaVuSans-45\"/>\n     <use x=\"36.083984\" xlink:href=\"#DejaVuSans-48\"/>\n     <use x=\"99.707031\" xlink:href=\"#DejaVuSans-46\"/>\n     <use x=\"131.494141\" xlink:href=\"#DejaVuSans-48\"/>\n     <use x=\"195.117188\" xlink:href=\"#DejaVuSans-49\"/>\n    </g>\n   </g>\n   <g id=\"text_163\">\n    <!-- -0.02 -->\n    <g style=\"fill:#ffffff;\" transform=\"translate(269.759531 394.878594)scale(0.1 -0.1)\">\n     <use xlink:href=\"#DejaVuSans-45\"/>\n     <use x=\"36.083984\" xlink:href=\"#DejaVuSans-48\"/>\n     <use x=\"99.707031\" xlink:href=\"#DejaVuSans-46\"/>\n     <use x=\"131.494141\" xlink:href=\"#DejaVuSans-48\"/>\n     <use x=\"195.117188\" xlink:href=\"#DejaVuSans-50\"/>\n    </g>\n   </g>\n   <g id=\"text_164\">\n    <!-- -0.26 -->\n    <g style=\"fill:#ffffff;\" transform=\"translate(299.519531 394.878594)scale(0.1 -0.1)\">\n     <use xlink:href=\"#DejaVuSans-45\"/>\n     <use x=\"36.083984\" xlink:href=\"#DejaVuSans-48\"/>\n     <use x=\"99.707031\" xlink:href=\"#DejaVuSans-46\"/>\n     <use x=\"131.494141\" xlink:href=\"#DejaVuSans-50\"/>\n     <use x=\"195.117188\" xlink:href=\"#DejaVuSans-54\"/>\n    </g>\n   </g>\n   <g id=\"text_165\">\n    <!-- -0.22 -->\n    <g style=\"fill:#ffffff;\" transform=\"translate(329.279531 394.878594)scale(0.1 -0.1)\">\n     <use xlink:href=\"#DejaVuSans-45\"/>\n     <use x=\"36.083984\" xlink:href=\"#DejaVuSans-48\"/>\n     <use x=\"99.707031\" xlink:href=\"#DejaVuSans-46\"/>\n     <use x=\"131.494141\" xlink:href=\"#DejaVuSans-50\"/>\n     <use x=\"195.117188\" xlink:href=\"#DejaVuSans-50\"/>\n    </g>\n   </g>\n   <g id=\"text_166\">\n    <!-- -0.01 -->\n    <g style=\"fill:#ffffff;\" transform=\"translate(359.039531 394.878594)scale(0.1 -0.1)\">\n     <use xlink:href=\"#DejaVuSans-45\"/>\n     <use x=\"36.083984\" xlink:href=\"#DejaVuSans-48\"/>\n     <use x=\"99.707031\" xlink:href=\"#DejaVuSans-46\"/>\n     <use x=\"131.494141\" xlink:href=\"#DejaVuSans-48\"/>\n     <use x=\"195.117188\" xlink:href=\"#DejaVuSans-49\"/>\n    </g>\n   </g>\n   <g id=\"text_167\">\n    <!-- 1.00 -->\n    <g style=\"fill:#262626;\" transform=\"translate(390.603438 394.878594)scale(0.1 -0.1)\">\n     <use xlink:href=\"#DejaVuSans-49\"/>\n     <use x=\"63.623047\" xlink:href=\"#DejaVuSans-46\"/>\n     <use x=\"95.410156\" xlink:href=\"#DejaVuSans-48\"/>\n     <use x=\"159.033203\" xlink:href=\"#DejaVuSans-48\"/>\n    </g>\n   </g>\n   <g id=\"text_168\">\n    <!-- 1.00 -->\n    <g style=\"fill:#262626;\" transform=\"translate(420.363438 394.878594)scale(0.1 -0.1)\">\n     <use xlink:href=\"#DejaVuSans-49\"/>\n     <use x=\"63.623047\" xlink:href=\"#DejaVuSans-46\"/>\n     <use x=\"95.410156\" xlink:href=\"#DejaVuSans-48\"/>\n     <use x=\"159.033203\" xlink:href=\"#DejaVuSans-48\"/>\n    </g>\n   </g>\n  </g>\n  <g id=\"axes_2\">\n   <g id=\"patch_3\">\n    <path clip-path=\"url(#pd45e789b8e)\" d=\"M 468.69625 445.879219 \nL 468.69625 445.026513 \nL 468.69625 11.851925 \nL 468.69625 10.999219 \nL 490.44025 10.999219 \nL 490.44025 11.851925 \nL 490.44025 445.026513 \nL 490.44025 445.879219 \nz\n\" style=\"fill:#ffffff;stroke:#ffffff;stroke-linejoin:miter;stroke-width:0.01;\"/>\n   </g>\n   <image height=\"435\" id=\"imagebceeaa9fd4\" transform=\"scale(1 -1)translate(0 -435)\" width=\"21\" x=\"469\" xlink:href=\"data:image/png;base64,\niVBORw0KGgoAAAANSUhEUgAAABUAAAGzCAYAAADAJVzRAAAABHNCSVQICAgIfAhkiAAAAr9JREFUeJzt3MER20AMQ1HJVv/95Zo6YilN8B3+UC4AAxIExF1bPv/++fscw59rHFGBfgDmcT3HPNe3fAEKmqqGPzJS1wOaet0CNCSUmVPA9Hcv9z4Z/nFMZNMfsSkJlHFIF33jmCXvd5LfMBXqE6bI++OYpTztpBTy/jjmeu+bBa1j03nMV32TpwC0s0sh9QEoUr/S0w7ocu+jy64K6L1c/Q7oK9Rm0N3qg1UqtaGIBa3UUwB6dFbJkPqgp4SpKf8nQJf3tOP9jE1J+Ub9Tk/FgvaGNAAlQmXU3z5SRv1xzFJIG6akp8amGaHMJcLq8rePlGEqQH8Zph31O4Fyzz9PUltfZ07FSIFvuEPlo+sOYtP5KzR101sRikRfJ6QfcIekRqrC9BBMH+F9ZNOKox5wjDbl3yb5hVDmd31CKKE+epnl3zzocvWJ92/wHSea091CoTcOd6ufyVM0UmJBy/wpwNEZqd1MkVAdULJKCqZnR/35z3WI8p+zYtPzOAEoUMr8G45ges13FAm1vaeHGH7RVGTTcUg2UpXyrw9helbKz0SfEQqpP45ZchRh+g05qsL0k+npd3tIZ9Ye0VOk/jhmSygBujv5P5mempAm5W9XX4AKph2bkvJDIU3Kz4B2Rgo9ogHoF0x/qPyQ+sSmRP15zFJPQ0Jlyl8Oulx9cIwqld9Rf7lQBjSjfgf0EAfez3cc87WpEIqUT0L6AMfo7TZFIS2YkpHabVNzJy2SvzP8iKkYKbJLmZAmjuqkFGFKRmq1+p2UOsFNd6mnZPg75S9X3zxNKz09M0xJT0uPE1G+8X5lpE7C1Bx45w9SoTkteV8wJeqbtYcIVQkUFNLE+69Q06CkfJT8hOmr/jhoR/2M99HWB4RCPd29S5E3Dz7XPGgp+gRTIVTowWdeD6swDd31ZYafRN9bPgDN/MmKYPof33y/aTHuBRMAAAAASUVORK5CYII=\" y=\"-11\"/>\n   <g id=\"matplotlib.axis_3\"/>\n   <g id=\"matplotlib.axis_4\">\n    <g id=\"ytick_13\">\n     <g id=\"line2d_25\">\n      <defs>\n       <path d=\"M 0 0 \nL 3.5 0 \n\" id=\"mdd4b143927\" style=\"stroke:#000000;stroke-width:0.8;\"/>\n      </defs>\n      <g>\n       <use style=\"stroke:#000000;stroke-width:0.8;\" x=\"490.44025\" xlink:href=\"#mdd4b143927\" y=\"445.879219\"/>\n      </g>\n     </g>\n     <g id=\"text_169\">\n      <!-- −1.00 -->\n      <defs>\n       <path d=\"M 10.59375 35.5 \nL 73.1875 35.5 \nL 73.1875 27.203125 \nL 10.59375 27.203125 \nz\n\" id=\"DejaVuSans-8722\"/>\n      </defs>\n      <g transform=\"translate(497.44025 449.678437)scale(0.1 -0.1)\">\n       <use xlink:href=\"#DejaVuSans-8722\"/>\n       <use x=\"83.789062\" xlink:href=\"#DejaVuSans-49\"/>\n       <use x=\"147.412109\" xlink:href=\"#DejaVuSans-46\"/>\n       <use x=\"179.199219\" xlink:href=\"#DejaVuSans-48\"/>\n       <use x=\"242.822266\" xlink:href=\"#DejaVuSans-48\"/>\n      </g>\n     </g>\n    </g>\n    <g id=\"ytick_14\">\n     <g id=\"line2d_26\">\n      <g>\n       <use style=\"stroke:#000000;stroke-width:0.8;\" x=\"490.44025\" xlink:href=\"#mdd4b143927\" y=\"391.519219\"/>\n      </g>\n     </g>\n     <g id=\"text_170\">\n      <!-- −0.75 -->\n      <g transform=\"translate(497.44025 395.318437)scale(0.1 -0.1)\">\n       <use xlink:href=\"#DejaVuSans-8722\"/>\n       <use x=\"83.789062\" xlink:href=\"#DejaVuSans-48\"/>\n       <use x=\"147.412109\" xlink:href=\"#DejaVuSans-46\"/>\n       <use x=\"179.199219\" xlink:href=\"#DejaVuSans-55\"/>\n       <use x=\"242.822266\" xlink:href=\"#DejaVuSans-53\"/>\n      </g>\n     </g>\n    </g>\n    <g id=\"ytick_15\">\n     <g id=\"line2d_27\">\n      <g>\n       <use style=\"stroke:#000000;stroke-width:0.8;\" x=\"490.44025\" xlink:href=\"#mdd4b143927\" y=\"337.159219\"/>\n      </g>\n     </g>\n     <g id=\"text_171\">\n      <!-- −0.50 -->\n      <g transform=\"translate(497.44025 340.958437)scale(0.1 -0.1)\">\n       <use xlink:href=\"#DejaVuSans-8722\"/>\n       <use x=\"83.789062\" xlink:href=\"#DejaVuSans-48\"/>\n       <use x=\"147.412109\" xlink:href=\"#DejaVuSans-46\"/>\n       <use x=\"179.199219\" xlink:href=\"#DejaVuSans-53\"/>\n       <use x=\"242.822266\" xlink:href=\"#DejaVuSans-48\"/>\n      </g>\n     </g>\n    </g>\n    <g id=\"ytick_16\">\n     <g id=\"line2d_28\">\n      <g>\n       <use style=\"stroke:#000000;stroke-width:0.8;\" x=\"490.44025\" xlink:href=\"#mdd4b143927\" y=\"282.799219\"/>\n      </g>\n     </g>\n     <g id=\"text_172\">\n      <!-- −0.25 -->\n      <g transform=\"translate(497.44025 286.598437)scale(0.1 -0.1)\">\n       <use xlink:href=\"#DejaVuSans-8722\"/>\n       <use x=\"83.789062\" xlink:href=\"#DejaVuSans-48\"/>\n       <use x=\"147.412109\" xlink:href=\"#DejaVuSans-46\"/>\n       <use x=\"179.199219\" xlink:href=\"#DejaVuSans-50\"/>\n       <use x=\"242.822266\" xlink:href=\"#DejaVuSans-53\"/>\n      </g>\n     </g>\n    </g>\n    <g id=\"ytick_17\">\n     <g id=\"line2d_29\">\n      <g>\n       <use style=\"stroke:#000000;stroke-width:0.8;\" x=\"490.44025\" xlink:href=\"#mdd4b143927\" y=\"228.439219\"/>\n      </g>\n     </g>\n     <g id=\"text_173\">\n      <!-- 0.00 -->\n      <g transform=\"translate(497.44025 232.238437)scale(0.1 -0.1)\">\n       <use xlink:href=\"#DejaVuSans-48\"/>\n       <use x=\"63.623047\" xlink:href=\"#DejaVuSans-46\"/>\n       <use x=\"95.410156\" xlink:href=\"#DejaVuSans-48\"/>\n       <use x=\"159.033203\" xlink:href=\"#DejaVuSans-48\"/>\n      </g>\n     </g>\n    </g>\n    <g id=\"ytick_18\">\n     <g id=\"line2d_30\">\n      <g>\n       <use style=\"stroke:#000000;stroke-width:0.8;\" x=\"490.44025\" xlink:href=\"#mdd4b143927\" y=\"174.079219\"/>\n      </g>\n     </g>\n     <g id=\"text_174\">\n      <!-- 0.25 -->\n      <g transform=\"translate(497.44025 177.878437)scale(0.1 -0.1)\">\n       <use xlink:href=\"#DejaVuSans-48\"/>\n       <use x=\"63.623047\" xlink:href=\"#DejaVuSans-46\"/>\n       <use x=\"95.410156\" xlink:href=\"#DejaVuSans-50\"/>\n       <use x=\"159.033203\" xlink:href=\"#DejaVuSans-53\"/>\n      </g>\n     </g>\n    </g>\n    <g id=\"ytick_19\">\n     <g id=\"line2d_31\">\n      <g>\n       <use style=\"stroke:#000000;stroke-width:0.8;\" x=\"490.44025\" xlink:href=\"#mdd4b143927\" y=\"119.719219\"/>\n      </g>\n     </g>\n     <g id=\"text_175\">\n      <!-- 0.50 -->\n      <g transform=\"translate(497.44025 123.518437)scale(0.1 -0.1)\">\n       <use xlink:href=\"#DejaVuSans-48\"/>\n       <use x=\"63.623047\" xlink:href=\"#DejaVuSans-46\"/>\n       <use x=\"95.410156\" xlink:href=\"#DejaVuSans-53\"/>\n       <use x=\"159.033203\" xlink:href=\"#DejaVuSans-48\"/>\n      </g>\n     </g>\n    </g>\n    <g id=\"ytick_20\">\n     <g id=\"line2d_32\">\n      <g>\n       <use style=\"stroke:#000000;stroke-width:0.8;\" x=\"490.44025\" xlink:href=\"#mdd4b143927\" y=\"65.359219\"/>\n      </g>\n     </g>\n     <g id=\"text_176\">\n      <!-- 0.75 -->\n      <g transform=\"translate(497.44025 69.158437)scale(0.1 -0.1)\">\n       <use xlink:href=\"#DejaVuSans-48\"/>\n       <use x=\"63.623047\" xlink:href=\"#DejaVuSans-46\"/>\n       <use x=\"95.410156\" xlink:href=\"#DejaVuSans-55\"/>\n       <use x=\"159.033203\" xlink:href=\"#DejaVuSans-53\"/>\n      </g>\n     </g>\n    </g>\n    <g id=\"ytick_21\">\n     <g id=\"line2d_33\">\n      <g>\n       <use style=\"stroke:#000000;stroke-width:0.8;\" x=\"490.44025\" xlink:href=\"#mdd4b143927\" y=\"10.999219\"/>\n      </g>\n     </g>\n     <g id=\"text_177\">\n      <!-- 1.00 -->\n      <g transform=\"translate(497.44025 14.798437)scale(0.1 -0.1)\">\n       <use xlink:href=\"#DejaVuSans-49\"/>\n       <use x=\"63.623047\" xlink:href=\"#DejaVuSans-46\"/>\n       <use x=\"95.410156\" xlink:href=\"#DejaVuSans-48\"/>\n       <use x=\"159.033203\" xlink:href=\"#DejaVuSans-48\"/>\n      </g>\n     </g>\n    </g>\n   </g>\n   <g id=\"patch_4\">\n    <path d=\"M 468.69625 445.879219 \nL 468.69625 445.026513 \nL 468.69625 11.851925 \nL 468.69625 10.999219 \nL 490.44025 10.999219 \nL 490.44025 11.851925 \nL 490.44025 445.026513 \nL 490.44025 445.879219 \nz\n\" style=\"fill:none;\"/>\n   </g>\n  </g>\n </g>\n <defs>\n  <clipPath id=\"p5999119ac5\">\n   <rect height=\"357.12\" width=\"357.12\" x=\"89.25625\" y=\"49.879219\"/>\n  </clipPath>\n  <clipPath id=\"pd45e789b8e\">\n   <rect height=\"434.88\" width=\"21.744\" x=\"468.69625\" y=\"10.999219\"/>\n  </clipPath>\n </defs>\n</svg>\n"
          },
          "metadata": {
            "needs_background": "light"
          }
        }
      ]
    },
    {
      "cell_type": "markdown",
      "metadata": {
        "id": "JJOKR_BM0Sc7"
      },
      "source": [
        "."
      ],
      "id": "JJOKR_BM0Sc7"
    },
    {
      "cell_type": "markdown",
      "metadata": {
        "id": "IGLNbMOr0UA0"
      },
      "source": [
        "."
      ],
      "id": "IGLNbMOr0UA0"
    },
    {
      "cell_type": "markdown",
      "metadata": {
        "id": "1-0MPY9e4Rbu"
      },
      "source": [
        "# **Step 7: Linear Regression**"
      ],
      "id": "1-0MPY9e4Rbu"
    },
    {
      "cell_type": "markdown",
      "metadata": {
        "id": "0P9p2K0fjzhl"
      },
      "source": [
        "**7.1 Fit a linear regression model on the train data set**"
      ],
      "id": "0P9p2K0fjzhl"
    },
    {
      "cell_type": "markdown",
      "metadata": {
        "id": "Dz1W-Bn0qu-a"
      },
      "source": [
        "Because our training dataset is completely separated from the test dataest , we will define them separately."
      ],
      "id": "Dz1W-Bn0qu-a"
    },
    {
      "cell_type": "code",
      "metadata": {
        "id": "dGyNelUjkTkI"
      },
      "source": [
        "#Separate our features from our target in train dataset\n",
        "\n",
        "x_train = stock_train.loc[:,['open', 'high', 'low', 'change',]]\n",
        "y_train = stock_train['close']"
      ],
      "id": "dGyNelUjkTkI",
      "execution_count": 44,
      "outputs": []
    },
    {
      "cell_type": "code",
      "metadata": {
        "id": "NL2bqTR46z9k",
        "colab": {
          "base_uri": "https://localhost:8080/",
          "height": 206
        },
        "outputId": "dbf1b63f-b2d9-4cc5-b1cc-10302d89e0cf"
      },
      "source": [
        "x_train.head()"
      ],
      "id": "NL2bqTR46z9k",
      "execution_count": 45,
      "outputs": [
        {
          "output_type": "execute_result",
          "data": {
            "text/html": [
              "<div>\n",
              "<style scoped>\n",
              "    .dataframe tbody tr th:only-of-type {\n",
              "        vertical-align: middle;\n",
              "    }\n",
              "\n",
              "    .dataframe tbody tr th {\n",
              "        vertical-align: top;\n",
              "    }\n",
              "\n",
              "    .dataframe thead th {\n",
              "        text-align: right;\n",
              "    }\n",
              "</style>\n",
              "<table border=\"1\" class=\"dataframe\">\n",
              "  <thead>\n",
              "    <tr style=\"text-align: right;\">\n",
              "      <th></th>\n",
              "      <th>open</th>\n",
              "      <th>high</th>\n",
              "      <th>low</th>\n",
              "      <th>change</th>\n",
              "    </tr>\n",
              "  </thead>\n",
              "  <tbody>\n",
              "    <tr>\n",
              "      <th>0</th>\n",
              "      <td>35.55</td>\n",
              "      <td>35.85</td>\n",
              "      <td>34.90</td>\n",
              "      <td>-0.40</td>\n",
              "    </tr>\n",
              "    <tr>\n",
              "      <th>1</th>\n",
              "      <td>34.70</td>\n",
              "      <td>35.65</td>\n",
              "      <td>34.50</td>\n",
              "      <td>0.25</td>\n",
              "    </tr>\n",
              "    <tr>\n",
              "      <th>2</th>\n",
              "      <td>34.70</td>\n",
              "      <td>35.15</td>\n",
              "      <td>34.70</td>\n",
              "      <td>1.05</td>\n",
              "    </tr>\n",
              "    <tr>\n",
              "      <th>3</th>\n",
              "      <td>35.20</td>\n",
              "      <td>35.65</td>\n",
              "      <td>34.00</td>\n",
              "      <td>-0.55</td>\n",
              "    </tr>\n",
              "    <tr>\n",
              "      <th>4</th>\n",
              "      <td>35.35</td>\n",
              "      <td>35.60</td>\n",
              "      <td>34.25</td>\n",
              "      <td>-2.05</td>\n",
              "    </tr>\n",
              "  </tbody>\n",
              "</table>\n",
              "</div>"
            ],
            "text/plain": [
              "    open   high    low  change\n",
              "0  35.55  35.85  34.90   -0.40\n",
              "1  34.70  35.65  34.50    0.25\n",
              "2  34.70  35.15  34.70    1.05\n",
              "3  35.20  35.65  34.00   -0.55\n",
              "4  35.35  35.60  34.25   -2.05"
            ]
          },
          "metadata": {},
          "execution_count": 45
        }
      ]
    },
    {
      "cell_type": "code",
      "metadata": {
        "id": "bZqazZP8mt5Y",
        "colab": {
          "base_uri": "https://localhost:8080/"
        },
        "outputId": "36d76dfb-5c1c-45e3-8edf-3cdcadcdc1f9"
      },
      "source": [
        "y_train.head()"
      ],
      "id": "bZqazZP8mt5Y",
      "execution_count": 46,
      "outputs": [
        {
          "output_type": "execute_result",
          "data": {
            "text/plain": [
              "0    34.90\n",
              "1    35.30\n",
              "2    35.05\n",
              "3    34.00\n",
              "4    34.55\n",
              "Name: close, dtype: float64"
            ]
          },
          "metadata": {},
          "execution_count": 46
        }
      ]
    },
    {
      "cell_type": "code",
      "metadata": {
        "id": "sfd62qbfpv8F"
      },
      "source": [
        "#Separate our features from our target in test dataset \n",
        "x_test = stock_test.loc[:,['open', 'high', 'low', 'change',]]\n",
        "y_test = stock_test['close']"
      ],
      "id": "sfd62qbfpv8F",
      "execution_count": 47,
      "outputs": []
    },
    {
      "cell_type": "code",
      "metadata": {
        "id": "nDaqUZQxrgzt",
        "colab": {
          "base_uri": "https://localhost:8080/",
          "height": 206
        },
        "outputId": "cc7748c8-c457-46dd-8b02-7dc2b0c52459"
      },
      "source": [
        "x_test.head()"
      ],
      "id": "nDaqUZQxrgzt",
      "execution_count": 48,
      "outputs": [
        {
          "output_type": "execute_result",
          "data": {
            "text/html": [
              "<div>\n",
              "<style scoped>\n",
              "    .dataframe tbody tr th:only-of-type {\n",
              "        vertical-align: middle;\n",
              "    }\n",
              "\n",
              "    .dataframe tbody tr th {\n",
              "        vertical-align: top;\n",
              "    }\n",
              "\n",
              "    .dataframe thead th {\n",
              "        text-align: right;\n",
              "    }\n",
              "</style>\n",
              "<table border=\"1\" class=\"dataframe\">\n",
              "  <thead>\n",
              "    <tr style=\"text-align: right;\">\n",
              "      <th></th>\n",
              "      <th>open</th>\n",
              "      <th>high</th>\n",
              "      <th>low</th>\n",
              "      <th>change</th>\n",
              "    </tr>\n",
              "  </thead>\n",
              "  <tbody>\n",
              "    <tr>\n",
              "      <th>0</th>\n",
              "      <td>31.8</td>\n",
              "      <td>31.8</td>\n",
              "      <td>31.45</td>\n",
              "      <td>0.25</td>\n",
              "    </tr>\n",
              "    <tr>\n",
              "      <th>1</th>\n",
              "      <td>30.5</td>\n",
              "      <td>31.4</td>\n",
              "      <td>30.30</td>\n",
              "      <td>-0.35</td>\n",
              "    </tr>\n",
              "    <tr>\n",
              "      <th>2</th>\n",
              "      <td>31.7</td>\n",
              "      <td>32.3</td>\n",
              "      <td>31.30</td>\n",
              "      <td>-0.75</td>\n",
              "    </tr>\n",
              "    <tr>\n",
              "      <th>3</th>\n",
              "      <td>32.7</td>\n",
              "      <td>32.9</td>\n",
              "      <td>32.10</td>\n",
              "      <td>-0.25</td>\n",
              "    </tr>\n",
              "    <tr>\n",
              "      <th>4</th>\n",
              "      <td>32.5</td>\n",
              "      <td>32.8</td>\n",
              "      <td>32.45</td>\n",
              "      <td>0.50</td>\n",
              "    </tr>\n",
              "  </tbody>\n",
              "</table>\n",
              "</div>"
            ],
            "text/plain": [
              "   open  high    low  change\n",
              "0  31.8  31.8  31.45    0.25\n",
              "1  30.5  31.4  30.30   -0.35\n",
              "2  31.7  32.3  31.30   -0.75\n",
              "3  32.7  32.9  32.10   -0.25\n",
              "4  32.5  32.8  32.45    0.50"
            ]
          },
          "metadata": {},
          "execution_count": 48
        }
      ]
    },
    {
      "cell_type": "code",
      "metadata": {
        "id": "R9JuzdfBrnLb",
        "colab": {
          "base_uri": "https://localhost:8080/"
        },
        "outputId": "734a21f8-fe3a-4827-b34e-0523fa5053df"
      },
      "source": [
        "y_test.head()"
      ],
      "id": "R9JuzdfBrnLb",
      "execution_count": 49,
      "outputs": [
        {
          "output_type": "execute_result",
          "data": {
            "text/plain": [
              "0    31.60\n",
              "1    31.35\n",
              "2    31.70\n",
              "3    32.45\n",
              "4    32.70\n",
              "Name: close, dtype: float64"
            ]
          },
          "metadata": {},
          "execution_count": 49
        }
      ]
    },
    {
      "cell_type": "markdown",
      "metadata": {
        "id": "WVQx4zpQrvmi"
      },
      "source": [
        "."
      ],
      "id": "WVQx4zpQrvmi"
    },
    {
      "cell_type": "code",
      "metadata": {
        "id": "Bj5ioeHtPYJc",
        "colab": {
          "base_uri": "https://localhost:8080/",
          "height": 423
        },
        "outputId": "ca2043e3-5c24-4c3e-9a55-8188d2b0ef1b"
      },
      "source": [
        "#Create a validation set\n",
        "stock_train, stock_val = train_test_split(stock_train, test_size=0.25, random_state=10)\n",
        "stock_val"
      ],
      "id": "Bj5ioeHtPYJc",
      "execution_count": 50,
      "outputs": [
        {
          "output_type": "execute_result",
          "data": {
            "text/html": [
              "<div>\n",
              "<style scoped>\n",
              "    .dataframe tbody tr th:only-of-type {\n",
              "        vertical-align: middle;\n",
              "    }\n",
              "\n",
              "    .dataframe tbody tr th {\n",
              "        vertical-align: top;\n",
              "    }\n",
              "\n",
              "    .dataframe thead th {\n",
              "        text-align: right;\n",
              "    }\n",
              "</style>\n",
              "<table border=\"1\" class=\"dataframe\">\n",
              "  <thead>\n",
              "    <tr style=\"text-align: right;\">\n",
              "      <th></th>\n",
              "      <th>symbol</th>\n",
              "      <th>name</th>\n",
              "      <th>trading_name</th>\n",
              "      <th>sectoer</th>\n",
              "      <th>open</th>\n",
              "      <th>high</th>\n",
              "      <th>low</th>\n",
              "      <th>close</th>\n",
              "      <th>change</th>\n",
              "      <th>perc_Change</th>\n",
              "      <th>volume_traded</th>\n",
              "      <th>value_traded</th>\n",
              "      <th>no_trades</th>\n",
              "      <th>year</th>\n",
              "      <th>year_date</th>\n",
              "    </tr>\n",
              "  </thead>\n",
              "  <tbody>\n",
              "    <tr>\n",
              "      <th>7390</th>\n",
              "      <td>2380</td>\n",
              "      <td>Rabigh Refining and Petrochemical Co.</td>\n",
              "      <td>PETRO RABIGH</td>\n",
              "      <td>Energy</td>\n",
              "      <td>26.00</td>\n",
              "      <td>26.40</td>\n",
              "      <td>25.70</td>\n",
              "      <td>53.25</td>\n",
              "      <td>-1.50</td>\n",
              "      <td>-2.73</td>\n",
              "      <td>4927854.0</td>\n",
              "      <td>2.655545e+08</td>\n",
              "      <td>506.0</td>\n",
              "      <td>2008</td>\n",
              "      <td>2008</td>\n",
              "    </tr>\n",
              "    <tr>\n",
              "      <th>9475</th>\n",
              "      <td>4030</td>\n",
              "      <td>National Shipping Company of Saudi Arabia</td>\n",
              "      <td>BAHRI</td>\n",
              "      <td>Energy</td>\n",
              "      <td>15.45</td>\n",
              "      <td>15.50</td>\n",
              "      <td>15.20</td>\n",
              "      <td>15.30</td>\n",
              "      <td>0.00</td>\n",
              "      <td>0.00</td>\n",
              "      <td>822224.0</td>\n",
              "      <td>1.262406e+07</td>\n",
              "      <td>287.0</td>\n",
              "      <td>2012</td>\n",
              "      <td>2012</td>\n",
              "    </tr>\n",
              "    <tr>\n",
              "      <th>27516</th>\n",
              "      <td>1304</td>\n",
              "      <td>Al Yamamah Steel Industries Co.</td>\n",
              "      <td>ALYAMAMAH STEEL</td>\n",
              "      <td>Materials</td>\n",
              "      <td>24.70</td>\n",
              "      <td>24.70</td>\n",
              "      <td>24.50</td>\n",
              "      <td>24.53</td>\n",
              "      <td>-0.29</td>\n",
              "      <td>-1.17</td>\n",
              "      <td>37313.0</td>\n",
              "      <td>9.191632e+05</td>\n",
              "      <td>76.0</td>\n",
              "      <td>2018</td>\n",
              "      <td>2018</td>\n",
              "    </tr>\n",
              "    <tr>\n",
              "      <th>13543</th>\n",
              "      <td>4200</td>\n",
              "      <td>Aldrees Petroleum and Transport Services Co.</td>\n",
              "      <td>ALDREES</td>\n",
              "      <td>Energy</td>\n",
              "      <td>40.83</td>\n",
              "      <td>40.83</td>\n",
              "      <td>38.83</td>\n",
              "      <td>40.33</td>\n",
              "      <td>-0.10</td>\n",
              "      <td>-0.25</td>\n",
              "      <td>1059792.0</td>\n",
              "      <td>4.242945e+07</td>\n",
              "      <td>479.0</td>\n",
              "      <td>2015</td>\n",
              "      <td>2015</td>\n",
              "    </tr>\n",
              "    <tr>\n",
              "      <th>51017</th>\n",
              "      <td>2090</td>\n",
              "      <td>National Gypsum Co.</td>\n",
              "      <td>NGC</td>\n",
              "      <td>Materials</td>\n",
              "      <td>12.12</td>\n",
              "      <td>12.18</td>\n",
              "      <td>12.06</td>\n",
              "      <td>12.06</td>\n",
              "      <td>-0.13</td>\n",
              "      <td>-1.07</td>\n",
              "      <td>66202.0</td>\n",
              "      <td>8.027343e+05</td>\n",
              "      <td>74.0</td>\n",
              "      <td>2017</td>\n",
              "      <td>2017</td>\n",
              "    </tr>\n",
              "    <tr>\n",
              "      <th>...</th>\n",
              "      <td>...</td>\n",
              "      <td>...</td>\n",
              "      <td>...</td>\n",
              "      <td>...</td>\n",
              "      <td>...</td>\n",
              "      <td>...</td>\n",
              "      <td>...</td>\n",
              "      <td>...</td>\n",
              "      <td>...</td>\n",
              "      <td>...</td>\n",
              "      <td>...</td>\n",
              "      <td>...</td>\n",
              "      <td>...</td>\n",
              "      <td>...</td>\n",
              "      <td>...</td>\n",
              "    </tr>\n",
              "    <tr>\n",
              "      <th>36460</th>\n",
              "      <td>2010</td>\n",
              "      <td>Saudi Basic Industries Corp.</td>\n",
              "      <td>SABIC</td>\n",
              "      <td>Materials</td>\n",
              "      <td>26.00</td>\n",
              "      <td>26.40</td>\n",
              "      <td>25.70</td>\n",
              "      <td>26.00</td>\n",
              "      <td>0.00</td>\n",
              "      <td>0.00</td>\n",
              "      <td>4301579.0</td>\n",
              "      <td>5.570584e+08</td>\n",
              "      <td>506.0</td>\n",
              "      <td>2018</td>\n",
              "      <td>2018</td>\n",
              "    </tr>\n",
              "    <tr>\n",
              "      <th>15563</th>\n",
              "      <td>4200</td>\n",
              "      <td>Aldrees Petroleum and Transport Services Co.</td>\n",
              "      <td>ALDREES</td>\n",
              "      <td>Energy</td>\n",
              "      <td>23.75</td>\n",
              "      <td>23.92</td>\n",
              "      <td>23.50</td>\n",
              "      <td>23.53</td>\n",
              "      <td>0.00</td>\n",
              "      <td>0.00</td>\n",
              "      <td>8849333.0</td>\n",
              "      <td>2.096411e+08</td>\n",
              "      <td>506.0</td>\n",
              "      <td>2007</td>\n",
              "      <td>2007</td>\n",
              "    </tr>\n",
              "    <tr>\n",
              "      <th>29072</th>\n",
              "      <td>1320</td>\n",
              "      <td>Saudi Steel Pipe Co.</td>\n",
              "      <td>SSP</td>\n",
              "      <td>Materials</td>\n",
              "      <td>27.20</td>\n",
              "      <td>27.30</td>\n",
              "      <td>26.70</td>\n",
              "      <td>27.20</td>\n",
              "      <td>-0.09</td>\n",
              "      <td>-0.33</td>\n",
              "      <td>39948.0</td>\n",
              "      <td>1.079845e+06</td>\n",
              "      <td>76.0</td>\n",
              "      <td>2015</td>\n",
              "      <td>2015</td>\n",
              "    </tr>\n",
              "    <tr>\n",
              "      <th>31382</th>\n",
              "      <td>2001</td>\n",
              "      <td>Methanol Chemicals Co.</td>\n",
              "      <td>CHEMANOL</td>\n",
              "      <td>Materials</td>\n",
              "      <td>6.55</td>\n",
              "      <td>6.55</td>\n",
              "      <td>6.35</td>\n",
              "      <td>6.50</td>\n",
              "      <td>0.00</td>\n",
              "      <td>0.00</td>\n",
              "      <td>4112453.0</td>\n",
              "      <td>2.649779e+07</td>\n",
              "      <td>733.0</td>\n",
              "      <td>2016</td>\n",
              "      <td>2016</td>\n",
              "    </tr>\n",
              "    <tr>\n",
              "      <th>14206</th>\n",
              "      <td>4200</td>\n",
              "      <td>Aldrees Petroleum and Transport Services Co.</td>\n",
              "      <td>ALDREES</td>\n",
              "      <td>Energy</td>\n",
              "      <td>17.13</td>\n",
              "      <td>17.13</td>\n",
              "      <td>16.92</td>\n",
              "      <td>17.13</td>\n",
              "      <td>0.00</td>\n",
              "      <td>0.00</td>\n",
              "      <td>260514.0</td>\n",
              "      <td>4.444009e+06</td>\n",
              "      <td>111.0</td>\n",
              "      <td>2012</td>\n",
              "      <td>2012</td>\n",
              "    </tr>\n",
              "  </tbody>\n",
              "</table>\n",
              "<p>12804 rows × 15 columns</p>\n",
              "</div>"
            ],
            "text/plain": [
              "       symbol                                          name  ...  year year_date\n",
              "7390     2380         Rabigh Refining and Petrochemical Co.  ...  2008      2008\n",
              "9475     4030     National Shipping Company of Saudi Arabia  ...  2012      2012\n",
              "27516    1304               Al Yamamah Steel Industries Co.  ...  2018      2018\n",
              "13543    4200  Aldrees Petroleum and Transport Services Co.  ...  2015      2015\n",
              "51017    2090                           National Gypsum Co.  ...  2017      2017\n",
              "...       ...                                           ...  ...   ...       ...\n",
              "36460    2010                  Saudi Basic Industries Corp.  ...  2018      2018\n",
              "15563    4200  Aldrees Petroleum and Transport Services Co.  ...  2007      2007\n",
              "29072    1320                          Saudi Steel Pipe Co.  ...  2015      2015\n",
              "31382    2001                        Methanol Chemicals Co.  ...  2016      2016\n",
              "14206    4200  Aldrees Petroleum and Transport Services Co.  ...  2012      2012\n",
              "\n",
              "[12804 rows x 15 columns]"
            ]
          },
          "metadata": {},
          "execution_count": 50
        }
      ]
    },
    {
      "cell_type": "code",
      "metadata": {
        "id": "R_NITbEcsGgi"
      },
      "source": [
        "x_train, x_stock_val , y_train, y_stock_val = train_test_split(x_train, y_train, test_size=.25, random_state=3)"
      ],
      "id": "R_NITbEcsGgi",
      "execution_count": 51,
      "outputs": []
    },
    {
      "cell_type": "markdown",
      "metadata": {
        "id": "9qD_phgat_zL"
      },
      "source": [
        "."
      ],
      "id": "9qD_phgat_zL"
    },
    {
      "cell_type": "markdown",
      "metadata": {
        "id": "G3Fex4JZCA_d"
      },
      "source": [
        "**7.2 Normalizing the Data**"
      ],
      "id": "G3Fex4JZCA_d"
    },
    {
      "cell_type": "code",
      "metadata": {
        "id": "SFbsHMYzACQ8",
        "colab": {
          "base_uri": "https://localhost:8080/"
        },
        "outputId": "04a123f7-2644-4340-ec14-fc32d5d4b964"
      },
      "source": [
        "feature_scale=['open','high', 'low', 'change']\n",
        "\n",
        "from sklearn.preprocessing import MinMaxScaler\n",
        "scaler=MinMaxScaler()\n",
        "scaler.fit(x_train[feature_scale])"
      ],
      "id": "SFbsHMYzACQ8",
      "execution_count": 52,
      "outputs": [
        {
          "output_type": "execute_result",
          "data": {
            "text/plain": [
              "MinMaxScaler()"
            ]
          },
          "metadata": {},
          "execution_count": 52
        }
      ]
    },
    {
      "cell_type": "code",
      "metadata": {
        "id": "k3SYuKVFBsXM",
        "colab": {
          "base_uri": "https://localhost:8080/"
        },
        "outputId": "f5af910c-3c6e-455f-8c03-2eb0dc4fc5b2"
      },
      "source": [
        "scaler.transform(x_train[feature_scale])"
      ],
      "id": "k3SYuKVFBsXM",
      "execution_count": 53,
      "outputs": [
        {
          "output_type": "execute_result",
          "data": {
            "text/plain": [
              "array([[0.41452514, 0.39225131, 0.41452514, 0.34927152],\n",
              "       [0.53072626, 0.50575916, 0.52402235, 0.36331126],\n",
              "       [0.30614525, 0.29633508, 0.30502793, 0.35258278],\n",
              "       ...,\n",
              "       [0.63128492, 0.59685864, 0.58100559, 0.30794702],\n",
              "       [0.53072626, 0.50575916, 0.52402235, 0.35099338],\n",
              "       [0.51731844, 0.49528796, 0.51731844, 0.34900662]])"
            ]
          },
          "metadata": {},
          "execution_count": 53
        }
      ]
    },
    {
      "cell_type": "code",
      "metadata": {
        "id": "dIkV9x2UDCG0",
        "colab": {
          "base_uri": "https://localhost:8080/"
        },
        "outputId": "6328861f-d52c-453d-83bd-fc405fe6d7ba"
      },
      "source": [
        "scaler.transform(x_stock_val[feature_scale])"
      ],
      "id": "dIkV9x2UDCG0",
      "execution_count": 54,
      "outputs": [
        {
          "output_type": "execute_result",
          "data": {
            "text/plain": [
              "array([[0.79441341, 0.75078534, 0.7877095 , 0.35033113],\n",
              "       [0.53072626, 0.50575916, 0.52402235, 0.34768212],\n",
              "       [0.46480447, 0.45445026, 0.46145251, 0.3589404 ],\n",
              "       ...,\n",
              "       [0.82569832, 0.78115183, 0.82122905, 0.34437086],\n",
              "       [0.59888268, 0.56125654, 0.59441341, 0.34609272],\n",
              "       [0.59776536, 0.56020942, 0.57541899, 0.3402649 ]])"
            ]
          },
          "metadata": {},
          "execution_count": 54
        }
      ]
    },
    {
      "cell_type": "code",
      "metadata": {
        "id": "CDQzRRAPDK1f",
        "colab": {
          "base_uri": "https://localhost:8080/"
        },
        "outputId": "2c6c7ecc-8064-4db6-ba21-bc5756c90d35"
      },
      "source": [
        "scaler.transform(x_test[feature_scale])"
      ],
      "id": "CDQzRRAPDK1f",
      "execution_count": 55,
      "outputs": [
        {
          "output_type": "execute_result",
          "data": {
            "text/plain": [
              "array([[0.6603352 , 0.61884817, 0.65251397, 0.35099338],\n",
              "       [0.63128492, 0.6104712 , 0.62681564, 0.34304636],\n",
              "       [0.65810056, 0.62931937, 0.64916201, 0.33774834],\n",
              "       ...,\n",
              "       [0.46324022, 0.46052356, 0.45653631, 0.36384106],\n",
              "       [0.45877095, 0.43832461, 0.45877095, 0.31430464],\n",
              "       [0.5150838 , 0.49005236, 0.5150838 , 0.31059603]])"
            ]
          },
          "metadata": {},
          "execution_count": 55
        }
      ]
    },
    {
      "cell_type": "markdown",
      "metadata": {
        "id": "UX8KwQIbDQkh"
      },
      "source": [
        "."
      ],
      "id": "UX8KwQIbDQkh"
    },
    {
      "cell_type": "code",
      "metadata": {
        "colab": {
          "base_uri": "https://localhost:8080/"
        },
        "id": "ijnxIJ1jkhaX",
        "outputId": "0cadca92-77c9-43e4-92b3-38c25dc3ef30"
      },
      "source": [
        "# defined simple linear regression on training set\n",
        "re = LinearRegression()\n",
        "re.fit(stock_train[['open','high', 'low', 'change']], stock_train['close'])"
      ],
      "id": "ijnxIJ1jkhaX",
      "execution_count": 56,
      "outputs": [
        {
          "output_type": "execute_result",
          "data": {
            "text/plain": [
              "LinearRegression()"
            ]
          },
          "metadata": {},
          "execution_count": 56
        }
      ]
    },
    {
      "cell_type": "code",
      "metadata": {
        "colab": {
          "base_uri": "https://localhost:8080/"
        },
        "id": "T2H5KKRXzLjy",
        "outputId": "a63461a9-ab34-4d7c-fb63-2eba0fa81675"
      },
      "source": [
        "# Scor on stock_train set\n",
        "re.score(stock_train[['open', 'high', 'low', 'change']], stock_train['close'])"
      ],
      "id": "T2H5KKRXzLjy",
      "execution_count": 57,
      "outputs": [
        {
          "output_type": "execute_result",
          "data": {
            "text/plain": [
              "0.8332839831073751"
            ]
          },
          "metadata": {},
          "execution_count": 57
        }
      ]
    },
    {
      "cell_type": "code",
      "metadata": {
        "colab": {
          "base_uri": "https://localhost:8080/"
        },
        "id": "K0_laUyLBZQU",
        "outputId": "556d7dd7-0804-49b4-b653-f7948a626019"
      },
      "source": [
        "# Scor on stock_validation set\n",
        "re.score(stock_val[['open', 'high', 'low', 'change']], stock_val['close'])"
      ],
      "id": "K0_laUyLBZQU",
      "execution_count": 58,
      "outputs": [
        {
          "output_type": "execute_result",
          "data": {
            "text/plain": [
              "0.8397766180870664"
            ]
          },
          "metadata": {},
          "execution_count": 58
        }
      ]
    },
    {
      "cell_type": "code",
      "metadata": {
        "id": "pPeHIjVwfnS9",
        "colab": {
          "base_uri": "https://localhost:8080/"
        },
        "outputId": "d6950cf5-6196-4e61-c6d6-b45b521b5b72"
      },
      "source": [
        "# Scor on stock_test set   \n",
        "re.score(stock_test[['open','high', 'low', 'change']], stock_test['close']) \n",
        "##  Overfitting problem  "
      ],
      "id": "pPeHIjVwfnS9",
      "execution_count": 59,
      "outputs": [
        {
          "output_type": "execute_result",
          "data": {
            "text/plain": [
              "0.9972360430872825"
            ]
          },
          "metadata": {},
          "execution_count": 59
        }
      ]
    },
    {
      "cell_type": "markdown",
      "metadata": {
        "id": "ErNcKA9hAl5R"
      },
      "source": [
        "Overfitting for test data \n",
        "so we are going to use decision trees.\n",
        "\n",
        "\n"
      ],
      "id": "ErNcKA9hAl5R"
    },
    {
      "cell_type": "markdown",
      "metadata": {
        "id": "0a17affc"
      },
      "source": [
        "**7.3 Random Forest Model Evaluation**"
      ],
      "id": "0a17affc"
    },
    {
      "cell_type": "code",
      "metadata": {
        "id": "1fc01257",
        "colab": {
          "base_uri": "https://localhost:8080/"
        },
        "outputId": "9c7cddd8-20ae-459a-de61-939914afa3e1"
      },
      "source": [
        " # Import Decision Tree Classifier\n",
        "dt = DecisionTreeRegressor()\n",
        "dt.fit(stock_train[['open','high', 'low', 'change']], stock_train['close'])"
      ],
      "id": "1fc01257",
      "execution_count": 60,
      "outputs": [
        {
          "output_type": "execute_result",
          "data": {
            "text/plain": [
              "DecisionTreeRegressor()"
            ]
          },
          "metadata": {},
          "execution_count": 60
        }
      ]
    },
    {
      "cell_type": "code",
      "metadata": {
        "id": "d98b891e",
        "colab": {
          "base_uri": "https://localhost:8080/"
        },
        "outputId": "e47643c8-1dbb-4137-cee4-25050cbb85ab"
      },
      "source": [
        "from sklearn.ensemble import RandomForestRegressor\n",
        "rf = RandomForestRegressor()\n",
        "rf.fit(stock_train[['open','high', 'low', 'change']], stock_train['close'])"
      ],
      "id": "d98b891e",
      "execution_count": 61,
      "outputs": [
        {
          "output_type": "execute_result",
          "data": {
            "text/plain": [
              "RandomForestRegressor()"
            ]
          },
          "metadata": {},
          "execution_count": 61
        }
      ]
    },
    {
      "cell_type": "code",
      "metadata": {
        "colab": {
          "base_uri": "https://localhost:8080/"
        },
        "id": "a73a18c6",
        "outputId": "856a9b3f-8dbd-4614-d3a2-ab9d7c4b96fa"
      },
      "source": [
        "rf.score(stock_train[['open', 'high', 'low', 'change']], stock_train['close'])"
      ],
      "id": "a73a18c6",
      "execution_count": 62,
      "outputs": [
        {
          "output_type": "execute_result",
          "data": {
            "text/plain": [
              "0.8673530794124849"
            ]
          },
          "metadata": {},
          "execution_count": 62
        }
      ]
    },
    {
      "cell_type": "code",
      "metadata": {
        "colab": {
          "base_uri": "https://localhost:8080/"
        },
        "id": "24a63f56",
        "outputId": "79b2e9cb-a60f-401e-b1a4-f274c1096a5a"
      },
      "source": [
        "dt.score(stock_train[['open', 'high', 'low', 'change']], stock_train['close'])"
      ],
      "id": "24a63f56",
      "execution_count": 63,
      "outputs": [
        {
          "output_type": "execute_result",
          "data": {
            "text/plain": [
              "0.8686057640017126"
            ]
          },
          "metadata": {},
          "execution_count": 63
        }
      ]
    },
    {
      "cell_type": "code",
      "metadata": {
        "colab": {
          "base_uri": "https://localhost:8080/"
        },
        "id": "93245968",
        "outputId": "859c8a35-d1b3-43b1-ada0-7bb392d938c6"
      },
      "source": [
        "dt.score(stock_test[['open','high', 'low', 'change']], stock_test['close'])"
      ],
      "id": "93245968",
      "execution_count": 64,
      "outputs": [
        {
          "output_type": "execute_result",
          "data": {
            "text/plain": [
              "0.6802028603546101"
            ]
          },
          "metadata": {},
          "execution_count": 64
        }
      ]
    },
    {
      "cell_type": "markdown",
      "metadata": {
        "id": "-5pqMVjwR0w9"
      },
      "source": [
        "Train and test are close, so no overfitting and no outliers"
      ],
      "id": "-5pqMVjwR0w9"
    },
    {
      "cell_type": "markdown",
      "metadata": {
        "id": "Fe48QcCD61jn"
      },
      "source": [
        "**7.4 R-squared**"
      ],
      "id": "Fe48QcCD61jn"
    },
    {
      "cell_type": "code",
      "metadata": {
        "id": "NuwjgEkP1fhx",
        "colab": {
          "base_uri": "https://localhost:8080/"
        },
        "outputId": "a6be32eb-d7c1-448d-edb8-f4f361d89307"
      },
      "source": [
        "# Compare the actual y values in the training set with the predicted values\n",
        "actual_train = stock_train['close']\n",
        "predicted_train = re.predict(x_train[['open','high', 'low', 'change']])\n",
        "predicted_train.shape"
      ],
      "id": "NuwjgEkP1fhx",
      "execution_count": 79,
      "outputs": [
        {
          "output_type": "execute_result",
          "data": {
            "text/plain": [
              "array([21.34326623, 26.7594002 , 16.66332803, ..., 30.66773037,\n",
              "       26.74079203, 26.2851574 ])"
            ]
          },
          "metadata": {},
          "execution_count": 79
        }
      ]
    },
    {
      "cell_type": "code",
      "metadata": {
        "id": "yab1Ksnf7Eg4",
        "colab": {
          "base_uri": "https://localhost:8080/"
        },
        "outputId": "9d7cee08-0cd7-42c7-8ffa-5df6e640e386"
      },
      "source": [
        "# Check the RMSE (root mean squared error) on the training data\n",
        "sqrt(mean_squared_error(actual_train, predicted_train))"
      ],
      "id": "yab1Ksnf7Eg4",
      "execution_count": 72,
      "outputs": [
        {
          "output_type": "execute_result",
          "data": {
            "text/plain": [
              "13.26103548802269"
            ]
          },
          "metadata": {},
          "execution_count": 72
        }
      ]
    },
    {
      "cell_type": "code",
      "metadata": {
        "colab": {
          "base_uri": "https://localhost:8080/",
          "height": 362
        },
        "id": "keUcxH93-yQj",
        "outputId": "2ecbceb2-12be-4ab1-9b95-b0f421e2527a"
      },
      "source": [
        "stocsk_train_column = {'prediction': list(predicted_train)}\n",
        "predicted_train = pd.DataFrame(data = stocsk_train_column)\n",
        "predicted_train.head(10)"
      ],
      "id": "keUcxH93-yQj",
      "execution_count": 73,
      "outputs": [
        {
          "output_type": "execute_result",
          "data": {
            "text/html": [
              "<div>\n",
              "<style scoped>\n",
              "    .dataframe tbody tr th:only-of-type {\n",
              "        vertical-align: middle;\n",
              "    }\n",
              "\n",
              "    .dataframe tbody tr th {\n",
              "        vertical-align: top;\n",
              "    }\n",
              "\n",
              "    .dataframe thead th {\n",
              "        text-align: right;\n",
              "    }\n",
              "</style>\n",
              "<table border=\"1\" class=\"dataframe\">\n",
              "  <thead>\n",
              "    <tr style=\"text-align: right;\">\n",
              "      <th></th>\n",
              "      <th>prediction</th>\n",
              "    </tr>\n",
              "  </thead>\n",
              "  <tbody>\n",
              "    <tr>\n",
              "      <th>0</th>\n",
              "      <td>21.343266</td>\n",
              "    </tr>\n",
              "    <tr>\n",
              "      <th>1</th>\n",
              "      <td>26.759400</td>\n",
              "    </tr>\n",
              "    <tr>\n",
              "      <th>2</th>\n",
              "      <td>16.663328</td>\n",
              "    </tr>\n",
              "    <tr>\n",
              "      <th>3</th>\n",
              "      <td>10.280961</td>\n",
              "    </tr>\n",
              "    <tr>\n",
              "      <th>4</th>\n",
              "      <td>28.064787</td>\n",
              "    </tr>\n",
              "    <tr>\n",
              "      <th>5</th>\n",
              "      <td>13.434055</td>\n",
              "    </tr>\n",
              "    <tr>\n",
              "      <th>6</th>\n",
              "      <td>9.482709</td>\n",
              "    </tr>\n",
              "    <tr>\n",
              "      <th>7</th>\n",
              "      <td>49.849529</td>\n",
              "    </tr>\n",
              "    <tr>\n",
              "      <th>8</th>\n",
              "      <td>16.956352</td>\n",
              "    </tr>\n",
              "    <tr>\n",
              "      <th>9</th>\n",
              "      <td>15.741141</td>\n",
              "    </tr>\n",
              "  </tbody>\n",
              "</table>\n",
              "</div>"
            ],
            "text/plain": [
              "   prediction\n",
              "0   21.343266\n",
              "1   26.759400\n",
              "2   16.663328\n",
              "3   10.280961\n",
              "4   28.064787\n",
              "5   13.434055\n",
              "6    9.482709\n",
              "7   49.849529\n",
              "8   16.956352\n",
              "9   15.741141"
            ]
          },
          "metadata": {},
          "execution_count": 73
        }
      ]
    },
    {
      "cell_type": "markdown",
      "metadata": {
        "id": "TPM6LItSPwlB"
      },
      "source": [
        "."
      ],
      "id": "TPM6LItSPwlB"
    },
    {
      "cell_type": "code",
      "metadata": {
        "id": "Nyg9vc6B29pT",
        "colab": {
          "base_uri": "https://localhost:8080/"
        },
        "outputId": "cc471eb7-c10b-4042-db33-a67ad8581d40"
      },
      "source": [
        "# Compare the actual y values in the test set with the predicted values\n",
        "actual_test = stock_test['close']\n",
        "predicted_test = re.predict(stock_test[['open','high', 'low', 'change']])\n",
        "predicted_test.shape"
      ],
      "id": "Nyg9vc6B29pT",
      "execution_count": 76,
      "outputs": [
        {
          "output_type": "execute_result",
          "data": {
            "text/plain": [
              "(6830,)"
            ]
          },
          "metadata": {},
          "execution_count": 76
        }
      ]
    },
    {
      "cell_type": "code",
      "metadata": {
        "colab": {
          "base_uri": "https://localhost:8080/"
        },
        "id": "-GJmjEkA9u-D",
        "outputId": "b46d100f-5d25-466f-a681-349d0bc6a114"
      },
      "source": [
        "# Check the RMSE (root mean squared error) on the test data\n",
        "sqrt(mean_squared_error(actual_test, predicted_test))"
      ],
      "id": "-GJmjEkA9u-D",
      "execution_count": 77,
      "outputs": [
        {
          "output_type": "execute_result",
          "data": {
            "text/plain": [
              "1.1952466252857985"
            ]
          },
          "metadata": {},
          "execution_count": 77
        }
      ]
    },
    {
      "cell_type": "code",
      "metadata": {
        "colab": {
          "base_uri": "https://localhost:8080/",
          "height": 362
        },
        "id": "Y1l7kjYTOEIR",
        "outputId": "0662a96e-50cd-474b-d3c9-f16cf397b1e9"
      },
      "source": [
        "stock_test_columns = {'prediction': list(predicted_test)}\n",
        "predicted_test = pd.DataFrame(data = stock_test_columns)\n",
        "predicted_test.head(10)"
      ],
      "id": "Y1l7kjYTOEIR",
      "execution_count": 78,
      "outputs": [
        {
          "output_type": "execute_result",
          "data": {
            "text/html": [
              "<div>\n",
              "<style scoped>\n",
              "    .dataframe tbody tr th:only-of-type {\n",
              "        vertical-align: middle;\n",
              "    }\n",
              "\n",
              "    .dataframe tbody tr th {\n",
              "        vertical-align: top;\n",
              "    }\n",
              "\n",
              "    .dataframe thead th {\n",
              "        text-align: right;\n",
              "    }\n",
              "</style>\n",
              "<table border=\"1\" class=\"dataframe\">\n",
              "  <thead>\n",
              "    <tr style=\"text-align: right;\">\n",
              "      <th></th>\n",
              "      <th>prediction</th>\n",
              "    </tr>\n",
              "  </thead>\n",
              "  <tbody>\n",
              "    <tr>\n",
              "      <th>0</th>\n",
              "      <td>32.250811</td>\n",
              "    </tr>\n",
              "    <tr>\n",
              "      <th>1</th>\n",
              "      <td>31.751176</td>\n",
              "    </tr>\n",
              "    <tr>\n",
              "      <th>2</th>\n",
              "      <td>32.648930</td>\n",
              "    </tr>\n",
              "    <tr>\n",
              "      <th>3</th>\n",
              "      <td>33.273690</td>\n",
              "    </tr>\n",
              "    <tr>\n",
              "      <th>4</th>\n",
              "      <td>33.296794</td>\n",
              "    </tr>\n",
              "    <tr>\n",
              "      <th>5</th>\n",
              "      <td>33.360556</td>\n",
              "    </tr>\n",
              "    <tr>\n",
              "      <th>6</th>\n",
              "      <td>34.139349</td>\n",
              "    </tr>\n",
              "    <tr>\n",
              "      <th>7</th>\n",
              "      <td>34.762317</td>\n",
              "    </tr>\n",
              "    <tr>\n",
              "      <th>8</th>\n",
              "      <td>35.382726</td>\n",
              "    </tr>\n",
              "    <tr>\n",
              "      <th>9</th>\n",
              "      <td>34.992741</td>\n",
              "    </tr>\n",
              "  </tbody>\n",
              "</table>\n",
              "</div>"
            ],
            "text/plain": [
              "   prediction\n",
              "0   32.250811\n",
              "1   31.751176\n",
              "2   32.648930\n",
              "3   33.273690\n",
              "4   33.296794\n",
              "5   33.360556\n",
              "6   34.139349\n",
              "7   34.762317\n",
              "8   35.382726\n",
              "9   34.992741"
            ]
          },
          "metadata": {},
          "execution_count": 78
        }
      ]
    }
  ]
}